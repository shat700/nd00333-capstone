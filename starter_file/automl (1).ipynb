{
  "cells": [
    {
      "cell_type": "markdown",
      "source": [
        "# Automated ML\n",
        "\n",
        "TODO: Import Dependencies. In the cell below, import all the dependencies that you will need to complete the project."
      ],
      "metadata": {}
    },
    {
      "cell_type": "code",
      "source": [
        "import os\r\n",
        "import joblib\r\n",
        "from azureml.core import Workspace, Experiment\r\n",
        "from azureml.data.dataset_factory import TabularDatasetFactory\r\n",
        "from azureml.core.compute import ComputeTarget, AmlCompute\r\n",
        "from azureml.train.automl import AutoMLConfig\r\n",
        "\r\n",
        "from matplotlib import pyplot as plt\r\n",
        "import numpy as np\r\n",
        "import pandas as pd\r\n",
        "\r\n",
        "ws = Workspace.from_config()\r\n",
        "print(ws.name, ws.resource_group, ws.location, ws.subscription_id, sep = '\\n')"
      ],
      "outputs": [
        {
          "output_type": "stream",
          "name": "stdout",
          "text": [
            "quick-starts-ws-136788\n",
            "aml-quickstarts-136788\n",
            "southcentralus\n",
            "cdbe0b43-92a0-4715-838a-f2648cc7ad21\n"
          ]
        }
      ],
      "execution_count": 1,
      "metadata": {
        "gather": {
          "logged": 1612141922303
        },
        "jupyter": {
          "outputs_hidden": false,
          "source_hidden": false
        },
        "nteract": {
          "transient": {
            "deleting": false
          }
        }
      }
    },
    {
      "cell_type": "markdown",
      "source": [
        "## Dataset\n",
        "\n",
        "### Overview\n",
        "TODO: In this markdown cell, give an overview of the dataset you are using. Also mention the task you will be performing.\n",
        "\n",
        "\n",
        "TODO: Get data. In the cell below, write code to access the data you will be using in this project. Remember that the dataset needs to be external."
      ],
      "metadata": {}
    },
    {
      "cell_type": "code",
      "source": [
        "#create compute cluster\r\n",
        "amlcompute_cluster_name=\"aml\"\r\n",
        "\r\n",
        "#verify that cluster does not already exist\r\n",
        "try:\r\n",
        "    aml_compute=ComputeTarget(workspace=ws, name=amlcompute_cluster_name)\r\n",
        "    print('Found existing cluster, use it.')\r\n",
        "except ComputeTargetException:\r\n",
        "    compute_config=AmlCompute.provisioning_configuration(vm_size=\"Standard_D3_V2\",max_nodes=4)\r\n",
        "    aml_compute=ComputeTarget.create(ws,amlcompute_cluster_name,compute_config)\r\n",
        "\r\n",
        "aml_compute.wait_for_completion(show_output=True)"
      ],
      "outputs": [
        {
          "output_type": "stream",
          "name": "stdout",
          "text": [
            "Found existing cluster, use it.\n",
            "\n",
            "Running\n"
          ]
        }
      ],
      "execution_count": 2,
      "metadata": {
        "collapsed": true,
        "jupyter": {
          "source_hidden": false,
          "outputs_hidden": false
        },
        "nteract": {
          "transient": {
            "deleting": false
          }
        },
        "gather": {
          "logged": 1612133490954
        }
      }
    },
    {
      "cell_type": "code",
      "source": [
        "# Create TabularDataset using TabularDatasetFactory\n",
        "# Data is available at: \n",
        "auto_ds_path=\"https://raw.githubusercontent.com/shat700/nd00333-capstone/master/starter_file/heart_failure_clinical_records_dataset.csv\"\n",
        "ds=TabularDatasetFactory.from_delimited_files(path=auto_ds_path)\n",
        "\n",
        "#preview data\n",
        "df = ds.to_pandas_dataframe()\n",
        "df.describe()\n",
        "\n"
      ],
      "outputs": [
        {
          "output_type": "execute_result",
          "execution_count": 3,
          "data": {
            "text/plain": "              age     anaemia  creatinine_phosphokinase    diabetes  \\\ncount  299.000000  299.000000                299.000000  299.000000   \nmean    60.833893    0.431438                581.839465    0.418060   \nstd     11.894809    0.496107                970.287881    0.494067   \nmin     40.000000    0.000000                 23.000000    0.000000   \n25%     51.000000    0.000000                116.500000    0.000000   \n50%     60.000000    0.000000                250.000000    0.000000   \n75%     70.000000    1.000000                582.000000    1.000000   \nmax     95.000000    1.000000               7861.000000    1.000000   \n\n       ejection_fraction  high_blood_pressure      platelets  \\\ncount         299.000000           299.000000     299.000000   \nmean           38.083612             0.351171  263358.029264   \nstd            11.834841             0.478136   97804.236869   \nmin            14.000000             0.000000   25100.000000   \n25%            30.000000             0.000000  212500.000000   \n50%            38.000000             0.000000  262000.000000   \n75%            45.000000             1.000000  303500.000000   \nmax            80.000000             1.000000  850000.000000   \n\n       serum_creatinine  serum_sodium         sex    smoking        time  \\\ncount         299.00000    299.000000  299.000000  299.00000  299.000000   \nmean            1.39388    136.625418    0.648829    0.32107  130.260870   \nstd             1.03451      4.412477    0.478136    0.46767   77.614208   \nmin             0.50000    113.000000    0.000000    0.00000    4.000000   \n25%             0.90000    134.000000    0.000000    0.00000   73.000000   \n50%             1.10000    137.000000    1.000000    0.00000  115.000000   \n75%             1.40000    140.000000    1.000000    1.00000  203.000000   \nmax             9.40000    148.000000    1.000000    1.00000  285.000000   \n\n       DEATH_EVENT  \ncount    299.00000  \nmean       0.32107  \nstd        0.46767  \nmin        0.00000  \n25%        0.00000  \n50%        0.00000  \n75%        1.00000  \nmax        1.00000  ",
            "text/html": "<div>\n<style scoped>\n    .dataframe tbody tr th:only-of-type {\n        vertical-align: middle;\n    }\n\n    .dataframe tbody tr th {\n        vertical-align: top;\n    }\n\n    .dataframe thead th {\n        text-align: right;\n    }\n</style>\n<table border=\"1\" class=\"dataframe\">\n  <thead>\n    <tr style=\"text-align: right;\">\n      <th></th>\n      <th>age</th>\n      <th>anaemia</th>\n      <th>creatinine_phosphokinase</th>\n      <th>diabetes</th>\n      <th>ejection_fraction</th>\n      <th>high_blood_pressure</th>\n      <th>platelets</th>\n      <th>serum_creatinine</th>\n      <th>serum_sodium</th>\n      <th>sex</th>\n      <th>smoking</th>\n      <th>time</th>\n      <th>DEATH_EVENT</th>\n    </tr>\n  </thead>\n  <tbody>\n    <tr>\n      <th>count</th>\n      <td>299.000000</td>\n      <td>299.000000</td>\n      <td>299.000000</td>\n      <td>299.000000</td>\n      <td>299.000000</td>\n      <td>299.000000</td>\n      <td>299.000000</td>\n      <td>299.00000</td>\n      <td>299.000000</td>\n      <td>299.000000</td>\n      <td>299.00000</td>\n      <td>299.000000</td>\n      <td>299.00000</td>\n    </tr>\n    <tr>\n      <th>mean</th>\n      <td>60.833893</td>\n      <td>0.431438</td>\n      <td>581.839465</td>\n      <td>0.418060</td>\n      <td>38.083612</td>\n      <td>0.351171</td>\n      <td>263358.029264</td>\n      <td>1.39388</td>\n      <td>136.625418</td>\n      <td>0.648829</td>\n      <td>0.32107</td>\n      <td>130.260870</td>\n      <td>0.32107</td>\n    </tr>\n    <tr>\n      <th>std</th>\n      <td>11.894809</td>\n      <td>0.496107</td>\n      <td>970.287881</td>\n      <td>0.494067</td>\n      <td>11.834841</td>\n      <td>0.478136</td>\n      <td>97804.236869</td>\n      <td>1.03451</td>\n      <td>4.412477</td>\n      <td>0.478136</td>\n      <td>0.46767</td>\n      <td>77.614208</td>\n      <td>0.46767</td>\n    </tr>\n    <tr>\n      <th>min</th>\n      <td>40.000000</td>\n      <td>0.000000</td>\n      <td>23.000000</td>\n      <td>0.000000</td>\n      <td>14.000000</td>\n      <td>0.000000</td>\n      <td>25100.000000</td>\n      <td>0.50000</td>\n      <td>113.000000</td>\n      <td>0.000000</td>\n      <td>0.00000</td>\n      <td>4.000000</td>\n      <td>0.00000</td>\n    </tr>\n    <tr>\n      <th>25%</th>\n      <td>51.000000</td>\n      <td>0.000000</td>\n      <td>116.500000</td>\n      <td>0.000000</td>\n      <td>30.000000</td>\n      <td>0.000000</td>\n      <td>212500.000000</td>\n      <td>0.90000</td>\n      <td>134.000000</td>\n      <td>0.000000</td>\n      <td>0.00000</td>\n      <td>73.000000</td>\n      <td>0.00000</td>\n    </tr>\n    <tr>\n      <th>50%</th>\n      <td>60.000000</td>\n      <td>0.000000</td>\n      <td>250.000000</td>\n      <td>0.000000</td>\n      <td>38.000000</td>\n      <td>0.000000</td>\n      <td>262000.000000</td>\n      <td>1.10000</td>\n      <td>137.000000</td>\n      <td>1.000000</td>\n      <td>0.00000</td>\n      <td>115.000000</td>\n      <td>0.00000</td>\n    </tr>\n    <tr>\n      <th>75%</th>\n      <td>70.000000</td>\n      <td>1.000000</td>\n      <td>582.000000</td>\n      <td>1.000000</td>\n      <td>45.000000</td>\n      <td>1.000000</td>\n      <td>303500.000000</td>\n      <td>1.40000</td>\n      <td>140.000000</td>\n      <td>1.000000</td>\n      <td>1.00000</td>\n      <td>203.000000</td>\n      <td>1.00000</td>\n    </tr>\n    <tr>\n      <th>max</th>\n      <td>95.000000</td>\n      <td>1.000000</td>\n      <td>7861.000000</td>\n      <td>1.000000</td>\n      <td>80.000000</td>\n      <td>1.000000</td>\n      <td>850000.000000</td>\n      <td>9.40000</td>\n      <td>148.000000</td>\n      <td>1.000000</td>\n      <td>1.00000</td>\n      <td>285.000000</td>\n      <td>1.00000</td>\n    </tr>\n  </tbody>\n</table>\n</div>"
          },
          "metadata": {}
        }
      ],
      "execution_count": 3,
      "metadata": {
        "gather": {
          "logged": 1612133506814
        },
        "jupyter": {
          "outputs_hidden": false,
          "source_hidden": false
        },
        "nteract": {
          "transient": {
            "deleting": false
          }
        }
      }
    },
    {
      "cell_type": "markdown",
      "source": [
        "## AutoML Configuration\n",
        "\n",
        "TODO: Explain why you chose the automl settings and cofiguration you used below."
      ],
      "metadata": {}
    },
    {
      "cell_type": "code",
      "source": [
        "import logging\n",
        "import time\n",
        "\n",
        "# TODO: Put your automl settings here\n",
        "automl_settings = {\n",
        "    \"n_cross_validations\":5,\n",
        "    \"primary_metric\":'accuracy',\n",
        "    \"enable_early_stopping\":True,\n",
        "    \"experiment_timeout_minutes\":15,\n",
        "    \"max_concurrent_iterations\":10,\n",
        "   }\n",
        "\n",
        "# TODO: Put your automl config here\n",
        "automl_config = AutoMLConfig(\n",
        "    task='classification',\n",
        "    compute_target='aml',\n",
        "    training_data=ds,\n",
        "    label_column_name='DEATH_EVENT',\n",
        "    **automl_settings\n",
        "    )"
      ],
      "outputs": [],
      "execution_count": 5,
      "metadata": {
        "gather": {
          "logged": 1612133538523
        },
        "jupyter": {
          "outputs_hidden": false,
          "source_hidden": false
        },
        "nteract": {
          "transient": {
            "deleting": false
          }
        }
      }
    },
    {
      "cell_type": "code",
      "source": [
        "from azureml.core.experiment import Experiment\n",
        "# choose a name for experiment\n",
        "experiment_name = 'automl_run'\n",
        "experiment=Experiment(ws, experiment_name)\n",
        "\n",
        "# TODO: Submit your experiment\n",
        "remote_run = experiment.submit(automl_config, show_output=True)"
      ],
      "outputs": [
        {
          "output_type": "stream",
          "name": "stdout",
          "text": [
            "Running on remote.\n",
            "Running on remote compute: aml\n",
            "Parent Run ID: AutoML_878c35a5-375e-4e3f-8bb4-9cfc49e36da9\n",
            "\n",
            "Current status: FeaturesGeneration. Generating features for the dataset.\n",
            "Current status: DatasetCrossValidationSplit. Generating individually featurized CV splits.\n",
            "Current status: ModelSelection. Beginning model selection.\n",
            "\n",
            "****************************************************************************************************\n",
            "DATA GUARDRAILS: \n",
            "\n",
            "TYPE:         Class balancing detection\n",
            "STATUS:       PASSED\n",
            "DESCRIPTION:  Your inputs were analyzed, and all classes are balanced in your training data.\n",
            "              Learn more about imbalanced data: https://aka.ms/AutomatedMLImbalancedData\n",
            "\n",
            "****************************************************************************************************\n",
            "\n",
            "TYPE:         Missing feature values imputation\n",
            "STATUS:       PASSED\n",
            "DESCRIPTION:  No feature missing values were detected in the training data.\n",
            "              Learn more about missing value imputation: https://aka.ms/AutomatedMLFeaturization\n",
            "\n",
            "****************************************************************************************************\n",
            "\n",
            "TYPE:         High cardinality feature detection\n",
            "STATUS:       PASSED\n",
            "DESCRIPTION:  Your inputs were analyzed, and no high cardinality features were detected.\n",
            "              Learn more about high cardinality feature handling: https://aka.ms/AutomatedMLFeaturization\n",
            "\n",
            "****************************************************************************************************\n",
            "\n",
            "****************************************************************************************************\n",
            "ITERATION: The iteration being evaluated.\n",
            "PIPELINE: A summary description of the pipeline being evaluated.\n",
            "DURATION: Time taken for the current iteration.\n",
            "METRIC: The result of computing score on the fitted pipeline.\n",
            "BEST: The best observed score thus far.\n",
            "****************************************************************************************************\n",
            "\n",
            " ITERATION   PIPELINE                                       DURATION      METRIC      BEST\n",
            "         0   MaxAbsScaler LightGBM                          0:00:57       0.8060    0.8060\n",
            "         3   MinMaxScaler RandomForest                      0:00:55       0.8160    0.8160\n",
            "         5   StandardScalerWrapper KNN                      0:01:01       0.6992    0.8160\n",
            "         7   RobustScaler SVM                               0:01:01       0.7024    0.8160\n",
            "         8   SparseNormalizer XGBoostClassifier             0:00:57       0.8029    0.8160\n",
            "         4   MinMaxScaler RandomForest                      0:01:06       0.8358    0.8358\n",
            "         6   StandardScalerWrapper LightGBM                 0:01:07       0.8327    0.8358\n",
            "         9   StandardScalerWrapper XGBoostClassifier        0:01:12       0.8425    0.8425\n",
            "         2   MinMaxScaler RandomForest                      0:00:56       0.8227    0.8425\n",
            "         1   MaxAbsScaler XGBoostClassifier                 0:00:59       0.8259    0.8425\n",
            "        10   SparseNormalizer LightGBM                      0:01:04       0.8430    0.8430\n",
            "        11   SparseNormalizer XGBoostClassifier             0:01:07       0.8496    0.8496\n",
            "        13   SparseNormalizer XGBoostClassifier             0:00:58       0.8196    0.8496\n",
            "        14   RobustScaler ExtremeRandomTrees                0:01:04       0.8562    0.8562\n",
            "        12   MaxAbsScaler GradientBoosting                  0:01:27       0.8260    0.8562\n",
            "        15   MinMaxScaler LightGBM                          0:01:04       0.8327    0.8562\n",
            "        16   SparseNormalizer XGBoostClassifier             0:01:01       0.8294    0.8562\n",
            "        17   MaxAbsScaler LightGBM                          0:01:04       0.8360    0.8562\n",
            "        18   SparseNormalizer XGBoostClassifier             0:00:57       0.8363    0.8562\n",
            "        19   StandardScalerWrapper LightGBM                 0:00:59       0.8294    0.8562\n",
            "        20   SparseNormalizer LightGBM                      0:00:52       0.8330    0.8562\n",
            "        21   StandardScalerWrapper XGBoostClassifier        0:00:53       0.8061    0.8562\n",
            "        22   MaxAbsScaler LightGBM                          0:00:54       0.8227    0.8562\n",
            "        23   StandardScalerWrapper XGBoostClassifier        0:01:12       0.8227    0.8562\n",
            "        24   MinMaxScaler ExtremeRandomTrees                0:00:56       0.8496    0.8562\n",
            "        25   RobustScaler ExtremeRandomTrees                0:00:55       0.8429    0.8562\n",
            "        26   RobustScaler ExtremeRandomTrees                0:00:53       0.8529    0.8562\n",
            "        27   SparseNormalizer LightGBM                      0:00:58       0.8295    0.8562\n",
            "        28   MinMaxScaler LightGBM                          0:00:55       0.8293    0.8562\n",
            "        29   SparseNormalizer XGBoostClassifier             0:00:59       0.8228    0.8562\n",
            "        30   SparseNormalizer ExtremeRandomTrees            0:01:24       0.6791    0.8562\n",
            "        32   StandardScalerWrapper LightGBM                 0:00:55       0.7025    0.8562\n",
            "        31   StandardScalerWrapper LightGBM                 0:01:06       0.7960    0.8562\n",
            "        33   StandardScalerWrapper LightGBM                 0:00:52       0.7526    0.8562\n",
            "        34   StandardScalerWrapper ExtremeRandomTrees       0:00:50       0.6791    0.8562\n",
            "        35   MaxAbsScaler ExtremeRandomTrees                0:00:57       0.8429    0.8562\n",
            "        36   SparseNormalizer XGBoostClassifier             0:01:14       0.8328    0.8562\n",
            "        37   SparseNormalizer XGBoostClassifier             0:00:57       0.8395    0.8562\n",
            "        38   MinMaxScaler LightGBM                          0:01:15       0.8327    0.8562\n",
            "        39   MinMaxScaler LightGBM                          0:00:58       0.8360    0.8562\n",
            "        40   RobustScaler ExtremeRandomTrees                0:00:58       0.6791    0.8562\n",
            "        41   MinMaxScaler LightGBM                          0:00:53       0.8162    0.8562\n",
            "        42   SparseNormalizer ExtremeRandomTrees            0:00:48       0.7860    0.8562\n",
            "        43   StandardScalerWrapper RandomForest             0:00:40       0.8024    0.8562\n",
            "        44                                                  0:00:08          nan    0.8562\n",
            "        45                                                  0:00:41          nan    0.8562\n",
            "        46                                                  0:00:19          nan    0.8562\n",
            "        47    VotingEnsemble                                0:01:37       0.8663    0.8663\n",
            "        48    StackEnsemble                                 0:01:41       0.8529    0.8663\n"
          ]
        }
      ],
      "execution_count": 8,
      "metadata": {
        "gather": {
          "logged": 1612135133527
        },
        "jupyter": {
          "outputs_hidden": false,
          "source_hidden": false
        },
        "nteract": {
          "transient": {
            "deleting": false
          }
        }
      }
    },
    {
      "cell_type": "markdown",
      "source": [
        "## Run Details\n",
        "\n",
        "OPTIONAL: Write about the different models trained and their performance. Why do you think some models did better than others?\n",
        "\n",
        "TODO: In the cell below, use the `RunDetails` widget to show the different experiments."
      ],
      "metadata": {}
    },
    {
      "cell_type": "code",
      "source": [
        "from azureml.widgets import RunDetails\r\n",
        "RunDetails(remote_run).show()"
      ],
      "outputs": [
        {
          "output_type": "display_data",
          "data": {
            "text/plain": "_AutoMLWidget(widget_settings={'childWidgetDisplay': 'popup', 'send_telemetry': False, 'log_level': 'INFO', 's…",
            "application/vnd.jupyter.widget-view+json": {
              "version_major": 2,
              "version_minor": 0,
              "model_id": "965fbf15842d4c72a0089d5509469e3a"
            }
          },
          "metadata": {}
        },
        {
          "output_type": "display_data",
          "data": {
            "application/aml.mini.widget.v1": "{\"status\": \"Completed\", \"workbench_run_details_uri\": \"https://ml.azure.com/experiments/automl_run/runs/AutoML_878c35a5-375e-4e3f-8bb4-9cfc49e36da9?wsid=/subscriptions/cdbe0b43-92a0-4715-838a-f2648cc7ad21/resourcegroups/aml-quickstarts-136788/workspaces/quick-starts-ws-136788\", \"run_id\": \"AutoML_878c35a5-375e-4e3f-8bb4-9cfc49e36da9\", \"run_properties\": {\"run_id\": \"AutoML_878c35a5-375e-4e3f-8bb4-9cfc49e36da9\", \"created_utc\": \"2021-01-31T23:07:07.656452Z\", \"properties\": {\"num_iterations\": \"1000\", \"training_type\": \"TrainFull\", \"acquisition_function\": \"EI\", \"primary_metric\": \"accuracy\", \"train_split\": \"0\", \"acquisition_parameter\": \"0\", \"num_cross_validation\": \"5\", \"target\": \"aml\", \"AMLSettingsJsonString\": \"{\\\"path\\\":null,\\\"name\\\":\\\"automl_run\\\",\\\"subscription_id\\\":\\\"cdbe0b43-92a0-4715-838a-f2648cc7ad21\\\",\\\"resource_group\\\":\\\"aml-quickstarts-136788\\\",\\\"workspace_name\\\":\\\"quick-starts-ws-136788\\\",\\\"region\\\":\\\"southcentralus\\\",\\\"compute_target\\\":\\\"aml\\\",\\\"spark_service\\\":null,\\\"azure_service\\\":\\\"remote\\\",\\\"many_models\\\":false,\\\"pipeline_fetch_max_batch_size\\\":1,\\\"iterations\\\":1000,\\\"primary_metric\\\":\\\"accuracy\\\",\\\"task_type\\\":\\\"classification\\\",\\\"data_script\\\":null,\\\"validation_size\\\":0.0,\\\"n_cross_validations\\\":5,\\\"y_min\\\":null,\\\"y_max\\\":null,\\\"num_classes\\\":null,\\\"featurization\\\":\\\"auto\\\",\\\"_ignore_package_version_incompatibilities\\\":false,\\\"is_timeseries\\\":false,\\\"max_cores_per_iteration\\\":1,\\\"max_concurrent_iterations\\\":10,\\\"iteration_timeout_minutes\\\":null,\\\"mem_in_mb\\\":null,\\\"enforce_time_on_windows\\\":false,\\\"experiment_timeout_minutes\\\":15,\\\"experiment_exit_score\\\":null,\\\"whitelist_models\\\":null,\\\"blacklist_algos\\\":[\\\"TensorFlowLinearClassifier\\\",\\\"TensorFlowDNN\\\"],\\\"supported_models\\\":[\\\"GradientBoosting\\\",\\\"LogisticRegression\\\",\\\"DecisionTree\\\",\\\"LightGBM\\\",\\\"TensorFlowDNN\\\",\\\"SVM\\\",\\\"LinearSVM\\\",\\\"KNN\\\",\\\"SGD\\\",\\\"TensorFlowLinearClassifier\\\",\\\"AveragedPerceptronClassifier\\\",\\\"BernoulliNaiveBayes\\\",\\\"XGBoostClassifier\\\",\\\"ExtremeRandomTrees\\\",\\\"RandomForest\\\",\\\"MultinomialNaiveBayes\\\"],\\\"auto_blacklist\\\":true,\\\"blacklist_samples_reached\\\":false,\\\"exclude_nan_labels\\\":true,\\\"verbosity\\\":20,\\\"_debug_log\\\":\\\"azureml_automl.log\\\",\\\"show_warnings\\\":false,\\\"model_explainability\\\":true,\\\"service_url\\\":null,\\\"sdk_url\\\":null,\\\"sdk_packages\\\":null,\\\"enable_onnx_compatible_models\\\":false,\\\"enable_split_onnx_featurizer_estimator_models\\\":false,\\\"vm_type\\\":\\\"STANDARD_DS3_V2\\\",\\\"telemetry_verbosity\\\":20,\\\"send_telemetry\\\":true,\\\"enable_dnn\\\":false,\\\"scenario\\\":\\\"SDK-1.13.0\\\",\\\"environment_label\\\":null,\\\"force_text_dnn\\\":false,\\\"enable_feature_sweeping\\\":true,\\\"enable_early_stopping\\\":true,\\\"early_stopping_n_iters\\\":10,\\\"metrics\\\":null,\\\"enable_ensembling\\\":true,\\\"enable_stack_ensembling\\\":true,\\\"ensemble_iterations\\\":15,\\\"enable_tf\\\":false,\\\"enable_subsampling\\\":null,\\\"subsample_seed\\\":null,\\\"enable_nimbusml\\\":false,\\\"enable_streaming\\\":false,\\\"force_streaming\\\":false,\\\"track_child_runs\\\":true,\\\"allowed_private_models\\\":[],\\\"label_column_name\\\":\\\"DEATH_EVENT\\\",\\\"weight_column_name\\\":null,\\\"cv_split_column_names\\\":null,\\\"enable_local_managed\\\":false,\\\"_local_managed_run_id\\\":null,\\\"cost_mode\\\":1,\\\"lag_length\\\":0,\\\"metric_operation\\\":\\\"maximize\\\",\\\"preprocess\\\":true}\", \"DataPrepJsonString\": \"{\\\\\\\"training_data\\\\\\\": \\\\\\\"{\\\\\\\\\\\\\\\"blocks\\\\\\\\\\\\\\\": [{\\\\\\\\\\\\\\\"id\\\\\\\\\\\\\\\": \\\\\\\\\\\\\\\"17c03978-7a42-410f-92ca-b24dcc38dd0e\\\\\\\\\\\\\\\", \\\\\\\\\\\\\\\"type\\\\\\\\\\\\\\\": \\\\\\\\\\\\\\\"Microsoft.DPrep.GetFilesBlock\\\\\\\\\\\\\\\", \\\\\\\\\\\\\\\"arguments\\\\\\\\\\\\\\\": {\\\\\\\\\\\\\\\"isArchive\\\\\\\\\\\\\\\": false, \\\\\\\\\\\\\\\"path\\\\\\\\\\\\\\\": {\\\\\\\\\\\\\\\"target\\\\\\\\\\\\\\\": 4, \\\\\\\\\\\\\\\"resourceDetails\\\\\\\\\\\\\\\": [{\\\\\\\\\\\\\\\"path\\\\\\\\\\\\\\\": \\\\\\\\\\\\\\\"https://raw.githubusercontent.com/shat700/nd00333-capstone/master/starter_file/heart_failure_clinical_records_dataset.csv\\\\\\\\\\\\\\\"}]}}, \\\\\\\\\\\\\\\"localData\\\\\\\\\\\\\\\": {}, \\\\\\\\\\\\\\\"isEnabled\\\\\\\\\\\\\\\": true, \\\\\\\\\\\\\\\"name\\\\\\\\\\\\\\\": null, \\\\\\\\\\\\\\\"annotation\\\\\\\\\\\\\\\": null}, {\\\\\\\\\\\\\\\"id\\\\\\\\\\\\\\\": \\\\\\\\\\\\\\\"37f7098c-8f11-4c5f-8dfa-3fe33d8a77e9\\\\\\\\\\\\\\\", \\\\\\\\\\\\\\\"type\\\\\\\\\\\\\\\": \\\\\\\\\\\\\\\"Microsoft.DPrep.ParseDelimitedBlock\\\\\\\\\\\\\\\", \\\\\\\\\\\\\\\"arguments\\\\\\\\\\\\\\\": {\\\\\\\\\\\\\\\"columnHeadersMode\\\\\\\\\\\\\\\": 3, \\\\\\\\\\\\\\\"fileEncoding\\\\\\\\\\\\\\\": 0, \\\\\\\\\\\\\\\"handleQuotedLineBreaks\\\\\\\\\\\\\\\": false, \\\\\\\\\\\\\\\"preview\\\\\\\\\\\\\\\": false, \\\\\\\\\\\\\\\"separator\\\\\\\\\\\\\\\": \\\\\\\\\\\\\\\",\\\\\\\\\\\\\\\", \\\\\\\\\\\\\\\"skipRows\\\\\\\\\\\\\\\": 0, \\\\\\\\\\\\\\\"skipRowsMode\\\\\\\\\\\\\\\": 0}, \\\\\\\\\\\\\\\"localData\\\\\\\\\\\\\\\": {}, \\\\\\\\\\\\\\\"isEnabled\\\\\\\\\\\\\\\": true, \\\\\\\\\\\\\\\"name\\\\\\\\\\\\\\\": null, \\\\\\\\\\\\\\\"annotation\\\\\\\\\\\\\\\": null}, {\\\\\\\\\\\\\\\"id\\\\\\\\\\\\\\\": \\\\\\\\\\\\\\\"f4eff146-9afc-436f-b7b7-46d22196b5f6\\\\\\\\\\\\\\\", \\\\\\\\\\\\\\\"type\\\\\\\\\\\\\\\": \\\\\\\\\\\\\\\"Microsoft.DPrep.DropColumnsBlock\\\\\\\\\\\\\\\", \\\\\\\\\\\\\\\"arguments\\\\\\\\\\\\\\\": {\\\\\\\\\\\\\\\"columns\\\\\\\\\\\\\\\": {\\\\\\\\\\\\\\\"type\\\\\\\\\\\\\\\": 0, \\\\\\\\\\\\\\\"details\\\\\\\\\\\\\\\": {\\\\\\\\\\\\\\\"selectedColumns\\\\\\\\\\\\\\\": [\\\\\\\\\\\\\\\"Path\\\\\\\\\\\\\\\"]}}}, \\\\\\\\\\\\\\\"localData\\\\\\\\\\\\\\\": {}, \\\\\\\\\\\\\\\"isEnabled\\\\\\\\\\\\\\\": true, \\\\\\\\\\\\\\\"name\\\\\\\\\\\\\\\": null, \\\\\\\\\\\\\\\"annotation\\\\\\\\\\\\\\\": null}, {\\\\\\\\\\\\\\\"id\\\\\\\\\\\\\\\": \\\\\\\\\\\\\\\"958f375a-cf78-45e0-9a7d-09f89438001d\\\\\\\\\\\\\\\", \\\\\\\\\\\\\\\"type\\\\\\\\\\\\\\\": \\\\\\\\\\\\\\\"Microsoft.DPrep.SetColumnTypesBlock\\\\\\\\\\\\\\\", \\\\\\\\\\\\\\\"arguments\\\\\\\\\\\\\\\": {\\\\\\\\\\\\\\\"columnConversion\\\\\\\\\\\\\\\": [{\\\\\\\\\\\\\\\"column\\\\\\\\\\\\\\\": {\\\\\\\\\\\\\\\"type\\\\\\\\\\\\\\\": 2, \\\\\\\\\\\\\\\"details\\\\\\\\\\\\\\\": {\\\\\\\\\\\\\\\"selectedColumn\\\\\\\\\\\\\\\": \\\\\\\\\\\\\\\"age\\\\\\\\\\\\\\\"}}, \\\\\\\\\\\\\\\"typeProperty\\\\\\\\\\\\\\\": 3}, {\\\\\\\\\\\\\\\"column\\\\\\\\\\\\\\\": {\\\\\\\\\\\\\\\"type\\\\\\\\\\\\\\\": 2, \\\\\\\\\\\\\\\"details\\\\\\\\\\\\\\\": {\\\\\\\\\\\\\\\"selectedColumn\\\\\\\\\\\\\\\": \\\\\\\\\\\\\\\"anaemia\\\\\\\\\\\\\\\"}}, \\\\\\\\\\\\\\\"typeProperty\\\\\\\\\\\\\\\": 2}, {\\\\\\\\\\\\\\\"column\\\\\\\\\\\\\\\": {\\\\\\\\\\\\\\\"type\\\\\\\\\\\\\\\": 2, \\\\\\\\\\\\\\\"details\\\\\\\\\\\\\\\": {\\\\\\\\\\\\\\\"selectedColumn\\\\\\\\\\\\\\\": \\\\\\\\\\\\\\\"creatinine_phosphokinase\\\\\\\\\\\\\\\"}}, \\\\\\\\\\\\\\\"typeProperty\\\\\\\\\\\\\\\": 2}, {\\\\\\\\\\\\\\\"column\\\\\\\\\\\\\\\": {\\\\\\\\\\\\\\\"type\\\\\\\\\\\\\\\": 2, \\\\\\\\\\\\\\\"details\\\\\\\\\\\\\\\": {\\\\\\\\\\\\\\\"selectedColumn\\\\\\\\\\\\\\\": \\\\\\\\\\\\\\\"diabetes\\\\\\\\\\\\\\\"}}, \\\\\\\\\\\\\\\"typeProperty\\\\\\\\\\\\\\\": 2}, {\\\\\\\\\\\\\\\"column\\\\\\\\\\\\\\\": {\\\\\\\\\\\\\\\"type\\\\\\\\\\\\\\\": 2, \\\\\\\\\\\\\\\"details\\\\\\\\\\\\\\\": {\\\\\\\\\\\\\\\"selectedColumn\\\\\\\\\\\\\\\": \\\\\\\\\\\\\\\"ejection_fraction\\\\\\\\\\\\\\\"}}, \\\\\\\\\\\\\\\"typeProperty\\\\\\\\\\\\\\\": 2}, {\\\\\\\\\\\\\\\"column\\\\\\\\\\\\\\\": {\\\\\\\\\\\\\\\"type\\\\\\\\\\\\\\\": 2, \\\\\\\\\\\\\\\"details\\\\\\\\\\\\\\\": {\\\\\\\\\\\\\\\"selectedColumn\\\\\\\\\\\\\\\": \\\\\\\\\\\\\\\"high_blood_pressure\\\\\\\\\\\\\\\"}}, \\\\\\\\\\\\\\\"typeProperty\\\\\\\\\\\\\\\": 2}, {\\\\\\\\\\\\\\\"column\\\\\\\\\\\\\\\": {\\\\\\\\\\\\\\\"type\\\\\\\\\\\\\\\": 2, \\\\\\\\\\\\\\\"details\\\\\\\\\\\\\\\": {\\\\\\\\\\\\\\\"selectedColumn\\\\\\\\\\\\\\\": \\\\\\\\\\\\\\\"platelets\\\\\\\\\\\\\\\"}}, \\\\\\\\\\\\\\\"typeProperty\\\\\\\\\\\\\\\": 3}, {\\\\\\\\\\\\\\\"column\\\\\\\\\\\\\\\": {\\\\\\\\\\\\\\\"type\\\\\\\\\\\\\\\": 2, \\\\\\\\\\\\\\\"details\\\\\\\\\\\\\\\": {\\\\\\\\\\\\\\\"selectedColumn\\\\\\\\\\\\\\\": \\\\\\\\\\\\\\\"serum_creatinine\\\\\\\\\\\\\\\"}}, \\\\\\\\\\\\\\\"typeProperty\\\\\\\\\\\\\\\": 3}, {\\\\\\\\\\\\\\\"column\\\\\\\\\\\\\\\": {\\\\\\\\\\\\\\\"type\\\\\\\\\\\\\\\": 2, \\\\\\\\\\\\\\\"details\\\\\\\\\\\\\\\": {\\\\\\\\\\\\\\\"selectedColumn\\\\\\\\\\\\\\\": \\\\\\\\\\\\\\\"serum_sodium\\\\\\\\\\\\\\\"}}, \\\\\\\\\\\\\\\"typeProperty\\\\\\\\\\\\\\\": 2}, {\\\\\\\\\\\\\\\"column\\\\\\\\\\\\\\\": {\\\\\\\\\\\\\\\"type\\\\\\\\\\\\\\\": 2, \\\\\\\\\\\\\\\"details\\\\\\\\\\\\\\\": {\\\\\\\\\\\\\\\"selectedColumn\\\\\\\\\\\\\\\": \\\\\\\\\\\\\\\"sex\\\\\\\\\\\\\\\"}}, \\\\\\\\\\\\\\\"typeProperty\\\\\\\\\\\\\\\": 2}, {\\\\\\\\\\\\\\\"column\\\\\\\\\\\\\\\": {\\\\\\\\\\\\\\\"type\\\\\\\\\\\\\\\": 2, \\\\\\\\\\\\\\\"details\\\\\\\\\\\\\\\": {\\\\\\\\\\\\\\\"selectedColumn\\\\\\\\\\\\\\\": \\\\\\\\\\\\\\\"smoking\\\\\\\\\\\\\\\"}}, \\\\\\\\\\\\\\\"typeProperty\\\\\\\\\\\\\\\": 2}, {\\\\\\\\\\\\\\\"column\\\\\\\\\\\\\\\": {\\\\\\\\\\\\\\\"type\\\\\\\\\\\\\\\": 2, \\\\\\\\\\\\\\\"details\\\\\\\\\\\\\\\": {\\\\\\\\\\\\\\\"selectedColumn\\\\\\\\\\\\\\\": \\\\\\\\\\\\\\\"time\\\\\\\\\\\\\\\"}}, \\\\\\\\\\\\\\\"typeProperty\\\\\\\\\\\\\\\": 2}, {\\\\\\\\\\\\\\\"column\\\\\\\\\\\\\\\": {\\\\\\\\\\\\\\\"type\\\\\\\\\\\\\\\": 2, \\\\\\\\\\\\\\\"details\\\\\\\\\\\\\\\": {\\\\\\\\\\\\\\\"selectedColumn\\\\\\\\\\\\\\\": \\\\\\\\\\\\\\\"DEATH_EVENT\\\\\\\\\\\\\\\"}}, \\\\\\\\\\\\\\\"typeProperty\\\\\\\\\\\\\\\": 2}]}, \\\\\\\\\\\\\\\"localData\\\\\\\\\\\\\\\": {}, \\\\\\\\\\\\\\\"isEnabled\\\\\\\\\\\\\\\": true, \\\\\\\\\\\\\\\"name\\\\\\\\\\\\\\\": null, \\\\\\\\\\\\\\\"annotation\\\\\\\\\\\\\\\": null}], \\\\\\\\\\\\\\\"inspectors\\\\\\\\\\\\\\\": [], \\\\\\\\\\\\\\\"meta\\\\\\\\\\\\\\\": {\\\\\\\\\\\\\\\"savedDatasetId\\\\\\\\\\\\\\\": \\\\\\\\\\\\\\\"d170fb36-2cff-4389-822f-03c855bac613\\\\\\\\\\\\\\\", \\\\\\\\\\\\\\\"datasetType\\\\\\\\\\\\\\\": \\\\\\\\\\\\\\\"tabular\\\\\\\\\\\\\\\", \\\\\\\\\\\\\\\"subscriptionId\\\\\\\\\\\\\\\": \\\\\\\\\\\\\\\"cdbe0b43-92a0-4715-838a-f2648cc7ad21\\\\\\\\\\\\\\\", \\\\\\\\\\\\\\\"workspaceId\\\\\\\\\\\\\\\": \\\\\\\\\\\\\\\"86f163da-5c4d-45b6-a899-475ecb1a924b\\\\\\\\\\\\\\\", \\\\\\\\\\\\\\\"workspaceLocation\\\\\\\\\\\\\\\": \\\\\\\\\\\\\\\"southcentralus\\\\\\\\\\\\\\\"}}\\\\\\\", \\\\\\\"activities\\\\\\\": 0}\", \"EnableSubsampling\": null, \"runTemplate\": \"AutoML\", \"azureml.runsource\": \"automl\", \"display_task_type\": \"classification\", \"dependencies_versions\": \"{\\\"azureml-widgets\\\": \\\"1.20.0\\\", \\\"azureml-train\\\": \\\"1.20.0\\\", \\\"azureml-train-restclients-hyperdrive\\\": \\\"1.20.0\\\", \\\"azureml-train-core\\\": \\\"1.20.0\\\", \\\"azureml-train-automl\\\": \\\"1.20.0\\\", \\\"azureml-train-automl-runtime\\\": \\\"1.20.0\\\", \\\"azureml-train-automl-client\\\": \\\"1.20.0\\\", \\\"azureml-tensorboard\\\": \\\"1.20.0\\\", \\\"azureml-telemetry\\\": \\\"1.20.0\\\", \\\"azureml-sdk\\\": \\\"1.20.0\\\", \\\"azureml-samples\\\": \\\"0+unknown\\\", \\\"azureml-pipeline\\\": \\\"1.20.0\\\", \\\"azureml-pipeline-steps\\\": \\\"1.20.0\\\", \\\"azureml-pipeline-core\\\": \\\"1.20.0\\\", \\\"azureml-opendatasets\\\": \\\"1.20.0\\\", \\\"azureml-model-management-sdk\\\": \\\"1.0.1b6.post1\\\", \\\"azureml-mlflow\\\": \\\"1.20.0.post1\\\", \\\"azureml-interpret\\\": \\\"1.20.0\\\", \\\"azureml-explain-model\\\": \\\"1.20.0\\\", \\\"azureml-defaults\\\": \\\"1.20.0\\\", \\\"azureml-dataset-runtime\\\": \\\"1.20.0\\\", \\\"azureml-dataprep\\\": \\\"2.7.3\\\", \\\"azureml-dataprep-rslex\\\": \\\"1.5.0\\\", \\\"azureml-dataprep-native\\\": \\\"27.0.0\\\", \\\"azureml-datadrift\\\": \\\"1.20.0\\\", \\\"azureml-core\\\": \\\"1.20.0\\\", \\\"azureml-contrib-services\\\": \\\"1.20.0\\\", \\\"azureml-contrib-server\\\": \\\"1.20.0\\\", \\\"azureml-contrib-reinforcementlearning\\\": \\\"1.20.0\\\", \\\"azureml-contrib-pipeline-steps\\\": \\\"1.20.0\\\", \\\"azureml-contrib-notebook\\\": \\\"1.20.0\\\", \\\"azureml-contrib-interpret\\\": \\\"1.20.0\\\", \\\"azureml-contrib-gbdt\\\": \\\"1.20.0\\\", \\\"azureml-contrib-fairness\\\": \\\"1.20.0\\\", \\\"azureml-contrib-dataset\\\": \\\"1.20.0\\\", \\\"azureml-cli-common\\\": \\\"1.20.0\\\", \\\"azureml-automl-runtime\\\": \\\"1.20.0\\\", \\\"azureml-automl-core\\\": \\\"1.20.0\\\", \\\"azureml-accel-models\\\": \\\"1.20.0\\\"}\", \"_aml_system_scenario_identification\": \"Remote.Parent\", \"ClientType\": \"SDK\", \"environment_cpu_name\": \"AzureML-AutoML\", \"environment_cpu_label\": \"prod\", \"environment_gpu_name\": \"AzureML-AutoML-GPU\", \"environment_gpu_label\": \"prod\", \"root_attribution\": \"automl\", \"attribution\": \"AutoML\", \"Orchestrator\": \"AutoML\", \"CancelUri\": \"https://southcentralus.experiments.azureml.net/jasmine/v1.0/subscriptions/cdbe0b43-92a0-4715-838a-f2648cc7ad21/resourceGroups/aml-quickstarts-136788/providers/Microsoft.MachineLearningServices/workspaces/quick-starts-ws-136788/experimentids/687636bd-db9c-463b-a2a1-26c9ce1d7ba5/cancel/AutoML_878c35a5-375e-4e3f-8bb4-9cfc49e36da9\", \"ClientSdkVersion\": \"1.20.0.post1\", \"snapshotId\": \"00000000-0000-0000-0000-000000000000\", \"SetupRunId\": \"AutoML_878c35a5-375e-4e3f-8bb4-9cfc49e36da9_setup\", \"SetupRunContainerId\": \"dcid.AutoML_878c35a5-375e-4e3f-8bb4-9cfc49e36da9_setup\", \"FeaturizationRunJsonPath\": \"featurizer_container.json\", \"FeaturizationRunId\": \"AutoML_878c35a5-375e-4e3f-8bb4-9cfc49e36da9_featurize\", \"ProblemInfoJsonString\": \"{\\\"dataset_num_categorical\\\": 0, \\\"is_sparse\\\": false, \\\"subsampling\\\": false, \\\"dataset_classes\\\": 2, \\\"dataset_features\\\": 12, \\\"dataset_samples\\\": 299, \\\"single_frequency_class_detected\\\": false}\", \"ModelExplainRunId\": \"AutoML_878c35a5-375e-4e3f-8bb4-9cfc49e36da9_ModelExplain\"}, \"tags\": {\"model_explain_run\": \"best_run\", \"_aml_system_azureml.automlComponent\": \"AutoML\", \"pipeline_id\": \"\", \"score\": \"\", \"predicted_cost\": \"\", \"fit_time\": \"\", \"training_percent\": \"\", \"iteration\": \"\", \"run_preprocessor\": \"\", \"run_algorithm\": \"\", \"dynamic_whitelisting_iterations\": \"<25>;<30>;<34>;<40>;<45>;\", \"automl_best_child_run_id\": \"AutoML_878c35a5-375e-4e3f-8bb4-9cfc49e36da9_47\", \"model_explain_best_run_child_id\": \"AutoML_878c35a5-375e-4e3f-8bb4-9cfc49e36da9_47\"}, \"end_time_utc\": \"2021-01-31T23:18:43.393957Z\", \"status\": \"Completed\", \"log_files\": {}, \"log_groups\": [], \"run_duration\": \"0:11:35\"}, \"child_runs\": [{\"run_id\": \"AutoML_878c35a5-375e-4e3f-8bb4-9cfc49e36da9_0\", \"run_number\": 9, \"metric\": null, \"status\": \"Completed\", \"run_type\": \"azureml.scriptrun\", \"training_percent\": \"100\", \"start_time\": \"2021-01-31T23:10:18.256409Z\", \"end_time\": \"2021-01-31T23:11:15.32201Z\", \"created_time\": \"2021-01-31T23:10:05.556196Z\", \"created_time_dt\": \"2021-01-31T23:10:05.556196Z\", \"duration\": \"0:01:09\", \"iteration\": \"0\", \"goal\": \"accuracy_max\", \"run_name\": \"MaxAbsScaler, LightGBM\", \"run_properties\": \"copy=True\", \"primary_metric\": 0.8059887, \"best_metric\": 0.8059887}, {\"run_id\": \"AutoML_878c35a5-375e-4e3f-8bb4-9cfc49e36da9_6\", \"run_number\": 10, \"metric\": null, \"status\": \"Completed\", \"run_type\": \"azureml.scriptrun\", \"training_percent\": \"100\", \"start_time\": \"2021-01-31T23:10:18.947731Z\", \"end_time\": \"2021-01-31T23:11:26.261736Z\", \"created_time\": \"2021-01-31T23:10:05.69189Z\", \"created_time_dt\": \"2021-01-31T23:10:05.69189Z\", \"duration\": \"0:01:20\", \"iteration\": \"6\", \"goal\": \"accuracy_max\", \"run_name\": \"StandardScalerWrapper, LightGBM\", \"run_properties\": \"<azureml.automl.runtime.shared.model_wrappers.StandardScalerWrapper object at 0x7f811d48a240\", \"primary_metric\": 0.83271186, \"best_metric\": 0.83581921}, {\"run_id\": \"AutoML_878c35a5-375e-4e3f-8bb4-9cfc49e36da9_5\", \"run_number\": 11, \"metric\": null, \"status\": \"Completed\", \"run_type\": \"azureml.scriptrun\", \"training_percent\": \"100\", \"start_time\": \"2021-01-31T23:10:19.09235Z\", \"end_time\": \"2021-01-31T23:11:19.963159Z\", \"created_time\": \"2021-01-31T23:10:05.703835Z\", \"created_time_dt\": \"2021-01-31T23:10:05.703835Z\", \"duration\": \"0:01:14\", \"iteration\": \"5\", \"goal\": \"accuracy_max\", \"run_name\": \"StandardScalerWrapper, KNN\", \"run_properties\": \"<azureml.automl.runtime.shared.model_wrappers.StandardScalerWrapper object at 0x7f1df5194c18\", \"primary_metric\": 0.69920904, \"best_metric\": 0.83581921}, {\"run_id\": \"AutoML_878c35a5-375e-4e3f-8bb4-9cfc49e36da9_3\", \"run_number\": 12, \"metric\": null, \"status\": \"Completed\", \"run_type\": \"azureml.scriptrun\", \"training_percent\": \"100\", \"start_time\": \"2021-01-31T23:10:18.446197Z\", \"end_time\": \"2021-01-31T23:11:12.984141Z\", \"created_time\": \"2021-01-31T23:10:05.736935Z\", \"created_time_dt\": \"2021-01-31T23:10:05.736935Z\", \"duration\": \"0:01:07\", \"iteration\": \"3\", \"goal\": \"accuracy_max\", \"run_name\": \"MinMaxScaler, RandomForest\", \"run_properties\": \"copy=True, feature_range=(0, 1\", \"primary_metric\": 0.8159887, \"best_metric\": 0.8259322}, {\"run_id\": \"AutoML_878c35a5-375e-4e3f-8bb4-9cfc49e36da9_7\", \"run_number\": 13, \"metric\": null, \"status\": \"Completed\", \"run_type\": \"azureml.scriptrun\", \"training_percent\": \"100\", \"start_time\": \"2021-01-31T23:10:18.68613Z\", \"end_time\": \"2021-01-31T23:11:19.359741Z\", \"created_time\": \"2021-01-31T23:10:05.765311Z\", \"created_time_dt\": \"2021-01-31T23:10:05.765311Z\", \"duration\": \"0:01:13\", \"iteration\": \"7\", \"goal\": \"accuracy_max\", \"run_name\": \"RobustScaler, SVM\", \"run_properties\": \"copy=True, quantile_range=[10, 90], with_centering=True,\\n             with_scaling=True\", \"primary_metric\": 0.70237288, \"best_metric\": 0.83581921}, {\"run_id\": \"AutoML_878c35a5-375e-4e3f-8bb4-9cfc49e36da9_4\", \"run_number\": 14, \"metric\": null, \"status\": \"Completed\", \"run_type\": \"azureml.scriptrun\", \"training_percent\": \"100\", \"start_time\": \"2021-01-31T23:10:17.864445Z\", \"end_time\": \"2021-01-31T23:11:24.021233Z\", \"created_time\": \"2021-01-31T23:10:05.712384Z\", \"created_time_dt\": \"2021-01-31T23:10:05.712384Z\", \"duration\": \"0:01:18\", \"iteration\": \"4\", \"goal\": \"accuracy_max\", \"run_name\": \"MinMaxScaler, RandomForest\", \"run_properties\": \"copy=True, feature_range=(0, 1\", \"primary_metric\": 0.83581921, \"best_metric\": 0.83581921}, {\"run_id\": \"AutoML_878c35a5-375e-4e3f-8bb4-9cfc49e36da9_9\", \"run_number\": 15, \"metric\": null, \"status\": \"Completed\", \"run_type\": \"azureml.scriptrun\", \"training_percent\": \"100\", \"start_time\": \"2021-01-31T23:10:18.525902Z\", \"end_time\": \"2021-01-31T23:11:30.185794Z\", \"created_time\": \"2021-01-31T23:10:05.70563Z\", \"created_time_dt\": \"2021-01-31T23:10:05.70563Z\", \"duration\": \"0:01:24\", \"iteration\": \"9\", \"goal\": \"accuracy_max\", \"run_name\": \"StandardScalerWrapper, XGBoostClassifier\", \"run_properties\": \"<azureml.automl.runtime.shared.model_wrappers.StandardScalerWrapper object at 0x7fa53d115828\", \"primary_metric\": 0.84254237, \"best_metric\": 0.84254237}, {\"run_id\": \"AutoML_878c35a5-375e-4e3f-8bb4-9cfc49e36da9_8\", \"run_number\": 16, \"metric\": null, \"status\": \"Completed\", \"run_type\": \"azureml.scriptrun\", \"training_percent\": \"100\", \"start_time\": \"2021-01-31T23:10:20.561507Z\", \"end_time\": \"2021-01-31T23:11:18.047975Z\", \"created_time\": \"2021-01-31T23:10:05.710966Z\", \"created_time_dt\": \"2021-01-31T23:10:05.710966Z\", \"duration\": \"0:01:12\", \"iteration\": \"8\", \"goal\": \"accuracy_max\", \"run_name\": \"SparseNormalizer, XGBoostClassifier\", \"run_properties\": \"<azureml.automl.runtime.shared.model_wrappers.SparseNormalizer object at 0x7f659e1c7048\", \"primary_metric\": 0.80293785, \"best_metric\": 0.83581921}, {\"run_id\": \"AutoML_878c35a5-375e-4e3f-8bb4-9cfc49e36da9_1\", \"run_number\": 17, \"metric\": null, \"status\": \"Completed\", \"run_type\": \"azureml.scriptrun\", \"training_percent\": \"100\", \"start_time\": \"2021-01-31T23:11:18.643377Z\", \"end_time\": \"2021-01-31T23:12:18.018844Z\", \"created_time\": \"2021-01-31T23:10:05.718384Z\", \"created_time_dt\": \"2021-01-31T23:10:05.718384Z\", \"duration\": \"0:02:12\", \"iteration\": \"1\", \"goal\": \"accuracy_max\", \"run_name\": \"MaxAbsScaler, XGBoostClassifier\", \"run_properties\": \"copy=True\", \"primary_metric\": 0.8259322, \"best_metric\": 0.8259322}, {\"run_id\": \"AutoML_878c35a5-375e-4e3f-8bb4-9cfc49e36da9_2\", \"run_number\": 18, \"metric\": null, \"status\": \"Completed\", \"run_type\": \"azureml.scriptrun\", \"training_percent\": \"100\", \"start_time\": \"2021-01-31T23:11:18.764167Z\", \"end_time\": \"2021-01-31T23:12:14.608933Z\", \"created_time\": \"2021-01-31T23:10:05.725044Z\", \"created_time_dt\": \"2021-01-31T23:10:05.725044Z\", \"duration\": \"0:02:08\", \"iteration\": \"2\", \"goal\": \"accuracy_max\", \"run_name\": \"MinMaxScaler, RandomForest\", \"run_properties\": \"copy=True, feature_range=(0, 1\", \"primary_metric\": 0.82265537, \"best_metric\": 0.8259322}, {\"run_id\": \"AutoML_878c35a5-375e-4e3f-8bb4-9cfc49e36da9_10\", \"run_number\": 19, \"metric\": null, \"status\": \"Completed\", \"run_type\": \"azureml.scriptrun\", \"training_percent\": \"100\", \"start_time\": \"2021-01-31T23:11:31.207813Z\", \"end_time\": \"2021-01-31T23:12:35.65671Z\", \"created_time\": \"2021-01-31T23:11:18.655352Z\", \"created_time_dt\": \"2021-01-31T23:11:18.655352Z\", \"duration\": \"0:01:17\", \"iteration\": \"10\", \"goal\": \"accuracy_max\", \"run_name\": \"SparseNormalizer, LightGBM\", \"run_properties\": \"<azureml.automl.runtime.shared.model_wrappers.SparseNormalizer object at 0x7f01af797518\", \"primary_metric\": 0.84299435, \"best_metric\": 0.84299435}, {\"run_id\": \"AutoML_878c35a5-375e-4e3f-8bb4-9cfc49e36da9_12\", \"run_number\": 20, \"metric\": null, \"status\": \"Completed\", \"run_type\": \"azureml.scriptrun\", \"training_percent\": \"100\", \"start_time\": \"2021-01-31T23:11:36.035648Z\", \"end_time\": \"2021-01-31T23:13:02.932084Z\", \"created_time\": \"2021-01-31T23:11:23.98492Z\", \"created_time_dt\": \"2021-01-31T23:11:23.98492Z\", \"duration\": \"0:01:38\", \"iteration\": \"12\", \"goal\": \"accuracy_max\", \"run_name\": \"MaxAbsScaler, GradientBoosting\", \"run_properties\": \"copy=True\", \"primary_metric\": 0.8259887, \"best_metric\": 0.84960452}, {\"run_id\": \"AutoML_878c35a5-375e-4e3f-8bb4-9cfc49e36da9_14\", \"run_number\": 21, \"metric\": null, \"status\": \"Completed\", \"run_type\": \"azureml.scriptrun\", \"training_percent\": \"100\", \"start_time\": \"2021-01-31T23:11:36.114172Z\", \"end_time\": \"2021-01-31T23:12:40.004064Z\", \"created_time\": \"2021-01-31T23:11:23.992375Z\", \"created_time_dt\": \"2021-01-31T23:11:23.992375Z\", \"duration\": \"0:01:16\", \"iteration\": \"14\", \"goal\": \"accuracy_max\", \"run_name\": \"RobustScaler, ExtremeRandomTrees\", \"run_properties\": \"copy=True, quantile_range=[25, 75], with_centering=True,\\n             with_scaling=False\", \"primary_metric\": 0.85615819, \"best_metric\": 0.85615819}, {\"run_id\": \"AutoML_878c35a5-375e-4e3f-8bb4-9cfc49e36da9_13\", \"run_number\": 22, \"metric\": null, \"status\": \"Completed\", \"run_type\": \"azureml.scriptrun\", \"training_percent\": \"100\", \"start_time\": \"2021-01-31T23:11:34.944968Z\", \"end_time\": \"2021-01-31T23:12:32.886064Z\", \"created_time\": \"2021-01-31T23:11:24.029109Z\", \"created_time_dt\": \"2021-01-31T23:11:24.029109Z\", \"duration\": \"0:01:08\", \"iteration\": \"13\", \"goal\": \"accuracy_max\", \"run_name\": \"SparseNormalizer, XGBoostClassifier\", \"run_properties\": \"<azureml.automl.runtime.shared.model_wrappers.SparseNormalizer object at 0x7f21319e8dd8\", \"primary_metric\": 0.81960452, \"best_metric\": 0.84960452}, {\"run_id\": \"AutoML_878c35a5-375e-4e3f-8bb4-9cfc49e36da9_11\", \"run_number\": 23, \"metric\": null, \"status\": \"Completed\", \"run_type\": \"azureml.scriptrun\", \"training_percent\": \"100\", \"start_time\": \"2021-01-31T23:11:35.620989Z\", \"end_time\": \"2021-01-31T23:12:42.122642Z\", \"created_time\": \"2021-01-31T23:11:24.004944Z\", \"created_time_dt\": \"2021-01-31T23:11:24.004944Z\", \"duration\": \"0:01:18\", \"iteration\": \"11\", \"goal\": \"accuracy_max\", \"run_name\": \"SparseNormalizer, XGBoostClassifier\", \"run_properties\": \"<azureml.automl.runtime.shared.model_wrappers.SparseNormalizer object at 0x7fb6585042b0\", \"primary_metric\": 0.84960452, \"best_metric\": 0.84960452}, {\"run_id\": \"AutoML_878c35a5-375e-4e3f-8bb4-9cfc49e36da9_15\", \"run_number\": 24, \"metric\": null, \"status\": \"Completed\", \"run_type\": \"azureml.scriptrun\", \"training_percent\": \"100\", \"start_time\": \"2021-01-31T23:11:41.002414Z\", \"end_time\": \"2021-01-31T23:12:44.640771Z\", \"created_time\": \"2021-01-31T23:11:29.853877Z\", \"created_time_dt\": \"2021-01-31T23:11:29.853877Z\", \"duration\": \"0:01:14\", \"iteration\": \"15\", \"goal\": \"accuracy_max\", \"run_name\": \"MinMaxScaler, LightGBM\", \"run_properties\": \"copy=True, feature_range=(0, 1\", \"primary_metric\": 0.83271186, \"best_metric\": 0.85615819}, {\"run_id\": \"AutoML_878c35a5-375e-4e3f-8bb4-9cfc49e36da9_16\", \"run_number\": 25, \"metric\": null, \"status\": \"Completed\", \"run_type\": \"azureml.scriptrun\", \"training_percent\": \"100\", \"start_time\": \"2021-01-31T23:12:19.144159Z\", \"end_time\": \"2021-01-31T23:13:19.687138Z\", \"created_time\": \"2021-01-31T23:11:29.998168Z\", \"created_time_dt\": \"2021-01-31T23:11:29.998168Z\", \"duration\": \"0:01:49\", \"iteration\": \"16\", \"goal\": \"accuracy_max\", \"run_name\": \"SparseNormalizer, XGBoostClassifier\", \"run_properties\": \"<azureml.automl.runtime.shared.model_wrappers.SparseNormalizer object at 0x7f65202bf940\", \"primary_metric\": 0.82943503, \"best_metric\": 0.85615819}, {\"run_id\": \"AutoML_878c35a5-375e-4e3f-8bb4-9cfc49e36da9_17\", \"run_number\": 26, \"metric\": null, \"status\": \"Completed\", \"run_type\": \"azureml.scriptrun\", \"training_percent\": \"100\", \"start_time\": \"2021-01-31T23:12:20.049455Z\", \"end_time\": \"2021-01-31T23:13:24.173384Z\", \"created_time\": \"2021-01-31T23:11:35.037576Z\", \"created_time_dt\": \"2021-01-31T23:11:35.037576Z\", \"duration\": \"0:01:49\", \"iteration\": \"17\", \"goal\": \"accuracy_max\", \"run_name\": \"MaxAbsScaler, LightGBM\", \"run_properties\": \"copy=True\", \"primary_metric\": 0.8360452, \"best_metric\": 0.85615819}, {\"run_id\": \"AutoML_878c35a5-375e-4e3f-8bb4-9cfc49e36da9_18\", \"run_number\": 27, \"metric\": null, \"status\": \"Completed\", \"run_type\": \"azureml.scriptrun\", \"training_percent\": \"100\", \"start_time\": \"2021-01-31T23:12:35.445999Z\", \"end_time\": \"2021-01-31T23:13:32.525463Z\", \"created_time\": \"2021-01-31T23:12:17.022623Z\", \"created_time_dt\": \"2021-01-31T23:12:17.022623Z\", \"duration\": \"0:01:15\", \"iteration\": \"18\", \"goal\": \"accuracy_max\", \"run_name\": \"SparseNormalizer, XGBoostClassifier\", \"run_properties\": \"<azureml.automl.runtime.shared.model_wrappers.SparseNormalizer object at 0x7f405901a198\", \"primary_metric\": 0.83627119, \"best_metric\": 0.85615819}, {\"run_id\": \"AutoML_878c35a5-375e-4e3f-8bb4-9cfc49e36da9_19\", \"run_number\": 28, \"metric\": null, \"status\": \"Completed\", \"run_type\": \"azureml.scriptrun\", \"training_percent\": \"100\", \"start_time\": \"2021-01-31T23:12:38.861744Z\", \"end_time\": \"2021-01-31T23:13:37.585862Z\", \"created_time\": \"2021-01-31T23:12:21.595745Z\", \"created_time_dt\": \"2021-01-31T23:12:21.595745Z\", \"duration\": \"0:01:15\", \"iteration\": \"19\", \"goal\": \"accuracy_max\", \"run_name\": \"StandardScalerWrapper, LightGBM\", \"run_properties\": \"<azureml.automl.runtime.shared.model_wrappers.StandardScalerWrapper object at 0x7f11ae51a940\", \"primary_metric\": 0.82937853, \"best_metric\": 0.85615819}, {\"run_id\": \"AutoML_878c35a5-375e-4e3f-8bb4-9cfc49e36da9_20\", \"run_number\": 29, \"metric\": null, \"status\": \"Completed\", \"run_type\": \"azureml.scriptrun\", \"training_percent\": \"100\", \"start_time\": \"2021-01-31T23:12:50.501846Z\", \"end_time\": \"2021-01-31T23:13:42.454797Z\", \"created_time\": \"2021-01-31T23:12:36.009609Z\", \"created_time_dt\": \"2021-01-31T23:12:36.009609Z\", \"duration\": \"0:01:06\", \"iteration\": \"20\", \"goal\": \"accuracy_max\", \"run_name\": \"SparseNormalizer, LightGBM\", \"run_properties\": \"<azureml.automl.runtime.shared.model_wrappers.SparseNormalizer object at 0x7ff93d23de10\", \"primary_metric\": 0.83299435, \"best_metric\": 0.85615819}, {\"run_id\": \"AutoML_878c35a5-375e-4e3f-8bb4-9cfc49e36da9_22\", \"run_number\": 30, \"metric\": null, \"status\": \"Completed\", \"run_type\": \"azureml.scriptrun\", \"training_percent\": \"100\", \"start_time\": \"2021-01-31T23:12:57.280974Z\", \"end_time\": \"2021-01-31T23:13:51.565519Z\", \"created_time\": \"2021-01-31T23:12:43.364566Z\", \"created_time_dt\": \"2021-01-31T23:12:43.364566Z\", \"duration\": \"0:01:08\", \"iteration\": \"22\", \"goal\": \"accuracy_max\", \"run_name\": \"MaxAbsScaler, LightGBM\", \"run_properties\": \"copy=True\", \"primary_metric\": 0.82271186, \"best_metric\": 0.85615819}, {\"run_id\": \"AutoML_878c35a5-375e-4e3f-8bb4-9cfc49e36da9_21\", \"run_number\": 31, \"metric\": null, \"status\": \"Completed\", \"run_type\": \"azureml.scriptrun\", \"training_percent\": \"100\", \"start_time\": \"2021-01-31T23:12:59.389077Z\", \"end_time\": \"2021-01-31T23:13:52.464194Z\", \"created_time\": \"2021-01-31T23:12:43.543851Z\", \"created_time_dt\": \"2021-01-31T23:12:43.543851Z\", \"duration\": \"0:01:08\", \"iteration\": \"21\", \"goal\": \"accuracy_max\", \"run_name\": \"StandardScalerWrapper, XGBoostClassifier\", \"run_properties\": \"<azureml.automl.runtime.shared.model_wrappers.StandardScalerWrapper object at 0x7f7f5ebd24a8\", \"primary_metric\": 0.80610169, \"best_metric\": 0.85615819}, {\"run_id\": \"AutoML_878c35a5-375e-4e3f-8bb4-9cfc49e36da9_24\", \"run_number\": 32, \"metric\": null, \"status\": \"Completed\", \"run_type\": \"azureml.scriptrun\", \"training_percent\": \"100\", \"start_time\": \"2021-01-31T23:13:24.859848Z\", \"end_time\": \"2021-01-31T23:14:21.348959Z\", \"created_time\": \"2021-01-31T23:12:49.82353Z\", \"created_time_dt\": \"2021-01-31T23:12:49.82353Z\", \"duration\": \"0:01:31\", \"iteration\": \"24\", \"goal\": \"accuracy_max\", \"run_name\": \"MinMaxScaler, ExtremeRandomTrees\", \"run_properties\": \"copy=True, feature_range=(0, 1\", \"primary_metric\": 0.84960452, \"best_metric\": 0.85615819}, {\"run_id\": \"AutoML_878c35a5-375e-4e3f-8bb4-9cfc49e36da9_23\", \"run_number\": 33, \"metric\": null, \"status\": \"Completed\", \"run_type\": \"azureml.scriptrun\", \"training_percent\": \"100\", \"start_time\": \"2021-01-31T23:13:08.407002Z\", \"end_time\": \"2021-01-31T23:14:20.593953Z\", \"created_time\": \"2021-01-31T23:12:50.082787Z\", \"created_time_dt\": \"2021-01-31T23:12:50.082787Z\", \"duration\": \"0:01:30\", \"iteration\": \"23\", \"goal\": \"accuracy_max\", \"run_name\": \"StandardScalerWrapper, XGBoostClassifier\", \"run_properties\": \"<azureml.automl.runtime.shared.model_wrappers.StandardScalerWrapper object at 0x7f929a2fa940\", \"primary_metric\": 0.82265537, \"best_metric\": 0.85615819}, {\"run_id\": \"AutoML_878c35a5-375e-4e3f-8bb4-9cfc49e36da9_25\", \"run_number\": 34, \"metric\": null, \"status\": \"Completed\", \"run_type\": \"azureml.scriptrun\", \"training_percent\": \"100\", \"start_time\": \"2021-01-31T23:13:27.328446Z\", \"end_time\": \"2021-01-31T23:14:22.310791Z\", \"created_time\": \"2021-01-31T23:13:06.519178Z\", \"created_time_dt\": \"2021-01-31T23:13:06.519178Z\", \"duration\": \"0:01:15\", \"iteration\": \"25\", \"goal\": \"accuracy_max\", \"run_name\": \"RobustScaler, ExtremeRandomTrees\", \"run_properties\": \"copy=True, quantile_range=[25, 75], with_centering=False,\\n             with_scaling=False\", \"primary_metric\": 0.84288136, \"best_metric\": 0.85615819}, {\"run_id\": \"AutoML_878c35a5-375e-4e3f-8bb4-9cfc49e36da9_26\", \"run_number\": 35, \"metric\": null, \"status\": \"Completed\", \"run_type\": \"azureml.scriptrun\", \"training_percent\": \"100\", \"start_time\": \"2021-01-31T23:13:37.662864Z\", \"end_time\": \"2021-01-31T23:14:30.5055Z\", \"created_time\": \"2021-01-31T23:13:21.906809Z\", \"created_time_dt\": \"2021-01-31T23:13:21.906809Z\", \"duration\": \"0:01:08\", \"iteration\": \"26\", \"goal\": \"accuracy_max\", \"run_name\": \"RobustScaler, ExtremeRandomTrees\", \"run_properties\": \"copy=True, quantile_range=[10, 90], with_centering=True,\\n             with_scaling=False\", \"primary_metric\": 0.85288136, \"best_metric\": 0.85615819}, {\"run_id\": \"AutoML_878c35a5-375e-4e3f-8bb4-9cfc49e36da9_27\", \"run_number\": 36, \"metric\": null, \"status\": \"Completed\", \"run_type\": \"azureml.scriptrun\", \"training_percent\": \"100\", \"start_time\": \"2021-01-31T23:13:43.839819Z\", \"end_time\": \"2021-01-31T23:14:41.903985Z\", \"created_time\": \"2021-01-31T23:13:27.118832Z\", \"created_time_dt\": \"2021-01-31T23:13:27.118832Z\", \"duration\": \"0:01:14\", \"iteration\": \"27\", \"goal\": \"accuracy_max\", \"run_name\": \"SparseNormalizer, LightGBM\", \"run_properties\": \"<azureml.automl.runtime.shared.model_wrappers.SparseNormalizer object at 0x7ffad40a9ef0\", \"primary_metric\": 0.82949153, \"best_metric\": 0.85615819}, {\"run_id\": \"AutoML_878c35a5-375e-4e3f-8bb4-9cfc49e36da9_28\", \"run_number\": 37, \"metric\": null, \"status\": \"Completed\", \"run_type\": \"azureml.scriptrun\", \"training_percent\": \"100\", \"start_time\": \"2021-01-31T23:13:46.711094Z\", \"end_time\": \"2021-01-31T23:14:41.349724Z\", \"created_time\": \"2021-01-31T23:13:34.646253Z\", \"created_time_dt\": \"2021-01-31T23:13:34.646253Z\", \"duration\": \"0:01:06\", \"iteration\": \"28\", \"goal\": \"accuracy_max\", \"run_name\": \"MinMaxScaler, LightGBM\", \"run_properties\": \"copy=True, feature_range=(0, 1\", \"primary_metric\": 0.82932203, \"best_metric\": 0.85615819}, {\"run_id\": \"AutoML_878c35a5-375e-4e3f-8bb4-9cfc49e36da9_29\", \"run_number\": 38, \"metric\": null, \"status\": \"Completed\", \"run_type\": \"azureml.scriptrun\", \"training_percent\": \"100\", \"start_time\": \"2021-01-31T23:13:57.016459Z\", \"end_time\": \"2021-01-31T23:14:56.368271Z\", \"created_time\": \"2021-01-31T23:13:40.104595Z\", \"created_time_dt\": \"2021-01-31T23:13:40.104595Z\", \"duration\": \"0:01:16\", \"iteration\": \"29\", \"goal\": \"accuracy_max\", \"run_name\": \"SparseNormalizer, XGBoostClassifier\", \"run_properties\": \"<azureml.automl.runtime.shared.model_wrappers.SparseNormalizer object at 0x7f7928a50358\", \"primary_metric\": 0.82282486, \"best_metric\": 0.85615819}, {\"run_id\": \"AutoML_878c35a5-375e-4e3f-8bb4-9cfc49e36da9_30\", \"run_number\": 39, \"metric\": null, \"status\": \"Completed\", \"run_type\": \"azureml.scriptrun\", \"training_percent\": \"100\", \"start_time\": \"2021-01-31T23:13:58.693135Z\", \"end_time\": \"2021-01-31T23:15:23.139431Z\", \"created_time\": \"2021-01-31T23:13:46.169178Z\", \"created_time_dt\": \"2021-01-31T23:13:46.169178Z\", \"duration\": \"0:01:36\", \"iteration\": \"30\", \"goal\": \"accuracy_max\", \"run_name\": \"SparseNormalizer, ExtremeRandomTrees\", \"run_properties\": \"<azureml.automl.runtime.shared.model_wrappers.SparseNormalizer object at 0x7f05dd2e0358\", \"primary_metric\": 0.67909605, \"best_metric\": 0.85615819}, {\"run_id\": \"AutoML_878c35a5-375e-4e3f-8bb4-9cfc49e36da9_31\", \"run_number\": 40, \"metric\": null, \"status\": \"Completed\", \"run_type\": \"azureml.scriptrun\", \"training_percent\": \"100\", \"start_time\": \"2021-01-31T23:14:24.896655Z\", \"end_time\": \"2021-01-31T23:15:30.979902Z\", \"created_time\": \"2021-01-31T23:13:53.906216Z\", \"created_time_dt\": \"2021-01-31T23:13:53.906216Z\", \"duration\": \"0:01:37\", \"iteration\": \"31\", \"goal\": \"accuracy_max\", \"run_name\": \"StandardScalerWrapper, LightGBM\", \"run_properties\": \"<azureml.automl.runtime.shared.model_wrappers.StandardScalerWrapper object at 0x7f00940677f0\", \"primary_metric\": 0.7960452, \"best_metric\": 0.85615819}, {\"run_id\": \"AutoML_878c35a5-375e-4e3f-8bb4-9cfc49e36da9_32\", \"run_number\": 41, \"metric\": null, \"status\": \"Completed\", \"run_type\": \"azureml.scriptrun\", \"training_percent\": \"100\", \"start_time\": \"2021-01-31T23:14:25.211161Z\", \"end_time\": \"2021-01-31T23:15:20.633759Z\", \"created_time\": \"2021-01-31T23:13:58.305612Z\", \"created_time_dt\": \"2021-01-31T23:13:58.305612Z\", \"duration\": \"0:01:22\", \"iteration\": \"32\", \"goal\": \"accuracy_max\", \"run_name\": \"StandardScalerWrapper, LightGBM\", \"run_properties\": \"<azureml.automl.runtime.shared.model_wrappers.StandardScalerWrapper object at 0x7f69dc3c3438\", \"primary_metric\": 0.70248588, \"best_metric\": 0.85615819}, {\"run_id\": \"AutoML_878c35a5-375e-4e3f-8bb4-9cfc49e36da9_33\", \"run_number\": 42, \"metric\": null, \"status\": \"Completed\", \"run_type\": \"azureml.scriptrun\", \"training_percent\": \"100\", \"start_time\": \"2021-01-31T23:14:35.186495Z\", \"end_time\": \"2021-01-31T23:15:27.379719Z\", \"created_time\": \"2021-01-31T23:14:22.917104Z\", \"created_time_dt\": \"2021-01-31T23:14:22.917104Z\", \"duration\": \"0:01:04\", \"iteration\": \"33\", \"goal\": \"accuracy_max\", \"run_name\": \"StandardScalerWrapper, LightGBM\", \"run_properties\": \"<azureml.automl.runtime.shared.model_wrappers.StandardScalerWrapper object at 0x7f881545cba8\", \"primary_metric\": 0.75259887, \"best_metric\": 0.85615819}, {\"run_id\": \"AutoML_878c35a5-375e-4e3f-8bb4-9cfc49e36da9_34\", \"run_number\": 43, \"metric\": null, \"status\": \"Completed\", \"run_type\": \"azureml.scriptrun\", \"training_percent\": \"100\", \"start_time\": \"2021-01-31T23:14:38.603154Z\", \"end_time\": \"2021-01-31T23:15:28.844935Z\", \"created_time\": \"2021-01-31T23:14:28.320319Z\", \"created_time_dt\": \"2021-01-31T23:14:28.320319Z\", \"duration\": \"0:01:00\", \"iteration\": \"34\", \"goal\": \"accuracy_max\", \"run_name\": \"StandardScalerWrapper, ExtremeRandomTrees\", \"run_properties\": \"<azureml.automl.runtime.shared.model_wrappers.StandardScalerWrapper object at 0x7f28d81eb0b8\", \"primary_metric\": 0.67909605, \"best_metric\": 0.85615819}, {\"run_id\": \"AutoML_878c35a5-375e-4e3f-8bb4-9cfc49e36da9_35\", \"run_number\": 44, \"metric\": null, \"status\": \"Completed\", \"run_type\": \"azureml.scriptrun\", \"training_percent\": \"100\", \"start_time\": \"2021-01-31T23:14:46.127583Z\", \"end_time\": \"2021-01-31T23:15:42.923453Z\", \"created_time\": \"2021-01-31T23:14:28.46625Z\", \"created_time_dt\": \"2021-01-31T23:14:28.46625Z\", \"duration\": \"0:01:14\", \"iteration\": \"35\", \"goal\": \"accuracy_max\", \"run_name\": \"MaxAbsScaler, ExtremeRandomTrees\", \"run_properties\": \"copy=True\", \"primary_metric\": 0.84288136, \"best_metric\": 0.85615819}, {\"run_id\": \"AutoML_878c35a5-375e-4e3f-8bb4-9cfc49e36da9_36\", \"run_number\": 45, \"metric\": null, \"status\": \"Completed\", \"run_type\": \"azureml.scriptrun\", \"training_percent\": \"100\", \"start_time\": \"2021-01-31T23:15:04.181301Z\", \"end_time\": \"2021-01-31T23:16:18.301612Z\", \"created_time\": \"2021-01-31T23:14:32.827587Z\", \"created_time_dt\": \"2021-01-31T23:14:32.827587Z\", \"duration\": \"0:01:45\", \"iteration\": \"36\", \"goal\": \"accuracy_max\", \"run_name\": \"SparseNormalizer, XGBoostClassifier\", \"run_properties\": \"<azureml.automl.runtime.shared.model_wrappers.SparseNormalizer object at 0x7f4c885216d8\", \"primary_metric\": 0.83276836, \"best_metric\": 0.85615819}, {\"run_id\": \"AutoML_878c35a5-375e-4e3f-8bb4-9cfc49e36da9_37\", \"run_number\": 46, \"metric\": null, \"status\": \"Completed\", \"run_type\": \"azureml.scriptrun\", \"training_percent\": \"100\", \"start_time\": \"2021-01-31T23:15:24.050699Z\", \"end_time\": \"2021-01-31T23:16:20.925251Z\", \"created_time\": \"2021-01-31T23:14:56.567904Z\", \"created_time_dt\": \"2021-01-31T23:14:56.567904Z\", \"duration\": \"0:01:24\", \"iteration\": \"37\", \"goal\": \"accuracy_max\", \"run_name\": \"SparseNormalizer, XGBoostClassifier\", \"run_properties\": \"<azureml.automl.runtime.shared.model_wrappers.SparseNormalizer object at 0x7f5339e3ed68\", \"primary_metric\": 0.83954802, \"best_metric\": 0.85615819}, {\"run_id\": \"AutoML_878c35a5-375e-4e3f-8bb4-9cfc49e36da9_38\", \"run_number\": 47, \"metric\": null, \"status\": \"Completed\", \"run_type\": \"azureml.scriptrun\", \"training_percent\": \"100\", \"start_time\": \"2021-01-31T23:15:06.834951Z\", \"end_time\": \"2021-01-31T23:16:22.220349Z\", \"created_time\": \"2021-01-31T23:14:56.687219Z\", \"created_time_dt\": \"2021-01-31T23:14:56.687219Z\", \"duration\": \"0:01:25\", \"iteration\": \"38\", \"goal\": \"accuracy_max\", \"run_name\": \"MinMaxScaler, LightGBM\", \"run_properties\": \"copy=True, feature_range=(0, 1\", \"primary_metric\": 0.83271186, \"best_metric\": 0.85615819}, {\"run_id\": \"AutoML_878c35a5-375e-4e3f-8bb4-9cfc49e36da9_39\", \"run_number\": 48, \"metric\": null, \"status\": \"Completed\", \"run_type\": \"azureml.scriptrun\", \"training_percent\": \"100\", \"start_time\": \"2021-01-31T23:15:25.386978Z\", \"end_time\": \"2021-01-31T23:16:23.652156Z\", \"created_time\": \"2021-01-31T23:15:01.168283Z\", \"created_time_dt\": \"2021-01-31T23:15:01.168283Z\", \"duration\": \"0:01:22\", \"iteration\": \"39\", \"goal\": \"accuracy_max\", \"run_name\": \"MinMaxScaler, LightGBM\", \"run_properties\": \"copy=True, feature_range=(0, 1\", \"primary_metric\": 0.8360452, \"best_metric\": 0.85615819}, {\"run_id\": \"AutoML_878c35a5-375e-4e3f-8bb4-9cfc49e36da9_40\", \"run_number\": 49, \"metric\": null, \"status\": \"Canceled\", \"run_type\": \"azureml.scriptrun\", \"training_percent\": \"100\", \"start_time\": \"2021-01-31T23:15:34.429239Z\", \"end_time\": \"2021-01-31T23:16:32.697998Z\", \"created_time\": \"2021-01-31T23:15:24.046049Z\", \"created_time_dt\": \"2021-01-31T23:15:24.046049Z\", \"duration\": \"0:01:08\", \"iteration\": \"40\", \"goal\": \"accuracy_max\", \"run_name\": \"RobustScaler, ExtremeRandomTrees\", \"run_properties\": \"copy=True, quantile_range=[25, 75], with_centering=False,\\n             with_scaling=False\", \"primary_metric\": 0.67909605, \"best_metric\": 0.85615819}, {\"run_id\": \"AutoML_878c35a5-375e-4e3f-8bb4-9cfc49e36da9_41\", \"run_number\": 50, \"metric\": null, \"status\": \"Canceled\", \"run_type\": \"azureml.scriptrun\", \"training_percent\": \"100\", \"start_time\": \"2021-01-31T23:15:38.839794Z\", \"end_time\": \"2021-01-31T23:16:31.504625Z\", \"created_time\": \"2021-01-31T23:15:28.671015Z\", \"created_time_dt\": \"2021-01-31T23:15:28.671015Z\", \"duration\": \"0:01:02\", \"iteration\": \"41\", \"goal\": \"accuracy_max\", \"run_name\": \"MinMaxScaler, LightGBM\", \"run_properties\": \"copy=True, feature_range=(0, 1\", \"primary_metric\": 0.81615819, \"best_metric\": 0.85615819}, {\"run_id\": \"AutoML_878c35a5-375e-4e3f-8bb4-9cfc49e36da9_42\", \"run_number\": 51, \"metric\": null, \"status\": \"Canceled\", \"run_type\": \"azureml.scriptrun\", \"training_percent\": \"100\", \"start_time\": \"2021-01-31T23:15:44.417922Z\", \"end_time\": \"2021-01-31T23:16:32.245621Z\", \"created_time\": \"2021-01-31T23:15:32.555382Z\", \"created_time_dt\": \"2021-01-31T23:15:32.555382Z\", \"duration\": \"0:00:59\", \"iteration\": \"42\", \"goal\": \"accuracy_max\", \"run_name\": \"SparseNormalizer, ExtremeRandomTrees\", \"run_properties\": \"<azureml.automl.runtime.shared.model_wrappers.SparseNormalizer object at 0x7f7610f7cfd0\", \"primary_metric\": 0.7859887, \"best_metric\": 0.85615819}, {\"run_id\": \"AutoML_878c35a5-375e-4e3f-8bb4-9cfc49e36da9_43\", \"run_number\": 52, \"metric\": null, \"status\": \"Canceled\", \"run_type\": \"azureml.scriptrun\", \"training_percent\": \"100\", \"start_time\": \"2021-01-31T23:15:52.747617Z\", \"end_time\": \"2021-01-31T23:16:32.738786Z\", \"created_time\": \"2021-01-31T23:15:32.594764Z\", \"created_time_dt\": \"2021-01-31T23:15:32.594764Z\", \"duration\": \"0:01:00\", \"iteration\": \"43\", \"goal\": \"accuracy_max\", \"run_name\": \"StandardScalerWrapper, RandomForest\", \"run_properties\": \"<azureml.automl.runtime.shared.model_wrappers.StandardScalerWrapper object at 0x7fce89d53c18\", \"primary_metric\": 0.80242938, \"best_metric\": 0.85615819}, {\"run_id\": \"AutoML_878c35a5-375e-4e3f-8bb4-9cfc49e36da9_44\", \"run_number\": 53, \"metric\": null, \"status\": \"Canceled\", \"run_type\": \"azureml.scriptrun\", \"training_percent\": \"100\", \"start_time\": \"2021-01-31T23:16:24.972667Z\", \"end_time\": \"2021-01-31T23:16:32.738361Z\", \"created_time\": \"2021-01-31T23:15:44.309861Z\", \"created_time_dt\": \"2021-01-31T23:15:44.309861Z\", \"duration\": \"0:00:48\", \"iteration\": \"44\", \"goal\": null, \"run_name\": \"Canceled\", \"run_properties\": null}, {\"run_id\": \"AutoML_878c35a5-375e-4e3f-8bb4-9cfc49e36da9_45\", \"run_number\": 54, \"metric\": null, \"status\": \"Canceled\", \"run_type\": \"azureml.scriptrun\", \"training_percent\": \"100\", \"start_time\": \"2021-01-31T23:15:49.417539Z\", \"end_time\": \"2021-01-31T23:16:30.788889Z\", \"created_time\": \"2021-01-31T23:15:49.417539Z\", \"created_time_dt\": \"2021-01-31T23:15:49.417539Z\", \"duration\": \"0:00:41\", \"iteration\": \"45\", \"goal\": null, \"run_name\": \"Canceled\", \"run_properties\": null}, {\"run_id\": \"AutoML_878c35a5-375e-4e3f-8bb4-9cfc49e36da9_46\", \"run_number\": 55, \"metric\": null, \"status\": \"Canceled\", \"run_type\": \"azureml.scriptrun\", \"training_percent\": \"100\", \"start_time\": \"2021-01-31T23:16:20.734878Z\", \"end_time\": \"2021-01-31T23:16:39.727035Z\", \"created_time\": \"2021-01-31T23:16:20.734878Z\", \"created_time_dt\": \"2021-01-31T23:16:20.734878Z\", \"duration\": \"0:00:18\", \"iteration\": \"46\", \"goal\": null, \"run_name\": \"Canceled\", \"run_properties\": null}, {\"run_id\": \"AutoML_878c35a5-375e-4e3f-8bb4-9cfc49e36da9_47\", \"run_number\": 56, \"metric\": null, \"status\": \"Completed\", \"run_type\": \"azureml.scriptrun\", \"training_percent\": \"100\", \"start_time\": \"2021-01-31T23:16:52.532399Z\", \"end_time\": \"2021-01-31T23:18:29.590031Z\", \"created_time\": \"2021-01-31T23:16:40.880849Z\", \"created_time_dt\": \"2021-01-31T23:16:40.880849Z\", \"duration\": \"0:01:48\", \"iteration\": \"47\", \"goal\": \"accuracy_max\", \"run_name\": \"VotingEnsemble\", \"run_properties\": \"classification_labels=None,\\n                              estimators=[('14',\\n                                           Pipeline(memory=None,\\n                                                    steps=[('robustscaler',\\n                                                            RobustScaler(copy=True,\\n                                                                         quantile_range=[25,\\n                                                                                         75],\\n                                                                         with_centering=True,\\n                                                                         with_scaling=False\", \"primary_metric\": 0.86632768, \"best_metric\": 0.86632768}, {\"run_id\": \"AutoML_878c35a5-375e-4e3f-8bb4-9cfc49e36da9_48\", \"run_number\": 57, \"metric\": null, \"status\": \"Completed\", \"run_type\": \"azureml.scriptrun\", \"training_percent\": \"100\", \"start_time\": \"2021-01-31T23:16:52.520439Z\", \"end_time\": \"2021-01-31T23:18:33.216485Z\", \"created_time\": \"2021-01-31T23:16:41.020656Z\", \"created_time_dt\": \"2021-01-31T23:16:41.020656Z\", \"duration\": \"0:01:52\", \"iteration\": \"48\", \"goal\": \"accuracy_max\", \"run_name\": \"StackEnsemble\", \"run_properties\": \"base_learners=[('14',\\n                                        Pipeline(memory=None,\\n                                                 steps=[('robustscaler',\\n                                                         RobustScaler(copy=True,\\n                                                                      quantile_range=[25,\\n                                                                                      75],\\n                                                                      with_centering=True,\\n                                                                      with_scaling=False\", \"primary_metric\": 0.85288136, \"best_metric\": 0.86632768}], \"children_metrics\": {\"categories\": [0], \"series\": {\"average_precision_score_macro\": [{\"categories\": [\"0\", \"1\", \"2\", \"3\", \"4\", \"5\", \"6\", \"7\", \"8\", \"9\", \"10\", \"11\", \"12\", \"13\", \"14\", \"15\", \"16\", \"17\", \"18\", \"19\", \"20\", \"21\", \"22\", \"23\", \"24\", \"25\", \"26\", \"27\", \"28\", \"29\", \"30\", \"31\", \"32\", \"33\", \"34\", \"35\", \"36\", \"37\", \"38\", \"39\", \"40\", \"41\", \"42\", \"43\", \"47\", \"48\"], \"mode\": \"markers\", \"name\": \"average_precision_score_macro\", \"stepped\": false, \"type\": \"scatter\", \"data\": [0.8655792376041671, 0.8826936933050062, 0.9029990655881912, 0.8981838137625135, 0.8864855929592549, 0.8047604911867839, 0.8880216332021588, 0.7478453364884493, 0.8579221923676057, 0.8797872990256238, 0.8730903618936553, 0.8802531433544377, 0.895200843307158, 0.8446804578180138, 0.8864370340095205, 0.8931034986662778, 0.8775855182158866, 0.8927065503562506, 0.8827732062499305, 0.8895679089778662, 0.8756968477195303, 0.8843650663566592, 0.851284927554245, 0.8701786665611053, 0.8790093108109167, 0.8534038442465903, 0.8884331325293608, 0.8705111131440418, 0.8921216044348788, 0.8738698705256456, 0.7094009623679527, 0.8630746613722853, 0.8282740957760485, 0.8349211124106791, 0.5746394750030981, 0.8723265438423873, 0.8531136407218067, 0.871255642407235, 0.8893238405280759, 0.8910741257817303, 0.5147860186995985, 0.8878516927812372, 0.8313626223794316, 0.9054496730220581, 0.899956695234439, 0.8985589918117564]}, {\"categories\": [\"0\", \"1\", \"2\", \"3\", \"4\", \"5\", \"6\", \"7\", \"8\", \"9\", \"10\", \"11\", \"12\", \"13\", \"14\", \"15\", \"16\", \"17\", \"18\", \"19\", \"20\", \"21\", \"22\", \"23\", \"24\", \"25\", \"26\", \"27\", \"28\", \"29\", \"30\", \"31\", \"32\", \"33\", \"34\", \"35\", \"36\", \"37\", \"38\", \"39\", \"40\", \"41\", \"42\", \"43\", \"47\", \"48\"], \"mode\": \"lines\", \"name\": \"average_precision_score_macro_max\", \"stepped\": true, \"type\": \"scatter\", \"data\": [0.8655792376041671, 0.8826936933050062, 0.9029990655881912, 0.9029990655881912, 0.9029990655881912, 0.9029990655881912, 0.9029990655881912, 0.9029990655881912, 0.9029990655881912, 0.9029990655881912, 0.9029990655881912, 0.9029990655881912, 0.9029990655881912, 0.9029990655881912, 0.9029990655881912, 0.9029990655881912, 0.9029990655881912, 0.9029990655881912, 0.9029990655881912, 0.9029990655881912, 0.9029990655881912, 0.9029990655881912, 0.9029990655881912, 0.9029990655881912, 0.9029990655881912, 0.9029990655881912, 0.9029990655881912, 0.9029990655881912, 0.9029990655881912, 0.9029990655881912, 0.9029990655881912, 0.9029990655881912, 0.9029990655881912, 0.9029990655881912, 0.9029990655881912, 0.9029990655881912, 0.9029990655881912, 0.9029990655881912, 0.9029990655881912, 0.9029990655881912, 0.9029990655881912, 0.9029990655881912, 0.9029990655881912, 0.9054496730220581, 0.9054496730220581, 0.9054496730220581]}], \"balanced_accuracy\": [{\"categories\": [\"0\", \"1\", \"2\", \"3\", \"4\", \"5\", \"6\", \"7\", \"8\", \"9\", \"10\", \"11\", \"12\", \"13\", \"14\", \"15\", \"16\", \"17\", \"18\", \"19\", \"20\", \"21\", \"22\", \"23\", \"24\", \"25\", \"26\", \"27\", \"28\", \"29\", \"30\", \"31\", \"32\", \"33\", \"34\", \"35\", \"36\", \"37\", \"38\", \"39\", \"40\", \"41\", \"42\", \"43\", \"47\", \"48\"], \"mode\": \"markers\", \"name\": \"balanced_accuracy\", \"stepped\": false, \"type\": \"scatter\", \"data\": [0.7760209025470652, 0.8060125968992248, 0.8030107973421927, 0.7750048449612403, 0.8158257198228128, 0.5373809523809523, 0.8063226744186046, 0.6373262735326689, 0.7446643133997786, 0.8229132059800663, 0.79625, 0.8112458471760797, 0.7985167497231451, 0.773265503875969, 0.8136524086378738, 0.8100089977851607, 0.780531561461794, 0.8027512458471762, 0.7971940753045403, 0.8020923311184939, 0.8043410852713178, 0.7582696566998892, 0.7812631506090808, 0.7640351605758582, 0.8101446566998891, 0.7870535714285715, 0.8153827519379846, 0.7940988372093024, 0.798516749723145, 0.7757101328903655, 0.5, 0.7218964562569214, 0.5414880952380953, 0.6495196566998892, 0.5, 0.7837202380952382, 0.8033720930232559, 0.7803827519379845, 0.8023089700996678, 0.8135209025470653, 0.5, 0.7494601328903654, 0.788984634551495, 0.7951965669988924, 0.8299702380952383, 0.8211524086378738]}, {\"categories\": [\"0\", \"1\", \"2\", \"3\", \"4\", \"5\", \"6\", \"7\", \"8\", \"9\", \"10\", \"11\", \"12\", \"13\", \"14\", \"15\", \"16\", \"17\", \"18\", \"19\", \"20\", \"21\", \"22\", \"23\", \"24\", \"25\", \"26\", \"27\", \"28\", \"29\", \"30\", \"31\", \"32\", \"33\", \"34\", \"35\", \"36\", \"37\", \"38\", \"39\", \"40\", \"41\", \"42\", \"43\", \"47\", \"48\"], \"mode\": \"lines\", \"name\": \"balanced_accuracy_max\", \"stepped\": true, \"type\": \"scatter\", \"data\": [0.7760209025470652, 0.8060125968992248, 0.8060125968992248, 0.8060125968992248, 0.8158257198228128, 0.8158257198228128, 0.8158257198228128, 0.8158257198228128, 0.8158257198228128, 0.8229132059800663, 0.8229132059800663, 0.8229132059800663, 0.8229132059800663, 0.8229132059800663, 0.8229132059800663, 0.8229132059800663, 0.8229132059800663, 0.8229132059800663, 0.8229132059800663, 0.8229132059800663, 0.8229132059800663, 0.8229132059800663, 0.8229132059800663, 0.8229132059800663, 0.8229132059800663, 0.8229132059800663, 0.8229132059800663, 0.8229132059800663, 0.8229132059800663, 0.8229132059800663, 0.8229132059800663, 0.8229132059800663, 0.8229132059800663, 0.8229132059800663, 0.8229132059800663, 0.8229132059800663, 0.8229132059800663, 0.8229132059800663, 0.8229132059800663, 0.8229132059800663, 0.8229132059800663, 0.8229132059800663, 0.8229132059800663, 0.8229132059800663, 0.8299702380952383, 0.8299702380952383]}], \"AUC_micro\": [{\"categories\": [\"0\", \"1\", \"2\", \"3\", \"4\", \"5\", \"6\", \"7\", \"8\", \"9\", \"10\", \"11\", \"12\", \"13\", \"14\", \"15\", \"16\", \"17\", \"18\", \"19\", \"20\", \"21\", \"22\", \"23\", \"24\", \"25\", \"26\", \"27\", \"28\", \"29\", \"30\", \"31\", \"32\", \"33\", \"34\", \"35\", \"36\", \"37\", \"38\", \"39\", \"40\", \"41\", \"42\", \"43\", \"47\", \"48\"], \"mode\": \"markers\", \"name\": \"AUC_micro\", \"stepped\": false, \"type\": \"scatter\", \"data\": [0.8880105014523284, 0.8999905678444892, 0.9139957866513454, 0.9114839126687733, 0.9068314979731241, 0.8194046410673816, 0.9064074659261389, 0.8003538494685436, 0.873789220849692, 0.9022360592422356, 0.8934592071243894, 0.9057792460659453, 0.9116505793354399, 0.8848846595805803, 0.9036576973411217, 0.9102650100545822, 0.8970109642822944, 0.9043063295987743, 0.900126815410642, 0.9083671039611861, 0.8939478119314372, 0.8981368061540426, 0.8854616010724887, 0.8911529573238852, 0.893255992850075, 0.8714801142711226, 0.9023086916275656, 0.8942678508729932, 0.9074421302946153, 0.8994345175396598, 0.7751463340674775, 0.873770723610712, 0.8285228701841744, 0.8531453764882377, 0.7272645791439242, 0.8902303456861056, 0.8904582655048039, 0.8978329024226757, 0.9027208496919787, 0.9041296881483609, 0.6817365859108174, 0.8947004372945194, 0.8518082287975997, 0.9133462127741071, 0.9141434453701043, 0.9077065977209614]}, {\"categories\": [\"0\", \"1\", \"2\", \"3\", \"4\", \"5\", \"6\", \"7\", \"8\", \"9\", \"10\", \"11\", \"12\", \"13\", \"14\", \"15\", \"16\", \"17\", \"18\", \"19\", \"20\", \"21\", \"22\", \"23\", \"24\", \"25\", \"26\", \"27\", \"28\", \"29\", \"30\", \"31\", \"32\", \"33\", \"34\", \"35\", \"36\", \"37\", \"38\", \"39\", \"40\", \"41\", \"42\", \"43\", \"47\", \"48\"], \"mode\": \"lines\", \"name\": \"AUC_micro_max\", \"stepped\": true, \"type\": \"scatter\", \"data\": [0.8880105014523284, 0.8999905678444892, 0.9139957866513454, 0.9139957866513454, 0.9139957866513454, 0.9139957866513454, 0.9139957866513454, 0.9139957866513454, 0.9139957866513454, 0.9139957866513454, 0.9139957866513454, 0.9139957866513454, 0.9139957866513454, 0.9139957866513454, 0.9139957866513454, 0.9139957866513454, 0.9139957866513454, 0.9139957866513454, 0.9139957866513454, 0.9139957866513454, 0.9139957866513454, 0.9139957866513454, 0.9139957866513454, 0.9139957866513454, 0.9139957866513454, 0.9139957866513454, 0.9139957866513454, 0.9139957866513454, 0.9139957866513454, 0.9139957866513454, 0.9139957866513454, 0.9139957866513454, 0.9139957866513454, 0.9139957866513454, 0.9139957866513454, 0.9139957866513454, 0.9139957866513454, 0.9139957866513454, 0.9139957866513454, 0.9139957866513454, 0.9139957866513454, 0.9139957866513454, 0.9139957866513454, 0.9139957866513454, 0.9141434453701043, 0.9141434453701043]}], \"accuracy\": [{\"categories\": [\"0\", \"1\", \"2\", \"3\", \"4\", \"5\", \"6\", \"7\", \"8\", \"9\", \"10\", \"11\", \"12\", \"13\", \"14\", \"15\", \"16\", \"17\", \"18\", \"19\", \"20\", \"21\", \"22\", \"23\", \"24\", \"25\", \"26\", \"27\", \"28\", \"29\", \"30\", \"31\", \"32\", \"33\", \"34\", \"35\", \"36\", \"37\", \"38\", \"39\", \"40\", \"41\", \"42\", \"43\", \"47\", \"48\"], \"mode\": \"markers\", \"name\": \"accuracy\", \"stepped\": false, \"type\": \"scatter\", \"data\": [0.8059887005649717, 0.8259322033898304, 0.8226553672316385, 0.8159887005649716, 0.835819209039548, 0.6992090395480226, 0.8327118644067795, 0.7023728813559321, 0.8029378531073448, 0.8425423728813559, 0.8429943502824859, 0.8496045197740113, 0.8259887005649718, 0.8196045197740114, 0.8561581920903955, 0.8327118644067797, 0.8294350282485876, 0.836045197740113, 0.836271186440678, 0.8293785310734464, 0.8329943502824859, 0.8061016949152542, 0.8227118644067797, 0.8226553672316385, 0.8496045197740113, 0.8428813559322034, 0.8528813559322034, 0.8294915254237288, 0.8293220338983052, 0.8228248587570622, 0.67909604519774, 0.7960451977401131, 0.7024858757062147, 0.7525988700564972, 0.67909604519774, 0.8428813559322034, 0.8327683615819208, 0.8395480225988701, 0.8327118644067797, 0.836045197740113, 0.67909604519774, 0.8161581920903955, 0.7859887005649717, 0.8024293785310734, 0.8663276836158191, 0.8528813559322034]}, {\"categories\": [\"0\", \"1\", \"2\", \"3\", \"4\", \"5\", \"6\", \"7\", \"8\", \"9\", \"10\", \"11\", \"12\", \"13\", \"14\", \"15\", \"16\", \"17\", \"18\", \"19\", \"20\", \"21\", \"22\", \"23\", \"24\", \"25\", \"26\", \"27\", \"28\", \"29\", \"30\", \"31\", \"32\", \"33\", \"34\", \"35\", \"36\", \"37\", \"38\", \"39\", \"40\", \"41\", \"42\", \"43\", \"47\", \"48\"], \"mode\": \"lines\", \"name\": \"accuracy_max\", \"stepped\": true, \"type\": \"scatter\", \"data\": [0.8059887005649717, 0.8259322033898304, 0.8259322033898304, 0.8259322033898304, 0.835819209039548, 0.835819209039548, 0.835819209039548, 0.835819209039548, 0.835819209039548, 0.8425423728813559, 0.8429943502824859, 0.8496045197740113, 0.8496045197740113, 0.8496045197740113, 0.8561581920903955, 0.8561581920903955, 0.8561581920903955, 0.8561581920903955, 0.8561581920903955, 0.8561581920903955, 0.8561581920903955, 0.8561581920903955, 0.8561581920903955, 0.8561581920903955, 0.8561581920903955, 0.8561581920903955, 0.8561581920903955, 0.8561581920903955, 0.8561581920903955, 0.8561581920903955, 0.8561581920903955, 0.8561581920903955, 0.8561581920903955, 0.8561581920903955, 0.8561581920903955, 0.8561581920903955, 0.8561581920903955, 0.8561581920903955, 0.8561581920903955, 0.8561581920903955, 0.8561581920903955, 0.8561581920903955, 0.8561581920903955, 0.8561581920903955, 0.8663276836158191, 0.8663276836158191]}], \"AUC_weighted\": [{\"categories\": [\"0\", \"1\", \"2\", \"3\", \"4\", \"5\", \"6\", \"7\", \"8\", \"9\", \"10\", \"11\", \"12\", \"13\", \"14\", \"15\", \"16\", \"17\", \"18\", \"19\", \"20\", \"21\", \"22\", \"23\", \"24\", \"25\", \"26\", \"27\", \"28\", \"29\", \"30\", \"31\", \"32\", \"33\", \"34\", \"35\", \"36\", \"37\", \"38\", \"39\", \"40\", \"41\", \"42\", \"43\", \"47\", \"48\"], \"mode\": \"markers\", \"name\": \"AUC_weighted\", \"stepped\": false, \"type\": \"scatter\", \"data\": [0.8811331210778885, 0.8929591177556293, 0.9115837947582133, 0.9084357004429681, 0.9011050895164268, 0.8274898486526393, 0.904063630490956, 0.7798414313399779, 0.8711940983757845, 0.8964928479143597, 0.8838348791066813, 0.8940481035437431, 0.9058244739756367, 0.8664778400701367, 0.8981826319675157, 0.9052194767441861, 0.8937756782945737, 0.9007161314138058, 0.8967421557770393, 0.9030714977851606, 0.8876433877814691, 0.893891888150609, 0.8940475959763751, 0.8888375899778517, 0.8873935723514211, 0.8645653608342562, 0.8947779623477297, 0.8804975313768919, 0.9034047157622739, 0.8974649317091178, 0.7359019933554818, 0.8730211794019933, 0.8516430647840532, 0.852764742524917, 0.6232403100775195, 0.8827660575858249, 0.8742910322074569, 0.8816578419158361, 0.8982491463639718, 0.8978392395717977, 0.5212032345884091, 0.8967023348098928, 0.8463227205610926, 0.9129467977113326, 0.9127911590992985, 0.9103228820598007]}, {\"categories\": [\"0\", \"1\", \"2\", \"3\", \"4\", \"5\", \"6\", \"7\", \"8\", \"9\", \"10\", \"11\", \"12\", \"13\", \"14\", \"15\", \"16\", \"17\", \"18\", \"19\", \"20\", \"21\", \"22\", \"23\", \"24\", \"25\", \"26\", \"27\", \"28\", \"29\", \"30\", \"31\", \"32\", \"33\", \"34\", \"35\", \"36\", \"37\", \"38\", \"39\", \"40\", \"41\", \"42\", \"43\", \"47\", \"48\"], \"mode\": \"lines\", \"name\": \"AUC_weighted_max\", \"stepped\": true, \"type\": \"scatter\", \"data\": [0.8811331210778885, 0.8929591177556293, 0.9115837947582133, 0.9115837947582133, 0.9115837947582133, 0.9115837947582133, 0.9115837947582133, 0.9115837947582133, 0.9115837947582133, 0.9115837947582133, 0.9115837947582133, 0.9115837947582133, 0.9115837947582133, 0.9115837947582133, 0.9115837947582133, 0.9115837947582133, 0.9115837947582133, 0.9115837947582133, 0.9115837947582133, 0.9115837947582133, 0.9115837947582133, 0.9115837947582133, 0.9115837947582133, 0.9115837947582133, 0.9115837947582133, 0.9115837947582133, 0.9115837947582133, 0.9115837947582133, 0.9115837947582133, 0.9115837947582133, 0.9115837947582133, 0.9115837947582133, 0.9115837947582133, 0.9115837947582133, 0.9115837947582133, 0.9115837947582133, 0.9115837947582133, 0.9115837947582133, 0.9115837947582133, 0.9115837947582133, 0.9115837947582133, 0.9115837947582133, 0.9115837947582133, 0.9129467977113326, 0.9129467977113326, 0.9129467977113326]}], \"precision_score_macro\": [{\"categories\": [\"0\", \"1\", \"2\", \"3\", \"4\", \"5\", \"6\", \"7\", \"8\", \"9\", \"10\", \"11\", \"12\", \"13\", \"14\", \"15\", \"16\", \"17\", \"18\", \"19\", \"20\", \"21\", \"22\", \"23\", \"24\", \"25\", \"26\", \"27\", \"28\", \"29\", \"30\", \"31\", \"32\", \"33\", \"34\", \"35\", \"36\", \"37\", \"38\", \"39\", \"40\", \"41\", \"42\", \"43\", \"47\", \"48\"], \"mode\": \"markers\", \"name\": \"precision_score_macro\", \"stepped\": false, \"type\": \"scatter\", \"data\": [0.7889041743265773, 0.8086642059265495, 0.7957955963323413, 0.7991543840320083, 0.8114378554132194, 0.6812462189957653, 0.8153308253308253, 0.6639561130949849, 0.7953999504746168, 0.8210908153009665, 0.8504612927078821, 0.848492463658258, 0.806954805704929, 0.8012932719454458, 0.8623467125153214, 0.8144933689498908, 0.8347240365979511, 0.8225492456976522, 0.8325196253792461, 0.8122532189273273, 0.8298263723233414, 0.8034557243271261, 0.8106583750313735, 0.8233427852120861, 0.8548693818259036, 0.8653182023797662, 0.8524693450757279, 0.821915108969652, 0.8116427493402408, 0.8248523629448281, 0.33954802259887, 0.8096562545035091, 0.847895967270602, 0.7657219797538947, 0.33954802259887, 0.8650141928971852, 0.8209439634648869, 0.849664077752313, 0.8275124824814266, 0.8200378108888747, 0.33954802259887, 0.8309955634427684, 0.7580928720402405, 0.7751382321382321, 0.8765352952775313, 0.847261647798188]}, {\"categories\": [\"0\", \"1\", \"2\", \"3\", \"4\", \"5\", \"6\", \"7\", \"8\", \"9\", \"10\", \"11\", \"12\", \"13\", \"14\", \"15\", \"16\", \"17\", \"18\", \"19\", \"20\", \"21\", \"22\", \"23\", \"24\", \"25\", \"26\", \"27\", \"28\", \"29\", \"30\", \"31\", \"32\", \"33\", \"34\", \"35\", \"36\", \"37\", \"38\", \"39\", \"40\", \"41\", \"42\", \"43\", \"47\", \"48\"], \"mode\": \"lines\", \"name\": \"precision_score_macro_max\", \"stepped\": true, \"type\": \"scatter\", \"data\": [0.7889041743265773, 0.8086642059265495, 0.8086642059265495, 0.8086642059265495, 0.8114378554132194, 0.8114378554132194, 0.8153308253308253, 0.8153308253308253, 0.8153308253308253, 0.8210908153009665, 0.8504612927078821, 0.8504612927078821, 0.8504612927078821, 0.8504612927078821, 0.8623467125153214, 0.8623467125153214, 0.8623467125153214, 0.8623467125153214, 0.8623467125153214, 0.8623467125153214, 0.8623467125153214, 0.8623467125153214, 0.8623467125153214, 0.8623467125153214, 0.8623467125153214, 0.8653182023797662, 0.8653182023797662, 0.8653182023797662, 0.8653182023797662, 0.8653182023797662, 0.8653182023797662, 0.8653182023797662, 0.8653182023797662, 0.8653182023797662, 0.8653182023797662, 0.8653182023797662, 0.8653182023797662, 0.8653182023797662, 0.8653182023797662, 0.8653182023797662, 0.8653182023797662, 0.8653182023797662, 0.8653182023797662, 0.8653182023797662, 0.8765352952775313, 0.8765352952775313]}], \"average_precision_score_weighted\": [{\"categories\": [\"0\", \"1\", \"2\", \"3\", \"4\", \"5\", \"6\", \"7\", \"8\", \"9\", \"10\", \"11\", \"12\", \"13\", \"14\", \"15\", \"16\", \"17\", \"18\", \"19\", \"20\", \"21\", \"22\", \"23\", \"24\", \"25\", \"26\", \"27\", \"28\", \"29\", \"30\", \"31\", \"32\", \"33\", \"34\", \"35\", \"36\", \"37\", \"38\", \"39\", \"40\", \"41\", \"42\", \"43\", \"47\", \"48\"], \"mode\": \"markers\", \"name\": \"average_precision_score_weighted\", \"stepped\": false, \"type\": \"scatter\", \"data\": [0.8955370396295249, 0.9103506263314479, 0.9258976497478795, 0.9200842717332127, 0.9098347132286457, 0.8491750035831661, 0.9159789696401479, 0.8003367519796608, 0.8880904701042699, 0.9089691735561468, 0.9011161250177034, 0.9044364305652293, 0.9189080055139549, 0.874255472138805, 0.9102583401564134, 0.9163815899293472, 0.9042682679934062, 0.9150735346975256, 0.9096621001006209, 0.9159062069514639, 0.9027199794815131, 0.9101339470429519, 0.8899023871517153, 0.8948959997609753, 0.900603073662451, 0.883274573589069, 0.9113400699825636, 0.8975410444123151, 0.9162948983601057, 0.9089115070864834, 0.764801183696749, 0.8928156095303915, 0.8632941845870338, 0.8761420002565338, 0.6484214870022431, 0.897821044369431, 0.8807046536139994, 0.898094513630258, 0.9148053567722016, 0.9147323219325832, 0.5908987510309276, 0.9128183909604417, 0.8664011974395178, 0.9278908491345677, 0.9228769166921703, 0.9212515224666639]}, {\"categories\": [\"0\", \"1\", \"2\", \"3\", \"4\", \"5\", \"6\", \"7\", \"8\", \"9\", \"10\", \"11\", \"12\", \"13\", \"14\", \"15\", \"16\", \"17\", \"18\", \"19\", \"20\", \"21\", \"22\", \"23\", \"24\", \"25\", \"26\", \"27\", \"28\", \"29\", \"30\", \"31\", \"32\", \"33\", \"34\", \"35\", \"36\", \"37\", \"38\", \"39\", \"40\", \"41\", \"42\", \"43\", \"47\", \"48\"], \"mode\": \"lines\", \"name\": \"average_precision_score_weighted_max\", \"stepped\": true, \"type\": \"scatter\", \"data\": [0.8955370396295249, 0.9103506263314479, 0.9258976497478795, 0.9258976497478795, 0.9258976497478795, 0.9258976497478795, 0.9258976497478795, 0.9258976497478795, 0.9258976497478795, 0.9258976497478795, 0.9258976497478795, 0.9258976497478795, 0.9258976497478795, 0.9258976497478795, 0.9258976497478795, 0.9258976497478795, 0.9258976497478795, 0.9258976497478795, 0.9258976497478795, 0.9258976497478795, 0.9258976497478795, 0.9258976497478795, 0.9258976497478795, 0.9258976497478795, 0.9258976497478795, 0.9258976497478795, 0.9258976497478795, 0.9258976497478795, 0.9258976497478795, 0.9258976497478795, 0.9258976497478795, 0.9258976497478795, 0.9258976497478795, 0.9258976497478795, 0.9258976497478795, 0.9258976497478795, 0.9258976497478795, 0.9258976497478795, 0.9258976497478795, 0.9258976497478795, 0.9258976497478795, 0.9258976497478795, 0.9258976497478795, 0.9278908491345677, 0.9278908491345677, 0.9278908491345677]}], \"recall_score_micro\": [{\"categories\": [\"0\", \"1\", \"2\", \"3\", \"4\", \"5\", \"6\", \"7\", \"8\", \"9\", \"10\", \"11\", \"12\", \"13\", \"14\", \"15\", \"16\", \"17\", \"18\", \"19\", \"20\", \"21\", \"22\", \"23\", \"24\", \"25\", \"26\", \"27\", \"28\", \"29\", \"30\", \"31\", \"32\", \"33\", \"34\", \"35\", \"36\", \"37\", \"38\", \"39\", \"40\", \"41\", \"42\", \"43\", \"47\", \"48\"], \"mode\": \"markers\", \"name\": \"recall_score_micro\", \"stepped\": false, \"type\": \"scatter\", \"data\": [0.8059887005649717, 0.8259322033898304, 0.8226553672316385, 0.8159887005649716, 0.835819209039548, 0.6992090395480226, 0.8327118644067795, 0.7023728813559321, 0.8029378531073448, 0.8425423728813559, 0.8429943502824859, 0.8496045197740113, 0.8259887005649718, 0.8196045197740114, 0.8561581920903955, 0.8327118644067797, 0.8294350282485876, 0.836045197740113, 0.836271186440678, 0.8293785310734464, 0.8329943502824859, 0.8061016949152542, 0.8227118644067797, 0.8226553672316385, 0.8496045197740113, 0.8428813559322034, 0.8528813559322034, 0.8294915254237288, 0.8293220338983052, 0.8228248587570622, 0.67909604519774, 0.7960451977401131, 0.7024858757062147, 0.7525988700564972, 0.67909604519774, 0.8428813559322034, 0.8327683615819208, 0.8395480225988701, 0.8327118644067797, 0.836045197740113, 0.67909604519774, 0.8161581920903955, 0.7859887005649717, 0.8024293785310734, 0.8663276836158191, 0.8528813559322034]}, {\"categories\": [\"0\", \"1\", \"2\", \"3\", \"4\", \"5\", \"6\", \"7\", \"8\", \"9\", \"10\", \"11\", \"12\", \"13\", \"14\", \"15\", \"16\", \"17\", \"18\", \"19\", \"20\", \"21\", \"22\", \"23\", \"24\", \"25\", \"26\", \"27\", \"28\", \"29\", \"30\", \"31\", \"32\", \"33\", \"34\", \"35\", \"36\", \"37\", \"38\", \"39\", \"40\", \"41\", \"42\", \"43\", \"47\", \"48\"], \"mode\": \"lines\", \"name\": \"recall_score_micro_max\", \"stepped\": true, \"type\": \"scatter\", \"data\": [0.8059887005649717, 0.8259322033898304, 0.8259322033898304, 0.8259322033898304, 0.835819209039548, 0.835819209039548, 0.835819209039548, 0.835819209039548, 0.835819209039548, 0.8425423728813559, 0.8429943502824859, 0.8496045197740113, 0.8496045197740113, 0.8496045197740113, 0.8561581920903955, 0.8561581920903955, 0.8561581920903955, 0.8561581920903955, 0.8561581920903955, 0.8561581920903955, 0.8561581920903955, 0.8561581920903955, 0.8561581920903955, 0.8561581920903955, 0.8561581920903955, 0.8561581920903955, 0.8561581920903955, 0.8561581920903955, 0.8561581920903955, 0.8561581920903955, 0.8561581920903955, 0.8561581920903955, 0.8561581920903955, 0.8561581920903955, 0.8561581920903955, 0.8561581920903955, 0.8561581920903955, 0.8561581920903955, 0.8561581920903955, 0.8561581920903955, 0.8561581920903955, 0.8561581920903955, 0.8561581920903955, 0.8561581920903955, 0.8663276836158191, 0.8663276836158191]}], \"f1_score_weighted\": [{\"categories\": [\"0\", \"1\", \"2\", \"3\", \"4\", \"5\", \"6\", \"7\", \"8\", \"9\", \"10\", \"11\", \"12\", \"13\", \"14\", \"15\", \"16\", \"17\", \"18\", \"19\", \"20\", \"21\", \"22\", \"23\", \"24\", \"25\", \"26\", \"27\", \"28\", \"29\", \"30\", \"31\", \"32\", \"33\", \"34\", \"35\", \"36\", \"37\", \"38\", \"39\", \"40\", \"41\", \"42\", \"43\", \"47\", \"48\"], \"mode\": \"markers\", \"name\": \"f1_score_weighted\", \"stepped\": false, \"type\": \"scatter\", \"data\": [0.8014398448329555, 0.8237396450256732, 0.8228116477221776, 0.8111786295452299, 0.8364254324495386, 0.6053325246060621, 0.8293323815331156, 0.6835851242653023, 0.7911245017844726, 0.8421042002785623, 0.836419079584559, 0.8445786473037667, 0.8226990166453858, 0.81487177611842, 0.849002258891225, 0.8296841036727038, 0.8197393460912312, 0.8308443109274345, 0.8303299104097744, 0.8256093670697467, 0.8295428462047711, 0.7969334231769825, 0.8161214746749401, 0.8120819514951683, 0.8428722098263766, 0.831688788443943, 0.8472624255981287, 0.8245262962763956, 0.8255633294448638, 0.8137297699171275, 0.5526564268547016, 0.7782394653102545, 0.6033430338504413, 0.7177650913719248, 0.5526564268547016, 0.8326242912281151, 0.8295439718459032, 0.8309115385258039, 0.8250351676718385, 0.8318656682565821, 0.5526564268547016, 0.8021759951947371, 0.7911063921058961, 0.8058926812168512, 0.8602591281343492, 0.8477184338209713]}, {\"categories\": [\"0\", \"1\", \"2\", \"3\", \"4\", \"5\", \"6\", \"7\", \"8\", \"9\", \"10\", \"11\", \"12\", \"13\", \"14\", \"15\", \"16\", \"17\", \"18\", \"19\", \"20\", \"21\", \"22\", \"23\", \"24\", \"25\", \"26\", \"27\", \"28\", \"29\", \"30\", \"31\", \"32\", \"33\", \"34\", \"35\", \"36\", \"37\", \"38\", \"39\", \"40\", \"41\", \"42\", \"43\", \"47\", \"48\"], \"mode\": \"lines\", \"name\": \"f1_score_weighted_max\", \"stepped\": true, \"type\": \"scatter\", \"data\": [0.8014398448329555, 0.8237396450256732, 0.8237396450256732, 0.8237396450256732, 0.8364254324495386, 0.8364254324495386, 0.8364254324495386, 0.8364254324495386, 0.8364254324495386, 0.8421042002785623, 0.8421042002785623, 0.8445786473037667, 0.8445786473037667, 0.8445786473037667, 0.849002258891225, 0.849002258891225, 0.849002258891225, 0.849002258891225, 0.849002258891225, 0.849002258891225, 0.849002258891225, 0.849002258891225, 0.849002258891225, 0.849002258891225, 0.849002258891225, 0.849002258891225, 0.849002258891225, 0.849002258891225, 0.849002258891225, 0.849002258891225, 0.849002258891225, 0.849002258891225, 0.849002258891225, 0.849002258891225, 0.849002258891225, 0.849002258891225, 0.849002258891225, 0.849002258891225, 0.849002258891225, 0.849002258891225, 0.849002258891225, 0.849002258891225, 0.849002258891225, 0.849002258891225, 0.8602591281343492, 0.8602591281343492]}], \"precision_score_weighted\": [{\"categories\": [\"0\", \"1\", \"2\", \"3\", \"4\", \"5\", \"6\", \"7\", \"8\", \"9\", \"10\", \"11\", \"12\", \"13\", \"14\", \"15\", \"16\", \"17\", \"18\", \"19\", \"20\", \"21\", \"22\", \"23\", \"24\", \"25\", \"26\", \"27\", \"28\", \"29\", \"30\", \"31\", \"32\", \"33\", \"34\", \"35\", \"36\", \"37\", \"38\", \"39\", \"40\", \"41\", \"42\", \"43\", \"47\", \"48\"], \"mode\": \"markers\", \"name\": \"precision_score_weighted\", \"stepped\": false, \"type\": \"scatter\", \"data\": [0.8237683758533973, 0.8403871377947292, 0.8331829567314329, 0.8277877355143071, 0.849773197793013, 0.7073807253375989, 0.8456787283935405, 0.7114598186706649, 0.8139098478974119, 0.8552428479932928, 0.8589195605705273, 0.8634172995690739, 0.8401262397816287, 0.8270188775034022, 0.8669342212859433, 0.8487006782622111, 0.8484075060512373, 0.8474662566886314, 0.8522035627944705, 0.8431885337243926, 0.8531774663897151, 0.8249044492355729, 0.8361078787627895, 0.8353061511935346, 0.8628885305856565, 0.8596459937674183, 0.8648671859187547, 0.8450024583979342, 0.8420189669375138, 0.8454421284857526, 0.4689005075169971, 0.8142253520361816, 0.8015858172608612, 0.7783455005857939, 0.4689005075169971, 0.8587442346799449, 0.8486384069915097, 0.8499279127504451, 0.8543653930136716, 0.8521985362475807, 0.4689005075169971, 0.8351820421085817, 0.8156208790713697, 0.8244374039854266, 0.8805964092015255, 0.8657455909049693]}, {\"categories\": [\"0\", \"1\", \"2\", \"3\", \"4\", \"5\", \"6\", \"7\", \"8\", \"9\", \"10\", \"11\", \"12\", \"13\", \"14\", \"15\", \"16\", \"17\", \"18\", \"19\", \"20\", \"21\", \"22\", \"23\", \"24\", \"25\", \"26\", \"27\", \"28\", \"29\", \"30\", \"31\", \"32\", \"33\", \"34\", \"35\", \"36\", \"37\", \"38\", \"39\", \"40\", \"41\", \"42\", \"43\", \"47\", \"48\"], \"mode\": \"lines\", \"name\": \"precision_score_weighted_max\", \"stepped\": true, \"type\": \"scatter\", \"data\": [0.8237683758533973, 0.8403871377947292, 0.8403871377947292, 0.8403871377947292, 0.849773197793013, 0.849773197793013, 0.849773197793013, 0.849773197793013, 0.849773197793013, 0.8552428479932928, 0.8589195605705273, 0.8634172995690739, 0.8634172995690739, 0.8634172995690739, 0.8669342212859433, 0.8669342212859433, 0.8669342212859433, 0.8669342212859433, 0.8669342212859433, 0.8669342212859433, 0.8669342212859433, 0.8669342212859433, 0.8669342212859433, 0.8669342212859433, 0.8669342212859433, 0.8669342212859433, 0.8669342212859433, 0.8669342212859433, 0.8669342212859433, 0.8669342212859433, 0.8669342212859433, 0.8669342212859433, 0.8669342212859433, 0.8669342212859433, 0.8669342212859433, 0.8669342212859433, 0.8669342212859433, 0.8669342212859433, 0.8669342212859433, 0.8669342212859433, 0.8669342212859433, 0.8669342212859433, 0.8669342212859433, 0.8669342212859433, 0.8805964092015255, 0.8805964092015255]}], \"matthews_correlation\": [{\"categories\": [\"0\", \"1\", \"2\", \"3\", \"4\", \"5\", \"6\", \"7\", \"8\", \"9\", \"10\", \"11\", \"12\", \"13\", \"14\", \"15\", \"16\", \"17\", \"18\", \"19\", \"20\", \"21\", \"22\", \"23\", \"24\", \"25\", \"26\", \"27\", \"28\", \"29\", \"30\", \"31\", \"32\", \"33\", \"34\", \"35\", \"36\", \"37\", \"38\", \"39\", \"40\", \"41\", \"42\", \"43\", \"47\", \"48\"], \"mode\": \"markers\", \"name\": \"matthews_correlation\", \"stepped\": false, \"type\": \"scatter\", \"data\": [0.5628617041183437, 0.6132552509330647, 0.5981760423920571, 0.5723384477677058, 0.6265394950671279, 0.1782841413825283, 0.6200321270013397, 0.29624595914862656, 0.5361914047326157, 0.6430767846435574, 0.642701171212221, 0.6568903004948619, 0.6039758923165103, 0.5732436218887195, 0.6732730474608075, 0.6224283762478351, 0.6089306387916578, 0.6234116153494524, 0.6270024461300338, 0.6124918481848944, 0.6311991764150848, 0.5553572959101698, 0.5894205461764175, 0.5832835639254463, 0.6619324979505092, 0.644936769462819, 0.6647960207123214, 0.6131294456500977, 0.6087073787846016, 0.5944741037596385, 0.0, 0.5229849506013998, 0.23451094622236252, 0.3938411430054799, 0.0, 0.6417674686178119, 0.6226348862652756, 0.6256831253404698, 0.6253757176900704, 0.6313236379592749, 0.0, 0.5731686693141919, 0.545130790356304, 0.5692787244100063, 0.7029103340122305, 0.6661042647095533]}, {\"categories\": [\"0\", \"1\", \"2\", \"3\", \"4\", \"5\", \"6\", \"7\", \"8\", \"9\", \"10\", \"11\", \"12\", \"13\", \"14\", \"15\", \"16\", \"17\", \"18\", \"19\", \"20\", \"21\", \"22\", \"23\", \"24\", \"25\", \"26\", \"27\", \"28\", \"29\", \"30\", \"31\", \"32\", \"33\", \"34\", \"35\", \"36\", \"37\", \"38\", \"39\", \"40\", \"41\", \"42\", \"43\", \"47\", \"48\"], \"mode\": \"lines\", \"name\": \"matthews_correlation_max\", \"stepped\": true, \"type\": \"scatter\", \"data\": [0.5628617041183437, 0.6132552509330647, 0.6132552509330647, 0.6132552509330647, 0.6265394950671279, 0.6265394950671279, 0.6265394950671279, 0.6265394950671279, 0.6265394950671279, 0.6430767846435574, 0.6430767846435574, 0.6568903004948619, 0.6568903004948619, 0.6568903004948619, 0.6732730474608075, 0.6732730474608075, 0.6732730474608075, 0.6732730474608075, 0.6732730474608075, 0.6732730474608075, 0.6732730474608075, 0.6732730474608075, 0.6732730474608075, 0.6732730474608075, 0.6732730474608075, 0.6732730474608075, 0.6732730474608075, 0.6732730474608075, 0.6732730474608075, 0.6732730474608075, 0.6732730474608075, 0.6732730474608075, 0.6732730474608075, 0.6732730474608075, 0.6732730474608075, 0.6732730474608075, 0.6732730474608075, 0.6732730474608075, 0.6732730474608075, 0.6732730474608075, 0.6732730474608075, 0.6732730474608075, 0.6732730474608075, 0.6732730474608075, 0.7029103340122305, 0.7029103340122305]}], \"AUC_macro\": [{\"categories\": [\"0\", \"1\", \"2\", \"3\", \"4\", \"5\", \"6\", \"7\", \"8\", \"9\", \"10\", \"11\", \"12\", \"13\", \"14\", \"15\", \"16\", \"17\", \"18\", \"19\", \"20\", \"21\", \"22\", \"23\", \"24\", \"25\", \"26\", \"27\", \"28\", \"29\", \"30\", \"31\", \"32\", \"33\", \"34\", \"35\", \"36\", \"37\", \"38\", \"39\", \"40\", \"41\", \"42\", \"43\", \"47\", \"48\"], \"mode\": \"markers\", \"name\": \"AUC_macro\", \"stepped\": false, \"type\": \"scatter\", \"data\": [0.8811331210778885, 0.8929591177556295, 0.9115837947582133, 0.9084357004429681, 0.9011050895164268, 0.8274898486526393, 0.904063630490956, 0.7798414313399779, 0.8711940983757843, 0.8964928479143597, 0.8838348791066813, 0.8940481035437431, 0.9058244739756368, 0.8664778400701365, 0.8981826319675157, 0.9052194767441861, 0.8937756782945737, 0.9007161314138058, 0.8967421557770396, 0.9030714977851606, 0.8876433877814691, 0.893891888150609, 0.8940475959763751, 0.8888375899778517, 0.8873935723514211, 0.8645653608342562, 0.8947779623477297, 0.8804975313768919, 0.9034047157622739, 0.8974649317091178, 0.7359019933554818, 0.8730211794019933, 0.8516430647840532, 0.852764742524917, 0.6232403100775195, 0.8827660575858249, 0.8742910322074566, 0.8816578419158361, 0.898249146363972, 0.8978392395717977, 0.521203234588409, 0.8967023348098928, 0.8463227205610926, 0.9129467977113326, 0.9127911590992988, 0.9103228820598007]}, {\"categories\": [\"0\", \"1\", \"2\", \"3\", \"4\", \"5\", \"6\", \"7\", \"8\", \"9\", \"10\", \"11\", \"12\", \"13\", \"14\", \"15\", \"16\", \"17\", \"18\", \"19\", \"20\", \"21\", \"22\", \"23\", \"24\", \"25\", \"26\", \"27\", \"28\", \"29\", \"30\", \"31\", \"32\", \"33\", \"34\", \"35\", \"36\", \"37\", \"38\", \"39\", \"40\", \"41\", \"42\", \"43\", \"47\", \"48\"], \"mode\": \"lines\", \"name\": \"AUC_macro_max\", \"stepped\": true, \"type\": \"scatter\", \"data\": [0.8811331210778885, 0.8929591177556295, 0.9115837947582133, 0.9115837947582133, 0.9115837947582133, 0.9115837947582133, 0.9115837947582133, 0.9115837947582133, 0.9115837947582133, 0.9115837947582133, 0.9115837947582133, 0.9115837947582133, 0.9115837947582133, 0.9115837947582133, 0.9115837947582133, 0.9115837947582133, 0.9115837947582133, 0.9115837947582133, 0.9115837947582133, 0.9115837947582133, 0.9115837947582133, 0.9115837947582133, 0.9115837947582133, 0.9115837947582133, 0.9115837947582133, 0.9115837947582133, 0.9115837947582133, 0.9115837947582133, 0.9115837947582133, 0.9115837947582133, 0.9115837947582133, 0.9115837947582133, 0.9115837947582133, 0.9115837947582133, 0.9115837947582133, 0.9115837947582133, 0.9115837947582133, 0.9115837947582133, 0.9115837947582133, 0.9115837947582133, 0.9115837947582133, 0.9115837947582133, 0.9115837947582133, 0.9129467977113326, 0.9129467977113326, 0.9129467977113326]}], \"recall_score_macro\": [{\"categories\": [\"0\", \"1\", \"2\", \"3\", \"4\", \"5\", \"6\", \"7\", \"8\", \"9\", \"10\", \"11\", \"12\", \"13\", \"14\", \"15\", \"16\", \"17\", \"18\", \"19\", \"20\", \"21\", \"22\", \"23\", \"24\", \"25\", \"26\", \"27\", \"28\", \"29\", \"30\", \"31\", \"32\", \"33\", \"34\", \"35\", \"36\", \"37\", \"38\", \"39\", \"40\", \"41\", \"42\", \"43\", \"47\", \"48\"], \"mode\": \"markers\", \"name\": \"recall_score_macro\", \"stepped\": false, \"type\": \"scatter\", \"data\": [0.7760209025470652, 0.8060125968992248, 0.8030107973421927, 0.7750048449612403, 0.8158257198228128, 0.5373809523809523, 0.8063226744186046, 0.6373262735326689, 0.7446643133997786, 0.8229132059800663, 0.79625, 0.8112458471760797, 0.7985167497231451, 0.773265503875969, 0.8136524086378738, 0.8100089977851607, 0.780531561461794, 0.8027512458471762, 0.7971940753045403, 0.8020923311184939, 0.8043410852713178, 0.7582696566998892, 0.7812631506090808, 0.7640351605758582, 0.8101446566998891, 0.7870535714285715, 0.8153827519379846, 0.7940988372093024, 0.798516749723145, 0.7757101328903655, 0.5, 0.7218964562569214, 0.5414880952380953, 0.6495196566998892, 0.5, 0.7837202380952382, 0.8033720930232559, 0.7803827519379845, 0.8023089700996678, 0.8135209025470653, 0.5, 0.7494601328903654, 0.788984634551495, 0.7951965669988924, 0.8299702380952383, 0.8211524086378738]}, {\"categories\": [\"0\", \"1\", \"2\", \"3\", \"4\", \"5\", \"6\", \"7\", \"8\", \"9\", \"10\", \"11\", \"12\", \"13\", \"14\", \"15\", \"16\", \"17\", \"18\", \"19\", \"20\", \"21\", \"22\", \"23\", \"24\", \"25\", \"26\", \"27\", \"28\", \"29\", \"30\", \"31\", \"32\", \"33\", \"34\", \"35\", \"36\", \"37\", \"38\", \"39\", \"40\", \"41\", \"42\", \"43\", \"47\", \"48\"], \"mode\": \"lines\", \"name\": \"recall_score_macro_max\", \"stepped\": true, \"type\": \"scatter\", \"data\": [0.7760209025470652, 0.8060125968992248, 0.8060125968992248, 0.8060125968992248, 0.8158257198228128, 0.8158257198228128, 0.8158257198228128, 0.8158257198228128, 0.8158257198228128, 0.8229132059800663, 0.8229132059800663, 0.8229132059800663, 0.8229132059800663, 0.8229132059800663, 0.8229132059800663, 0.8229132059800663, 0.8229132059800663, 0.8229132059800663, 0.8229132059800663, 0.8229132059800663, 0.8229132059800663, 0.8229132059800663, 0.8229132059800663, 0.8229132059800663, 0.8229132059800663, 0.8229132059800663, 0.8229132059800663, 0.8229132059800663, 0.8229132059800663, 0.8229132059800663, 0.8229132059800663, 0.8229132059800663, 0.8229132059800663, 0.8229132059800663, 0.8229132059800663, 0.8229132059800663, 0.8229132059800663, 0.8229132059800663, 0.8229132059800663, 0.8229132059800663, 0.8229132059800663, 0.8229132059800663, 0.8229132059800663, 0.8229132059800663, 0.8299702380952383, 0.8299702380952383]}], \"weighted_accuracy\": [{\"categories\": [\"0\", \"1\", \"2\", \"3\", \"4\", \"5\", \"6\", \"7\", \"8\", \"9\", \"10\", \"11\", \"12\", \"13\", \"14\", \"15\", \"16\", \"17\", \"18\", \"19\", \"20\", \"21\", \"22\", \"23\", \"24\", \"25\", \"26\", \"27\", \"28\", \"29\", \"30\", \"31\", \"32\", \"33\", \"34\", \"35\", \"36\", \"37\", \"38\", \"39\", \"40\", \"41\", \"42\", \"43\", \"47\", \"48\"], \"mode\": \"markers\", \"name\": \"weighted_accuracy\", \"stepped\": false, \"type\": \"scatter\", \"data\": [0.8252063202764133, 0.8406325321291572, 0.8355682944230601, 0.8449141212493659, 0.8478711932085385, 0.8066562603684823, 0.8504669133875989, 0.7487291003341408, 0.8435228402335646, 0.8558397509214941, 0.8748101456461338, 0.876880803619453, 0.8437383447440734, 0.8492757467058881, 0.8853052955148806, 0.8489611103348704, 0.8619693746205522, 0.8593695682548554, 0.8631404005320202, 0.8488826789623214, 0.8533820798830117, 0.8402039746552564, 0.8513702623377982, 0.8628172670030745, 0.8769894276000187, 0.8819561268687999, 0.878645014081558, 0.8541777577741205, 0.8497383447440734, 0.8535686900997972, 0.7971865900207855, 0.8465519187642686, 0.8097649094910073, 0.8209031651253822, 0.7971865900207855, 0.882975734711937, 0.8519027822257064, 0.8785273670227346, 0.8532800216633014, 0.851785333829578, 0.7971865900207855, 0.8613333959821501, 0.7842887723016393, 0.806402028173008, 0.8910749382888546, 0.8750607796562806]}, {\"categories\": [\"0\", \"1\", \"2\", \"3\", \"4\", \"5\", \"6\", \"7\", \"8\", \"9\", \"10\", \"11\", \"12\", \"13\", \"14\", \"15\", \"16\", \"17\", \"18\", \"19\", \"20\", \"21\", \"22\", \"23\", \"24\", \"25\", \"26\", \"27\", \"28\", \"29\", \"30\", \"31\", \"32\", \"33\", \"34\", \"35\", \"36\", \"37\", \"38\", \"39\", \"40\", \"41\", \"42\", \"43\", \"47\", \"48\"], \"mode\": \"lines\", \"name\": \"weighted_accuracy_max\", \"stepped\": true, \"type\": \"scatter\", \"data\": [0.8252063202764133, 0.8406325321291572, 0.8406325321291572, 0.8449141212493659, 0.8478711932085385, 0.8478711932085385, 0.8504669133875989, 0.8504669133875989, 0.8504669133875989, 0.8558397509214941, 0.8748101456461338, 0.876880803619453, 0.876880803619453, 0.876880803619453, 0.8853052955148806, 0.8853052955148806, 0.8853052955148806, 0.8853052955148806, 0.8853052955148806, 0.8853052955148806, 0.8853052955148806, 0.8853052955148806, 0.8853052955148806, 0.8853052955148806, 0.8853052955148806, 0.8853052955148806, 0.8853052955148806, 0.8853052955148806, 0.8853052955148806, 0.8853052955148806, 0.8853052955148806, 0.8853052955148806, 0.8853052955148806, 0.8853052955148806, 0.8853052955148806, 0.8853052955148806, 0.8853052955148806, 0.8853052955148806, 0.8853052955148806, 0.8853052955148806, 0.8853052955148806, 0.8853052955148806, 0.8853052955148806, 0.8853052955148806, 0.8910749382888546, 0.8910749382888546]}], \"precision_score_micro\": [{\"categories\": [\"0\", \"1\", \"2\", \"3\", \"4\", \"5\", \"6\", \"7\", \"8\", \"9\", \"10\", \"11\", \"12\", \"13\", \"14\", \"15\", \"16\", \"17\", \"18\", \"19\", \"20\", \"21\", \"22\", \"23\", \"24\", \"25\", \"26\", \"27\", \"28\", \"29\", \"30\", \"31\", \"32\", \"33\", \"34\", \"35\", \"36\", \"37\", \"38\", \"39\", \"40\", \"41\", \"42\", \"43\", \"47\", \"48\"], \"mode\": \"markers\", \"name\": \"precision_score_micro\", \"stepped\": false, \"type\": \"scatter\", \"data\": [0.8059887005649717, 0.8259322033898304, 0.8226553672316385, 0.8159887005649716, 0.835819209039548, 0.6992090395480226, 0.8327118644067795, 0.7023728813559321, 0.8029378531073448, 0.8425423728813559, 0.8429943502824859, 0.8496045197740113, 0.8259887005649718, 0.8196045197740114, 0.8561581920903955, 0.8327118644067797, 0.8294350282485876, 0.836045197740113, 0.836271186440678, 0.8293785310734464, 0.8329943502824859, 0.8061016949152542, 0.8227118644067797, 0.8226553672316385, 0.8496045197740113, 0.8428813559322034, 0.8528813559322034, 0.8294915254237288, 0.8293220338983052, 0.8228248587570622, 0.67909604519774, 0.7960451977401131, 0.7024858757062147, 0.7525988700564972, 0.67909604519774, 0.8428813559322034, 0.8327683615819208, 0.8395480225988701, 0.8327118644067797, 0.836045197740113, 0.67909604519774, 0.8161581920903955, 0.7859887005649717, 0.8024293785310734, 0.8663276836158191, 0.8528813559322034]}, {\"categories\": [\"0\", \"1\", \"2\", \"3\", \"4\", \"5\", \"6\", \"7\", \"8\", \"9\", \"10\", \"11\", \"12\", \"13\", \"14\", \"15\", \"16\", \"17\", \"18\", \"19\", \"20\", \"21\", \"22\", \"23\", \"24\", \"25\", \"26\", \"27\", \"28\", \"29\", \"30\", \"31\", \"32\", \"33\", \"34\", \"35\", \"36\", \"37\", \"38\", \"39\", \"40\", \"41\", \"42\", \"43\", \"47\", \"48\"], \"mode\": \"lines\", \"name\": \"precision_score_micro_max\", \"stepped\": true, \"type\": \"scatter\", \"data\": [0.8059887005649717, 0.8259322033898304, 0.8259322033898304, 0.8259322033898304, 0.835819209039548, 0.835819209039548, 0.835819209039548, 0.835819209039548, 0.835819209039548, 0.8425423728813559, 0.8429943502824859, 0.8496045197740113, 0.8496045197740113, 0.8496045197740113, 0.8561581920903955, 0.8561581920903955, 0.8561581920903955, 0.8561581920903955, 0.8561581920903955, 0.8561581920903955, 0.8561581920903955, 0.8561581920903955, 0.8561581920903955, 0.8561581920903955, 0.8561581920903955, 0.8561581920903955, 0.8561581920903955, 0.8561581920903955, 0.8561581920903955, 0.8561581920903955, 0.8561581920903955, 0.8561581920903955, 0.8561581920903955, 0.8561581920903955, 0.8561581920903955, 0.8561581920903955, 0.8561581920903955, 0.8561581920903955, 0.8561581920903955, 0.8561581920903955, 0.8561581920903955, 0.8561581920903955, 0.8561581920903955, 0.8561581920903955, 0.8663276836158191, 0.8663276836158191]}], \"average_precision_score_micro\": [{\"categories\": [\"0\", \"1\", \"2\", \"3\", \"4\", \"5\", \"6\", \"7\", \"8\", \"9\", \"10\", \"11\", \"12\", \"13\", \"14\", \"15\", \"16\", \"17\", \"18\", \"19\", \"20\", \"21\", \"22\", \"23\", \"24\", \"25\", \"26\", \"27\", \"28\", \"29\", \"30\", \"31\", \"32\", \"33\", \"34\", \"35\", \"36\", \"37\", \"38\", \"39\", \"40\", \"41\", \"42\", \"43\", \"47\", \"48\"], \"mode\": \"markers\", \"name\": \"average_precision_score_micro\", \"stepped\": false, \"type\": \"scatter\", \"data\": [0.887958292631032, 0.9018582931163117, 0.9190115065813783, 0.9126670510438697, 0.9030515199221604, 0.8265398222505596, 0.9100942061757319, 0.7987151497850226, 0.87889036846259, 0.9037914915121554, 0.8949473135861712, 0.9026020432426062, 0.9120610931758051, 0.8750351460026785, 0.9059277800404322, 0.9111064454374069, 0.8991300441468708, 0.9050682649126307, 0.9022681622437723, 0.9106439853092263, 0.893386848713541, 0.9020509033851474, 0.8859490806858659, 0.8857281642392479, 0.8919797427373227, 0.8728016287232965, 0.9046499210834558, 0.8962083695522194, 0.9089836809351326, 0.9044458223285808, 0.7789163988392993, 0.8788764639670136, 0.8316112708805534, 0.8629420368696422, 0.6967353916943996, 0.891298116575053, 0.8803170896692747, 0.8981301177223215, 0.9058435921802557, 0.9048185882112945, 0.6495797852855182, 0.9000157462971572, 0.8527528440593335, 0.9168128278607653, 0.9163605531925219, 0.904906299418269]}, {\"categories\": [\"0\", \"1\", \"2\", \"3\", \"4\", \"5\", \"6\", \"7\", \"8\", \"9\", \"10\", \"11\", \"12\", \"13\", \"14\", \"15\", \"16\", \"17\", \"18\", \"19\", \"20\", \"21\", \"22\", \"23\", \"24\", \"25\", \"26\", \"27\", \"28\", \"29\", \"30\", \"31\", \"32\", \"33\", \"34\", \"35\", \"36\", \"37\", \"38\", \"39\", \"40\", \"41\", \"42\", \"43\", \"47\", \"48\"], \"mode\": \"lines\", \"name\": \"average_precision_score_micro_max\", \"stepped\": true, \"type\": \"scatter\", \"data\": [0.887958292631032, 0.9018582931163117, 0.9190115065813783, 0.9190115065813783, 0.9190115065813783, 0.9190115065813783, 0.9190115065813783, 0.9190115065813783, 0.9190115065813783, 0.9190115065813783, 0.9190115065813783, 0.9190115065813783, 0.9190115065813783, 0.9190115065813783, 0.9190115065813783, 0.9190115065813783, 0.9190115065813783, 0.9190115065813783, 0.9190115065813783, 0.9190115065813783, 0.9190115065813783, 0.9190115065813783, 0.9190115065813783, 0.9190115065813783, 0.9190115065813783, 0.9190115065813783, 0.9190115065813783, 0.9190115065813783, 0.9190115065813783, 0.9190115065813783, 0.9190115065813783, 0.9190115065813783, 0.9190115065813783, 0.9190115065813783, 0.9190115065813783, 0.9190115065813783, 0.9190115065813783, 0.9190115065813783, 0.9190115065813783, 0.9190115065813783, 0.9190115065813783, 0.9190115065813783, 0.9190115065813783, 0.9190115065813783, 0.9190115065813783, 0.9190115065813783]}], \"f1_score_macro\": [{\"categories\": [\"0\", \"1\", \"2\", \"3\", \"4\", \"5\", \"6\", \"7\", \"8\", \"9\", \"10\", \"11\", \"12\", \"13\", \"14\", \"15\", \"16\", \"17\", \"18\", \"19\", \"20\", \"21\", \"22\", \"23\", \"24\", \"25\", \"26\", \"27\", \"28\", \"29\", \"30\", \"31\", \"32\", \"33\", \"34\", \"35\", \"36\", \"37\", \"38\", \"39\", \"40\", \"41\", \"42\", \"43\", \"47\", \"48\"], \"mode\": \"markers\", \"name\": \"f1_score_macro\", \"stepped\": false, \"type\": \"scatter\", \"data\": [0.7682096405971308, 0.7972526241921125, 0.7937776047612536, 0.7753649564325918, 0.8067569099989736, 0.4802540254868738, 0.8000842328844346, 0.6250943660246523, 0.7504877548060954, 0.8146707094185193, 0.8064013717093428, 0.8161275803155832, 0.7919223780877013, 0.7780614405421404, 0.823870853403873, 0.8000633812925602, 0.7848543422036329, 0.8008627271016635, 0.7998732320652098, 0.7956235504288897, 0.8017629707082936, 0.7581139646332709, 0.7815130779783559, 0.7744146297219825, 0.8172942288564847, 0.8014666152184249, 0.8203011718964252, 0.7936835562304415, 0.7945700319672169, 0.7768327327539442, 0.40276783177038933, 0.7340488428018551, 0.483423270669857, 0.6489583192971069, 0.40276783177038933, 0.8012994582349133, 0.8005348979186188, 0.7979457684209958, 0.7945815729884591, 0.8035693807983076, 0.40276783177038933, 0.7625919451180303, 0.7609401127327956, 0.7763449813633032, 0.837853398996308, 0.8213651752763544]}, {\"categories\": [\"0\", \"1\", \"2\", \"3\", \"4\", \"5\", \"6\", \"7\", \"8\", \"9\", \"10\", \"11\", \"12\", \"13\", \"14\", \"15\", \"16\", \"17\", \"18\", \"19\", \"20\", \"21\", \"22\", \"23\", \"24\", \"25\", \"26\", \"27\", \"28\", \"29\", \"30\", \"31\", \"32\", \"33\", \"34\", \"35\", \"36\", \"37\", \"38\", \"39\", \"40\", \"41\", \"42\", \"43\", \"47\", \"48\"], \"mode\": \"lines\", \"name\": \"f1_score_macro_max\", \"stepped\": true, \"type\": \"scatter\", \"data\": [0.7682096405971308, 0.7972526241921125, 0.7972526241921125, 0.7972526241921125, 0.8067569099989736, 0.8067569099989736, 0.8067569099989736, 0.8067569099989736, 0.8067569099989736, 0.8146707094185193, 0.8146707094185193, 0.8161275803155832, 0.8161275803155832, 0.8161275803155832, 0.823870853403873, 0.823870853403873, 0.823870853403873, 0.823870853403873, 0.823870853403873, 0.823870853403873, 0.823870853403873, 0.823870853403873, 0.823870853403873, 0.823870853403873, 0.823870853403873, 0.823870853403873, 0.823870853403873, 0.823870853403873, 0.823870853403873, 0.823870853403873, 0.823870853403873, 0.823870853403873, 0.823870853403873, 0.823870853403873, 0.823870853403873, 0.823870853403873, 0.823870853403873, 0.823870853403873, 0.823870853403873, 0.823870853403873, 0.823870853403873, 0.823870853403873, 0.823870853403873, 0.823870853403873, 0.837853398996308, 0.837853398996308]}], \"recall_score_weighted\": [{\"categories\": [\"0\", \"1\", \"2\", \"3\", \"4\", \"5\", \"6\", \"7\", \"8\", \"9\", \"10\", \"11\", \"12\", \"13\", \"14\", \"15\", \"16\", \"17\", \"18\", \"19\", \"20\", \"21\", \"22\", \"23\", \"24\", \"25\", \"26\", \"27\", \"28\", \"29\", \"30\", \"31\", \"32\", \"33\", \"34\", \"35\", \"36\", \"37\", \"38\", \"39\", \"40\", \"41\", \"42\", \"43\", \"47\", \"48\"], \"mode\": \"markers\", \"name\": \"recall_score_weighted\", \"stepped\": false, \"type\": \"scatter\", \"data\": [0.8059887005649717, 0.8259322033898304, 0.8226553672316385, 0.8159887005649716, 0.835819209039548, 0.6992090395480226, 0.8327118644067795, 0.7023728813559321, 0.8029378531073448, 0.8425423728813559, 0.8429943502824859, 0.8496045197740113, 0.8259887005649718, 0.8196045197740114, 0.8561581920903955, 0.8327118644067797, 0.8294350282485876, 0.836045197740113, 0.836271186440678, 0.8293785310734464, 0.8329943502824859, 0.8061016949152542, 0.8227118644067797, 0.8226553672316385, 0.8496045197740113, 0.8428813559322034, 0.8528813559322034, 0.8294915254237288, 0.8293220338983052, 0.8228248587570622, 0.67909604519774, 0.7960451977401131, 0.7024858757062147, 0.7525988700564972, 0.67909604519774, 0.8428813559322034, 0.8327683615819208, 0.8395480225988701, 0.8327118644067797, 0.836045197740113, 0.67909604519774, 0.8161581920903955, 0.7859887005649717, 0.8024293785310734, 0.8663276836158191, 0.8528813559322034]}, {\"categories\": [\"0\", \"1\", \"2\", \"3\", \"4\", \"5\", \"6\", \"7\", \"8\", \"9\", \"10\", \"11\", \"12\", \"13\", \"14\", \"15\", \"16\", \"17\", \"18\", \"19\", \"20\", \"21\", \"22\", \"23\", \"24\", \"25\", \"26\", \"27\", \"28\", \"29\", \"30\", \"31\", \"32\", \"33\", \"34\", \"35\", \"36\", \"37\", \"38\", \"39\", \"40\", \"41\", \"42\", \"43\", \"47\", \"48\"], \"mode\": \"lines\", \"name\": \"recall_score_weighted_max\", \"stepped\": true, \"type\": \"scatter\", \"data\": [0.8059887005649717, 0.8259322033898304, 0.8259322033898304, 0.8259322033898304, 0.835819209039548, 0.835819209039548, 0.835819209039548, 0.835819209039548, 0.835819209039548, 0.8425423728813559, 0.8429943502824859, 0.8496045197740113, 0.8496045197740113, 0.8496045197740113, 0.8561581920903955, 0.8561581920903955, 0.8561581920903955, 0.8561581920903955, 0.8561581920903955, 0.8561581920903955, 0.8561581920903955, 0.8561581920903955, 0.8561581920903955, 0.8561581920903955, 0.8561581920903955, 0.8561581920903955, 0.8561581920903955, 0.8561581920903955, 0.8561581920903955, 0.8561581920903955, 0.8561581920903955, 0.8561581920903955, 0.8561581920903955, 0.8561581920903955, 0.8561581920903955, 0.8561581920903955, 0.8561581920903955, 0.8561581920903955, 0.8561581920903955, 0.8561581920903955, 0.8561581920903955, 0.8561581920903955, 0.8561581920903955, 0.8561581920903955, 0.8663276836158191, 0.8663276836158191]}], \"f1_score_micro\": [{\"categories\": [\"0\", \"1\", \"2\", \"3\", \"4\", \"5\", \"6\", \"7\", \"8\", \"9\", \"10\", \"11\", \"12\", \"13\", \"14\", \"15\", \"16\", \"17\", \"18\", \"19\", \"20\", \"21\", \"22\", \"23\", \"24\", \"25\", \"26\", \"27\", \"28\", \"29\", \"30\", \"31\", \"32\", \"33\", \"34\", \"35\", \"36\", \"37\", \"38\", \"39\", \"40\", \"41\", \"42\", \"43\", \"47\", \"48\"], \"mode\": \"markers\", \"name\": \"f1_score_micro\", \"stepped\": false, \"type\": \"scatter\", \"data\": [0.8059887005649718, 0.8259322033898304, 0.8226553672316385, 0.8159887005649716, 0.835819209039548, 0.6992090395480226, 0.8327118644067797, 0.7023728813559321, 0.8029378531073448, 0.8425423728813559, 0.8429943502824859, 0.8496045197740113, 0.8259887005649718, 0.8196045197740114, 0.8561581920903955, 0.8327118644067797, 0.8294350282485876, 0.836045197740113, 0.836271186440678, 0.8293785310734464, 0.8329943502824859, 0.8061016949152542, 0.8227118644067797, 0.8226553672316385, 0.8496045197740113, 0.8428813559322034, 0.8528813559322034, 0.8294915254237288, 0.8293220338983052, 0.8228248587570622, 0.67909604519774, 0.7960451977401131, 0.7024858757062147, 0.7525988700564972, 0.67909604519774, 0.8428813559322034, 0.8327683615819208, 0.8395480225988701, 0.8327118644067797, 0.836045197740113, 0.67909604519774, 0.8161581920903955, 0.7859887005649718, 0.8024293785310734, 0.8663276836158191, 0.8528813559322034]}, {\"categories\": [\"0\", \"1\", \"2\", \"3\", \"4\", \"5\", \"6\", \"7\", \"8\", \"9\", \"10\", \"11\", \"12\", \"13\", \"14\", \"15\", \"16\", \"17\", \"18\", \"19\", \"20\", \"21\", \"22\", \"23\", \"24\", \"25\", \"26\", \"27\", \"28\", \"29\", \"30\", \"31\", \"32\", \"33\", \"34\", \"35\", \"36\", \"37\", \"38\", \"39\", \"40\", \"41\", \"42\", \"43\", \"47\", \"48\"], \"mode\": \"lines\", \"name\": \"f1_score_micro_max\", \"stepped\": true, \"type\": \"scatter\", \"data\": [0.8059887005649718, 0.8259322033898304, 0.8259322033898304, 0.8259322033898304, 0.835819209039548, 0.835819209039548, 0.835819209039548, 0.835819209039548, 0.835819209039548, 0.8425423728813559, 0.8429943502824859, 0.8496045197740113, 0.8496045197740113, 0.8496045197740113, 0.8561581920903955, 0.8561581920903955, 0.8561581920903955, 0.8561581920903955, 0.8561581920903955, 0.8561581920903955, 0.8561581920903955, 0.8561581920903955, 0.8561581920903955, 0.8561581920903955, 0.8561581920903955, 0.8561581920903955, 0.8561581920903955, 0.8561581920903955, 0.8561581920903955, 0.8561581920903955, 0.8561581920903955, 0.8561581920903955, 0.8561581920903955, 0.8561581920903955, 0.8561581920903955, 0.8561581920903955, 0.8561581920903955, 0.8561581920903955, 0.8561581920903955, 0.8561581920903955, 0.8561581920903955, 0.8561581920903955, 0.8561581920903955, 0.8561581920903955, 0.8663276836158191, 0.8663276836158191]}], \"norm_macro_recall\": [{\"categories\": [\"0\", \"1\", \"2\", \"3\", \"4\", \"5\", \"6\", \"7\", \"8\", \"9\", \"10\", \"11\", \"12\", \"13\", \"14\", \"15\", \"16\", \"17\", \"18\", \"19\", \"20\", \"21\", \"22\", \"23\", \"24\", \"25\", \"26\", \"27\", \"28\", \"29\", \"30\", \"31\", \"32\", \"33\", \"34\", \"35\", \"36\", \"37\", \"38\", \"39\", \"40\", \"41\", \"42\", \"43\", \"47\", \"48\"], \"mode\": \"markers\", \"name\": \"norm_macro_recall\", \"stepped\": false, \"type\": \"scatter\", \"data\": [0.5520418050941306, 0.6120251937984496, 0.6060215946843852, 0.5500096899224806, 0.6316514396456256, 0.07476190476190481, 0.6126453488372092, 0.27465254706533776, 0.489328626799557, 0.6458264119601329, 0.5925, 0.6224916943521595, 0.59703349944629, 0.546531007751938, 0.6273048172757475, 0.6200179955703213, 0.561063122923588, 0.6055024916943521, 0.5943881506090809, 0.6041846622369877, 0.6086821705426356, 0.5165393133997785, 0.5625263012181616, 0.5280703211517166, 0.6202893133997786, 0.5741071428571429, 0.630765503875969, 0.5881976744186046, 0.59703349944629, 0.5514202657807308, 0.0, 0.4437929125138428, 0.08297619047619054, 0.2990393133997785, 0.0, 0.5674404761904762, 0.6067441860465117, 0.560765503875969, 0.6046179401993355, 0.6270418050941308, 0.0, 0.4989202657807309, 0.57796926910299, 0.5903931339977851, 0.6599404761904764, 0.6423048172757475]}, {\"categories\": [\"0\", \"1\", \"2\", \"3\", \"4\", \"5\", \"6\", \"7\", \"8\", \"9\", \"10\", \"11\", \"12\", \"13\", \"14\", \"15\", \"16\", \"17\", \"18\", \"19\", \"20\", \"21\", \"22\", \"23\", \"24\", \"25\", \"26\", \"27\", \"28\", \"29\", \"30\", \"31\", \"32\", \"33\", \"34\", \"35\", \"36\", \"37\", \"38\", \"39\", \"40\", \"41\", \"42\", \"43\", \"47\", \"48\"], \"mode\": \"lines\", \"name\": \"norm_macro_recall_max\", \"stepped\": true, \"type\": \"scatter\", \"data\": [0.5520418050941306, 0.6120251937984496, 0.6120251937984496, 0.6120251937984496, 0.6316514396456256, 0.6316514396456256, 0.6316514396456256, 0.6316514396456256, 0.6316514396456256, 0.6458264119601329, 0.6458264119601329, 0.6458264119601329, 0.6458264119601329, 0.6458264119601329, 0.6458264119601329, 0.6458264119601329, 0.6458264119601329, 0.6458264119601329, 0.6458264119601329, 0.6458264119601329, 0.6458264119601329, 0.6458264119601329, 0.6458264119601329, 0.6458264119601329, 0.6458264119601329, 0.6458264119601329, 0.6458264119601329, 0.6458264119601329, 0.6458264119601329, 0.6458264119601329, 0.6458264119601329, 0.6458264119601329, 0.6458264119601329, 0.6458264119601329, 0.6458264119601329, 0.6458264119601329, 0.6458264119601329, 0.6458264119601329, 0.6458264119601329, 0.6458264119601329, 0.6458264119601329, 0.6458264119601329, 0.6458264119601329, 0.6458264119601329, 0.6599404761904764, 0.6599404761904764]}], \"log_loss\": [{\"categories\": [\"0\", \"1\", \"2\", \"3\", \"4\", \"5\", \"6\", \"7\", \"8\", \"9\", \"10\", \"11\", \"12\", \"13\", \"14\", \"15\", \"16\", \"17\", \"18\", \"19\", \"20\", \"21\", \"22\", \"23\", \"24\", \"25\", \"26\", \"27\", \"28\", \"29\", \"30\", \"31\", \"32\", \"33\", \"34\", \"35\", \"36\", \"37\", \"38\", \"39\", \"40\", \"41\", \"42\", \"43\", \"47\", \"48\"], \"mode\": \"markers\", \"name\": \"log_loss\", \"stepped\": false, \"type\": \"scatter\", \"data\": [0.5282491261622873, 0.43217688137359717, 0.38114331600452245, 0.39774036109610594, 0.494195132183645, 0.5258608715325815, 0.4102904054940645, 0.5569485210256365, 0.4783066896178769, 0.3935737490450522, 0.4162191263076715, 0.38995629857272407, 0.37840982765714953, 0.4800057425916104, 0.4133588632196007, 0.38059265973310563, 0.40491557650211296, 0.4270372037872674, 0.4883730044708267, 0.40490375309255955, 0.41472333246893617, 0.4953808555867565, 0.4583476083735859, 0.5044404800443761, 0.4230287882788174, 0.47027114195585656, 0.39870255646732766, 0.42362449640752864, 0.3952679023361761, 0.39622241912559064, 0.6312703031095277, 0.4640688859250101, 0.5481543116945444, 0.5072567431176431, 0.636861329591991, 0.42126878528710543, 0.4600718451244279, 0.42344554986939603, 0.39759955881047115, 0.38714385345595814, 0.6380174881786574, 0.4331556229669603, 0.6105622845293792, 0.439307911904241, 0.3930101696510552, 0.3945626769003128]}, {\"categories\": [\"0\", \"1\", \"2\", \"3\", \"4\", \"5\", \"6\", \"7\", \"8\", \"9\", \"10\", \"11\", \"12\", \"13\", \"14\", \"15\", \"16\", \"17\", \"18\", \"19\", \"20\", \"21\", \"22\", \"23\", \"24\", \"25\", \"26\", \"27\", \"28\", \"29\", \"30\", \"31\", \"32\", \"33\", \"34\", \"35\", \"36\", \"37\", \"38\", \"39\", \"40\", \"41\", \"42\", \"43\", \"47\", \"48\"], \"mode\": \"lines\", \"name\": \"log_loss_min\", \"stepped\": true, \"type\": \"scatter\", \"data\": [0.5282491261622873, 0.43217688137359717, 0.38114331600452245, 0.38114331600452245, 0.38114331600452245, 0.38114331600452245, 0.38114331600452245, 0.38114331600452245, 0.38114331600452245, 0.38114331600452245, 0.38114331600452245, 0.38114331600452245, 0.37840982765714953, 0.37840982765714953, 0.37840982765714953, 0.37840982765714953, 0.37840982765714953, 0.37840982765714953, 0.37840982765714953, 0.37840982765714953, 0.37840982765714953, 0.37840982765714953, 0.37840982765714953, 0.37840982765714953, 0.37840982765714953, 0.37840982765714953, 0.37840982765714953, 0.37840982765714953, 0.37840982765714953, 0.37840982765714953, 0.37840982765714953, 0.37840982765714953, 0.37840982765714953, 0.37840982765714953, 0.37840982765714953, 0.37840982765714953, 0.37840982765714953, 0.37840982765714953, 0.37840982765714953, 0.37840982765714953, 0.37840982765714953, 0.37840982765714953, 0.37840982765714953, 0.37840982765714953, 0.37840982765714953, 0.37840982765714953]}]}, \"metricName\": null, \"primaryMetricName\": \"accuracy\", \"showLegend\": false}, \"run_metrics\": [{\"name\": \"experiment_status\", \"run_id\": \"AutoML_878c35a5-375e-4e3f-8bb4-9cfc49e36da9\", \"categories\": [0, 1, 2, 3, 4, 5, 6, 7, 8, 9, 10, 11, 12, 13], \"series\": [{\"data\": [\"DatasetEvaluation\", \"FeaturesGeneration\", \"DatasetFeaturization\", \"DatasetFeaturizationCompleted\", \"DatasetCrossValidationSplit\", \"ModelSelection\", \"BestRunExplainModel\", \"ModelExplanationDataSetSetup\", \"PickSurrogateModel\", \"EngineeredFeatureExplanations\", \"EngineeredFeatureExplanations\", \"RawFeaturesExplanations\", \"RawFeaturesExplanations\", \"BestRunExplainModel\"]}]}, {\"name\": \"experiment_status_description\", \"run_id\": \"AutoML_878c35a5-375e-4e3f-8bb4-9cfc49e36da9\", \"categories\": [0, 1, 2, 3, 4, 5, 6, 7, 8, 9, 10, 11, 12, 13], \"series\": [{\"data\": [\"Gathering dataset statistics.\", \"Generating features for the dataset.\", \"Beginning to fit featurizers and featurize the dataset.\", \"Completed fit featurizers and featurizing the dataset.\", \"Generating individually featurized CV splits.\", \"Beginning model selection.\", \"Best run model explanations started\", \"Model explanations data setup completed\", \"Choosing LightGBM as the surrogate model for explanations\", \"Computation of engineered features started\", \"Computation of engineered features completed\", \"Computation of raw features started\", \"Computation of raw features completed\", \"Best run model explanations completed\"]}]}, {\"name\": \"recall_score_micro\", \"run_id\": \"AutoML_878c35a5-375e-4e3f-8bb4-9cfc49e36da9\", \"categories\": [0], \"series\": [{\"data\": [0.8663276836158191]}]}, {\"name\": \"AUC_micro\", \"run_id\": \"AutoML_878c35a5-375e-4e3f-8bb4-9cfc49e36da9\", \"categories\": [0], \"series\": [{\"data\": [0.9141434453701043]}]}, {\"name\": \"precision_score_weighted\", \"run_id\": \"AutoML_878c35a5-375e-4e3f-8bb4-9cfc49e36da9\", \"categories\": [0], \"series\": [{\"data\": [0.8805964092015255]}]}, {\"name\": \"average_precision_score_micro\", \"run_id\": \"AutoML_878c35a5-375e-4e3f-8bb4-9cfc49e36da9\", \"categories\": [0], \"series\": [{\"data\": [0.9163605531925219]}]}, {\"name\": \"AUC_weighted\", \"run_id\": \"AutoML_878c35a5-375e-4e3f-8bb4-9cfc49e36da9\", \"categories\": [0], \"series\": [{\"data\": [0.9127911590992985]}]}, {\"name\": \"log_loss\", \"run_id\": \"AutoML_878c35a5-375e-4e3f-8bb4-9cfc49e36da9\", \"categories\": [0], \"series\": [{\"data\": [0.3930101696510552]}]}, {\"name\": \"recall_score_macro\", \"run_id\": \"AutoML_878c35a5-375e-4e3f-8bb4-9cfc49e36da9\", \"categories\": [0], \"series\": [{\"data\": [0.8299702380952383]}]}, {\"name\": \"balanced_accuracy\", \"run_id\": \"AutoML_878c35a5-375e-4e3f-8bb4-9cfc49e36da9\", \"categories\": [0], \"series\": [{\"data\": [0.8299702380952383]}]}, {\"name\": \"accuracy\", \"run_id\": \"AutoML_878c35a5-375e-4e3f-8bb4-9cfc49e36da9\", \"categories\": [0], \"series\": [{\"data\": [0.8663276836158191]}]}, {\"name\": \"AUC_macro\", \"run_id\": \"AutoML_878c35a5-375e-4e3f-8bb4-9cfc49e36da9\", \"categories\": [0], \"series\": [{\"data\": [0.9127911590992988]}]}, {\"name\": \"average_precision_score_macro\", \"run_id\": \"AutoML_878c35a5-375e-4e3f-8bb4-9cfc49e36da9\", \"categories\": [0], \"series\": [{\"data\": [0.899956695234439]}]}, {\"name\": \"precision_score_micro\", \"run_id\": \"AutoML_878c35a5-375e-4e3f-8bb4-9cfc49e36da9\", \"categories\": [0], \"series\": [{\"data\": [0.8663276836158191]}]}, {\"name\": \"average_precision_score_weighted\", \"run_id\": \"AutoML_878c35a5-375e-4e3f-8bb4-9cfc49e36da9\", \"categories\": [0], \"series\": [{\"data\": [0.9228769166921703]}]}, {\"name\": \"f1_score_weighted\", \"run_id\": \"AutoML_878c35a5-375e-4e3f-8bb4-9cfc49e36da9\", \"categories\": [0], \"series\": [{\"data\": [0.8602591281343492]}]}, {\"name\": \"norm_macro_recall\", \"run_id\": \"AutoML_878c35a5-375e-4e3f-8bb4-9cfc49e36da9\", \"categories\": [0], \"series\": [{\"data\": [0.6599404761904764]}]}, {\"name\": \"precision_score_macro\", \"run_id\": \"AutoML_878c35a5-375e-4e3f-8bb4-9cfc49e36da9\", \"categories\": [0], \"series\": [{\"data\": [0.8765352952775313]}]}, {\"name\": \"weighted_accuracy\", \"run_id\": \"AutoML_878c35a5-375e-4e3f-8bb4-9cfc49e36da9\", \"categories\": [0], \"series\": [{\"data\": [0.8910749382888546]}]}, {\"name\": \"f1_score_micro\", \"run_id\": \"AutoML_878c35a5-375e-4e3f-8bb4-9cfc49e36da9\", \"categories\": [0], \"series\": [{\"data\": [0.8663276836158191]}]}, {\"name\": \"f1_score_macro\", \"run_id\": \"AutoML_878c35a5-375e-4e3f-8bb4-9cfc49e36da9\", \"categories\": [0], \"series\": [{\"data\": [0.837853398996308]}]}, {\"name\": \"recall_score_weighted\", \"run_id\": \"AutoML_878c35a5-375e-4e3f-8bb4-9cfc49e36da9\", \"categories\": [0], \"series\": [{\"data\": [0.8663276836158191]}]}, {\"name\": \"matthews_correlation\", \"run_id\": \"AutoML_878c35a5-375e-4e3f-8bb4-9cfc49e36da9\", \"categories\": [0], \"series\": [{\"data\": [0.7029103340122305]}]}], \"run_logs\": \"\\nRun is completed.\", \"graph\": {}, \"widget_settings\": {\"childWidgetDisplay\": \"popup\", \"send_telemetry\": false, \"log_level\": \"INFO\", \"sdk_version\": \"1.20.0\"}, \"loading\": false}"
          },
          "metadata": {}
        }
      ],
      "execution_count": 9,
      "metadata": {
        "gather": {
          "logged": 1612135201089
        },
        "jupyter": {
          "outputs_hidden": false,
          "source_hidden": false
        },
        "nteract": {
          "transient": {
            "deleting": false
          }
        }
      }
    },
    {
      "cell_type": "markdown",
      "source": [
        "## Best Model\n",
        "\n",
        "TODO: In the cell below, get the best model from the automl experiments and display all the properties of the model.\n",
        "\n"
      ],
      "metadata": {}
    },
    {
      "cell_type": "code",
      "source": [
        "# Retrieve and save your best automl model.\r\n",
        "best_remote_run,best_automl_model=remote_run.get_output()\r\n",
        "best_run_metrics=remote_run.get_metrics()\r\n",
        "for primary_metric in best_run_metrics:\r\n",
        "    metric=best_run_metrics[primary_metric]\r\n",
        "    print(primary_metric,metric)\r\n"
      ],
      "outputs": [
        {
          "output_type": "stream",
          "name": "stdout",
          "text": [
            "experiment_status ['DatasetEvaluation', 'FeaturesGeneration', 'DatasetFeaturization', 'DatasetFeaturizationCompleted', 'DatasetCrossValidationSplit', 'ModelSelection']\n",
            "experiment_status_description ['Gathering dataset statistics.', 'Generating features for the dataset.', 'Beginning to fit featurizers and featurize the dataset.', 'Completed fit featurizers and featurizing the dataset.', 'Generating individually featurized CV splits.', 'Beginning model selection.']\n",
            "recall_score_micro 0.8663276836158191\n",
            "AUC_micro 0.9141434453701043\n",
            "precision_score_weighted 0.8805964092015255\n",
            "average_precision_score_micro 0.9163605531925219\n",
            "AUC_weighted 0.9127911590992985\n",
            "log_loss 0.3930101696510552\n",
            "recall_score_macro 0.8299702380952383\n",
            "balanced_accuracy 0.8299702380952383\n",
            "accuracy 0.8663276836158191\n",
            "AUC_macro 0.9127911590992988\n",
            "average_precision_score_macro 0.899956695234439\n",
            "precision_score_micro 0.8663276836158191\n",
            "average_precision_score_weighted 0.9228769166921703\n",
            "f1_score_weighted 0.8602591281343492\n",
            "norm_macro_recall 0.6599404761904764\n",
            "precision_score_macro 0.8765352952775313\n",
            "weighted_accuracy 0.8910749382888546\n",
            "f1_score_micro 0.8663276836158191\n",
            "f1_score_macro 0.837853398996308\n",
            "recall_score_weighted 0.8663276836158191\n",
            "matthews_correlation 0.7029103340122305\n"
          ]
        }
      ],
      "execution_count": 11,
      "metadata": {
        "gather": {
          "logged": 1612135359415
        },
        "jupyter": {
          "outputs_hidden": false,
          "source_hidden": false
        },
        "nteract": {
          "transient": {
            "deleting": false
          }
        }
      }
    },
    {
      "cell_type": "code",
      "source": [
        "print(best_remote_run)\r\n",
        "best_remote_run"
      ],
      "outputs": [
        {
          "output_type": "stream",
          "name": "stdout",
          "text": [
            "Run(Experiment: automl_run,\n",
            "Id: AutoML_878c35a5-375e-4e3f-8bb4-9cfc49e36da9_47,\n",
            "Type: azureml.scriptrun,\n",
            "Status: Completed)\n"
          ]
        },
        {
          "output_type": "execute_result",
          "execution_count": 12,
          "data": {
            "text/plain": "Run(Experiment: automl_run,\nId: AutoML_878c35a5-375e-4e3f-8bb4-9cfc49e36da9_47,\nType: azureml.scriptrun,\nStatus: Completed)",
            "text/html": "<table style=\"width:100%\"><tr><th>Experiment</th><th>Id</th><th>Type</th><th>Status</th><th>Details Page</th><th>Docs Page</th></tr><tr><td>automl_run</td><td>AutoML_878c35a5-375e-4e3f-8bb4-9cfc49e36da9_47</td><td>azureml.scriptrun</td><td>Completed</td><td><a href=\"https://ml.azure.com/experiments/automl_run/runs/AutoML_878c35a5-375e-4e3f-8bb4-9cfc49e36da9_47?wsid=/subscriptions/cdbe0b43-92a0-4715-838a-f2648cc7ad21/resourcegroups/aml-quickstarts-136788/workspaces/quick-starts-ws-136788\" target=\"_blank\" rel=\"noopener\">Link to Azure Machine Learning studio</a></td><td><a href=\"https://docs.microsoft.com/en-us/python/api/azureml-core/azureml.core.run.Run?view=azure-ml-py\" target=\"_blank\" rel=\"noopener\">Link to Documentation</a></td></tr></table>"
          },
          "metadata": {}
        }
      ],
      "execution_count": 12,
      "metadata": {
        "collapsed": true,
        "jupyter": {
          "source_hidden": false,
          "outputs_hidden": false
        },
        "nteract": {
          "transient": {
            "deleting": false
          }
        },
        "gather": {
          "logged": 1612135374801
        }
      }
    },
    {
      "cell_type": "code",
      "source": [
        "#TODO: Save the best model\r\n",
        "import pickle\r\n",
        "best_remote_run,best_automl_model=remote_run.get_output()\r\n",
        "#joblib.dump(value=best_automl_model,filename='automl_model.joblib')\r\n",
        "pkl_filename = \"automl_model.pkl\"\r\n",
        "with open(pkl_filename,'wb') as f:\r\n",
        "    pickle.dump(best_automl_model,f)"
      ],
      "outputs": [],
      "execution_count": 13,
      "metadata": {
        "gather": {
          "logged": 1612135391096
        },
        "jupyter": {
          "outputs_hidden": false,
          "source_hidden": false
        },
        "nteract": {
          "transient": {
            "deleting": false
          }
        }
      }
    },
    {
      "cell_type": "markdown",
      "source": [
        "## Model Deployment\n",
        "\n",
        "Remember you have to deploy only one of the two models you trained.. Perform the steps in the rest of this notebook only if you wish to deploy this model.\n",
        "\n",
        "TODO: In the cell below, register the model, create an inference config and deploy the model as a web service."
      ],
      "metadata": {}
    },
    {
      "cell_type": "code",
      "source": [
        "from azureml.core.model import Model\r\n",
        "# Register model\r\n",
        "model = Model.register(workspace = ws,\r\n",
        "                        model_name = \"Heart_failure_prediction\",\r\n",
        "                        model_path = \"./automl_model.pkl\",\r\n",
        "                        description = \"Best AutoML Model\",)\r\n",
        "\r\n"
      ],
      "outputs": [
        {
          "output_type": "stream",
          "name": "stdout",
          "text": [
            "Registering model Heart_failure_prediction\n"
          ]
        }
      ],
      "execution_count": 2,
      "metadata": {
        "gather": {
          "logged": 1612142053834
        },
        "jupyter": {
          "outputs_hidden": false,
          "source_hidden": false
        },
        "nteract": {
          "transient": {
            "deleting": false
          }
        }
      }
    },
    {
      "cell_type": "code",
      "source": [
        "from azureml.core.model import InferenceConfig\r\n",
        "from azureml.core.webservice import AciWebservice\r\n",
        "from azureml.core.environment import Environment\r\n",
        "from azureml.core.conda_dependencies import CondaDependencies\r\n",
        "\r\n",
        "\r\n",
        "#defining an inference configuration\r\n",
        "service_name = 'heart-failure-automl'\r\n",
        "\r\n",
        "#setting up a curated environment\r\n",
        "env = Environment.get(ws, name=\"AzureML-AutoML\")\r\n",
        "\r\n",
        "#combining scoring script and environment in inference configuration\r\n",
        "inference_config = InferenceConfig(entry_script='scoring.py', environment=env)\r\n",
        "\r\n",
        "#deploy the model as a webservice\r\n",
        "from azureml.core.webservice import LocalWebservice, Webservice\r\n",
        "\r\n",
        "#set deployment configuration\r\n",
        "local_deployment_config = LocalWebservice.deploy_configuration(port=8000)\r\n",
        "service = Model.deploy(ws, \"heart-failure-automl\", [model], inference_config, local_deployment_config)\r\n",
        "\r\n",
        "print(service.state)\r\n",
        "\r\n",
        "aci_config = AciWebservice.deploy_configuration(cpu_cores=1, memory_gb=1, enable_app_insights=True, auth_enabled=True) #service.update\r\n",
        "\r\n",
        "service = Model.deploy(workspace=ws,\r\n",
        "                        name='heart-failure-automl',\r\n",
        "                        models=[model],\r\n",
        "                        inference_config=inference_config,\r\n",
        "                        deployment_config=aci_config,\r\n",
        "                        overwrite=True)\r\n",
        "service.wait_for_deployment(show_output=True)"
      ],
      "outputs": [
        {
          "output_type": "stream",
          "name": "stdout",
          "text": [
            "Downloading model Heart_failure_prediction:4 to /tmp/azureml_mac81_bh/Heart_failure_prediction/4\n",
            "Generating Docker build context.\n",
            "Package creation Succeeded\n",
            "Logging into Docker registry viennaglobal.azurecr.io\n",
            "Logging into Docker registry viennaglobal.azurecr.io\n",
            "Building Docker image from Dockerfile...\n",
            "Step 1/5 : FROM viennaglobal.azurecr.io/azureml/azureml_1eed3e6a679bbc599bfa3e074a25301a\n",
            " ---> 59311b131e1a\n",
            "Step 2/5 : COPY azureml-app /var/azureml-app\n",
            " ---> 930d2dd8f067\n",
            "Step 3/5 : RUN mkdir -p '/var/azureml-app' && echo eyJhY2NvdW50Q29udGV4dCI6eyJzdWJzY3JpcHRpb25JZCI6ImNkYmUwYjQzLTkyYTAtNDcxNS04MzhhLWYyNjQ4Y2M3YWQyMSIsInJlc291cmNlR3JvdXBOYW1lIjoiYW1sLXF1aWNrc3RhcnRzLTEzNjc4OCIsImFjY291bnROYW1lIjoicXVpY2stc3RhcnRzLXdzLTEzNjc4OCIsIndvcmtzcGFjZUlkIjoiODZmMTYzZGEtNWM0ZC00NWI2LWE4OTktNDc1ZWNiMWE5MjRiIn0sIm1vZGVscyI6e30sIm1vZGVsc0luZm8iOnt9fQ== | base64 --decode > /var/azureml-app/model_config_map.json\n",
            " ---> Running in a9fcbb6c687f\n",
            " ---> 95020b0d5df5\n",
            "Step 4/5 : RUN mv '/var/azureml-app/tmpf3njgupy.py' /var/azureml-app/main.py\n",
            " ---> Running in eb1baa87b18d\n",
            " ---> b01d35e27bab\n",
            "Step 5/5 : CMD [\"runsvdir\",\"/var/runit\"]\n",
            " ---> Running in 157687c9bfae\n",
            " ---> 9d032806cd87\n",
            "Successfully built 9d032806cd87\n",
            "Successfully tagged heart-failure-automl:latest\n",
            "Container has been successfully cleaned up.\n",
            "Image sha256:066f87bb502146bb1dbf046a9b88960a10d419a56a520de70cddb03172852ea7 successfully removed.\n",
            "Starting Docker container...\n",
            "Docker container running.\n",
            "deploying\n",
            "Tips: You can try get_logs(): https://aka.ms/debugimage#dockerlog or local deployment: https://aka.ms/debugimage#debug-locally to debug if deployment takes longer than 10 minutes.\n",
            "Running..........................................................\n",
            "Succeeded\n",
            "ACI service creation operation finished, operation \"Succeeded\"\n"
          ]
        }
      ],
      "execution_count": 3,
      "metadata": {
        "collapsed": true,
        "jupyter": {
          "source_hidden": false,
          "outputs_hidden": false
        },
        "nteract": {
          "transient": {
            "deleting": false
          }
        },
        "gather": {
          "logged": 1612142379858
        }
      }
    },
    {
      "cell_type": "code",
      "source": [
        "#retrieve deployed model uri\r\n",
        "print(service.scoring_uri)\r\n",
        "print(service.swagger_uri)"
      ],
      "outputs": [
        {
          "output_type": "stream",
          "name": "stdout",
          "text": [
            "http://5895238d-d716-4b04-8bd9-b4ef187c301b.southcentralus.azurecontainer.io/score\n",
            "http://5895238d-d716-4b04-8bd9-b4ef187c301b.southcentralus.azurecontainer.io/swagger.json\n"
          ]
        }
      ],
      "execution_count": 4,
      "metadata": {
        "collapsed": true,
        "jupyter": {
          "source_hidden": false,
          "outputs_hidden": false
        },
        "nteract": {
          "transient": {
            "deleting": false
          }
        },
        "gather": {
          "logged": 1612142401239
        }
      }
    },
    {
      "cell_type": "code",
      "source": [
        "#retrive primary key\r\n",
        "primary, secondary= service.get_keys()\r\n",
        "print(primary)"
      ],
      "outputs": [
        {
          "output_type": "stream",
          "name": "stdout",
          "text": [
            "dKmTVgh9eVZwBj1gIhmVzspEbcvtpg4F\n"
          ]
        }
      ],
      "execution_count": 5,
      "metadata": {
        "collapsed": true,
        "jupyter": {
          "source_hidden": false,
          "outputs_hidden": false
        },
        "nteract": {
          "transient": {
            "deleting": false
          }
        },
        "gather": {
          "logged": 1612142409085
        }
      }
    },
    {
      "cell_type": "markdown",
      "source": [
        "TODO: In the cell below, send a request to the web service you deployed to test it."
      ],
      "metadata": {
        "collapsed": true,
        "gather": {
          "logged": 1598431657736
        },
        "jupyter": {
          "outputs_hidden": false,
          "source_hidden": false
        },
        "nteract": {
          "transient": {
            "deleting": false
          }
        }
      }
    },
    {
      "cell_type": "code",
      "source": [
        "#Testing of the deployed webservice\r\n",
        "import requests\r\n",
        "import json\r\n",
        "import pandas as pd\r\n",
        "import numpy as np\r\n",
        "\r\n",
        "# URL for the web service\r\n",
        "scoring_uri = 'http://5895238d-d716-4b04-8bd9-b4ef187c301b.southcentralus.azurecontainer.io/score'\r\n",
        "# If the service is authenticated, set the key or token\r\n",
        "key = 'dKmTVgh9eVZwBj1gIhmVzspEbcvtpg4F'\r\n",
        "\r\n",
        "# Two sets of data to score, so we get two results back\r\n",
        "data = {\"data\":\r\n",
        "        [\r\n",
        "            {\r\n",
        "               \"age\":55,\r\n",
        "               \"anaemia\":0,\r\n",
        "               \"creatinine_phosphokinase\":7861,\r\n",
        "               \"diabetes\":0,\r\n",
        "               \"ejection_fraction\":38,\r\n",
        "               \"high_blood_pressure\":0,\r\n",
        "               \"platelets\":263358.03,\r\n",
        "               \"serum_creatinine\":1.1,\r\n",
        "               \"serum_sodium\":136,\r\n",
        "               \"sex\":1,\r\n",
        "               \"smoking\":0,\r\n",
        "               \"time\":6\r\n",
        "               },\r\n",
        "            {\r\n",
        "               \"age\":60,\r\n",
        "               \"anaemia\":0,\r\n",
        "               \"creatinine_phosphokinase\":68,\r\n",
        "               \"diabetes\":0,\r\n",
        "               \"ejection_fraction\":20,\r\n",
        "               \"high_blood_pressure\":0,\r\n",
        "               \"platelets\":119000,\r\n",
        "               \"serum_creatinine\":2.9,\r\n",
        "               \"serum_sodium\":127,\r\n",
        "               \"sex\":1,\r\n",
        "               \"smoking\":1,\r\n",
        "               \"time\":64\r\n",
        "                }\r\n",
        "        ]\r\n",
        "        }\r\n",
        "\r\n",
        "#d=pd.DataFrame(data)\r\n",
        "#d=d.to_dict()\r\n",
        "# Convert to JSON string\r\n",
        "input_data = json.dumps(data)\r\n",
        "\r\n",
        "# Set the content type\r\n",
        "headers = {'Content-Type': 'application/json'}\r\n",
        "# If authentication is enabled, set the authorization header\r\n",
        "headers['Authorization'] = f'Bearer {primary}'\r\n",
        "\r\n",
        "# Make the request and display the response\r\n",
        "resp = requests.post(scoring_uri, input_data, headers=headers)\r\n",
        "print(resp.text)"
      ],
      "outputs": [
        {
          "output_type": "error",
          "ename": "InvalidSchema",
          "evalue": "No connection adapters were found for 'hhttp://5895238d-d716-4b04-8bd9-b4ef187c301b.southcentralus.azurecontainer.io/score'",
          "traceback": [
            "\u001b[0;31m---------------------------------------------------------------------------\u001b[0m",
            "\u001b[0;31mInvalidSchema\u001b[0m                             Traceback (most recent call last)",
            "\u001b[0;32m<ipython-input-7-6798c9257d4d>\u001b[0m in \u001b[0;36m<module>\u001b[0;34m\u001b[0m\n\u001b[1;32m     55\u001b[0m \u001b[0;34m\u001b[0m\u001b[0m\n\u001b[1;32m     56\u001b[0m \u001b[0;31m# Make the request and display the response\u001b[0m\u001b[0;34m\u001b[0m\u001b[0;34m\u001b[0m\u001b[0;34m\u001b[0m\u001b[0m\n\u001b[0;32m---> 57\u001b[0;31m \u001b[0mresp\u001b[0m \u001b[0;34m=\u001b[0m \u001b[0mrequests\u001b[0m\u001b[0;34m.\u001b[0m\u001b[0mpost\u001b[0m\u001b[0;34m(\u001b[0m\u001b[0mscoring_uri\u001b[0m\u001b[0;34m,\u001b[0m \u001b[0minput_data\u001b[0m\u001b[0;34m,\u001b[0m \u001b[0mheaders\u001b[0m\u001b[0;34m=\u001b[0m\u001b[0mheaders\u001b[0m\u001b[0;34m)\u001b[0m\u001b[0;34m\u001b[0m\u001b[0;34m\u001b[0m\u001b[0m\n\u001b[0m\u001b[1;32m     58\u001b[0m \u001b[0mprint\u001b[0m\u001b[0;34m(\u001b[0m\u001b[0mresp\u001b[0m\u001b[0;34m.\u001b[0m\u001b[0mtext\u001b[0m\u001b[0;34m)\u001b[0m\u001b[0;34m\u001b[0m\u001b[0;34m\u001b[0m\u001b[0m\n",
            "\u001b[0;32m/anaconda/envs/azureml_py36/lib/python3.6/site-packages/requests/api.py\u001b[0m in \u001b[0;36mpost\u001b[0;34m(url, data, json, **kwargs)\u001b[0m\n\u001b[1;32m    117\u001b[0m     \"\"\"\n\u001b[1;32m    118\u001b[0m \u001b[0;34m\u001b[0m\u001b[0m\n\u001b[0;32m--> 119\u001b[0;31m     \u001b[0;32mreturn\u001b[0m \u001b[0mrequest\u001b[0m\u001b[0;34m(\u001b[0m\u001b[0;34m'post'\u001b[0m\u001b[0;34m,\u001b[0m \u001b[0murl\u001b[0m\u001b[0;34m,\u001b[0m \u001b[0mdata\u001b[0m\u001b[0;34m=\u001b[0m\u001b[0mdata\u001b[0m\u001b[0;34m,\u001b[0m \u001b[0mjson\u001b[0m\u001b[0;34m=\u001b[0m\u001b[0mjson\u001b[0m\u001b[0;34m,\u001b[0m \u001b[0;34m**\u001b[0m\u001b[0mkwargs\u001b[0m\u001b[0;34m)\u001b[0m\u001b[0;34m\u001b[0m\u001b[0;34m\u001b[0m\u001b[0m\n\u001b[0m\u001b[1;32m    120\u001b[0m \u001b[0;34m\u001b[0m\u001b[0m\n\u001b[1;32m    121\u001b[0m \u001b[0;34m\u001b[0m\u001b[0m\n",
            "\u001b[0;32m/anaconda/envs/azureml_py36/lib/python3.6/site-packages/requests/api.py\u001b[0m in \u001b[0;36mrequest\u001b[0;34m(method, url, **kwargs)\u001b[0m\n\u001b[1;32m     59\u001b[0m     \u001b[0;31m# cases, and look like a memory leak in others.\u001b[0m\u001b[0;34m\u001b[0m\u001b[0;34m\u001b[0m\u001b[0;34m\u001b[0m\u001b[0m\n\u001b[1;32m     60\u001b[0m     \u001b[0;32mwith\u001b[0m \u001b[0msessions\u001b[0m\u001b[0;34m.\u001b[0m\u001b[0mSession\u001b[0m\u001b[0;34m(\u001b[0m\u001b[0;34m)\u001b[0m \u001b[0;32mas\u001b[0m \u001b[0msession\u001b[0m\u001b[0;34m:\u001b[0m\u001b[0;34m\u001b[0m\u001b[0;34m\u001b[0m\u001b[0m\n\u001b[0;32m---> 61\u001b[0;31m         \u001b[0;32mreturn\u001b[0m \u001b[0msession\u001b[0m\u001b[0;34m.\u001b[0m\u001b[0mrequest\u001b[0m\u001b[0;34m(\u001b[0m\u001b[0mmethod\u001b[0m\u001b[0;34m=\u001b[0m\u001b[0mmethod\u001b[0m\u001b[0;34m,\u001b[0m \u001b[0murl\u001b[0m\u001b[0;34m=\u001b[0m\u001b[0murl\u001b[0m\u001b[0;34m,\u001b[0m \u001b[0;34m**\u001b[0m\u001b[0mkwargs\u001b[0m\u001b[0;34m)\u001b[0m\u001b[0;34m\u001b[0m\u001b[0;34m\u001b[0m\u001b[0m\n\u001b[0m\u001b[1;32m     62\u001b[0m \u001b[0;34m\u001b[0m\u001b[0m\n\u001b[1;32m     63\u001b[0m \u001b[0;34m\u001b[0m\u001b[0m\n",
            "\u001b[0;32m/anaconda/envs/azureml_py36/lib/python3.6/site-packages/requests/sessions.py\u001b[0m in \u001b[0;36mrequest\u001b[0;34m(self, method, url, params, data, headers, cookies, files, auth, timeout, allow_redirects, proxies, hooks, stream, verify, cert, json)\u001b[0m\n\u001b[1;32m    540\u001b[0m         }\n\u001b[1;32m    541\u001b[0m         \u001b[0msend_kwargs\u001b[0m\u001b[0;34m.\u001b[0m\u001b[0mupdate\u001b[0m\u001b[0;34m(\u001b[0m\u001b[0msettings\u001b[0m\u001b[0;34m)\u001b[0m\u001b[0;34m\u001b[0m\u001b[0;34m\u001b[0m\u001b[0m\n\u001b[0;32m--> 542\u001b[0;31m         \u001b[0mresp\u001b[0m \u001b[0;34m=\u001b[0m \u001b[0mself\u001b[0m\u001b[0;34m.\u001b[0m\u001b[0msend\u001b[0m\u001b[0;34m(\u001b[0m\u001b[0mprep\u001b[0m\u001b[0;34m,\u001b[0m \u001b[0;34m**\u001b[0m\u001b[0msend_kwargs\u001b[0m\u001b[0;34m)\u001b[0m\u001b[0;34m\u001b[0m\u001b[0;34m\u001b[0m\u001b[0m\n\u001b[0m\u001b[1;32m    543\u001b[0m \u001b[0;34m\u001b[0m\u001b[0m\n\u001b[1;32m    544\u001b[0m         \u001b[0;32mreturn\u001b[0m \u001b[0mresp\u001b[0m\u001b[0;34m\u001b[0m\u001b[0;34m\u001b[0m\u001b[0m\n",
            "\u001b[0;32m/anaconda/envs/azureml_py36/lib/python3.6/site-packages/requests/sessions.py\u001b[0m in \u001b[0;36msend\u001b[0;34m(self, request, **kwargs)\u001b[0m\n\u001b[1;32m    647\u001b[0m \u001b[0;34m\u001b[0m\u001b[0m\n\u001b[1;32m    648\u001b[0m         \u001b[0;31m# Get the appropriate adapter to use\u001b[0m\u001b[0;34m\u001b[0m\u001b[0;34m\u001b[0m\u001b[0;34m\u001b[0m\u001b[0m\n\u001b[0;32m--> 649\u001b[0;31m         \u001b[0madapter\u001b[0m \u001b[0;34m=\u001b[0m \u001b[0mself\u001b[0m\u001b[0;34m.\u001b[0m\u001b[0mget_adapter\u001b[0m\u001b[0;34m(\u001b[0m\u001b[0murl\u001b[0m\u001b[0;34m=\u001b[0m\u001b[0mrequest\u001b[0m\u001b[0;34m.\u001b[0m\u001b[0murl\u001b[0m\u001b[0;34m)\u001b[0m\u001b[0;34m\u001b[0m\u001b[0;34m\u001b[0m\u001b[0m\n\u001b[0m\u001b[1;32m    650\u001b[0m \u001b[0;34m\u001b[0m\u001b[0m\n\u001b[1;32m    651\u001b[0m         \u001b[0;31m# Start time (approximately) of the request\u001b[0m\u001b[0;34m\u001b[0m\u001b[0;34m\u001b[0m\u001b[0;34m\u001b[0m\u001b[0m\n",
            "\u001b[0;32m/anaconda/envs/azureml_py36/lib/python3.6/site-packages/requests/sessions.py\u001b[0m in \u001b[0;36mget_adapter\u001b[0;34m(self, url)\u001b[0m\n\u001b[1;32m    740\u001b[0m \u001b[0;34m\u001b[0m\u001b[0m\n\u001b[1;32m    741\u001b[0m         \u001b[0;31m# Nothing matches :-/\u001b[0m\u001b[0;34m\u001b[0m\u001b[0;34m\u001b[0m\u001b[0;34m\u001b[0m\u001b[0m\n\u001b[0;32m--> 742\u001b[0;31m         \u001b[0;32mraise\u001b[0m \u001b[0mInvalidSchema\u001b[0m\u001b[0;34m(\u001b[0m\u001b[0;34m\"No connection adapters were found for {!r}\"\u001b[0m\u001b[0;34m.\u001b[0m\u001b[0mformat\u001b[0m\u001b[0;34m(\u001b[0m\u001b[0murl\u001b[0m\u001b[0;34m)\u001b[0m\u001b[0;34m)\u001b[0m\u001b[0;34m\u001b[0m\u001b[0;34m\u001b[0m\u001b[0m\n\u001b[0m\u001b[1;32m    743\u001b[0m \u001b[0;34m\u001b[0m\u001b[0m\n\u001b[1;32m    744\u001b[0m     \u001b[0;32mdef\u001b[0m \u001b[0mclose\u001b[0m\u001b[0;34m(\u001b[0m\u001b[0mself\u001b[0m\u001b[0;34m)\u001b[0m\u001b[0;34m:\u001b[0m\u001b[0;34m\u001b[0m\u001b[0;34m\u001b[0m\u001b[0m\n",
            "\u001b[0;31mInvalidSchema\u001b[0m: No connection adapters were found for 'hhttp://5895238d-d716-4b04-8bd9-b4ef187c301b.southcentralus.azurecontainer.io/score'"
          ]
        }
      ],
      "execution_count": 7,
      "metadata": {
        "gather": {
          "logged": 1612141363276
        },
        "jupyter": {
          "outputs_hidden": false,
          "source_hidden": false
        },
        "nteract": {
          "transient": {
            "deleting": false
          }
        }
      }
    },
    {
      "cell_type": "markdown",
      "source": [
        "TODO: In the cell below, print the logs of the web service and delete the service"
      ],
      "metadata": {
        "collapsed": true,
        "gather": {
          "logged": 1598432765711
        },
        "jupyter": {
          "outputs_hidden": false,
          "source_hidden": false
        },
        "nteract": {
          "transient": {
            "deleting": false
          }
        }
      }
    },
    {
      "cell_type": "code",
      "source": [
        "#logs of the webservice\r\n",
        "logs=service.get_logs()\r\n",
        "print(logs)"
      ],
      "outputs": [
        {
          "output_type": "stream",
          "name": "stdout",
          "text": [
            "2021-02-01T00:32:14,837995000+00:00 - gunicorn/run \n",
            "2021-02-01T00:32:14,842761500+00:00 - iot-server/run \n",
            "2021-02-01T00:32:14,893725000+00:00 - nginx/run \n",
            "2021-02-01T00:32:14,898039500+00:00 - rsyslog/run \n",
            "/usr/sbin/nginx: /azureml-envs/azureml_7ade26eb614f97df8030bc480da59236/lib/libcrypto.so.1.0.0: no version information available (required by /usr/sbin/nginx)\n",
            "/usr/sbin/nginx: /azureml-envs/azureml_7ade26eb614f97df8030bc480da59236/lib/libcrypto.so.1.0.0: no version information available (required by /usr/sbin/nginx)\n",
            "/usr/sbin/nginx: /azureml-envs/azureml_7ade26eb614f97df8030bc480da59236/lib/libssl.so.1.0.0: no version information available (required by /usr/sbin/nginx)\n",
            "/usr/sbin/nginx: /azureml-envs/azureml_7ade26eb614f97df8030bc480da59236/lib/libssl.so.1.0.0: no version information available (required by /usr/sbin/nginx)\n",
            "/usr/sbin/nginx: /azureml-envs/azureml_7ade26eb614f97df8030bc480da59236/lib/libssl.so.1.0.0: no version information available (required by /usr/sbin/nginx)\n",
            "rsyslogd: /azureml-envs/azureml_7ade26eb614f97df8030bc480da59236/lib/libuuid.so.1: no version information available (required by rsyslogd)\n",
            "EdgeHubConnectionString and IOTEDGE_IOTHUBHOSTNAME are not set. Exiting...\n",
            "2021-02-01T00:32:16,879093100+00:00 - iot-server/finish 1 0\n",
            "2021-02-01T00:32:16,881501000+00:00 - Exit code 1 is normal. Not restarting iot-server.\n",
            "Starting gunicorn 19.9.0\n",
            "Listening at: http://127.0.0.1:31311 (71)\n",
            "Using worker: sync\n",
            "worker timeout is set to 300\n",
            "Booting worker with pid: 98\n",
            "SPARK_HOME not set. Skipping PySpark Initialization.\n",
            "Initializing logger\n",
            "2021-02-01 00:32:19,779 | root | INFO | Starting up app insights client\n",
            "2021-02-01 00:32:19,783 | root | INFO | Starting up request id generator\n",
            "2021-02-01 00:32:19,783 | root | INFO | Starting up app insight hooks\n",
            "2021-02-01 00:32:19,784 | root | INFO | Invoking user's init function\n",
            "Generating new fontManager, this may take some time...\n",
            "2021-02-01 00:32:36,024 | root | INFO | Users's init has completed successfully\n",
            "2021-02-01 00:32:36,032 | root | INFO | Skipping middleware: dbg_model_info as it's not enabled.\n",
            "2021-02-01 00:32:36,033 | root | INFO | Skipping middleware: dbg_resource_usage as it's not enabled.\n",
            "2021-02-01 00:32:36,035 | root | INFO | Scoring timeout is found from os.environ: 60000 ms\n",
            "\n"
          ]
        }
      ],
      "execution_count": 7,
      "metadata": {
        "jupyter": {
          "outputs_hidden": false,
          "source_hidden": false
        },
        "nteract": {
          "transient": {
            "deleting": false
          }
        },
        "gather": {
          "logged": 1612139754031
        }
      }
    },
    {
      "cell_type": "code",
      "source": [
        "#delete the deployed webservice\r\n",
        "service.delete()"
      ],
      "outputs": [],
      "execution_count": null,
      "metadata": {
        "collapsed": true,
        "jupyter": {
          "source_hidden": false,
          "outputs_hidden": false
        },
        "nteract": {
          "transient": {
            "deleting": false
          }
        }
      }
    }
  ],
  "metadata": {
    "kernel_info": {
      "name": "python3"
    },
    "kernelspec": {
      "name": "python3",
      "language": "python",
      "display_name": "Python 3"
    },
    "language_info": {
      "name": "python",
      "version": "3.6.9",
      "mimetype": "text/x-python",
      "codemirror_mode": {
        "name": "ipython",
        "version": 3
      },
      "pygments_lexer": "ipython3",
      "nbconvert_exporter": "python",
      "file_extension": ".py"
    },
    "nteract": {
      "version": "nteract-front-end@1.0.0"
    }
  },
  "nbformat": 4,
  "nbformat_minor": 2
}