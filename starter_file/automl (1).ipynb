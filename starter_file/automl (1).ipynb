{
  "cells": [
    {
      "cell_type": "markdown",
      "source": [
        "# Automated ML\n",
        "\n",
        "TODO: Import Dependencies. In the cell below, import all the dependencies that you will need to complete the project."
      ],
      "metadata": {}
    },
    {
      "cell_type": "code",
      "source": [
        "import os\r\n",
        "import joblib\r\n",
        "from azureml.core import Workspace, Experiment\r\n",
        "from azureml.data.dataset_factory import TabularDatasetFactory\r\n",
        "from azureml.core.compute import ComputeTarget, AmlCompute\r\n",
        "from azureml.train.automl import AutoMLConfig\r\n",
        "\r\n",
        "from matplotlib import pyplot as plt\r\n",
        "import numpy as np\r\n",
        "import pandas as pd\r\n",
        "\r\n",
        "ws = Workspace.from_config()\r\n",
        "print(ws.name, ws.resource_group, ws.location, ws.subscription_id, sep = '\\n')"
      ],
      "outputs": [
        {
          "output_type": "stream",
          "name": "stdout",
          "text": [
            "quick-starts-ws-136864\n",
            "aml-quickstarts-136864\n",
            "southcentralus\n",
            "9e65f93e-bdd8-437b-b1e8-0647cd6098f7\n"
          ]
        }
      ],
      "execution_count": 33,
      "metadata": {
        "gather": {
          "logged": 1612215086112
        },
        "jupyter": {
          "outputs_hidden": false,
          "source_hidden": false
        },
        "nteract": {
          "transient": {
            "deleting": false
          }
        }
      }
    },
    {
      "cell_type": "markdown",
      "source": [
        "## Dataset\n",
        "\n",
        "### Overview\n",
        "TODO: In this markdown cell, give an overview of the dataset you are using. Also mention the task you will be performing.\n",
        "\n",
        "\n",
        "TODO: Get data. In the cell below, write code to access the data you will be using in this project. Remember that the dataset needs to be external."
      ],
      "metadata": {}
    },
    {
      "cell_type": "code",
      "source": [
        "#create compute cluster\r\n",
        "amlcompute_cluster_name=\"aml\"\r\n",
        "\r\n",
        "#verify that cluster does not already exist\r\n",
        "try:\r\n",
        "    aml_compute=ComputeTarget(workspace=ws, name=amlcompute_cluster_name)\r\n",
        "    print('Found existing cluster, use it.')\r\n",
        "except ComputeTargetException:\r\n",
        "    compute_config=AmlCompute.provisioning_configuration(vm_size=\"Standard_D3_V2\",max_nodes=4)\r\n",
        "    aml_compute=ComputeTarget.create(ws,amlcompute_cluster_name,compute_config)\r\n",
        "\r\n",
        "aml_compute.wait_for_completion(show_output=True)"
      ],
      "outputs": [
        {
          "output_type": "stream",
          "name": "stdout",
          "text": [
            "Found existing cluster, use it.\n",
            "\n",
            "Running\n"
          ]
        }
      ],
      "execution_count": 34,
      "metadata": {
        "collapsed": true,
        "jupyter": {
          "source_hidden": false,
          "outputs_hidden": false
        },
        "nteract": {
          "transient": {
            "deleting": false
          }
        },
        "gather": {
          "logged": 1612215095878
        }
      }
    },
    {
      "cell_type": "code",
      "source": [
        "# Create TabularDataset using TabularDatasetFactory\n",
        "# Data is available at: \n",
        "auto_ds_path=\"https://raw.githubusercontent.com/shat700/nd00333-capstone/master/starter_file/heart_failure_clinical_records_dataset.csv\"\n",
        "ds=TabularDatasetFactory.from_delimited_files(path=auto_ds_path)\n",
        "\n",
        "#preview data\n",
        "df = ds.to_pandas_dataframe()\n",
        "df.describe()\n",
        "\n"
      ],
      "outputs": [
        {
          "output_type": "execute_result",
          "execution_count": 35,
          "data": {
            "text/plain": "              age     anaemia  creatinine_phosphokinase    diabetes  \\\ncount  299.000000  299.000000                299.000000  299.000000   \nmean    60.833893    0.431438                581.839465    0.418060   \nstd     11.894809    0.496107                970.287881    0.494067   \nmin     40.000000    0.000000                 23.000000    0.000000   \n25%     51.000000    0.000000                116.500000    0.000000   \n50%     60.000000    0.000000                250.000000    0.000000   \n75%     70.000000    1.000000                582.000000    1.000000   \nmax     95.000000    1.000000               7861.000000    1.000000   \n\n       ejection_fraction  high_blood_pressure      platelets  \\\ncount         299.000000           299.000000     299.000000   \nmean           38.083612             0.351171  263358.029264   \nstd            11.834841             0.478136   97804.236869   \nmin            14.000000             0.000000   25100.000000   \n25%            30.000000             0.000000  212500.000000   \n50%            38.000000             0.000000  262000.000000   \n75%            45.000000             1.000000  303500.000000   \nmax            80.000000             1.000000  850000.000000   \n\n       serum_creatinine  serum_sodium         sex    smoking        time  \\\ncount         299.00000    299.000000  299.000000  299.00000  299.000000   \nmean            1.39388    136.625418    0.648829    0.32107  130.260870   \nstd             1.03451      4.412477    0.478136    0.46767   77.614208   \nmin             0.50000    113.000000    0.000000    0.00000    4.000000   \n25%             0.90000    134.000000    0.000000    0.00000   73.000000   \n50%             1.10000    137.000000    1.000000    0.00000  115.000000   \n75%             1.40000    140.000000    1.000000    1.00000  203.000000   \nmax             9.40000    148.000000    1.000000    1.00000  285.000000   \n\n       DEATH_EVENT  \ncount    299.00000  \nmean       0.32107  \nstd        0.46767  \nmin        0.00000  \n25%        0.00000  \n50%        0.00000  \n75%        1.00000  \nmax        1.00000  ",
            "text/html": "<div>\n<style scoped>\n    .dataframe tbody tr th:only-of-type {\n        vertical-align: middle;\n    }\n\n    .dataframe tbody tr th {\n        vertical-align: top;\n    }\n\n    .dataframe thead th {\n        text-align: right;\n    }\n</style>\n<table border=\"1\" class=\"dataframe\">\n  <thead>\n    <tr style=\"text-align: right;\">\n      <th></th>\n      <th>age</th>\n      <th>anaemia</th>\n      <th>creatinine_phosphokinase</th>\n      <th>diabetes</th>\n      <th>ejection_fraction</th>\n      <th>high_blood_pressure</th>\n      <th>platelets</th>\n      <th>serum_creatinine</th>\n      <th>serum_sodium</th>\n      <th>sex</th>\n      <th>smoking</th>\n      <th>time</th>\n      <th>DEATH_EVENT</th>\n    </tr>\n  </thead>\n  <tbody>\n    <tr>\n      <th>count</th>\n      <td>299.000000</td>\n      <td>299.000000</td>\n      <td>299.000000</td>\n      <td>299.000000</td>\n      <td>299.000000</td>\n      <td>299.000000</td>\n      <td>299.000000</td>\n      <td>299.00000</td>\n      <td>299.000000</td>\n      <td>299.000000</td>\n      <td>299.00000</td>\n      <td>299.000000</td>\n      <td>299.00000</td>\n    </tr>\n    <tr>\n      <th>mean</th>\n      <td>60.833893</td>\n      <td>0.431438</td>\n      <td>581.839465</td>\n      <td>0.418060</td>\n      <td>38.083612</td>\n      <td>0.351171</td>\n      <td>263358.029264</td>\n      <td>1.39388</td>\n      <td>136.625418</td>\n      <td>0.648829</td>\n      <td>0.32107</td>\n      <td>130.260870</td>\n      <td>0.32107</td>\n    </tr>\n    <tr>\n      <th>std</th>\n      <td>11.894809</td>\n      <td>0.496107</td>\n      <td>970.287881</td>\n      <td>0.494067</td>\n      <td>11.834841</td>\n      <td>0.478136</td>\n      <td>97804.236869</td>\n      <td>1.03451</td>\n      <td>4.412477</td>\n      <td>0.478136</td>\n      <td>0.46767</td>\n      <td>77.614208</td>\n      <td>0.46767</td>\n    </tr>\n    <tr>\n      <th>min</th>\n      <td>40.000000</td>\n      <td>0.000000</td>\n      <td>23.000000</td>\n      <td>0.000000</td>\n      <td>14.000000</td>\n      <td>0.000000</td>\n      <td>25100.000000</td>\n      <td>0.50000</td>\n      <td>113.000000</td>\n      <td>0.000000</td>\n      <td>0.00000</td>\n      <td>4.000000</td>\n      <td>0.00000</td>\n    </tr>\n    <tr>\n      <th>25%</th>\n      <td>51.000000</td>\n      <td>0.000000</td>\n      <td>116.500000</td>\n      <td>0.000000</td>\n      <td>30.000000</td>\n      <td>0.000000</td>\n      <td>212500.000000</td>\n      <td>0.90000</td>\n      <td>134.000000</td>\n      <td>0.000000</td>\n      <td>0.00000</td>\n      <td>73.000000</td>\n      <td>0.00000</td>\n    </tr>\n    <tr>\n      <th>50%</th>\n      <td>60.000000</td>\n      <td>0.000000</td>\n      <td>250.000000</td>\n      <td>0.000000</td>\n      <td>38.000000</td>\n      <td>0.000000</td>\n      <td>262000.000000</td>\n      <td>1.10000</td>\n      <td>137.000000</td>\n      <td>1.000000</td>\n      <td>0.00000</td>\n      <td>115.000000</td>\n      <td>0.00000</td>\n    </tr>\n    <tr>\n      <th>75%</th>\n      <td>70.000000</td>\n      <td>1.000000</td>\n      <td>582.000000</td>\n      <td>1.000000</td>\n      <td>45.000000</td>\n      <td>1.000000</td>\n      <td>303500.000000</td>\n      <td>1.40000</td>\n      <td>140.000000</td>\n      <td>1.000000</td>\n      <td>1.00000</td>\n      <td>203.000000</td>\n      <td>1.00000</td>\n    </tr>\n    <tr>\n      <th>max</th>\n      <td>95.000000</td>\n      <td>1.000000</td>\n      <td>7861.000000</td>\n      <td>1.000000</td>\n      <td>80.000000</td>\n      <td>1.000000</td>\n      <td>850000.000000</td>\n      <td>9.40000</td>\n      <td>148.000000</td>\n      <td>1.000000</td>\n      <td>1.00000</td>\n      <td>285.000000</td>\n      <td>1.00000</td>\n    </tr>\n  </tbody>\n</table>\n</div>"
          },
          "metadata": {}
        }
      ],
      "execution_count": 35,
      "metadata": {
        "gather": {
          "logged": 1612215101373
        },
        "jupyter": {
          "outputs_hidden": false,
          "source_hidden": false
        },
        "nteract": {
          "transient": {
            "deleting": false
          }
        }
      }
    },
    {
      "cell_type": "markdown",
      "source": [
        "## AutoML Configuration\n",
        "\n",
        "TODO: Explain why you chose the automl settings and cofiguration you used below."
      ],
      "metadata": {}
    },
    {
      "cell_type": "code",
      "source": [
        "import logging\n",
        "import time\n",
        "\n",
        "# TODO: Put your automl settings here\n",
        "automl_settings = {\n",
        "    \"n_cross_validations\":5,\n",
        "    \"primary_metric\":'accuracy',\n",
        "    \"enable_early_stopping\":True,\n",
        "    \"experiment_timeout_minutes\":15,\n",
        "    \"max_concurrent_iterations\":10,\n",
        "   }\n",
        "\n",
        "# TODO: Put your automl config here\n",
        "automl_config = AutoMLConfig(\n",
        "    task='classification',\n",
        "    compute_target='aml',\n",
        "    training_data=ds,\n",
        "    label_column_name='DEATH_EVENT',\n",
        "    **automl_settings\n",
        "    )"
      ],
      "outputs": [],
      "execution_count": 36,
      "metadata": {
        "gather": {
          "logged": 1612215104774
        },
        "jupyter": {
          "outputs_hidden": false,
          "source_hidden": false
        },
        "nteract": {
          "transient": {
            "deleting": false
          }
        }
      }
    },
    {
      "cell_type": "code",
      "source": [
        "from azureml.core.experiment import Experiment\n",
        "# choose a name for experiment\n",
        "experiment_name = 'automl_run'\n",
        "experiment=Experiment(ws, experiment_name)\n",
        "\n",
        "# TODO: Submit your experiment\n",
        "remote_run = experiment.submit(automl_config, show_output=True)"
      ],
      "outputs": [
        {
          "output_type": "stream",
          "name": "stdout",
          "text": [
            "Running on remote.\n",
            "No run_configuration provided, running on aml with default configuration\n",
            "Running on remote compute: aml\n",
            "Parent Run ID: AutoML_0f220329-5b75-40ff-89b7-8d07762f5c6b\n",
            "\n",
            "Current status: FeaturesGeneration. Generating features for the dataset.\n",
            "Current status: ModelSelection. Beginning model selection.\n",
            "\n",
            "****************************************************************************************************\n",
            "DATA GUARDRAILS: \n",
            "\n",
            "TYPE:         Class balancing detection\n",
            "STATUS:       PASSED\n",
            "DESCRIPTION:  Your inputs were analyzed, and all classes are balanced in your training data.\n",
            "              Learn more about imbalanced data: https://aka.ms/AutomatedMLImbalancedData\n",
            "\n",
            "****************************************************************************************************\n",
            "\n",
            "TYPE:         Missing feature values imputation\n",
            "STATUS:       PASSED\n",
            "DESCRIPTION:  No feature missing values were detected in the training data.\n",
            "              Learn more about missing value imputation: https://aka.ms/AutomatedMLFeaturization\n",
            "\n",
            "****************************************************************************************************\n",
            "\n",
            "TYPE:         High cardinality feature detection\n",
            "STATUS:       PASSED\n",
            "DESCRIPTION:  Your inputs were analyzed, and no high cardinality features were detected.\n",
            "              Learn more about high cardinality feature handling: https://aka.ms/AutomatedMLFeaturization\n",
            "\n",
            "****************************************************************************************************\n",
            "\n",
            "****************************************************************************************************\n",
            "ITERATION: The iteration being evaluated.\n",
            "PIPELINE: A summary description of the pipeline being evaluated.\n",
            "DURATION: Time taken for the current iteration.\n",
            "METRIC: The result of computing score on the fitted pipeline.\n",
            "BEST: The best observed score thus far.\n",
            "****************************************************************************************************\n",
            "\n",
            " ITERATION   PIPELINE                                       DURATION      METRIC      BEST\n",
            "         0   MaxAbsScaler LightGBM                          0:00:57       0.8060    0.8060\n",
            "         2   MinMaxScaler RandomForest                      0:00:54       0.8427    0.8427\n",
            "         3   MinMaxScaler RandomForest                      0:01:02       0.8091    0.8427\n",
            "         5   SparseNormalizer XGBoostClassifier             0:00:58       0.8529    0.8529\n",
            "         6   SparseNormalizer LightGBM                      0:01:01       0.8429    0.8529\n",
            "         7   SparseNormalizer XGBoostClassifier             0:01:03       0.8595    0.8595\n",
            "         8   SparseNormalizer LightGBM                      0:00:57       0.8328    0.8595\n",
            "         9   StandardScalerWrapper XGBoostClassifier        0:01:02       0.8226    0.8595\n",
            "         1   MaxAbsScaler XGBoostClassifier                 0:00:57       0.8259    0.8595\n",
            "         4   MinMaxScaler RandomForest                      0:00:53       0.8459    0.8595\n",
            "        10   StandardScalerWrapper XGBoostClassifier        0:00:53       0.8325    0.8595\n",
            "        12   StandardScalerWrapper LogisticRegression       0:00:57       0.8160    0.8595\n",
            "        13   MaxAbsScaler GradientBoosting                  0:00:53       0.8395    0.8595\n",
            "        16   StandardScalerWrapper LightGBM                 0:00:54       0.8427    0.8595\n",
            "        17   MaxAbsScaler LightGBM                          0:00:54       0.7994    0.8595\n",
            "        11   SparseNormalizer LightGBM                      0:01:12       0.8330    0.8595\n",
            "        14   StandardScalerWrapper LightGBM                 0:00:54       0.7259    0.8595\n",
            "        15   RobustScaler LightGBM                          0:00:54       0.8361    0.8595\n",
            "        18   StandardScalerWrapper LightGBM                 0:00:53       0.8394    0.8595\n",
            "        19   SparseNormalizer XGBoostClassifier             0:00:54       0.8363    0.8595\n",
            "        20   StandardScalerWrapper LightGBM                 0:00:51       0.8327    0.8595\n",
            "        21   MinMaxScaler LightGBM                          0:00:49       0.8162    0.8595\n",
            "        22   MinMaxScaler LightGBM                          0:00:49       0.8360    0.8595\n",
            "        24   StandardScalerWrapper LightGBM                 0:01:05       0.8161    0.8595\n",
            "        23   StandardScalerWrapper LightGBM                 0:00:56       0.8294    0.8595\n",
            "        25   TruncatedSVDWrapper XGBoostClassifier          0:00:54       0.6791    0.8595\n",
            "        26   StandardScalerWrapper ExtremeRandomTrees       0:01:26       0.8261    0.8595\n",
            "        27   RobustScaler LightGBM                          0:01:20       0.8327    0.8595\n",
            "        28   MinMaxScaler RandomForest                      0:01:14       0.8192    0.8595\n",
            "        29   TruncatedSVDWrapper XGBoostClassifier          0:01:08       0.6791    0.8595\n",
            "        30   SparseNormalizer XGBoostClassifier             0:01:08       0.8395    0.8595\n",
            "        31   SparseNormalizer ExtremeRandomTrees            0:01:06       0.7827    0.8595\n",
            "        33   SparseNormalizer XGBoostClassifier             0:00:51       0.8429    0.8595\n",
            "        32   SparseNormalizer XGBoostClassifier             0:01:20       0.8463    0.8595\n",
            "        34   StandardScalerWrapper ExtremeRandomTrees       0:00:56       0.8227    0.8595\n",
            "        35   SparseNormalizer XGBoostClassifier             0:00:53       0.8195    0.8595\n",
            "        36   MaxAbsScaler ExtremeRandomTrees                0:00:52       0.8260    0.8595\n",
            "        37   StandardScalerWrapper XGBoostClassifier        0:01:10       0.8360    0.8595\n",
            "        38   StandardScalerWrapper RandomForest             0:01:08       0.8292    0.8595\n",
            "        39   SparseNormalizer RandomForest                  0:01:12       0.8027    0.8595\n",
            "        40   MaxAbsScaler RandomForest                      0:01:15       0.8325    0.8595\n",
            "        41   StandardScalerWrapper ExtremeRandomTrees       0:00:53       0.8195    0.8595\n",
            "        42   StandardScalerWrapper LightGBM                 0:00:43       0.8394    0.8595\n",
            "        43   SparseNormalizer XGBoostClassifier             0:00:44       0.8295    0.8595\n",
            "        44   StandardScalerWrapper XGBoostClassifier        0:00:29       0.8326    0.8595\n",
            "        45                                                  0:00:10          nan    0.8595\n",
            "        46                                                  0:00:08          nan    0.8595\n",
            "        47                                                  0:00:18          nan    0.8595\n",
            "        49    StackEnsemble                                 0:01:40       0.8763    0.8763\n",
            "        48    VotingEnsemble                                0:01:41       0.8831    0.8831\n"
          ]
        }
      ],
      "execution_count": 37,
      "metadata": {
        "gather": {
          "logged": 1612215824782
        },
        "jupyter": {
          "outputs_hidden": false,
          "source_hidden": false
        },
        "nteract": {
          "transient": {
            "deleting": false
          }
        }
      }
    },
    {
      "cell_type": "markdown",
      "source": [
        "## Run Details\n",
        "\n",
        "OPTIONAL: Write about the different models trained and their performance. Why do you think some models did better than others?\n",
        "\n",
        "TODO: In the cell below, use the `RunDetails` widget to show the different experiments."
      ],
      "metadata": {}
    },
    {
      "cell_type": "code",
      "source": [
        "from azureml.widgets import RunDetails\r\n",
        "RunDetails(remote_run).show()\r\n",
        "remote_run.wait_for_completion(show_output=True)"
      ],
      "outputs": [
        {
          "output_type": "display_data",
          "data": {
            "text/plain": "_AutoMLWidget(widget_settings={'childWidgetDisplay': 'popup', 'send_telemetry': False, 'log_level': 'INFO', 's…",
            "application/vnd.jupyter.widget-view+json": {
              "version_major": 2,
              "version_minor": 0,
              "model_id": "87960bb0f46d4359bde07966d0390547"
            }
          },
          "metadata": {}
        },
        {
          "output_type": "display_data",
          "data": {
            "application/aml.mini.widget.v1": "{\"status\": \"Completed\", \"workbench_run_details_uri\": \"https://ml.azure.com/experiments/automl_run/runs/AutoML_0f220329-5b75-40ff-89b7-8d07762f5c6b?wsid=/subscriptions/9e65f93e-bdd8-437b-b1e8-0647cd6098f7/resourcegroups/aml-quickstarts-136864/workspaces/quick-starts-ws-136864\", \"run_id\": \"AutoML_0f220329-5b75-40ff-89b7-8d07762f5c6b\", \"run_properties\": {\"run_id\": \"AutoML_0f220329-5b75-40ff-89b7-8d07762f5c6b\", \"created_utc\": \"2021-02-01T21:31:51.069697Z\", \"properties\": {\"num_iterations\": \"1000\", \"training_type\": \"TrainFull\", \"acquisition_function\": \"EI\", \"primary_metric\": \"accuracy\", \"train_split\": \"0\", \"acquisition_parameter\": \"0\", \"num_cross_validation\": \"5\", \"target\": \"aml\", \"AMLSettingsJsonString\": \"{\\\"path\\\":null,\\\"name\\\":\\\"automl_run\\\",\\\"subscription_id\\\":\\\"9e65f93e-bdd8-437b-b1e8-0647cd6098f7\\\",\\\"resource_group\\\":\\\"aml-quickstarts-136864\\\",\\\"workspace_name\\\":\\\"quick-starts-ws-136864\\\",\\\"region\\\":\\\"southcentralus\\\",\\\"compute_target\\\":\\\"aml\\\",\\\"spark_service\\\":null,\\\"azure_service\\\":\\\"remote\\\",\\\"many_models\\\":false,\\\"pipeline_fetch_max_batch_size\\\":1,\\\"iterations\\\":1000,\\\"primary_metric\\\":\\\"accuracy\\\",\\\"task_type\\\":\\\"classification\\\",\\\"data_script\\\":null,\\\"validation_size\\\":0.0,\\\"n_cross_validations\\\":5,\\\"y_min\\\":null,\\\"y_max\\\":null,\\\"num_classes\\\":null,\\\"featurization\\\":\\\"auto\\\",\\\"_ignore_package_version_incompatibilities\\\":false,\\\"is_timeseries\\\":false,\\\"max_cores_per_iteration\\\":1,\\\"max_concurrent_iterations\\\":10,\\\"iteration_timeout_minutes\\\":null,\\\"mem_in_mb\\\":null,\\\"enforce_time_on_windows\\\":false,\\\"experiment_timeout_minutes\\\":15,\\\"experiment_exit_score\\\":null,\\\"whitelist_models\\\":null,\\\"blacklist_algos\\\":[\\\"TensorFlowLinearClassifier\\\",\\\"TensorFlowDNN\\\"],\\\"supported_models\\\":[\\\"BernoulliNaiveBayes\\\",\\\"SVM\\\",\\\"RandomForest\\\",\\\"KNN\\\",\\\"SGD\\\",\\\"XGBoostClassifier\\\",\\\"GradientBoosting\\\",\\\"TensorFlowDNN\\\",\\\"LightGBM\\\",\\\"TensorFlowLinearClassifier\\\",\\\"MultinomialNaiveBayes\\\",\\\"DecisionTree\\\",\\\"LinearSVM\\\",\\\"ExtremeRandomTrees\\\",\\\"AveragedPerceptronClassifier\\\",\\\"LogisticRegression\\\"],\\\"auto_blacklist\\\":true,\\\"blacklist_samples_reached\\\":false,\\\"exclude_nan_labels\\\":true,\\\"verbosity\\\":20,\\\"_debug_log\\\":\\\"azureml_automl.log\\\",\\\"show_warnings\\\":false,\\\"model_explainability\\\":true,\\\"service_url\\\":null,\\\"sdk_url\\\":null,\\\"sdk_packages\\\":null,\\\"enable_onnx_compatible_models\\\":false,\\\"enable_split_onnx_featurizer_estimator_models\\\":false,\\\"vm_type\\\":\\\"STANDARD_DS3_V2\\\",\\\"telemetry_verbosity\\\":20,\\\"send_telemetry\\\":true,\\\"enable_dnn\\\":false,\\\"scenario\\\":\\\"SDK-1.13.0\\\",\\\"environment_label\\\":null,\\\"force_text_dnn\\\":false,\\\"enable_feature_sweeping\\\":true,\\\"enable_early_stopping\\\":true,\\\"early_stopping_n_iters\\\":10,\\\"metrics\\\":null,\\\"enable_ensembling\\\":true,\\\"enable_stack_ensembling\\\":true,\\\"ensemble_iterations\\\":15,\\\"enable_tf\\\":false,\\\"enable_subsampling\\\":null,\\\"subsample_seed\\\":null,\\\"enable_nimbusml\\\":false,\\\"enable_streaming\\\":false,\\\"force_streaming\\\":false,\\\"track_child_runs\\\":true,\\\"allowed_private_models\\\":[],\\\"label_column_name\\\":\\\"DEATH_EVENT\\\",\\\"weight_column_name\\\":null,\\\"cv_split_column_names\\\":null,\\\"enable_local_managed\\\":false,\\\"_local_managed_run_id\\\":null,\\\"cost_mode\\\":1,\\\"lag_length\\\":0,\\\"metric_operation\\\":\\\"maximize\\\",\\\"preprocess\\\":true}\", \"DataPrepJsonString\": \"{\\\\\\\"training_data\\\\\\\": \\\\\\\"{\\\\\\\\\\\\\\\"blocks\\\\\\\\\\\\\\\": [{\\\\\\\\\\\\\\\"id\\\\\\\\\\\\\\\": \\\\\\\\\\\\\\\"36b8ec57-6e30-475e-8428-1bd5c847f643\\\\\\\\\\\\\\\", \\\\\\\\\\\\\\\"type\\\\\\\\\\\\\\\": \\\\\\\\\\\\\\\"Microsoft.DPrep.GetFilesBlock\\\\\\\\\\\\\\\", \\\\\\\\\\\\\\\"arguments\\\\\\\\\\\\\\\": {\\\\\\\\\\\\\\\"isArchive\\\\\\\\\\\\\\\": false, \\\\\\\\\\\\\\\"path\\\\\\\\\\\\\\\": {\\\\\\\\\\\\\\\"target\\\\\\\\\\\\\\\": 4, \\\\\\\\\\\\\\\"resourceDetails\\\\\\\\\\\\\\\": [{\\\\\\\\\\\\\\\"path\\\\\\\\\\\\\\\": \\\\\\\\\\\\\\\"https://raw.githubusercontent.com/shat700/nd00333-capstone/master/starter_file/heart_failure_clinical_records_dataset.csv\\\\\\\\\\\\\\\"}]}}, \\\\\\\\\\\\\\\"localData\\\\\\\\\\\\\\\": {}, \\\\\\\\\\\\\\\"isEnabled\\\\\\\\\\\\\\\": true, \\\\\\\\\\\\\\\"name\\\\\\\\\\\\\\\": null, \\\\\\\\\\\\\\\"annotation\\\\\\\\\\\\\\\": null}, {\\\\\\\\\\\\\\\"id\\\\\\\\\\\\\\\": \\\\\\\\\\\\\\\"9879c12a-6ff1-4054-b0c3-ba920e455d96\\\\\\\\\\\\\\\", \\\\\\\\\\\\\\\"type\\\\\\\\\\\\\\\": \\\\\\\\\\\\\\\"Microsoft.DPrep.ParseDelimitedBlock\\\\\\\\\\\\\\\", \\\\\\\\\\\\\\\"arguments\\\\\\\\\\\\\\\": {\\\\\\\\\\\\\\\"columnHeadersMode\\\\\\\\\\\\\\\": 3, \\\\\\\\\\\\\\\"fileEncoding\\\\\\\\\\\\\\\": 0, \\\\\\\\\\\\\\\"handleQuotedLineBreaks\\\\\\\\\\\\\\\": false, \\\\\\\\\\\\\\\"preview\\\\\\\\\\\\\\\": false, \\\\\\\\\\\\\\\"separator\\\\\\\\\\\\\\\": \\\\\\\\\\\\\\\",\\\\\\\\\\\\\\\", \\\\\\\\\\\\\\\"skipRows\\\\\\\\\\\\\\\": 0, \\\\\\\\\\\\\\\"skipRowsMode\\\\\\\\\\\\\\\": 0}, \\\\\\\\\\\\\\\"localData\\\\\\\\\\\\\\\": {}, \\\\\\\\\\\\\\\"isEnabled\\\\\\\\\\\\\\\": true, \\\\\\\\\\\\\\\"name\\\\\\\\\\\\\\\": null, \\\\\\\\\\\\\\\"annotation\\\\\\\\\\\\\\\": null}, {\\\\\\\\\\\\\\\"id\\\\\\\\\\\\\\\": \\\\\\\\\\\\\\\"95757ab7-2e41-44c9-a362-7cd228017e27\\\\\\\\\\\\\\\", \\\\\\\\\\\\\\\"type\\\\\\\\\\\\\\\": \\\\\\\\\\\\\\\"Microsoft.DPrep.DropColumnsBlock\\\\\\\\\\\\\\\", \\\\\\\\\\\\\\\"arguments\\\\\\\\\\\\\\\": {\\\\\\\\\\\\\\\"columns\\\\\\\\\\\\\\\": {\\\\\\\\\\\\\\\"type\\\\\\\\\\\\\\\": 0, \\\\\\\\\\\\\\\"details\\\\\\\\\\\\\\\": {\\\\\\\\\\\\\\\"selectedColumns\\\\\\\\\\\\\\\": [\\\\\\\\\\\\\\\"Path\\\\\\\\\\\\\\\"]}}}, \\\\\\\\\\\\\\\"localData\\\\\\\\\\\\\\\": {}, \\\\\\\\\\\\\\\"isEnabled\\\\\\\\\\\\\\\": true, \\\\\\\\\\\\\\\"name\\\\\\\\\\\\\\\": null, \\\\\\\\\\\\\\\"annotation\\\\\\\\\\\\\\\": null}, {\\\\\\\\\\\\\\\"id\\\\\\\\\\\\\\\": \\\\\\\\\\\\\\\"8af3f1a5-a25f-4444-b882-134ea1d9ae94\\\\\\\\\\\\\\\", \\\\\\\\\\\\\\\"type\\\\\\\\\\\\\\\": \\\\\\\\\\\\\\\"Microsoft.DPrep.SetColumnTypesBlock\\\\\\\\\\\\\\\", \\\\\\\\\\\\\\\"arguments\\\\\\\\\\\\\\\": {\\\\\\\\\\\\\\\"columnConversion\\\\\\\\\\\\\\\": [{\\\\\\\\\\\\\\\"column\\\\\\\\\\\\\\\": {\\\\\\\\\\\\\\\"type\\\\\\\\\\\\\\\": 2, \\\\\\\\\\\\\\\"details\\\\\\\\\\\\\\\": {\\\\\\\\\\\\\\\"selectedColumn\\\\\\\\\\\\\\\": \\\\\\\\\\\\\\\"age\\\\\\\\\\\\\\\"}}, \\\\\\\\\\\\\\\"typeProperty\\\\\\\\\\\\\\\": 3}, {\\\\\\\\\\\\\\\"column\\\\\\\\\\\\\\\": {\\\\\\\\\\\\\\\"type\\\\\\\\\\\\\\\": 2, \\\\\\\\\\\\\\\"details\\\\\\\\\\\\\\\": {\\\\\\\\\\\\\\\"selectedColumn\\\\\\\\\\\\\\\": \\\\\\\\\\\\\\\"anaemia\\\\\\\\\\\\\\\"}}, \\\\\\\\\\\\\\\"typeProperty\\\\\\\\\\\\\\\": 2}, {\\\\\\\\\\\\\\\"column\\\\\\\\\\\\\\\": {\\\\\\\\\\\\\\\"type\\\\\\\\\\\\\\\": 2, \\\\\\\\\\\\\\\"details\\\\\\\\\\\\\\\": {\\\\\\\\\\\\\\\"selectedColumn\\\\\\\\\\\\\\\": \\\\\\\\\\\\\\\"creatinine_phosphokinase\\\\\\\\\\\\\\\"}}, \\\\\\\\\\\\\\\"typeProperty\\\\\\\\\\\\\\\": 2}, {\\\\\\\\\\\\\\\"column\\\\\\\\\\\\\\\": {\\\\\\\\\\\\\\\"type\\\\\\\\\\\\\\\": 2, \\\\\\\\\\\\\\\"details\\\\\\\\\\\\\\\": {\\\\\\\\\\\\\\\"selectedColumn\\\\\\\\\\\\\\\": \\\\\\\\\\\\\\\"diabetes\\\\\\\\\\\\\\\"}}, \\\\\\\\\\\\\\\"typeProperty\\\\\\\\\\\\\\\": 2}, {\\\\\\\\\\\\\\\"column\\\\\\\\\\\\\\\": {\\\\\\\\\\\\\\\"type\\\\\\\\\\\\\\\": 2, \\\\\\\\\\\\\\\"details\\\\\\\\\\\\\\\": {\\\\\\\\\\\\\\\"selectedColumn\\\\\\\\\\\\\\\": \\\\\\\\\\\\\\\"ejection_fraction\\\\\\\\\\\\\\\"}}, \\\\\\\\\\\\\\\"typeProperty\\\\\\\\\\\\\\\": 2}, {\\\\\\\\\\\\\\\"column\\\\\\\\\\\\\\\": {\\\\\\\\\\\\\\\"type\\\\\\\\\\\\\\\": 2, \\\\\\\\\\\\\\\"details\\\\\\\\\\\\\\\": {\\\\\\\\\\\\\\\"selectedColumn\\\\\\\\\\\\\\\": \\\\\\\\\\\\\\\"high_blood_pressure\\\\\\\\\\\\\\\"}}, \\\\\\\\\\\\\\\"typeProperty\\\\\\\\\\\\\\\": 2}, {\\\\\\\\\\\\\\\"column\\\\\\\\\\\\\\\": {\\\\\\\\\\\\\\\"type\\\\\\\\\\\\\\\": 2, \\\\\\\\\\\\\\\"details\\\\\\\\\\\\\\\": {\\\\\\\\\\\\\\\"selectedColumn\\\\\\\\\\\\\\\": \\\\\\\\\\\\\\\"platelets\\\\\\\\\\\\\\\"}}, \\\\\\\\\\\\\\\"typeProperty\\\\\\\\\\\\\\\": 3}, {\\\\\\\\\\\\\\\"column\\\\\\\\\\\\\\\": {\\\\\\\\\\\\\\\"type\\\\\\\\\\\\\\\": 2, \\\\\\\\\\\\\\\"details\\\\\\\\\\\\\\\": {\\\\\\\\\\\\\\\"selectedColumn\\\\\\\\\\\\\\\": \\\\\\\\\\\\\\\"serum_creatinine\\\\\\\\\\\\\\\"}}, \\\\\\\\\\\\\\\"typeProperty\\\\\\\\\\\\\\\": 3}, {\\\\\\\\\\\\\\\"column\\\\\\\\\\\\\\\": {\\\\\\\\\\\\\\\"type\\\\\\\\\\\\\\\": 2, \\\\\\\\\\\\\\\"details\\\\\\\\\\\\\\\": {\\\\\\\\\\\\\\\"selectedColumn\\\\\\\\\\\\\\\": \\\\\\\\\\\\\\\"serum_sodium\\\\\\\\\\\\\\\"}}, \\\\\\\\\\\\\\\"typeProperty\\\\\\\\\\\\\\\": 2}, {\\\\\\\\\\\\\\\"column\\\\\\\\\\\\\\\": {\\\\\\\\\\\\\\\"type\\\\\\\\\\\\\\\": 2, \\\\\\\\\\\\\\\"details\\\\\\\\\\\\\\\": {\\\\\\\\\\\\\\\"selectedColumn\\\\\\\\\\\\\\\": \\\\\\\\\\\\\\\"sex\\\\\\\\\\\\\\\"}}, \\\\\\\\\\\\\\\"typeProperty\\\\\\\\\\\\\\\": 2}, {\\\\\\\\\\\\\\\"column\\\\\\\\\\\\\\\": {\\\\\\\\\\\\\\\"type\\\\\\\\\\\\\\\": 2, \\\\\\\\\\\\\\\"details\\\\\\\\\\\\\\\": {\\\\\\\\\\\\\\\"selectedColumn\\\\\\\\\\\\\\\": \\\\\\\\\\\\\\\"smoking\\\\\\\\\\\\\\\"}}, \\\\\\\\\\\\\\\"typeProperty\\\\\\\\\\\\\\\": 2}, {\\\\\\\\\\\\\\\"column\\\\\\\\\\\\\\\": {\\\\\\\\\\\\\\\"type\\\\\\\\\\\\\\\": 2, \\\\\\\\\\\\\\\"details\\\\\\\\\\\\\\\": {\\\\\\\\\\\\\\\"selectedColumn\\\\\\\\\\\\\\\": \\\\\\\\\\\\\\\"time\\\\\\\\\\\\\\\"}}, \\\\\\\\\\\\\\\"typeProperty\\\\\\\\\\\\\\\": 2}, {\\\\\\\\\\\\\\\"column\\\\\\\\\\\\\\\": {\\\\\\\\\\\\\\\"type\\\\\\\\\\\\\\\": 2, \\\\\\\\\\\\\\\"details\\\\\\\\\\\\\\\": {\\\\\\\\\\\\\\\"selectedColumn\\\\\\\\\\\\\\\": \\\\\\\\\\\\\\\"DEATH_EVENT\\\\\\\\\\\\\\\"}}, \\\\\\\\\\\\\\\"typeProperty\\\\\\\\\\\\\\\": 2}]}, \\\\\\\\\\\\\\\"localData\\\\\\\\\\\\\\\": {}, \\\\\\\\\\\\\\\"isEnabled\\\\\\\\\\\\\\\": true, \\\\\\\\\\\\\\\"name\\\\\\\\\\\\\\\": null, \\\\\\\\\\\\\\\"annotation\\\\\\\\\\\\\\\": null}], \\\\\\\\\\\\\\\"inspectors\\\\\\\\\\\\\\\": [], \\\\\\\\\\\\\\\"meta\\\\\\\\\\\\\\\": {\\\\\\\\\\\\\\\"savedDatasetId\\\\\\\\\\\\\\\": \\\\\\\\\\\\\\\"4f86f5c2-ed09-48e3-9481-20bdeeff1b16\\\\\\\\\\\\\\\", \\\\\\\\\\\\\\\"datasetType\\\\\\\\\\\\\\\": \\\\\\\\\\\\\\\"tabular\\\\\\\\\\\\\\\", \\\\\\\\\\\\\\\"subscriptionId\\\\\\\\\\\\\\\": \\\\\\\\\\\\\\\"9e65f93e-bdd8-437b-b1e8-0647cd6098f7\\\\\\\\\\\\\\\", \\\\\\\\\\\\\\\"workspaceId\\\\\\\\\\\\\\\": \\\\\\\\\\\\\\\"76682fe0-73cb-4e60-abdf-64f8b3fd3cff\\\\\\\\\\\\\\\", \\\\\\\\\\\\\\\"workspaceLocation\\\\\\\\\\\\\\\": \\\\\\\\\\\\\\\"southcentralus\\\\\\\\\\\\\\\"}}\\\\\\\", \\\\\\\"activities\\\\\\\": 0}\", \"EnableSubsampling\": null, \"runTemplate\": \"AutoML\", \"azureml.runsource\": \"automl\", \"display_task_type\": \"classification\", \"dependencies_versions\": \"{\\\"azureml-widgets\\\": \\\"1.20.0\\\", \\\"azureml-train\\\": \\\"1.20.0\\\", \\\"azureml-train-restclients-hyperdrive\\\": \\\"1.20.0\\\", \\\"azureml-train-core\\\": \\\"1.20.0\\\", \\\"azureml-train-automl\\\": \\\"1.20.0\\\", \\\"azureml-train-automl-runtime\\\": \\\"1.20.0\\\", \\\"azureml-train-automl-client\\\": \\\"1.20.0\\\", \\\"azureml-tensorboard\\\": \\\"1.20.0\\\", \\\"azureml-telemetry\\\": \\\"1.20.0\\\", \\\"azureml-sdk\\\": \\\"1.20.0\\\", \\\"azureml-samples\\\": \\\"0+unknown\\\", \\\"azureml-pipeline\\\": \\\"1.20.0\\\", \\\"azureml-pipeline-steps\\\": \\\"1.20.0\\\", \\\"azureml-pipeline-core\\\": \\\"1.20.0\\\", \\\"azureml-opendatasets\\\": \\\"1.20.0\\\", \\\"azureml-model-management-sdk\\\": \\\"1.0.1b6.post1\\\", \\\"azureml-mlflow\\\": \\\"1.20.0.post1\\\", \\\"azureml-interpret\\\": \\\"1.20.0\\\", \\\"azureml-explain-model\\\": \\\"1.20.0\\\", \\\"azureml-defaults\\\": \\\"1.20.0\\\", \\\"azureml-dataset-runtime\\\": \\\"1.20.0\\\", \\\"azureml-dataprep\\\": \\\"2.7.3\\\", \\\"azureml-dataprep-rslex\\\": \\\"1.5.0\\\", \\\"azureml-dataprep-native\\\": \\\"27.0.0\\\", \\\"azureml-datadrift\\\": \\\"1.20.0\\\", \\\"azureml-core\\\": \\\"1.20.0\\\", \\\"azureml-contrib-services\\\": \\\"1.20.0\\\", \\\"azureml-contrib-server\\\": \\\"1.20.0\\\", \\\"azureml-contrib-reinforcementlearning\\\": \\\"1.20.0\\\", \\\"azureml-contrib-pipeline-steps\\\": \\\"1.20.0\\\", \\\"azureml-contrib-notebook\\\": \\\"1.20.0\\\", \\\"azureml-contrib-interpret\\\": \\\"1.20.0\\\", \\\"azureml-contrib-gbdt\\\": \\\"1.20.0\\\", \\\"azureml-contrib-fairness\\\": \\\"1.20.0\\\", \\\"azureml-contrib-dataset\\\": \\\"1.20.0\\\", \\\"azureml-cli-common\\\": \\\"1.20.0\\\", \\\"azureml-automl-runtime\\\": \\\"1.20.0\\\", \\\"azureml-automl-core\\\": \\\"1.20.0\\\", \\\"azureml-accel-models\\\": \\\"1.20.0\\\"}\", \"_aml_system_scenario_identification\": \"Remote.Parent\", \"ClientType\": \"SDK\", \"environment_cpu_name\": \"AzureML-AutoML\", \"environment_cpu_label\": \"prod\", \"environment_gpu_name\": \"AzureML-AutoML-GPU\", \"environment_gpu_label\": \"prod\", \"root_attribution\": \"automl\", \"attribution\": \"AutoML\", \"Orchestrator\": \"AutoML\", \"CancelUri\": \"https://southcentralus.experiments.azureml.net/jasmine/v1.0/subscriptions/9e65f93e-bdd8-437b-b1e8-0647cd6098f7/resourceGroups/aml-quickstarts-136864/providers/Microsoft.MachineLearningServices/workspaces/quick-starts-ws-136864/experimentids/d2ba8454-1ff0-4393-b0a0-c7209583c158/cancel/AutoML_0f220329-5b75-40ff-89b7-8d07762f5c6b\", \"ClientSdkVersion\": \"1.20.0.post1\", \"snapshotId\": \"00000000-0000-0000-0000-000000000000\", \"SetupRunId\": \"AutoML_0f220329-5b75-40ff-89b7-8d07762f5c6b_setup\", \"SetupRunContainerId\": \"dcid.AutoML_0f220329-5b75-40ff-89b7-8d07762f5c6b_setup\", \"FeaturizationRunJsonPath\": \"featurizer_container.json\", \"FeaturizationRunId\": \"AutoML_0f220329-5b75-40ff-89b7-8d07762f5c6b_featurize\", \"ProblemInfoJsonString\": \"{\\\"dataset_num_categorical\\\": 0, \\\"is_sparse\\\": false, \\\"subsampling\\\": false, \\\"dataset_classes\\\": 2, \\\"dataset_features\\\": 12, \\\"dataset_samples\\\": 299, \\\"single_frequency_class_detected\\\": false}\", \"ModelExplainRunId\": \"AutoML_0f220329-5b75-40ff-89b7-8d07762f5c6b_ModelExplain\"}, \"tags\": {\"model_explain_run\": \"best_run\", \"_aml_system_azureml.automlComponent\": \"AutoML\", \"pipeline_id\": \"\", \"score\": \"\", \"predicted_cost\": \"\", \"fit_time\": \"\", \"training_percent\": \"\", \"iteration\": \"\", \"run_preprocessor\": \"\", \"run_algorithm\": \"\", \"dynamic_whitelisting_iterations\": \"<25>;<29>;<35>;<37>;<45>;\", \"automl_best_child_run_id\": \"AutoML_0f220329-5b75-40ff-89b7-8d07762f5c6b_48\", \"model_explain_best_run_child_id\": \"AutoML_0f220329-5b75-40ff-89b7-8d07762f5c6b_48\"}, \"end_time_utc\": \"2021-02-01T21:43:31.276811Z\", \"status\": \"Completed\", \"log_files\": {}, \"log_groups\": [], \"run_duration\": \"0:11:40\"}, \"child_runs\": [{\"run_id\": \"AutoML_0f220329-5b75-40ff-89b7-8d07762f5c6b_0\", \"run_number\": 60, \"metric\": null, \"status\": \"Completed\", \"run_type\": \"azureml.scriptrun\", \"training_percent\": \"100\", \"start_time\": \"2021-02-01T21:35:01.75967Z\", \"end_time\": \"2021-02-01T21:35:58.634829Z\", \"created_time\": \"2021-02-01T21:34:44.002566Z\", \"created_time_dt\": \"2021-02-01T21:34:44.002566Z\", \"duration\": \"0:01:14\", \"iteration\": \"0\", \"goal\": \"accuracy_max\", \"run_name\": \"MaxAbsScaler, LightGBM\", \"run_properties\": \"copy=True\", \"primary_metric\": 0.8059887, \"best_metric\": 0.8059887}, {\"run_id\": \"AutoML_0f220329-5b75-40ff-89b7-8d07762f5c6b_9\", \"run_number\": 61, \"metric\": null, \"status\": \"Completed\", \"run_type\": \"azureml.scriptrun\", \"training_percent\": \"100\", \"start_time\": \"2021-02-01T21:34:59.84921Z\", \"end_time\": \"2021-02-01T21:36:01.406316Z\", \"created_time\": \"2021-02-01T21:34:44.127407Z\", \"created_time_dt\": \"2021-02-01T21:34:44.127407Z\", \"duration\": \"0:01:17\", \"iteration\": \"9\", \"goal\": \"accuracy_max\", \"run_name\": \"StandardScalerWrapper, XGBoostClassifier\", \"run_properties\": \"<azureml.automl.runtime.shared.model_wrappers.StandardScalerWrapper object at 0x7f98203eba20\", \"primary_metric\": 0.82259887, \"best_metric\": 0.85954802}, {\"run_id\": \"AutoML_0f220329-5b75-40ff-89b7-8d07762f5c6b_2\", \"run_number\": 62, \"metric\": null, \"status\": \"Completed\", \"run_type\": \"azureml.scriptrun\", \"training_percent\": \"100\", \"start_time\": \"2021-02-01T21:35:02.568123Z\", \"end_time\": \"2021-02-01T21:35:56.279795Z\", \"created_time\": \"2021-02-01T21:34:44.138979Z\", \"created_time_dt\": \"2021-02-01T21:34:44.138979Z\", \"duration\": \"0:01:12\", \"iteration\": \"2\", \"goal\": \"accuracy_max\", \"run_name\": \"MinMaxScaler, RandomForest\", \"run_properties\": \"copy=True, feature_range=(0, 1\", \"primary_metric\": 0.84271186, \"best_metric\": 0.84271186}, {\"run_id\": \"AutoML_0f220329-5b75-40ff-89b7-8d07762f5c6b_6\", \"run_number\": 63, \"metric\": null, \"status\": \"Completed\", \"run_type\": \"azureml.scriptrun\", \"training_percent\": \"100\", \"start_time\": \"2021-02-01T21:35:00.201927Z\", \"end_time\": \"2021-02-01T21:36:01.424696Z\", \"created_time\": \"2021-02-01T21:34:44.153599Z\", \"created_time_dt\": \"2021-02-01T21:34:44.153599Z\", \"duration\": \"0:01:17\", \"iteration\": \"6\", \"goal\": \"accuracy_max\", \"run_name\": \"SparseNormalizer, LightGBM\", \"run_properties\": \"<azureml.automl.runtime.shared.model_wrappers.SparseNormalizer object at 0x7fe6d9b2fc50\", \"primary_metric\": 0.84293785, \"best_metric\": 0.85288136}, {\"run_id\": \"AutoML_0f220329-5b75-40ff-89b7-8d07762f5c6b_5\", \"run_number\": 64, \"metric\": null, \"status\": \"Completed\", \"run_type\": \"azureml.scriptrun\", \"training_percent\": \"100\", \"start_time\": \"2021-02-01T21:35:00.079589Z\", \"end_time\": \"2021-02-01T21:35:58.163758Z\", \"created_time\": \"2021-02-01T21:34:44.158606Z\", \"created_time_dt\": \"2021-02-01T21:34:44.158606Z\", \"duration\": \"0:01:14\", \"iteration\": \"5\", \"goal\": \"accuracy_max\", \"run_name\": \"SparseNormalizer, XGBoostClassifier\", \"run_properties\": \"<azureml.automl.runtime.shared.model_wrappers.SparseNormalizer object at 0x7f42147f8c18\", \"primary_metric\": 0.85288136, \"best_metric\": 0.85288136}, {\"run_id\": \"AutoML_0f220329-5b75-40ff-89b7-8d07762f5c6b_7\", \"run_number\": 65, \"metric\": null, \"status\": \"Completed\", \"run_type\": \"azureml.scriptrun\", \"training_percent\": \"100\", \"start_time\": \"2021-02-01T21:35:00.822537Z\", \"end_time\": \"2021-02-01T21:36:03.555303Z\", \"created_time\": \"2021-02-01T21:34:44.169629Z\", \"created_time_dt\": \"2021-02-01T21:34:44.169629Z\", \"duration\": \"0:01:19\", \"iteration\": \"7\", \"goal\": \"accuracy_max\", \"run_name\": \"SparseNormalizer, XGBoostClassifier\", \"run_properties\": \"<azureml.automl.runtime.shared.model_wrappers.SparseNormalizer object at 0x7f3324bd6550\", \"primary_metric\": 0.85954802, \"best_metric\": 0.85954802}, {\"run_id\": \"AutoML_0f220329-5b75-40ff-89b7-8d07762f5c6b_8\", \"run_number\": 66, \"metric\": null, \"status\": \"Completed\", \"run_type\": \"azureml.scriptrun\", \"training_percent\": \"100\", \"start_time\": \"2021-02-01T21:35:00.313685Z\", \"end_time\": \"2021-02-01T21:35:57.749049Z\", \"created_time\": \"2021-02-01T21:34:44.193603Z\", \"created_time_dt\": \"2021-02-01T21:34:44.193603Z\", \"duration\": \"0:01:13\", \"iteration\": \"8\", \"goal\": \"accuracy_max\", \"run_name\": \"SparseNormalizer, LightGBM\", \"run_properties\": \"<azureml.automl.runtime.shared.model_wrappers.SparseNormalizer object at 0x7fc460665cf8\", \"primary_metric\": 0.83276836, \"best_metric\": 0.85954802}, {\"run_id\": \"AutoML_0f220329-5b75-40ff-89b7-8d07762f5c6b_1\", \"run_number\": 67, \"metric\": null, \"status\": \"Completed\", \"run_type\": \"azureml.scriptrun\", \"training_percent\": \"100\", \"start_time\": \"2021-02-01T21:36:00.733413Z\", \"end_time\": \"2021-02-01T21:36:58.208133Z\", \"created_time\": \"2021-02-01T21:34:44.128777Z\", \"created_time_dt\": \"2021-02-01T21:34:44.128777Z\", \"duration\": \"0:02:14\", \"iteration\": \"1\", \"goal\": \"accuracy_max\", \"run_name\": \"MaxAbsScaler, XGBoostClassifier\", \"run_properties\": \"copy=True\", \"primary_metric\": 0.8259322, \"best_metric\": 0.8259322}, {\"run_id\": \"AutoML_0f220329-5b75-40ff-89b7-8d07762f5c6b_3\", \"run_number\": 68, \"metric\": null, \"status\": \"Completed\", \"run_type\": \"azureml.scriptrun\", \"training_percent\": \"100\", \"start_time\": \"2021-02-01T21:35:00.612343Z\", \"end_time\": \"2021-02-01T21:36:02.906683Z\", \"created_time\": \"2021-02-01T21:34:44.181399Z\", \"created_time_dt\": \"2021-02-01T21:34:44.181399Z\", \"duration\": \"0:01:18\", \"iteration\": \"3\", \"goal\": \"accuracy_max\", \"run_name\": \"MinMaxScaler, RandomForest\", \"run_properties\": \"copy=True, feature_range=(0, 1\", \"primary_metric\": 0.80909605, \"best_metric\": 0.84271186}, {\"run_id\": \"AutoML_0f220329-5b75-40ff-89b7-8d07762f5c6b_4\", \"run_number\": 69, \"metric\": null, \"status\": \"Completed\", \"run_type\": \"azureml.scriptrun\", \"training_percent\": \"100\", \"start_time\": \"2021-02-01T21:36:00.841855Z\", \"end_time\": \"2021-02-01T21:36:53.39659Z\", \"created_time\": \"2021-02-01T21:34:44.167497Z\", \"created_time_dt\": \"2021-02-01T21:34:44.167497Z\", \"duration\": \"0:02:09\", \"iteration\": \"4\", \"goal\": \"accuracy_max\", \"run_name\": \"MinMaxScaler, RandomForest\", \"run_properties\": \"copy=True, feature_range=(0, 1\", \"primary_metric\": 0.8459322, \"best_metric\": 0.8459322}, {\"run_id\": \"AutoML_0f220329-5b75-40ff-89b7-8d07762f5c6b_10\", \"run_number\": 70, \"metric\": null, \"status\": \"Completed\", \"run_type\": \"azureml.scriptrun\", \"training_percent\": \"100\", \"start_time\": \"2021-02-01T21:36:12.111998Z\", \"end_time\": \"2021-02-01T21:37:05.421674Z\", \"created_time\": \"2021-02-01T21:36:01.387143Z\", \"created_time_dt\": \"2021-02-01T21:36:01.387143Z\", \"duration\": \"0:01:04\", \"iteration\": \"10\", \"goal\": \"accuracy_max\", \"run_name\": \"StandardScalerWrapper, XGBoostClassifier\", \"run_properties\": \"<azureml.automl.runtime.shared.model_wrappers.StandardScalerWrapper object at 0x7f629735cfd0\", \"primary_metric\": 0.83248588, \"best_metric\": 0.85954802}, {\"run_id\": \"AutoML_0f220329-5b75-40ff-89b7-8d07762f5c6b_12\", \"run_number\": 71, \"metric\": null, \"status\": \"Completed\", \"run_type\": \"azureml.scriptrun\", \"training_percent\": \"100\", \"start_time\": \"2021-02-01T21:36:16.867942Z\", \"end_time\": \"2021-02-01T21:37:13.596864Z\", \"created_time\": \"2021-02-01T21:36:06.79888Z\", \"created_time_dt\": \"2021-02-01T21:36:06.79888Z\", \"duration\": \"0:01:06\", \"iteration\": \"12\", \"goal\": \"accuracy_max\", \"run_name\": \"StandardScalerWrapper, LogisticRegression\", \"run_properties\": \"<azureml.automl.runtime.shared.model_wrappers.StandardScalerWrapper object at 0x7f97ac23efd0\", \"primary_metric\": 0.8160452, \"best_metric\": 0.85954802}, {\"run_id\": \"AutoML_0f220329-5b75-40ff-89b7-8d07762f5c6b_14\", \"run_number\": 72, \"metric\": null, \"status\": \"Completed\", \"run_type\": \"azureml.scriptrun\", \"training_percent\": \"100\", \"start_time\": \"2021-02-01T21:36:54.519973Z\", \"end_time\": \"2021-02-01T21:37:48.176429Z\", \"created_time\": \"2021-02-01T21:36:06.930744Z\", \"created_time_dt\": \"2021-02-01T21:36:06.930744Z\", \"duration\": \"0:01:41\", \"iteration\": \"14\", \"goal\": \"accuracy_max\", \"run_name\": \"StandardScalerWrapper, LightGBM\", \"run_properties\": \"<azureml.automl.runtime.shared.model_wrappers.StandardScalerWrapper object at 0x7f864c8e7668\", \"primary_metric\": 0.72587571, \"best_metric\": 0.85954802}, {\"run_id\": \"AutoML_0f220329-5b75-40ff-89b7-8d07762f5c6b_13\", \"run_number\": 73, \"metric\": null, \"status\": \"Completed\", \"run_type\": \"azureml.scriptrun\", \"training_percent\": \"100\", \"start_time\": \"2021-02-01T21:36:19.256384Z\", \"end_time\": \"2021-02-01T21:37:11.775793Z\", \"created_time\": \"2021-02-01T21:36:06.938612Z\", \"created_time_dt\": \"2021-02-01T21:36:06.938612Z\", \"duration\": \"0:01:04\", \"iteration\": \"13\", \"goal\": \"accuracy_max\", \"run_name\": \"MaxAbsScaler, GradientBoosting\", \"run_properties\": \"copy=True\", \"primary_metric\": 0.83949153, \"best_metric\": 0.85954802}, {\"run_id\": \"AutoML_0f220329-5b75-40ff-89b7-8d07762f5c6b_17\", \"run_number\": 74, \"metric\": null, \"status\": \"Completed\", \"run_type\": \"azureml.scriptrun\", \"training_percent\": \"100\", \"start_time\": \"2021-02-01T21:36:18.992788Z\", \"end_time\": \"2021-02-01T21:37:13.319812Z\", \"created_time\": \"2021-02-01T21:36:06.938796Z\", \"created_time_dt\": \"2021-02-01T21:36:06.938796Z\", \"duration\": \"0:01:06\", \"iteration\": \"17\", \"goal\": \"accuracy_max\", \"run_name\": \"MaxAbsScaler, LightGBM\", \"run_properties\": \"copy=True\", \"primary_metric\": 0.79937853, \"best_metric\": 0.85954802}, {\"run_id\": \"AutoML_0f220329-5b75-40ff-89b7-8d07762f5c6b_16\", \"run_number\": 75, \"metric\": null, \"status\": \"Completed\", \"run_type\": \"azureml.scriptrun\", \"training_percent\": \"100\", \"start_time\": \"2021-02-01T21:36:17.656918Z\", \"end_time\": \"2021-02-01T21:37:11.729066Z\", \"created_time\": \"2021-02-01T21:36:07.018289Z\", \"created_time_dt\": \"2021-02-01T21:36:07.018289Z\", \"duration\": \"0:01:04\", \"iteration\": \"16\", \"goal\": \"accuracy_max\", \"run_name\": \"StandardScalerWrapper, LightGBM\", \"run_properties\": \"<azureml.automl.runtime.shared.model_wrappers.StandardScalerWrapper object at 0x7f26dd0acc88\", \"primary_metric\": 0.84271186, \"best_metric\": 0.85954802}, {\"run_id\": \"AutoML_0f220329-5b75-40ff-89b7-8d07762f5c6b_11\", \"run_number\": 76, \"metric\": null, \"status\": \"Completed\", \"run_type\": \"azureml.scriptrun\", \"training_percent\": \"100\", \"start_time\": \"2021-02-01T21:36:18.203587Z\", \"end_time\": \"2021-02-01T21:37:29.882279Z\", \"created_time\": \"2021-02-01T21:36:06.799623Z\", \"created_time_dt\": \"2021-02-01T21:36:06.799623Z\", \"duration\": \"0:01:23\", \"iteration\": \"11\", \"goal\": \"accuracy_max\", \"run_name\": \"SparseNormalizer, LightGBM\", \"run_properties\": \"<azureml.automl.runtime.shared.model_wrappers.SparseNormalizer object at 0x7fa0dc1a71d0\", \"primary_metric\": 0.83299435, \"best_metric\": 0.85954802}, {\"run_id\": \"AutoML_0f220329-5b75-40ff-89b7-8d07762f5c6b_15\", \"run_number\": 77, \"metric\": null, \"status\": \"Completed\", \"run_type\": \"azureml.scriptrun\", \"training_percent\": \"100\", \"start_time\": \"2021-02-01T21:36:58.140591Z\", \"end_time\": \"2021-02-01T21:37:52.198663Z\", \"created_time\": \"2021-02-01T21:36:06.961004Z\", \"created_time_dt\": \"2021-02-01T21:36:06.961004Z\", \"duration\": \"0:01:45\", \"iteration\": \"15\", \"goal\": \"accuracy_max\", \"run_name\": \"RobustScaler, LightGBM\", \"run_properties\": \"copy=True, quantile_range=[25, 75], with_centering=True,\\n             with_scaling=True\", \"primary_metric\": 0.83610169, \"best_metric\": 0.85954802}, {\"run_id\": \"AutoML_0f220329-5b75-40ff-89b7-8d07762f5c6b_18\", \"run_number\": 78, \"metric\": null, \"status\": \"Completed\", \"run_type\": \"azureml.scriptrun\", \"training_percent\": \"100\", \"start_time\": \"2021-02-01T21:37:13.13972Z\", \"end_time\": \"2021-02-01T21:38:05.907636Z\", \"created_time\": \"2021-02-01T21:36:55.632515Z\", \"created_time_dt\": \"2021-02-01T21:36:55.632515Z\", \"duration\": \"0:01:10\", \"iteration\": \"18\", \"goal\": \"accuracy_max\", \"run_name\": \"StandardScalerWrapper, LightGBM\", \"run_properties\": \"<azureml.automl.runtime.shared.model_wrappers.StandardScalerWrapper object at 0x7fa2346c7518\", \"primary_metric\": 0.83937853, \"best_metric\": 0.85954802}, {\"run_id\": \"AutoML_0f220329-5b75-40ff-89b7-8d07762f5c6b_19\", \"run_number\": 79, \"metric\": null, \"status\": \"Completed\", \"run_type\": \"azureml.scriptrun\", \"training_percent\": \"100\", \"start_time\": \"2021-02-01T21:37:15.121152Z\", \"end_time\": \"2021-02-01T21:38:08.77658Z\", \"created_time\": \"2021-02-01T21:37:02.718525Z\", \"created_time_dt\": \"2021-02-01T21:37:02.718525Z\", \"duration\": \"0:01:06\", \"iteration\": \"19\", \"goal\": \"accuracy_max\", \"run_name\": \"SparseNormalizer, XGBoostClassifier\", \"run_properties\": \"<azureml.automl.runtime.shared.model_wrappers.SparseNormalizer object at 0x7fde0422b860\", \"primary_metric\": 0.83627119, \"best_metric\": 0.85954802}, {\"run_id\": \"AutoML_0f220329-5b75-40ff-89b7-8d07762f5c6b_20\", \"run_number\": 80, \"metric\": null, \"status\": \"Completed\", \"run_type\": \"azureml.scriptrun\", \"training_percent\": \"100\", \"start_time\": \"2021-02-01T21:37:20.47976Z\", \"end_time\": \"2021-02-01T21:38:11.092566Z\", \"created_time\": \"2021-02-01T21:37:08.057048Z\", \"created_time_dt\": \"2021-02-01T21:37:08.057048Z\", \"duration\": \"0:01:03\", \"iteration\": \"20\", \"goal\": \"accuracy_max\", \"run_name\": \"StandardScalerWrapper, LightGBM\", \"run_properties\": \"<azureml.automl.runtime.shared.model_wrappers.StandardScalerWrapper object at 0x7f545d1b5b70\", \"primary_metric\": 0.83265537, \"best_metric\": 0.85954802}, {\"run_id\": \"AutoML_0f220329-5b75-40ff-89b7-8d07762f5c6b_21\", \"run_number\": 81, \"metric\": null, \"status\": \"Completed\", \"run_type\": \"azureml.scriptrun\", \"training_percent\": \"100\", \"start_time\": \"2021-02-01T21:37:27.111085Z\", \"end_time\": \"2021-02-01T21:38:15.93646Z\", \"created_time\": \"2021-02-01T21:37:14.681016Z\", \"created_time_dt\": \"2021-02-01T21:37:14.681016Z\", \"duration\": \"0:01:01\", \"iteration\": \"21\", \"goal\": \"accuracy_max\", \"run_name\": \"MinMaxScaler, LightGBM\", \"run_properties\": \"copy=True, feature_range=(0, 1\", \"primary_metric\": 0.81615819, \"best_metric\": 0.85954802}, {\"run_id\": \"AutoML_0f220329-5b75-40ff-89b7-8d07762f5c6b_22\", \"run_number\": 82, \"metric\": null, \"status\": \"Completed\", \"run_type\": \"azureml.scriptrun\", \"training_percent\": \"100\", \"start_time\": \"2021-02-01T21:37:27.580863Z\", \"end_time\": \"2021-02-01T21:38:16.21469Z\", \"created_time\": \"2021-02-01T21:37:14.876698Z\", \"created_time_dt\": \"2021-02-01T21:37:14.876698Z\", \"duration\": \"0:01:01\", \"iteration\": \"22\", \"goal\": \"accuracy_max\", \"run_name\": \"MinMaxScaler, LightGBM\", \"run_properties\": \"copy=True, feature_range=(0, 1\", \"primary_metric\": 0.8360452, \"best_metric\": 0.85954802}, {\"run_id\": \"AutoML_0f220329-5b75-40ff-89b7-8d07762f5c6b_23\", \"run_number\": 83, \"metric\": null, \"status\": \"Completed\", \"run_type\": \"azureml.scriptrun\", \"training_percent\": \"100\", \"start_time\": \"2021-02-01T21:37:53.039096Z\", \"end_time\": \"2021-02-01T21:38:48.975776Z\", \"created_time\": \"2021-02-01T21:37:21.117776Z\", \"created_time_dt\": \"2021-02-01T21:37:21.117776Z\", \"duration\": \"0:01:27\", \"iteration\": \"23\", \"goal\": \"accuracy_max\", \"run_name\": \"StandardScalerWrapper, LightGBM\", \"run_properties\": \"<azureml.automl.runtime.shared.model_wrappers.StandardScalerWrapper object at 0x7fcde9dac7b8\", \"primary_metric\": 0.82937853, \"best_metric\": 0.85954802}, {\"run_id\": \"AutoML_0f220329-5b75-40ff-89b7-8d07762f5c6b_24\", \"run_number\": 84, \"metric\": null, \"status\": \"Completed\", \"run_type\": \"azureml.scriptrun\", \"training_percent\": \"100\", \"start_time\": \"2021-02-01T21:37:35.950402Z\", \"end_time\": \"2021-02-01T21:38:41.021118Z\", \"created_time\": \"2021-02-01T21:37:21.228844Z\", \"created_time_dt\": \"2021-02-01T21:37:21.228844Z\", \"duration\": \"0:01:19\", \"iteration\": \"24\", \"goal\": \"accuracy_max\", \"run_name\": \"StandardScalerWrapper, LightGBM\", \"run_properties\": \"<azureml.automl.runtime.shared.model_wrappers.StandardScalerWrapper object at 0x7f77ed64d358\", \"primary_metric\": 0.81610169, \"best_metric\": 0.85954802}, {\"run_id\": \"AutoML_0f220329-5b75-40ff-89b7-8d07762f5c6b_25\", \"run_number\": 85, \"metric\": null, \"status\": \"Completed\", \"run_type\": \"azureml.scriptrun\", \"training_percent\": \"100\", \"start_time\": \"2021-02-01T21:37:53.511837Z\", \"end_time\": \"2021-02-01T21:38:47.699368Z\", \"created_time\": \"2021-02-01T21:37:33.95725Z\", \"created_time_dt\": \"2021-02-01T21:37:33.95725Z\", \"duration\": \"0:01:13\", \"iteration\": \"25\", \"goal\": \"accuracy_max\", \"run_name\": \"TruncatedSVDWrapper, XGBoostClassifier\", \"run_properties\": \"n_components=0.2573684210526316, random_state=None\", \"primary_metric\": 0.67909605, \"best_metric\": 0.85954802}, {\"run_id\": \"AutoML_0f220329-5b75-40ff-89b7-8d07762f5c6b_26\", \"run_number\": 86, \"metric\": null, \"status\": \"Completed\", \"run_type\": \"azureml.scriptrun\", \"training_percent\": \"100\", \"start_time\": \"2021-02-01T21:38:08.112373Z\", \"end_time\": \"2021-02-01T21:39:34.444352Z\", \"created_time\": \"2021-02-01T21:37:50.803535Z\", \"created_time_dt\": \"2021-02-01T21:37:50.803535Z\", \"duration\": \"0:01:43\", \"iteration\": \"26\", \"goal\": \"accuracy_max\", \"run_name\": \"StandardScalerWrapper, ExtremeRandomTrees\", \"run_properties\": \"<azureml.automl.runtime.shared.model_wrappers.StandardScalerWrapper object at 0x7f033a7ac128\", \"primary_metric\": 0.82610169, \"best_metric\": 0.85954802}, {\"run_id\": \"AutoML_0f220329-5b75-40ff-89b7-8d07762f5c6b_27\", \"run_number\": 87, \"metric\": null, \"status\": \"Completed\", \"run_type\": \"azureml.scriptrun\", \"training_percent\": \"100\", \"start_time\": \"2021-02-01T21:38:14.668349Z\", \"end_time\": \"2021-02-01T21:39:34.421341Z\", \"created_time\": \"2021-02-01T21:37:56.019264Z\", \"created_time_dt\": \"2021-02-01T21:37:56.019264Z\", \"duration\": \"0:01:38\", \"iteration\": \"27\", \"goal\": \"accuracy_max\", \"run_name\": \"RobustScaler, LightGBM\", \"run_properties\": \"copy=True, quantile_range=[25, 75], with_centering=False,\\n             with_scaling=False\", \"primary_metric\": 0.83265537, \"best_metric\": 0.85954802}, {\"run_id\": \"AutoML_0f220329-5b75-40ff-89b7-8d07762f5c6b_28\", \"run_number\": 88, \"metric\": null, \"status\": \"Completed\", \"run_type\": \"azureml.scriptrun\", \"training_percent\": \"100\", \"start_time\": \"2021-02-01T21:38:21.304779Z\", \"end_time\": \"2021-02-01T21:39:35.333143Z\", \"created_time\": \"2021-02-01T21:38:08.323374Z\", \"created_time_dt\": \"2021-02-01T21:38:08.323374Z\", \"duration\": \"0:01:27\", \"iteration\": \"28\", \"goal\": \"accuracy_max\", \"run_name\": \"MinMaxScaler, RandomForest\", \"run_properties\": \"copy=True, feature_range=(0, 1\", \"primary_metric\": 0.81920904, \"best_metric\": 0.85954802}, {\"run_id\": \"AutoML_0f220329-5b75-40ff-89b7-8d07762f5c6b_29\", \"run_number\": 89, \"metric\": null, \"status\": \"Completed\", \"run_type\": \"azureml.scriptrun\", \"training_percent\": \"100\", \"start_time\": \"2021-02-01T21:38:25.971471Z\", \"end_time\": \"2021-02-01T21:39:33.514812Z\", \"created_time\": \"2021-02-01T21:38:13.842229Z\", \"created_time_dt\": \"2021-02-01T21:38:13.842229Z\", \"duration\": \"0:01:19\", \"iteration\": \"29\", \"goal\": \"accuracy_max\", \"run_name\": \"TruncatedSVDWrapper, XGBoostClassifier\", \"run_properties\": \"n_components=0.95, random_state=None\", \"primary_metric\": 0.67909605, \"best_metric\": 0.85954802}, {\"run_id\": \"AutoML_0f220329-5b75-40ff-89b7-8d07762f5c6b_30\", \"run_number\": 90, \"metric\": null, \"status\": \"Completed\", \"run_type\": \"azureml.scriptrun\", \"training_percent\": \"100\", \"start_time\": \"2021-02-01T21:38:26.758418Z\", \"end_time\": \"2021-02-01T21:39:34.332301Z\", \"created_time\": \"2021-02-01T21:38:14.001172Z\", \"created_time_dt\": \"2021-02-01T21:38:14.001172Z\", \"duration\": \"0:01:20\", \"iteration\": \"30\", \"goal\": \"accuracy_max\", \"run_name\": \"SparseNormalizer, XGBoostClassifier\", \"run_properties\": \"<azureml.automl.runtime.shared.model_wrappers.SparseNormalizer object at 0x7fdf11a230b8\", \"primary_metric\": 0.83954802, \"best_metric\": 0.85954802}, {\"run_id\": \"AutoML_0f220329-5b75-40ff-89b7-8d07762f5c6b_31\", \"run_number\": 91, \"metric\": null, \"status\": \"Completed\", \"run_type\": \"azureml.scriptrun\", \"training_percent\": \"100\", \"start_time\": \"2021-02-01T21:38:45.470826Z\", \"end_time\": \"2021-02-01T21:39:51.547311Z\", \"created_time\": \"2021-02-01T21:38:18.948541Z\", \"created_time_dt\": \"2021-02-01T21:38:18.948541Z\", \"duration\": \"0:01:32\", \"iteration\": \"31\", \"goal\": \"accuracy_max\", \"run_name\": \"SparseNormalizer, ExtremeRandomTrees\", \"run_properties\": \"<azureml.automl.runtime.shared.model_wrappers.SparseNormalizer object at 0x7fe3e0593898\", \"primary_metric\": 0.78265537, \"best_metric\": 0.85954802}, {\"run_id\": \"AutoML_0f220329-5b75-40ff-89b7-8d07762f5c6b_32\", \"run_number\": 92, \"metric\": null, \"status\": \"Completed\", \"run_type\": \"azureml.scriptrun\", \"training_percent\": \"100\", \"start_time\": \"2021-02-01T21:38:50.760068Z\", \"end_time\": \"2021-02-01T21:40:10.704267Z\", \"created_time\": \"2021-02-01T21:38:18.950695Z\", \"created_time_dt\": \"2021-02-01T21:38:18.950695Z\", \"duration\": \"0:01:51\", \"iteration\": \"32\", \"goal\": \"accuracy_max\", \"run_name\": \"SparseNormalizer, XGBoostClassifier\", \"run_properties\": \"<azureml.automl.runtime.shared.model_wrappers.SparseNormalizer object at 0x7f0f9c5ad978\", \"primary_metric\": 0.84627119, \"best_metric\": 0.85954802}, {\"run_id\": \"AutoML_0f220329-5b75-40ff-89b7-8d07762f5c6b_33\", \"run_number\": 93, \"metric\": null, \"status\": \"Completed\", \"run_type\": \"azureml.scriptrun\", \"training_percent\": \"100\", \"start_time\": \"2021-02-01T21:38:56.081696Z\", \"end_time\": \"2021-02-01T21:39:46.926475Z\", \"created_time\": \"2021-02-01T21:38:43.794701Z\", \"created_time_dt\": \"2021-02-01T21:38:43.794701Z\", \"duration\": \"0:01:03\", \"iteration\": \"33\", \"goal\": \"accuracy_max\", \"run_name\": \"SparseNormalizer, XGBoostClassifier\", \"run_properties\": \"<azureml.automl.runtime.shared.model_wrappers.SparseNormalizer object at 0x7fe66c15e2b0\", \"primary_metric\": 0.84288136, \"best_metric\": 0.85954802}, {\"run_id\": \"AutoML_0f220329-5b75-40ff-89b7-8d07762f5c6b_34\", \"run_number\": 94, \"metric\": null, \"status\": \"Completed\", \"run_type\": \"azureml.scriptrun\", \"training_percent\": \"100\", \"start_time\": \"2021-02-01T21:39:38.005544Z\", \"end_time\": \"2021-02-01T21:40:34.023801Z\", \"created_time\": \"2021-02-01T21:38:50.469407Z\", \"created_time_dt\": \"2021-02-01T21:38:50.469407Z\", \"duration\": \"0:01:43\", \"iteration\": \"34\", \"goal\": \"accuracy_max\", \"run_name\": \"StandardScalerWrapper, ExtremeRandomTrees\", \"run_properties\": \"<azureml.automl.runtime.shared.model_wrappers.StandardScalerWrapper object at 0x7f42545dcd30\", \"primary_metric\": 0.82271186, \"best_metric\": 0.85954802}, {\"run_id\": \"AutoML_0f220329-5b75-40ff-89b7-8d07762f5c6b_35\", \"run_number\": 95, \"metric\": null, \"status\": \"Completed\", \"run_type\": \"azureml.scriptrun\", \"training_percent\": \"100\", \"start_time\": \"2021-02-01T21:39:37.951831Z\", \"end_time\": \"2021-02-01T21:40:31.241723Z\", \"created_time\": \"2021-02-01T21:38:55.811144Z\", \"created_time_dt\": \"2021-02-01T21:38:55.811144Z\", \"duration\": \"0:01:35\", \"iteration\": \"35\", \"goal\": \"accuracy_max\", \"run_name\": \"SparseNormalizer, XGBoostClassifier\", \"run_properties\": \"<azureml.automl.runtime.shared.model_wrappers.SparseNormalizer object at 0x7f3ea01d79b0\", \"primary_metric\": 0.81949153, \"best_metric\": 0.85954802}, {\"run_id\": \"AutoML_0f220329-5b75-40ff-89b7-8d07762f5c6b_36\", \"run_number\": 96, \"metric\": null, \"status\": \"Completed\", \"run_type\": \"azureml.scriptrun\", \"training_percent\": \"100\", \"start_time\": \"2021-02-01T21:39:50.121266Z\", \"end_time\": \"2021-02-01T21:40:42.247583Z\", \"created_time\": \"2021-02-01T21:39:36.824524Z\", \"created_time_dt\": \"2021-02-01T21:39:36.824524Z\", \"duration\": \"0:01:05\", \"iteration\": \"36\", \"goal\": \"accuracy_max\", \"run_name\": \"MaxAbsScaler, ExtremeRandomTrees\", \"run_properties\": \"copy=True\", \"primary_metric\": 0.8260452, \"best_metric\": 0.85954802}, {\"run_id\": \"AutoML_0f220329-5b75-40ff-89b7-8d07762f5c6b_37\", \"run_number\": 97, \"metric\": null, \"status\": \"Completed\", \"run_type\": \"azureml.scriptrun\", \"training_percent\": \"100\", \"start_time\": \"2021-02-01T21:39:56.04612Z\", \"end_time\": \"2021-02-01T21:41:05.77203Z\", \"created_time\": \"2021-02-01T21:39:44.784105Z\", \"created_time_dt\": \"2021-02-01T21:39:44.784105Z\", \"duration\": \"0:01:20\", \"iteration\": \"37\", \"goal\": \"accuracy_max\", \"run_name\": \"StandardScalerWrapper, XGBoostClassifier\", \"run_properties\": \"<azureml.automl.runtime.shared.model_wrappers.StandardScalerWrapper object at 0x7f0160baffd0\", \"primary_metric\": 0.8360452, \"best_metric\": 0.85954802}, {\"run_id\": \"AutoML_0f220329-5b75-40ff-89b7-8d07762f5c6b_40\", \"run_number\": 98, \"metric\": null, \"status\": \"Completed\", \"run_type\": \"azureml.scriptrun\", \"training_percent\": \"100\", \"start_time\": \"2021-02-01T21:39:56.537637Z\", \"end_time\": \"2021-02-01T21:41:11.182577Z\", \"created_time\": \"2021-02-01T21:39:44.800557Z\", \"created_time_dt\": \"2021-02-01T21:39:44.800557Z\", \"duration\": \"0:01:26\", \"iteration\": \"40\", \"goal\": \"accuracy_max\", \"run_name\": \"MaxAbsScaler, RandomForest\", \"run_properties\": \"copy=True\", \"primary_metric\": 0.83254237, \"best_metric\": 0.85954802}, {\"run_id\": \"AutoML_0f220329-5b75-40ff-89b7-8d07762f5c6b_38\", \"run_number\": 99, \"metric\": null, \"status\": \"Completed\", \"run_type\": \"azureml.scriptrun\", \"training_percent\": \"100\", \"start_time\": \"2021-02-01T21:39:57.102516Z\", \"end_time\": \"2021-02-01T21:41:05.088094Z\", \"created_time\": \"2021-02-01T21:39:44.805506Z\", \"created_time_dt\": \"2021-02-01T21:39:44.805506Z\", \"duration\": \"0:01:20\", \"iteration\": \"38\", \"goal\": \"accuracy_max\", \"run_name\": \"StandardScalerWrapper, RandomForest\", \"run_properties\": \"<azureml.automl.runtime.shared.model_wrappers.StandardScalerWrapper object at 0x7fac1557aeb8\", \"primary_metric\": 0.82915254, \"best_metric\": 0.85954802}, {\"run_id\": \"AutoML_0f220329-5b75-40ff-89b7-8d07762f5c6b_39\", \"run_number\": 100, \"metric\": null, \"status\": \"Completed\", \"run_type\": \"azureml.scriptrun\", \"training_percent\": \"100\", \"start_time\": \"2021-02-01T21:39:56.430548Z\", \"end_time\": \"2021-02-01T21:41:08.506351Z\", \"created_time\": \"2021-02-01T21:39:44.804817Z\", \"created_time_dt\": \"2021-02-01T21:39:44.804817Z\", \"duration\": \"0:01:23\", \"iteration\": \"39\", \"goal\": \"accuracy_max\", \"run_name\": \"SparseNormalizer, RandomForest\", \"run_properties\": \"<azureml.automl.runtime.shared.model_wrappers.SparseNormalizer object at 0x7efff813bb70\", \"primary_metric\": 0.80271186, \"best_metric\": 0.85954802}, {\"run_id\": \"AutoML_0f220329-5b75-40ff-89b7-8d07762f5c6b_41\", \"run_number\": 101, \"metric\": null, \"status\": \"Completed\", \"run_type\": \"azureml.scriptrun\", \"training_percent\": \"100\", \"start_time\": \"2021-02-01T21:40:15.223624Z\", \"end_time\": \"2021-02-01T21:41:08.450604Z\", \"created_time\": \"2021-02-01T21:39:50.894926Z\", \"created_time_dt\": \"2021-02-01T21:39:50.894926Z\", \"duration\": \"0:01:17\", \"iteration\": \"41\", \"goal\": \"accuracy_max\", \"run_name\": \"StandardScalerWrapper, ExtremeRandomTrees\", \"run_properties\": \"<azureml.automl.runtime.shared.model_wrappers.StandardScalerWrapper object at 0x7fd83b558e48\", \"primary_metric\": 0.81949153, \"best_metric\": 0.85954802}, {\"run_id\": \"AutoML_0f220329-5b75-40ff-89b7-8d07762f5c6b_42\", \"run_number\": 102, \"metric\": null, \"status\": \"Canceled\", \"run_type\": \"azureml.scriptrun\", \"training_percent\": \"100\", \"start_time\": \"2021-02-01T21:40:36.420928Z\", \"end_time\": \"2021-02-01T21:41:19.64899Z\", \"created_time\": \"2021-02-01T21:39:56.772445Z\", \"created_time_dt\": \"2021-02-01T21:39:56.772445Z\", \"duration\": \"0:01:22\", \"iteration\": \"42\", \"goal\": \"accuracy_max\", \"run_name\": \"StandardScalerWrapper, LightGBM\", \"run_properties\": \"<azureml.automl.runtime.shared.model_wrappers.StandardScalerWrapper object at 0x7f2f2276e630\", \"primary_metric\": 0.83943503, \"best_metric\": 0.85954802}, {\"run_id\": \"AutoML_0f220329-5b75-40ff-89b7-8d07762f5c6b_43\", \"run_number\": 103, \"metric\": null, \"status\": \"Canceled\", \"run_type\": \"azureml.scriptrun\", \"training_percent\": \"100\", \"start_time\": \"2021-02-01T21:40:35.234511Z\", \"end_time\": \"2021-02-01T21:41:19.65005Z\", \"created_time\": \"2021-02-01T21:40:13.206171Z\", \"created_time_dt\": \"2021-02-01T21:40:13.206171Z\", \"duration\": \"0:01:06\", \"iteration\": \"43\", \"goal\": \"accuracy_max\", \"run_name\": \"SparseNormalizer, XGBoostClassifier\", \"run_properties\": \"<azureml.automl.runtime.shared.model_wrappers.SparseNormalizer object at 0x7fe244de78d0\", \"primary_metric\": 0.82954802, \"best_metric\": 0.85954802}, {\"run_id\": \"AutoML_0f220329-5b75-40ff-89b7-8d07762f5c6b_44\", \"run_number\": 104, \"metric\": null, \"status\": \"Canceled\", \"run_type\": \"azureml.scriptrun\", \"training_percent\": \"100\", \"start_time\": \"2021-02-01T21:40:49.390028Z\", \"end_time\": \"2021-02-01T21:41:18.862613Z\", \"created_time\": \"2021-02-01T21:40:35.86929Z\", \"created_time_dt\": \"2021-02-01T21:40:35.86929Z\", \"duration\": \"0:00:42\", \"iteration\": \"44\", \"goal\": \"accuracy_max\", \"run_name\": \"StandardScalerWrapper, XGBoostClassifier\", \"run_properties\": \"<azureml.automl.runtime.shared.model_wrappers.StandardScalerWrapper object at 0x7f4a5c597198\", \"primary_metric\": 0.83259887, \"best_metric\": 0.85954802}, {\"run_id\": \"AutoML_0f220329-5b75-40ff-89b7-8d07762f5c6b_45\", \"run_number\": 105, \"metric\": null, \"status\": \"Canceled\", \"run_type\": \"azureml.scriptrun\", \"training_percent\": \"100\", \"start_time\": \"2021-02-01T21:41:07.818168Z\", \"end_time\": \"2021-02-01T21:41:17.658843Z\", \"created_time\": \"2021-02-01T21:40:43.319577Z\", \"created_time_dt\": \"2021-02-01T21:40:43.319577Z\", \"duration\": \"0:00:34\", \"iteration\": \"45\", \"goal\": null, \"run_name\": \"Canceled\", \"run_properties\": null}, {\"run_id\": \"AutoML_0f220329-5b75-40ff-89b7-8d07762f5c6b_46\", \"run_number\": 106, \"metric\": null, \"status\": \"Canceled\", \"run_type\": \"azureml.scriptrun\", \"training_percent\": \"100\", \"start_time\": \"2021-02-01T21:41:12.079919Z\", \"end_time\": \"2021-02-01T21:41:19.770995Z\", \"created_time\": \"2021-02-01T21:40:49.097437Z\", \"created_time_dt\": \"2021-02-01T21:40:49.097437Z\", \"duration\": \"0:00:30\", \"iteration\": \"46\", \"goal\": null, \"run_name\": \"Canceled\", \"run_properties\": null}, {\"run_id\": \"AutoML_0f220329-5b75-40ff-89b7-8d07762f5c6b_47\", \"run_number\": 107, \"metric\": null, \"status\": \"Canceled\", \"run_type\": \"azureml.scriptrun\", \"training_percent\": \"100\", \"start_time\": \"2021-02-01T21:41:07.557532Z\", \"end_time\": \"2021-02-01T21:41:25.427851Z\", \"created_time\": \"2021-02-01T21:41:07.557532Z\", \"created_time_dt\": \"2021-02-01T21:41:07.557532Z\", \"duration\": \"0:00:17\", \"iteration\": \"47\", \"goal\": null, \"run_name\": \"Canceled\", \"run_properties\": null}, {\"run_id\": \"AutoML_0f220329-5b75-40ff-89b7-8d07762f5c6b_48\", \"run_number\": 108, \"metric\": null, \"status\": \"Completed\", \"run_type\": \"azureml.scriptrun\", \"training_percent\": \"100\", \"start_time\": \"2021-02-01T21:41:38.770495Z\", \"end_time\": \"2021-02-01T21:43:19.423386Z\", \"created_time\": \"2021-02-01T21:41:27.429192Z\", \"created_time_dt\": \"2021-02-01T21:41:27.429192Z\", \"duration\": \"0:01:51\", \"iteration\": \"48\", \"goal\": \"accuracy_max\", \"run_name\": \"VotingEnsemble\", \"run_properties\": \"classification_labels=None,\\n                              estimators=[('7',\\n                                           Pipeline(memory=None,\\n                                                    steps=[('sparsenormalizer',\\n                                                            <azureml.automl.runtime.shared.model_wrappers.SparseNormalizer object at 0x7f44ac38a7f0>\", \"primary_metric\": 0.88305085, \"best_metric\": 0.88305085}, {\"run_id\": \"AutoML_0f220329-5b75-40ff-89b7-8d07762f5c6b_49\", \"run_number\": 109, \"metric\": null, \"status\": \"Completed\", \"run_type\": \"azureml.scriptrun\", \"training_percent\": \"100\", \"start_time\": \"2021-02-01T21:41:37.858724Z\", \"end_time\": \"2021-02-01T21:43:17.525837Z\", \"created_time\": \"2021-02-01T21:41:27.533578Z\", \"created_time_dt\": \"2021-02-01T21:41:27.533578Z\", \"duration\": \"0:01:49\", \"iteration\": \"49\", \"goal\": \"accuracy_max\", \"run_name\": \"StackEnsemble\", \"run_properties\": \"base_learners=[('7',\\n                                        Pipeline(memory=None,\\n                                                 steps=[('sparsenormalizer',\\n                                                         <azureml.automl.runtime.shared.model_wrappers.SparseNormalizer object at 0x7fa7587b5f60>\", \"primary_metric\": 0.87632768, \"best_metric\": 0.88305085}], \"children_metrics\": {\"categories\": [0], \"series\": {\"weighted_accuracy\": [{\"categories\": [\"0\", \"1\", \"2\", \"3\", \"4\", \"5\", \"6\", \"7\", \"8\", \"9\", \"10\", \"11\", \"12\", \"13\", \"14\", \"15\", \"16\", \"17\", \"18\", \"19\", \"20\", \"21\", \"22\", \"23\", \"24\", \"25\", \"26\", \"27\", \"28\", \"29\", \"30\", \"31\", \"32\", \"33\", \"34\", \"35\", \"36\", \"37\", \"38\", \"39\", \"40\", \"41\", \"42\", \"43\", \"44\", \"48\", \"49\"], \"mode\": \"markers\", \"name\": \"weighted_accuracy\", \"stepped\": false, \"type\": \"scatter\", \"data\": [0.8252063202764133, 0.8406325321291572, 0.8577707580877767, 0.8314674257065408, 0.8561199518758169, 0.8740796934164751, 0.8612965691941756, 0.8770541957602415, 0.8569341696950363, 0.8460637014816859, 0.856911593864208, 0.8533820798830117, 0.8360473402486086, 0.8599948768105818, 0.818343923044172, 0.8549681896511574, 0.8673695682548554, 0.8424349657883881, 0.8618238554329096, 0.8631404005320202, 0.8478945134062286, 0.8613333959821501, 0.8528042475897724, 0.8488826789623214, 0.8551042200160497, 0.7971865900207855, 0.8644035235013435, 0.8503814026987628, 0.8382888126936395, 0.7971865900207855, 0.8781456214041332, 0.7826261065038128, 0.8743487791517929, 0.8673280114812201, 0.8324100084781986, 0.8622954048329442, 0.8345262673711362, 0.8663107447254437, 0.8317351628436462, 0.8108729815849575, 0.8430155274267864, 0.8249967954305932, 0.8575269264202013, 0.852393418906671, 0.8492769782497323, 0.9004080729594932, 0.892322562270657]}, {\"categories\": [\"0\", \"1\", \"2\", \"3\", \"4\", \"5\", \"6\", \"7\", \"8\", \"9\", \"10\", \"11\", \"12\", \"13\", \"14\", \"15\", \"16\", \"17\", \"18\", \"19\", \"20\", \"21\", \"22\", \"23\", \"24\", \"25\", \"26\", \"27\", \"28\", \"29\", \"30\", \"31\", \"32\", \"33\", \"34\", \"35\", \"36\", \"37\", \"38\", \"39\", \"40\", \"41\", \"42\", \"43\", \"44\", \"48\", \"49\"], \"mode\": \"lines\", \"name\": \"weighted_accuracy_max\", \"stepped\": true, \"type\": \"scatter\", \"data\": [0.8252063202764133, 0.8406325321291572, 0.8577707580877767, 0.8577707580877767, 0.8577707580877767, 0.8740796934164751, 0.8740796934164751, 0.8770541957602415, 0.8770541957602415, 0.8770541957602415, 0.8770541957602415, 0.8770541957602415, 0.8770541957602415, 0.8770541957602415, 0.8770541957602415, 0.8770541957602415, 0.8770541957602415, 0.8770541957602415, 0.8770541957602415, 0.8770541957602415, 0.8770541957602415, 0.8770541957602415, 0.8770541957602415, 0.8770541957602415, 0.8770541957602415, 0.8770541957602415, 0.8770541957602415, 0.8770541957602415, 0.8770541957602415, 0.8770541957602415, 0.8781456214041332, 0.8781456214041332, 0.8781456214041332, 0.8781456214041332, 0.8781456214041332, 0.8781456214041332, 0.8781456214041332, 0.8781456214041332, 0.8781456214041332, 0.8781456214041332, 0.8781456214041332, 0.8781456214041332, 0.8781456214041332, 0.8781456214041332, 0.8781456214041332, 0.9004080729594932, 0.9004080729594932]}], \"log_loss\": [{\"categories\": [\"0\", \"1\", \"2\", \"3\", \"4\", \"5\", \"6\", \"7\", \"8\", \"9\", \"10\", \"11\", \"12\", \"13\", \"14\", \"15\", \"16\", \"17\", \"18\", \"19\", \"20\", \"21\", \"22\", \"23\", \"24\", \"25\", \"26\", \"27\", \"28\", \"29\", \"30\", \"31\", \"32\", \"33\", \"34\", \"35\", \"36\", \"37\", \"38\", \"39\", \"40\", \"41\", \"42\", \"43\", \"44\", \"48\", \"49\"], \"mode\": \"markers\", \"name\": \"log_loss\", \"stepped\": false, \"type\": \"scatter\", \"data\": [0.5282491261622873, 0.43217688137359717, 0.5000478795540042, 0.42309264608189634, 0.39460350737346905, 0.40091888552306293, 0.41916961954366644, 0.3977807093411636, 0.4102189998501068, 0.5288762538768254, 0.429782831661799, 0.41472333246893617, 0.4490611860110286, 0.3678443190755544, 0.5269787159285023, 0.3903974186026165, 0.41575947465447316, 0.4470988265839967, 0.41773726522789173, 0.4883730044708267, 0.39762141526834127, 0.4331556229669603, 0.3845454077175118, 0.40490375309255955, 0.45661442407447456, 0.6381364607566151, 0.4672977871430916, 0.38222753733129, 0.5449863326809897, 0.6374261172640796, 0.4093852302224942, 0.6108758769481215, 0.417563773009703, 0.42518018276606523, 0.4604421974209611, 0.521313884715196, 0.484324968899862, 0.4570967515626446, 0.4251126647397365, 0.4075626383474834, 0.385017251952651, 0.44692163551971237, 0.3878019657367531, 0.4801134920302495, 0.3755771156011426, 0.37201300922936653, 0.3743777641804174]}, {\"categories\": [\"0\", \"1\", \"2\", \"3\", \"4\", \"5\", \"6\", \"7\", \"8\", \"9\", \"10\", \"11\", \"12\", \"13\", \"14\", \"15\", \"16\", \"17\", \"18\", \"19\", \"20\", \"21\", \"22\", \"23\", \"24\", \"25\", \"26\", \"27\", \"28\", \"29\", \"30\", \"31\", \"32\", \"33\", \"34\", \"35\", \"36\", \"37\", \"38\", \"39\", \"40\", \"41\", \"42\", \"43\", \"44\", \"48\", \"49\"], \"mode\": \"lines\", \"name\": \"log_loss_min\", \"stepped\": true, \"type\": \"scatter\", \"data\": [0.5282491261622873, 0.43217688137359717, 0.43217688137359717, 0.42309264608189634, 0.39460350737346905, 0.39460350737346905, 0.39460350737346905, 0.39460350737346905, 0.39460350737346905, 0.39460350737346905, 0.39460350737346905, 0.39460350737346905, 0.39460350737346905, 0.3678443190755544, 0.3678443190755544, 0.3678443190755544, 0.3678443190755544, 0.3678443190755544, 0.3678443190755544, 0.3678443190755544, 0.3678443190755544, 0.3678443190755544, 0.3678443190755544, 0.3678443190755544, 0.3678443190755544, 0.3678443190755544, 0.3678443190755544, 0.3678443190755544, 0.3678443190755544, 0.3678443190755544, 0.3678443190755544, 0.3678443190755544, 0.3678443190755544, 0.3678443190755544, 0.3678443190755544, 0.3678443190755544, 0.3678443190755544, 0.3678443190755544, 0.3678443190755544, 0.3678443190755544, 0.3678443190755544, 0.3678443190755544, 0.3678443190755544, 0.3678443190755544, 0.3678443190755544, 0.3678443190755544, 0.3678443190755544]}], \"precision_score_macro\": [{\"categories\": [\"0\", \"1\", \"2\", \"3\", \"4\", \"5\", \"6\", \"7\", \"8\", \"9\", \"10\", \"11\", \"12\", \"13\", \"14\", \"15\", \"16\", \"17\", \"18\", \"19\", \"20\", \"21\", \"22\", \"23\", \"24\", \"25\", \"26\", \"27\", \"28\", \"29\", \"30\", \"31\", \"32\", \"33\", \"34\", \"35\", \"36\", \"37\", \"38\", \"39\", \"40\", \"41\", \"42\", \"43\", \"44\", \"48\", \"49\"], \"mode\": \"markers\", \"name\": \"precision_score_macro\", \"stepped\": false, \"type\": \"scatter\", \"data\": [0.7889041743265773, 0.8086642059265495, 0.8171638078233823, 0.790567710478515, 0.8215109462162771, 0.8458458505717676, 0.8357162370205848, 0.8535257118111984, 0.8184925889713124, 0.8038872356349474, 0.812175966956263, 0.8298263723233414, 0.8057518640185325, 0.8263538268051633, 0.8168872843382211, 0.8205782272523356, 0.8321362212666561, 0.8116365121806298, 0.8250551121712085, 0.8325196253792461, 0.8121850952664905, 0.8309955634427684, 0.8197374860075091, 0.8122532189273273, 0.8196767427431825, 0.33954802259887, 0.8522740158024507, 0.8134941564918682, 0.7969153746770026, 0.33954802259887, 0.8479011781321898, 0.7529890558218731, 0.853124598346343, 0.8312560386473429, 0.7998557833715152, 0.8206508704832016, 0.8007993121568701, 0.8283040329235982, 0.8010562294836759, 0.7687928153717628, 0.8071576729503558, 0.799933303008418, 0.8266191912587793, 0.8172062746917108, 0.8134395689487223, 0.8883742774181919, 0.8764082931638171]}, {\"categories\": [\"0\", \"1\", \"2\", \"3\", \"4\", \"5\", \"6\", \"7\", \"8\", \"9\", \"10\", \"11\", \"12\", \"13\", \"14\", \"15\", \"16\", \"17\", \"18\", \"19\", \"20\", \"21\", \"22\", \"23\", \"24\", \"25\", \"26\", \"27\", \"28\", \"29\", \"30\", \"31\", \"32\", \"33\", \"34\", \"35\", \"36\", \"37\", \"38\", \"39\", \"40\", \"41\", \"42\", \"43\", \"44\", \"48\", \"49\"], \"mode\": \"lines\", \"name\": \"precision_score_macro_max\", \"stepped\": true, \"type\": \"scatter\", \"data\": [0.7889041743265773, 0.8086642059265495, 0.8171638078233823, 0.8171638078233823, 0.8215109462162771, 0.8458458505717676, 0.8458458505717676, 0.8535257118111984, 0.8535257118111984, 0.8535257118111984, 0.8535257118111984, 0.8535257118111984, 0.8535257118111984, 0.8535257118111984, 0.8535257118111984, 0.8535257118111984, 0.8535257118111984, 0.8535257118111984, 0.8535257118111984, 0.8535257118111984, 0.8535257118111984, 0.8535257118111984, 0.8535257118111984, 0.8535257118111984, 0.8535257118111984, 0.8535257118111984, 0.8535257118111984, 0.8535257118111984, 0.8535257118111984, 0.8535257118111984, 0.8535257118111984, 0.8535257118111984, 0.8535257118111984, 0.8535257118111984, 0.8535257118111984, 0.8535257118111984, 0.8535257118111984, 0.8535257118111984, 0.8535257118111984, 0.8535257118111984, 0.8535257118111984, 0.8535257118111984, 0.8535257118111984, 0.8535257118111984, 0.8535257118111984, 0.8883742774181919, 0.8883742774181919]}], \"norm_macro_recall\": [{\"categories\": [\"0\", \"1\", \"2\", \"3\", \"4\", \"5\", \"6\", \"7\", \"8\", \"9\", \"10\", \"11\", \"12\", \"13\", \"14\", \"15\", \"16\", \"17\", \"18\", \"19\", \"20\", \"21\", \"22\", \"23\", \"24\", \"25\", \"26\", \"27\", \"28\", \"29\", \"30\", \"31\", \"32\", \"33\", \"34\", \"35\", \"36\", \"37\", \"38\", \"39\", \"40\", \"41\", \"42\", \"43\", \"44\", \"48\", \"49\"], \"mode\": \"markers\", \"name\": \"norm_macro_recall\", \"stepped\": false, \"type\": \"scatter\", \"data\": [0.5520418050941306, 0.6120251937984496, 0.6361489479512736, 0.5482073643410853, 0.6597632890365449, 0.6436143410852713, 0.634031007751938, 0.6677131782945737, 0.5952131782945737, 0.5760382059800664, 0.593045404208195, 0.6086821705426356, 0.577109634551495, 0.6159869878183832, 0.17297619047619048, 0.6188358250276854, 0.6155024916943521, 0.47331672203765224, 0.6116846622369877, 0.5943881506090809, 0.6216763565891472, 0.4989202657807309, 0.6233513289036546, 0.6041846622369877, 0.5212250830564783, 0.0, 0.5424916943521595, 0.6129941860465117, 0.5845251937984497, 0.0, 0.5628488372093023, 0.5686752491694352, 0.6125, 0.6148560354374307, 0.6181132336655593, 0.5156976744186046, 0.6265656146179402, 0.5830024916943521, 0.6492621816168328, 0.5810132890365449, 0.6338026024363234, 0.6239548726467331, 0.6263953488372093, 0.5969476744186046, 0.6170334994462902, 0.7138095238095238, 0.7041583610188261]}, {\"categories\": [\"0\", \"1\", \"2\", \"3\", \"4\", \"5\", \"6\", \"7\", \"8\", \"9\", \"10\", \"11\", \"12\", \"13\", \"14\", \"15\", \"16\", \"17\", \"18\", \"19\", \"20\", \"21\", \"22\", \"23\", \"24\", \"25\", \"26\", \"27\", \"28\", \"29\", \"30\", \"31\", \"32\", \"33\", \"34\", \"35\", \"36\", \"37\", \"38\", \"39\", \"40\", \"41\", \"42\", \"43\", \"44\", \"48\", \"49\"], \"mode\": \"lines\", \"name\": \"norm_macro_recall_max\", \"stepped\": true, \"type\": \"scatter\", \"data\": [0.5520418050941306, 0.6120251937984496, 0.6361489479512736, 0.6361489479512736, 0.6597632890365449, 0.6597632890365449, 0.6597632890365449, 0.6677131782945737, 0.6677131782945737, 0.6677131782945737, 0.6677131782945737, 0.6677131782945737, 0.6677131782945737, 0.6677131782945737, 0.6677131782945737, 0.6677131782945737, 0.6677131782945737, 0.6677131782945737, 0.6677131782945737, 0.6677131782945737, 0.6677131782945737, 0.6677131782945737, 0.6677131782945737, 0.6677131782945737, 0.6677131782945737, 0.6677131782945737, 0.6677131782945737, 0.6677131782945737, 0.6677131782945737, 0.6677131782945737, 0.6677131782945737, 0.6677131782945737, 0.6677131782945737, 0.6677131782945737, 0.6677131782945737, 0.6677131782945737, 0.6677131782945737, 0.6677131782945737, 0.6677131782945737, 0.6677131782945737, 0.6677131782945737, 0.6677131782945737, 0.6677131782945737, 0.6677131782945737, 0.6677131782945737, 0.7138095238095238, 0.7138095238095238]}], \"recall_score_macro\": [{\"categories\": [\"0\", \"1\", \"2\", \"3\", \"4\", \"5\", \"6\", \"7\", \"8\", \"9\", \"10\", \"11\", \"12\", \"13\", \"14\", \"15\", \"16\", \"17\", \"18\", \"19\", \"20\", \"21\", \"22\", \"23\", \"24\", \"25\", \"26\", \"27\", \"28\", \"29\", \"30\", \"31\", \"32\", \"33\", \"34\", \"35\", \"36\", \"37\", \"38\", \"39\", \"40\", \"41\", \"42\", \"43\", \"44\", \"48\", \"49\"], \"mode\": \"markers\", \"name\": \"recall_score_macro\", \"stepped\": false, \"type\": \"scatter\", \"data\": [0.7760209025470652, 0.8060125968992248, 0.8180744739756367, 0.7741036821705427, 0.8298816445182723, 0.8218071705426357, 0.817015503875969, 0.8338565891472868, 0.7976065891472869, 0.7880191029900331, 0.7965227021040975, 0.8043410852713178, 0.7885548172757475, 0.8079934939091915, 0.5864880952380952, 0.8094179125138428, 0.8077512458471761, 0.7366583610188261, 0.8058423311184939, 0.7971940753045403, 0.8108381782945736, 0.7494601328903654, 0.8116756644518273, 0.8020923311184939, 0.7606125415282391, 0.5, 0.7712458471760797, 0.8064970930232558, 0.7922625968992248, 0.5, 0.7814244186046512, 0.7843376245847177, 0.80625, 0.8074280177187154, 0.8090566168327797, 0.7578488372093023, 0.8132828073089702, 0.791501245847176, 0.8246310908084163, 0.7905066445182725, 0.8169013012181617, 0.8119774363233665, 0.8131976744186046, 0.7984738372093023, 0.8085167497231451, 0.856904761904762, 0.8520791805094131]}, {\"categories\": [\"0\", \"1\", \"2\", \"3\", \"4\", \"5\", \"6\", \"7\", \"8\", \"9\", \"10\", \"11\", \"12\", \"13\", \"14\", \"15\", \"16\", \"17\", \"18\", \"19\", \"20\", \"21\", \"22\", \"23\", \"24\", \"25\", \"26\", \"27\", \"28\", \"29\", \"30\", \"31\", \"32\", \"33\", \"34\", \"35\", \"36\", \"37\", \"38\", \"39\", \"40\", \"41\", \"42\", \"43\", \"44\", \"48\", \"49\"], \"mode\": \"lines\", \"name\": \"recall_score_macro_max\", \"stepped\": true, \"type\": \"scatter\", \"data\": [0.7760209025470652, 0.8060125968992248, 0.8180744739756367, 0.8180744739756367, 0.8298816445182723, 0.8298816445182723, 0.8298816445182723, 0.8338565891472868, 0.8338565891472868, 0.8338565891472868, 0.8338565891472868, 0.8338565891472868, 0.8338565891472868, 0.8338565891472868, 0.8338565891472868, 0.8338565891472868, 0.8338565891472868, 0.8338565891472868, 0.8338565891472868, 0.8338565891472868, 0.8338565891472868, 0.8338565891472868, 0.8338565891472868, 0.8338565891472868, 0.8338565891472868, 0.8338565891472868, 0.8338565891472868, 0.8338565891472868, 0.8338565891472868, 0.8338565891472868, 0.8338565891472868, 0.8338565891472868, 0.8338565891472868, 0.8338565891472868, 0.8338565891472868, 0.8338565891472868, 0.8338565891472868, 0.8338565891472868, 0.8338565891472868, 0.8338565891472868, 0.8338565891472868, 0.8338565891472868, 0.8338565891472868, 0.8338565891472868, 0.8338565891472868, 0.856904761904762, 0.856904761904762]}], \"average_precision_score_macro\": [{\"categories\": [\"0\", \"1\", \"2\", \"3\", \"4\", \"5\", \"6\", \"7\", \"8\", \"9\", \"10\", \"11\", \"12\", \"13\", \"14\", \"15\", \"16\", \"17\", \"18\", \"19\", \"20\", \"21\", \"22\", \"23\", \"24\", \"25\", \"26\", \"27\", \"28\", \"29\", \"30\", \"31\", \"32\", \"33\", \"34\", \"35\", \"36\", \"37\", \"38\", \"39\", \"40\", \"41\", \"42\", \"43\", \"44\", \"48\", \"49\"], \"mode\": \"markers\", \"name\": \"average_precision_score_macro\", \"stepped\": false, \"type\": \"scatter\", \"data\": [0.8655792376041671, 0.8826936933050062, 0.8729637569038069, 0.8756024150925572, 0.880380258756696, 0.875679462091146, 0.8797145295179407, 0.8799246507122733, 0.8743830109410741, 0.8795497282463748, 0.8793914644575951, 0.8756968477195303, 0.8516260055924448, 0.9004653227721209, 0.8481688096654706, 0.8912888178896952, 0.8847258566647831, 0.8735690811827576, 0.8964114768327522, 0.8827732062499305, 0.8838449863978501, 0.8878516927812372, 0.8922205973702783, 0.8895679089778662, 0.8926713106712416, 0.5, 0.860523815248405, 0.8904892754462173, 0.8567853211313338, 0.5, 0.8727284454037356, 0.8397154525674422, 0.8859265833651035, 0.8848483446772406, 0.8921509701934129, 0.8444124716828769, 0.87236942958695, 0.855360159413965, 0.9015697513676415, 0.8741444960104043, 0.8985434598200784, 0.8830818677538017, 0.891857771047494, 0.855942834475759, 0.8961436750566879, 0.9029201100742956, 0.9079443986571128]}, {\"categories\": [\"0\", \"1\", \"2\", \"3\", \"4\", \"5\", \"6\", \"7\", \"8\", \"9\", \"10\", \"11\", \"12\", \"13\", \"14\", \"15\", \"16\", \"17\", \"18\", \"19\", \"20\", \"21\", \"22\", \"23\", \"24\", \"25\", \"26\", \"27\", \"28\", \"29\", \"30\", \"31\", \"32\", \"33\", \"34\", \"35\", \"36\", \"37\", \"38\", \"39\", \"40\", \"41\", \"42\", \"43\", \"44\", \"48\", \"49\"], \"mode\": \"lines\", \"name\": \"average_precision_score_macro_max\", \"stepped\": true, \"type\": \"scatter\", \"data\": [0.8655792376041671, 0.8826936933050062, 0.8826936933050062, 0.8826936933050062, 0.8826936933050062, 0.8826936933050062, 0.8826936933050062, 0.8826936933050062, 0.8826936933050062, 0.8826936933050062, 0.8826936933050062, 0.8826936933050062, 0.8826936933050062, 0.9004653227721209, 0.9004653227721209, 0.9004653227721209, 0.9004653227721209, 0.9004653227721209, 0.9004653227721209, 0.9004653227721209, 0.9004653227721209, 0.9004653227721209, 0.9004653227721209, 0.9004653227721209, 0.9004653227721209, 0.9004653227721209, 0.9004653227721209, 0.9004653227721209, 0.9004653227721209, 0.9004653227721209, 0.9004653227721209, 0.9004653227721209, 0.9004653227721209, 0.9004653227721209, 0.9004653227721209, 0.9004653227721209, 0.9004653227721209, 0.9004653227721209, 0.9015697513676415, 0.9015697513676415, 0.9015697513676415, 0.9015697513676415, 0.9015697513676415, 0.9015697513676415, 0.9015697513676415, 0.9029201100742956, 0.9079443986571128]}], \"AUC_weighted\": [{\"categories\": [\"0\", \"1\", \"2\", \"3\", \"4\", \"5\", \"6\", \"7\", \"8\", \"9\", \"10\", \"11\", \"12\", \"13\", \"14\", \"15\", \"16\", \"17\", \"18\", \"19\", \"20\", \"21\", \"22\", \"23\", \"24\", \"25\", \"26\", \"27\", \"28\", \"29\", \"30\", \"31\", \"32\", \"33\", \"34\", \"35\", \"36\", \"37\", \"38\", \"39\", \"40\", \"41\", \"42\", \"43\", \"44\", \"48\", \"49\"], \"mode\": \"markers\", \"name\": \"AUC_weighted\", \"stepped\": false, \"type\": \"scatter\", \"data\": [0.8811331210778885, 0.8929591177556293, 0.8955720861018828, 0.8889337393872279, 0.8948696244001477, 0.8901226928755998, 0.8955187338501291, 0.8959955703211516, 0.886078130767811, 0.8931677510151348, 0.8944523578811369, 0.8876433877814691, 0.8674637320044297, 0.9123258121077888, 0.8704584717607974, 0.8978157415097823, 0.8900168189368772, 0.8834619093761538, 0.9038673864894795, 0.8967421557770393, 0.8961190937615356, 0.8967023348098928, 0.902828672942045, 0.9030714977851606, 0.9033375092284975, 0.5, 0.872204618863049, 0.9035228636028055, 0.8833604074381691, 0.5, 0.8871261650978222, 0.8516850775193798, 0.898967930970838, 0.9027517534145441, 0.9003801679586563, 0.8558891542081948, 0.8840998984865264, 0.8800492109634552, 0.9131497785160576, 0.8876112956810631, 0.9069015550018455, 0.8908730620155039, 0.9022839377999261, 0.8692055301771872, 0.9099684616094498, 0.9155136351052049, 0.9204420911775564]}, {\"categories\": [\"0\", \"1\", \"2\", \"3\", \"4\", \"5\", \"6\", \"7\", \"8\", \"9\", \"10\", \"11\", \"12\", \"13\", \"14\", \"15\", \"16\", \"17\", \"18\", \"19\", \"20\", \"21\", \"22\", \"23\", \"24\", \"25\", \"26\", \"27\", \"28\", \"29\", \"30\", \"31\", \"32\", \"33\", \"34\", \"35\", \"36\", \"37\", \"38\", \"39\", \"40\", \"41\", \"42\", \"43\", \"44\", \"48\", \"49\"], \"mode\": \"lines\", \"name\": \"AUC_weighted_max\", \"stepped\": true, \"type\": \"scatter\", \"data\": [0.8811331210778885, 0.8929591177556293, 0.8955720861018828, 0.8955720861018828, 0.8955720861018828, 0.8955720861018828, 0.8955720861018828, 0.8959955703211516, 0.8959955703211516, 0.8959955703211516, 0.8959955703211516, 0.8959955703211516, 0.8959955703211516, 0.9123258121077888, 0.9123258121077888, 0.9123258121077888, 0.9123258121077888, 0.9123258121077888, 0.9123258121077888, 0.9123258121077888, 0.9123258121077888, 0.9123258121077888, 0.9123258121077888, 0.9123258121077888, 0.9123258121077888, 0.9123258121077888, 0.9123258121077888, 0.9123258121077888, 0.9123258121077888, 0.9123258121077888, 0.9123258121077888, 0.9123258121077888, 0.9123258121077888, 0.9123258121077888, 0.9123258121077888, 0.9123258121077888, 0.9123258121077888, 0.9123258121077888, 0.9131497785160576, 0.9131497785160576, 0.9131497785160576, 0.9131497785160576, 0.9131497785160576, 0.9131497785160576, 0.9131497785160576, 0.9155136351052049, 0.9204420911775564]}], \"precision_score_micro\": [{\"categories\": [\"0\", \"1\", \"2\", \"3\", \"4\", \"5\", \"6\", \"7\", \"8\", \"9\", \"10\", \"11\", \"12\", \"13\", \"14\", \"15\", \"16\", \"17\", \"18\", \"19\", \"20\", \"21\", \"22\", \"23\", \"24\", \"25\", \"26\", \"27\", \"28\", \"29\", \"30\", \"31\", \"32\", \"33\", \"34\", \"35\", \"36\", \"37\", \"38\", \"39\", \"40\", \"41\", \"42\", \"43\", \"44\", \"48\", \"49\"], \"mode\": \"markers\", \"name\": \"precision_score_micro\", \"stepped\": false, \"type\": \"scatter\", \"data\": [0.8059887005649717, 0.8259322033898304, 0.8427118644067797, 0.80909604519774, 0.8459322033898304, 0.8528813559322034, 0.8429378531073446, 0.85954802259887, 0.8327683615819208, 0.822598870056497, 0.8324858757062147, 0.8329943502824859, 0.8160451977401131, 0.8394915254237288, 0.7258757062146893, 0.8361016949152542, 0.8427118644067797, 0.7993785310734464, 0.8393785310734463, 0.836271186440678, 0.8326553672316385, 0.8161581920903955, 0.836045197740113, 0.8293785310734464, 0.8161016949152543, 0.67909604519774, 0.8261016949152541, 0.8326553672316385, 0.8192090395480227, 0.67909604519774, 0.8395480225988701, 0.7826553672316383, 0.846271186440678, 0.8428813559322034, 0.8227118644067797, 0.8194915254237289, 0.8260451977401129, 0.836045197740113, 0.8291525423728814, 0.8027118644067798, 0.8325423728813559, 0.8194915254237287, 0.8394350282485876, 0.8295480225988701, 0.8325988700564972, 0.8830508474576272, 0.8763276836158193]}, {\"categories\": [\"0\", \"1\", \"2\", \"3\", \"4\", \"5\", \"6\", \"7\", \"8\", \"9\", \"10\", \"11\", \"12\", \"13\", \"14\", \"15\", \"16\", \"17\", \"18\", \"19\", \"20\", \"21\", \"22\", \"23\", \"24\", \"25\", \"26\", \"27\", \"28\", \"29\", \"30\", \"31\", \"32\", \"33\", \"34\", \"35\", \"36\", \"37\", \"38\", \"39\", \"40\", \"41\", \"42\", \"43\", \"44\", \"48\", \"49\"], \"mode\": \"lines\", \"name\": \"precision_score_micro_max\", \"stepped\": true, \"type\": \"scatter\", \"data\": [0.8059887005649717, 0.8259322033898304, 0.8427118644067797, 0.8427118644067797, 0.8459322033898304, 0.8528813559322034, 0.8528813559322034, 0.85954802259887, 0.85954802259887, 0.85954802259887, 0.85954802259887, 0.85954802259887, 0.85954802259887, 0.85954802259887, 0.85954802259887, 0.85954802259887, 0.85954802259887, 0.85954802259887, 0.85954802259887, 0.85954802259887, 0.85954802259887, 0.85954802259887, 0.85954802259887, 0.85954802259887, 0.85954802259887, 0.85954802259887, 0.85954802259887, 0.85954802259887, 0.85954802259887, 0.85954802259887, 0.85954802259887, 0.85954802259887, 0.85954802259887, 0.85954802259887, 0.85954802259887, 0.85954802259887, 0.85954802259887, 0.85954802259887, 0.85954802259887, 0.85954802259887, 0.85954802259887, 0.85954802259887, 0.85954802259887, 0.85954802259887, 0.85954802259887, 0.8830508474576272, 0.8830508474576272]}], \"recall_score_micro\": [{\"categories\": [\"0\", \"1\", \"2\", \"3\", \"4\", \"5\", \"6\", \"7\", \"8\", \"9\", \"10\", \"11\", \"12\", \"13\", \"14\", \"15\", \"16\", \"17\", \"18\", \"19\", \"20\", \"21\", \"22\", \"23\", \"24\", \"25\", \"26\", \"27\", \"28\", \"29\", \"30\", \"31\", \"32\", \"33\", \"34\", \"35\", \"36\", \"37\", \"38\", \"39\", \"40\", \"41\", \"42\", \"43\", \"44\", \"48\", \"49\"], \"mode\": \"markers\", \"name\": \"recall_score_micro\", \"stepped\": false, \"type\": \"scatter\", \"data\": [0.8059887005649717, 0.8259322033898304, 0.8427118644067797, 0.80909604519774, 0.8459322033898304, 0.8528813559322034, 0.8429378531073446, 0.85954802259887, 0.8327683615819208, 0.822598870056497, 0.8324858757062147, 0.8329943502824859, 0.8160451977401131, 0.8394915254237288, 0.7258757062146893, 0.8361016949152542, 0.8427118644067797, 0.7993785310734464, 0.8393785310734463, 0.836271186440678, 0.8326553672316385, 0.8161581920903955, 0.836045197740113, 0.8293785310734464, 0.8161016949152543, 0.67909604519774, 0.8261016949152541, 0.8326553672316385, 0.8192090395480227, 0.67909604519774, 0.8395480225988701, 0.7826553672316383, 0.846271186440678, 0.8428813559322034, 0.8227118644067797, 0.8194915254237289, 0.8260451977401129, 0.836045197740113, 0.8291525423728814, 0.8027118644067798, 0.8325423728813559, 0.8194915254237287, 0.8394350282485876, 0.8295480225988701, 0.8325988700564972, 0.8830508474576272, 0.8763276836158193]}, {\"categories\": [\"0\", \"1\", \"2\", \"3\", \"4\", \"5\", \"6\", \"7\", \"8\", \"9\", \"10\", \"11\", \"12\", \"13\", \"14\", \"15\", \"16\", \"17\", \"18\", \"19\", \"20\", \"21\", \"22\", \"23\", \"24\", \"25\", \"26\", \"27\", \"28\", \"29\", \"30\", \"31\", \"32\", \"33\", \"34\", \"35\", \"36\", \"37\", \"38\", \"39\", \"40\", \"41\", \"42\", \"43\", \"44\", \"48\", \"49\"], \"mode\": \"lines\", \"name\": \"recall_score_micro_max\", \"stepped\": true, \"type\": \"scatter\", \"data\": [0.8059887005649717, 0.8259322033898304, 0.8427118644067797, 0.8427118644067797, 0.8459322033898304, 0.8528813559322034, 0.8528813559322034, 0.85954802259887, 0.85954802259887, 0.85954802259887, 0.85954802259887, 0.85954802259887, 0.85954802259887, 0.85954802259887, 0.85954802259887, 0.85954802259887, 0.85954802259887, 0.85954802259887, 0.85954802259887, 0.85954802259887, 0.85954802259887, 0.85954802259887, 0.85954802259887, 0.85954802259887, 0.85954802259887, 0.85954802259887, 0.85954802259887, 0.85954802259887, 0.85954802259887, 0.85954802259887, 0.85954802259887, 0.85954802259887, 0.85954802259887, 0.85954802259887, 0.85954802259887, 0.85954802259887, 0.85954802259887, 0.85954802259887, 0.85954802259887, 0.85954802259887, 0.85954802259887, 0.85954802259887, 0.85954802259887, 0.85954802259887, 0.85954802259887, 0.8830508474576272, 0.8830508474576272]}], \"average_precision_score_micro\": [{\"categories\": [\"0\", \"1\", \"2\", \"3\", \"4\", \"5\", \"6\", \"7\", \"8\", \"9\", \"10\", \"11\", \"12\", \"13\", \"14\", \"15\", \"16\", \"17\", \"18\", \"19\", \"20\", \"21\", \"22\", \"23\", \"24\", \"25\", \"26\", \"27\", \"28\", \"29\", \"30\", \"31\", \"32\", \"33\", \"34\", \"35\", \"36\", \"37\", \"38\", \"39\", \"40\", \"41\", \"42\", \"43\", \"44\", \"48\", \"49\"], \"mode\": \"markers\", \"name\": \"average_precision_score_micro\", \"stepped\": false, \"type\": \"scatter\", \"data\": [0.887958292631032, 0.9018582931163117, 0.8989182532214051, 0.8975627262301465, 0.9042503947296645, 0.899314329819205, 0.8996296795202344, 0.9016282424435411, 0.897650518778226, 0.9023174096446805, 0.9046153748204653, 0.893386848713541, 0.8794471593389804, 0.9192992816207092, 0.8517523958972651, 0.9034344817648317, 0.899010074859872, 0.8883515371291933, 0.9051419512979809, 0.9022681622437723, 0.8995255439107467, 0.9000157462971572, 0.9081882604104606, 0.9106439853092263, 0.8983470835660811, 0.6293524849181271, 0.8757813756604431, 0.9107161676900892, 0.890258124932684, 0.6293524849181271, 0.8961182582946179, 0.8578883746287357, 0.9019518433160247, 0.9071459777065947, 0.9030409978961446, 0.8672067046581926, 0.8934701469527253, 0.8727609476289633, 0.9139494452079951, 0.8991795414767934, 0.9159786868732926, 0.8939857038887989, 0.9100825555912326, 0.8806167666581647, 0.9148893271908136, 0.9209515302777568, 0.9190358661052276]}, {\"categories\": [\"0\", \"1\", \"2\", \"3\", \"4\", \"5\", \"6\", \"7\", \"8\", \"9\", \"10\", \"11\", \"12\", \"13\", \"14\", \"15\", \"16\", \"17\", \"18\", \"19\", \"20\", \"21\", \"22\", \"23\", \"24\", \"25\", \"26\", \"27\", \"28\", \"29\", \"30\", \"31\", \"32\", \"33\", \"34\", \"35\", \"36\", \"37\", \"38\", \"39\", \"40\", \"41\", \"42\", \"43\", \"44\", \"48\", \"49\"], \"mode\": \"lines\", \"name\": \"average_precision_score_micro_max\", \"stepped\": true, \"type\": \"scatter\", \"data\": [0.887958292631032, 0.9018582931163117, 0.9018582931163117, 0.9018582931163117, 0.9042503947296645, 0.9042503947296645, 0.9042503947296645, 0.9042503947296645, 0.9042503947296645, 0.9042503947296645, 0.9046153748204653, 0.9046153748204653, 0.9046153748204653, 0.9192992816207092, 0.9192992816207092, 0.9192992816207092, 0.9192992816207092, 0.9192992816207092, 0.9192992816207092, 0.9192992816207092, 0.9192992816207092, 0.9192992816207092, 0.9192992816207092, 0.9192992816207092, 0.9192992816207092, 0.9192992816207092, 0.9192992816207092, 0.9192992816207092, 0.9192992816207092, 0.9192992816207092, 0.9192992816207092, 0.9192992816207092, 0.9192992816207092, 0.9192992816207092, 0.9192992816207092, 0.9192992816207092, 0.9192992816207092, 0.9192992816207092, 0.9192992816207092, 0.9192992816207092, 0.9192992816207092, 0.9192992816207092, 0.9192992816207092, 0.9192992816207092, 0.9192992816207092, 0.9209515302777568, 0.9209515302777568]}], \"AUC_macro\": [{\"categories\": [\"0\", \"1\", \"2\", \"3\", \"4\", \"5\", \"6\", \"7\", \"8\", \"9\", \"10\", \"11\", \"12\", \"13\", \"14\", \"15\", \"16\", \"17\", \"18\", \"19\", \"20\", \"21\", \"22\", \"23\", \"24\", \"25\", \"26\", \"27\", \"28\", \"29\", \"30\", \"31\", \"32\", \"33\", \"34\", \"35\", \"36\", \"37\", \"38\", \"39\", \"40\", \"41\", \"42\", \"43\", \"44\", \"48\", \"49\"], \"mode\": \"markers\", \"name\": \"AUC_macro\", \"stepped\": false, \"type\": \"scatter\", \"data\": [0.8811331210778885, 0.8929591177556295, 0.8955720861018825, 0.8889337393872276, 0.8948696244001477, 0.8901226928755998, 0.8955187338501291, 0.8959955703211516, 0.886078130767811, 0.8931677510151348, 0.8944523578811369, 0.8876433877814691, 0.8674637320044297, 0.9123258121077888, 0.8704584717607974, 0.8978157415097823, 0.890016818936877, 0.8834619093761535, 0.9038673864894795, 0.8967421557770396, 0.8961190937615356, 0.8967023348098928, 0.902828672942045, 0.9030714977851606, 0.9033375092284975, 0.5, 0.872204618863049, 0.9035228636028055, 0.8833604074381691, 0.5, 0.8871261650978222, 0.8516850775193798, 0.898967930970838, 0.9027517534145441, 0.9003801679586564, 0.8558891542081948, 0.8840998984865264, 0.8800492109634552, 0.9131497785160576, 0.887611295681063, 0.9069015550018455, 0.8908730620155039, 0.9022839377999261, 0.8692055301771873, 0.90996846160945, 0.9155136351052049, 0.9204420911775563]}, {\"categories\": [\"0\", \"1\", \"2\", \"3\", \"4\", \"5\", \"6\", \"7\", \"8\", \"9\", \"10\", \"11\", \"12\", \"13\", \"14\", \"15\", \"16\", \"17\", \"18\", \"19\", \"20\", \"21\", \"22\", \"23\", \"24\", \"25\", \"26\", \"27\", \"28\", \"29\", \"30\", \"31\", \"32\", \"33\", \"34\", \"35\", \"36\", \"37\", \"38\", \"39\", \"40\", \"41\", \"42\", \"43\", \"44\", \"48\", \"49\"], \"mode\": \"lines\", \"name\": \"AUC_macro_max\", \"stepped\": true, \"type\": \"scatter\", \"data\": [0.8811331210778885, 0.8929591177556295, 0.8955720861018825, 0.8955720861018825, 0.8955720861018825, 0.8955720861018825, 0.8955720861018825, 0.8959955703211516, 0.8959955703211516, 0.8959955703211516, 0.8959955703211516, 0.8959955703211516, 0.8959955703211516, 0.9123258121077888, 0.9123258121077888, 0.9123258121077888, 0.9123258121077888, 0.9123258121077888, 0.9123258121077888, 0.9123258121077888, 0.9123258121077888, 0.9123258121077888, 0.9123258121077888, 0.9123258121077888, 0.9123258121077888, 0.9123258121077888, 0.9123258121077888, 0.9123258121077888, 0.9123258121077888, 0.9123258121077888, 0.9123258121077888, 0.9123258121077888, 0.9123258121077888, 0.9123258121077888, 0.9123258121077888, 0.9123258121077888, 0.9123258121077888, 0.9123258121077888, 0.9131497785160576, 0.9131497785160576, 0.9131497785160576, 0.9131497785160576, 0.9131497785160576, 0.9131497785160576, 0.9131497785160576, 0.9155136351052049, 0.9204420911775563]}], \"balanced_accuracy\": [{\"categories\": [\"0\", \"1\", \"2\", \"3\", \"4\", \"5\", \"6\", \"7\", \"8\", \"9\", \"10\", \"11\", \"12\", \"13\", \"14\", \"15\", \"16\", \"17\", \"18\", \"19\", \"20\", \"21\", \"22\", \"23\", \"24\", \"25\", \"26\", \"27\", \"28\", \"29\", \"30\", \"31\", \"32\", \"33\", \"34\", \"35\", \"36\", \"37\", \"38\", \"39\", \"40\", \"41\", \"42\", \"43\", \"44\", \"48\", \"49\"], \"mode\": \"markers\", \"name\": \"balanced_accuracy\", \"stepped\": false, \"type\": \"scatter\", \"data\": [0.7760209025470652, 0.8060125968992248, 0.8180744739756367, 0.7741036821705427, 0.8298816445182723, 0.8218071705426357, 0.817015503875969, 0.8338565891472868, 0.7976065891472869, 0.7880191029900331, 0.7965227021040975, 0.8043410852713178, 0.7885548172757475, 0.8079934939091915, 0.5864880952380952, 0.8094179125138428, 0.8077512458471761, 0.7366583610188261, 0.8058423311184939, 0.7971940753045403, 0.8108381782945736, 0.7494601328903654, 0.8116756644518273, 0.8020923311184939, 0.7606125415282391, 0.5, 0.7712458471760797, 0.8064970930232558, 0.7922625968992248, 0.5, 0.7814244186046512, 0.7843376245847177, 0.80625, 0.8074280177187154, 0.8090566168327797, 0.7578488372093023, 0.8132828073089702, 0.791501245847176, 0.8246310908084163, 0.7905066445182725, 0.8169013012181617, 0.8119774363233665, 0.8131976744186046, 0.7984738372093023, 0.8085167497231451, 0.856904761904762, 0.8520791805094131]}, {\"categories\": [\"0\", \"1\", \"2\", \"3\", \"4\", \"5\", \"6\", \"7\", \"8\", \"9\", \"10\", \"11\", \"12\", \"13\", \"14\", \"15\", \"16\", \"17\", \"18\", \"19\", \"20\", \"21\", \"22\", \"23\", \"24\", \"25\", \"26\", \"27\", \"28\", \"29\", \"30\", \"31\", \"32\", \"33\", \"34\", \"35\", \"36\", \"37\", \"38\", \"39\", \"40\", \"41\", \"42\", \"43\", \"44\", \"48\", \"49\"], \"mode\": \"lines\", \"name\": \"balanced_accuracy_max\", \"stepped\": true, \"type\": \"scatter\", \"data\": [0.7760209025470652, 0.8060125968992248, 0.8180744739756367, 0.8180744739756367, 0.8298816445182723, 0.8298816445182723, 0.8298816445182723, 0.8338565891472868, 0.8338565891472868, 0.8338565891472868, 0.8338565891472868, 0.8338565891472868, 0.8338565891472868, 0.8338565891472868, 0.8338565891472868, 0.8338565891472868, 0.8338565891472868, 0.8338565891472868, 0.8338565891472868, 0.8338565891472868, 0.8338565891472868, 0.8338565891472868, 0.8338565891472868, 0.8338565891472868, 0.8338565891472868, 0.8338565891472868, 0.8338565891472868, 0.8338565891472868, 0.8338565891472868, 0.8338565891472868, 0.8338565891472868, 0.8338565891472868, 0.8338565891472868, 0.8338565891472868, 0.8338565891472868, 0.8338565891472868, 0.8338565891472868, 0.8338565891472868, 0.8338565891472868, 0.8338565891472868, 0.8338565891472868, 0.8338565891472868, 0.8338565891472868, 0.8338565891472868, 0.8338565891472868, 0.856904761904762, 0.856904761904762]}], \"recall_score_weighted\": [{\"categories\": [\"0\", \"1\", \"2\", \"3\", \"4\", \"5\", \"6\", \"7\", \"8\", \"9\", \"10\", \"11\", \"12\", \"13\", \"14\", \"15\", \"16\", \"17\", \"18\", \"19\", \"20\", \"21\", \"22\", \"23\", \"24\", \"25\", \"26\", \"27\", \"28\", \"29\", \"30\", \"31\", \"32\", \"33\", \"34\", \"35\", \"36\", \"37\", \"38\", \"39\", \"40\", \"41\", \"42\", \"43\", \"44\", \"48\", \"49\"], \"mode\": \"markers\", \"name\": \"recall_score_weighted\", \"stepped\": false, \"type\": \"scatter\", \"data\": [0.8059887005649717, 0.8259322033898304, 0.8427118644067797, 0.80909604519774, 0.8459322033898304, 0.8528813559322034, 0.8429378531073446, 0.85954802259887, 0.8327683615819208, 0.822598870056497, 0.8324858757062147, 0.8329943502824859, 0.8160451977401131, 0.8394915254237288, 0.7258757062146893, 0.8361016949152542, 0.8427118644067797, 0.7993785310734464, 0.8393785310734463, 0.836271186440678, 0.8326553672316385, 0.8161581920903955, 0.836045197740113, 0.8293785310734464, 0.8161016949152543, 0.67909604519774, 0.8261016949152541, 0.8326553672316385, 0.8192090395480227, 0.67909604519774, 0.8395480225988701, 0.7826553672316383, 0.846271186440678, 0.8428813559322034, 0.8227118644067797, 0.8194915254237289, 0.8260451977401129, 0.836045197740113, 0.8291525423728814, 0.8027118644067798, 0.8325423728813559, 0.8194915254237287, 0.8394350282485876, 0.8295480225988701, 0.8325988700564972, 0.8830508474576272, 0.8763276836158193]}, {\"categories\": [\"0\", \"1\", \"2\", \"3\", \"4\", \"5\", \"6\", \"7\", \"8\", \"9\", \"10\", \"11\", \"12\", \"13\", \"14\", \"15\", \"16\", \"17\", \"18\", \"19\", \"20\", \"21\", \"22\", \"23\", \"24\", \"25\", \"26\", \"27\", \"28\", \"29\", \"30\", \"31\", \"32\", \"33\", \"34\", \"35\", \"36\", \"37\", \"38\", \"39\", \"40\", \"41\", \"42\", \"43\", \"44\", \"48\", \"49\"], \"mode\": \"lines\", \"name\": \"recall_score_weighted_max\", \"stepped\": true, \"type\": \"scatter\", \"data\": [0.8059887005649717, 0.8259322033898304, 0.8427118644067797, 0.8427118644067797, 0.8459322033898304, 0.8528813559322034, 0.8528813559322034, 0.85954802259887, 0.85954802259887, 0.85954802259887, 0.85954802259887, 0.85954802259887, 0.85954802259887, 0.85954802259887, 0.85954802259887, 0.85954802259887, 0.85954802259887, 0.85954802259887, 0.85954802259887, 0.85954802259887, 0.85954802259887, 0.85954802259887, 0.85954802259887, 0.85954802259887, 0.85954802259887, 0.85954802259887, 0.85954802259887, 0.85954802259887, 0.85954802259887, 0.85954802259887, 0.85954802259887, 0.85954802259887, 0.85954802259887, 0.85954802259887, 0.85954802259887, 0.85954802259887, 0.85954802259887, 0.85954802259887, 0.85954802259887, 0.85954802259887, 0.85954802259887, 0.85954802259887, 0.85954802259887, 0.85954802259887, 0.85954802259887, 0.8830508474576272, 0.8830508474576272]}], \"accuracy\": [{\"categories\": [\"0\", \"1\", \"2\", \"3\", \"4\", \"5\", \"6\", \"7\", \"8\", \"9\", \"10\", \"11\", \"12\", \"13\", \"14\", \"15\", \"16\", \"17\", \"18\", \"19\", \"20\", \"21\", \"22\", \"23\", \"24\", \"25\", \"26\", \"27\", \"28\", \"29\", \"30\", \"31\", \"32\", \"33\", \"34\", \"35\", \"36\", \"37\", \"38\", \"39\", \"40\", \"41\", \"42\", \"43\", \"44\", \"48\", \"49\"], \"mode\": \"markers\", \"name\": \"accuracy\", \"stepped\": false, \"type\": \"scatter\", \"data\": [0.8059887005649717, 0.8259322033898304, 0.8427118644067797, 0.80909604519774, 0.8459322033898304, 0.8528813559322034, 0.8429378531073446, 0.85954802259887, 0.8327683615819208, 0.822598870056497, 0.8324858757062147, 0.8329943502824859, 0.8160451977401131, 0.8394915254237288, 0.7258757062146893, 0.8361016949152542, 0.8427118644067797, 0.7993785310734464, 0.8393785310734463, 0.836271186440678, 0.8326553672316385, 0.8161581920903955, 0.836045197740113, 0.8293785310734464, 0.8161016949152543, 0.67909604519774, 0.8261016949152541, 0.8326553672316385, 0.8192090395480227, 0.67909604519774, 0.8395480225988701, 0.7826553672316383, 0.846271186440678, 0.8428813559322034, 0.8227118644067797, 0.8194915254237289, 0.8260451977401129, 0.836045197740113, 0.8291525423728814, 0.8027118644067798, 0.8325423728813559, 0.8194915254237287, 0.8394350282485876, 0.8295480225988701, 0.8325988700564972, 0.8830508474576272, 0.8763276836158193]}, {\"categories\": [\"0\", \"1\", \"2\", \"3\", \"4\", \"5\", \"6\", \"7\", \"8\", \"9\", \"10\", \"11\", \"12\", \"13\", \"14\", \"15\", \"16\", \"17\", \"18\", \"19\", \"20\", \"21\", \"22\", \"23\", \"24\", \"25\", \"26\", \"27\", \"28\", \"29\", \"30\", \"31\", \"32\", \"33\", \"34\", \"35\", \"36\", \"37\", \"38\", \"39\", \"40\", \"41\", \"42\", \"43\", \"44\", \"48\", \"49\"], \"mode\": \"lines\", \"name\": \"accuracy_max\", \"stepped\": true, \"type\": \"scatter\", \"data\": [0.8059887005649717, 0.8259322033898304, 0.8427118644067797, 0.8427118644067797, 0.8459322033898304, 0.8528813559322034, 0.8528813559322034, 0.85954802259887, 0.85954802259887, 0.85954802259887, 0.85954802259887, 0.85954802259887, 0.85954802259887, 0.85954802259887, 0.85954802259887, 0.85954802259887, 0.85954802259887, 0.85954802259887, 0.85954802259887, 0.85954802259887, 0.85954802259887, 0.85954802259887, 0.85954802259887, 0.85954802259887, 0.85954802259887, 0.85954802259887, 0.85954802259887, 0.85954802259887, 0.85954802259887, 0.85954802259887, 0.85954802259887, 0.85954802259887, 0.85954802259887, 0.85954802259887, 0.85954802259887, 0.85954802259887, 0.85954802259887, 0.85954802259887, 0.85954802259887, 0.85954802259887, 0.85954802259887, 0.85954802259887, 0.85954802259887, 0.85954802259887, 0.85954802259887, 0.8830508474576272, 0.8830508474576272]}], \"precision_score_weighted\": [{\"categories\": [\"0\", \"1\", \"2\", \"3\", \"4\", \"5\", \"6\", \"7\", \"8\", \"9\", \"10\", \"11\", \"12\", \"13\", \"14\", \"15\", \"16\", \"17\", \"18\", \"19\", \"20\", \"21\", \"22\", \"23\", \"24\", \"25\", \"26\", \"27\", \"28\", \"29\", \"30\", \"31\", \"32\", \"33\", \"34\", \"35\", \"36\", \"37\", \"38\", \"39\", \"40\", \"41\", \"42\", \"43\", \"44\", \"48\", \"49\"], \"mode\": \"markers\", \"name\": \"precision_score_weighted\", \"stepped\": false, \"type\": \"scatter\", \"data\": [0.8237683758533973, 0.8403871377947292, 0.8505713313012269, 0.8212490559967136, 0.8582895831783379, 0.8638230835119984, 0.8612154197651618, 0.8744665423003489, 0.8399602343002993, 0.8353883912690296, 0.8413184250641722, 0.8531774663897151, 0.8407374045536857, 0.8521569438683386, 0.7951590026255504, 0.8499248106301609, 0.8542060057903831, 0.8193562675609535, 0.851090309907162, 0.8522035627944705, 0.8469671295434008, 0.8351820421085817, 0.8498653043810706, 0.8431885337243926, 0.8316383853051317, 0.4689005075169971, 0.8523980381891201, 0.8449911108971732, 0.8326905210295041, 0.4689005075169971, 0.8530828644362598, 0.8093530753674532, 0.8647041773001382, 0.8557999945413357, 0.8435932552689259, 0.835815103750592, 0.844712779867088, 0.8461817675487536, 0.8498378292188736, 0.8173463319315237, 0.847486893964364, 0.8459563442821276, 0.8552085781547054, 0.844874905916301, 0.8475440116559458, 0.8994886872458888, 0.8922717443351831]}, {\"categories\": [\"0\", \"1\", \"2\", \"3\", \"4\", \"5\", \"6\", \"7\", \"8\", \"9\", \"10\", \"11\", \"12\", \"13\", \"14\", \"15\", \"16\", \"17\", \"18\", \"19\", \"20\", \"21\", \"22\", \"23\", \"24\", \"25\", \"26\", \"27\", \"28\", \"29\", \"30\", \"31\", \"32\", \"33\", \"34\", \"35\", \"36\", \"37\", \"38\", \"39\", \"40\", \"41\", \"42\", \"43\", \"44\", \"48\", \"49\"], \"mode\": \"lines\", \"name\": \"precision_score_weighted_max\", \"stepped\": true, \"type\": \"scatter\", \"data\": [0.8237683758533973, 0.8403871377947292, 0.8505713313012269, 0.8505713313012269, 0.8582895831783379, 0.8638230835119984, 0.8638230835119984, 0.8744665423003489, 0.8744665423003489, 0.8744665423003489, 0.8744665423003489, 0.8744665423003489, 0.8744665423003489, 0.8744665423003489, 0.8744665423003489, 0.8744665423003489, 0.8744665423003489, 0.8744665423003489, 0.8744665423003489, 0.8744665423003489, 0.8744665423003489, 0.8744665423003489, 0.8744665423003489, 0.8744665423003489, 0.8744665423003489, 0.8744665423003489, 0.8744665423003489, 0.8744665423003489, 0.8744665423003489, 0.8744665423003489, 0.8744665423003489, 0.8744665423003489, 0.8744665423003489, 0.8744665423003489, 0.8744665423003489, 0.8744665423003489, 0.8744665423003489, 0.8744665423003489, 0.8744665423003489, 0.8744665423003489, 0.8744665423003489, 0.8744665423003489, 0.8744665423003489, 0.8744665423003489, 0.8744665423003489, 0.8994886872458888, 0.8994886872458888]}], \"average_precision_score_weighted\": [{\"categories\": [\"0\", \"1\", \"2\", \"3\", \"4\", \"5\", \"6\", \"7\", \"8\", \"9\", \"10\", \"11\", \"12\", \"13\", \"14\", \"15\", \"16\", \"17\", \"18\", \"19\", \"20\", \"21\", \"22\", \"23\", \"24\", \"25\", \"26\", \"27\", \"28\", \"29\", \"30\", \"31\", \"32\", \"33\", \"34\", \"35\", \"36\", \"37\", \"38\", \"39\", \"40\", \"41\", \"42\", \"43\", \"44\", \"48\", \"49\"], \"mode\": \"markers\", \"name\": \"average_precision_score_weighted\", \"stepped\": false, \"type\": \"scatter\", \"data\": [0.8955370396295249, 0.9103506263314479, 0.9008440681870654, 0.9038255355364972, 0.9077106530040032, 0.9025018989298401, 0.9086699036435641, 0.906063304115585, 0.902867346347658, 0.9070203545634478, 0.9079872757120449, 0.9027199794815131, 0.8868108105164245, 0.9240154755241766, 0.8838192572117978, 0.9136072201183154, 0.9068165479050878, 0.9015776282237639, 0.9186509252906317, 0.9096621001006209, 0.9079298012280905, 0.9128183909604417, 0.9156792744979502, 0.9159062069514639, 0.9161073186398735, 0.5796089246385138, 0.8874270590797714, 0.9157122448839979, 0.8944197865975436, 0.5796089246385138, 0.9004412092108304, 0.8730678813182011, 0.9108911260977681, 0.9134577726471266, 0.9139830476144866, 0.8733335687806306, 0.899788328191479, 0.8806036555334462, 0.9257546448279681, 0.9057859660628512, 0.9221659198583039, 0.9080111951984866, 0.9172016660154219, 0.8824325095286476, 0.9213537784154209, 0.9263300029739909, 0.931012121513825]}, {\"categories\": [\"0\", \"1\", \"2\", \"3\", \"4\", \"5\", \"6\", \"7\", \"8\", \"9\", \"10\", \"11\", \"12\", \"13\", \"14\", \"15\", \"16\", \"17\", \"18\", \"19\", \"20\", \"21\", \"22\", \"23\", \"24\", \"25\", \"26\", \"27\", \"28\", \"29\", \"30\", \"31\", \"32\", \"33\", \"34\", \"35\", \"36\", \"37\", \"38\", \"39\", \"40\", \"41\", \"42\", \"43\", \"44\", \"48\", \"49\"], \"mode\": \"lines\", \"name\": \"average_precision_score_weighted_max\", \"stepped\": true, \"type\": \"scatter\", \"data\": [0.8955370396295249, 0.9103506263314479, 0.9103506263314479, 0.9103506263314479, 0.9103506263314479, 0.9103506263314479, 0.9103506263314479, 0.9103506263314479, 0.9103506263314479, 0.9103506263314479, 0.9103506263314479, 0.9103506263314479, 0.9103506263314479, 0.9240154755241766, 0.9240154755241766, 0.9240154755241766, 0.9240154755241766, 0.9240154755241766, 0.9240154755241766, 0.9240154755241766, 0.9240154755241766, 0.9240154755241766, 0.9240154755241766, 0.9240154755241766, 0.9240154755241766, 0.9240154755241766, 0.9240154755241766, 0.9240154755241766, 0.9240154755241766, 0.9240154755241766, 0.9240154755241766, 0.9240154755241766, 0.9240154755241766, 0.9240154755241766, 0.9240154755241766, 0.9240154755241766, 0.9240154755241766, 0.9240154755241766, 0.9257546448279681, 0.9257546448279681, 0.9257546448279681, 0.9257546448279681, 0.9257546448279681, 0.9257546448279681, 0.9257546448279681, 0.9263300029739909, 0.931012121513825]}], \"matthews_correlation\": [{\"categories\": [\"0\", \"1\", \"2\", \"3\", \"4\", \"5\", \"6\", \"7\", \"8\", \"9\", \"10\", \"11\", \"12\", \"13\", \"14\", \"15\", \"16\", \"17\", \"18\", \"19\", \"20\", \"21\", \"22\", \"23\", \"24\", \"25\", \"26\", \"27\", \"28\", \"29\", \"30\", \"31\", \"32\", \"33\", \"34\", \"35\", \"36\", \"37\", \"38\", \"39\", \"40\", \"41\", \"42\", \"43\", \"44\", \"48\", \"49\"], \"mode\": \"markers\", \"name\": \"matthews_correlation\", \"stepped\": false, \"type\": \"scatter\", \"data\": [0.5628617041183437, 0.6132552509330647, 0.6348230944521412, 0.5634479514051552, 0.6506854923004757, 0.6658494606818023, 0.650244856983668, 0.6855329910392479, 0.6147140485871357, 0.5897168843680939, 0.6075379876170162, 0.6311991764150848, 0.5903431657959342, 0.6325680805985541, 0.318739405034189, 0.628046831553714, 0.6379059547114501, 0.540243216987489, 0.6293673494859856, 0.6270024461300338, 0.6214951713714093, 0.5731686693141919, 0.6297397011260139, 0.6124918481848944, 0.5755800888851352, 0.0, 0.6130873267250745, 0.6185540563573734, 0.5876692682494933, 0.0, 0.6249879580204313, 0.5352372458170628, 0.6543304865910462, 0.6370238678910437, 0.6070342614171191, 0.573651606433618, 0.6126716730640331, 0.6178231972574668, 0.6244342960496957, 0.5581511396559747, 0.6230238872927346, 0.609533136358969, 0.6378421736077808, 0.6130353570328534, 0.6200836943553523, 0.7425113736315487, 0.7263363009194752]}, {\"categories\": [\"0\", \"1\", \"2\", \"3\", \"4\", \"5\", \"6\", \"7\", \"8\", \"9\", \"10\", \"11\", \"12\", \"13\", \"14\", \"15\", \"16\", \"17\", \"18\", \"19\", \"20\", \"21\", \"22\", \"23\", \"24\", \"25\", \"26\", \"27\", \"28\", \"29\", \"30\", \"31\", \"32\", \"33\", \"34\", \"35\", \"36\", \"37\", \"38\", \"39\", \"40\", \"41\", \"42\", \"43\", \"44\", \"48\", \"49\"], \"mode\": \"lines\", \"name\": \"matthews_correlation_max\", \"stepped\": true, \"type\": \"scatter\", \"data\": [0.5628617041183437, 0.6132552509330647, 0.6348230944521412, 0.6348230944521412, 0.6506854923004757, 0.6658494606818023, 0.6658494606818023, 0.6855329910392479, 0.6855329910392479, 0.6855329910392479, 0.6855329910392479, 0.6855329910392479, 0.6855329910392479, 0.6855329910392479, 0.6855329910392479, 0.6855329910392479, 0.6855329910392479, 0.6855329910392479, 0.6855329910392479, 0.6855329910392479, 0.6855329910392479, 0.6855329910392479, 0.6855329910392479, 0.6855329910392479, 0.6855329910392479, 0.6855329910392479, 0.6855329910392479, 0.6855329910392479, 0.6855329910392479, 0.6855329910392479, 0.6855329910392479, 0.6855329910392479, 0.6855329910392479, 0.6855329910392479, 0.6855329910392479, 0.6855329910392479, 0.6855329910392479, 0.6855329910392479, 0.6855329910392479, 0.6855329910392479, 0.6855329910392479, 0.6855329910392479, 0.6855329910392479, 0.6855329910392479, 0.6855329910392479, 0.7425113736315487, 0.7425113736315487]}], \"AUC_micro\": [{\"categories\": [\"0\", \"1\", \"2\", \"3\", \"4\", \"5\", \"6\", \"7\", \"8\", \"9\", \"10\", \"11\", \"12\", \"13\", \"14\", \"15\", \"16\", \"17\", \"18\", \"19\", \"20\", \"21\", \"22\", \"23\", \"24\", \"25\", \"26\", \"27\", \"28\", \"29\", \"30\", \"31\", \"32\", \"33\", \"34\", \"35\", \"36\", \"37\", \"38\", \"39\", \"40\", \"41\", \"42\", \"43\", \"44\", \"48\", \"49\"], \"mode\": \"markers\", \"name\": \"AUC_micro\", \"stepped\": false, \"type\": \"scatter\", \"data\": [0.8880105014523284, 0.8999905678444892, 0.9052697660314724, 0.8951572504708099, 0.9060712917743944, 0.9002004213348653, 0.9000888314341344, 0.9030551246448978, 0.8955461074403906, 0.8982256056688691, 0.901373280347282, 0.8939478119314372, 0.8778818347218232, 0.9180883686041685, 0.8453732963069361, 0.9047426984582974, 0.8989074659261387, 0.8835385266047432, 0.9028295987742986, 0.900126815410642, 0.9020798301892814, 0.8947004372945194, 0.9083395575983912, 0.9083671039611861, 0.893120670943854, 0.6790960451977401, 0.8766733697213445, 0.9087502952535988, 0.8891947556576973, 0.6790960451977401, 0.90035569280858, 0.8546643525168374, 0.9029762999138178, 0.9069150467617861, 0.9046501005458202, 0.8738894155574707, 0.8943542883590283, 0.8835727121835999, 0.9120005426282358, 0.8969843914583931, 0.9133951291136008, 0.8981425037505186, 0.9073552299786141, 0.8870817134284529, 0.9116600753295669, 0.9183879791886111, 0.9177004213348654]}, {\"categories\": [\"0\", \"1\", \"2\", \"3\", \"4\", \"5\", \"6\", \"7\", \"8\", \"9\", \"10\", \"11\", \"12\", \"13\", \"14\", \"15\", \"16\", \"17\", \"18\", \"19\", \"20\", \"21\", \"22\", \"23\", \"24\", \"25\", \"26\", \"27\", \"28\", \"29\", \"30\", \"31\", \"32\", \"33\", \"34\", \"35\", \"36\", \"37\", \"38\", \"39\", \"40\", \"41\", \"42\", \"43\", \"44\", \"48\", \"49\"], \"mode\": \"lines\", \"name\": \"AUC_micro_max\", \"stepped\": true, \"type\": \"scatter\", \"data\": [0.8880105014523284, 0.8999905678444892, 0.9052697660314724, 0.9052697660314724, 0.9060712917743944, 0.9060712917743944, 0.9060712917743944, 0.9060712917743944, 0.9060712917743944, 0.9060712917743944, 0.9060712917743944, 0.9060712917743944, 0.9060712917743944, 0.9180883686041685, 0.9180883686041685, 0.9180883686041685, 0.9180883686041685, 0.9180883686041685, 0.9180883686041685, 0.9180883686041685, 0.9180883686041685, 0.9180883686041685, 0.9180883686041685, 0.9180883686041685, 0.9180883686041685, 0.9180883686041685, 0.9180883686041685, 0.9180883686041685, 0.9180883686041685, 0.9180883686041685, 0.9180883686041685, 0.9180883686041685, 0.9180883686041685, 0.9180883686041685, 0.9180883686041685, 0.9180883686041685, 0.9180883686041685, 0.9180883686041685, 0.9180883686041685, 0.9180883686041685, 0.9180883686041685, 0.9180883686041685, 0.9180883686041685, 0.9180883686041685, 0.9180883686041685, 0.9183879791886111, 0.9183879791886111]}], \"f1_score_macro\": [{\"categories\": [\"0\", \"1\", \"2\", \"3\", \"4\", \"5\", \"6\", \"7\", \"8\", \"9\", \"10\", \"11\", \"12\", \"13\", \"14\", \"15\", \"16\", \"17\", \"18\", \"19\", \"20\", \"21\", \"22\", \"23\", \"24\", \"25\", \"26\", \"27\", \"28\", \"29\", \"30\", \"31\", \"32\", \"33\", \"34\", \"35\", \"36\", \"37\", \"38\", \"39\", \"40\", \"41\", \"42\", \"43\", \"44\", \"48\", \"49\"], \"mode\": \"markers\", \"name\": \"f1_score_macro\", \"stepped\": false, \"type\": \"scatter\", \"data\": [0.7682096405971308, 0.7972526241921125, 0.8128373631520402, 0.7727702291818653, 0.8194453624634622, 0.8229779664013475, 0.8125862027233097, 0.8318024925042469, 0.7989331292717653, 0.7836072051875275, 0.7955965706330212, 0.8017629707082936, 0.777731957024298, 0.805572648726098, 0.5589838478422292, 0.8031201996352033, 0.8077261785521925, 0.7444910713848586, 0.8045872420707253, 0.7998732320652098, 0.8014519087699344, 0.7625919451180303, 0.8045004611589233, 0.7956235504288897, 0.7676705209679446, 0.40276783177038933, 0.7774649208059351, 0.799975527297142, 0.7846538821754502, 0.40276783177038933, 0.7963204438050259, 0.7573879327783646, 0.8111370609385599, 0.8085272395878427, 0.7929686812413383, 0.767844785964989, 0.7977032868025775, 0.7972965954614303, 0.8047592687240483, 0.7746242396990282, 0.8045817846712937, 0.7915289516607292, 0.8077570479166225, 0.7945519038672619, 0.7992570918349561, 0.8592448118845507, 0.8518244426893957]}, {\"categories\": [\"0\", \"1\", \"2\", \"3\", \"4\", \"5\", \"6\", \"7\", \"8\", \"9\", \"10\", \"11\", \"12\", \"13\", \"14\", \"15\", \"16\", \"17\", \"18\", \"19\", \"20\", \"21\", \"22\", \"23\", \"24\", \"25\", \"26\", \"27\", \"28\", \"29\", \"30\", \"31\", \"32\", \"33\", \"34\", \"35\", \"36\", \"37\", \"38\", \"39\", \"40\", \"41\", \"42\", \"43\", \"44\", \"48\", \"49\"], \"mode\": \"lines\", \"name\": \"f1_score_macro_max\", \"stepped\": true, \"type\": \"scatter\", \"data\": [0.7682096405971308, 0.7972526241921125, 0.8128373631520402, 0.8128373631520402, 0.8194453624634622, 0.8229779664013475, 0.8229779664013475, 0.8318024925042469, 0.8318024925042469, 0.8318024925042469, 0.8318024925042469, 0.8318024925042469, 0.8318024925042469, 0.8318024925042469, 0.8318024925042469, 0.8318024925042469, 0.8318024925042469, 0.8318024925042469, 0.8318024925042469, 0.8318024925042469, 0.8318024925042469, 0.8318024925042469, 0.8318024925042469, 0.8318024925042469, 0.8318024925042469, 0.8318024925042469, 0.8318024925042469, 0.8318024925042469, 0.8318024925042469, 0.8318024925042469, 0.8318024925042469, 0.8318024925042469, 0.8318024925042469, 0.8318024925042469, 0.8318024925042469, 0.8318024925042469, 0.8318024925042469, 0.8318024925042469, 0.8318024925042469, 0.8318024925042469, 0.8318024925042469, 0.8318024925042469, 0.8318024925042469, 0.8318024925042469, 0.8318024925042469, 0.8592448118845507, 0.8592448118845507]}], \"f1_score_weighted\": [{\"categories\": [\"0\", \"1\", \"2\", \"3\", \"4\", \"5\", \"6\", \"7\", \"8\", \"9\", \"10\", \"11\", \"12\", \"13\", \"14\", \"15\", \"16\", \"17\", \"18\", \"19\", \"20\", \"21\", \"22\", \"23\", \"24\", \"25\", \"26\", \"27\", \"28\", \"29\", \"30\", \"31\", \"32\", \"33\", \"34\", \"35\", \"36\", \"37\", \"38\", \"39\", \"40\", \"41\", \"42\", \"43\", \"44\", \"48\", \"49\"], \"mode\": \"markers\", \"name\": \"f1_score_weighted\", \"stepped\": false, \"type\": \"scatter\", \"data\": [0.8014398448329555, 0.8237396450256732, 0.842224157699478, 0.806047060749133, 0.8464503156186775, 0.8484760680466643, 0.8396288660456509, 0.8557460325675212, 0.8281222986496314, 0.8179746454717352, 0.8286617777347806, 0.8295428462047711, 0.8111375615251999, 0.8349620244900366, 0.6537058360775021, 0.8321117908536705, 0.8372065556864843, 0.783327914808383, 0.8348561535740927, 0.8303299104097744, 0.8305508128892576, 0.8021759951947371, 0.8324050168303933, 0.8256093670697467, 0.803719583263484, 0.5526564268547016, 0.8094762062433224, 0.8294839630276544, 0.8167916314441929, 0.5526564268547016, 0.830793835240064, 0.7876956227136332, 0.8401885944740908, 0.839287901631945, 0.8235523937496895, 0.8093969692912906, 0.8276121076521132, 0.8294192767119221, 0.8329645410176273, 0.8065856076978222, 0.833422874571607, 0.8206906417140086, 0.83595005427317, 0.825968164770293, 0.8292517907430899, 0.8795489661151226, 0.8730796838804317]}, {\"categories\": [\"0\", \"1\", \"2\", \"3\", \"4\", \"5\", \"6\", \"7\", \"8\", \"9\", \"10\", \"11\", \"12\", \"13\", \"14\", \"15\", \"16\", \"17\", \"18\", \"19\", \"20\", \"21\", \"22\", \"23\", \"24\", \"25\", \"26\", \"27\", \"28\", \"29\", \"30\", \"31\", \"32\", \"33\", \"34\", \"35\", \"36\", \"37\", \"38\", \"39\", \"40\", \"41\", \"42\", \"43\", \"44\", \"48\", \"49\"], \"mode\": \"lines\", \"name\": \"f1_score_weighted_max\", \"stepped\": true, \"type\": \"scatter\", \"data\": [0.8014398448329555, 0.8237396450256732, 0.842224157699478, 0.842224157699478, 0.8464503156186775, 0.8484760680466643, 0.8484760680466643, 0.8557460325675212, 0.8557460325675212, 0.8557460325675212, 0.8557460325675212, 0.8557460325675212, 0.8557460325675212, 0.8557460325675212, 0.8557460325675212, 0.8557460325675212, 0.8557460325675212, 0.8557460325675212, 0.8557460325675212, 0.8557460325675212, 0.8557460325675212, 0.8557460325675212, 0.8557460325675212, 0.8557460325675212, 0.8557460325675212, 0.8557460325675212, 0.8557460325675212, 0.8557460325675212, 0.8557460325675212, 0.8557460325675212, 0.8557460325675212, 0.8557460325675212, 0.8557460325675212, 0.8557460325675212, 0.8557460325675212, 0.8557460325675212, 0.8557460325675212, 0.8557460325675212, 0.8557460325675212, 0.8557460325675212, 0.8557460325675212, 0.8557460325675212, 0.8557460325675212, 0.8557460325675212, 0.8557460325675212, 0.8795489661151226, 0.8795489661151226]}], \"f1_score_micro\": [{\"categories\": [\"0\", \"1\", \"2\", \"3\", \"4\", \"5\", \"6\", \"7\", \"8\", \"9\", \"10\", \"11\", \"12\", \"13\", \"14\", \"15\", \"16\", \"17\", \"18\", \"19\", \"20\", \"21\", \"22\", \"23\", \"24\", \"25\", \"26\", \"27\", \"28\", \"29\", \"30\", \"31\", \"32\", \"33\", \"34\", \"35\", \"36\", \"37\", \"38\", \"39\", \"40\", \"41\", \"42\", \"43\", \"44\", \"48\", \"49\"], \"mode\": \"markers\", \"name\": \"f1_score_micro\", \"stepped\": false, \"type\": \"scatter\", \"data\": [0.8059887005649718, 0.8259322033898304, 0.8427118644067798, 0.80909604519774, 0.8459322033898304, 0.8528813559322034, 0.8429378531073446, 0.85954802259887, 0.8327683615819208, 0.822598870056497, 0.8324858757062147, 0.8329943502824859, 0.8160451977401131, 0.8394915254237288, 0.7258757062146893, 0.8361016949152542, 0.8427118644067797, 0.7993785310734464, 0.8393785310734463, 0.836271186440678, 0.8326553672316385, 0.8161581920903955, 0.836045197740113, 0.8293785310734464, 0.8161016949152543, 0.67909604519774, 0.8261016949152541, 0.8326553672316385, 0.8192090395480227, 0.67909604519774, 0.8395480225988701, 0.7826553672316385, 0.846271186440678, 0.8428813559322034, 0.8227118644067797, 0.8194915254237289, 0.8260451977401131, 0.836045197740113, 0.8291525423728814, 0.8027118644067798, 0.8325423728813559, 0.8194915254237289, 0.8394350282485876, 0.8295480225988701, 0.8325988700564972, 0.8830508474576272, 0.8763276836158193]}, {\"categories\": [\"0\", \"1\", \"2\", \"3\", \"4\", \"5\", \"6\", \"7\", \"8\", \"9\", \"10\", \"11\", \"12\", \"13\", \"14\", \"15\", \"16\", \"17\", \"18\", \"19\", \"20\", \"21\", \"22\", \"23\", \"24\", \"25\", \"26\", \"27\", \"28\", \"29\", \"30\", \"31\", \"32\", \"33\", \"34\", \"35\", \"36\", \"37\", \"38\", \"39\", \"40\", \"41\", \"42\", \"43\", \"44\", \"48\", \"49\"], \"mode\": \"lines\", \"name\": \"f1_score_micro_max\", \"stepped\": true, \"type\": \"scatter\", \"data\": [0.8059887005649718, 0.8259322033898304, 0.8427118644067798, 0.8427118644067798, 0.8459322033898304, 0.8528813559322034, 0.8528813559322034, 0.85954802259887, 0.85954802259887, 0.85954802259887, 0.85954802259887, 0.85954802259887, 0.85954802259887, 0.85954802259887, 0.85954802259887, 0.85954802259887, 0.85954802259887, 0.85954802259887, 0.85954802259887, 0.85954802259887, 0.85954802259887, 0.85954802259887, 0.85954802259887, 0.85954802259887, 0.85954802259887, 0.85954802259887, 0.85954802259887, 0.85954802259887, 0.85954802259887, 0.85954802259887, 0.85954802259887, 0.85954802259887, 0.85954802259887, 0.85954802259887, 0.85954802259887, 0.85954802259887, 0.85954802259887, 0.85954802259887, 0.85954802259887, 0.85954802259887, 0.85954802259887, 0.85954802259887, 0.85954802259887, 0.85954802259887, 0.85954802259887, 0.8830508474576272, 0.8830508474576272]}]}, \"metricName\": null, \"primaryMetricName\": \"accuracy\", \"showLegend\": false}, \"run_metrics\": [{\"name\": \"experiment_status\", \"run_id\": \"AutoML_0f220329-5b75-40ff-89b7-8d07762f5c6b\", \"categories\": [0, 1, 2, 3, 4, 5, 6, 7, 8, 9, 10, 11, 12, 13], \"series\": [{\"data\": [\"DatasetEvaluation\", \"FeaturesGeneration\", \"DatasetFeaturization\", \"DatasetFeaturizationCompleted\", \"DatasetCrossValidationSplit\", \"ModelSelection\", \"BestRunExplainModel\", \"ModelExplanationDataSetSetup\", \"PickSurrogateModel\", \"EngineeredFeatureExplanations\", \"EngineeredFeatureExplanations\", \"RawFeaturesExplanations\", \"RawFeaturesExplanations\", \"BestRunExplainModel\"]}]}, {\"name\": \"experiment_status_description\", \"run_id\": \"AutoML_0f220329-5b75-40ff-89b7-8d07762f5c6b\", \"categories\": [0, 1, 2, 3, 4, 5, 6, 7, 8, 9, 10, 11, 12, 13], \"series\": [{\"data\": [\"Gathering dataset statistics.\", \"Generating features for the dataset.\", \"Beginning to fit featurizers and featurize the dataset.\", \"Completed fit featurizers and featurizing the dataset.\", \"Generating individually featurized CV splits.\", \"Beginning model selection.\", \"Best run model explanations started\", \"Model explanations data setup completed\", \"Choosing LightGBM as the surrogate model for explanations\", \"Computation of engineered features started\", \"Computation of engineered features completed\", \"Computation of raw features started\", \"Computation of raw features completed\", \"Best run model explanations completed\"]}]}, {\"name\": \"log_loss\", \"run_id\": \"AutoML_0f220329-5b75-40ff-89b7-8d07762f5c6b\", \"categories\": [0], \"series\": [{\"data\": [0.37201300922936653]}]}, {\"name\": \"accuracy\", \"run_id\": \"AutoML_0f220329-5b75-40ff-89b7-8d07762f5c6b\", \"categories\": [0], \"series\": [{\"data\": [0.8830508474576272]}]}, {\"name\": \"f1_score_micro\", \"run_id\": \"AutoML_0f220329-5b75-40ff-89b7-8d07762f5c6b\", \"categories\": [0], \"series\": [{\"data\": [0.8830508474576272]}]}, {\"name\": \"precision_score_macro\", \"run_id\": \"AutoML_0f220329-5b75-40ff-89b7-8d07762f5c6b\", \"categories\": [0], \"series\": [{\"data\": [0.8883742774181919]}]}, {\"name\": \"weighted_accuracy\", \"run_id\": \"AutoML_0f220329-5b75-40ff-89b7-8d07762f5c6b\", \"categories\": [0], \"series\": [{\"data\": [0.9004080729594932]}]}, {\"name\": \"matthews_correlation\", \"run_id\": \"AutoML_0f220329-5b75-40ff-89b7-8d07762f5c6b\", \"categories\": [0], \"series\": [{\"data\": [0.7425113736315487]}]}, {\"name\": \"f1_score_macro\", \"run_id\": \"AutoML_0f220329-5b75-40ff-89b7-8d07762f5c6b\", \"categories\": [0], \"series\": [{\"data\": [0.8592448118845507]}]}, {\"name\": \"AUC_macro\", \"run_id\": \"AutoML_0f220329-5b75-40ff-89b7-8d07762f5c6b\", \"categories\": [0], \"series\": [{\"data\": [0.9155136351052049]}]}, {\"name\": \"AUC_weighted\", \"run_id\": \"AutoML_0f220329-5b75-40ff-89b7-8d07762f5c6b\", \"categories\": [0], \"series\": [{\"data\": [0.9155136351052049]}]}, {\"name\": \"recall_score_weighted\", \"run_id\": \"AutoML_0f220329-5b75-40ff-89b7-8d07762f5c6b\", \"categories\": [0], \"series\": [{\"data\": [0.8830508474576272]}]}, {\"name\": \"balanced_accuracy\", \"run_id\": \"AutoML_0f220329-5b75-40ff-89b7-8d07762f5c6b\", \"categories\": [0], \"series\": [{\"data\": [0.856904761904762]}]}, {\"name\": \"recall_score_micro\", \"run_id\": \"AutoML_0f220329-5b75-40ff-89b7-8d07762f5c6b\", \"categories\": [0], \"series\": [{\"data\": [0.8830508474576272]}]}, {\"name\": \"average_precision_score_micro\", \"run_id\": \"AutoML_0f220329-5b75-40ff-89b7-8d07762f5c6b\", \"categories\": [0], \"series\": [{\"data\": [0.9209515302777568]}]}, {\"name\": \"average_precision_score_macro\", \"run_id\": \"AutoML_0f220329-5b75-40ff-89b7-8d07762f5c6b\", \"categories\": [0], \"series\": [{\"data\": [0.9029201100742956]}]}, {\"name\": \"precision_score_micro\", \"run_id\": \"AutoML_0f220329-5b75-40ff-89b7-8d07762f5c6b\", \"categories\": [0], \"series\": [{\"data\": [0.8830508474576272]}]}, {\"name\": \"norm_macro_recall\", \"run_id\": \"AutoML_0f220329-5b75-40ff-89b7-8d07762f5c6b\", \"categories\": [0], \"series\": [{\"data\": [0.7138095238095238]}]}, {\"name\": \"average_precision_score_weighted\", \"run_id\": \"AutoML_0f220329-5b75-40ff-89b7-8d07762f5c6b\", \"categories\": [0], \"series\": [{\"data\": [0.9263300029739909]}]}, {\"name\": \"recall_score_macro\", \"run_id\": \"AutoML_0f220329-5b75-40ff-89b7-8d07762f5c6b\", \"categories\": [0], \"series\": [{\"data\": [0.856904761904762]}]}, {\"name\": \"precision_score_weighted\", \"run_id\": \"AutoML_0f220329-5b75-40ff-89b7-8d07762f5c6b\", \"categories\": [0], \"series\": [{\"data\": [0.8994886872458888]}]}, {\"name\": \"AUC_micro\", \"run_id\": \"AutoML_0f220329-5b75-40ff-89b7-8d07762f5c6b\", \"categories\": [0], \"series\": [{\"data\": [0.9183879791886111]}]}, {\"name\": \"f1_score_weighted\", \"run_id\": \"AutoML_0f220329-5b75-40ff-89b7-8d07762f5c6b\", \"categories\": [0], \"series\": [{\"data\": [0.8795489661151226]}]}], \"run_logs\": \"\\nRun is completed.\", \"graph\": {}, \"widget_settings\": {\"childWidgetDisplay\": \"popup\", \"send_telemetry\": false, \"log_level\": \"INFO\", \"sdk_version\": \"1.20.0\"}, \"loading\": false}"
          },
          "metadata": {}
        },
        {
          "output_type": "stream",
          "name": "stdout",
          "text": [
            "\n",
            "\n",
            "****************************************************************************************************\n",
            "DATA GUARDRAILS: \n",
            "\n",
            "TYPE:         Class balancing detection\n",
            "STATUS:       PASSED\n",
            "DESCRIPTION:  Your inputs were analyzed, and all classes are balanced in your training data.\n",
            "              Learn more about imbalanced data: https://aka.ms/AutomatedMLImbalancedData\n",
            "\n",
            "****************************************************************************************************\n",
            "\n",
            "TYPE:         Missing feature values imputation\n",
            "STATUS:       PASSED\n",
            "DESCRIPTION:  No feature missing values were detected in the training data.\n",
            "              Learn more about missing value imputation: https://aka.ms/AutomatedMLFeaturization\n",
            "\n",
            "****************************************************************************************************\n",
            "\n",
            "TYPE:         High cardinality feature detection\n",
            "STATUS:       PASSED\n",
            "DESCRIPTION:  Your inputs were analyzed, and no high cardinality features were detected.\n",
            "              Learn more about high cardinality feature handling: https://aka.ms/AutomatedMLFeaturization\n",
            "\n",
            "****************************************************************************************************\n",
            "\n",
            "****************************************************************************************************\n",
            "ITERATION: The iteration being evaluated.\n",
            "PIPELINE: A summary description of the pipeline being evaluated.\n",
            "DURATION: Time taken for the current iteration.\n",
            "METRIC: The result of computing score on the fitted pipeline.\n",
            "BEST: The best observed score thus far.\n",
            "****************************************************************************************************\n",
            "\n",
            " ITERATION   PIPELINE                                       DURATION      METRIC      BEST\n",
            "         0   MaxAbsScaler LightGBM                          0:00:57       0.8060    0.8060\n",
            "         1   MaxAbsScaler XGBoostClassifier                 0:00:57       0.8259    0.8259\n",
            "         2   MinMaxScaler RandomForest                      0:00:54       0.8427    0.8427\n",
            "         3   MinMaxScaler RandomForest                      0:01:02       0.8091    0.8427\n",
            "         4   MinMaxScaler RandomForest                      0:00:53       0.8459    0.8459\n",
            "         5   SparseNormalizer XGBoostClassifier             0:00:58       0.8529    0.8529\n",
            "         6   SparseNormalizer LightGBM                      0:01:01       0.8429    0.8529\n",
            "         7   SparseNormalizer XGBoostClassifier             0:01:03       0.8595    0.8595\n",
            "         8   SparseNormalizer LightGBM                      0:00:57       0.8328    0.8595\n",
            "         9   StandardScalerWrapper XGBoostClassifier        0:01:02       0.8226    0.8595\n",
            "        10   StandardScalerWrapper XGBoostClassifier        0:00:53       0.8325    0.8595\n",
            "        11   SparseNormalizer LightGBM                      0:01:12       0.8330    0.8595\n",
            "        12   StandardScalerWrapper LogisticRegression       0:00:57       0.8160    0.8595\n",
            "        13   MaxAbsScaler GradientBoosting                  0:00:53       0.8395    0.8595\n",
            "        14   StandardScalerWrapper LightGBM                 0:00:54       0.7259    0.8595\n",
            "        15   RobustScaler LightGBM                          0:00:54       0.8361    0.8595\n",
            "        16   StandardScalerWrapper LightGBM                 0:00:54       0.8427    0.8595\n",
            "        17   MaxAbsScaler LightGBM                          0:00:54       0.7994    0.8595\n",
            "        18   StandardScalerWrapper LightGBM                 0:00:53       0.8394    0.8595\n",
            "        19   SparseNormalizer XGBoostClassifier             0:00:54       0.8363    0.8595\n",
            "        20   StandardScalerWrapper LightGBM                 0:00:51       0.8327    0.8595\n",
            "        21   MinMaxScaler LightGBM                          0:00:49       0.8162    0.8595\n",
            "        22   MinMaxScaler LightGBM                          0:00:49       0.8360    0.8595\n",
            "        23   StandardScalerWrapper LightGBM                 0:00:56       0.8294    0.8595\n",
            "        24   StandardScalerWrapper LightGBM                 0:01:05       0.8161    0.8595\n",
            "        25   TruncatedSVDWrapper XGBoostClassifier          0:00:54       0.6791    0.8595\n",
            "        26   StandardScalerWrapper ExtremeRandomTrees       0:01:26       0.8261    0.8595\n",
            "        27   RobustScaler LightGBM                          0:01:20       0.8327    0.8595\n",
            "        28   MinMaxScaler RandomForest                      0:01:14       0.8192    0.8595\n",
            "        29   TruncatedSVDWrapper XGBoostClassifier          0:01:08       0.6791    0.8595\n",
            "        30   SparseNormalizer XGBoostClassifier             0:01:08       0.8395    0.8595\n",
            "        31   SparseNormalizer ExtremeRandomTrees            0:01:06       0.7827    0.8595\n",
            "        32   SparseNormalizer XGBoostClassifier             0:01:20       0.8463    0.8595\n",
            "        33   SparseNormalizer XGBoostClassifier             0:00:51       0.8429    0.8595\n",
            "        34   StandardScalerWrapper ExtremeRandomTrees       0:00:56       0.8227    0.8595\n",
            "        35   SparseNormalizer XGBoostClassifier             0:00:53       0.8195    0.8595\n",
            "        36   MaxAbsScaler ExtremeRandomTrees                0:00:52       0.8260    0.8595\n",
            "        37   StandardScalerWrapper XGBoostClassifier        0:01:10       0.8360    0.8595\n",
            "        38   StandardScalerWrapper RandomForest             0:01:08       0.8292    0.8595\n",
            "        39   SparseNormalizer RandomForest                  0:01:12       0.8027    0.8595\n",
            "        40   MaxAbsScaler RandomForest                      0:01:15       0.8325    0.8595\n",
            "        41   StandardScalerWrapper ExtremeRandomTrees       0:00:53       0.8195    0.8595\n",
            "        42   StandardScalerWrapper LightGBM                 0:00:43       0.8394    0.8595\n",
            "        43   SparseNormalizer XGBoostClassifier             0:00:44       0.8295    0.8595\n",
            "        44   StandardScalerWrapper XGBoostClassifier        0:00:29       0.8326    0.8595\n",
            "        45                                                  0:00:10          nan    0.8595\n",
            "        46                                                  0:00:08          nan    0.8595\n",
            "        47                                                  0:00:18          nan    0.8595\n",
            "        48    VotingEnsemble                                0:01:41       0.8831    0.8831\n",
            "        49    StackEnsemble                                 0:01:40       0.8763    0.8831\n"
          ]
        },
        {
          "output_type": "execute_result",
          "execution_count": 39,
          "data": {
            "text/plain": "{'runId': 'AutoML_0f220329-5b75-40ff-89b7-8d07762f5c6b',\n 'target': 'aml',\n 'status': 'Completed',\n 'startTimeUtc': '2021-02-01T21:32:07.294169Z',\n 'endTimeUtc': '2021-02-01T21:43:31.276811Z',\n 'properties': {'num_iterations': '1000',\n  'training_type': 'TrainFull',\n  'acquisition_function': 'EI',\n  'primary_metric': 'accuracy',\n  'train_split': '0',\n  'acquisition_parameter': '0',\n  'num_cross_validation': '5',\n  'target': 'aml',\n  'AMLSettingsJsonString': '{\"path\":null,\"name\":\"automl_run\",\"subscription_id\":\"9e65f93e-bdd8-437b-b1e8-0647cd6098f7\",\"resource_group\":\"aml-quickstarts-136864\",\"workspace_name\":\"quick-starts-ws-136864\",\"region\":\"southcentralus\",\"compute_target\":\"aml\",\"spark_service\":null,\"azure_service\":\"remote\",\"many_models\":false,\"pipeline_fetch_max_batch_size\":1,\"iterations\":1000,\"primary_metric\":\"accuracy\",\"task_type\":\"classification\",\"data_script\":null,\"validation_size\":0.0,\"n_cross_validations\":5,\"y_min\":null,\"y_max\":null,\"num_classes\":null,\"featurization\":\"auto\",\"_ignore_package_version_incompatibilities\":false,\"is_timeseries\":false,\"max_cores_per_iteration\":1,\"max_concurrent_iterations\":10,\"iteration_timeout_minutes\":null,\"mem_in_mb\":null,\"enforce_time_on_windows\":false,\"experiment_timeout_minutes\":15,\"experiment_exit_score\":null,\"whitelist_models\":null,\"blacklist_algos\":[\"TensorFlowLinearClassifier\",\"TensorFlowDNN\"],\"supported_models\":[\"BernoulliNaiveBayes\",\"SVM\",\"RandomForest\",\"KNN\",\"SGD\",\"XGBoostClassifier\",\"GradientBoosting\",\"TensorFlowDNN\",\"LightGBM\",\"TensorFlowLinearClassifier\",\"MultinomialNaiveBayes\",\"DecisionTree\",\"LinearSVM\",\"ExtremeRandomTrees\",\"AveragedPerceptronClassifier\",\"LogisticRegression\"],\"auto_blacklist\":true,\"blacklist_samples_reached\":false,\"exclude_nan_labels\":true,\"verbosity\":20,\"_debug_log\":\"azureml_automl.log\",\"show_warnings\":false,\"model_explainability\":true,\"service_url\":null,\"sdk_url\":null,\"sdk_packages\":null,\"enable_onnx_compatible_models\":false,\"enable_split_onnx_featurizer_estimator_models\":false,\"vm_type\":\"STANDARD_DS3_V2\",\"telemetry_verbosity\":20,\"send_telemetry\":true,\"enable_dnn\":false,\"scenario\":\"SDK-1.13.0\",\"environment_label\":null,\"force_text_dnn\":false,\"enable_feature_sweeping\":true,\"enable_early_stopping\":true,\"early_stopping_n_iters\":10,\"metrics\":null,\"enable_ensembling\":true,\"enable_stack_ensembling\":true,\"ensemble_iterations\":15,\"enable_tf\":false,\"enable_subsampling\":null,\"subsample_seed\":null,\"enable_nimbusml\":false,\"enable_streaming\":false,\"force_streaming\":false,\"track_child_runs\":true,\"allowed_private_models\":[],\"label_column_name\":\"DEATH_EVENT\",\"weight_column_name\":null,\"cv_split_column_names\":null,\"enable_local_managed\":false,\"_local_managed_run_id\":null,\"cost_mode\":1,\"lag_length\":0,\"metric_operation\":\"maximize\",\"preprocess\":true}',\n  'DataPrepJsonString': '{\\\\\"training_data\\\\\": \\\\\"{\\\\\\\\\\\\\"blocks\\\\\\\\\\\\\": [{\\\\\\\\\\\\\"id\\\\\\\\\\\\\": \\\\\\\\\\\\\"36b8ec57-6e30-475e-8428-1bd5c847f643\\\\\\\\\\\\\", \\\\\\\\\\\\\"type\\\\\\\\\\\\\": \\\\\\\\\\\\\"Microsoft.DPrep.GetFilesBlock\\\\\\\\\\\\\", \\\\\\\\\\\\\"arguments\\\\\\\\\\\\\": {\\\\\\\\\\\\\"isArchive\\\\\\\\\\\\\": false, \\\\\\\\\\\\\"path\\\\\\\\\\\\\": {\\\\\\\\\\\\\"target\\\\\\\\\\\\\": 4, \\\\\\\\\\\\\"resourceDetails\\\\\\\\\\\\\": [{\\\\\\\\\\\\\"path\\\\\\\\\\\\\": \\\\\\\\\\\\\"https://raw.githubusercontent.com/shat700/nd00333-capstone/master/starter_file/heart_failure_clinical_records_dataset.csv\\\\\\\\\\\\\"}]}}, \\\\\\\\\\\\\"localData\\\\\\\\\\\\\": {}, \\\\\\\\\\\\\"isEnabled\\\\\\\\\\\\\": true, \\\\\\\\\\\\\"name\\\\\\\\\\\\\": null, \\\\\\\\\\\\\"annotation\\\\\\\\\\\\\": null}, {\\\\\\\\\\\\\"id\\\\\\\\\\\\\": \\\\\\\\\\\\\"9879c12a-6ff1-4054-b0c3-ba920e455d96\\\\\\\\\\\\\", \\\\\\\\\\\\\"type\\\\\\\\\\\\\": \\\\\\\\\\\\\"Microsoft.DPrep.ParseDelimitedBlock\\\\\\\\\\\\\", \\\\\\\\\\\\\"arguments\\\\\\\\\\\\\": {\\\\\\\\\\\\\"columnHeadersMode\\\\\\\\\\\\\": 3, \\\\\\\\\\\\\"fileEncoding\\\\\\\\\\\\\": 0, \\\\\\\\\\\\\"handleQuotedLineBreaks\\\\\\\\\\\\\": false, \\\\\\\\\\\\\"preview\\\\\\\\\\\\\": false, \\\\\\\\\\\\\"separator\\\\\\\\\\\\\": \\\\\\\\\\\\\",\\\\\\\\\\\\\", \\\\\\\\\\\\\"skipRows\\\\\\\\\\\\\": 0, \\\\\\\\\\\\\"skipRowsMode\\\\\\\\\\\\\": 0}, \\\\\\\\\\\\\"localData\\\\\\\\\\\\\": {}, \\\\\\\\\\\\\"isEnabled\\\\\\\\\\\\\": true, \\\\\\\\\\\\\"name\\\\\\\\\\\\\": null, \\\\\\\\\\\\\"annotation\\\\\\\\\\\\\": null}, {\\\\\\\\\\\\\"id\\\\\\\\\\\\\": \\\\\\\\\\\\\"95757ab7-2e41-44c9-a362-7cd228017e27\\\\\\\\\\\\\", \\\\\\\\\\\\\"type\\\\\\\\\\\\\": \\\\\\\\\\\\\"Microsoft.DPrep.DropColumnsBlock\\\\\\\\\\\\\", \\\\\\\\\\\\\"arguments\\\\\\\\\\\\\": {\\\\\\\\\\\\\"columns\\\\\\\\\\\\\": {\\\\\\\\\\\\\"type\\\\\\\\\\\\\": 0, \\\\\\\\\\\\\"details\\\\\\\\\\\\\": {\\\\\\\\\\\\\"selectedColumns\\\\\\\\\\\\\": [\\\\\\\\\\\\\"Path\\\\\\\\\\\\\"]}}}, \\\\\\\\\\\\\"localData\\\\\\\\\\\\\": {}, \\\\\\\\\\\\\"isEnabled\\\\\\\\\\\\\": true, \\\\\\\\\\\\\"name\\\\\\\\\\\\\": null, \\\\\\\\\\\\\"annotation\\\\\\\\\\\\\": null}, {\\\\\\\\\\\\\"id\\\\\\\\\\\\\": \\\\\\\\\\\\\"8af3f1a5-a25f-4444-b882-134ea1d9ae94\\\\\\\\\\\\\", \\\\\\\\\\\\\"type\\\\\\\\\\\\\": \\\\\\\\\\\\\"Microsoft.DPrep.SetColumnTypesBlock\\\\\\\\\\\\\", \\\\\\\\\\\\\"arguments\\\\\\\\\\\\\": {\\\\\\\\\\\\\"columnConversion\\\\\\\\\\\\\": [{\\\\\\\\\\\\\"column\\\\\\\\\\\\\": {\\\\\\\\\\\\\"type\\\\\\\\\\\\\": 2, \\\\\\\\\\\\\"details\\\\\\\\\\\\\": {\\\\\\\\\\\\\"selectedColumn\\\\\\\\\\\\\": \\\\\\\\\\\\\"age\\\\\\\\\\\\\"}}, \\\\\\\\\\\\\"typeProperty\\\\\\\\\\\\\": 3}, {\\\\\\\\\\\\\"column\\\\\\\\\\\\\": {\\\\\\\\\\\\\"type\\\\\\\\\\\\\": 2, \\\\\\\\\\\\\"details\\\\\\\\\\\\\": {\\\\\\\\\\\\\"selectedColumn\\\\\\\\\\\\\": \\\\\\\\\\\\\"anaemia\\\\\\\\\\\\\"}}, \\\\\\\\\\\\\"typeProperty\\\\\\\\\\\\\": 2}, {\\\\\\\\\\\\\"column\\\\\\\\\\\\\": {\\\\\\\\\\\\\"type\\\\\\\\\\\\\": 2, \\\\\\\\\\\\\"details\\\\\\\\\\\\\": {\\\\\\\\\\\\\"selectedColumn\\\\\\\\\\\\\": \\\\\\\\\\\\\"creatinine_phosphokinase\\\\\\\\\\\\\"}}, \\\\\\\\\\\\\"typeProperty\\\\\\\\\\\\\": 2}, {\\\\\\\\\\\\\"column\\\\\\\\\\\\\": {\\\\\\\\\\\\\"type\\\\\\\\\\\\\": 2, \\\\\\\\\\\\\"details\\\\\\\\\\\\\": {\\\\\\\\\\\\\"selectedColumn\\\\\\\\\\\\\": \\\\\\\\\\\\\"diabetes\\\\\\\\\\\\\"}}, \\\\\\\\\\\\\"typeProperty\\\\\\\\\\\\\": 2}, {\\\\\\\\\\\\\"column\\\\\\\\\\\\\": {\\\\\\\\\\\\\"type\\\\\\\\\\\\\": 2, \\\\\\\\\\\\\"details\\\\\\\\\\\\\": {\\\\\\\\\\\\\"selectedColumn\\\\\\\\\\\\\": \\\\\\\\\\\\\"ejection_fraction\\\\\\\\\\\\\"}}, \\\\\\\\\\\\\"typeProperty\\\\\\\\\\\\\": 2}, {\\\\\\\\\\\\\"column\\\\\\\\\\\\\": {\\\\\\\\\\\\\"type\\\\\\\\\\\\\": 2, \\\\\\\\\\\\\"details\\\\\\\\\\\\\": {\\\\\\\\\\\\\"selectedColumn\\\\\\\\\\\\\": \\\\\\\\\\\\\"high_blood_pressure\\\\\\\\\\\\\"}}, \\\\\\\\\\\\\"typeProperty\\\\\\\\\\\\\": 2}, {\\\\\\\\\\\\\"column\\\\\\\\\\\\\": {\\\\\\\\\\\\\"type\\\\\\\\\\\\\": 2, \\\\\\\\\\\\\"details\\\\\\\\\\\\\": {\\\\\\\\\\\\\"selectedColumn\\\\\\\\\\\\\": \\\\\\\\\\\\\"platelets\\\\\\\\\\\\\"}}, \\\\\\\\\\\\\"typeProperty\\\\\\\\\\\\\": 3}, {\\\\\\\\\\\\\"column\\\\\\\\\\\\\": {\\\\\\\\\\\\\"type\\\\\\\\\\\\\": 2, \\\\\\\\\\\\\"details\\\\\\\\\\\\\": {\\\\\\\\\\\\\"selectedColumn\\\\\\\\\\\\\": \\\\\\\\\\\\\"serum_creatinine\\\\\\\\\\\\\"}}, \\\\\\\\\\\\\"typeProperty\\\\\\\\\\\\\": 3}, {\\\\\\\\\\\\\"column\\\\\\\\\\\\\": {\\\\\\\\\\\\\"type\\\\\\\\\\\\\": 2, \\\\\\\\\\\\\"details\\\\\\\\\\\\\": {\\\\\\\\\\\\\"selectedColumn\\\\\\\\\\\\\": \\\\\\\\\\\\\"serum_sodium\\\\\\\\\\\\\"}}, \\\\\\\\\\\\\"typeProperty\\\\\\\\\\\\\": 2}, {\\\\\\\\\\\\\"column\\\\\\\\\\\\\": {\\\\\\\\\\\\\"type\\\\\\\\\\\\\": 2, \\\\\\\\\\\\\"details\\\\\\\\\\\\\": {\\\\\\\\\\\\\"selectedColumn\\\\\\\\\\\\\": \\\\\\\\\\\\\"sex\\\\\\\\\\\\\"}}, \\\\\\\\\\\\\"typeProperty\\\\\\\\\\\\\": 2}, {\\\\\\\\\\\\\"column\\\\\\\\\\\\\": {\\\\\\\\\\\\\"type\\\\\\\\\\\\\": 2, \\\\\\\\\\\\\"details\\\\\\\\\\\\\": {\\\\\\\\\\\\\"selectedColumn\\\\\\\\\\\\\": \\\\\\\\\\\\\"smoking\\\\\\\\\\\\\"}}, \\\\\\\\\\\\\"typeProperty\\\\\\\\\\\\\": 2}, {\\\\\\\\\\\\\"column\\\\\\\\\\\\\": {\\\\\\\\\\\\\"type\\\\\\\\\\\\\": 2, \\\\\\\\\\\\\"details\\\\\\\\\\\\\": {\\\\\\\\\\\\\"selectedColumn\\\\\\\\\\\\\": \\\\\\\\\\\\\"time\\\\\\\\\\\\\"}}, \\\\\\\\\\\\\"typeProperty\\\\\\\\\\\\\": 2}, {\\\\\\\\\\\\\"column\\\\\\\\\\\\\": {\\\\\\\\\\\\\"type\\\\\\\\\\\\\": 2, \\\\\\\\\\\\\"details\\\\\\\\\\\\\": {\\\\\\\\\\\\\"selectedColumn\\\\\\\\\\\\\": \\\\\\\\\\\\\"DEATH_EVENT\\\\\\\\\\\\\"}}, \\\\\\\\\\\\\"typeProperty\\\\\\\\\\\\\": 2}]}, \\\\\\\\\\\\\"localData\\\\\\\\\\\\\": {}, \\\\\\\\\\\\\"isEnabled\\\\\\\\\\\\\": true, \\\\\\\\\\\\\"name\\\\\\\\\\\\\": null, \\\\\\\\\\\\\"annotation\\\\\\\\\\\\\": null}], \\\\\\\\\\\\\"inspectors\\\\\\\\\\\\\": [], \\\\\\\\\\\\\"meta\\\\\\\\\\\\\": {\\\\\\\\\\\\\"savedDatasetId\\\\\\\\\\\\\": \\\\\\\\\\\\\"4f86f5c2-ed09-48e3-9481-20bdeeff1b16\\\\\\\\\\\\\", \\\\\\\\\\\\\"datasetType\\\\\\\\\\\\\": \\\\\\\\\\\\\"tabular\\\\\\\\\\\\\", \\\\\\\\\\\\\"subscriptionId\\\\\\\\\\\\\": \\\\\\\\\\\\\"9e65f93e-bdd8-437b-b1e8-0647cd6098f7\\\\\\\\\\\\\", \\\\\\\\\\\\\"workspaceId\\\\\\\\\\\\\": \\\\\\\\\\\\\"76682fe0-73cb-4e60-abdf-64f8b3fd3cff\\\\\\\\\\\\\", \\\\\\\\\\\\\"workspaceLocation\\\\\\\\\\\\\": \\\\\\\\\\\\\"southcentralus\\\\\\\\\\\\\"}}\\\\\", \\\\\"activities\\\\\": 0}',\n  'EnableSubsampling': None,\n  'runTemplate': 'AutoML',\n  'azureml.runsource': 'automl',\n  'display_task_type': 'classification',\n  'dependencies_versions': '{\"azureml-widgets\": \"1.20.0\", \"azureml-train\": \"1.20.0\", \"azureml-train-restclients-hyperdrive\": \"1.20.0\", \"azureml-train-core\": \"1.20.0\", \"azureml-train-automl\": \"1.20.0\", \"azureml-train-automl-runtime\": \"1.20.0\", \"azureml-train-automl-client\": \"1.20.0\", \"azureml-tensorboard\": \"1.20.0\", \"azureml-telemetry\": \"1.20.0\", \"azureml-sdk\": \"1.20.0\", \"azureml-samples\": \"0+unknown\", \"azureml-pipeline\": \"1.20.0\", \"azureml-pipeline-steps\": \"1.20.0\", \"azureml-pipeline-core\": \"1.20.0\", \"azureml-opendatasets\": \"1.20.0\", \"azureml-model-management-sdk\": \"1.0.1b6.post1\", \"azureml-mlflow\": \"1.20.0.post1\", \"azureml-interpret\": \"1.20.0\", \"azureml-explain-model\": \"1.20.0\", \"azureml-defaults\": \"1.20.0\", \"azureml-dataset-runtime\": \"1.20.0\", \"azureml-dataprep\": \"2.7.3\", \"azureml-dataprep-rslex\": \"1.5.0\", \"azureml-dataprep-native\": \"27.0.0\", \"azureml-datadrift\": \"1.20.0\", \"azureml-core\": \"1.20.0\", \"azureml-contrib-services\": \"1.20.0\", \"azureml-contrib-server\": \"1.20.0\", \"azureml-contrib-reinforcementlearning\": \"1.20.0\", \"azureml-contrib-pipeline-steps\": \"1.20.0\", \"azureml-contrib-notebook\": \"1.20.0\", \"azureml-contrib-interpret\": \"1.20.0\", \"azureml-contrib-gbdt\": \"1.20.0\", \"azureml-contrib-fairness\": \"1.20.0\", \"azureml-contrib-dataset\": \"1.20.0\", \"azureml-cli-common\": \"1.20.0\", \"azureml-automl-runtime\": \"1.20.0\", \"azureml-automl-core\": \"1.20.0\", \"azureml-accel-models\": \"1.20.0\"}',\n  '_aml_system_scenario_identification': 'Remote.Parent',\n  'ClientType': 'SDK',\n  'environment_cpu_name': 'AzureML-AutoML',\n  'environment_cpu_label': 'prod',\n  'environment_gpu_name': 'AzureML-AutoML-GPU',\n  'environment_gpu_label': 'prod',\n  'root_attribution': 'automl',\n  'attribution': 'AutoML',\n  'Orchestrator': 'AutoML',\n  'CancelUri': 'https://southcentralus.experiments.azureml.net/jasmine/v1.0/subscriptions/9e65f93e-bdd8-437b-b1e8-0647cd6098f7/resourceGroups/aml-quickstarts-136864/providers/Microsoft.MachineLearningServices/workspaces/quick-starts-ws-136864/experimentids/d2ba8454-1ff0-4393-b0a0-c7209583c158/cancel/AutoML_0f220329-5b75-40ff-89b7-8d07762f5c6b',\n  'ClientSdkVersion': '1.20.0.post1',\n  'snapshotId': '00000000-0000-0000-0000-000000000000',\n  'SetupRunId': 'AutoML_0f220329-5b75-40ff-89b7-8d07762f5c6b_setup',\n  'SetupRunContainerId': 'dcid.AutoML_0f220329-5b75-40ff-89b7-8d07762f5c6b_setup',\n  'FeaturizationRunJsonPath': 'featurizer_container.json',\n  'FeaturizationRunId': 'AutoML_0f220329-5b75-40ff-89b7-8d07762f5c6b_featurize',\n  'ProblemInfoJsonString': '{\"dataset_num_categorical\": 0, \"is_sparse\": false, \"subsampling\": false, \"dataset_classes\": 2, \"dataset_features\": 12, \"dataset_samples\": 299, \"single_frequency_class_detected\": false}',\n  'ModelExplainRunId': 'AutoML_0f220329-5b75-40ff-89b7-8d07762f5c6b_ModelExplain'},\n 'inputDatasets': [{'dataset': {'id': '4f86f5c2-ed09-48e3-9481-20bdeeff1b16'}, 'consumptionDetails': {'type': 'RunInput', 'inputName': 'training_data', 'mechanism': 'Direct'}}],\n 'outputDatasets': [],\n 'logFiles': {},\n 'submittedBy': 'ODL_User 136864'}"
          },
          "metadata": {}
        }
      ],
      "execution_count": 39,
      "metadata": {
        "gather": {
          "logged": 1612216098429
        },
        "jupyter": {
          "outputs_hidden": false,
          "source_hidden": false
        },
        "nteract": {
          "transient": {
            "deleting": false
          }
        }
      }
    },
    {
      "cell_type": "markdown",
      "source": [
        "## Best Model\n",
        "\n",
        "TODO: In the cell below, get the best model from the automl experiments and display all the properties of the model.\n",
        "\n"
      ],
      "metadata": {}
    },
    {
      "cell_type": "code",
      "source": [
        "# Retrieve and save your best automl model.\r\n",
        "best_remote_run,best_automl_model=remote_run.get_output()\r\n",
        "best_run_metrics=remote_run.get_metrics()\r\n",
        "for primary_metric in best_run_metrics:\r\n",
        "    metric=best_run_metrics[primary_metric]\r\n",
        "    print(primary_metric,metric)\r\n"
      ],
      "outputs": [
        {
          "output_type": "stream",
          "name": "stdout",
          "text": [
            "experiment_status ['DatasetEvaluation', 'FeaturesGeneration', 'DatasetFeaturization', 'DatasetFeaturizationCompleted', 'DatasetCrossValidationSplit', 'ModelSelection']\n",
            "experiment_status_description ['Gathering dataset statistics.', 'Generating features for the dataset.', 'Beginning to fit featurizers and featurize the dataset.', 'Completed fit featurizers and featurizing the dataset.', 'Generating individually featurized CV splits.', 'Beginning model selection.']\n",
            "precision_score_macro 0.8919036703986553\n",
            "matthews_correlation 0.7347964692477312\n",
            "accuracy 0.8796610169491526\n",
            "average_precision_score_weighted 0.9342467697379819\n",
            "f1_score_micro 0.8796610169491526\n",
            "recall_score_micro 0.8796610169491526\n",
            "precision_score_micro 0.8796610169491526\n",
            "recall_score_macro 0.8466666666666667\n",
            "average_precision_score_micro 0.9243433616687071\n",
            "recall_score_weighted 0.8796610169491526\n",
            "AUC_macro 0.9234928479143596\n",
            "precision_score_weighted 0.8966259388449416\n",
            "AUC_micro 0.920981997510294\n",
            "AUC_weighted 0.9234928479143596\n",
            "log_loss 0.38084672492928073\n",
            "f1_score_weighted 0.8744137742963474\n",
            "average_precision_score_macro 0.9117680476280418\n",
            "weighted_accuracy 0.9017121064304477\n",
            "norm_macro_recall 0.6933333333333334\n",
            "f1_score_macro 0.8533586706251939\n",
            "balanced_accuracy 0.8466666666666667\n"
          ]
        }
      ],
      "execution_count": 7,
      "metadata": {
        "gather": {
          "logged": 1612204864945
        },
        "jupyter": {
          "outputs_hidden": false,
          "source_hidden": false
        },
        "nteract": {
          "transient": {
            "deleting": false
          }
        }
      }
    },
    {
      "cell_type": "code",
      "source": [
        "print(best_remote_run)\r\n",
        "best_remote_run"
      ],
      "outputs": [
        {
          "output_type": "stream",
          "name": "stdout",
          "text": [
            "Run(Experiment: automl_run,\n",
            "Id: AutoML_38cf6bb0-891a-465a-9ab4-7a90690e4a8f_48,\n",
            "Type: azureml.scriptrun,\n",
            "Status: Completed)\n"
          ]
        },
        {
          "output_type": "execute_result",
          "execution_count": 8,
          "data": {
            "text/plain": "Run(Experiment: automl_run,\nId: AutoML_38cf6bb0-891a-465a-9ab4-7a90690e4a8f_48,\nType: azureml.scriptrun,\nStatus: Completed)",
            "text/html": "<table style=\"width:100%\"><tr><th>Experiment</th><th>Id</th><th>Type</th><th>Status</th><th>Details Page</th><th>Docs Page</th></tr><tr><td>automl_run</td><td>AutoML_38cf6bb0-891a-465a-9ab4-7a90690e4a8f_48</td><td>azureml.scriptrun</td><td>Completed</td><td><a href=\"https://ml.azure.com/experiments/automl_run/runs/AutoML_38cf6bb0-891a-465a-9ab4-7a90690e4a8f_48?wsid=/subscriptions/9e65f93e-bdd8-437b-b1e8-0647cd6098f7/resourcegroups/aml-quickstarts-136864/workspaces/quick-starts-ws-136864\" target=\"_blank\" rel=\"noopener\">Link to Azure Machine Learning studio</a></td><td><a href=\"https://docs.microsoft.com/en-us/python/api/azureml-core/azureml.core.run.Run?view=azure-ml-py\" target=\"_blank\" rel=\"noopener\">Link to Documentation</a></td></tr></table>"
          },
          "metadata": {}
        }
      ],
      "execution_count": 8,
      "metadata": {
        "collapsed": true,
        "jupyter": {
          "source_hidden": false,
          "outputs_hidden": false
        },
        "nteract": {
          "transient": {
            "deleting": false
          }
        },
        "gather": {
          "logged": 1612204871342
        }
      }
    },
    {
      "cell_type": "code",
      "source": [
        "#TODO: Save the best model\r\n",
        "import pickle\r\n",
        "best_remote_run,best_automl_model=remote_run.get_output()\r\n",
        "#joblib.dump(value=best_automl_model,filename='automl_model.joblib')\r\n",
        "pkl_filename = \"automl_model.pkl\"\r\n",
        "with open(pkl_filename,'wb') as f:\r\n",
        "    pickle.dump(best_automl_model,f)"
      ],
      "outputs": [],
      "execution_count": 9,
      "metadata": {
        "gather": {
          "logged": 1612204880371
        },
        "jupyter": {
          "outputs_hidden": false,
          "source_hidden": false
        },
        "nteract": {
          "transient": {
            "deleting": false
          }
        }
      }
    },
    {
      "cell_type": "markdown",
      "source": [
        "## Model Deployment\n",
        "\n",
        "Remember you have to deploy only one of the two models you trained.. Perform the steps in the rest of this notebook only if you wish to deploy this model.\n",
        "\n",
        "TODO: In the cell below, register the model, create an inference config and deploy the model as a web service."
      ],
      "metadata": {}
    },
    {
      "cell_type": "code",
      "source": [
        "from azureml.core.model import Model\r\n",
        "# Register model\r\n",
        "model = Model.register(workspace = ws,\r\n",
        "                        model_name = \"Heart_failure_prediction\",\r\n",
        "                        model_path = \"./automl_model.pkl\",\r\n",
        "                        description = \"Best AutoML Model\",)\r\n",
        "\r\n"
      ],
      "outputs": [
        {
          "output_type": "stream",
          "name": "stdout",
          "text": [
            "Registering model Heart_failure_prediction\n"
          ]
        }
      ],
      "execution_count": 19,
      "metadata": {
        "gather": {
          "logged": 1612209526609
        },
        "jupyter": {
          "outputs_hidden": false,
          "source_hidden": false
        },
        "nteract": {
          "transient": {
            "deleting": false
          }
        }
      }
    },
    {
      "cell_type": "code",
      "source": [
        "from azureml.core.model import InferenceConfig\r\n",
        "from azureml.core.webservice import AciWebservice\r\n",
        "from azureml.core.environment import Environment\r\n",
        "from azureml.core.conda_dependencies import CondaDependencies\r\n",
        "\r\n",
        "\r\n",
        "#defining an inference configuration\r\n",
        "service_name = 'heart-failure-automl'\r\n",
        "\r\n",
        "#setting up a curated environment\r\n",
        "env = Environment.get(ws, name=\"AzureML-AutoML\")\r\n",
        "\r\n",
        "#combining scoring script and environment in inference configuration\r\n",
        "inference_config = InferenceConfig(entry_script='scoring.py', environment=env)\r\n",
        "\r\n",
        "#deploy the model as a webservice\r\n",
        "from azureml.core.webservice import LocalWebservice, Webservice\r\n",
        "\r\n",
        "#set deployment configuration\r\n",
        "local_deployment_config = LocalWebservice.deploy_configuration(port=8000)\r\n",
        "service = Model.deploy(ws, \"heart-failure-automl\", [model], inference_config, local_deployment_config)\r\n",
        "\r\n",
        "print(service.state)\r\n",
        "\r\n",
        "aci_config = AciWebservice.deploy_configuration(cpu_cores=1, memory_gb=1, enable_app_insights=True, auth_enabled=True) #service.update\r\n",
        "\r\n",
        "service = Model.deploy(workspace=ws,\r\n",
        "                        name='heart-failure-automl',\r\n",
        "                        models=[model],\r\n",
        "                        inference_config=inference_config,\r\n",
        "                        deployment_config=aci_config,\r\n",
        "                        overwrite=True)\r\n",
        "service.wait_for_deployment(show_output=True)"
      ],
      "outputs": [
        {
          "output_type": "stream",
          "name": "stdout",
          "text": [
            "Downloading model Heart_failure_prediction:4 to /tmp/azureml_iw4ql7xk/Heart_failure_prediction/4\n",
            "Generating Docker build context.\n",
            "Package creation Succeeded\n",
            "Logging into Docker registry viennaglobal.azurecr.io\n",
            "Logging into Docker registry viennaglobal.azurecr.io\n",
            "Building Docker image from Dockerfile...\n",
            "Step 1/5 : FROM viennaglobal.azurecr.io/azureml/azureml_1eed3e6a679bbc599bfa3e074a25301a\n",
            " ---> 59311b131e1a\n",
            "Step 2/5 : COPY azureml-app /var/azureml-app\n",
            " ---> cd6c78bf9fa6\n",
            "Step 3/5 : RUN mkdir -p '/var/azureml-app' && echo eyJhY2NvdW50Q29udGV4dCI6eyJzdWJzY3JpcHRpb25JZCI6IjllNjVmOTNlLWJkZDgtNDM3Yi1iMWU4LTA2NDdjZDYwOThmNyIsInJlc291cmNlR3JvdXBOYW1lIjoiYW1sLXF1aWNrc3RhcnRzLTEzNjg2NCIsImFjY291bnROYW1lIjoicXVpY2stc3RhcnRzLXdzLTEzNjg2NCIsIndvcmtzcGFjZUlkIjoiNzY2ODJmZTAtNzNjYi00ZTYwLWFiZGYtNjRmOGIzZmQzY2ZmIn0sIm1vZGVscyI6e30sIm1vZGVsc0luZm8iOnt9fQ== | base64 --decode > /var/azureml-app/model_config_map.json\n",
            " ---> Running in eab66a1a3bb7\n",
            " ---> c3a0cc5a42a8\n",
            "Step 4/5 : RUN mv '/var/azureml-app/tmp0efpdz2b.py' /var/azureml-app/main.py\n",
            " ---> Running in bdea1706e6b0\n",
            " ---> 9e5a2c528ce1\n",
            "Step 5/5 : CMD [\"runsvdir\",\"/var/runit\"]\n",
            " ---> Running in b2b2daaecad6\n",
            " ---> ac5849f60f07\n",
            "Successfully built ac5849f60f07\n",
            "Successfully tagged heart-failure-automl:latest\n",
            "Container has been successfully cleaned up.\n",
            "Image sha256:f815848956b2b9305b0b17775b82404828ec3174e3587c6105fb1c5e1f18fb59 successfully removed.\n",
            "Starting Docker container...\n",
            "Docker container running.\n",
            "deploying\n",
            "Tips: You can try get_logs(): https://aka.ms/debugimage#dockerlog or local deployment: https://aka.ms/debugimage#debug-locally to debug if deployment takes longer than 10 minutes.\n",
            "Running...\n",
            "Succeeded\n",
            "ACI service creation operation finished, operation \"Succeeded\"\n"
          ]
        }
      ],
      "execution_count": 20,
      "metadata": {
        "collapsed": true,
        "jupyter": {
          "source_hidden": false,
          "outputs_hidden": false
        },
        "nteract": {
          "transient": {
            "deleting": false
          }
        },
        "gather": {
          "logged": 1612209580271
        }
      }
    },
    {
      "cell_type": "code",
      "source": [
        "#retrieve deployed model uri\r\n",
        "print(service.scoring_uri)\r\n",
        "print(service.swagger_uri)"
      ],
      "outputs": [
        {
          "output_type": "stream",
          "name": "stdout",
          "text": [
            "http://ac14b7f8-f99d-4b75-bb8e-29ab4ef49d18.southcentralus.azurecontainer.io/score\n",
            "http://ac14b7f8-f99d-4b75-bb8e-29ab4ef49d18.southcentralus.azurecontainer.io/swagger.json\n"
          ]
        }
      ],
      "execution_count": 21,
      "metadata": {
        "collapsed": true,
        "jupyter": {
          "source_hidden": false,
          "outputs_hidden": false
        },
        "nteract": {
          "transient": {
            "deleting": false
          }
        },
        "gather": {
          "logged": 1612209643202
        }
      }
    },
    {
      "cell_type": "code",
      "source": [
        "#retrive primary key\r\n",
        "primary, secondary= service.get_keys()\r\n",
        "print(primary)"
      ],
      "outputs": [
        {
          "output_type": "stream",
          "name": "stdout",
          "text": [
            "ZgM26zFtLnWajfIKct6220cdKa4Vn9XL\n"
          ]
        }
      ],
      "execution_count": 22,
      "metadata": {
        "collapsed": true,
        "jupyter": {
          "source_hidden": false,
          "outputs_hidden": false
        },
        "nteract": {
          "transient": {
            "deleting": false
          }
        },
        "gather": {
          "logged": 1612209645333
        }
      }
    },
    {
      "cell_type": "markdown",
      "source": [
        "TODO: In the cell below, send a request to the web service you deployed to test it."
      ],
      "metadata": {
        "collapsed": true,
        "gather": {
          "logged": 1598431657736
        },
        "jupyter": {
          "outputs_hidden": false,
          "source_hidden": false
        },
        "nteract": {
          "transient": {
            "deleting": false
          }
        }
      }
    },
    {
      "cell_type": "code",
      "source": [
        "#Testing of the deployed webservice\r\n",
        "import requests\r\n",
        "import json\r\n",
        "import pandas as pd\r\n",
        "import numpy as np\r\n",
        "\r\n",
        "# URL for the web service\r\n",
        "scoring_uri = service.scoring_uri\r\n",
        "# If the service is authenticated, set the key or token\r\n",
        "key = primary\r\n",
        "\r\n",
        "# Two sets of data to score, so we get two results back\r\n",
        "data = {\"data\":\r\n",
        "        [\r\n",
        "            {\r\n",
        "               \"age\":55,\r\n",
        "               \"anaemia\":0,\r\n",
        "               \"creatinine_phosphokinase\":7861,\r\n",
        "               \"diabetes\":0,\r\n",
        "               \"ejection_fraction\":38,\r\n",
        "               \"high_blood_pressure\":0,\r\n",
        "               \"platelets\":263358.03,\r\n",
        "               \"serum_creatinine\":1.1,\r\n",
        "               \"serum_sodium\":136,\r\n",
        "               \"sex\":1,\r\n",
        "               \"smoking\":0,\r\n",
        "               \"time\":6\r\n",
        "               },\r\n",
        "            {\r\n",
        "               \"age\":60,\r\n",
        "               \"anaemia\":0,\r\n",
        "               \"creatinine_phosphokinase\":68,\r\n",
        "               \"diabetes\":0,\r\n",
        "               \"ejection_fraction\":20,\r\n",
        "               \"high_blood_pressure\":0,\r\n",
        "               \"platelets\":119000,\r\n",
        "               \"serum_creatinine\":2.9,\r\n",
        "               \"serum_sodium\":127,\r\n",
        "               \"sex\":1,\r\n",
        "               \"smoking\":1,\r\n",
        "               \"time\":64\r\n",
        "                }\r\n",
        "        ]\r\n",
        "        }\r\n",
        "# data = {\"data\":\r\n",
        "#         [\r\n",
        "#             [55, 0, 7861, 0, 38, 0, 263358.03, 1.1, 136, 1, 0, 6],\r\n",
        "#             [60, 0, 68, 0, 20, 0, 119000, 2.9, 127, 1, 1, 64]\r\n",
        "               \r\n",
        "#         ]\r\n",
        "#         }\r\n",
        "\r\n",
        "#d=pd.DataFrame(data)\r\n",
        "#d=d.to_dict()\r\n",
        "# Convert to JSON string\r\n",
        "input_data = json.dumps(data)\r\n",
        "\r\n",
        "# Set the content type\r\n",
        "headers = {'Content-Type': 'application/json'}\r\n",
        "# If authentication is enabled, set the authorization header\r\n",
        "headers['Authorization'] = f'Bearer {primary}'\r\n",
        "\r\n",
        "# Make the request and display the response\r\n",
        "resp = requests.post(scoring_uri, input_data, headers=headers)\r\n",
        "print(resp.text)"
      ],
      "outputs": [
        {
          "output_type": "stream",
          "name": "stdout",
          "text": [
            "\"{\\\"result\\\": [1, 1]}\"\n"
          ]
        }
      ],
      "execution_count": 29,
      "metadata": {
        "gather": {
          "logged": 1612214240524
        },
        "jupyter": {
          "outputs_hidden": false,
          "source_hidden": false
        },
        "nteract": {
          "transient": {
            "deleting": false
          }
        }
      }
    },
    {
      "cell_type": "markdown",
      "source": [
        "TODO: In the cell below, print the logs of the web service and delete the service"
      ],
      "metadata": {
        "collapsed": true,
        "gather": {
          "logged": 1598432765711
        },
        "jupyter": {
          "outputs_hidden": false,
          "source_hidden": false
        },
        "nteract": {
          "transient": {
            "deleting": false
          }
        }
      }
    },
    {
      "cell_type": "code",
      "source": [
        "#logs of the webservice\r\n",
        "logs=service.get_logs()\r\n",
        "print(logs)"
      ],
      "outputs": [
        {
          "output_type": "stream",
          "name": "stdout",
          "text": [
            "2021-02-01T19:59:34,197401681+00:00 - gunicorn/run \n",
            "2021-02-01T19:59:34,197964078+00:00 - nginx/run \n",
            "/usr/sbin/nginx: /azureml-envs/azureml_7ade26eb614f97df8030bc480da59236/lib/libcrypto.so.1.0.0: no version information available (required by /usr/sbin/nginx)\n",
            "/usr/sbin/nginx: /azureml-envs/azureml_7ade26eb614f97df8030bc480da59236/lib/libcrypto.so.1.0.0: no version information available (required by /usr/sbin/nginx)\n",
            "/usr/sbin/nginx: /azureml-envs/azureml_7ade26eb614f97df8030bc480da59236/lib/libssl.so.1.0.0: no version information available (required by /usr/sbin/nginx)\n",
            "/usr/sbin/nginx: /azureml-envs/azureml_7ade26eb614f97df8030bc480da59236/lib/libssl.so.1.0.0: no version information available (required by /usr/sbin/nginx)\n",
            "/usr/sbin/nginx: /azureml-envs/azureml_7ade26eb614f97df8030bc480da59236/lib/libssl.so.1.0.0: no version information available (required by /usr/sbin/nginx)\n",
            "2021-02-01T19:59:34,198301277+00:00 - iot-server/run \n",
            "2021-02-01T19:59:34,204170650+00:00 - rsyslog/run \n",
            "rsyslogd: /azureml-envs/azureml_7ade26eb614f97df8030bc480da59236/lib/libuuid.so.1: no version information available (required by rsyslogd)\n",
            "EdgeHubConnectionString and IOTEDGE_IOTHUBHOSTNAME are not set. Exiting...\n",
            "2021-02-01T19:59:34,328102193+00:00 - iot-server/finish 1 0\n",
            "2021-02-01T19:59:34,329339888+00:00 - Exit code 1 is normal. Not restarting iot-server.\n",
            "Starting gunicorn 19.9.0\n",
            "Listening at: http://127.0.0.1:31311 (15)\n",
            "Using worker: sync\n",
            "worker timeout is set to 300\n",
            "Booting worker with pid: 43\n",
            "SPARK_HOME not set. Skipping PySpark Initialization.\n",
            "Generating new fontManager, this may take some time...\n",
            "Initializing logger\n",
            "2021-02-01 19:59:35,396 | root | INFO | Starting up app insights client\n",
            "2021-02-01 19:59:35,396 | root | INFO | Starting up request id generator\n",
            "2021-02-01 19:59:35,396 | root | INFO | Starting up app insight hooks\n",
            "2021-02-01 19:59:35,396 | root | INFO | Invoking user's init function\n",
            "2021-02-01 19:59:37,549 | root | INFO | Users's init has completed successfully\n",
            "2021-02-01 19:59:37,624 | root | INFO | Skipping middleware: dbg_model_info as it's not enabled.\n",
            "2021-02-01 19:59:37,624 | root | INFO | Skipping middleware: dbg_resource_usage as it's not enabled.\n",
            "2021-02-01 19:59:37,625 | root | INFO | Scoring timeout is found from os.environ: 60000 ms\n",
            "2021-02-01 19:59:39,079 | root | INFO | Swagger file not present\n",
            "2021-02-01 19:59:39,079 | root | INFO | 404\n",
            "127.0.0.1 - - [01/Feb/2021:19:59:39 +0000] \"GET /swagger.json HTTP/1.0\" 404 19 \"-\" \"Go-http-client/1.1\"\n",
            "2021-02-01 19:59:39,964 | root | INFO | Swagger file not present\n",
            "2021-02-01 19:59:39,964 | root | INFO | 404\n",
            "127.0.0.1 - - [01/Feb/2021:19:59:39 +0000] \"GET /swagger.json HTTP/1.0\" 404 19 \"-\" \"Go-http-client/1.1\"\n",
            "2021-02-01 20:01:36,272 | root | INFO | Validation Request Content-Type\n",
            "2021-02-01 20:01:36,273 | root | INFO | Scoring Timer is set to 60.0 seconds\n",
            "Traceback (most recent call last):\n",
            "  File \"/var/azureml-app/scoring.py\", line 19, in run\n",
            "    result = model.predict(data)\n",
            "  File \"/azureml-envs/azureml_7ade26eb614f97df8030bc480da59236/lib/python3.6/site-packages/sklearn/utils/metaestimators.py\", line 116, in <lambda>\n",
            "    out = lambda *args, **kwargs: self.fn(obj, *args, **kwargs)\n",
            "  File \"/azureml-envs/azureml_7ade26eb614f97df8030bc480da59236/lib/python3.6/site-packages/sklearn/pipeline.py\", line 419, in predict\n",
            "    Xt = transform.transform(Xt)\n",
            "  File \"/azureml-envs/azureml_7ade26eb614f97df8030bc480da59236/lib/python3.6/site-packages/azureml/automl/core/shared/logging_utilities.py\", line 301, in debug_log_wrapped\n",
            "    r = f(self, *args, **kwargs)\n",
            "  File \"/azureml-envs/azureml_7ade26eb614f97df8030bc480da59236/lib/python3.6/site-packages/azureml/automl/runtime/featurization/data_transformer.py\", line 408, in transform\n",
            "    df, self._columns_types_mapping\n",
            "  File \"/azureml-envs/azureml_7ade26eb614f97df8030bc480da59236/lib/python3.6/site-packages/azureml/automl/runtime/featurization/data_transformer.py\", line 699, in _check_columns_names_and_convert_types\n",
            "    reference_code=ReferenceCodes._DATA_TRANSFORMER_TRANSFROM_COLUMN_NOT_FOUND,\n",
            "azureml.automl.core.shared.exceptions.DataException: DataException:\n",
            "\tMessage: Expected column(s) 0 not found in fitted data.\n",
            "\tInnerException: None\n",
            "\tErrorResponse \n",
            "{\n",
            "    \"error\": {\n",
            "        \"code\": \"UserError\",\n",
            "        \"message\": \"Expected column(s) 0 not found in fitted data.\",\n",
            "        \"target\": \"X\",\n",
            "        \"inner_error\": {\n",
            "            \"code\": \"BadArgument\",\n",
            "            \"inner_error\": {\n",
            "                \"code\": \"MissingColumnsInData\"\n",
            "            }\n",
            "        },\n",
            "        \"reference_code\": \"17049f70-3bbe-4060-a63f-f06590e784e5\"\n",
            "    }\n",
            "}\n",
            "2021-02-01 20:01:36,278 | root | INFO | 200\n",
            "127.0.0.1 - - [01/Feb/2021:20:01:36 +0000] \"POST /score HTTP/1.0\" 200 630 \"-\" \"python-requests/2.25.1\"\n",
            "2021-02-01 20:05:13,675 | root | INFO | Validation Request Content-Type\n",
            "2021-02-01 20:05:13,676 | root | INFO | Scoring Timer is set to 60.0 seconds\n",
            "2021-02-01 20:05:13,743 | root | INFO | 200\n",
            "127.0.0.1 - - [01/Feb/2021:20:05:13 +0000] \"POST /score HTTP/1.0\" 200 22 \"-\" \"python-requests/2.25.1\"\n",
            "2021-02-01 20:25:34,240 | root | INFO | Validation Request Content-Type\n",
            "2021-02-01 20:25:34,240 | root | INFO | Scoring Timer is set to 60.0 seconds\n",
            "2021-02-01 20:25:34,300 | root | INFO | 200\n",
            "127.0.0.1 - - [01/Feb/2021:20:25:34 +0000] \"POST /score HTTP/1.0\" 200 22 \"-\" \"python-requests/2.25.1\"\n",
            "2021-02-01 21:17:20,322 | root | INFO | Validation Request Content-Type\n",
            "2021-02-01 21:17:20,322 | root | INFO | Scoring Timer is set to 60.0 seconds\n",
            "2021-02-01 21:17:20,378 | root | INFO | 200\n",
            "127.0.0.1 - - [01/Feb/2021:21:17:20 +0000] \"POST /score HTTP/1.0\" 200 22 \"-\" \"python-requests/2.25.1\"\n",
            "\n"
          ]
        }
      ],
      "execution_count": 30,
      "metadata": {
        "jupyter": {
          "outputs_hidden": false,
          "source_hidden": false
        },
        "nteract": {
          "transient": {
            "deleting": false
          }
        },
        "gather": {
          "logged": 1612214250192
        }
      }
    },
    {
      "cell_type": "code",
      "source": [
        "#delete the deployed webservice\r\n",
        "service.delete()"
      ],
      "outputs": [],
      "execution_count": null,
      "metadata": {
        "collapsed": true,
        "jupyter": {
          "source_hidden": false,
          "outputs_hidden": false
        },
        "nteract": {
          "transient": {
            "deleting": false
          }
        }
      }
    }
  ],
  "metadata": {
    "kernel_info": {
      "name": "python3"
    },
    "kernelspec": {
      "name": "python3",
      "language": "python",
      "display_name": "Python 3"
    },
    "language_info": {
      "name": "python",
      "version": "3.6.9",
      "mimetype": "text/x-python",
      "codemirror_mode": {
        "name": "ipython",
        "version": 3
      },
      "pygments_lexer": "ipython3",
      "nbconvert_exporter": "python",
      "file_extension": ".py"
    },
    "nteract": {
      "version": "nteract-front-end@1.0.0"
    }
  },
  "nbformat": 4,
  "nbformat_minor": 2
}