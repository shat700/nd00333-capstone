{
  "cells": [
    {
      "cell_type": "markdown",
      "source": [
        "# Automated ML\n",
        "\n",
        "TODO: Import Dependencies. In the cell below, import all the dependencies that you will need to complete the project."
      ],
      "metadata": {}
    },
    {
      "cell_type": "code",
      "source": [
        "import os\r\n",
        "import joblib\r\n",
        "from azureml.core import Workspace, Experiment\r\n",
        "from azureml.data.dataset_factory import TabularDatasetFactory\r\n",
        "from azureml.core.compute import ComputeTarget, AmlCompute\r\n",
        "from azureml.train.automl import AutoMLConfig\r\n",
        "\r\n",
        "from matplotlib import pyplot as plt\r\n",
        "import numpy as np\r\n",
        "import pandas as pd\r\n",
        "\r\n",
        "ws = Workspace.from_config()\r\n",
        "print(ws.name, ws.resource_group, ws.location, ws.subscription_id, sep = '\\n')"
      ],
      "outputs": [
        {
          "output_type": "stream",
          "name": "stdout",
          "text": [
            "quick-starts-ws-136632\n",
            "aml-quickstarts-136632\n",
            "southcentralus\n",
            "3e42d11f-d64d-4173-af9b-12ecaa1030b3\n"
          ]
        }
      ],
      "execution_count": 1,
      "metadata": {
        "gather": {
          "logged": 1612035994023
        },
        "jupyter": {
          "outputs_hidden": false,
          "source_hidden": false
        },
        "nteract": {
          "transient": {
            "deleting": false
          }
        }
      }
    },
    {
      "cell_type": "markdown",
      "source": [
        "## Dataset\n",
        "\n",
        "### Overview\n",
        "TODO: In this markdown cell, give an overview of the dataset you are using. Also mention the task you will be performing.\n",
        "\n",
        "\n",
        "TODO: Get data. In the cell below, write code to access the data you will be using in this project. Remember that the dataset needs to be external."
      ],
      "metadata": {}
    },
    {
      "cell_type": "code",
      "source": [
        "#create compute cluster\r\n",
        "amlcompute_cluster_name=\"aml\"\r\n",
        "\r\n",
        "#verify that cluster does not already exist\r\n",
        "try:\r\n",
        "    aml_compute=ComputeTarget(workspace=ws, name=amlcompute_cluster_name)\r\n",
        "    print('Found existing cluster, use it.')\r\n",
        "except ComputeTargetException:\r\n",
        "    compute_config=AmlCompute.provisioning_configuration(vm_size=\"Standard_D3_V2\",max_nodes=4)\r\n",
        "    aml_compute=ComputeTarget.create(ws,amlcompute_cluster_name,compute_config)\r\n",
        "\r\n",
        "aml_compute.wait_for_completion(show_output=True)"
      ],
      "outputs": [
        {
          "output_type": "stream",
          "name": "stdout",
          "text": [
            "Found existing cluster, use it.\n",
            "\n",
            "Running\n"
          ]
        }
      ],
      "execution_count": 2,
      "metadata": {
        "collapsed": true,
        "jupyter": {
          "source_hidden": false,
          "outputs_hidden": false
        },
        "nteract": {
          "transient": {
            "deleting": false
          }
        },
        "gather": {
          "logged": 1612036009508
        }
      }
    },
    {
      "cell_type": "code",
      "source": [
        "# Create TabularDataset using TabularDatasetFactory\n",
        "# Data is available at: \n",
        "auto_ds_path=\"https://raw.githubusercontent.com/shat700/nd00333-capstone/master/starter_file/heart_failure_clinical_records_dataset.csv\"\n",
        "ds=TabularDatasetFactory.from_delimited_files(path=auto_ds_path)\n",
        "\n",
        "#preview data\n",
        "df = ds.to_pandas_dataframe()\n",
        "df.describe()\n",
        "\n"
      ],
      "outputs": [
        {
          "output_type": "execute_result",
          "execution_count": 4,
          "data": {
            "text/plain": "              age     anaemia  creatinine_phosphokinase    diabetes  \\\ncount  299.000000  299.000000                299.000000  299.000000   \nmean    60.833893    0.431438                581.839465    0.418060   \nstd     11.894809    0.496107                970.287881    0.494067   \nmin     40.000000    0.000000                 23.000000    0.000000   \n25%     51.000000    0.000000                116.500000    0.000000   \n50%     60.000000    0.000000                250.000000    0.000000   \n75%     70.000000    1.000000                582.000000    1.000000   \nmax     95.000000    1.000000               7861.000000    1.000000   \n\n       ejection_fraction  high_blood_pressure      platelets  \\\ncount         299.000000           299.000000     299.000000   \nmean           38.083612             0.351171  263358.029264   \nstd            11.834841             0.478136   97804.236869   \nmin            14.000000             0.000000   25100.000000   \n25%            30.000000             0.000000  212500.000000   \n50%            38.000000             0.000000  262000.000000   \n75%            45.000000             1.000000  303500.000000   \nmax            80.000000             1.000000  850000.000000   \n\n       serum_creatinine  serum_sodium         sex    smoking        time  \\\ncount         299.00000    299.000000  299.000000  299.00000  299.000000   \nmean            1.39388    136.625418    0.648829    0.32107  130.260870   \nstd             1.03451      4.412477    0.478136    0.46767   77.614208   \nmin             0.50000    113.000000    0.000000    0.00000    4.000000   \n25%             0.90000    134.000000    0.000000    0.00000   73.000000   \n50%             1.10000    137.000000    1.000000    0.00000  115.000000   \n75%             1.40000    140.000000    1.000000    1.00000  203.000000   \nmax             9.40000    148.000000    1.000000    1.00000  285.000000   \n\n       DEATH_EVENT  \ncount    299.00000  \nmean       0.32107  \nstd        0.46767  \nmin        0.00000  \n25%        0.00000  \n50%        0.00000  \n75%        1.00000  \nmax        1.00000  ",
            "text/html": "<div>\n<style scoped>\n    .dataframe tbody tr th:only-of-type {\n        vertical-align: middle;\n    }\n\n    .dataframe tbody tr th {\n        vertical-align: top;\n    }\n\n    .dataframe thead th {\n        text-align: right;\n    }\n</style>\n<table border=\"1\" class=\"dataframe\">\n  <thead>\n    <tr style=\"text-align: right;\">\n      <th></th>\n      <th>age</th>\n      <th>anaemia</th>\n      <th>creatinine_phosphokinase</th>\n      <th>diabetes</th>\n      <th>ejection_fraction</th>\n      <th>high_blood_pressure</th>\n      <th>platelets</th>\n      <th>serum_creatinine</th>\n      <th>serum_sodium</th>\n      <th>sex</th>\n      <th>smoking</th>\n      <th>time</th>\n      <th>DEATH_EVENT</th>\n    </tr>\n  </thead>\n  <tbody>\n    <tr>\n      <th>count</th>\n      <td>299.000000</td>\n      <td>299.000000</td>\n      <td>299.000000</td>\n      <td>299.000000</td>\n      <td>299.000000</td>\n      <td>299.000000</td>\n      <td>299.000000</td>\n      <td>299.00000</td>\n      <td>299.000000</td>\n      <td>299.000000</td>\n      <td>299.00000</td>\n      <td>299.000000</td>\n      <td>299.00000</td>\n    </tr>\n    <tr>\n      <th>mean</th>\n      <td>60.833893</td>\n      <td>0.431438</td>\n      <td>581.839465</td>\n      <td>0.418060</td>\n      <td>38.083612</td>\n      <td>0.351171</td>\n      <td>263358.029264</td>\n      <td>1.39388</td>\n      <td>136.625418</td>\n      <td>0.648829</td>\n      <td>0.32107</td>\n      <td>130.260870</td>\n      <td>0.32107</td>\n    </tr>\n    <tr>\n      <th>std</th>\n      <td>11.894809</td>\n      <td>0.496107</td>\n      <td>970.287881</td>\n      <td>0.494067</td>\n      <td>11.834841</td>\n      <td>0.478136</td>\n      <td>97804.236869</td>\n      <td>1.03451</td>\n      <td>4.412477</td>\n      <td>0.478136</td>\n      <td>0.46767</td>\n      <td>77.614208</td>\n      <td>0.46767</td>\n    </tr>\n    <tr>\n      <th>min</th>\n      <td>40.000000</td>\n      <td>0.000000</td>\n      <td>23.000000</td>\n      <td>0.000000</td>\n      <td>14.000000</td>\n      <td>0.000000</td>\n      <td>25100.000000</td>\n      <td>0.50000</td>\n      <td>113.000000</td>\n      <td>0.000000</td>\n      <td>0.00000</td>\n      <td>4.000000</td>\n      <td>0.00000</td>\n    </tr>\n    <tr>\n      <th>25%</th>\n      <td>51.000000</td>\n      <td>0.000000</td>\n      <td>116.500000</td>\n      <td>0.000000</td>\n      <td>30.000000</td>\n      <td>0.000000</td>\n      <td>212500.000000</td>\n      <td>0.90000</td>\n      <td>134.000000</td>\n      <td>0.000000</td>\n      <td>0.00000</td>\n      <td>73.000000</td>\n      <td>0.00000</td>\n    </tr>\n    <tr>\n      <th>50%</th>\n      <td>60.000000</td>\n      <td>0.000000</td>\n      <td>250.000000</td>\n      <td>0.000000</td>\n      <td>38.000000</td>\n      <td>0.000000</td>\n      <td>262000.000000</td>\n      <td>1.10000</td>\n      <td>137.000000</td>\n      <td>1.000000</td>\n      <td>0.00000</td>\n      <td>115.000000</td>\n      <td>0.00000</td>\n    </tr>\n    <tr>\n      <th>75%</th>\n      <td>70.000000</td>\n      <td>1.000000</td>\n      <td>582.000000</td>\n      <td>1.000000</td>\n      <td>45.000000</td>\n      <td>1.000000</td>\n      <td>303500.000000</td>\n      <td>1.40000</td>\n      <td>140.000000</td>\n      <td>1.000000</td>\n      <td>1.00000</td>\n      <td>203.000000</td>\n      <td>1.00000</td>\n    </tr>\n    <tr>\n      <th>max</th>\n      <td>95.000000</td>\n      <td>1.000000</td>\n      <td>7861.000000</td>\n      <td>1.000000</td>\n      <td>80.000000</td>\n      <td>1.000000</td>\n      <td>850000.000000</td>\n      <td>9.40000</td>\n      <td>148.000000</td>\n      <td>1.000000</td>\n      <td>1.00000</td>\n      <td>285.000000</td>\n      <td>1.00000</td>\n    </tr>\n  </tbody>\n</table>\n</div>"
          },
          "metadata": {}
        }
      ],
      "execution_count": 4,
      "metadata": {
        "gather": {
          "logged": 1612036051484
        },
        "jupyter": {
          "outputs_hidden": false,
          "source_hidden": false
        },
        "nteract": {
          "transient": {
            "deleting": false
          }
        }
      }
    },
    {
      "cell_type": "markdown",
      "source": [
        "## AutoML Configuration\n",
        "\n",
        "TODO: Explain why you chose the automl settings and cofiguration you used below."
      ],
      "metadata": {}
    },
    {
      "cell_type": "code",
      "source": [
        "import logging\n",
        "import time\n",
        "\n",
        "# TODO: Put your automl settings here\n",
        "automl_settings = {\n",
        "    \"n_cross_validations\":5,\n",
        "    \"primary_metric\":'accuracy',\n",
        "    \"enable_early_stopping\":True,\n",
        "    \"experiment_timeout_minutes\":15,\n",
        "    \"max_concurrent_iterations\":10,\n",
        "   }\n",
        "\n",
        "# TODO: Put your automl config here\n",
        "automl_config = AutoMLConfig(\n",
        "    task='classification',\n",
        "    compute_target='aml',\n",
        "    training_data=ds,\n",
        "    label_column_name='DEATH_EVENT',\n",
        "    **automl_settings\n",
        "    )"
      ],
      "outputs": [],
      "execution_count": 5,
      "metadata": {
        "gather": {
          "logged": 1612036068237
        },
        "jupyter": {
          "outputs_hidden": false,
          "source_hidden": false
        },
        "nteract": {
          "transient": {
            "deleting": false
          }
        }
      }
    },
    {
      "cell_type": "code",
      "source": [
        "from azureml.core.experiment import Experiment\n",
        "# choose a name for experiment\n",
        "experiment_name = 'automl_run'\n",
        "experiment=Experiment(ws, experiment_name)\n",
        "\n",
        "# TODO: Submit your experiment\n",
        "remote_run = experiment.submit(automl_config, show_output=True)"
      ],
      "outputs": [
        {
          "output_type": "stream",
          "name": "stdout",
          "text": [
            "Running on remote.\n",
            "No run_configuration provided, running on aml with default configuration\n",
            "Running on remote compute: aml\n",
            "Parent Run ID: AutoML_34d655ee-2bb3-4124-8b77-e299307e3205\n",
            "\n",
            "Current status: FeaturesGeneration. Generating features for the dataset.\n",
            "Current status: DatasetCrossValidationSplit. Generating individually featurized CV splits.\n",
            "Current status: ModelSelection. Beginning model selection.\n",
            "\n",
            "****************************************************************************************************\n",
            "DATA GUARDRAILS: \n",
            "\n",
            "TYPE:         Class balancing detection\n",
            "STATUS:       PASSED\n",
            "DESCRIPTION:  Your inputs were analyzed, and all classes are balanced in your training data.\n",
            "              Learn more about imbalanced data: https://aka.ms/AutomatedMLImbalancedData\n",
            "\n",
            "****************************************************************************************************\n",
            "\n",
            "TYPE:         Missing feature values imputation\n",
            "STATUS:       PASSED\n",
            "DESCRIPTION:  No feature missing values were detected in the training data.\n",
            "              Learn more about missing value imputation: https://aka.ms/AutomatedMLFeaturization\n",
            "\n",
            "****************************************************************************************************\n",
            "\n",
            "TYPE:         High cardinality feature detection\n",
            "STATUS:       PASSED\n",
            "DESCRIPTION:  Your inputs were analyzed, and no high cardinality features were detected.\n",
            "              Learn more about high cardinality feature handling: https://aka.ms/AutomatedMLFeaturization\n",
            "\n",
            "****************************************************************************************************\n",
            "\n",
            "****************************************************************************************************\n",
            "ITERATION: The iteration being evaluated.\n",
            "PIPELINE: A summary description of the pipeline being evaluated.\n",
            "DURATION: Time taken for the current iteration.\n",
            "METRIC: The result of computing score on the fitted pipeline.\n",
            "BEST: The best observed score thus far.\n",
            "****************************************************************************************************\n",
            "\n",
            " ITERATION   PIPELINE                                       DURATION      METRIC      BEST\n",
            "         1   MaxAbsScaler XGBoostClassifier                 0:00:55       0.8259    0.8259\n",
            "         2   MinMaxScaler RandomForest                      0:00:58       0.8327    0.8327\n",
            "         3   MinMaxScaler RandomForest                      0:00:58       0.8360    0.8360\n",
            "         5   StandardScalerWrapper KNN                      0:01:01       0.7059    0.8360\n",
            "         6   StandardScalerWrapper XGBoostClassifier        0:01:00       0.8393    0.8393\n",
            "         8   TruncatedSVDWrapper XGBoostClassifier          0:00:54       0.8126    0.8393\n",
            "         0   MaxAbsScaler LightGBM                          0:01:00       0.8060    0.8393\n",
            "         4   MinMaxScaler RandomForest                      0:01:04       0.8326    0.8393\n",
            "         7   StandardScalerWrapper LightGBM                 0:00:51       0.8426    0.8426\n",
            "        10   SparseNormalizer XGBoostClassifier             0:00:48       0.8328    0.8426\n",
            "        11   StandardScalerWrapper LightGBM                 0:00:49       0.8360    0.8426\n",
            "        12   StandardScalerWrapper LightGBM                 0:00:49       0.8093    0.8426\n",
            "        15   SparseNormalizer LightGBM                      0:00:49       0.8330    0.8426\n",
            "         9   StandardScalerWrapper XGBoostClassifier        0:00:59       0.8259    0.8426\n",
            "        13   StandardScalerWrapper RandomForest             0:00:49       0.8428    0.8428\n",
            "        14   SparseNormalizer XGBoostClassifier             0:00:55       0.8294    0.8428\n",
            "        17   MaxAbsScaler GradientBoosting                  0:01:00       0.8327    0.8428\n",
            "        18   SparseNormalizer XGBoostClassifier             0:00:55       0.8496    0.8496\n",
            "        16   SparseNormalizer XGBoostClassifier             0:01:00       0.8630    0.8630\n",
            "        19   MaxAbsScaler GradientBoosting                  0:01:01       0.8160    0.8630\n",
            "        20   RobustScaler GradientBoosting                  0:00:52       0.8393    0.8630\n",
            "        21   StandardScalerWrapper LightGBM                 0:00:52       0.8326    0.8630\n",
            "        23   SparseNormalizer XGBoostClassifier             0:00:50       0.8529    0.8630\n",
            "        22   MaxAbsScaler LightGBM                          0:01:04       0.8227    0.8630\n",
            "        24   RobustScaler LightGBM                          0:00:56       0.8392    0.8630\n",
            "        25   MinMaxScaler RandomForest                      0:01:01       0.8226    0.8630\n",
            "        26   MinMaxScaler LightGBM                          0:00:52       0.7725    0.8630\n",
            "        27   StandardScalerWrapper LightGBM                 0:00:56       0.8025    0.8630\n",
            "        28   RobustScaler LightGBM                          0:00:46       0.8126    0.8630\n",
            "        29   StandardScalerWrapper LightGBM                 0:01:07       0.8326    0.8630\n",
            "        30   SparseNormalizer XGBoostClassifier             0:01:06       0.6791    0.8630\n",
            "        31   StandardScalerWrapper LightGBM                 0:01:03       0.7894    0.8630\n",
            "        32   StandardScalerWrapper RandomForest             0:01:02       0.8360    0.8630\n",
            "        33   SparseNormalizer XGBoostClassifier             0:01:02       0.8429    0.8630\n",
            "        34   StandardScalerWrapper XGBoostClassifier        0:00:58       0.8227    0.8630\n",
            "        35   PCA XGBoostClassifier                          0:00:51       0.6791    0.8630\n",
            "        37   SparseNormalizer XGBoostClassifier             0:01:06       0.8328    0.8630\n",
            "        36   SparseNormalizer XGBoostClassifier             0:01:04       0.8563    0.8630\n",
            "        38   MinMaxScaler LightGBM                          0:01:03       0.8194    0.8630\n",
            "        39   SparseNormalizer XGBoostClassifier             0:00:54       0.8295    0.8630\n",
            "        40   StandardScalerWrapper XGBoostClassifier        0:00:43       0.7928    0.8630\n",
            "        41   SparseNormalizer XGBoostClassifier             0:00:45       0.8162    0.8630\n",
            "        42   SparseNormalizer XGBoostClassifier             0:00:30       0.7993    0.8630\n",
            "        43   SparseNormalizer XGBoostClassifier             0:00:31       0.8396    0.8630\n",
            "        44                                                  0:00:39          nan    0.8630\n",
            "        45                                                  0:00:23          nan    0.8630\n",
            "        46                                                  0:00:22          nan    0.8630\n",
            "        47                                                  0:00:03          nan    0.8630\n",
            "ERROR: {\n",
            "    \"additional_properties\": {},\n",
            "    \"error\": {\n",
            "        \"additional_properties\": {\n",
            "            \"debugInfo\": null\n",
            "        },\n",
            "        \"code\": \"UserError\",\n",
            "        \"severity\": null,\n",
            "        \"message\": \"AzureMLCompute job AutoML_34d655ee-2bb3-4124-8b77-e299307e3205_47 does not exist.\",\n",
            "        \"message_format\": \"{Component} job {RunId} does not exist.\",\n",
            "        \"message_parameters\": {\n",
            "            \"Component\": \"AzureMLCompute\",\n",
            "            \"RunId\": \"AutoML_34d655ee-2bb3-4124-8b77-e299307e3205_47\"\n",
            "        },\n",
            "        \"reference_code\": null,\n",
            "        \"details_uri\": null,\n",
            "        \"target\": \"CancelUnderlyingJob\",\n",
            "        \"details\": [],\n",
            "        \"inner_error\": {\n",
            "            \"additional_properties\": {},\n",
            "            \"code\": \"BadArgument\",\n",
            "            \"inner_error\": {\n",
            "                \"additional_properties\": {},\n",
            "                \"code\": \"JobNotFound\",\n",
            "                \"inner_error\": null\n",
            "            }\n",
            "        }\n",
            "    },\n",
            "    \"correlation\": {\n",
            "        \"operation\": null,\n",
            "        \"request\": \"577c7b46df9d993c\"\n",
            "    },\n",
            "    \"environment\": \"southcentralus\",\n",
            "    \"location\": \"southcentralus\",\n",
            "    \"time\": {},\n",
            "    \"component_name\": \"execution-worker\"\n",
            "}\n",
            "        48    VotingEnsemble                                0:01:36       0.8864    0.8864\n",
            "        49    StackEnsemble                                 0:01:42       0.8697    0.8864\n"
          ]
        }
      ],
      "execution_count": 6,
      "metadata": {
        "gather": {
          "logged": 1612036929902
        },
        "jupyter": {
          "outputs_hidden": false,
          "source_hidden": false
        },
        "nteract": {
          "transient": {
            "deleting": false
          }
        }
      }
    },
    {
      "cell_type": "markdown",
      "source": [
        "## Run Details\n",
        "\n",
        "OPTIONAL: Write about the different models trained and their performance. Why do you think some models did better than others?\n",
        "\n",
        "TODO: In the cell below, use the `RunDetails` widget to show the different experiments."
      ],
      "metadata": {}
    },
    {
      "cell_type": "code",
      "source": [
        "from azureml.widgets import RunDetails\r\n",
        "RunDetails(remote_run).show()"
      ],
      "outputs": [
        {
          "output_type": "display_data",
          "data": {
            "text/plain": "_AutoMLWidget(widget_settings={'childWidgetDisplay': 'popup', 'send_telemetry': False, 'log_level': 'INFO', 's…",
            "application/vnd.jupyter.widget-view+json": {
              "version_major": 2,
              "version_minor": 0,
              "model_id": "1077d57b50694f6891b5ba7c0c13c3a9"
            }
          },
          "metadata": {}
        },
        {
          "output_type": "display_data",
          "data": {
            "application/aml.mini.widget.v1": "{\"status\": \"Completed\", \"workbench_run_details_uri\": \"https://ml.azure.com/experiments/automl_run/runs/AutoML_34d655ee-2bb3-4124-8b77-e299307e3205?wsid=/subscriptions/3e42d11f-d64d-4173-af9b-12ecaa1030b3/resourcegroups/aml-quickstarts-136632/workspaces/quick-starts-ws-136632\", \"run_id\": \"AutoML_34d655ee-2bb3-4124-8b77-e299307e3205\", \"run_properties\": {\"run_id\": \"AutoML_34d655ee-2bb3-4124-8b77-e299307e3205\", \"created_utc\": \"2021-01-30T19:48:16.021282Z\", \"properties\": {\"num_iterations\": \"1000\", \"training_type\": \"TrainFull\", \"acquisition_function\": \"EI\", \"primary_metric\": \"accuracy\", \"train_split\": \"0\", \"acquisition_parameter\": \"0\", \"num_cross_validation\": \"5\", \"target\": \"aml\", \"AMLSettingsJsonString\": \"{\\\"path\\\":null,\\\"name\\\":\\\"automl_run\\\",\\\"subscription_id\\\":\\\"3e42d11f-d64d-4173-af9b-12ecaa1030b3\\\",\\\"resource_group\\\":\\\"aml-quickstarts-136632\\\",\\\"workspace_name\\\":\\\"quick-starts-ws-136632\\\",\\\"region\\\":\\\"southcentralus\\\",\\\"compute_target\\\":\\\"aml\\\",\\\"spark_service\\\":null,\\\"azure_service\\\":\\\"remote\\\",\\\"many_models\\\":false,\\\"pipeline_fetch_max_batch_size\\\":1,\\\"iterations\\\":1000,\\\"primary_metric\\\":\\\"accuracy\\\",\\\"task_type\\\":\\\"classification\\\",\\\"data_script\\\":null,\\\"validation_size\\\":0.0,\\\"n_cross_validations\\\":5,\\\"y_min\\\":null,\\\"y_max\\\":null,\\\"num_classes\\\":null,\\\"featurization\\\":\\\"auto\\\",\\\"_ignore_package_version_incompatibilities\\\":false,\\\"is_timeseries\\\":false,\\\"max_cores_per_iteration\\\":1,\\\"max_concurrent_iterations\\\":10,\\\"iteration_timeout_minutes\\\":null,\\\"mem_in_mb\\\":null,\\\"enforce_time_on_windows\\\":false,\\\"experiment_timeout_minutes\\\":15,\\\"experiment_exit_score\\\":null,\\\"whitelist_models\\\":null,\\\"blacklist_algos\\\":[\\\"TensorFlowLinearClassifier\\\",\\\"TensorFlowDNN\\\"],\\\"supported_models\\\":[\\\"AveragedPerceptronClassifier\\\",\\\"LinearSVM\\\",\\\"RandomForest\\\",\\\"LogisticRegression\\\",\\\"DecisionTree\\\",\\\"LightGBM\\\",\\\"XGBoostClassifier\\\",\\\"TensorFlowDNN\\\",\\\"TensorFlowLinearClassifier\\\",\\\"SGD\\\",\\\"SVM\\\",\\\"MultinomialNaiveBayes\\\",\\\"ExtremeRandomTrees\\\",\\\"KNN\\\",\\\"GradientBoosting\\\",\\\"BernoulliNaiveBayes\\\"],\\\"auto_blacklist\\\":true,\\\"blacklist_samples_reached\\\":false,\\\"exclude_nan_labels\\\":true,\\\"verbosity\\\":20,\\\"_debug_log\\\":\\\"azureml_automl.log\\\",\\\"show_warnings\\\":false,\\\"model_explainability\\\":true,\\\"service_url\\\":null,\\\"sdk_url\\\":null,\\\"sdk_packages\\\":null,\\\"enable_onnx_compatible_models\\\":false,\\\"enable_split_onnx_featurizer_estimator_models\\\":false,\\\"vm_type\\\":\\\"STANDARD_DS3_V2\\\",\\\"telemetry_verbosity\\\":20,\\\"send_telemetry\\\":true,\\\"enable_dnn\\\":false,\\\"scenario\\\":\\\"SDK-1.13.0\\\",\\\"environment_label\\\":null,\\\"force_text_dnn\\\":false,\\\"enable_feature_sweeping\\\":true,\\\"enable_early_stopping\\\":true,\\\"early_stopping_n_iters\\\":10,\\\"metrics\\\":null,\\\"enable_ensembling\\\":true,\\\"enable_stack_ensembling\\\":true,\\\"ensemble_iterations\\\":15,\\\"enable_tf\\\":false,\\\"enable_subsampling\\\":null,\\\"subsample_seed\\\":null,\\\"enable_nimbusml\\\":false,\\\"enable_streaming\\\":false,\\\"force_streaming\\\":false,\\\"track_child_runs\\\":true,\\\"allowed_private_models\\\":[],\\\"label_column_name\\\":\\\"DEATH_EVENT\\\",\\\"weight_column_name\\\":null,\\\"cv_split_column_names\\\":null,\\\"enable_local_managed\\\":false,\\\"_local_managed_run_id\\\":null,\\\"cost_mode\\\":1,\\\"lag_length\\\":0,\\\"metric_operation\\\":\\\"maximize\\\",\\\"preprocess\\\":true}\", \"DataPrepJsonString\": \"{\\\\\\\"training_data\\\\\\\": \\\\\\\"{\\\\\\\\\\\\\\\"blocks\\\\\\\\\\\\\\\": [{\\\\\\\\\\\\\\\"id\\\\\\\\\\\\\\\": \\\\\\\\\\\\\\\"2cf9a895-595a-42c8-8399-489d547e750d\\\\\\\\\\\\\\\", \\\\\\\\\\\\\\\"type\\\\\\\\\\\\\\\": \\\\\\\\\\\\\\\"Microsoft.DPrep.GetFilesBlock\\\\\\\\\\\\\\\", \\\\\\\\\\\\\\\"arguments\\\\\\\\\\\\\\\": {\\\\\\\\\\\\\\\"isArchive\\\\\\\\\\\\\\\": false, \\\\\\\\\\\\\\\"path\\\\\\\\\\\\\\\": {\\\\\\\\\\\\\\\"target\\\\\\\\\\\\\\\": 4, \\\\\\\\\\\\\\\"resourceDetails\\\\\\\\\\\\\\\": [{\\\\\\\\\\\\\\\"path\\\\\\\\\\\\\\\": \\\\\\\\\\\\\\\"https://raw.githubusercontent.com/shat700/nd00333-capstone/master/starter_file/heart_failure_clinical_records_dataset.csv\\\\\\\\\\\\\\\"}]}}, \\\\\\\\\\\\\\\"localData\\\\\\\\\\\\\\\": {}, \\\\\\\\\\\\\\\"isEnabled\\\\\\\\\\\\\\\": true, \\\\\\\\\\\\\\\"name\\\\\\\\\\\\\\\": null, \\\\\\\\\\\\\\\"annotation\\\\\\\\\\\\\\\": null}, {\\\\\\\\\\\\\\\"id\\\\\\\\\\\\\\\": \\\\\\\\\\\\\\\"6099385e-24ad-49e0-95f4-555e87a10368\\\\\\\\\\\\\\\", \\\\\\\\\\\\\\\"type\\\\\\\\\\\\\\\": \\\\\\\\\\\\\\\"Microsoft.DPrep.ParseDelimitedBlock\\\\\\\\\\\\\\\", \\\\\\\\\\\\\\\"arguments\\\\\\\\\\\\\\\": {\\\\\\\\\\\\\\\"columnHeadersMode\\\\\\\\\\\\\\\": 3, \\\\\\\\\\\\\\\"fileEncoding\\\\\\\\\\\\\\\": 0, \\\\\\\\\\\\\\\"handleQuotedLineBreaks\\\\\\\\\\\\\\\": false, \\\\\\\\\\\\\\\"preview\\\\\\\\\\\\\\\": false, \\\\\\\\\\\\\\\"separator\\\\\\\\\\\\\\\": \\\\\\\\\\\\\\\",\\\\\\\\\\\\\\\", \\\\\\\\\\\\\\\"skipRows\\\\\\\\\\\\\\\": 0, \\\\\\\\\\\\\\\"skipRowsMode\\\\\\\\\\\\\\\": 0}, \\\\\\\\\\\\\\\"localData\\\\\\\\\\\\\\\": {}, \\\\\\\\\\\\\\\"isEnabled\\\\\\\\\\\\\\\": true, \\\\\\\\\\\\\\\"name\\\\\\\\\\\\\\\": null, \\\\\\\\\\\\\\\"annotation\\\\\\\\\\\\\\\": null}, {\\\\\\\\\\\\\\\"id\\\\\\\\\\\\\\\": \\\\\\\\\\\\\\\"d5dd0ff4-d662-4ddf-b8c2-97430c423b7b\\\\\\\\\\\\\\\", \\\\\\\\\\\\\\\"type\\\\\\\\\\\\\\\": \\\\\\\\\\\\\\\"Microsoft.DPrep.DropColumnsBlock\\\\\\\\\\\\\\\", \\\\\\\\\\\\\\\"arguments\\\\\\\\\\\\\\\": {\\\\\\\\\\\\\\\"columns\\\\\\\\\\\\\\\": {\\\\\\\\\\\\\\\"type\\\\\\\\\\\\\\\": 0, \\\\\\\\\\\\\\\"details\\\\\\\\\\\\\\\": {\\\\\\\\\\\\\\\"selectedColumns\\\\\\\\\\\\\\\": [\\\\\\\\\\\\\\\"Path\\\\\\\\\\\\\\\"]}}}, \\\\\\\\\\\\\\\"localData\\\\\\\\\\\\\\\": {}, \\\\\\\\\\\\\\\"isEnabled\\\\\\\\\\\\\\\": true, \\\\\\\\\\\\\\\"name\\\\\\\\\\\\\\\": null, \\\\\\\\\\\\\\\"annotation\\\\\\\\\\\\\\\": null}, {\\\\\\\\\\\\\\\"id\\\\\\\\\\\\\\\": \\\\\\\\\\\\\\\"f2b758ef-b20d-45e5-b811-74c1e6f1be35\\\\\\\\\\\\\\\", \\\\\\\\\\\\\\\"type\\\\\\\\\\\\\\\": \\\\\\\\\\\\\\\"Microsoft.DPrep.SetColumnTypesBlock\\\\\\\\\\\\\\\", \\\\\\\\\\\\\\\"arguments\\\\\\\\\\\\\\\": {\\\\\\\\\\\\\\\"columnConversion\\\\\\\\\\\\\\\": [{\\\\\\\\\\\\\\\"column\\\\\\\\\\\\\\\": {\\\\\\\\\\\\\\\"type\\\\\\\\\\\\\\\": 2, \\\\\\\\\\\\\\\"details\\\\\\\\\\\\\\\": {\\\\\\\\\\\\\\\"selectedColumn\\\\\\\\\\\\\\\": \\\\\\\\\\\\\\\"age\\\\\\\\\\\\\\\"}}, \\\\\\\\\\\\\\\"typeProperty\\\\\\\\\\\\\\\": 3}, {\\\\\\\\\\\\\\\"column\\\\\\\\\\\\\\\": {\\\\\\\\\\\\\\\"type\\\\\\\\\\\\\\\": 2, \\\\\\\\\\\\\\\"details\\\\\\\\\\\\\\\": {\\\\\\\\\\\\\\\"selectedColumn\\\\\\\\\\\\\\\": \\\\\\\\\\\\\\\"anaemia\\\\\\\\\\\\\\\"}}, \\\\\\\\\\\\\\\"typeProperty\\\\\\\\\\\\\\\": 2}, {\\\\\\\\\\\\\\\"column\\\\\\\\\\\\\\\": {\\\\\\\\\\\\\\\"type\\\\\\\\\\\\\\\": 2, \\\\\\\\\\\\\\\"details\\\\\\\\\\\\\\\": {\\\\\\\\\\\\\\\"selectedColumn\\\\\\\\\\\\\\\": \\\\\\\\\\\\\\\"creatinine_phosphokinase\\\\\\\\\\\\\\\"}}, \\\\\\\\\\\\\\\"typeProperty\\\\\\\\\\\\\\\": 2}, {\\\\\\\\\\\\\\\"column\\\\\\\\\\\\\\\": {\\\\\\\\\\\\\\\"type\\\\\\\\\\\\\\\": 2, \\\\\\\\\\\\\\\"details\\\\\\\\\\\\\\\": {\\\\\\\\\\\\\\\"selectedColumn\\\\\\\\\\\\\\\": \\\\\\\\\\\\\\\"diabetes\\\\\\\\\\\\\\\"}}, \\\\\\\\\\\\\\\"typeProperty\\\\\\\\\\\\\\\": 2}, {\\\\\\\\\\\\\\\"column\\\\\\\\\\\\\\\": {\\\\\\\\\\\\\\\"type\\\\\\\\\\\\\\\": 2, \\\\\\\\\\\\\\\"details\\\\\\\\\\\\\\\": {\\\\\\\\\\\\\\\"selectedColumn\\\\\\\\\\\\\\\": \\\\\\\\\\\\\\\"ejection_fraction\\\\\\\\\\\\\\\"}}, \\\\\\\\\\\\\\\"typeProperty\\\\\\\\\\\\\\\": 2}, {\\\\\\\\\\\\\\\"column\\\\\\\\\\\\\\\": {\\\\\\\\\\\\\\\"type\\\\\\\\\\\\\\\": 2, \\\\\\\\\\\\\\\"details\\\\\\\\\\\\\\\": {\\\\\\\\\\\\\\\"selectedColumn\\\\\\\\\\\\\\\": \\\\\\\\\\\\\\\"high_blood_pressure\\\\\\\\\\\\\\\"}}, \\\\\\\\\\\\\\\"typeProperty\\\\\\\\\\\\\\\": 2}, {\\\\\\\\\\\\\\\"column\\\\\\\\\\\\\\\": {\\\\\\\\\\\\\\\"type\\\\\\\\\\\\\\\": 2, \\\\\\\\\\\\\\\"details\\\\\\\\\\\\\\\": {\\\\\\\\\\\\\\\"selectedColumn\\\\\\\\\\\\\\\": \\\\\\\\\\\\\\\"platelets\\\\\\\\\\\\\\\"}}, \\\\\\\\\\\\\\\"typeProperty\\\\\\\\\\\\\\\": 3}, {\\\\\\\\\\\\\\\"column\\\\\\\\\\\\\\\": {\\\\\\\\\\\\\\\"type\\\\\\\\\\\\\\\": 2, \\\\\\\\\\\\\\\"details\\\\\\\\\\\\\\\": {\\\\\\\\\\\\\\\"selectedColumn\\\\\\\\\\\\\\\": \\\\\\\\\\\\\\\"serum_creatinine\\\\\\\\\\\\\\\"}}, \\\\\\\\\\\\\\\"typeProperty\\\\\\\\\\\\\\\": 3}, {\\\\\\\\\\\\\\\"column\\\\\\\\\\\\\\\": {\\\\\\\\\\\\\\\"type\\\\\\\\\\\\\\\": 2, \\\\\\\\\\\\\\\"details\\\\\\\\\\\\\\\": {\\\\\\\\\\\\\\\"selectedColumn\\\\\\\\\\\\\\\": \\\\\\\\\\\\\\\"serum_sodium\\\\\\\\\\\\\\\"}}, \\\\\\\\\\\\\\\"typeProperty\\\\\\\\\\\\\\\": 2}, {\\\\\\\\\\\\\\\"column\\\\\\\\\\\\\\\": {\\\\\\\\\\\\\\\"type\\\\\\\\\\\\\\\": 2, \\\\\\\\\\\\\\\"details\\\\\\\\\\\\\\\": {\\\\\\\\\\\\\\\"selectedColumn\\\\\\\\\\\\\\\": \\\\\\\\\\\\\\\"sex\\\\\\\\\\\\\\\"}}, \\\\\\\\\\\\\\\"typeProperty\\\\\\\\\\\\\\\": 2}, {\\\\\\\\\\\\\\\"column\\\\\\\\\\\\\\\": {\\\\\\\\\\\\\\\"type\\\\\\\\\\\\\\\": 2, \\\\\\\\\\\\\\\"details\\\\\\\\\\\\\\\": {\\\\\\\\\\\\\\\"selectedColumn\\\\\\\\\\\\\\\": \\\\\\\\\\\\\\\"smoking\\\\\\\\\\\\\\\"}}, \\\\\\\\\\\\\\\"typeProperty\\\\\\\\\\\\\\\": 2}, {\\\\\\\\\\\\\\\"column\\\\\\\\\\\\\\\": {\\\\\\\\\\\\\\\"type\\\\\\\\\\\\\\\": 2, \\\\\\\\\\\\\\\"details\\\\\\\\\\\\\\\": {\\\\\\\\\\\\\\\"selectedColumn\\\\\\\\\\\\\\\": \\\\\\\\\\\\\\\"time\\\\\\\\\\\\\\\"}}, \\\\\\\\\\\\\\\"typeProperty\\\\\\\\\\\\\\\": 2}, {\\\\\\\\\\\\\\\"column\\\\\\\\\\\\\\\": {\\\\\\\\\\\\\\\"type\\\\\\\\\\\\\\\": 2, \\\\\\\\\\\\\\\"details\\\\\\\\\\\\\\\": {\\\\\\\\\\\\\\\"selectedColumn\\\\\\\\\\\\\\\": \\\\\\\\\\\\\\\"DEATH_EVENT\\\\\\\\\\\\\\\"}}, \\\\\\\\\\\\\\\"typeProperty\\\\\\\\\\\\\\\": 2}]}, \\\\\\\\\\\\\\\"localData\\\\\\\\\\\\\\\": {}, \\\\\\\\\\\\\\\"isEnabled\\\\\\\\\\\\\\\": true, \\\\\\\\\\\\\\\"name\\\\\\\\\\\\\\\": null, \\\\\\\\\\\\\\\"annotation\\\\\\\\\\\\\\\": null}], \\\\\\\\\\\\\\\"inspectors\\\\\\\\\\\\\\\": [], \\\\\\\\\\\\\\\"meta\\\\\\\\\\\\\\\": {\\\\\\\\\\\\\\\"savedDatasetId\\\\\\\\\\\\\\\": \\\\\\\\\\\\\\\"42bdb24d-bc86-45b9-b8c1-24e3dd3b3c75\\\\\\\\\\\\\\\", \\\\\\\\\\\\\\\"datasetType\\\\\\\\\\\\\\\": \\\\\\\\\\\\\\\"tabular\\\\\\\\\\\\\\\", \\\\\\\\\\\\\\\"subscriptionId\\\\\\\\\\\\\\\": \\\\\\\\\\\\\\\"3e42d11f-d64d-4173-af9b-12ecaa1030b3\\\\\\\\\\\\\\\", \\\\\\\\\\\\\\\"workspaceId\\\\\\\\\\\\\\\": \\\\\\\\\\\\\\\"b8976f21-e12f-403c-9c48-bfc3a1c613d4\\\\\\\\\\\\\\\", \\\\\\\\\\\\\\\"workspaceLocation\\\\\\\\\\\\\\\": \\\\\\\\\\\\\\\"southcentralus\\\\\\\\\\\\\\\"}}\\\\\\\", \\\\\\\"activities\\\\\\\": 0}\", \"EnableSubsampling\": null, \"runTemplate\": \"AutoML\", \"azureml.runsource\": \"automl\", \"display_task_type\": \"classification\", \"dependencies_versions\": \"{\\\"azureml-widgets\\\": \\\"1.20.0\\\", \\\"azureml-train\\\": \\\"1.20.0\\\", \\\"azureml-train-restclients-hyperdrive\\\": \\\"1.20.0\\\", \\\"azureml-train-core\\\": \\\"1.20.0\\\", \\\"azureml-train-automl\\\": \\\"1.20.0\\\", \\\"azureml-train-automl-runtime\\\": \\\"1.20.0\\\", \\\"azureml-train-automl-client\\\": \\\"1.20.0\\\", \\\"azureml-tensorboard\\\": \\\"1.20.0\\\", \\\"azureml-telemetry\\\": \\\"1.20.0\\\", \\\"azureml-sdk\\\": \\\"1.20.0\\\", \\\"azureml-samples\\\": \\\"0+unknown\\\", \\\"azureml-pipeline\\\": \\\"1.20.0\\\", \\\"azureml-pipeline-steps\\\": \\\"1.20.0\\\", \\\"azureml-pipeline-core\\\": \\\"1.20.0\\\", \\\"azureml-opendatasets\\\": \\\"1.20.0\\\", \\\"azureml-model-management-sdk\\\": \\\"1.0.1b6.post1\\\", \\\"azureml-mlflow\\\": \\\"1.20.0.post1\\\", \\\"azureml-interpret\\\": \\\"1.20.0\\\", \\\"azureml-explain-model\\\": \\\"1.20.0\\\", \\\"azureml-defaults\\\": \\\"1.20.0\\\", \\\"azureml-dataset-runtime\\\": \\\"1.20.0\\\", \\\"azureml-dataprep\\\": \\\"2.7.3\\\", \\\"azureml-dataprep-rslex\\\": \\\"1.5.0\\\", \\\"azureml-dataprep-native\\\": \\\"27.0.0\\\", \\\"azureml-datadrift\\\": \\\"1.20.0\\\", \\\"azureml-core\\\": \\\"1.20.0\\\", \\\"azureml-contrib-services\\\": \\\"1.20.0\\\", \\\"azureml-contrib-server\\\": \\\"1.20.0\\\", \\\"azureml-contrib-reinforcementlearning\\\": \\\"1.20.0\\\", \\\"azureml-contrib-pipeline-steps\\\": \\\"1.20.0\\\", \\\"azureml-contrib-notebook\\\": \\\"1.20.0\\\", \\\"azureml-contrib-interpret\\\": \\\"1.20.0\\\", \\\"azureml-contrib-gbdt\\\": \\\"1.20.0\\\", \\\"azureml-contrib-fairness\\\": \\\"1.20.0\\\", \\\"azureml-contrib-dataset\\\": \\\"1.20.0\\\", \\\"azureml-cli-common\\\": \\\"1.20.0\\\", \\\"azureml-automl-runtime\\\": \\\"1.20.0\\\", \\\"azureml-automl-core\\\": \\\"1.20.0\\\", \\\"azureml-accel-models\\\": \\\"1.20.0\\\"}\", \"_aml_system_scenario_identification\": \"Remote.Parent\", \"ClientType\": \"SDK\", \"environment_cpu_name\": \"AzureML-AutoML\", \"environment_cpu_label\": \"prod\", \"environment_gpu_name\": \"AzureML-AutoML-GPU\", \"environment_gpu_label\": \"prod\", \"root_attribution\": \"automl\", \"attribution\": \"AutoML\", \"Orchestrator\": \"AutoML\", \"CancelUri\": \"https://southcentralus.experiments.azureml.net/jasmine/v1.0/subscriptions/3e42d11f-d64d-4173-af9b-12ecaa1030b3/resourceGroups/aml-quickstarts-136632/providers/Microsoft.MachineLearningServices/workspaces/quick-starts-ws-136632/experimentids/2478ef29-9644-4167-bc2f-f8b3ec07016e/cancel/AutoML_34d655ee-2bb3-4124-8b77-e299307e3205\", \"ClientSdkVersion\": \"1.20.0.post1\", \"snapshotId\": \"00000000-0000-0000-0000-000000000000\", \"SetupRunId\": \"AutoML_34d655ee-2bb3-4124-8b77-e299307e3205_setup\", \"SetupRunContainerId\": \"dcid.AutoML_34d655ee-2bb3-4124-8b77-e299307e3205_setup\", \"FeaturizationRunJsonPath\": \"featurizer_container.json\", \"FeaturizationRunId\": \"AutoML_34d655ee-2bb3-4124-8b77-e299307e3205_featurize\", \"ProblemInfoJsonString\": \"{\\\"dataset_num_categorical\\\": 0, \\\"is_sparse\\\": false, \\\"subsampling\\\": false, \\\"dataset_classes\\\": 2, \\\"dataset_features\\\": 12, \\\"dataset_samples\\\": 299, \\\"single_frequency_class_detected\\\": false}\", \"ModelExplainRunId\": \"AutoML_34d655ee-2bb3-4124-8b77-e299307e3205_ModelExplain\"}, \"tags\": {\"model_explain_run\": \"best_run\", \"_aml_system_azureml.automlComponent\": \"AutoML\", \"pipeline_id\": \"\", \"score\": \"\", \"predicted_cost\": \"\", \"fit_time\": \"\", \"training_percent\": \"\", \"iteration\": \"\", \"run_preprocessor\": \"\", \"run_algorithm\": \"\", \"dynamic_whitelisting_iterations\": \"<25>;<30>;<35>;<40>;<44>;\", \"automl_best_child_run_id\": \"AutoML_34d655ee-2bb3-4124-8b77-e299307e3205_48\", \"model_explain_best_run_child_id\": \"AutoML_34d655ee-2bb3-4124-8b77-e299307e3205_48\"}, \"end_time_utc\": \"2021-01-30T20:01:27.356832Z\", \"status\": \"Completed\", \"log_files\": {}, \"log_groups\": [], \"run_duration\": \"0:13:11\"}, \"child_runs\": [{\"run_id\": \"AutoML_34d655ee-2bb3-4124-8b77-e299307e3205_0\", \"run_number\": 5, \"metric\": null, \"status\": \"Completed\", \"run_type\": \"azureml.scriptrun\", \"training_percent\": \"100\", \"start_time\": \"2021-01-30T19:53:32.997485Z\", \"end_time\": \"2021-01-30T19:54:32.73188Z\", \"created_time\": \"2021-01-30T19:53:18.858123Z\", \"created_time_dt\": \"2021-01-30T19:53:18.858123Z\", \"duration\": \"0:01:13\", \"iteration\": \"0\", \"goal\": \"accuracy_max\", \"run_name\": \"MaxAbsScaler, LightGBM\", \"run_properties\": \"copy=True\", \"primary_metric\": 0.8059887, \"best_metric\": 0.8059887}, {\"run_id\": \"AutoML_34d655ee-2bb3-4124-8b77-e299307e3205_3\", \"run_number\": 6, \"metric\": null, \"status\": \"Completed\", \"run_type\": \"azureml.scriptrun\", \"training_percent\": \"100\", \"start_time\": \"2021-01-30T19:53:31.952452Z\", \"end_time\": \"2021-01-30T19:54:29.868389Z\", \"created_time\": \"2021-01-30T19:53:18.885136Z\", \"created_time_dt\": \"2021-01-30T19:53:18.885136Z\", \"duration\": \"0:01:10\", \"iteration\": \"3\", \"goal\": \"accuracy_max\", \"run_name\": \"MinMaxScaler, RandomForest\", \"run_properties\": \"copy=True, feature_range=(0, 1\", \"primary_metric\": 0.8360452, \"best_metric\": 0.8360452}, {\"run_id\": \"AutoML_34d655ee-2bb3-4124-8b77-e299307e3205_1\", \"run_number\": 7, \"metric\": null, \"status\": \"Completed\", \"run_type\": \"azureml.scriptrun\", \"training_percent\": \"100\", \"start_time\": \"2021-01-30T19:53:30.611637Z\", \"end_time\": \"2021-01-30T19:54:25.443627Z\", \"created_time\": \"2021-01-30T19:53:18.891349Z\", \"created_time_dt\": \"2021-01-30T19:53:18.891349Z\", \"duration\": \"0:01:06\", \"iteration\": \"1\", \"goal\": \"accuracy_max\", \"run_name\": \"MaxAbsScaler, XGBoostClassifier\", \"run_properties\": \"copy=True\", \"primary_metric\": 0.8259322, \"best_metric\": 0.8259322}, {\"run_id\": \"AutoML_34d655ee-2bb3-4124-8b77-e299307e3205_5\", \"run_number\": 8, \"metric\": null, \"status\": \"Completed\", \"run_type\": \"azureml.scriptrun\", \"training_percent\": \"100\", \"start_time\": \"2021-01-30T19:53:31.184107Z\", \"end_time\": \"2021-01-30T19:54:32.078133Z\", \"created_time\": \"2021-01-30T19:53:18.904564Z\", \"created_time_dt\": \"2021-01-30T19:53:18.904564Z\", \"duration\": \"0:01:13\", \"iteration\": \"5\", \"goal\": \"accuracy_max\", \"run_name\": \"StandardScalerWrapper, KNN\", \"run_properties\": \"<azureml.automl.runtime.shared.model_wrappers.StandardScalerWrapper object at 0x7f5ec6870438\", \"primary_metric\": 0.7059322, \"best_metric\": 0.8360452}, {\"run_id\": \"AutoML_34d655ee-2bb3-4124-8b77-e299307e3205_6\", \"run_number\": 9, \"metric\": null, \"status\": \"Completed\", \"run_type\": \"azureml.scriptrun\", \"training_percent\": \"100\", \"start_time\": \"2021-01-30T19:53:31.612778Z\", \"end_time\": \"2021-01-30T19:54:31.906609Z\", \"created_time\": \"2021-01-30T19:53:18.911657Z\", \"created_time_dt\": \"2021-01-30T19:53:18.911657Z\", \"duration\": \"0:01:12\", \"iteration\": \"6\", \"goal\": \"accuracy_max\", \"run_name\": \"StandardScalerWrapper, XGBoostClassifier\", \"run_properties\": \"<azureml.automl.runtime.shared.model_wrappers.StandardScalerWrapper object at 0x7fad885fb518\", \"primary_metric\": 0.83932203, \"best_metric\": 0.83932203}, {\"run_id\": \"AutoML_34d655ee-2bb3-4124-8b77-e299307e3205_8\", \"run_number\": 10, \"metric\": null, \"status\": \"Completed\", \"run_type\": \"azureml.scriptrun\", \"training_percent\": \"100\", \"start_time\": \"2021-01-30T19:53:30.896307Z\", \"end_time\": \"2021-01-30T19:54:25.122098Z\", \"created_time\": \"2021-01-30T19:53:18.921456Z\", \"created_time_dt\": \"2021-01-30T19:53:18.921456Z\", \"duration\": \"0:01:06\", \"iteration\": \"8\", \"goal\": \"accuracy_max\", \"run_name\": \"TruncatedSVDWrapper, XGBoostClassifier\", \"run_properties\": \"n_components=0.9005263157894737, random_state=None\", \"primary_metric\": 0.81259887, \"best_metric\": 0.84259887}, {\"run_id\": \"AutoML_34d655ee-2bb3-4124-8b77-e299307e3205_2\", \"run_number\": 11, \"metric\": null, \"status\": \"Completed\", \"run_type\": \"azureml.scriptrun\", \"training_percent\": \"100\", \"start_time\": \"2021-01-30T19:53:32.296555Z\", \"end_time\": \"2021-01-30T19:54:30.567042Z\", \"created_time\": \"2021-01-30T19:53:19.170322Z\", \"created_time_dt\": \"2021-01-30T19:53:19.170322Z\", \"duration\": \"0:01:11\", \"iteration\": \"2\", \"goal\": \"accuracy_max\", \"run_name\": \"MinMaxScaler, RandomForest\", \"run_properties\": \"copy=True, feature_range=(0, 1\", \"primary_metric\": 0.83265537, \"best_metric\": 0.83265537}, {\"run_id\": \"AutoML_34d655ee-2bb3-4124-8b77-e299307e3205_4\", \"run_number\": 12, \"metric\": null, \"status\": \"Completed\", \"run_type\": \"azureml.scriptrun\", \"training_percent\": \"100\", \"start_time\": \"2021-01-30T19:53:31.347604Z\", \"end_time\": \"2021-01-30T19:54:35.828629Z\", \"created_time\": \"2021-01-30T19:53:18.893551Z\", \"created_time_dt\": \"2021-01-30T19:53:18.893551Z\", \"duration\": \"0:01:16\", \"iteration\": \"4\", \"goal\": \"accuracy_max\", \"run_name\": \"MinMaxScaler, RandomForest\", \"run_properties\": \"copy=True, feature_range=(0, 1\", \"primary_metric\": 0.83259887, \"best_metric\": 0.8360452}, {\"run_id\": \"AutoML_34d655ee-2bb3-4124-8b77-e299307e3205_9\", \"run_number\": 13, \"metric\": null, \"status\": \"Completed\", \"run_type\": \"azureml.scriptrun\", \"training_percent\": \"100\", \"start_time\": \"2021-01-30T19:54:28.081455Z\", \"end_time\": \"2021-01-30T19:55:27.54561Z\", \"created_time\": \"2021-01-30T19:53:18.891334Z\", \"created_time_dt\": \"2021-01-30T19:53:18.891334Z\", \"duration\": \"0:02:08\", \"iteration\": \"9\", \"goal\": \"accuracy_max\", \"run_name\": \"StandardScalerWrapper, XGBoostClassifier\", \"run_properties\": \"<azureml.automl.runtime.shared.model_wrappers.StandardScalerWrapper object at 0x7f01c0291b70\", \"primary_metric\": 0.8259322, \"best_metric\": 0.84259887}, {\"run_id\": \"AutoML_34d655ee-2bb3-4124-8b77-e299307e3205_7\", \"run_number\": 14, \"metric\": null, \"status\": \"Completed\", \"run_type\": \"azureml.scriptrun\", \"training_percent\": \"100\", \"start_time\": \"2021-01-30T19:54:29.276226Z\", \"end_time\": \"2021-01-30T19:55:19.963984Z\", \"created_time\": \"2021-01-30T19:53:18.897678Z\", \"created_time_dt\": \"2021-01-30T19:53:18.897678Z\", \"duration\": \"0:02:01\", \"iteration\": \"7\", \"goal\": \"accuracy_max\", \"run_name\": \"StandardScalerWrapper, LightGBM\", \"run_properties\": \"<azureml.automl.runtime.shared.model_wrappers.StandardScalerWrapper object at 0x7f648ca6d9b0\", \"primary_metric\": 0.84259887, \"best_metric\": 0.84259887}, {\"run_id\": \"AutoML_34d655ee-2bb3-4124-8b77-e299307e3205_10\", \"run_number\": 15, \"metric\": null, \"status\": \"Completed\", \"run_type\": \"azureml.scriptrun\", \"training_percent\": \"100\", \"start_time\": \"2021-01-30T19:54:40.42355Z\", \"end_time\": \"2021-01-30T19:55:28.688771Z\", \"created_time\": \"2021-01-30T19:54:29.321455Z\", \"created_time_dt\": \"2021-01-30T19:54:29.321455Z\", \"duration\": \"0:00:59\", \"iteration\": \"10\", \"goal\": \"accuracy_max\", \"run_name\": \"SparseNormalizer, XGBoostClassifier\", \"run_properties\": \"<azureml.automl.runtime.shared.model_wrappers.SparseNormalizer object at 0x7fdb05a00eb8\", \"primary_metric\": 0.83282486, \"best_metric\": 0.84259887}, {\"run_id\": \"AutoML_34d655ee-2bb3-4124-8b77-e299307e3205_11\", \"run_number\": 16, \"metric\": null, \"status\": \"Completed\", \"run_type\": \"azureml.scriptrun\", \"training_percent\": \"100\", \"start_time\": \"2021-01-30T19:54:43.991714Z\", \"end_time\": \"2021-01-30T19:55:32.828903Z\", \"created_time\": \"2021-01-30T19:54:29.346817Z\", \"created_time_dt\": \"2021-01-30T19:54:29.346817Z\", \"duration\": \"0:01:03\", \"iteration\": \"11\", \"goal\": \"accuracy_max\", \"run_name\": \"StandardScalerWrapper, LightGBM\", \"run_properties\": \"<azureml.automl.runtime.shared.model_wrappers.StandardScalerWrapper object at 0x7f3a88576dd8\", \"primary_metric\": 0.8359887, \"best_metric\": 0.84259887}, {\"run_id\": \"AutoML_34d655ee-2bb3-4124-8b77-e299307e3205_14\", \"run_number\": 17, \"metric\": null, \"status\": \"Completed\", \"run_type\": \"azureml.scriptrun\", \"training_percent\": \"100\", \"start_time\": \"2021-01-30T19:54:47.557952Z\", \"end_time\": \"2021-01-30T19:55:42.354018Z\", \"created_time\": \"2021-01-30T19:54:34.606752Z\", \"created_time_dt\": \"2021-01-30T19:54:34.606752Z\", \"duration\": \"0:01:07\", \"iteration\": \"14\", \"goal\": \"accuracy_max\", \"run_name\": \"SparseNormalizer, XGBoostClassifier\", \"run_properties\": \"<azureml.automl.runtime.shared.model_wrappers.SparseNormalizer object at 0x7f1209850898\", \"primary_metric\": 0.82943503, \"best_metric\": 0.84282486}, {\"run_id\": \"AutoML_34d655ee-2bb3-4124-8b77-e299307e3205_15\", \"run_number\": 18, \"metric\": null, \"status\": \"Completed\", \"run_type\": \"azureml.scriptrun\", \"training_percent\": \"100\", \"start_time\": \"2021-01-30T19:54:47.056389Z\", \"end_time\": \"2021-01-30T19:55:35.646175Z\", \"created_time\": \"2021-01-30T19:54:34.621402Z\", \"created_time_dt\": \"2021-01-30T19:54:34.621402Z\", \"duration\": \"0:01:01\", \"iteration\": \"15\", \"goal\": \"accuracy_max\", \"run_name\": \"SparseNormalizer, LightGBM\", \"run_properties\": \"<azureml.automl.runtime.shared.model_wrappers.SparseNormalizer object at 0x7f1c20e757b8\", \"primary_metric\": 0.83299435, \"best_metric\": 0.84282486}, {\"run_id\": \"AutoML_34d655ee-2bb3-4124-8b77-e299307e3205_13\", \"run_number\": 19, \"metric\": null, \"status\": \"Completed\", \"run_type\": \"azureml.scriptrun\", \"training_percent\": \"100\", \"start_time\": \"2021-01-30T19:54:49.631152Z\", \"end_time\": \"2021-01-30T19:55:38.871695Z\", \"created_time\": \"2021-01-30T19:54:34.629657Z\", \"created_time_dt\": \"2021-01-30T19:54:34.629657Z\", \"duration\": \"0:01:04\", \"iteration\": \"13\", \"goal\": \"accuracy_max\", \"run_name\": \"StandardScalerWrapper, RandomForest\", \"run_properties\": \"<azureml.automl.runtime.shared.model_wrappers.StandardScalerWrapper object at 0x7fe4485d3320\", \"primary_metric\": 0.84282486, \"best_metric\": 0.84282486}, {\"run_id\": \"AutoML_34d655ee-2bb3-4124-8b77-e299307e3205_12\", \"run_number\": 20, \"metric\": null, \"status\": \"Completed\", \"run_type\": \"azureml.scriptrun\", \"training_percent\": \"100\", \"start_time\": \"2021-01-30T19:54:48.951125Z\", \"end_time\": \"2021-01-30T19:55:38.282011Z\", \"created_time\": \"2021-01-30T19:54:34.822239Z\", \"created_time_dt\": \"2021-01-30T19:54:34.822239Z\", \"duration\": \"0:01:03\", \"iteration\": \"12\", \"goal\": \"accuracy_max\", \"run_name\": \"StandardScalerWrapper, LightGBM\", \"run_properties\": \"<azureml.automl.runtime.shared.model_wrappers.StandardScalerWrapper object at 0x7fc0ecd35518\", \"primary_metric\": 0.80926554, \"best_metric\": 0.84259887}, {\"run_id\": \"AutoML_34d655ee-2bb3-4124-8b77-e299307e3205_16\", \"run_number\": 21, \"metric\": null, \"status\": \"Completed\", \"run_type\": \"azureml.scriptrun\", \"training_percent\": \"100\", \"start_time\": \"2021-01-30T19:55:31.606437Z\", \"end_time\": \"2021-01-30T19:56:31.674931Z\", \"created_time\": \"2021-01-30T19:54:41.832349Z\", \"created_time_dt\": \"2021-01-30T19:54:41.832349Z\", \"duration\": \"0:01:49\", \"iteration\": \"16\", \"goal\": \"accuracy_max\", \"run_name\": \"SparseNormalizer, XGBoostClassifier\", \"run_properties\": \"<azureml.automl.runtime.shared.model_wrappers.SparseNormalizer object at 0x7f9833860d30\", \"primary_metric\": 0.86299435, \"best_metric\": 0.86299435}, {\"run_id\": \"AutoML_34d655ee-2bb3-4124-8b77-e299307e3205_17\", \"run_number\": 22, \"metric\": null, \"status\": \"Completed\", \"run_type\": \"azureml.scriptrun\", \"training_percent\": \"100\", \"start_time\": \"2021-01-30T19:55:26.995055Z\", \"end_time\": \"2021-01-30T19:56:26.813649Z\", \"created_time\": \"2021-01-30T19:54:41.8657Z\", \"created_time_dt\": \"2021-01-30T19:54:41.8657Z\", \"duration\": \"0:01:44\", \"iteration\": \"17\", \"goal\": \"accuracy_max\", \"run_name\": \"MaxAbsScaler, GradientBoosting\", \"run_properties\": \"copy=True\", \"primary_metric\": 0.83271186, \"best_metric\": 0.86299435}, {\"run_id\": \"AutoML_34d655ee-2bb3-4124-8b77-e299307e3205_18\", \"run_number\": 23, \"metric\": null, \"status\": \"Completed\", \"run_type\": \"azureml.scriptrun\", \"training_percent\": \"100\", \"start_time\": \"2021-01-30T19:55:33.541087Z\", \"end_time\": \"2021-01-30T19:56:28.610067Z\", \"created_time\": \"2021-01-30T19:55:21.890367Z\", \"created_time_dt\": \"2021-01-30T19:55:21.890367Z\", \"duration\": \"0:01:06\", \"iteration\": \"18\", \"goal\": \"accuracy_max\", \"run_name\": \"SparseNormalizer, XGBoostClassifier\", \"run_properties\": \"<azureml.automl.runtime.shared.model_wrappers.SparseNormalizer object at 0x7f7b117b8518\", \"primary_metric\": 0.84960452, \"best_metric\": 0.86299435}, {\"run_id\": \"AutoML_34d655ee-2bb3-4124-8b77-e299307e3205_19\", \"run_number\": 24, \"metric\": null, \"status\": \"Completed\", \"run_type\": \"azureml.scriptrun\", \"training_percent\": \"100\", \"start_time\": \"2021-01-30T19:55:41.772742Z\", \"end_time\": \"2021-01-30T19:56:42.458981Z\", \"created_time\": \"2021-01-30T19:55:29.871409Z\", \"created_time_dt\": \"2021-01-30T19:55:29.871409Z\", \"duration\": \"0:01:12\", \"iteration\": \"19\", \"goal\": \"accuracy_max\", \"run_name\": \"MaxAbsScaler, GradientBoosting\", \"run_properties\": \"copy=True\", \"primary_metric\": 0.8159887, \"best_metric\": 0.86299435}, {\"run_id\": \"AutoML_34d655ee-2bb3-4124-8b77-e299307e3205_20\", \"run_number\": 25, \"metric\": null, \"status\": \"Completed\", \"run_type\": \"azureml.scriptrun\", \"training_percent\": \"100\", \"start_time\": \"2021-01-30T19:55:45.766069Z\", \"end_time\": \"2021-01-30T19:56:37.446168Z\", \"created_time\": \"2021-01-30T19:55:33.534023Z\", \"created_time_dt\": \"2021-01-30T19:55:33.534023Z\", \"duration\": \"0:01:03\", \"iteration\": \"20\", \"goal\": \"accuracy_max\", \"run_name\": \"RobustScaler, GradientBoosting\", \"run_properties\": \"copy=True, quantile_range=[10, 90], with_centering=False,\\n             with_scaling=True\", \"primary_metric\": 0.83926554, \"best_metric\": 0.86299435}, {\"run_id\": \"AutoML_34d655ee-2bb3-4124-8b77-e299307e3205_21\", \"run_number\": 26, \"metric\": null, \"status\": \"Completed\", \"run_type\": \"azureml.scriptrun\", \"training_percent\": \"100\", \"start_time\": \"2021-01-30T19:55:49.405724Z\", \"end_time\": \"2021-01-30T19:56:41.074446Z\", \"created_time\": \"2021-01-30T19:55:37.033654Z\", \"created_time_dt\": \"2021-01-30T19:55:37.033654Z\", \"duration\": \"0:01:04\", \"iteration\": \"21\", \"goal\": \"accuracy_max\", \"run_name\": \"StandardScalerWrapper, LightGBM\", \"run_properties\": \"<azureml.automl.runtime.shared.model_wrappers.StandardScalerWrapper object at 0x7f18f6a46358\", \"primary_metric\": 0.83259887, \"best_metric\": 0.86299435}, {\"run_id\": \"AutoML_34d655ee-2bb3-4124-8b77-e299307e3205_23\", \"run_number\": 27, \"metric\": null, \"status\": \"Completed\", \"run_type\": \"azureml.scriptrun\", \"training_percent\": \"100\", \"start_time\": \"2021-01-30T19:55:54.039652Z\", \"end_time\": \"2021-01-30T19:56:44.317739Z\", \"created_time\": \"2021-01-30T19:55:44.212872Z\", \"created_time_dt\": \"2021-01-30T19:55:44.212872Z\", \"duration\": \"0:01:00\", \"iteration\": \"23\", \"goal\": \"accuracy_max\", \"run_name\": \"SparseNormalizer, XGBoostClassifier\", \"run_properties\": \"<azureml.automl.runtime.shared.model_wrappers.SparseNormalizer object at 0x7f17c9513390\", \"primary_metric\": 0.85293785, \"best_metric\": 0.86299435}, {\"run_id\": \"AutoML_34d655ee-2bb3-4124-8b77-e299307e3205_22\", \"run_number\": 28, \"metric\": null, \"status\": \"Completed\", \"run_type\": \"azureml.scriptrun\", \"training_percent\": \"100\", \"start_time\": \"2021-01-30T19:55:56.544447Z\", \"end_time\": \"2021-01-30T19:57:00.396197Z\", \"created_time\": \"2021-01-30T19:55:44.526939Z\", \"created_time_dt\": \"2021-01-30T19:55:44.526939Z\", \"duration\": \"0:01:15\", \"iteration\": \"22\", \"goal\": \"accuracy_max\", \"run_name\": \"MaxAbsScaler, LightGBM\", \"run_properties\": \"copy=True\", \"primary_metric\": 0.82271186, \"best_metric\": 0.86299435}, {\"run_id\": \"AutoML_34d655ee-2bb3-4124-8b77-e299307e3205_24\", \"run_number\": 29, \"metric\": null, \"status\": \"Completed\", \"run_type\": \"azureml.scriptrun\", \"training_percent\": \"100\", \"start_time\": \"2021-01-30T19:56:29.604568Z\", \"end_time\": \"2021-01-30T19:57:25.93855Z\", \"created_time\": \"2021-01-30T19:55:44.52779Z\", \"created_time_dt\": \"2021-01-30T19:55:44.52779Z\", \"duration\": \"0:01:41\", \"iteration\": \"24\", \"goal\": \"accuracy_max\", \"run_name\": \"RobustScaler, LightGBM\", \"run_properties\": \"copy=True, quantile_range=[10, 90], with_centering=False,\\n             with_scaling=False\", \"primary_metric\": 0.83920904, \"best_metric\": 0.86299435}, {\"run_id\": \"AutoML_34d655ee-2bb3-4124-8b77-e299307e3205_25\", \"run_number\": 30, \"metric\": null, \"status\": \"Completed\", \"run_type\": \"azureml.scriptrun\", \"training_percent\": \"100\", \"start_time\": \"2021-01-30T19:56:31.056042Z\", \"end_time\": \"2021-01-30T19:57:32.397523Z\", \"created_time\": \"2021-01-30T19:55:52.078974Z\", \"created_time_dt\": \"2021-01-30T19:55:52.078974Z\", \"duration\": \"0:01:40\", \"iteration\": \"25\", \"goal\": \"accuracy_max\", \"run_name\": \"MinMaxScaler, RandomForest\", \"run_properties\": \"copy=True, feature_range=(0, 1\", \"primary_metric\": 0.82259887, \"best_metric\": 0.86299435}, {\"run_id\": \"AutoML_34d655ee-2bb3-4124-8b77-e299307e3205_26\", \"run_number\": 31, \"metric\": null, \"status\": \"Completed\", \"run_type\": \"azureml.scriptrun\", \"training_percent\": \"100\", \"start_time\": \"2021-01-30T19:56:41.331697Z\", \"end_time\": \"2021-01-30T19:57:33.31942Z\", \"created_time\": \"2021-01-30T19:56:28.678426Z\", \"created_time_dt\": \"2021-01-30T19:56:28.678426Z\", \"duration\": \"0:01:04\", \"iteration\": \"26\", \"goal\": \"accuracy_max\", \"run_name\": \"MinMaxScaler, LightGBM\", \"run_properties\": \"copy=True, feature_range=(0, 1\", \"primary_metric\": 0.77254237, \"best_metric\": 0.86299435}, {\"run_id\": \"AutoML_34d655ee-2bb3-4124-8b77-e299307e3205_27\", \"run_number\": 32, \"metric\": null, \"status\": \"Completed\", \"run_type\": \"azureml.scriptrun\", \"training_percent\": \"100\", \"start_time\": \"2021-01-30T19:56:43.144924Z\", \"end_time\": \"2021-01-30T19:57:39.234043Z\", \"created_time\": \"2021-01-30T19:56:32.234781Z\", \"created_time_dt\": \"2021-01-30T19:56:32.234781Z\", \"duration\": \"0:01:06\", \"iteration\": \"27\", \"goal\": \"accuracy_max\", \"run_name\": \"StandardScalerWrapper, LightGBM\", \"run_properties\": \"<azureml.automl.runtime.shared.model_wrappers.StandardScalerWrapper object at 0x7f686dd02668\", \"primary_metric\": 0.80254237, \"best_metric\": 0.86299435}, {\"run_id\": \"AutoML_34d655ee-2bb3-4124-8b77-e299307e3205_28\", \"run_number\": 33, \"metric\": null, \"status\": \"Completed\", \"run_type\": \"azureml.scriptrun\", \"training_percent\": \"100\", \"start_time\": \"2021-01-30T19:56:51.000411Z\", \"end_time\": \"2021-01-30T19:57:37.351542Z\", \"created_time\": \"2021-01-30T19:56:36.302169Z\", \"created_time_dt\": \"2021-01-30T19:56:36.302169Z\", \"duration\": \"0:01:01\", \"iteration\": \"28\", \"goal\": \"accuracy_max\", \"run_name\": \"RobustScaler, LightGBM\", \"run_properties\": \"copy=True, quantile_range=[10, 90], with_centering=False,\\n             with_scaling=False\", \"primary_metric\": 0.81259887, \"best_metric\": 0.86299435}, {\"run_id\": \"AutoML_34d655ee-2bb3-4124-8b77-e299307e3205_29\", \"run_number\": 34, \"metric\": null, \"status\": \"Completed\", \"run_type\": \"azureml.scriptrun\", \"training_percent\": \"100\", \"start_time\": \"2021-01-30T19:56:56.330147Z\", \"end_time\": \"2021-01-30T19:58:03.402538Z\", \"created_time\": \"2021-01-30T19:56:42.759822Z\", \"created_time_dt\": \"2021-01-30T19:56:42.759822Z\", \"duration\": \"0:01:20\", \"iteration\": \"29\", \"goal\": \"accuracy_max\", \"run_name\": \"StandardScalerWrapper, LightGBM\", \"run_properties\": \"<azureml.automl.runtime.shared.model_wrappers.StandardScalerWrapper object at 0x7fdab1ecc9b0\", \"primary_metric\": 0.83259887, \"best_metric\": 0.86299435}, {\"run_id\": \"AutoML_34d655ee-2bb3-4124-8b77-e299307e3205_31\", \"run_number\": 35, \"metric\": null, \"status\": \"Completed\", \"run_type\": \"azureml.scriptrun\", \"training_percent\": \"100\", \"start_time\": \"2021-01-30T19:57:05.899819Z\", \"end_time\": \"2021-01-30T19:58:09.117158Z\", \"created_time\": \"2021-01-30T19:56:49.620217Z\", \"created_time_dt\": \"2021-01-30T19:56:49.620217Z\", \"duration\": \"0:01:19\", \"iteration\": \"31\", \"goal\": \"accuracy_max\", \"run_name\": \"StandardScalerWrapper, LightGBM\", \"run_properties\": \"<azureml.automl.runtime.shared.model_wrappers.StandardScalerWrapper object at 0x7fad04a2a048\", \"primary_metric\": 0.78937853, \"best_metric\": 0.86299435}, {\"run_id\": \"AutoML_34d655ee-2bb3-4124-8b77-e299307e3205_30\", \"run_number\": 36, \"metric\": null, \"status\": \"Completed\", \"run_type\": \"azureml.scriptrun\", \"training_percent\": \"100\", \"start_time\": \"2021-01-30T19:57:00.961241Z\", \"end_time\": \"2021-01-30T19:58:07.07412Z\", \"created_time\": \"2021-01-30T19:56:49.619803Z\", \"created_time_dt\": \"2021-01-30T19:56:49.619803Z\", \"duration\": \"0:01:17\", \"iteration\": \"30\", \"goal\": \"accuracy_max\", \"run_name\": \"SparseNormalizer, XGBoostClassifier\", \"run_properties\": \"<azureml.automl.runtime.shared.model_wrappers.SparseNormalizer object at 0x7fe70638ec88\", \"primary_metric\": 0.67909605, \"best_metric\": 0.86299435}, {\"run_id\": \"AutoML_34d655ee-2bb3-4124-8b77-e299307e3205_32\", \"run_number\": 37, \"metric\": null, \"status\": \"Completed\", \"run_type\": \"azureml.scriptrun\", \"training_percent\": \"100\", \"start_time\": \"2021-01-30T19:57:33.301956Z\", \"end_time\": \"2021-01-30T19:58:35.131363Z\", \"created_time\": \"2021-01-30T19:56:49.618908Z\", \"created_time_dt\": \"2021-01-30T19:56:49.618908Z\", \"duration\": \"0:01:45\", \"iteration\": \"32\", \"goal\": \"accuracy_max\", \"run_name\": \"StandardScalerWrapper, RandomForest\", \"run_properties\": \"<azureml.automl.runtime.shared.model_wrappers.StandardScalerWrapper object at 0x7fee68909860\", \"primary_metric\": 0.8359887, \"best_metric\": 0.86299435}, {\"run_id\": \"AutoML_34d655ee-2bb3-4124-8b77-e299307e3205_33\", \"run_number\": 38, \"metric\": null, \"status\": \"Completed\", \"run_type\": \"azureml.scriptrun\", \"training_percent\": \"100\", \"start_time\": \"2021-01-30T19:57:34.247056Z\", \"end_time\": \"2021-01-30T19:58:36.137173Z\", \"created_time\": \"2021-01-30T19:57:03.446801Z\", \"created_time_dt\": \"2021-01-30T19:57:03.446801Z\", \"duration\": \"0:01:32\", \"iteration\": \"33\", \"goal\": \"accuracy_max\", \"run_name\": \"SparseNormalizer, XGBoostClassifier\", \"run_properties\": \"<azureml.automl.runtime.shared.model_wrappers.SparseNormalizer object at 0x7f3358dd3668\", \"primary_metric\": 0.84293785, \"best_metric\": 0.86299435}, {\"run_id\": \"AutoML_34d655ee-2bb3-4124-8b77-e299307e3205_34\", \"run_number\": 39, \"metric\": null, \"status\": \"Completed\", \"run_type\": \"azureml.scriptrun\", \"training_percent\": \"100\", \"start_time\": \"2021-01-30T19:57:39.332025Z\", \"end_time\": \"2021-01-30T19:58:37.112215Z\", \"created_time\": \"2021-01-30T19:57:27.989786Z\", \"created_time_dt\": \"2021-01-30T19:57:27.989786Z\", \"duration\": \"0:01:09\", \"iteration\": \"34\", \"goal\": \"accuracy_max\", \"run_name\": \"StandardScalerWrapper, XGBoostClassifier\", \"run_properties\": \"<azureml.automl.runtime.shared.model_wrappers.StandardScalerWrapper object at 0x7f8be8331358\", \"primary_metric\": 0.82265537, \"best_metric\": 0.86299435}, {\"run_id\": \"AutoML_34d655ee-2bb3-4124-8b77-e299307e3205_35\", \"run_number\": 40, \"metric\": null, \"status\": \"Completed\", \"run_type\": \"azureml.scriptrun\", \"training_percent\": \"100\", \"start_time\": \"2021-01-30T19:57:46.79013Z\", \"end_time\": \"2021-01-30T19:58:37.721767Z\", \"created_time\": \"2021-01-30T19:57:35.319918Z\", \"created_time_dt\": \"2021-01-30T19:57:35.319918Z\", \"duration\": \"0:01:02\", \"iteration\": \"35\", \"goal\": \"accuracy_max\", \"run_name\": \"PCA, XGBoostClassifier\", \"run_properties\": \"copy=True, iterated_power='auto', n_components=0.15842105263157896,\\n    random_state=None, svd_solver='auto', tol=0.0, whiten=True\", \"primary_metric\": 0.67909605, \"best_metric\": 0.86299435}, {\"run_id\": \"AutoML_34d655ee-2bb3-4124-8b77-e299307e3205_36\", \"run_number\": 41, \"metric\": null, \"status\": \"Completed\", \"run_type\": \"azureml.scriptrun\", \"training_percent\": \"100\", \"start_time\": \"2021-01-30T19:58:08.082974Z\", \"end_time\": \"2021-01-30T19:59:11.702354Z\", \"created_time\": \"2021-01-30T19:57:39.814895Z\", \"created_time_dt\": \"2021-01-30T19:57:39.814895Z\", \"duration\": \"0:01:31\", \"iteration\": \"36\", \"goal\": \"accuracy_max\", \"run_name\": \"SparseNormalizer, XGBoostClassifier\", \"run_properties\": \"<azureml.automl.runtime.shared.model_wrappers.SparseNormalizer object at 0x7f9579c7dc18\", \"primary_metric\": 0.85627119, \"best_metric\": 0.86299435}, {\"run_id\": \"AutoML_34d655ee-2bb3-4124-8b77-e299307e3205_37\", \"run_number\": 42, \"metric\": null, \"status\": \"Completed\", \"run_type\": \"azureml.scriptrun\", \"training_percent\": \"100\", \"start_time\": \"2021-01-30T19:57:50.514891Z\", \"end_time\": \"2021-01-30T19:58:56.180959Z\", \"created_time\": \"2021-01-30T19:57:39.852078Z\", \"created_time_dt\": \"2021-01-30T19:57:39.852078Z\", \"duration\": \"0:01:16\", \"iteration\": \"37\", \"goal\": \"accuracy_max\", \"run_name\": \"SparseNormalizer, XGBoostClassifier\", \"run_properties\": \"<azureml.automl.runtime.shared.model_wrappers.SparseNormalizer object at 0x7f31b0181630\", \"primary_metric\": 0.83282486, \"best_metric\": 0.86299435}, {\"run_id\": \"AutoML_34d655ee-2bb3-4124-8b77-e299307e3205_38\", \"run_number\": 43, \"metric\": null, \"status\": \"Completed\", \"run_type\": \"azureml.scriptrun\", \"training_percent\": \"100\", \"start_time\": \"2021-01-30T19:58:09.934935Z\", \"end_time\": \"2021-01-30T19:59:13.087055Z\", \"created_time\": \"2021-01-30T19:57:44.2889Z\", \"created_time_dt\": \"2021-01-30T19:57:44.2889Z\", \"duration\": \"0:01:28\", \"iteration\": \"38\", \"goal\": \"accuracy_max\", \"run_name\": \"MinMaxScaler, LightGBM\", \"run_properties\": \"copy=True, feature_range=(0, 1\", \"primary_metric\": 0.81937853, \"best_metric\": 0.86299435}, {\"run_id\": \"AutoML_34d655ee-2bb3-4124-8b77-e299307e3205_39\", \"run_number\": 44, \"metric\": null, \"status\": \"Completed\", \"run_type\": \"azureml.scriptrun\", \"training_percent\": \"100\", \"start_time\": \"2021-01-30T19:58:16.905544Z\", \"end_time\": \"2021-01-30T19:59:10.951545Z\", \"created_time\": \"2021-01-30T19:58:05.292096Z\", \"created_time_dt\": \"2021-01-30T19:58:05.292096Z\", \"duration\": \"0:01:05\", \"iteration\": \"39\", \"goal\": \"accuracy_max\", \"run_name\": \"SparseNormalizer, XGBoostClassifier\", \"run_properties\": \"<azureml.automl.runtime.shared.model_wrappers.SparseNormalizer object at 0x7ff40e5e27b8\", \"primary_metric\": 0.82954802, \"best_metric\": 0.86299435}, {\"run_id\": \"AutoML_34d655ee-2bb3-4124-8b77-e299307e3205_40\", \"run_number\": 45, \"metric\": null, \"status\": \"Canceled\", \"run_type\": \"azureml.scriptrun\", \"training_percent\": \"100\", \"start_time\": \"2021-01-30T19:58:38.662216Z\", \"end_time\": \"2021-01-30T19:59:21.884137Z\", \"created_time\": \"2021-01-30T19:58:10.099102Z\", \"created_time_dt\": \"2021-01-30T19:58:10.099102Z\", \"duration\": \"0:01:11\", \"iteration\": \"40\", \"goal\": \"accuracy_max\", \"run_name\": \"StandardScalerWrapper, XGBoostClassifier\", \"run_properties\": \"<azureml.automl.runtime.shared.model_wrappers.StandardScalerWrapper object at 0x7fd38acb14a8\", \"primary_metric\": 0.79276836, \"best_metric\": 0.86299435}, {\"run_id\": \"AutoML_34d655ee-2bb3-4124-8b77-e299307e3205_41\", \"run_number\": 46, \"metric\": null, \"status\": \"Canceled\", \"run_type\": \"azureml.scriptrun\", \"training_percent\": \"100\", \"start_time\": \"2021-01-30T19:58:36.704743Z\", \"end_time\": \"2021-01-30T19:59:21.93338Z\", \"created_time\": \"2021-01-30T19:58:13.702323Z\", \"created_time_dt\": \"2021-01-30T19:58:13.702323Z\", \"duration\": \"0:01:08\", \"iteration\": \"41\", \"goal\": \"accuracy_max\", \"run_name\": \"SparseNormalizer, XGBoostClassifier\", \"run_properties\": \"<azureml.automl.runtime.shared.model_wrappers.SparseNormalizer object at 0x7f3f051349e8\", \"primary_metric\": 0.81621469, \"best_metric\": 0.86299435}, {\"run_id\": \"AutoML_34d655ee-2bb3-4124-8b77-e299307e3205_43\", \"run_number\": 47, \"metric\": null, \"status\": \"Canceled\", \"run_type\": \"azureml.scriptrun\", \"training_percent\": \"100\", \"start_time\": \"2021-01-30T19:58:49.532303Z\", \"end_time\": \"2021-01-30T19:59:20.549308Z\", \"created_time\": \"2021-01-30T19:58:38.346396Z\", \"created_time_dt\": \"2021-01-30T19:58:38.346396Z\", \"duration\": \"0:00:42\", \"iteration\": \"43\", \"goal\": \"accuracy_max\", \"run_name\": \"SparseNormalizer, XGBoostClassifier\", \"run_properties\": \"<azureml.automl.runtime.shared.model_wrappers.SparseNormalizer object at 0x7f4735af86a0\", \"primary_metric\": 0.83960452, \"best_metric\": 0.86299435}, {\"run_id\": \"AutoML_34d655ee-2bb3-4124-8b77-e299307e3205_42\", \"run_number\": 48, \"metric\": null, \"status\": \"Canceled\", \"run_type\": \"azureml.scriptrun\", \"training_percent\": \"100\", \"start_time\": \"2021-01-30T19:58:51.063029Z\", \"end_time\": \"2021-01-30T19:59:20.695088Z\", \"created_time\": \"2021-01-30T19:58:38.435174Z\", \"created_time_dt\": \"2021-01-30T19:58:38.435174Z\", \"duration\": \"0:00:42\", \"iteration\": \"42\", \"goal\": null, \"run_name\": \"SparseNormalizer, XGBoostClassifier\", \"run_properties\": null, \"primary_metric\": 0.79932203, \"best_metric\": 0.86299435}, {\"run_id\": \"AutoML_34d655ee-2bb3-4124-8b77-e299307e3205_44\", \"run_number\": 49, \"metric\": null, \"status\": \"Canceled\", \"run_type\": \"azureml.scriptrun\", \"training_percent\": \"100\", \"start_time\": \"2021-01-30T19:58:42.927078Z\", \"end_time\": \"2021-01-30T19:59:21.902571Z\", \"created_time\": \"2021-01-30T19:58:42.927078Z\", \"created_time_dt\": \"2021-01-30T19:58:42.927078Z\", \"duration\": \"0:00:38\", \"iteration\": \"44\", \"goal\": null, \"run_name\": \"Canceled\", \"run_properties\": null}, {\"run_id\": \"AutoML_34d655ee-2bb3-4124-8b77-e299307e3205_45\", \"run_number\": 50, \"metric\": null, \"status\": \"Canceled\", \"run_type\": \"azureml.scriptrun\", \"training_percent\": \"100\", \"start_time\": \"2021-01-30T19:58:59.953745Z\", \"end_time\": \"2021-01-30T19:59:22.507905Z\", \"created_time\": \"2021-01-30T19:58:42.952185Z\", \"created_time_dt\": \"2021-01-30T19:58:42.952185Z\", \"duration\": \"0:00:39\", \"iteration\": \"45\", \"goal\": null, \"run_name\": \"Canceled\", \"run_properties\": null}, {\"run_id\": \"AutoML_34d655ee-2bb3-4124-8b77-e299307e3205_46\", \"run_number\": 51, \"metric\": null, \"status\": \"Canceled\", \"run_type\": \"azureml.scriptrun\", \"training_percent\": \"100\", \"start_time\": \"2021-01-30T19:58:58.466751Z\", \"end_time\": \"2021-01-30T19:59:20.283795Z\", \"created_time\": \"2021-01-30T19:58:58.466751Z\", \"created_time_dt\": \"2021-01-30T19:58:58.466751Z\", \"duration\": \"0:00:21\", \"iteration\": \"46\", \"goal\": null, \"run_name\": \"Canceled\", \"run_properties\": null}, {\"run_id\": \"AutoML_34d655ee-2bb3-4124-8b77-e299307e3205_47\", \"run_number\": 52, \"metric\": null, \"status\": \"Canceled\", \"run_type\": \"azureml.scriptrun\", \"training_percent\": \"100\", \"start_time\": \"2021-01-30T19:59:12.514377Z\", \"end_time\": \"2021-01-30T19:59:15.813419Z\", \"created_time\": \"2021-01-30T19:59:12.514377Z\", \"created_time_dt\": \"2021-01-30T19:59:12.514377Z\", \"duration\": \"0:00:03\", \"iteration\": \"47\", \"goal\": null, \"run_name\": \"Canceled\", \"run_properties\": null}, {\"run_id\": \"AutoML_34d655ee-2bb3-4124-8b77-e299307e3205_48\", \"run_number\": 53, \"metric\": null, \"status\": \"Completed\", \"run_type\": \"azureml.scriptrun\", \"training_percent\": \"100\", \"start_time\": \"2021-01-30T19:59:37.396104Z\", \"end_time\": \"2021-01-30T20:01:12.973128Z\", \"created_time\": \"2021-01-30T19:59:24.140214Z\", \"created_time_dt\": \"2021-01-30T19:59:24.140214Z\", \"duration\": \"0:01:48\", \"iteration\": \"48\", \"goal\": \"accuracy_max\", \"run_name\": \"VotingEnsemble\", \"run_properties\": \"classification_labels=None,\\n                              estimators=[('16',\\n                                           Pipeline(memory=None,\\n                                                    steps=[('sparsenormalizer',\\n                                                            <azureml.automl.runtime.shared.model_wrappers.SparseNormalizer object at 0x7f4b282e2710>\", \"primary_metric\": 0.88638418, \"best_metric\": 0.88638418}, {\"run_id\": \"AutoML_34d655ee-2bb3-4124-8b77-e299307e3205_49\", \"run_number\": 54, \"metric\": null, \"status\": \"Completed\", \"run_type\": \"azureml.scriptrun\", \"training_percent\": \"100\", \"start_time\": \"2021-01-30T19:59:34.358592Z\", \"end_time\": \"2021-01-30T20:01:16.058895Z\", \"created_time\": \"2021-01-30T19:59:24.205774Z\", \"created_time_dt\": \"2021-01-30T19:59:24.205774Z\", \"duration\": \"0:01:51\", \"iteration\": \"49\", \"goal\": \"accuracy_max\", \"run_name\": \"StackEnsemble\", \"run_properties\": \"base_learners=[('16',\\n                                        Pipeline(memory=None,\\n                                                 steps=[('sparsenormalizer',\\n                                                         <azureml.automl.runtime.shared.model_wrappers.SparseNormalizer object at 0x7fb0401ac198>\", \"primary_metric\": 0.86966102, \"best_metric\": 0.88638418}], \"children_metrics\": {\"categories\": [0], \"series\": {\"average_precision_score_micro\": [{\"categories\": [\"0\", \"1\", \"2\", \"3\", \"4\", \"5\", \"6\", \"7\", \"8\", \"9\", \"10\", \"11\", \"12\", \"13\", \"14\", \"15\", \"16\", \"17\", \"18\", \"19\", \"20\", \"21\", \"22\", \"23\", \"24\", \"25\", \"26\", \"27\", \"28\", \"29\", \"30\", \"31\", \"32\", \"33\", \"34\", \"35\", \"36\", \"37\", \"38\", \"39\", \"40\", \"41\", \"42\", \"43\", \"48\", \"49\"], \"mode\": \"markers\", \"name\": \"average_precision_score_micro\", \"stepped\": false, \"type\": \"scatter\", \"data\": [0.887958292631032, 0.9018582931163117, 0.9096165382285664, 0.9009834774756351, 0.9146921708738072, 0.7944906448717299, 0.9035910532571101, 0.9091980666709227, 0.8880800460945817, 0.9136425057395128, 0.8975525826424798, 0.904985455043757, 0.9021254270821759, 0.9036816588062674, 0.8912805992827832, 0.893386848713541, 0.9054342444793011, 0.9177556329895615, 0.9029229215462662, 0.8953597650459757, 0.9130168212534222, 0.9068843172124286, 0.8859490806858659, 0.9088859396896039, 0.9075915313312042, 0.8997371844840746, 0.8853089489416863, 0.8973084466373693, 0.9006220969992645, 0.9059484527359347, 0.6293524849181271, 0.8875026377115522, 0.9196067770607301, 0.9079005938827571, 0.8857281642392479, 0.638941060822029, 0.903626919053649, 0.8872610686675518, 0.9118878112131952, 0.8911323655877796, 0.8806473981335896, 0.8772277785391959, 0.8845637527868624, 0.8976924456230642, 0.9196577493095462, 0.9045015347538751]}, {\"categories\": [\"0\", \"1\", \"2\", \"3\", \"4\", \"5\", \"6\", \"7\", \"8\", \"9\", \"10\", \"11\", \"12\", \"13\", \"14\", \"15\", \"16\", \"17\", \"18\", \"19\", \"20\", \"21\", \"22\", \"23\", \"24\", \"25\", \"26\", \"27\", \"28\", \"29\", \"30\", \"31\", \"32\", \"33\", \"34\", \"35\", \"36\", \"37\", \"38\", \"39\", \"40\", \"41\", \"42\", \"43\", \"48\", \"49\"], \"mode\": \"lines\", \"name\": \"average_precision_score_micro_max\", \"stepped\": true, \"type\": \"scatter\", \"data\": [0.887958292631032, 0.9018582931163117, 0.9096165382285664, 0.9096165382285664, 0.9146921708738072, 0.9146921708738072, 0.9146921708738072, 0.9146921708738072, 0.9146921708738072, 0.9146921708738072, 0.9146921708738072, 0.9146921708738072, 0.9146921708738072, 0.9146921708738072, 0.9146921708738072, 0.9146921708738072, 0.9146921708738072, 0.9177556329895615, 0.9177556329895615, 0.9177556329895615, 0.9177556329895615, 0.9177556329895615, 0.9177556329895615, 0.9177556329895615, 0.9177556329895615, 0.9177556329895615, 0.9177556329895615, 0.9177556329895615, 0.9177556329895615, 0.9177556329895615, 0.9177556329895615, 0.9177556329895615, 0.9196067770607301, 0.9196067770607301, 0.9196067770607301, 0.9196067770607301, 0.9196067770607301, 0.9196067770607301, 0.9196067770607301, 0.9196067770607301, 0.9196067770607301, 0.9196067770607301, 0.9196067770607301, 0.9196067770607301, 0.9196577493095462, 0.9196577493095462]}], \"f1_score_macro\": [{\"categories\": [\"0\", \"1\", \"2\", \"3\", \"4\", \"5\", \"6\", \"7\", \"8\", \"9\", \"10\", \"11\", \"12\", \"13\", \"14\", \"15\", \"16\", \"17\", \"18\", \"19\", \"20\", \"21\", \"22\", \"23\", \"24\", \"25\", \"26\", \"27\", \"28\", \"29\", \"30\", \"31\", \"32\", \"33\", \"34\", \"35\", \"36\", \"37\", \"38\", \"39\", \"40\", \"41\", \"42\", \"43\", \"48\", \"49\"], \"mode\": \"markers\", \"name\": \"f1_score_macro\", \"stepped\": false, \"type\": \"scatter\", \"data\": [0.7682096405971308, 0.7972526241921125, 0.8015878642137568, 0.8024929819172621, 0.8064388654659066, 0.5759918770778854, 0.8089254342667698, 0.8123213191243993, 0.7705574084256236, 0.787999891681498, 0.7936205321687708, 0.8054915040413915, 0.7653123938462241, 0.8103284847726162, 0.7956630428164676, 0.8017629707082936, 0.8330170318297402, 0.7992879126025898, 0.8182816249492382, 0.7748077595667757, 0.805412404435223, 0.8014470474005577, 0.7815130779783559, 0.8207655578522399, 0.8052251061741543, 0.8015425836053394, 0.7091401478329059, 0.7538489296370823, 0.7701972511674382, 0.7994613147608058, 0.40276783177038933, 0.7314547722201479, 0.802476465925514, 0.807064569327256, 0.7744146297219825, 0.40276783177038933, 0.8257054954665415, 0.8012557115038131, 0.7815424317450608, 0.7914775399906658, 0.7316976963325971, 0.7782465471449488, 0.7441763588475274, 0.8082955463795505, 0.861977360339375, 0.8402108973458414]}, {\"categories\": [\"0\", \"1\", \"2\", \"3\", \"4\", \"5\", \"6\", \"7\", \"8\", \"9\", \"10\", \"11\", \"12\", \"13\", \"14\", \"15\", \"16\", \"17\", \"18\", \"19\", \"20\", \"21\", \"22\", \"23\", \"24\", \"25\", \"26\", \"27\", \"28\", \"29\", \"30\", \"31\", \"32\", \"33\", \"34\", \"35\", \"36\", \"37\", \"38\", \"39\", \"40\", \"41\", \"42\", \"43\", \"48\", \"49\"], \"mode\": \"lines\", \"name\": \"f1_score_macro_max\", \"stepped\": true, \"type\": \"scatter\", \"data\": [0.7682096405971308, 0.7972526241921125, 0.8015878642137568, 0.8024929819172621, 0.8064388654659066, 0.8064388654659066, 0.8089254342667698, 0.8123213191243993, 0.8123213191243993, 0.8123213191243993, 0.8123213191243993, 0.8123213191243993, 0.8123213191243993, 0.8123213191243993, 0.8123213191243993, 0.8123213191243993, 0.8330170318297402, 0.8330170318297402, 0.8330170318297402, 0.8330170318297402, 0.8330170318297402, 0.8330170318297402, 0.8330170318297402, 0.8330170318297402, 0.8330170318297402, 0.8330170318297402, 0.8330170318297402, 0.8330170318297402, 0.8330170318297402, 0.8330170318297402, 0.8330170318297402, 0.8330170318297402, 0.8330170318297402, 0.8330170318297402, 0.8330170318297402, 0.8330170318297402, 0.8330170318297402, 0.8330170318297402, 0.8330170318297402, 0.8330170318297402, 0.8330170318297402, 0.8330170318297402, 0.8330170318297402, 0.8330170318297402, 0.861977360339375, 0.861977360339375]}], \"weighted_accuracy\": [{\"categories\": [\"0\", \"1\", \"2\", \"3\", \"4\", \"5\", \"6\", \"7\", \"8\", \"9\", \"10\", \"11\", \"12\", \"13\", \"14\", \"15\", \"16\", \"17\", \"18\", \"19\", \"20\", \"21\", \"22\", \"23\", \"24\", \"25\", \"26\", \"27\", \"28\", \"29\", \"30\", \"31\", \"32\", \"33\", \"34\", \"35\", \"36\", \"37\", \"38\", \"39\", \"40\", \"41\", \"42\", \"43\", \"48\", \"49\"], \"mode\": \"markers\", \"name\": \"weighted_accuracy\", \"stepped\": false, \"type\": \"scatter\", \"data\": [0.8252063202764133, 0.8406325321291572, 0.8490362699553999, 0.8588760950662822, 0.8405999300146773, 0.782188953777126, 0.8538945134062287, 0.8584905822754134, 0.838719262821266, 0.8485238784728363, 0.8612757969898068, 0.8498945134062286, 0.8373043846340588, 0.8625150919762941, 0.848519821961955, 0.8533820798830117, 0.8869663143082892, 0.8498238554329095, 0.8709592349920021, 0.8455838915054388, 0.8583226043113102, 0.8467116575846492, 0.8513702623377982, 0.8747645447265153, 0.8598730471189169, 0.8192239105803548, 0.8149648296961984, 0.8365299867324645, 0.8392259532615098, 0.8503743233824756, 0.7971865900207855, 0.8317200900329442, 0.8574787478315061, 0.8697057211971035, 0.8628172670030745, 0.7971865900207855, 0.8777834584867097, 0.8492039791890523, 0.8427591124146463, 0.855439739051192, 0.8407158608256535, 0.8403274909190129, 0.8372160077618588, 0.8581992240614321, 0.9064080729594931, 0.8915958475375099]}, {\"categories\": [\"0\", \"1\", \"2\", \"3\", \"4\", \"5\", \"6\", \"7\", \"8\", \"9\", \"10\", \"11\", \"12\", \"13\", \"14\", \"15\", \"16\", \"17\", \"18\", \"19\", \"20\", \"21\", \"22\", \"23\", \"24\", \"25\", \"26\", \"27\", \"28\", \"29\", \"30\", \"31\", \"32\", \"33\", \"34\", \"35\", \"36\", \"37\", \"38\", \"39\", \"40\", \"41\", \"42\", \"43\", \"48\", \"49\"], \"mode\": \"lines\", \"name\": \"weighted_accuracy_max\", \"stepped\": true, \"type\": \"scatter\", \"data\": [0.8252063202764133, 0.8406325321291572, 0.8490362699553999, 0.8588760950662822, 0.8588760950662822, 0.8588760950662822, 0.8588760950662822, 0.8588760950662822, 0.8588760950662822, 0.8588760950662822, 0.8612757969898068, 0.8612757969898068, 0.8612757969898068, 0.8625150919762941, 0.8625150919762941, 0.8625150919762941, 0.8869663143082892, 0.8869663143082892, 0.8869663143082892, 0.8869663143082892, 0.8869663143082892, 0.8869663143082892, 0.8869663143082892, 0.8869663143082892, 0.8869663143082892, 0.8869663143082892, 0.8869663143082892, 0.8869663143082892, 0.8869663143082892, 0.8869663143082892, 0.8869663143082892, 0.8869663143082892, 0.8869663143082892, 0.8869663143082892, 0.8869663143082892, 0.8869663143082892, 0.8869663143082892, 0.8869663143082892, 0.8869663143082892, 0.8869663143082892, 0.8869663143082892, 0.8869663143082892, 0.8869663143082892, 0.8869663143082892, 0.9064080729594931, 0.9064080729594931]}], \"precision_score_macro\": [{\"categories\": [\"0\", \"1\", \"2\", \"3\", \"4\", \"5\", \"6\", \"7\", \"8\", \"9\", \"10\", \"11\", \"12\", \"13\", \"14\", \"15\", \"16\", \"17\", \"18\", \"19\", \"20\", \"21\", \"22\", \"23\", \"24\", \"25\", \"26\", \"27\", \"28\", \"29\", \"30\", \"31\", \"32\", \"33\", \"34\", \"35\", \"36\", \"37\", \"38\", \"39\", \"40\", \"41\", \"42\", \"43\", \"48\", \"49\"], \"mode\": \"markers\", \"name\": \"precision_score_macro\", \"stepped\": false, \"type\": \"scatter\", \"data\": [0.7889041743265773, 0.8086642059265495, 0.8078673656934526, 0.8273104407620429, 0.8149845175474466, 0.6838269849282975, 0.8198689465029734, 0.8206872601173142, 0.7860771263223979, 0.8049260610130174, 0.8250426766448561, 0.8156290197630467, 0.7943801096672672, 0.8351756872872562, 0.8099783443234431, 0.8298263723233414, 0.8673755299221139, 0.8148825216038811, 0.8444287366463232, 0.7989483576347591, 0.8251361132173246, 0.8138864749838636, 0.8106583750313735, 0.8531708482691057, 0.8181503701612398, 0.7987173124726225, 0.7754020155235961, 0.7924821022648049, 0.7986616143646671, 0.8119694194694194, 0.33954802259887, 0.797397612519193, 0.8167676959961522, 0.842846480739101, 0.8233427852120861, 0.33954802259887, 0.85544354833089, 0.8184426632231789, 0.8078025184968075, 0.8250653313124708, 0.8030437938021059, 0.7935786435786435, 0.7900565108721854, 0.8342361260122593, 0.8933133621697451, 0.8825062107814917]}, {\"categories\": [\"0\", \"1\", \"2\", \"3\", \"4\", \"5\", \"6\", \"7\", \"8\", \"9\", \"10\", \"11\", \"12\", \"13\", \"14\", \"15\", \"16\", \"17\", \"18\", \"19\", \"20\", \"21\", \"22\", \"23\", \"24\", \"25\", \"26\", \"27\", \"28\", \"29\", \"30\", \"31\", \"32\", \"33\", \"34\", \"35\", \"36\", \"37\", \"38\", \"39\", \"40\", \"41\", \"42\", \"43\", \"48\", \"49\"], \"mode\": \"lines\", \"name\": \"precision_score_macro_max\", \"stepped\": true, \"type\": \"scatter\", \"data\": [0.7889041743265773, 0.8086642059265495, 0.8086642059265495, 0.8273104407620429, 0.8273104407620429, 0.8273104407620429, 0.8273104407620429, 0.8273104407620429, 0.8273104407620429, 0.8273104407620429, 0.8273104407620429, 0.8273104407620429, 0.8273104407620429, 0.8351756872872562, 0.8351756872872562, 0.8351756872872562, 0.8673755299221139, 0.8673755299221139, 0.8673755299221139, 0.8673755299221139, 0.8673755299221139, 0.8673755299221139, 0.8673755299221139, 0.8673755299221139, 0.8673755299221139, 0.8673755299221139, 0.8673755299221139, 0.8673755299221139, 0.8673755299221139, 0.8673755299221139, 0.8673755299221139, 0.8673755299221139, 0.8673755299221139, 0.8673755299221139, 0.8673755299221139, 0.8673755299221139, 0.8673755299221139, 0.8673755299221139, 0.8673755299221139, 0.8673755299221139, 0.8673755299221139, 0.8673755299221139, 0.8673755299221139, 0.8673755299221139, 0.8933133621697451, 0.8933133621697451]}], \"precision_score_micro\": [{\"categories\": [\"0\", \"1\", \"2\", \"3\", \"4\", \"5\", \"6\", \"7\", \"8\", \"9\", \"10\", \"11\", \"12\", \"13\", \"14\", \"15\", \"16\", \"17\", \"18\", \"19\", \"20\", \"21\", \"22\", \"23\", \"24\", \"25\", \"26\", \"27\", \"28\", \"29\", \"30\", \"31\", \"32\", \"33\", \"34\", \"35\", \"36\", \"37\", \"38\", \"39\", \"40\", \"41\", \"42\", \"43\", \"48\", \"49\"], \"mode\": \"markers\", \"name\": \"precision_score_micro\", \"stepped\": false, \"type\": \"scatter\", \"data\": [0.8059887005649717, 0.8259322033898304, 0.8326553672316385, 0.836045197740113, 0.8325988700564972, 0.7059322033898305, 0.8393220338983051, 0.8425988700564971, 0.8125988700564971, 0.8259322033898304, 0.832824858757062, 0.8359887005649718, 0.8092655367231639, 0.8428248587570621, 0.8294350282485876, 0.8329943502824859, 0.8629943502824858, 0.8327118644067797, 0.8496045197740113, 0.8159887005649716, 0.8392655367231638, 0.8325988700564972, 0.8227118644067797, 0.8529378531073446, 0.8392090395480226, 0.8225988700564972, 0.7725423728813559, 0.8025423728813559, 0.8125988700564972, 0.8325988700564972, 0.67909604519774, 0.7893785310734462, 0.8359887005649718, 0.8429378531073446, 0.8226553672316385, 0.67909604519774, 0.8562711864406779, 0.8328248587570621, 0.8193785310734464, 0.8295480225988701, 0.792768361581921, 0.8162146892655369, 0.799322033898305, 0.8396045197740113, 0.8863841807909605, 0.8696610169491524]}, {\"categories\": [\"0\", \"1\", \"2\", \"3\", \"4\", \"5\", \"6\", \"7\", \"8\", \"9\", \"10\", \"11\", \"12\", \"13\", \"14\", \"15\", \"16\", \"17\", \"18\", \"19\", \"20\", \"21\", \"22\", \"23\", \"24\", \"25\", \"26\", \"27\", \"28\", \"29\", \"30\", \"31\", \"32\", \"33\", \"34\", \"35\", \"36\", \"37\", \"38\", \"39\", \"40\", \"41\", \"42\", \"43\", \"48\", \"49\"], \"mode\": \"lines\", \"name\": \"precision_score_micro_max\", \"stepped\": true, \"type\": \"scatter\", \"data\": [0.8059887005649717, 0.8259322033898304, 0.8326553672316385, 0.836045197740113, 0.836045197740113, 0.836045197740113, 0.8393220338983051, 0.8425988700564971, 0.8425988700564971, 0.8425988700564971, 0.8425988700564971, 0.8425988700564971, 0.8425988700564971, 0.8428248587570621, 0.8428248587570621, 0.8428248587570621, 0.8629943502824858, 0.8629943502824858, 0.8629943502824858, 0.8629943502824858, 0.8629943502824858, 0.8629943502824858, 0.8629943502824858, 0.8629943502824858, 0.8629943502824858, 0.8629943502824858, 0.8629943502824858, 0.8629943502824858, 0.8629943502824858, 0.8629943502824858, 0.8629943502824858, 0.8629943502824858, 0.8629943502824858, 0.8629943502824858, 0.8629943502824858, 0.8629943502824858, 0.8629943502824858, 0.8629943502824858, 0.8629943502824858, 0.8629943502824858, 0.8629943502824858, 0.8629943502824858, 0.8629943502824858, 0.8629943502824858, 0.8863841807909605, 0.8863841807909605]}], \"AUC_micro\": [{\"categories\": [\"0\", \"1\", \"2\", \"3\", \"4\", \"5\", \"6\", \"7\", \"8\", \"9\", \"10\", \"11\", \"12\", \"13\", \"14\", \"15\", \"16\", \"17\", \"18\", \"19\", \"20\", \"21\", \"22\", \"23\", \"24\", \"25\", \"26\", \"27\", \"28\", \"29\", \"30\", \"31\", \"32\", \"33\", \"34\", \"35\", \"36\", \"37\", \"38\", \"39\", \"40\", \"41\", \"42\", \"43\", \"48\", \"49\"], \"mode\": \"markers\", \"name\": \"AUC_micro\", \"stepped\": false, \"type\": \"scatter\", \"data\": [0.8880105014523284, 0.8999905678444892, 0.9090105014523285, 0.9031187717450285, 0.9130598965814422, 0.7937997223020204, 0.902532829008267, 0.9070489642184558, 0.885036148616298, 0.9095565610137573, 0.8964558875163586, 0.9044041463181077, 0.9018409939672509, 0.9016890421015672, 0.8932493376743592, 0.8939478119314372, 0.9061258737910564, 0.9170275942417568, 0.9042882632704522, 0.8927631108557567, 0.9095071818442977, 0.9068139263940758, 0.8854616010724887, 0.9075014682881675, 0.9036439401193783, 0.8958239011778224, 0.8775974017683297, 0.8944535254875674, 0.9011054773532509, 0.9042887580197261, 0.6790960451977401, 0.880520955025695, 0.9163110696160105, 0.9074762999138178, 0.8911529573238852, 0.684680551565642, 0.902744102907849, 0.8906553193526765, 0.9064330971304543, 0.8959188451594369, 0.8779805930607424, 0.8861220753934056, 0.8802051773117558, 0.9000104854926747, 0.9173438188260079, 0.9086158990073094]}, {\"categories\": [\"0\", \"1\", \"2\", \"3\", \"4\", \"5\", \"6\", \"7\", \"8\", \"9\", \"10\", \"11\", \"12\", \"13\", \"14\", \"15\", \"16\", \"17\", \"18\", \"19\", \"20\", \"21\", \"22\", \"23\", \"24\", \"25\", \"26\", \"27\", \"28\", \"29\", \"30\", \"31\", \"32\", \"33\", \"34\", \"35\", \"36\", \"37\", \"38\", \"39\", \"40\", \"41\", \"42\", \"43\", \"48\", \"49\"], \"mode\": \"lines\", \"name\": \"AUC_micro_max\", \"stepped\": true, \"type\": \"scatter\", \"data\": [0.8880105014523284, 0.8999905678444892, 0.9090105014523285, 0.9090105014523285, 0.9130598965814422, 0.9130598965814422, 0.9130598965814422, 0.9130598965814422, 0.9130598965814422, 0.9130598965814422, 0.9130598965814422, 0.9130598965814422, 0.9130598965814422, 0.9130598965814422, 0.9130598965814422, 0.9130598965814422, 0.9130598965814422, 0.9170275942417568, 0.9170275942417568, 0.9170275942417568, 0.9170275942417568, 0.9170275942417568, 0.9170275942417568, 0.9170275942417568, 0.9170275942417568, 0.9170275942417568, 0.9170275942417568, 0.9170275942417568, 0.9170275942417568, 0.9170275942417568, 0.9170275942417568, 0.9170275942417568, 0.9170275942417568, 0.9170275942417568, 0.9170275942417568, 0.9170275942417568, 0.9170275942417568, 0.9170275942417568, 0.9170275942417568, 0.9170275942417568, 0.9170275942417568, 0.9170275942417568, 0.9170275942417568, 0.9170275942417568, 0.9173438188260079, 0.9173438188260079]}], \"log_loss\": [{\"categories\": [\"0\", \"1\", \"2\", \"3\", \"4\", \"5\", \"6\", \"7\", \"8\", \"9\", \"10\", \"11\", \"12\", \"13\", \"14\", \"15\", \"16\", \"17\", \"18\", \"19\", \"20\", \"21\", \"22\", \"23\", \"24\", \"25\", \"26\", \"27\", \"28\", \"29\", \"30\", \"31\", \"32\", \"33\", \"34\", \"35\", \"36\", \"37\", \"38\", \"39\", \"40\", \"41\", \"42\", \"43\", \"48\", \"49\"], \"mode\": \"markers\", \"name\": \"log_loss\", \"stepped\": false, \"type\": \"scatter\", \"data\": [0.5282491261622873, 0.43217688137359717, 0.3931279871919168, 0.40251125725216585, 0.3815654793434426, 0.8705643061746873, 0.39912664217092375, 0.39609908859969006, 0.4289055301797444, 0.40392202463015414, 0.411000277906985, 0.3907947296584456, 0.402847525757828, 0.41348302456053065, 0.41580917256082356, 0.41472333246893617, 0.40088068079054817, 0.3691730619210937, 0.40076340818726486, 0.42002277518186276, 0.3917660589783205, 0.3887626568533792, 0.4583476083735859, 0.39311041505349414, 0.39300925739363946, 0.4558423297827372, 0.4487036146132519, 0.43546851362189176, 0.4029256152017984, 0.3902963067398181, 0.6376116077012199, 0.4662481247923213, 0.39529924461716515, 0.427205887991974, 0.5044404800443761, 0.6361191318268125, 0.3955191020579848, 0.4164765930858897, 0.3860715531734297, 0.4121414830579484, 0.5236097257285788, 0.4753840622509432, 0.44526258974477606, 0.4051871073465757, 0.3692515333377096, 0.38991118534986946]}, {\"categories\": [\"0\", \"1\", \"2\", \"3\", \"4\", \"5\", \"6\", \"7\", \"8\", \"9\", \"10\", \"11\", \"12\", \"13\", \"14\", \"15\", \"16\", \"17\", \"18\", \"19\", \"20\", \"21\", \"22\", \"23\", \"24\", \"25\", \"26\", \"27\", \"28\", \"29\", \"30\", \"31\", \"32\", \"33\", \"34\", \"35\", \"36\", \"37\", \"38\", \"39\", \"40\", \"41\", \"42\", \"43\", \"48\", \"49\"], \"mode\": \"lines\", \"name\": \"log_loss_min\", \"stepped\": true, \"type\": \"scatter\", \"data\": [0.5282491261622873, 0.43217688137359717, 0.3931279871919168, 0.3931279871919168, 0.3815654793434426, 0.3815654793434426, 0.3815654793434426, 0.3815654793434426, 0.3815654793434426, 0.3815654793434426, 0.3815654793434426, 0.3815654793434426, 0.3815654793434426, 0.3815654793434426, 0.3815654793434426, 0.3815654793434426, 0.3815654793434426, 0.3691730619210937, 0.3691730619210937, 0.3691730619210937, 0.3691730619210937, 0.3691730619210937, 0.3691730619210937, 0.3691730619210937, 0.3691730619210937, 0.3691730619210937, 0.3691730619210937, 0.3691730619210937, 0.3691730619210937, 0.3691730619210937, 0.3691730619210937, 0.3691730619210937, 0.3691730619210937, 0.3691730619210937, 0.3691730619210937, 0.3691730619210937, 0.3691730619210937, 0.3691730619210937, 0.3691730619210937, 0.3691730619210937, 0.3691730619210937, 0.3691730619210937, 0.3691730619210937, 0.3691730619210937, 0.3691730619210937, 0.3691730619210937]}], \"balanced_accuracy\": [{\"categories\": [\"0\", \"1\", \"2\", \"3\", \"4\", \"5\", \"6\", \"7\", \"8\", \"9\", \"10\", \"11\", \"12\", \"13\", \"14\", \"15\", \"16\", \"17\", \"18\", \"19\", \"20\", \"21\", \"22\", \"23\", \"24\", \"25\", \"26\", \"27\", \"28\", \"29\", \"30\", \"31\", \"32\", \"33\", \"34\", \"35\", \"36\", \"37\", \"38\", \"39\", \"40\", \"41\", \"42\", \"43\", \"48\", \"49\"], \"mode\": \"markers\", \"name\": \"balanced_accuracy\", \"stepped\": false, \"type\": \"scatter\", \"data\": [0.7760209025470652, 0.8060125968992248, 0.8080149501661129, 0.804796511627907, 0.8209447674418605, 0.5894303709856035, 0.8183381782945736, 0.8188143687707642, 0.7730488648947951, 0.7923941029900332, 0.7911821705426357, 0.8158381782945737, 0.768312569213732, 0.8144518272425249, 0.8010804263565892, 0.8043410852713178, 0.8285714285714285, 0.8058423311184939, 0.8191625138427465, 0.7742691029900332, 0.8104554263565891, 0.8124411683277962, 0.7812631506090808, 0.8220196566998894, 0.8089929401993355, 0.82796857696567, 0.7118839977851605, 0.75265780730897, 0.7728959025470653, 0.8070881782945737, 0.5, 0.7302768549280177, 0.8050685215946844, 0.8032696566998894, 0.7640351605758582, 0.5, 0.8251744186046512, 0.8102810077519379, 0.7848387320044298, 0.7914244186046512, 0.7221387043189369, 0.7801065891472868, 0.7459143133997785, 0.8134440753045403, 0.856904761904762, 0.8374404761904761]}, {\"categories\": [\"0\", \"1\", \"2\", \"3\", \"4\", \"5\", \"6\", \"7\", \"8\", \"9\", \"10\", \"11\", \"12\", \"13\", \"14\", \"15\", \"16\", \"17\", \"18\", \"19\", \"20\", \"21\", \"22\", \"23\", \"24\", \"25\", \"26\", \"27\", \"28\", \"29\", \"30\", \"31\", \"32\", \"33\", \"34\", \"35\", \"36\", \"37\", \"38\", \"39\", \"40\", \"41\", \"42\", \"43\", \"48\", \"49\"], \"mode\": \"lines\", \"name\": \"balanced_accuracy_max\", \"stepped\": true, \"type\": \"scatter\", \"data\": [0.7760209025470652, 0.8060125968992248, 0.8080149501661129, 0.8080149501661129, 0.8209447674418605, 0.8209447674418605, 0.8209447674418605, 0.8209447674418605, 0.8209447674418605, 0.8209447674418605, 0.8209447674418605, 0.8209447674418605, 0.8209447674418605, 0.8209447674418605, 0.8209447674418605, 0.8209447674418605, 0.8285714285714285, 0.8285714285714285, 0.8285714285714285, 0.8285714285714285, 0.8285714285714285, 0.8285714285714285, 0.8285714285714285, 0.8285714285714285, 0.8285714285714285, 0.8285714285714285, 0.8285714285714285, 0.8285714285714285, 0.8285714285714285, 0.8285714285714285, 0.8285714285714285, 0.8285714285714285, 0.8285714285714285, 0.8285714285714285, 0.8285714285714285, 0.8285714285714285, 0.8285714285714285, 0.8285714285714285, 0.8285714285714285, 0.8285714285714285, 0.8285714285714285, 0.8285714285714285, 0.8285714285714285, 0.8285714285714285, 0.856904761904762, 0.856904761904762]}], \"recall_score_macro\": [{\"categories\": [\"0\", \"1\", \"2\", \"3\", \"4\", \"5\", \"6\", \"7\", \"8\", \"9\", \"10\", \"11\", \"12\", \"13\", \"14\", \"15\", \"16\", \"17\", \"18\", \"19\", \"20\", \"21\", \"22\", \"23\", \"24\", \"25\", \"26\", \"27\", \"28\", \"29\", \"30\", \"31\", \"32\", \"33\", \"34\", \"35\", \"36\", \"37\", \"38\", \"39\", \"40\", \"41\", \"42\", \"43\", \"48\", \"49\"], \"mode\": \"markers\", \"name\": \"recall_score_macro\", \"stepped\": false, \"type\": \"scatter\", \"data\": [0.7760209025470652, 0.8060125968992248, 0.8080149501661129, 0.804796511627907, 0.8209447674418605, 0.5894303709856035, 0.8183381782945736, 0.8188143687707642, 0.7730488648947951, 0.7923941029900332, 0.7911821705426357, 0.8158381782945737, 0.768312569213732, 0.8144518272425249, 0.8010804263565892, 0.8043410852713178, 0.8285714285714285, 0.8058423311184939, 0.8191625138427465, 0.7742691029900332, 0.8104554263565891, 0.8124411683277962, 0.7812631506090808, 0.8220196566998894, 0.8089929401993355, 0.82796857696567, 0.7118839977851605, 0.75265780730897, 0.7728959025470653, 0.8070881782945737, 0.5, 0.7302768549280177, 0.8050685215946844, 0.8032696566998894, 0.7640351605758582, 0.5, 0.8251744186046512, 0.8102810077519379, 0.7848387320044298, 0.7914244186046512, 0.7221387043189369, 0.7801065891472868, 0.7459143133997785, 0.8134440753045403, 0.856904761904762, 0.8374404761904761]}, {\"categories\": [\"0\", \"1\", \"2\", \"3\", \"4\", \"5\", \"6\", \"7\", \"8\", \"9\", \"10\", \"11\", \"12\", \"13\", \"14\", \"15\", \"16\", \"17\", \"18\", \"19\", \"20\", \"21\", \"22\", \"23\", \"24\", \"25\", \"26\", \"27\", \"28\", \"29\", \"30\", \"31\", \"32\", \"33\", \"34\", \"35\", \"36\", \"37\", \"38\", \"39\", \"40\", \"41\", \"42\", \"43\", \"48\", \"49\"], \"mode\": \"lines\", \"name\": \"recall_score_macro_max\", \"stepped\": true, \"type\": \"scatter\", \"data\": [0.7760209025470652, 0.8060125968992248, 0.8080149501661129, 0.8080149501661129, 0.8209447674418605, 0.8209447674418605, 0.8209447674418605, 0.8209447674418605, 0.8209447674418605, 0.8209447674418605, 0.8209447674418605, 0.8209447674418605, 0.8209447674418605, 0.8209447674418605, 0.8209447674418605, 0.8209447674418605, 0.8285714285714285, 0.8285714285714285, 0.8285714285714285, 0.8285714285714285, 0.8285714285714285, 0.8285714285714285, 0.8285714285714285, 0.8285714285714285, 0.8285714285714285, 0.8285714285714285, 0.8285714285714285, 0.8285714285714285, 0.8285714285714285, 0.8285714285714285, 0.8285714285714285, 0.8285714285714285, 0.8285714285714285, 0.8285714285714285, 0.8285714285714285, 0.8285714285714285, 0.8285714285714285, 0.8285714285714285, 0.8285714285714285, 0.8285714285714285, 0.8285714285714285, 0.8285714285714285, 0.8285714285714285, 0.8285714285714285, 0.856904761904762, 0.856904761904762]}], \"matthews_correlation\": [{\"categories\": [\"0\", \"1\", \"2\", \"3\", \"4\", \"5\", \"6\", \"7\", \"8\", \"9\", \"10\", \"11\", \"12\", \"13\", \"14\", \"15\", \"16\", \"17\", \"18\", \"19\", \"20\", \"21\", \"22\", \"23\", \"24\", \"25\", \"26\", \"27\", \"28\", \"29\", \"30\", \"31\", \"32\", \"33\", \"34\", \"35\", \"36\", \"37\", \"38\", \"39\", \"40\", \"41\", \"42\", \"43\", \"48\", \"49\"], \"mode\": \"markers\", \"name\": \"matthews_correlation\", \"stepped\": false, \"type\": \"scatter\", \"data\": [0.5628617041183437, 0.6132552509330647, 0.6150969447857165, 0.6297726131836587, 0.6342722779971026, 0.25262805882832595, 0.6366640675731012, 0.6385774527760897, 0.5576098487790752, 0.5955231919005842, 0.6133239583693045, 0.6299139309053216, 0.5596588796082372, 0.6470014103802162, 0.6096999604896205, 0.6311991764150848, 0.6922930062966495, 0.6191816075859237, 0.6607018358744922, 0.5712261178154907, 0.6336437357178627, 0.6244580492083116, 0.5894205461764175, 0.6714823349474599, 0.6260209038378604, 0.6248597358391427, 0.4769239457378391, 0.5413735838838376, 0.5686795596415256, 0.6175210673161543, 0.0, 0.5193277249521904, 0.6206847787326153, 0.642765171332357, 0.5832835639254463, 0.0, 0.6775583688990059, 0.6263978126148096, 0.5899072914939149, 0.6125876588531239, 0.5164136035739674, 0.5724894179464736, 0.5298592737196401, 0.6447385103432455, 0.7474635925141251, 0.7151000456570559]}, {\"categories\": [\"0\", \"1\", \"2\", \"3\", \"4\", \"5\", \"6\", \"7\", \"8\", \"9\", \"10\", \"11\", \"12\", \"13\", \"14\", \"15\", \"16\", \"17\", \"18\", \"19\", \"20\", \"21\", \"22\", \"23\", \"24\", \"25\", \"26\", \"27\", \"28\", \"29\", \"30\", \"31\", \"32\", \"33\", \"34\", \"35\", \"36\", \"37\", \"38\", \"39\", \"40\", \"41\", \"42\", \"43\", \"48\", \"49\"], \"mode\": \"lines\", \"name\": \"matthews_correlation_max\", \"stepped\": true, \"type\": \"scatter\", \"data\": [0.5628617041183437, 0.6132552509330647, 0.6150969447857165, 0.6297726131836587, 0.6342722779971026, 0.6342722779971026, 0.6366640675731012, 0.6385774527760897, 0.6385774527760897, 0.6385774527760897, 0.6385774527760897, 0.6385774527760897, 0.6385774527760897, 0.6470014103802162, 0.6470014103802162, 0.6470014103802162, 0.6922930062966495, 0.6922930062966495, 0.6922930062966495, 0.6922930062966495, 0.6922930062966495, 0.6922930062966495, 0.6922930062966495, 0.6922930062966495, 0.6922930062966495, 0.6922930062966495, 0.6922930062966495, 0.6922930062966495, 0.6922930062966495, 0.6922930062966495, 0.6922930062966495, 0.6922930062966495, 0.6922930062966495, 0.6922930062966495, 0.6922930062966495, 0.6922930062966495, 0.6922930062966495, 0.6922930062966495, 0.6922930062966495, 0.6922930062966495, 0.6922930062966495, 0.6922930062966495, 0.6922930062966495, 0.6922930062966495, 0.7474635925141251, 0.7474635925141251]}], \"precision_score_weighted\": [{\"categories\": [\"0\", \"1\", \"2\", \"3\", \"4\", \"5\", \"6\", \"7\", \"8\", \"9\", \"10\", \"11\", \"12\", \"13\", \"14\", \"15\", \"16\", \"17\", \"18\", \"19\", \"20\", \"21\", \"22\", \"23\", \"24\", \"25\", \"26\", \"27\", \"28\", \"29\", \"30\", \"31\", \"32\", \"33\", \"34\", \"35\", \"36\", \"37\", \"38\", \"39\", \"40\", \"41\", \"42\", \"43\", \"48\", \"49\"], \"mode\": \"markers\", \"name\": \"precision_score_weighted\", \"stepped\": false, \"type\": \"scatter\", \"data\": [0.8237683758533973, 0.8403871377947292, 0.8409733416070926, 0.85273098268927, 0.8524625658991714, 0.7122028981772311, 0.8537923511054644, 0.8532707161384627, 0.8206854341777202, 0.8358423271245673, 0.8476571659719919, 0.8508375281506414, 0.8261621101752858, 0.8600704474823478, 0.8424335258100143, 0.8531774663897151, 0.8793008030363542, 0.846718775009311, 0.865746259330755, 0.826428840130905, 0.8539307578502628, 0.8492722037031808, 0.8361078787627895, 0.8721608882857931, 0.8484418322609185, 0.8497382327160663, 0.7962027427641425, 0.8180345629300609, 0.8290467872298883, 0.8457154810036167, 0.4689005075169971, 0.8126060031474488, 0.8452598453244441, 0.859695486360691, 0.8353061511935346, 0.4689005075169971, 0.8729174617565201, 0.8517241270230856, 0.8330248611870266, 0.8488824840064029, 0.8116948347879381, 0.8264911504064045, 0.8170250922530247, 0.8596366346896145, 0.9014950530296726, 0.8908282048695941]}, {\"categories\": [\"0\", \"1\", \"2\", \"3\", \"4\", \"5\", \"6\", \"7\", \"8\", \"9\", \"10\", \"11\", \"12\", \"13\", \"14\", \"15\", \"16\", \"17\", \"18\", \"19\", \"20\", \"21\", \"22\", \"23\", \"24\", \"25\", \"26\", \"27\", \"28\", \"29\", \"30\", \"31\", \"32\", \"33\", \"34\", \"35\", \"36\", \"37\", \"38\", \"39\", \"40\", \"41\", \"42\", \"43\", \"48\", \"49\"], \"mode\": \"lines\", \"name\": \"precision_score_weighted_max\", \"stepped\": true, \"type\": \"scatter\", \"data\": [0.8237683758533973, 0.8403871377947292, 0.8409733416070926, 0.85273098268927, 0.85273098268927, 0.85273098268927, 0.8537923511054644, 0.8537923511054644, 0.8537923511054644, 0.8537923511054644, 0.8537923511054644, 0.8537923511054644, 0.8537923511054644, 0.8600704474823478, 0.8600704474823478, 0.8600704474823478, 0.8793008030363542, 0.8793008030363542, 0.8793008030363542, 0.8793008030363542, 0.8793008030363542, 0.8793008030363542, 0.8793008030363542, 0.8793008030363542, 0.8793008030363542, 0.8793008030363542, 0.8793008030363542, 0.8793008030363542, 0.8793008030363542, 0.8793008030363542, 0.8793008030363542, 0.8793008030363542, 0.8793008030363542, 0.8793008030363542, 0.8793008030363542, 0.8793008030363542, 0.8793008030363542, 0.8793008030363542, 0.8793008030363542, 0.8793008030363542, 0.8793008030363542, 0.8793008030363542, 0.8793008030363542, 0.8793008030363542, 0.9014950530296726, 0.9014950530296726]}], \"recall_score_micro\": [{\"categories\": [\"0\", \"1\", \"2\", \"3\", \"4\", \"5\", \"6\", \"7\", \"8\", \"9\", \"10\", \"11\", \"12\", \"13\", \"14\", \"15\", \"16\", \"17\", \"18\", \"19\", \"20\", \"21\", \"22\", \"23\", \"24\", \"25\", \"26\", \"27\", \"28\", \"29\", \"30\", \"31\", \"32\", \"33\", \"34\", \"35\", \"36\", \"37\", \"38\", \"39\", \"40\", \"41\", \"42\", \"43\", \"48\", \"49\"], \"mode\": \"markers\", \"name\": \"recall_score_micro\", \"stepped\": false, \"type\": \"scatter\", \"data\": [0.8059887005649717, 0.8259322033898304, 0.8326553672316385, 0.836045197740113, 0.8325988700564972, 0.7059322033898305, 0.8393220338983051, 0.8425988700564971, 0.8125988700564971, 0.8259322033898304, 0.832824858757062, 0.8359887005649718, 0.8092655367231639, 0.8428248587570621, 0.8294350282485876, 0.8329943502824859, 0.8629943502824858, 0.8327118644067797, 0.8496045197740113, 0.8159887005649716, 0.8392655367231638, 0.8325988700564972, 0.8227118644067797, 0.8529378531073446, 0.8392090395480226, 0.8225988700564972, 0.7725423728813559, 0.8025423728813559, 0.8125988700564972, 0.8325988700564972, 0.67909604519774, 0.7893785310734462, 0.8359887005649718, 0.8429378531073446, 0.8226553672316385, 0.67909604519774, 0.8562711864406779, 0.8328248587570621, 0.8193785310734464, 0.8295480225988701, 0.792768361581921, 0.8162146892655369, 0.799322033898305, 0.8396045197740113, 0.8863841807909605, 0.8696610169491524]}, {\"categories\": [\"0\", \"1\", \"2\", \"3\", \"4\", \"5\", \"6\", \"7\", \"8\", \"9\", \"10\", \"11\", \"12\", \"13\", \"14\", \"15\", \"16\", \"17\", \"18\", \"19\", \"20\", \"21\", \"22\", \"23\", \"24\", \"25\", \"26\", \"27\", \"28\", \"29\", \"30\", \"31\", \"32\", \"33\", \"34\", \"35\", \"36\", \"37\", \"38\", \"39\", \"40\", \"41\", \"42\", \"43\", \"48\", \"49\"], \"mode\": \"lines\", \"name\": \"recall_score_micro_max\", \"stepped\": true, \"type\": \"scatter\", \"data\": [0.8059887005649717, 0.8259322033898304, 0.8326553672316385, 0.836045197740113, 0.836045197740113, 0.836045197740113, 0.8393220338983051, 0.8425988700564971, 0.8425988700564971, 0.8425988700564971, 0.8425988700564971, 0.8425988700564971, 0.8425988700564971, 0.8428248587570621, 0.8428248587570621, 0.8428248587570621, 0.8629943502824858, 0.8629943502824858, 0.8629943502824858, 0.8629943502824858, 0.8629943502824858, 0.8629943502824858, 0.8629943502824858, 0.8629943502824858, 0.8629943502824858, 0.8629943502824858, 0.8629943502824858, 0.8629943502824858, 0.8629943502824858, 0.8629943502824858, 0.8629943502824858, 0.8629943502824858, 0.8629943502824858, 0.8629943502824858, 0.8629943502824858, 0.8629943502824858, 0.8629943502824858, 0.8629943502824858, 0.8629943502824858, 0.8629943502824858, 0.8629943502824858, 0.8629943502824858, 0.8629943502824858, 0.8629943502824858, 0.8863841807909605, 0.8863841807909605]}], \"norm_macro_recall\": [{\"categories\": [\"0\", \"1\", \"2\", \"3\", \"4\", \"5\", \"6\", \"7\", \"8\", \"9\", \"10\", \"11\", \"12\", \"13\", \"14\", \"15\", \"16\", \"17\", \"18\", \"19\", \"20\", \"21\", \"22\", \"23\", \"24\", \"25\", \"26\", \"27\", \"28\", \"29\", \"30\", \"31\", \"32\", \"33\", \"34\", \"35\", \"36\", \"37\", \"38\", \"39\", \"40\", \"41\", \"42\", \"43\", \"48\", \"49\"], \"mode\": \"markers\", \"name\": \"norm_macro_recall\", \"stepped\": false, \"type\": \"scatter\", \"data\": [0.5520418050941306, 0.6120251937984496, 0.6160299003322258, 0.6095930232558139, 0.641889534883721, 0.17886074197120702, 0.6366763565891473, 0.6376287375415283, 0.5460977297895903, 0.5847882059800664, 0.5823643410852714, 0.6316763565891472, 0.5366251384274641, 0.6289036544850498, 0.6021608527131784, 0.6086821705426356, 0.6571428571428571, 0.6116846622369879, 0.6383250276854928, 0.5485382059800663, 0.6209108527131784, 0.6248823366555926, 0.5625263012181616, 0.6440393133997786, 0.6179858803986711, 0.6559371539313401, 0.4237679955703212, 0.5053156146179403, 0.5457918050941306, 0.6141763565891474, 0.0, 0.46055370985603544, 0.6101370431893688, 0.6065393133997785, 0.5280703211517166, 0.0, 0.6503488372093024, 0.6205620155038759, 0.5696774640088593, 0.5828488372093024, 0.4442774086378737, 0.5602131782945736, 0.4918286267995571, 0.6268881506090809, 0.7138095238095239, 0.6748809523809524]}, {\"categories\": [\"0\", \"1\", \"2\", \"3\", \"4\", \"5\", \"6\", \"7\", \"8\", \"9\", \"10\", \"11\", \"12\", \"13\", \"14\", \"15\", \"16\", \"17\", \"18\", \"19\", \"20\", \"21\", \"22\", \"23\", \"24\", \"25\", \"26\", \"27\", \"28\", \"29\", \"30\", \"31\", \"32\", \"33\", \"34\", \"35\", \"36\", \"37\", \"38\", \"39\", \"40\", \"41\", \"42\", \"43\", \"48\", \"49\"], \"mode\": \"lines\", \"name\": \"norm_macro_recall_max\", \"stepped\": true, \"type\": \"scatter\", \"data\": [0.5520418050941306, 0.6120251937984496, 0.6160299003322258, 0.6160299003322258, 0.641889534883721, 0.641889534883721, 0.641889534883721, 0.641889534883721, 0.641889534883721, 0.641889534883721, 0.641889534883721, 0.641889534883721, 0.641889534883721, 0.641889534883721, 0.641889534883721, 0.641889534883721, 0.6571428571428571, 0.6571428571428571, 0.6571428571428571, 0.6571428571428571, 0.6571428571428571, 0.6571428571428571, 0.6571428571428571, 0.6571428571428571, 0.6571428571428571, 0.6571428571428571, 0.6571428571428571, 0.6571428571428571, 0.6571428571428571, 0.6571428571428571, 0.6571428571428571, 0.6571428571428571, 0.6571428571428571, 0.6571428571428571, 0.6571428571428571, 0.6571428571428571, 0.6571428571428571, 0.6571428571428571, 0.6571428571428571, 0.6571428571428571, 0.6571428571428571, 0.6571428571428571, 0.6571428571428571, 0.6571428571428571, 0.7138095238095239, 0.7138095238095239]}], \"f1_score_weighted\": [{\"categories\": [\"0\", \"1\", \"2\", \"3\", \"4\", \"5\", \"6\", \"7\", \"8\", \"9\", \"10\", \"11\", \"12\", \"13\", \"14\", \"15\", \"16\", \"17\", \"18\", \"19\", \"20\", \"21\", \"22\", \"23\", \"24\", \"25\", \"26\", \"27\", \"28\", \"29\", \"30\", \"31\", \"32\", \"33\", \"34\", \"35\", \"36\", \"37\", \"38\", \"39\", \"40\", \"41\", \"42\", \"43\", \"48\", \"49\"], \"mode\": \"markers\", \"name\": \"f1_score_weighted\", \"stepped\": false, \"type\": \"scatter\", \"data\": [0.8014398448329555, 0.8237396450256732, 0.8310369151241683, 0.8318976143383772, 0.8320343807639873, 0.6600712796976005, 0.8371976660875156, 0.8410414046790958, 0.8087827807573976, 0.8215043286324981, 0.8273700552431184, 0.8340012062748162, 0.8026943251342772, 0.8380115908687884, 0.8266619723924865, 0.8295428462047711, 0.8585983069929906, 0.8291521186274389, 0.8460634212025754, 0.8105215188310639, 0.8349708346376126, 0.8301177700122799, 0.8161214746749401, 0.8477579650357031, 0.8360434488357885, 0.826632735864065, 0.7522144212803786, 0.7927356471104344, 0.8060727432553108, 0.8298999344793243, 0.5526564268547016, 0.7714767730459244, 0.8327726267514072, 0.8369381244530254, 0.8120819514951683, 0.5526564268547016, 0.8517135536419937, 0.8304103009842212, 0.8127912197947007, 0.8249593133090706, 0.7761156968901604, 0.8135316501863595, 0.7889302228106605, 0.8354857702816846, 0.8824490394198719, 0.8629157985878455]}, {\"categories\": [\"0\", \"1\", \"2\", \"3\", \"4\", \"5\", \"6\", \"7\", \"8\", \"9\", \"10\", \"11\", \"12\", \"13\", \"14\", \"15\", \"16\", \"17\", \"18\", \"19\", \"20\", \"21\", \"22\", \"23\", \"24\", \"25\", \"26\", \"27\", \"28\", \"29\", \"30\", \"31\", \"32\", \"33\", \"34\", \"35\", \"36\", \"37\", \"38\", \"39\", \"40\", \"41\", \"42\", \"43\", \"48\", \"49\"], \"mode\": \"lines\", \"name\": \"f1_score_weighted_max\", \"stepped\": true, \"type\": \"scatter\", \"data\": [0.8014398448329555, 0.8237396450256732, 0.8310369151241683, 0.8318976143383772, 0.8320343807639873, 0.8320343807639873, 0.8371976660875156, 0.8410414046790958, 0.8410414046790958, 0.8410414046790958, 0.8410414046790958, 0.8410414046790958, 0.8410414046790958, 0.8410414046790958, 0.8410414046790958, 0.8410414046790958, 0.8585983069929906, 0.8585983069929906, 0.8585983069929906, 0.8585983069929906, 0.8585983069929906, 0.8585983069929906, 0.8585983069929906, 0.8585983069929906, 0.8585983069929906, 0.8585983069929906, 0.8585983069929906, 0.8585983069929906, 0.8585983069929906, 0.8585983069929906, 0.8585983069929906, 0.8585983069929906, 0.8585983069929906, 0.8585983069929906, 0.8585983069929906, 0.8585983069929906, 0.8585983069929906, 0.8585983069929906, 0.8585983069929906, 0.8585983069929906, 0.8585983069929906, 0.8585983069929906, 0.8585983069929906, 0.8585983069929906, 0.8824490394198719, 0.8824490394198719]}], \"recall_score_weighted\": [{\"categories\": [\"0\", \"1\", \"2\", \"3\", \"4\", \"5\", \"6\", \"7\", \"8\", \"9\", \"10\", \"11\", \"12\", \"13\", \"14\", \"15\", \"16\", \"17\", \"18\", \"19\", \"20\", \"21\", \"22\", \"23\", \"24\", \"25\", \"26\", \"27\", \"28\", \"29\", \"30\", \"31\", \"32\", \"33\", \"34\", \"35\", \"36\", \"37\", \"38\", \"39\", \"40\", \"41\", \"42\", \"43\", \"48\", \"49\"], \"mode\": \"markers\", \"name\": \"recall_score_weighted\", \"stepped\": false, \"type\": \"scatter\", \"data\": [0.8059887005649717, 0.8259322033898304, 0.8326553672316385, 0.836045197740113, 0.8325988700564972, 0.7059322033898305, 0.8393220338983051, 0.8425988700564971, 0.8125988700564971, 0.8259322033898304, 0.832824858757062, 0.8359887005649718, 0.8092655367231639, 0.8428248587570621, 0.8294350282485876, 0.8329943502824859, 0.8629943502824858, 0.8327118644067797, 0.8496045197740113, 0.8159887005649716, 0.8392655367231638, 0.8325988700564972, 0.8227118644067797, 0.8529378531073446, 0.8392090395480226, 0.8225988700564972, 0.7725423728813559, 0.8025423728813559, 0.8125988700564972, 0.8325988700564972, 0.67909604519774, 0.7893785310734462, 0.8359887005649718, 0.8429378531073446, 0.8226553672316385, 0.67909604519774, 0.8562711864406779, 0.8328248587570621, 0.8193785310734464, 0.8295480225988701, 0.792768361581921, 0.8162146892655369, 0.799322033898305, 0.8396045197740113, 0.8863841807909605, 0.8696610169491524]}, {\"categories\": [\"0\", \"1\", \"2\", \"3\", \"4\", \"5\", \"6\", \"7\", \"8\", \"9\", \"10\", \"11\", \"12\", \"13\", \"14\", \"15\", \"16\", \"17\", \"18\", \"19\", \"20\", \"21\", \"22\", \"23\", \"24\", \"25\", \"26\", \"27\", \"28\", \"29\", \"30\", \"31\", \"32\", \"33\", \"34\", \"35\", \"36\", \"37\", \"38\", \"39\", \"40\", \"41\", \"42\", \"43\", \"48\", \"49\"], \"mode\": \"lines\", \"name\": \"recall_score_weighted_max\", \"stepped\": true, \"type\": \"scatter\", \"data\": [0.8059887005649717, 0.8259322033898304, 0.8326553672316385, 0.836045197740113, 0.836045197740113, 0.836045197740113, 0.8393220338983051, 0.8425988700564971, 0.8425988700564971, 0.8425988700564971, 0.8425988700564971, 0.8425988700564971, 0.8425988700564971, 0.8428248587570621, 0.8428248587570621, 0.8428248587570621, 0.8629943502824858, 0.8629943502824858, 0.8629943502824858, 0.8629943502824858, 0.8629943502824858, 0.8629943502824858, 0.8629943502824858, 0.8629943502824858, 0.8629943502824858, 0.8629943502824858, 0.8629943502824858, 0.8629943502824858, 0.8629943502824858, 0.8629943502824858, 0.8629943502824858, 0.8629943502824858, 0.8629943502824858, 0.8629943502824858, 0.8629943502824858, 0.8629943502824858, 0.8629943502824858, 0.8629943502824858, 0.8629943502824858, 0.8629943502824858, 0.8629943502824858, 0.8629943502824858, 0.8629943502824858, 0.8629943502824858, 0.8863841807909605, 0.8863841807909605]}], \"AUC_macro\": [{\"categories\": [\"0\", \"1\", \"2\", \"3\", \"4\", \"5\", \"6\", \"7\", \"8\", \"9\", \"10\", \"11\", \"12\", \"13\", \"14\", \"15\", \"16\", \"17\", \"18\", \"19\", \"20\", \"21\", \"22\", \"23\", \"24\", \"25\", \"26\", \"27\", \"28\", \"29\", \"30\", \"31\", \"32\", \"33\", \"34\", \"35\", \"36\", \"37\", \"38\", \"39\", \"40\", \"41\", \"42\", \"43\", \"48\", \"49\"], \"mode\": \"markers\", \"name\": \"AUC_macro\", \"stepped\": false, \"type\": \"scatter\", \"data\": [0.8811331210778885, 0.8929591177556295, 0.9002024963086009, 0.8936630444813585, 0.9116697582133628, 0.7578795565706904, 0.89828257659653, 0.9020210409745293, 0.8680691445182724, 0.9062622046880767, 0.8857295127353266, 0.8980850175341454, 0.8994653700627537, 0.8992915974529346, 0.8847910668143225, 0.8876433877814691, 0.896017372646733, 0.9114922711332595, 0.9001188630490956, 0.8851451642672572, 0.9070257244370616, 0.9018600267626429, 0.8940475959763751, 0.901608688630491, 0.895562246216316, 0.8977373569582874, 0.8769880260243632, 0.8927271594684386, 0.8993179909560723, 0.8935724667774088, 0.5, 0.8880137043189368, 0.9134108988556664, 0.9043052094868955, 0.8888375899778517, 0.5142209302325581, 0.8956150332225914, 0.8825420588778146, 0.9068815753045405, 0.8847456856773717, 0.8782184385382059, 0.867155430970838, 0.8833846668512366, 0.8946257382798081, 0.9154502583979328, 0.9181962440014765]}, {\"categories\": [\"0\", \"1\", \"2\", \"3\", \"4\", \"5\", \"6\", \"7\", \"8\", \"9\", \"10\", \"11\", \"12\", \"13\", \"14\", \"15\", \"16\", \"17\", \"18\", \"19\", \"20\", \"21\", \"22\", \"23\", \"24\", \"25\", \"26\", \"27\", \"28\", \"29\", \"30\", \"31\", \"32\", \"33\", \"34\", \"35\", \"36\", \"37\", \"38\", \"39\", \"40\", \"41\", \"42\", \"43\", \"48\", \"49\"], \"mode\": \"lines\", \"name\": \"AUC_macro_max\", \"stepped\": true, \"type\": \"scatter\", \"data\": [0.8811331210778885, 0.8929591177556295, 0.9002024963086009, 0.9002024963086009, 0.9116697582133628, 0.9116697582133628, 0.9116697582133628, 0.9116697582133628, 0.9116697582133628, 0.9116697582133628, 0.9116697582133628, 0.9116697582133628, 0.9116697582133628, 0.9116697582133628, 0.9116697582133628, 0.9116697582133628, 0.9116697582133628, 0.9116697582133628, 0.9116697582133628, 0.9116697582133628, 0.9116697582133628, 0.9116697582133628, 0.9116697582133628, 0.9116697582133628, 0.9116697582133628, 0.9116697582133628, 0.9116697582133628, 0.9116697582133628, 0.9116697582133628, 0.9116697582133628, 0.9116697582133628, 0.9116697582133628, 0.9134108988556664, 0.9134108988556664, 0.9134108988556664, 0.9134108988556664, 0.9134108988556664, 0.9134108988556664, 0.9134108988556664, 0.9134108988556664, 0.9134108988556664, 0.9134108988556664, 0.9134108988556664, 0.9134108988556664, 0.9154502583979328, 0.9181962440014765]}], \"average_precision_score_macro\": [{\"categories\": [\"0\", \"1\", \"2\", \"3\", \"4\", \"5\", \"6\", \"7\", \"8\", \"9\", \"10\", \"11\", \"12\", \"13\", \"14\", \"15\", \"16\", \"17\", \"18\", \"19\", \"20\", \"21\", \"22\", \"23\", \"24\", \"25\", \"26\", \"27\", \"28\", \"29\", \"30\", \"31\", \"32\", \"33\", \"34\", \"35\", \"36\", \"37\", \"38\", \"39\", \"40\", \"41\", \"42\", \"43\", \"48\", \"49\"], \"mode\": \"markers\", \"name\": \"average_precision_score_macro\", \"stepped\": false, \"type\": \"scatter\", \"data\": [0.8655792376041671, 0.8826936933050062, 0.893795284188322, 0.8827605080739559, 0.897742439010192, 0.7269072415075816, 0.8878372867863795, 0.8897727801411481, 0.8481032971633017, 0.8873029404705498, 0.872874090138783, 0.8886715979795478, 0.8878636219265529, 0.8901671239104265, 0.8676779735790486, 0.8756968477195303, 0.8808958055990385, 0.9009977802567486, 0.8856760158675293, 0.8714326817775451, 0.8944506513675494, 0.889582076943199, 0.851284927554245, 0.8937666507227071, 0.8809703545789802, 0.888994630225515, 0.867610950423033, 0.8773379269334891, 0.8868248257006126, 0.8867066888707218, 0.5, 0.8745418189305205, 0.9029222714882806, 0.8897891489975105, 0.8701786665611053, 0.5076474051524009, 0.8826113860455473, 0.8639414983620852, 0.8941132952318697, 0.8671549725037782, 0.866650453213391, 0.8485658664104742, 0.8544499731841657, 0.8823901441461862, 0.9004993818274611, 0.9018220978364958]}, {\"categories\": [\"0\", \"1\", \"2\", \"3\", \"4\", \"5\", \"6\", \"7\", \"8\", \"9\", \"10\", \"11\", \"12\", \"13\", \"14\", \"15\", \"16\", \"17\", \"18\", \"19\", \"20\", \"21\", \"22\", \"23\", \"24\", \"25\", \"26\", \"27\", \"28\", \"29\", \"30\", \"31\", \"32\", \"33\", \"34\", \"35\", \"36\", \"37\", \"38\", \"39\", \"40\", \"41\", \"42\", \"43\", \"48\", \"49\"], \"mode\": \"lines\", \"name\": \"average_precision_score_macro_max\", \"stepped\": true, \"type\": \"scatter\", \"data\": [0.8655792376041671, 0.8826936933050062, 0.893795284188322, 0.893795284188322, 0.897742439010192, 0.897742439010192, 0.897742439010192, 0.897742439010192, 0.897742439010192, 0.897742439010192, 0.897742439010192, 0.897742439010192, 0.897742439010192, 0.897742439010192, 0.897742439010192, 0.897742439010192, 0.897742439010192, 0.9009977802567486, 0.9009977802567486, 0.9009977802567486, 0.9009977802567486, 0.9009977802567486, 0.9009977802567486, 0.9009977802567486, 0.9009977802567486, 0.9009977802567486, 0.9009977802567486, 0.9009977802567486, 0.9009977802567486, 0.9009977802567486, 0.9009977802567486, 0.9009977802567486, 0.9029222714882806, 0.9029222714882806, 0.9029222714882806, 0.9029222714882806, 0.9029222714882806, 0.9029222714882806, 0.9029222714882806, 0.9029222714882806, 0.9029222714882806, 0.9029222714882806, 0.9029222714882806, 0.9029222714882806, 0.9029222714882806, 0.9029222714882806]}], \"accuracy\": [{\"categories\": [\"0\", \"1\", \"2\", \"3\", \"4\", \"5\", \"6\", \"7\", \"8\", \"9\", \"10\", \"11\", \"12\", \"13\", \"14\", \"15\", \"16\", \"17\", \"18\", \"19\", \"20\", \"21\", \"22\", \"23\", \"24\", \"25\", \"26\", \"27\", \"28\", \"29\", \"30\", \"31\", \"32\", \"33\", \"34\", \"35\", \"36\", \"37\", \"38\", \"39\", \"40\", \"41\", \"42\", \"43\", \"48\", \"49\"], \"mode\": \"markers\", \"name\": \"accuracy\", \"stepped\": false, \"type\": \"scatter\", \"data\": [0.8059887005649717, 0.8259322033898304, 0.8326553672316385, 0.836045197740113, 0.8325988700564972, 0.7059322033898305, 0.8393220338983051, 0.8425988700564971, 0.8125988700564971, 0.8259322033898304, 0.832824858757062, 0.8359887005649718, 0.8092655367231639, 0.8428248587570621, 0.8294350282485876, 0.8329943502824859, 0.8629943502824858, 0.8327118644067797, 0.8496045197740113, 0.8159887005649716, 0.8392655367231638, 0.8325988700564972, 0.8227118644067797, 0.8529378531073446, 0.8392090395480226, 0.8225988700564972, 0.7725423728813559, 0.8025423728813559, 0.8125988700564972, 0.8325988700564972, 0.67909604519774, 0.7893785310734462, 0.8359887005649718, 0.8429378531073446, 0.8226553672316385, 0.67909604519774, 0.8562711864406779, 0.8328248587570621, 0.8193785310734464, 0.8295480225988701, 0.792768361581921, 0.8162146892655369, 0.799322033898305, 0.8396045197740113, 0.8863841807909605, 0.8696610169491524]}, {\"categories\": [\"0\", \"1\", \"2\", \"3\", \"4\", \"5\", \"6\", \"7\", \"8\", \"9\", \"10\", \"11\", \"12\", \"13\", \"14\", \"15\", \"16\", \"17\", \"18\", \"19\", \"20\", \"21\", \"22\", \"23\", \"24\", \"25\", \"26\", \"27\", \"28\", \"29\", \"30\", \"31\", \"32\", \"33\", \"34\", \"35\", \"36\", \"37\", \"38\", \"39\", \"40\", \"41\", \"42\", \"43\", \"48\", \"49\"], \"mode\": \"lines\", \"name\": \"accuracy_max\", \"stepped\": true, \"type\": \"scatter\", \"data\": [0.8059887005649717, 0.8259322033898304, 0.8326553672316385, 0.836045197740113, 0.836045197740113, 0.836045197740113, 0.8393220338983051, 0.8425988700564971, 0.8425988700564971, 0.8425988700564971, 0.8425988700564971, 0.8425988700564971, 0.8425988700564971, 0.8428248587570621, 0.8428248587570621, 0.8428248587570621, 0.8629943502824858, 0.8629943502824858, 0.8629943502824858, 0.8629943502824858, 0.8629943502824858, 0.8629943502824858, 0.8629943502824858, 0.8629943502824858, 0.8629943502824858, 0.8629943502824858, 0.8629943502824858, 0.8629943502824858, 0.8629943502824858, 0.8629943502824858, 0.8629943502824858, 0.8629943502824858, 0.8629943502824858, 0.8629943502824858, 0.8629943502824858, 0.8629943502824858, 0.8629943502824858, 0.8629943502824858, 0.8629943502824858, 0.8629943502824858, 0.8629943502824858, 0.8629943502824858, 0.8629943502824858, 0.8629943502824858, 0.8863841807909605, 0.8863841807909605]}], \"f1_score_micro\": [{\"categories\": [\"0\", \"1\", \"2\", \"3\", \"4\", \"5\", \"6\", \"7\", \"8\", \"9\", \"10\", \"11\", \"12\", \"13\", \"14\", \"15\", \"16\", \"17\", \"18\", \"19\", \"20\", \"21\", \"22\", \"23\", \"24\", \"25\", \"26\", \"27\", \"28\", \"29\", \"30\", \"31\", \"32\", \"33\", \"34\", \"35\", \"36\", \"37\", \"38\", \"39\", \"40\", \"41\", \"42\", \"43\", \"48\", \"49\"], \"mode\": \"markers\", \"name\": \"f1_score_micro\", \"stepped\": false, \"type\": \"scatter\", \"data\": [0.8059887005649718, 0.8259322033898304, 0.8326553672316385, 0.836045197740113, 0.8325988700564972, 0.7059322033898305, 0.8393220338983051, 0.8425988700564971, 0.8125988700564971, 0.8259322033898304, 0.832824858757062, 0.8359887005649718, 0.8092655367231639, 0.8428248587570621, 0.8294350282485876, 0.8329943502824859, 0.8629943502824858, 0.8327118644067797, 0.8496045197740113, 0.8159887005649719, 0.8392655367231638, 0.8325988700564972, 0.8227118644067797, 0.8529378531073446, 0.8392090395480226, 0.8225988700564972, 0.772542372881356, 0.8025423728813559, 0.8125988700564972, 0.8325988700564972, 0.67909604519774, 0.7893785310734462, 0.8359887005649718, 0.8429378531073446, 0.8226553672316385, 0.67909604519774, 0.8562711864406779, 0.8328248587570621, 0.8193785310734464, 0.8295480225988701, 0.792768361581921, 0.8162146892655369, 0.7993220338983051, 0.8396045197740113, 0.8863841807909605, 0.8696610169491524]}, {\"categories\": [\"0\", \"1\", \"2\", \"3\", \"4\", \"5\", \"6\", \"7\", \"8\", \"9\", \"10\", \"11\", \"12\", \"13\", \"14\", \"15\", \"16\", \"17\", \"18\", \"19\", \"20\", \"21\", \"22\", \"23\", \"24\", \"25\", \"26\", \"27\", \"28\", \"29\", \"30\", \"31\", \"32\", \"33\", \"34\", \"35\", \"36\", \"37\", \"38\", \"39\", \"40\", \"41\", \"42\", \"43\", \"48\", \"49\"], \"mode\": \"lines\", \"name\": \"f1_score_micro_max\", \"stepped\": true, \"type\": \"scatter\", \"data\": [0.8059887005649718, 0.8259322033898304, 0.8326553672316385, 0.836045197740113, 0.836045197740113, 0.836045197740113, 0.8393220338983051, 0.8425988700564971, 0.8425988700564971, 0.8425988700564971, 0.8425988700564971, 0.8425988700564971, 0.8425988700564971, 0.8428248587570621, 0.8428248587570621, 0.8428248587570621, 0.8629943502824858, 0.8629943502824858, 0.8629943502824858, 0.8629943502824858, 0.8629943502824858, 0.8629943502824858, 0.8629943502824858, 0.8629943502824858, 0.8629943502824858, 0.8629943502824858, 0.8629943502824858, 0.8629943502824858, 0.8629943502824858, 0.8629943502824858, 0.8629943502824858, 0.8629943502824858, 0.8629943502824858, 0.8629943502824858, 0.8629943502824858, 0.8629943502824858, 0.8629943502824858, 0.8629943502824858, 0.8629943502824858, 0.8629943502824858, 0.8629943502824858, 0.8629943502824858, 0.8629943502824858, 0.8629943502824858, 0.8863841807909605, 0.8863841807909605]}], \"average_precision_score_weighted\": [{\"categories\": [\"0\", \"1\", \"2\", \"3\", \"4\", \"5\", \"6\", \"7\", \"8\", \"9\", \"10\", \"11\", \"12\", \"13\", \"14\", \"15\", \"16\", \"17\", \"18\", \"19\", \"20\", \"21\", \"22\", \"23\", \"24\", \"25\", \"26\", \"27\", \"28\", \"29\", \"30\", \"31\", \"32\", \"33\", \"34\", \"35\", \"36\", \"37\", \"38\", \"39\", \"40\", \"41\", \"42\", \"43\", \"48\", \"49\"], \"mode\": \"markers\", \"name\": \"average_precision_score_weighted\", \"stepped\": false, \"type\": \"scatter\", \"data\": [0.8955370396295249, 0.9103506263314479, 0.9165383039611147, 0.9078898697473822, 0.9212601109806794, 0.7896691635235256, 0.9124957838622654, 0.9155330804703203, 0.8876709025109356, 0.9163237778895612, 0.9022709690835334, 0.9129502962133497, 0.9121500058940821, 0.9153933804617964, 0.8970278471197135, 0.9027199794815131, 0.9081473515995656, 0.9241345373093452, 0.9111851200692052, 0.9016966465985357, 0.9204042423210442, 0.9139008510363817, 0.8899023871517153, 0.9164284778689664, 0.9106133527541177, 0.9129534345025225, 0.8982147143930279, 0.9052300829814242, 0.9110196885833443, 0.9116467949106253, 0.5796089246385138, 0.9044396089469778, 0.9266823890406982, 0.9167971033253155, 0.8948959997609753, 0.5863579790340239, 0.9080800454647371, 0.8932104076569338, 0.9197591613911344, 0.8945375211708573, 0.8943757055983571, 0.8766586330599567, 0.8905191170569744, 0.9071552259702106, 0.9256017620159167, 0.9273256020674928]}, {\"categories\": [\"0\", \"1\", \"2\", \"3\", \"4\", \"5\", \"6\", \"7\", \"8\", \"9\", \"10\", \"11\", \"12\", \"13\", \"14\", \"15\", \"16\", \"17\", \"18\", \"19\", \"20\", \"21\", \"22\", \"23\", \"24\", \"25\", \"26\", \"27\", \"28\", \"29\", \"30\", \"31\", \"32\", \"33\", \"34\", \"35\", \"36\", \"37\", \"38\", \"39\", \"40\", \"41\", \"42\", \"43\", \"48\", \"49\"], \"mode\": \"lines\", \"name\": \"average_precision_score_weighted_max\", \"stepped\": true, \"type\": \"scatter\", \"data\": [0.8955370396295249, 0.9103506263314479, 0.9165383039611147, 0.9165383039611147, 0.9212601109806794, 0.9212601109806794, 0.9212601109806794, 0.9212601109806794, 0.9212601109806794, 0.9212601109806794, 0.9212601109806794, 0.9212601109806794, 0.9212601109806794, 0.9212601109806794, 0.9212601109806794, 0.9212601109806794, 0.9212601109806794, 0.9241345373093452, 0.9241345373093452, 0.9241345373093452, 0.9241345373093452, 0.9241345373093452, 0.9241345373093452, 0.9241345373093452, 0.9241345373093452, 0.9241345373093452, 0.9241345373093452, 0.9241345373093452, 0.9241345373093452, 0.9241345373093452, 0.9241345373093452, 0.9241345373093452, 0.9266823890406982, 0.9266823890406982, 0.9266823890406982, 0.9266823890406982, 0.9266823890406982, 0.9266823890406982, 0.9266823890406982, 0.9266823890406982, 0.9266823890406982, 0.9266823890406982, 0.9266823890406982, 0.9266823890406982, 0.9266823890406982, 0.9273256020674928]}], \"AUC_weighted\": [{\"categories\": [\"0\", \"1\", \"2\", \"3\", \"4\", \"5\", \"6\", \"7\", \"8\", \"9\", \"10\", \"11\", \"12\", \"13\", \"14\", \"15\", \"16\", \"17\", \"18\", \"19\", \"20\", \"21\", \"22\", \"23\", \"24\", \"25\", \"26\", \"27\", \"28\", \"29\", \"30\", \"31\", \"32\", \"33\", \"34\", \"35\", \"36\", \"37\", \"38\", \"39\", \"40\", \"41\", \"42\", \"43\", \"48\", \"49\"], \"mode\": \"markers\", \"name\": \"AUC_weighted\", \"stepped\": false, \"type\": \"scatter\", \"data\": [0.8811331210778885, 0.8929591177556293, 0.9002024963086009, 0.8936630444813585, 0.9116697582133628, 0.7578795565706903, 0.89828257659653, 0.9020210409745293, 0.8680691445182724, 0.9062622046880767, 0.8857295127353266, 0.8980850175341454, 0.8994653700627537, 0.8992915974529346, 0.8847910668143225, 0.8876433877814691, 0.896017372646733, 0.9114922711332595, 0.9001188630490956, 0.8851451642672572, 0.9070257244370616, 0.9018600267626429, 0.8940475959763751, 0.9016086886304908, 0.895562246216316, 0.8977373569582874, 0.8769880260243632, 0.8927271594684386, 0.8993179909560723, 0.8935724667774088, 0.5, 0.8880137043189368, 0.9134108988556662, 0.9043052094868955, 0.8888375899778517, 0.5142209302325581, 0.8956150332225914, 0.8825420588778146, 0.9068815753045405, 0.8847456856773718, 0.8782184385382059, 0.867155430970838, 0.8833846668512366, 0.8946257382798081, 0.9154502583979328, 0.9181962440014766]}, {\"categories\": [\"0\", \"1\", \"2\", \"3\", \"4\", \"5\", \"6\", \"7\", \"8\", \"9\", \"10\", \"11\", \"12\", \"13\", \"14\", \"15\", \"16\", \"17\", \"18\", \"19\", \"20\", \"21\", \"22\", \"23\", \"24\", \"25\", \"26\", \"27\", \"28\", \"29\", \"30\", \"31\", \"32\", \"33\", \"34\", \"35\", \"36\", \"37\", \"38\", \"39\", \"40\", \"41\", \"42\", \"43\", \"48\", \"49\"], \"mode\": \"lines\", \"name\": \"AUC_weighted_max\", \"stepped\": true, \"type\": \"scatter\", \"data\": [0.8811331210778885, 0.8929591177556293, 0.9002024963086009, 0.9002024963086009, 0.9116697582133628, 0.9116697582133628, 0.9116697582133628, 0.9116697582133628, 0.9116697582133628, 0.9116697582133628, 0.9116697582133628, 0.9116697582133628, 0.9116697582133628, 0.9116697582133628, 0.9116697582133628, 0.9116697582133628, 0.9116697582133628, 0.9116697582133628, 0.9116697582133628, 0.9116697582133628, 0.9116697582133628, 0.9116697582133628, 0.9116697582133628, 0.9116697582133628, 0.9116697582133628, 0.9116697582133628, 0.9116697582133628, 0.9116697582133628, 0.9116697582133628, 0.9116697582133628, 0.9116697582133628, 0.9116697582133628, 0.9134108988556662, 0.9134108988556662, 0.9134108988556662, 0.9134108988556662, 0.9134108988556662, 0.9134108988556662, 0.9134108988556662, 0.9134108988556662, 0.9134108988556662, 0.9134108988556662, 0.9134108988556662, 0.9134108988556662, 0.9154502583979328, 0.9181962440014766]}]}, \"metricName\": null, \"primaryMetricName\": \"accuracy\", \"showLegend\": false}, \"run_metrics\": [{\"name\": \"experiment_status\", \"run_id\": \"AutoML_34d655ee-2bb3-4124-8b77-e299307e3205\", \"categories\": [0, 1, 2, 3, 4, 5, 6, 7, 8, 9, 10, 11, 12, 13], \"series\": [{\"data\": [\"DatasetEvaluation\", \"FeaturesGeneration\", \"DatasetFeaturization\", \"DatasetFeaturizationCompleted\", \"DatasetCrossValidationSplit\", \"ModelSelection\", \"BestRunExplainModel\", \"ModelExplanationDataSetSetup\", \"PickSurrogateModel\", \"EngineeredFeatureExplanations\", \"EngineeredFeatureExplanations\", \"RawFeaturesExplanations\", \"RawFeaturesExplanations\", \"BestRunExplainModel\"]}]}, {\"name\": \"experiment_status_description\", \"run_id\": \"AutoML_34d655ee-2bb3-4124-8b77-e299307e3205\", \"categories\": [0, 1, 2, 3, 4, 5, 6, 7, 8, 9, 10, 11, 12, 13], \"series\": [{\"data\": [\"Gathering dataset statistics.\", \"Generating features for the dataset.\", \"Beginning to fit featurizers and featurize the dataset.\", \"Completed fit featurizers and featurizing the dataset.\", \"Generating individually featurized CV splits.\", \"Beginning model selection.\", \"Best run model explanations started\", \"Model explanations data setup completed\", \"Choosing LightGBM as the surrogate model for explanations\", \"Computation of engineered features started\", \"Computation of engineered features completed\", \"Computation of raw features started\", \"Computation of raw features completed\", \"Best run model explanations completed\"]}]}, {\"name\": \"precision_score_micro\", \"run_id\": \"AutoML_34d655ee-2bb3-4124-8b77-e299307e3205\", \"categories\": [0], \"series\": [{\"data\": [0.8863841807909605]}]}, {\"name\": \"AUC_weighted\", \"run_id\": \"AutoML_34d655ee-2bb3-4124-8b77-e299307e3205\", \"categories\": [0], \"series\": [{\"data\": [0.9154502583979328]}]}, {\"name\": \"weighted_accuracy\", \"run_id\": \"AutoML_34d655ee-2bb3-4124-8b77-e299307e3205\", \"categories\": [0], \"series\": [{\"data\": [0.9064080729594931]}]}, {\"name\": \"AUC_micro\", \"run_id\": \"AutoML_34d655ee-2bb3-4124-8b77-e299307e3205\", \"categories\": [0], \"series\": [{\"data\": [0.9173438188260079]}]}, {\"name\": \"average_precision_score_weighted\", \"run_id\": \"AutoML_34d655ee-2bb3-4124-8b77-e299307e3205\", \"categories\": [0], \"series\": [{\"data\": [0.9256017620159167]}]}, {\"name\": \"recall_score_macro\", \"run_id\": \"AutoML_34d655ee-2bb3-4124-8b77-e299307e3205\", \"categories\": [0], \"series\": [{\"data\": [0.856904761904762]}]}, {\"name\": \"f1_score_micro\", \"run_id\": \"AutoML_34d655ee-2bb3-4124-8b77-e299307e3205\", \"categories\": [0], \"series\": [{\"data\": [0.8863841807909605]}]}, {\"name\": \"AUC_macro\", \"run_id\": \"AutoML_34d655ee-2bb3-4124-8b77-e299307e3205\", \"categories\": [0], \"series\": [{\"data\": [0.9154502583979328]}]}, {\"name\": \"matthews_correlation\", \"run_id\": \"AutoML_34d655ee-2bb3-4124-8b77-e299307e3205\", \"categories\": [0], \"series\": [{\"data\": [0.7474635925141251]}]}, {\"name\": \"f1_score_macro\", \"run_id\": \"AutoML_34d655ee-2bb3-4124-8b77-e299307e3205\", \"categories\": [0], \"series\": [{\"data\": [0.861977360339375]}]}, {\"name\": \"balanced_accuracy\", \"run_id\": \"AutoML_34d655ee-2bb3-4124-8b77-e299307e3205\", \"categories\": [0], \"series\": [{\"data\": [0.856904761904762]}]}, {\"name\": \"norm_macro_recall\", \"run_id\": \"AutoML_34d655ee-2bb3-4124-8b77-e299307e3205\", \"categories\": [0], \"series\": [{\"data\": [0.7138095238095239]}]}, {\"name\": \"f1_score_weighted\", \"run_id\": \"AutoML_34d655ee-2bb3-4124-8b77-e299307e3205\", \"categories\": [0], \"series\": [{\"data\": [0.8824490394198719]}]}, {\"name\": \"log_loss\", \"run_id\": \"AutoML_34d655ee-2bb3-4124-8b77-e299307e3205\", \"categories\": [0], \"series\": [{\"data\": [0.3692515333377096]}]}, {\"name\": \"average_precision_score_micro\", \"run_id\": \"AutoML_34d655ee-2bb3-4124-8b77-e299307e3205\", \"categories\": [0], \"series\": [{\"data\": [0.9196577493095462]}]}, {\"name\": \"recall_score_weighted\", \"run_id\": \"AutoML_34d655ee-2bb3-4124-8b77-e299307e3205\", \"categories\": [0], \"series\": [{\"data\": [0.8863841807909605]}]}, {\"name\": \"recall_score_micro\", \"run_id\": \"AutoML_34d655ee-2bb3-4124-8b77-e299307e3205\", \"categories\": [0], \"series\": [{\"data\": [0.8863841807909605]}]}, {\"name\": \"precision_score_weighted\", \"run_id\": \"AutoML_34d655ee-2bb3-4124-8b77-e299307e3205\", \"categories\": [0], \"series\": [{\"data\": [0.9014950530296726]}]}, {\"name\": \"accuracy\", \"run_id\": \"AutoML_34d655ee-2bb3-4124-8b77-e299307e3205\", \"categories\": [0], \"series\": [{\"data\": [0.8863841807909605]}]}, {\"name\": \"precision_score_macro\", \"run_id\": \"AutoML_34d655ee-2bb3-4124-8b77-e299307e3205\", \"categories\": [0], \"series\": [{\"data\": [0.8933133621697451]}]}, {\"name\": \"average_precision_score_macro\", \"run_id\": \"AutoML_34d655ee-2bb3-4124-8b77-e299307e3205\", \"categories\": [0], \"series\": [{\"data\": [0.9004993818274611]}]}], \"run_logs\": \"\\nRun is completed.\", \"graph\": {}, \"widget_settings\": {\"childWidgetDisplay\": \"popup\", \"send_telemetry\": false, \"log_level\": \"INFO\", \"sdk_version\": \"1.20.0\"}, \"loading\": false}"
          },
          "metadata": {}
        }
      ],
      "execution_count": 7,
      "metadata": {
        "gather": {
          "logged": 1612037424811
        },
        "jupyter": {
          "outputs_hidden": false,
          "source_hidden": false
        },
        "nteract": {
          "transient": {
            "deleting": false
          }
        }
      }
    },
    {
      "cell_type": "markdown",
      "source": [
        "## Best Model\n",
        "\n",
        "TODO: In the cell below, get the best model from the automl experiments and display all the properties of the model.\n",
        "\n"
      ],
      "metadata": {}
    },
    {
      "cell_type": "code",
      "source": [
        "# Retrieve and save your best automl model.\r\n",
        "#best_automl_run,best_automl_model=automl_run.get_output()\r\n",
        "best_run_metrics=remote_run.get_metrics()\r\n",
        "for primary_metric in best_run_metrics:\r\n",
        "    metric=best_run_metrics[primary_metric]\r\n",
        "    print(primary_metric,metric)\r\n"
      ],
      "outputs": [
        {
          "output_type": "stream",
          "name": "stdout",
          "text": [
            "experiment_status ['DatasetEvaluation', 'FeaturesGeneration', 'DatasetFeaturization', 'DatasetFeaturizationCompleted', 'DatasetCrossValidationSplit', 'ModelSelection']\n",
            "experiment_status_description ['Gathering dataset statistics.', 'Generating features for the dataset.', 'Beginning to fit featurizers and featurize the dataset.', 'Completed fit featurizers and featurizing the dataset.', 'Generating individually featurized CV splits.', 'Beginning model selection.']\n",
            "precision_score_micro 0.8863841807909605\n",
            "AUC_weighted 0.9154502583979328\n",
            "weighted_accuracy 0.9064080729594931\n",
            "AUC_micro 0.9173438188260079\n",
            "average_precision_score_weighted 0.9256017620159167\n",
            "recall_score_macro 0.856904761904762\n",
            "f1_score_micro 0.8863841807909605\n",
            "AUC_macro 0.9154502583979328\n",
            "matthews_correlation 0.7474635925141251\n",
            "f1_score_macro 0.861977360339375\n",
            "balanced_accuracy 0.856904761904762\n",
            "norm_macro_recall 0.7138095238095239\n",
            "f1_score_weighted 0.8824490394198719\n",
            "log_loss 0.3692515333377096\n",
            "average_precision_score_micro 0.9196577493095462\n",
            "recall_score_weighted 0.8863841807909605\n",
            "recall_score_micro 0.8863841807909605\n",
            "precision_score_weighted 0.9014950530296726\n",
            "accuracy 0.8863841807909605\n",
            "precision_score_macro 0.8933133621697451\n",
            "average_precision_score_macro 0.9004993818274611\n"
          ]
        }
      ],
      "execution_count": 8,
      "metadata": {
        "gather": {
          "logged": 1612037542028
        },
        "jupyter": {
          "outputs_hidden": false,
          "source_hidden": false
        },
        "nteract": {
          "transient": {
            "deleting": false
          }
        }
      }
    },
    {
      "cell_type": "code",
      "source": [
        "print(best_remote_run)\r\n",
        "best_remote_run"
      ],
      "outputs": [
        {
          "output_type": "stream",
          "name": "stdout",
          "text": [
            "Run(Experiment: automl_run,\n",
            "Id: AutoML_34d655ee-2bb3-4124-8b77-e299307e3205_48,\n",
            "Type: azureml.scriptrun,\n",
            "Status: Completed)\n"
          ]
        },
        {
          "output_type": "execute_result",
          "execution_count": 11,
          "data": {
            "text/plain": "Run(Experiment: automl_run,\nId: AutoML_34d655ee-2bb3-4124-8b77-e299307e3205_48,\nType: azureml.scriptrun,\nStatus: Completed)",
            "text/html": "<table style=\"width:100%\"><tr><th>Experiment</th><th>Id</th><th>Type</th><th>Status</th><th>Details Page</th><th>Docs Page</th></tr><tr><td>automl_run</td><td>AutoML_34d655ee-2bb3-4124-8b77-e299307e3205_48</td><td>azureml.scriptrun</td><td>Completed</td><td><a href=\"https://ml.azure.com/experiments/automl_run/runs/AutoML_34d655ee-2bb3-4124-8b77-e299307e3205_48?wsid=/subscriptions/3e42d11f-d64d-4173-af9b-12ecaa1030b3/resourcegroups/aml-quickstarts-136632/workspaces/quick-starts-ws-136632\" target=\"_blank\" rel=\"noopener\">Link to Azure Machine Learning studio</a></td><td><a href=\"https://docs.microsoft.com/en-us/python/api/azureml-core/azureml.core.run.Run?view=azure-ml-py\" target=\"_blank\" rel=\"noopener\">Link to Documentation</a></td></tr></table>"
          },
          "metadata": {}
        }
      ],
      "execution_count": 11,
      "metadata": {
        "collapsed": true,
        "jupyter": {
          "source_hidden": false,
          "outputs_hidden": false
        },
        "nteract": {
          "transient": {
            "deleting": false
          }
        },
        "gather": {
          "logged": 1612037742569
        }
      }
    },
    {
      "cell_type": "code",
      "source": [
        "#TODO: Save the best model\r\n",
        "best_remote_run,best_automl_model=remote_run.get_output()\r\n",
        "joblib.dump(value=best_automl_model,filename='automl_model.joblib')"
      ],
      "outputs": [
        {
          "output_type": "execute_result",
          "execution_count": 12,
          "data": {
            "text/plain": "['automl_model.joblib']"
          },
          "metadata": {}
        }
      ],
      "execution_count": 12,
      "metadata": {
        "gather": {
          "logged": 1612037751441
        },
        "jupyter": {
          "outputs_hidden": false,
          "source_hidden": false
        },
        "nteract": {
          "transient": {
            "deleting": false
          }
        }
      }
    },
    {
      "cell_type": "markdown",
      "source": [
        "## Model Deployment\n",
        "\n",
        "Remember you have to deploy only one of the two models you trained.. Perform the steps in the rest of this notebook only if you wish to deploy this model.\n",
        "\n",
        "TODO: In the cell below, register the model, create an inference config and deploy the model as a web service."
      ],
      "metadata": {}
    },
    {
      "cell_type": "code",
      "source": [
        "from azureml.core.model import Model\r\n",
        "# Register model\r\n",
        "model = Model.register(workspace = ws,\r\n",
        "                        model_name = \"Heart_failure_prediction\",\r\n",
        "                        model_path = \"./outputs/model.joblib\",\r\n",
        "                        description = \"Best AutoML Model\",)\r\n",
        "\r\n"
      ],
      "outputs": [
        {
          "output_type": "stream",
          "name": "stdout",
          "text": [
            "Registering model Heart_failure_prediction\n"
          ]
        }
      ],
      "execution_count": 20,
      "metadata": {
        "gather": {
          "logged": 1612038834502
        },
        "jupyter": {
          "outputs_hidden": false,
          "source_hidden": false
        },
        "nteract": {
          "transient": {
            "deleting": false
          }
        }
      }
    },
    {
      "cell_type": "code",
      "source": [
        "from azureml.core.model import InferenceConfig\r\n",
        "from azureml.core.webservice import AciWebservice\r\n",
        "\r\n",
        "#defining an inference configuration\r\n",
        "service_name = 'heart_failure_automl'\r\n",
        "\r\n",
        "#combining scoring script and environment in inference configuration\r\n",
        "inference_config = InferenceConfig(entry_script='score.py', environment=environment)\r\n",
        "\r\n",
        "#deploy the model as a webservice\r\n",
        "from azureml.core.webservice import LocalWebservice, Webservice\r\n",
        "\r\n",
        "#set deployment configuration\r\n",
        "deployment_config = LocalWebservice.deploy_configuration(port=8000)\r\n",
        "service = Model.deploy(ws, \"myservice\", [model], inference_config, deployment_config)\r\n",
        "print(service.state)\r\n",
        "\r\n",
        "aci_config = AciWebservice.deploy_configuration(cpu_cores=1, memory_gb=1, enable_app_insights=True) #service.update\r\n",
        "\r\n",
        "service = Model.deploy(workspace=ws,\r\n",
        "                        name='heart_failure_automl',\r\n",
        "                        models=[model],\r\n",
        "                        inference_config=inference_config,\r\n",
        "                        deployment_config=aci_config,\r\n",
        "                        overwrite=True)\r\n",
        "service.wait_for_deployment(show_output=True)"
      ],
      "outputs": [],
      "execution_count": null,
      "metadata": {
        "collapsed": true,
        "jupyter": {
          "source_hidden": false,
          "outputs_hidden": false
        },
        "nteract": {
          "transient": {
            "deleting": false
          }
        }
      }
    },
    {
      "cell_type": "markdown",
      "source": [
        "TODO: In the cell below, send a request to the web service you deployed to test it."
      ],
      "metadata": {
        "collapsed": true,
        "gather": {
          "logged": 1598431657736
        },
        "jupyter": {
          "outputs_hidden": false,
          "source_hidden": false
        },
        "nteract": {
          "transient": {
            "deleting": false
          }
        }
      }
    },
    {
      "cell_type": "code",
      "source": [
        "#Testing of the deployed webservice"
      ],
      "outputs": [],
      "execution_count": null,
      "metadata": {
        "gather": {
          "logged": 1598432707604
        },
        "jupyter": {
          "outputs_hidden": false,
          "source_hidden": false
        },
        "nteract": {
          "transient": {
            "deleting": false
          }
        }
      }
    },
    {
      "cell_type": "markdown",
      "source": [
        "TODO: In the cell below, print the logs of the web service and delete the service"
      ],
      "metadata": {
        "collapsed": true,
        "gather": {
          "logged": 1598432765711
        },
        "jupyter": {
          "outputs_hidden": false,
          "source_hidden": false
        },
        "nteract": {
          "transient": {
            "deleting": false
          }
        }
      }
    },
    {
      "cell_type": "code",
      "source": [
        "#logs of the webservice"
      ],
      "outputs": [],
      "execution_count": null,
      "metadata": {
        "jupyter": {
          "outputs_hidden": false,
          "source_hidden": false
        },
        "nteract": {
          "transient": {
            "deleting": false
          }
        }
      }
    },
    {
      "cell_type": "code",
      "source": [
        "#delete the deployed webservice\r\n",
        "service.delete()"
      ],
      "outputs": [],
      "execution_count": null,
      "metadata": {
        "collapsed": true,
        "jupyter": {
          "source_hidden": false,
          "outputs_hidden": false
        },
        "nteract": {
          "transient": {
            "deleting": false
          }
        }
      }
    }
  ],
  "metadata": {
    "kernel_info": {
      "name": "python3"
    },
    "kernelspec": {
      "name": "python3",
      "language": "python",
      "display_name": "Python 3"
    },
    "language_info": {
      "name": "python",
      "version": "3.6.9",
      "mimetype": "text/x-python",
      "codemirror_mode": {
        "name": "ipython",
        "version": 3
      },
      "pygments_lexer": "ipython3",
      "nbconvert_exporter": "python",
      "file_extension": ".py"
    },
    "nteract": {
      "version": "nteract-front-end@1.0.0"
    }
  },
  "nbformat": 4,
  "nbformat_minor": 2
}