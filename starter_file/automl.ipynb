{
  "cells": [
    {
      "cell_type": "markdown",
      "source": [
        "# Automated ML\n",
        "\n",
        "TODO: Import Dependencies. In the cell below, import all the dependencies that you will need to complete the project."
      ],
      "metadata": {}
    },
    {
      "cell_type": "code",
      "source": [
        "import os\r\n",
        "import joblib\r\n",
        "from azureml.core import Workspace, Experiment\r\n",
        "from azureml.data.dataset_factory import TabularDatasetFactory\r\n",
        "from azureml.core.compute import ComputeTarget, AmlCompute\r\n",
        "from azureml.train.automl import AutoMLConfig\r\n",
        "\r\n",
        "from matplotlib import pyplot as plt\r\n",
        "import numpy as np\r\n",
        "import pandas as pd\r\n",
        "\r\n",
        "ws = Workspace.from_config()\r\n",
        "print(ws.name, ws.resource_group, ws.location, ws.subscription_id, sep = '\\n')"
      ],
      "outputs": [
        {
          "output_type": "stream",
          "name": "stdout",
          "text": [
            "Performing interactive authentication. Please follow the instructions on the terminal.\n",
            "To sign in, use a web browser to open the page https://microsoft.com/devicelogin and enter the code AQ92RUM85 to authenticate.\n",
            "You have logged in. Now let us find all the subscriptions to which you have access...\n",
            "Interactive authentication successfully completed.\n",
            "quick-starts-ws-137154\n",
            "aml-quickstarts-137154\n",
            "southcentralus\n",
            "5a4ab2ba-6c51-4805-8155-58759ad589d8\n"
          ]
        }
      ],
      "execution_count": 1,
      "metadata": {
        "gather": {
          "logged": 1612397994368
        },
        "jupyter": {
          "outputs_hidden": false,
          "source_hidden": false
        },
        "nteract": {
          "transient": {
            "deleting": false
          }
        }
      }
    },
    {
      "cell_type": "markdown",
      "source": [
        "## Dataset\n",
        "\n",
        "### Overview\n",
        "TODO: In this markdown cell, give an overview of the dataset you are using. Also mention the task you will be performing.\n",
        "\n",
        "\n",
        "TODO: Get data. In the cell below, write code to access the data you will be using in this project. Remember that the dataset needs to be external."
      ],
      "metadata": {}
    },
    {
      "cell_type": "code",
      "source": [
        "#create compute cluster\r\n",
        "amlcompute_cluster_name=\"aml\"\r\n",
        "\r\n",
        "#verify that cluster does not already exist\r\n",
        "try:\r\n",
        "    aml_compute=ComputeTarget(workspace=ws, name=amlcompute_cluster_name)\r\n",
        "    print('Found existing cluster, use it.')\r\n",
        "except ComputeTargetException:\r\n",
        "    compute_config=AmlCompute.provisioning_configuration(vm_size=\"Standard_D3_V2\",max_nodes=4)\r\n",
        "    aml_compute=ComputeTarget.create(ws,amlcompute_cluster_name,compute_config)\r\n",
        "\r\n",
        "aml_compute.wait_for_completion(show_output=True)"
      ],
      "outputs": [
        {
          "output_type": "stream",
          "name": "stdout",
          "text": [
            "Found existing cluster, use it.\n",
            "\n",
            "Running\n"
          ]
        }
      ],
      "execution_count": 2,
      "metadata": {
        "collapsed": true,
        "jupyter": {
          "source_hidden": false,
          "outputs_hidden": false
        },
        "nteract": {
          "transient": {
            "deleting": false
          }
        },
        "gather": {
          "logged": 1612398051048
        }
      }
    },
    {
      "cell_type": "code",
      "source": [
        "# Create TabularDataset using TabularDatasetFactory\n",
        "# Data is available at: \n",
        "auto_ds_path=\"https://raw.githubusercontent.com/shat700/nd00333-capstone/master/starter_file/heart_failure_clinical_records_dataset.csv\"\n",
        "ds=TabularDatasetFactory.from_delimited_files(path=auto_ds_path)\n",
        "\n",
        "#preview data\n",
        "df = ds.to_pandas_dataframe()\n",
        "df.describe()\n",
        "\n"
      ],
      "outputs": [
        {
          "output_type": "execute_result",
          "execution_count": 3,
          "data": {
            "text/plain": "              age     anaemia  creatinine_phosphokinase    diabetes  \\\ncount  299.000000  299.000000                299.000000  299.000000   \nmean    60.833893    0.431438                581.839465    0.418060   \nstd     11.894809    0.496107                970.287881    0.494067   \nmin     40.000000    0.000000                 23.000000    0.000000   \n25%     51.000000    0.000000                116.500000    0.000000   \n50%     60.000000    0.000000                250.000000    0.000000   \n75%     70.000000    1.000000                582.000000    1.000000   \nmax     95.000000    1.000000               7861.000000    1.000000   \n\n       ejection_fraction  high_blood_pressure      platelets  \\\ncount         299.000000           299.000000     299.000000   \nmean           38.083612             0.351171  263358.029264   \nstd            11.834841             0.478136   97804.236869   \nmin            14.000000             0.000000   25100.000000   \n25%            30.000000             0.000000  212500.000000   \n50%            38.000000             0.000000  262000.000000   \n75%            45.000000             1.000000  303500.000000   \nmax            80.000000             1.000000  850000.000000   \n\n       serum_creatinine  serum_sodium         sex    smoking        time  \\\ncount         299.00000    299.000000  299.000000  299.00000  299.000000   \nmean            1.39388    136.625418    0.648829    0.32107  130.260870   \nstd             1.03451      4.412477    0.478136    0.46767   77.614208   \nmin             0.50000    113.000000    0.000000    0.00000    4.000000   \n25%             0.90000    134.000000    0.000000    0.00000   73.000000   \n50%             1.10000    137.000000    1.000000    0.00000  115.000000   \n75%             1.40000    140.000000    1.000000    1.00000  203.000000   \nmax             9.40000    148.000000    1.000000    1.00000  285.000000   \n\n       DEATH_EVENT  \ncount    299.00000  \nmean       0.32107  \nstd        0.46767  \nmin        0.00000  \n25%        0.00000  \n50%        0.00000  \n75%        1.00000  \nmax        1.00000  ",
            "text/html": "<div>\n<style scoped>\n    .dataframe tbody tr th:only-of-type {\n        vertical-align: middle;\n    }\n\n    .dataframe tbody tr th {\n        vertical-align: top;\n    }\n\n    .dataframe thead th {\n        text-align: right;\n    }\n</style>\n<table border=\"1\" class=\"dataframe\">\n  <thead>\n    <tr style=\"text-align: right;\">\n      <th></th>\n      <th>age</th>\n      <th>anaemia</th>\n      <th>creatinine_phosphokinase</th>\n      <th>diabetes</th>\n      <th>ejection_fraction</th>\n      <th>high_blood_pressure</th>\n      <th>platelets</th>\n      <th>serum_creatinine</th>\n      <th>serum_sodium</th>\n      <th>sex</th>\n      <th>smoking</th>\n      <th>time</th>\n      <th>DEATH_EVENT</th>\n    </tr>\n  </thead>\n  <tbody>\n    <tr>\n      <th>count</th>\n      <td>299.000000</td>\n      <td>299.000000</td>\n      <td>299.000000</td>\n      <td>299.000000</td>\n      <td>299.000000</td>\n      <td>299.000000</td>\n      <td>299.000000</td>\n      <td>299.00000</td>\n      <td>299.000000</td>\n      <td>299.000000</td>\n      <td>299.00000</td>\n      <td>299.000000</td>\n      <td>299.00000</td>\n    </tr>\n    <tr>\n      <th>mean</th>\n      <td>60.833893</td>\n      <td>0.431438</td>\n      <td>581.839465</td>\n      <td>0.418060</td>\n      <td>38.083612</td>\n      <td>0.351171</td>\n      <td>263358.029264</td>\n      <td>1.39388</td>\n      <td>136.625418</td>\n      <td>0.648829</td>\n      <td>0.32107</td>\n      <td>130.260870</td>\n      <td>0.32107</td>\n    </tr>\n    <tr>\n      <th>std</th>\n      <td>11.894809</td>\n      <td>0.496107</td>\n      <td>970.287881</td>\n      <td>0.494067</td>\n      <td>11.834841</td>\n      <td>0.478136</td>\n      <td>97804.236869</td>\n      <td>1.03451</td>\n      <td>4.412477</td>\n      <td>0.478136</td>\n      <td>0.46767</td>\n      <td>77.614208</td>\n      <td>0.46767</td>\n    </tr>\n    <tr>\n      <th>min</th>\n      <td>40.000000</td>\n      <td>0.000000</td>\n      <td>23.000000</td>\n      <td>0.000000</td>\n      <td>14.000000</td>\n      <td>0.000000</td>\n      <td>25100.000000</td>\n      <td>0.50000</td>\n      <td>113.000000</td>\n      <td>0.000000</td>\n      <td>0.00000</td>\n      <td>4.000000</td>\n      <td>0.00000</td>\n    </tr>\n    <tr>\n      <th>25%</th>\n      <td>51.000000</td>\n      <td>0.000000</td>\n      <td>116.500000</td>\n      <td>0.000000</td>\n      <td>30.000000</td>\n      <td>0.000000</td>\n      <td>212500.000000</td>\n      <td>0.90000</td>\n      <td>134.000000</td>\n      <td>0.000000</td>\n      <td>0.00000</td>\n      <td>73.000000</td>\n      <td>0.00000</td>\n    </tr>\n    <tr>\n      <th>50%</th>\n      <td>60.000000</td>\n      <td>0.000000</td>\n      <td>250.000000</td>\n      <td>0.000000</td>\n      <td>38.000000</td>\n      <td>0.000000</td>\n      <td>262000.000000</td>\n      <td>1.10000</td>\n      <td>137.000000</td>\n      <td>1.000000</td>\n      <td>0.00000</td>\n      <td>115.000000</td>\n      <td>0.00000</td>\n    </tr>\n    <tr>\n      <th>75%</th>\n      <td>70.000000</td>\n      <td>1.000000</td>\n      <td>582.000000</td>\n      <td>1.000000</td>\n      <td>45.000000</td>\n      <td>1.000000</td>\n      <td>303500.000000</td>\n      <td>1.40000</td>\n      <td>140.000000</td>\n      <td>1.000000</td>\n      <td>1.00000</td>\n      <td>203.000000</td>\n      <td>1.00000</td>\n    </tr>\n    <tr>\n      <th>max</th>\n      <td>95.000000</td>\n      <td>1.000000</td>\n      <td>7861.000000</td>\n      <td>1.000000</td>\n      <td>80.000000</td>\n      <td>1.000000</td>\n      <td>850000.000000</td>\n      <td>9.40000</td>\n      <td>148.000000</td>\n      <td>1.000000</td>\n      <td>1.00000</td>\n      <td>285.000000</td>\n      <td>1.00000</td>\n    </tr>\n  </tbody>\n</table>\n</div>"
          },
          "metadata": {}
        }
      ],
      "execution_count": 3,
      "metadata": {
        "gather": {
          "logged": 1612398086525
        },
        "jupyter": {
          "outputs_hidden": false,
          "source_hidden": false
        },
        "nteract": {
          "transient": {
            "deleting": false
          }
        }
      }
    },
    {
      "cell_type": "markdown",
      "source": [
        "## AutoML Configuration\n",
        "\n",
        "TODO: Explain why you chose the automl settings and cofiguration you used below."
      ],
      "metadata": {}
    },
    {
      "cell_type": "code",
      "source": [
        "import logging\n",
        "import time\n",
        "\n",
        "# TODO: Put your automl settings here\n",
        "automl_settings = {\n",
        "    \"n_cross_validations\":5,\n",
        "    \"primary_metric\":'accuracy',\n",
        "    \"enable_early_stopping\":True,\n",
        "    \"experiment_timeout_minutes\":15,\n",
        "    \"max_concurrent_iterations\":10,\n",
        "   }\n",
        "\n",
        "# TODO: Put your automl config here\n",
        "automl_config = AutoMLConfig(\n",
        "    task='classification',\n",
        "    compute_target='aml',\n",
        "    training_data=ds,\n",
        "    label_column_name='DEATH_EVENT',\n",
        "    **automl_settings\n",
        "    )"
      ],
      "outputs": [],
      "execution_count": 4,
      "metadata": {
        "gather": {
          "logged": 1612398092478
        },
        "jupyter": {
          "outputs_hidden": false,
          "source_hidden": false
        },
        "nteract": {
          "transient": {
            "deleting": false
          }
        }
      }
    },
    {
      "cell_type": "code",
      "source": [
        "from azureml.core.experiment import Experiment\n",
        "# choose a name for experiment\n",
        "experiment_name = 'automl_run'\n",
        "experiment=Experiment(ws, experiment_name)\n",
        "\n",
        "# TODO: Submit your experiment\n",
        "remote_run = experiment.submit(automl_config, show_output=True)"
      ],
      "outputs": [
        {
          "output_type": "stream",
          "name": "stdout",
          "text": [
            "Running on remote.\n",
            "No run_configuration provided, running on aml with default configuration\n",
            "Running on remote compute: aml\n",
            "Parent Run ID: AutoML_d47dac20-ceff-4bc6-8635-4a0673dad3bc\n",
            "\n",
            "Current status: FeaturesGeneration. Generating features for the dataset.\n",
            "Current status: ModelSelection. Beginning model selection.\n",
            "\n",
            "****************************************************************************************************\n",
            "DATA GUARDRAILS: \n",
            "\n",
            "TYPE:         Class balancing detection\n",
            "STATUS:       PASSED\n",
            "DESCRIPTION:  Your inputs were analyzed, and all classes are balanced in your training data.\n",
            "              Learn more about imbalanced data: https://aka.ms/AutomatedMLImbalancedData\n",
            "\n",
            "****************************************************************************************************\n",
            "\n",
            "TYPE:         Missing feature values imputation\n",
            "STATUS:       PASSED\n",
            "DESCRIPTION:  No feature missing values were detected in the training data.\n",
            "              Learn more about missing value imputation: https://aka.ms/AutomatedMLFeaturization\n",
            "\n",
            "****************************************************************************************************\n",
            "\n",
            "TYPE:         High cardinality feature detection\n",
            "STATUS:       PASSED\n",
            "DESCRIPTION:  Your inputs were analyzed, and no high cardinality features were detected.\n",
            "              Learn more about high cardinality feature handling: https://aka.ms/AutomatedMLFeaturization\n",
            "\n",
            "****************************************************************************************************\n",
            "\n",
            "****************************************************************************************************\n",
            "ITERATION: The iteration being evaluated.\n",
            "PIPELINE: A summary description of the pipeline being evaluated.\n",
            "DURATION: Time taken for the current iteration.\n",
            "METRIC: The result of computing score on the fitted pipeline.\n",
            "BEST: The best observed score thus far.\n",
            "****************************************************************************************************\n",
            "\n",
            " ITERATION   PIPELINE                                       DURATION      METRIC      BEST\n",
            "         0   MaxAbsScaler LightGBM                          0:00:52       0.8060    0.8060\n",
            "         1   MaxAbsScaler XGBoostClassifier                 0:00:52       0.8259    0.8259\n",
            "         2   MinMaxScaler RandomForest                      0:00:56       0.8226    0.8259\n",
            "         4   MinMaxScaler RandomForest                      0:00:50       0.8462    0.8462\n",
            "         5   RobustScaler KNN                               0:00:48       0.7091    0.8462\n",
            "         7   StandardScalerWrapper LogisticRegression       0:00:50       0.8160    0.8462\n",
            "         6   StandardScalerWrapper XGBoostClassifier        0:01:05       0.8028    0.8462\n",
            "         9   StandardScalerWrapper LightGBM                 0:00:59       0.8259    0.8462\n",
            "        14   MinMaxScaler SVM                               0:00:45       0.7124    0.8462\n",
            "        15   StandardScalerWrapper XGBoostClassifier        0:00:43       0.8125    0.8462\n",
            "        11   SparseNormalizer XGBoostClassifier             0:00:51       0.8262    0.8462\n",
            "        13   SparseNormalizer XGBoostClassifier             0:00:53       0.8463    0.8463\n",
            "         3   MinMaxScaler RandomForest                      0:01:10       0.8594    0.8594\n",
            "         8   StandardScalerWrapper XGBoostClassifier        0:01:11       0.8327    0.8594\n",
            "        10   SparseNormalizer XGBoostClassifier             0:01:29       0.7792    0.8594\n",
            "        12   RobustScaler SVM                               0:01:25       0.7158    0.8594\n",
            "        16   SparseNormalizer XGBoostClassifier             0:00:49       0.8094    0.8594\n",
            "        17   SparseNormalizer XGBoostClassifier             0:00:48       0.8363    0.8594\n",
            "        18   StandardScalerWrapper ExtremeRandomTrees       0:00:45       0.8429    0.8594\n",
            "        19   MinMaxScaler LightGBM                          0:00:46       0.7793    0.8594\n",
            "        20   RobustScaler LightGBM                          0:00:44       0.7828    0.8594\n",
            "        22   SparseNormalizer XGBoostClassifier             0:00:49       0.8195    0.8594\n",
            "        21   MaxAbsScaler ExtremeRandomTrees                0:00:49       0.8529    0.8594\n",
            "        23   SparseNormalizer XGBoostClassifier             0:00:54       0.8262    0.8594\n",
            "        24   StandardScalerWrapper LightGBM                 0:00:47       0.7860    0.8594\n",
            "        25   MinMaxScaler RandomForest                      0:00:54       0.7758    0.8594\n",
            "        26   SparseNormalizer XGBoostClassifier             0:00:53       0.8529    0.8594\n",
            "        27   StandardScalerWrapper LightGBM                 0:00:48       0.7726    0.8594\n",
            "        28   StandardScalerWrapper XGBoostClassifier        0:00:47       0.8427    0.8594\n",
            "        29   StandardScalerWrapper LightGBM                 0:00:45       0.8326    0.8594\n",
            "        30   StandardScalerWrapper RandomForest             0:00:53       0.4842    0.8594\n",
            "        31   StandardScalerWrapper ExtremeRandomTrees       0:00:57       0.8329    0.8594\n",
            "        32   MinMaxScaler LightGBM                          0:00:49       0.8162    0.8594\n",
            "        33   MinMaxScaler LightGBM                          0:00:51       0.8361    0.8594\n",
            "        34   MinMaxScaler RandomForest                      0:00:54       0.8361    0.8594\n",
            "        35   StandardScalerWrapper RandomForest             0:00:52       0.6791    0.8594\n",
            "        37   MaxAbsScaler LightGBM                          0:00:49       0.8293    0.8594\n",
            "        36   SparseNormalizer LightGBM                      0:01:07       0.8562    0.8594\n",
            "        38   SparseNormalizer LightGBM                      0:00:51       0.8061    0.8594\n",
            "        39   SparseNormalizer XGBoostClassifier             0:00:48       0.8496    0.8594\n",
            "        40   SparseNormalizer RandomForest                  0:00:46       0.7928    0.8594\n",
            "        41   StandardScalerWrapper LightGBM                 0:00:41       0.8360    0.8594\n",
            "        42   StandardScalerWrapper LightGBM                 0:00:36       0.8360    0.8594\n",
            "        43   SparseNormalizer XGBoostClassifier             0:00:27          nan    0.8594\n",
            "        44   MaxAbsScaler LightGBM                          0:00:27       0.8427    0.8594\n",
            "        45                                                  0:00:11          nan    0.8594\n",
            "        46                                                  0:00:24          nan    0.8594\n",
            "        47                                                  0:00:18          nan    0.8594\n",
            "        49    StackEnsemble                                 0:01:40       0.8697    0.8697\n",
            "        48    VotingEnsemble                                0:01:43       0.8830    0.8830\n"
          ]
        }
      ],
      "execution_count": 5,
      "metadata": {
        "gather": {
          "logged": 1612398866955
        },
        "jupyter": {
          "outputs_hidden": false,
          "source_hidden": false
        },
        "nteract": {
          "transient": {
            "deleting": false
          }
        }
      }
    },
    {
      "cell_type": "markdown",
      "source": [
        "## Run Details\n",
        "\n",
        "OPTIONAL: Write about the different models trained and their performance. Why do you think some models did better than others?\n",
        "\n",
        "TODO: In the cell below, use the `RunDetails` widget to show the different experiments."
      ],
      "metadata": {}
    },
    {
      "cell_type": "code",
      "source": [
        "from azureml.widgets import RunDetails\r\n",
        "RunDetails(remote_run).show()\r\n",
        "remote_run.wait_for_completion(show_output=True)"
      ],
      "outputs": [
        {
          "output_type": "display_data",
          "data": {
            "text/plain": "_AutoMLWidget(widget_settings={'childWidgetDisplay': 'popup', 'send_telemetry': False, 'log_level': 'INFO', 's…",
            "application/vnd.jupyter.widget-view+json": {
              "version_major": 2,
              "version_minor": 0,
              "model_id": "537ff0418ac04381bcb9f41a185b55ad"
            }
          },
          "metadata": {}
        },
        {
          "output_type": "display_data",
          "data": {
            "application/aml.mini.widget.v1": "{\"status\": \"Completed\", \"workbench_run_details_uri\": \"https://ml.azure.com/experiments/automl_run/runs/AutoML_d47dac20-ceff-4bc6-8635-4a0673dad3bc?wsid=/subscriptions/5a4ab2ba-6c51-4805-8155-58759ad589d8/resourcegroups/aml-quickstarts-137154/workspaces/quick-starts-ws-137154\", \"run_id\": \"AutoML_d47dac20-ceff-4bc6-8635-4a0673dad3bc\", \"run_properties\": {\"run_id\": \"AutoML_d47dac20-ceff-4bc6-8635-4a0673dad3bc\", \"created_utc\": \"2021-02-04T00:21:38.358366Z\", \"properties\": {\"num_iterations\": \"1000\", \"training_type\": \"TrainFull\", \"acquisition_function\": \"EI\", \"primary_metric\": \"accuracy\", \"train_split\": \"0\", \"acquisition_parameter\": \"0\", \"num_cross_validation\": \"5\", \"target\": \"aml\", \"AMLSettingsJsonString\": \"{\\\"path\\\":null,\\\"name\\\":\\\"automl_run\\\",\\\"subscription_id\\\":\\\"5a4ab2ba-6c51-4805-8155-58759ad589d8\\\",\\\"resource_group\\\":\\\"aml-quickstarts-137154\\\",\\\"workspace_name\\\":\\\"quick-starts-ws-137154\\\",\\\"region\\\":\\\"southcentralus\\\",\\\"compute_target\\\":\\\"aml\\\",\\\"spark_service\\\":null,\\\"azure_service\\\":\\\"remote\\\",\\\"many_models\\\":false,\\\"pipeline_fetch_max_batch_size\\\":1,\\\"iterations\\\":1000,\\\"primary_metric\\\":\\\"accuracy\\\",\\\"task_type\\\":\\\"classification\\\",\\\"data_script\\\":null,\\\"validation_size\\\":0.0,\\\"n_cross_validations\\\":5,\\\"y_min\\\":null,\\\"y_max\\\":null,\\\"num_classes\\\":null,\\\"featurization\\\":\\\"auto\\\",\\\"_ignore_package_version_incompatibilities\\\":false,\\\"is_timeseries\\\":false,\\\"max_cores_per_iteration\\\":1,\\\"max_concurrent_iterations\\\":10,\\\"iteration_timeout_minutes\\\":null,\\\"mem_in_mb\\\":null,\\\"enforce_time_on_windows\\\":false,\\\"experiment_timeout_minutes\\\":15,\\\"experiment_exit_score\\\":null,\\\"whitelist_models\\\":null,\\\"blacklist_algos\\\":[\\\"TensorFlowLinearClassifier\\\",\\\"TensorFlowDNN\\\"],\\\"supported_models\\\":[\\\"XGBoostClassifier\\\",\\\"AveragedPerceptronClassifier\\\",\\\"ExtremeRandomTrees\\\",\\\"DecisionTree\\\",\\\"SVM\\\",\\\"KNN\\\",\\\"MultinomialNaiveBayes\\\",\\\"LinearSVM\\\",\\\"BernoulliNaiveBayes\\\",\\\"TensorFlowDNN\\\",\\\"LogisticRegression\\\",\\\"LightGBM\\\",\\\"GradientBoosting\\\",\\\"RandomForest\\\",\\\"TensorFlowLinearClassifier\\\",\\\"SGD\\\"],\\\"auto_blacklist\\\":true,\\\"blacklist_samples_reached\\\":false,\\\"exclude_nan_labels\\\":true,\\\"verbosity\\\":20,\\\"_debug_log\\\":\\\"azureml_automl.log\\\",\\\"show_warnings\\\":false,\\\"model_explainability\\\":true,\\\"service_url\\\":null,\\\"sdk_url\\\":null,\\\"sdk_packages\\\":null,\\\"enable_onnx_compatible_models\\\":false,\\\"enable_split_onnx_featurizer_estimator_models\\\":false,\\\"vm_type\\\":\\\"STANDARD_DS3_V2\\\",\\\"telemetry_verbosity\\\":20,\\\"send_telemetry\\\":true,\\\"enable_dnn\\\":false,\\\"scenario\\\":\\\"SDK-1.13.0\\\",\\\"environment_label\\\":null,\\\"force_text_dnn\\\":false,\\\"enable_feature_sweeping\\\":true,\\\"enable_early_stopping\\\":true,\\\"early_stopping_n_iters\\\":10,\\\"metrics\\\":null,\\\"enable_ensembling\\\":true,\\\"enable_stack_ensembling\\\":true,\\\"ensemble_iterations\\\":15,\\\"enable_tf\\\":false,\\\"enable_subsampling\\\":null,\\\"subsample_seed\\\":null,\\\"enable_nimbusml\\\":false,\\\"enable_streaming\\\":false,\\\"force_streaming\\\":false,\\\"track_child_runs\\\":true,\\\"allowed_private_models\\\":[],\\\"label_column_name\\\":\\\"DEATH_EVENT\\\",\\\"weight_column_name\\\":null,\\\"cv_split_column_names\\\":null,\\\"enable_local_managed\\\":false,\\\"_local_managed_run_id\\\":null,\\\"cost_mode\\\":1,\\\"lag_length\\\":0,\\\"metric_operation\\\":\\\"maximize\\\",\\\"preprocess\\\":true}\", \"DataPrepJsonString\": \"{\\\\\\\"training_data\\\\\\\": \\\\\\\"{\\\\\\\\\\\\\\\"blocks\\\\\\\\\\\\\\\": [{\\\\\\\\\\\\\\\"id\\\\\\\\\\\\\\\": \\\\\\\\\\\\\\\"072d7a44-28f1-439b-b6d9-a36b9747b6bf\\\\\\\\\\\\\\\", \\\\\\\\\\\\\\\"type\\\\\\\\\\\\\\\": \\\\\\\\\\\\\\\"Microsoft.DPrep.GetFilesBlock\\\\\\\\\\\\\\\", \\\\\\\\\\\\\\\"arguments\\\\\\\\\\\\\\\": {\\\\\\\\\\\\\\\"isArchive\\\\\\\\\\\\\\\": false, \\\\\\\\\\\\\\\"path\\\\\\\\\\\\\\\": {\\\\\\\\\\\\\\\"target\\\\\\\\\\\\\\\": 4, \\\\\\\\\\\\\\\"resourceDetails\\\\\\\\\\\\\\\": [{\\\\\\\\\\\\\\\"path\\\\\\\\\\\\\\\": \\\\\\\\\\\\\\\"https://raw.githubusercontent.com/shat700/nd00333-capstone/master/starter_file/heart_failure_clinical_records_dataset.csv\\\\\\\\\\\\\\\"}]}}, \\\\\\\\\\\\\\\"localData\\\\\\\\\\\\\\\": {}, \\\\\\\\\\\\\\\"isEnabled\\\\\\\\\\\\\\\": true, \\\\\\\\\\\\\\\"name\\\\\\\\\\\\\\\": null, \\\\\\\\\\\\\\\"annotation\\\\\\\\\\\\\\\": null}, {\\\\\\\\\\\\\\\"id\\\\\\\\\\\\\\\": \\\\\\\\\\\\\\\"ca84e7cc-9b9a-4c5b-b52c-c07c1fe76820\\\\\\\\\\\\\\\", \\\\\\\\\\\\\\\"type\\\\\\\\\\\\\\\": \\\\\\\\\\\\\\\"Microsoft.DPrep.ParseDelimitedBlock\\\\\\\\\\\\\\\", \\\\\\\\\\\\\\\"arguments\\\\\\\\\\\\\\\": {\\\\\\\\\\\\\\\"columnHeadersMode\\\\\\\\\\\\\\\": 3, \\\\\\\\\\\\\\\"fileEncoding\\\\\\\\\\\\\\\": 0, \\\\\\\\\\\\\\\"handleQuotedLineBreaks\\\\\\\\\\\\\\\": false, \\\\\\\\\\\\\\\"preview\\\\\\\\\\\\\\\": false, \\\\\\\\\\\\\\\"separator\\\\\\\\\\\\\\\": \\\\\\\\\\\\\\\",\\\\\\\\\\\\\\\", \\\\\\\\\\\\\\\"skipRows\\\\\\\\\\\\\\\": 0, \\\\\\\\\\\\\\\"skipRowsMode\\\\\\\\\\\\\\\": 0}, \\\\\\\\\\\\\\\"localData\\\\\\\\\\\\\\\": {}, \\\\\\\\\\\\\\\"isEnabled\\\\\\\\\\\\\\\": true, \\\\\\\\\\\\\\\"name\\\\\\\\\\\\\\\": null, \\\\\\\\\\\\\\\"annotation\\\\\\\\\\\\\\\": null}, {\\\\\\\\\\\\\\\"id\\\\\\\\\\\\\\\": \\\\\\\\\\\\\\\"63b2d4fd-6699-4e36-ae6f-fbab4a5f23b2\\\\\\\\\\\\\\\", \\\\\\\\\\\\\\\"type\\\\\\\\\\\\\\\": \\\\\\\\\\\\\\\"Microsoft.DPrep.DropColumnsBlock\\\\\\\\\\\\\\\", \\\\\\\\\\\\\\\"arguments\\\\\\\\\\\\\\\": {\\\\\\\\\\\\\\\"columns\\\\\\\\\\\\\\\": {\\\\\\\\\\\\\\\"type\\\\\\\\\\\\\\\": 0, \\\\\\\\\\\\\\\"details\\\\\\\\\\\\\\\": {\\\\\\\\\\\\\\\"selectedColumns\\\\\\\\\\\\\\\": [\\\\\\\\\\\\\\\"Path\\\\\\\\\\\\\\\"]}}}, \\\\\\\\\\\\\\\"localData\\\\\\\\\\\\\\\": {}, \\\\\\\\\\\\\\\"isEnabled\\\\\\\\\\\\\\\": true, \\\\\\\\\\\\\\\"name\\\\\\\\\\\\\\\": null, \\\\\\\\\\\\\\\"annotation\\\\\\\\\\\\\\\": null}, {\\\\\\\\\\\\\\\"id\\\\\\\\\\\\\\\": \\\\\\\\\\\\\\\"22420408-9360-4cff-ae6a-e63076284baf\\\\\\\\\\\\\\\", \\\\\\\\\\\\\\\"type\\\\\\\\\\\\\\\": \\\\\\\\\\\\\\\"Microsoft.DPrep.SetColumnTypesBlock\\\\\\\\\\\\\\\", \\\\\\\\\\\\\\\"arguments\\\\\\\\\\\\\\\": {\\\\\\\\\\\\\\\"columnConversion\\\\\\\\\\\\\\\": [{\\\\\\\\\\\\\\\"column\\\\\\\\\\\\\\\": {\\\\\\\\\\\\\\\"type\\\\\\\\\\\\\\\": 2, \\\\\\\\\\\\\\\"details\\\\\\\\\\\\\\\": {\\\\\\\\\\\\\\\"selectedColumn\\\\\\\\\\\\\\\": \\\\\\\\\\\\\\\"age\\\\\\\\\\\\\\\"}}, \\\\\\\\\\\\\\\"typeProperty\\\\\\\\\\\\\\\": 3}, {\\\\\\\\\\\\\\\"column\\\\\\\\\\\\\\\": {\\\\\\\\\\\\\\\"type\\\\\\\\\\\\\\\": 2, \\\\\\\\\\\\\\\"details\\\\\\\\\\\\\\\": {\\\\\\\\\\\\\\\"selectedColumn\\\\\\\\\\\\\\\": \\\\\\\\\\\\\\\"anaemia\\\\\\\\\\\\\\\"}}, \\\\\\\\\\\\\\\"typeProperty\\\\\\\\\\\\\\\": 2}, {\\\\\\\\\\\\\\\"column\\\\\\\\\\\\\\\": {\\\\\\\\\\\\\\\"type\\\\\\\\\\\\\\\": 2, \\\\\\\\\\\\\\\"details\\\\\\\\\\\\\\\": {\\\\\\\\\\\\\\\"selectedColumn\\\\\\\\\\\\\\\": \\\\\\\\\\\\\\\"creatinine_phosphokinase\\\\\\\\\\\\\\\"}}, \\\\\\\\\\\\\\\"typeProperty\\\\\\\\\\\\\\\": 2}, {\\\\\\\\\\\\\\\"column\\\\\\\\\\\\\\\": {\\\\\\\\\\\\\\\"type\\\\\\\\\\\\\\\": 2, \\\\\\\\\\\\\\\"details\\\\\\\\\\\\\\\": {\\\\\\\\\\\\\\\"selectedColumn\\\\\\\\\\\\\\\": \\\\\\\\\\\\\\\"diabetes\\\\\\\\\\\\\\\"}}, \\\\\\\\\\\\\\\"typeProperty\\\\\\\\\\\\\\\": 2}, {\\\\\\\\\\\\\\\"column\\\\\\\\\\\\\\\": {\\\\\\\\\\\\\\\"type\\\\\\\\\\\\\\\": 2, \\\\\\\\\\\\\\\"details\\\\\\\\\\\\\\\": {\\\\\\\\\\\\\\\"selectedColumn\\\\\\\\\\\\\\\": \\\\\\\\\\\\\\\"ejection_fraction\\\\\\\\\\\\\\\"}}, \\\\\\\\\\\\\\\"typeProperty\\\\\\\\\\\\\\\": 2}, {\\\\\\\\\\\\\\\"column\\\\\\\\\\\\\\\": {\\\\\\\\\\\\\\\"type\\\\\\\\\\\\\\\": 2, \\\\\\\\\\\\\\\"details\\\\\\\\\\\\\\\": {\\\\\\\\\\\\\\\"selectedColumn\\\\\\\\\\\\\\\": \\\\\\\\\\\\\\\"high_blood_pressure\\\\\\\\\\\\\\\"}}, \\\\\\\\\\\\\\\"typeProperty\\\\\\\\\\\\\\\": 2}, {\\\\\\\\\\\\\\\"column\\\\\\\\\\\\\\\": {\\\\\\\\\\\\\\\"type\\\\\\\\\\\\\\\": 2, \\\\\\\\\\\\\\\"details\\\\\\\\\\\\\\\": {\\\\\\\\\\\\\\\"selectedColumn\\\\\\\\\\\\\\\": \\\\\\\\\\\\\\\"platelets\\\\\\\\\\\\\\\"}}, \\\\\\\\\\\\\\\"typeProperty\\\\\\\\\\\\\\\": 3}, {\\\\\\\\\\\\\\\"column\\\\\\\\\\\\\\\": {\\\\\\\\\\\\\\\"type\\\\\\\\\\\\\\\": 2, \\\\\\\\\\\\\\\"details\\\\\\\\\\\\\\\": {\\\\\\\\\\\\\\\"selectedColumn\\\\\\\\\\\\\\\": \\\\\\\\\\\\\\\"serum_creatinine\\\\\\\\\\\\\\\"}}, \\\\\\\\\\\\\\\"typeProperty\\\\\\\\\\\\\\\": 3}, {\\\\\\\\\\\\\\\"column\\\\\\\\\\\\\\\": {\\\\\\\\\\\\\\\"type\\\\\\\\\\\\\\\": 2, \\\\\\\\\\\\\\\"details\\\\\\\\\\\\\\\": {\\\\\\\\\\\\\\\"selectedColumn\\\\\\\\\\\\\\\": \\\\\\\\\\\\\\\"serum_sodium\\\\\\\\\\\\\\\"}}, \\\\\\\\\\\\\\\"typeProperty\\\\\\\\\\\\\\\": 2}, {\\\\\\\\\\\\\\\"column\\\\\\\\\\\\\\\": {\\\\\\\\\\\\\\\"type\\\\\\\\\\\\\\\": 2, \\\\\\\\\\\\\\\"details\\\\\\\\\\\\\\\": {\\\\\\\\\\\\\\\"selectedColumn\\\\\\\\\\\\\\\": \\\\\\\\\\\\\\\"sex\\\\\\\\\\\\\\\"}}, \\\\\\\\\\\\\\\"typeProperty\\\\\\\\\\\\\\\": 2}, {\\\\\\\\\\\\\\\"column\\\\\\\\\\\\\\\": {\\\\\\\\\\\\\\\"type\\\\\\\\\\\\\\\": 2, \\\\\\\\\\\\\\\"details\\\\\\\\\\\\\\\": {\\\\\\\\\\\\\\\"selectedColumn\\\\\\\\\\\\\\\": \\\\\\\\\\\\\\\"smoking\\\\\\\\\\\\\\\"}}, \\\\\\\\\\\\\\\"typeProperty\\\\\\\\\\\\\\\": 2}, {\\\\\\\\\\\\\\\"column\\\\\\\\\\\\\\\": {\\\\\\\\\\\\\\\"type\\\\\\\\\\\\\\\": 2, \\\\\\\\\\\\\\\"details\\\\\\\\\\\\\\\": {\\\\\\\\\\\\\\\"selectedColumn\\\\\\\\\\\\\\\": \\\\\\\\\\\\\\\"time\\\\\\\\\\\\\\\"}}, \\\\\\\\\\\\\\\"typeProperty\\\\\\\\\\\\\\\": 2}, {\\\\\\\\\\\\\\\"column\\\\\\\\\\\\\\\": {\\\\\\\\\\\\\\\"type\\\\\\\\\\\\\\\": 2, \\\\\\\\\\\\\\\"details\\\\\\\\\\\\\\\": {\\\\\\\\\\\\\\\"selectedColumn\\\\\\\\\\\\\\\": \\\\\\\\\\\\\\\"DEATH_EVENT\\\\\\\\\\\\\\\"}}, \\\\\\\\\\\\\\\"typeProperty\\\\\\\\\\\\\\\": 2}]}, \\\\\\\\\\\\\\\"localData\\\\\\\\\\\\\\\": {}, \\\\\\\\\\\\\\\"isEnabled\\\\\\\\\\\\\\\": true, \\\\\\\\\\\\\\\"name\\\\\\\\\\\\\\\": null, \\\\\\\\\\\\\\\"annotation\\\\\\\\\\\\\\\": null}], \\\\\\\\\\\\\\\"inspectors\\\\\\\\\\\\\\\": [], \\\\\\\\\\\\\\\"meta\\\\\\\\\\\\\\\": {\\\\\\\\\\\\\\\"savedDatasetId\\\\\\\\\\\\\\\": \\\\\\\\\\\\\\\"c5f83e25-002e-412b-a193-34fbda3e86fe\\\\\\\\\\\\\\\", \\\\\\\\\\\\\\\"datasetType\\\\\\\\\\\\\\\": \\\\\\\\\\\\\\\"tabular\\\\\\\\\\\\\\\", \\\\\\\\\\\\\\\"subscriptionId\\\\\\\\\\\\\\\": \\\\\\\\\\\\\\\"5a4ab2ba-6c51-4805-8155-58759ad589d8\\\\\\\\\\\\\\\", \\\\\\\\\\\\\\\"workspaceId\\\\\\\\\\\\\\\": \\\\\\\\\\\\\\\"4bbd21a9-5275-4d6a-802c-4a80881fa22e\\\\\\\\\\\\\\\", \\\\\\\\\\\\\\\"workspaceLocation\\\\\\\\\\\\\\\": \\\\\\\\\\\\\\\"southcentralus\\\\\\\\\\\\\\\"}}\\\\\\\", \\\\\\\"activities\\\\\\\": 0}\", \"EnableSubsampling\": null, \"runTemplate\": \"AutoML\", \"azureml.runsource\": \"automl\", \"display_task_type\": \"classification\", \"dependencies_versions\": \"{\\\"azureml-widgets\\\": \\\"1.20.0\\\", \\\"azureml-train\\\": \\\"1.20.0\\\", \\\"azureml-train-restclients-hyperdrive\\\": \\\"1.20.0\\\", \\\"azureml-train-core\\\": \\\"1.20.0\\\", \\\"azureml-train-automl\\\": \\\"1.20.0\\\", \\\"azureml-train-automl-runtime\\\": \\\"1.20.0\\\", \\\"azureml-train-automl-client\\\": \\\"1.20.0\\\", \\\"azureml-tensorboard\\\": \\\"1.20.0\\\", \\\"azureml-telemetry\\\": \\\"1.20.0\\\", \\\"azureml-sdk\\\": \\\"1.20.0\\\", \\\"azureml-samples\\\": \\\"0+unknown\\\", \\\"azureml-pipeline\\\": \\\"1.20.0\\\", \\\"azureml-pipeline-steps\\\": \\\"1.20.0\\\", \\\"azureml-pipeline-core\\\": \\\"1.20.0\\\", \\\"azureml-opendatasets\\\": \\\"1.20.0\\\", \\\"azureml-model-management-sdk\\\": \\\"1.0.1b6.post1\\\", \\\"azureml-mlflow\\\": \\\"1.20.0.post1\\\", \\\"azureml-interpret\\\": \\\"1.20.0\\\", \\\"azureml-explain-model\\\": \\\"1.20.0\\\", \\\"azureml-defaults\\\": \\\"1.20.0\\\", \\\"azureml-dataset-runtime\\\": \\\"1.20.0\\\", \\\"azureml-dataprep\\\": \\\"2.7.3\\\", \\\"azureml-dataprep-rslex\\\": \\\"1.5.0\\\", \\\"azureml-dataprep-native\\\": \\\"27.0.0\\\", \\\"azureml-datadrift\\\": \\\"1.20.0\\\", \\\"azureml-core\\\": \\\"1.20.0\\\", \\\"azureml-contrib-services\\\": \\\"1.20.0\\\", \\\"azureml-contrib-server\\\": \\\"1.20.0\\\", \\\"azureml-contrib-reinforcementlearning\\\": \\\"1.20.0\\\", \\\"azureml-contrib-pipeline-steps\\\": \\\"1.20.0\\\", \\\"azureml-contrib-notebook\\\": \\\"1.20.0\\\", \\\"azureml-contrib-interpret\\\": \\\"1.20.0\\\", \\\"azureml-contrib-gbdt\\\": \\\"1.20.0\\\", \\\"azureml-contrib-fairness\\\": \\\"1.20.0\\\", \\\"azureml-contrib-dataset\\\": \\\"1.20.0\\\", \\\"azureml-cli-common\\\": \\\"1.20.0\\\", \\\"azureml-automl-runtime\\\": \\\"1.20.0\\\", \\\"azureml-automl-core\\\": \\\"1.20.0\\\", \\\"azureml-accel-models\\\": \\\"1.20.0\\\"}\", \"_aml_system_scenario_identification\": \"Remote.Parent\", \"ClientType\": \"SDK\", \"environment_cpu_name\": \"AzureML-AutoML\", \"environment_cpu_label\": \"prod\", \"environment_gpu_name\": \"AzureML-AutoML-GPU\", \"environment_gpu_label\": \"prod\", \"root_attribution\": \"automl\", \"attribution\": \"AutoML\", \"Orchestrator\": \"AutoML\", \"CancelUri\": \"https://southcentralus.experiments.azureml.net/jasmine/v1.0/subscriptions/5a4ab2ba-6c51-4805-8155-58759ad589d8/resourceGroups/aml-quickstarts-137154/providers/Microsoft.MachineLearningServices/workspaces/quick-starts-ws-137154/experimentids/c0f3796a-7f38-4a4d-b20f-c8f5c311f0c8/cancel/AutoML_d47dac20-ceff-4bc6-8635-4a0673dad3bc\", \"ClientSdkVersion\": \"1.21.0\", \"snapshotId\": \"00000000-0000-0000-0000-000000000000\", \"SetupRunId\": \"AutoML_d47dac20-ceff-4bc6-8635-4a0673dad3bc_setup\", \"SetupRunContainerId\": \"dcid.AutoML_d47dac20-ceff-4bc6-8635-4a0673dad3bc_setup\", \"FeaturizationRunJsonPath\": \"featurizer_container.json\", \"FeaturizationRunId\": \"AutoML_d47dac20-ceff-4bc6-8635-4a0673dad3bc_featurize\", \"ProblemInfoJsonString\": \"{\\\"dataset_num_categorical\\\": 0, \\\"is_sparse\\\": false, \\\"subsampling\\\": false, \\\"dataset_classes\\\": 2, \\\"dataset_features\\\": 12, \\\"dataset_samples\\\": 299, \\\"single_frequency_class_detected\\\": false}\", \"ModelExplainRunId\": \"AutoML_d47dac20-ceff-4bc6-8635-4a0673dad3bc_ModelExplain\"}, \"tags\": {\"model_explain_run\": \"best_run\", \"_aml_system_azureml.automlComponent\": \"AutoML\", \"pipeline_id\": \"\", \"score\": \"\", \"predicted_cost\": \"\", \"fit_time\": \"\", \"training_percent\": \"\", \"iteration\": \"\", \"run_preprocessor\": \"\", \"run_algorithm\": \"\", \"dynamic_whitelisting_iterations\": \"<25>;<30>;<35>;<40>;<45>;\", \"automl_best_child_run_id\": \"AutoML_d47dac20-ceff-4bc6-8635-4a0673dad3bc_48\", \"model_explain_best_run_child_id\": \"AutoML_d47dac20-ceff-4bc6-8635-4a0673dad3bc_48\"}, \"end_time_utc\": \"2021-02-04T00:34:11.227673Z\", \"status\": \"Completed\", \"log_files\": {}, \"log_groups\": [], \"run_duration\": \"0:12:32\"}, \"child_runs\": [{\"run_id\": \"AutoML_d47dac20-ceff-4bc6-8635-4a0673dad3bc_0\", \"run_number\": 5, \"metric\": null, \"status\": \"Completed\", \"run_type\": \"azureml.scriptrun\", \"training_percent\": \"100\", \"start_time\": \"2021-02-04T00:26:25.710321Z\", \"end_time\": \"2021-02-04T00:27:18.111515Z\", \"created_time\": \"2021-02-04T00:26:11.231658Z\", \"created_time_dt\": \"2021-02-04T00:26:11.231658Z\", \"duration\": \"0:01:06\", \"iteration\": \"0\", \"goal\": \"accuracy_max\", \"run_name\": \"MaxAbsScaler, LightGBM\", \"run_properties\": \"copy=True\", \"primary_metric\": 0.8059887, \"best_metric\": 0.8059887}, {\"run_id\": \"AutoML_d47dac20-ceff-4bc6-8635-4a0673dad3bc_1\", \"run_number\": 6, \"metric\": null, \"status\": \"Completed\", \"run_type\": \"azureml.scriptrun\", \"training_percent\": \"100\", \"start_time\": \"2021-02-04T00:26:27.646685Z\", \"end_time\": \"2021-02-04T00:27:20.056779Z\", \"created_time\": \"2021-02-04T00:26:11.380218Z\", \"created_time_dt\": \"2021-02-04T00:26:11.380218Z\", \"duration\": \"0:01:08\", \"iteration\": \"1\", \"goal\": \"accuracy_max\", \"run_name\": \"MaxAbsScaler, XGBoostClassifier\", \"run_properties\": \"copy=True\", \"primary_metric\": 0.8259322, \"best_metric\": 0.8259322}, {\"run_id\": \"AutoML_d47dac20-ceff-4bc6-8635-4a0673dad3bc_9\", \"run_number\": 7, \"metric\": null, \"status\": \"Completed\", \"run_type\": \"azureml.scriptrun\", \"training_percent\": \"100\", \"start_time\": \"2021-02-04T00:26:27.091558Z\", \"end_time\": \"2021-02-04T00:27:26.323134Z\", \"created_time\": \"2021-02-04T00:26:11.404652Z\", \"created_time_dt\": \"2021-02-04T00:26:11.404652Z\", \"duration\": \"0:01:14\", \"iteration\": \"9\", \"goal\": \"accuracy_max\", \"run_name\": \"StandardScalerWrapper, LightGBM\", \"run_properties\": \"<azureml.automl.runtime.shared.model_wrappers.StandardScalerWrapper object at 0x7f178c3320b8\", \"primary_metric\": 0.8259322, \"best_metric\": 0.85943503}, {\"run_id\": \"AutoML_d47dac20-ceff-4bc6-8635-4a0673dad3bc_4\", \"run_number\": 8, \"metric\": null, \"status\": \"Completed\", \"run_type\": \"azureml.scriptrun\", \"training_percent\": \"100\", \"start_time\": \"2021-02-04T00:26:26.853313Z\", \"end_time\": \"2021-02-04T00:27:16.762449Z\", \"created_time\": \"2021-02-04T00:26:11.411355Z\", \"created_time_dt\": \"2021-02-04T00:26:11.411355Z\", \"duration\": \"0:01:05\", \"iteration\": \"4\", \"goal\": \"accuracy_max\", \"run_name\": \"MinMaxScaler, RandomForest\", \"run_properties\": \"copy=True, feature_range=(0, 1\", \"primary_metric\": 0.84615819, \"best_metric\": 0.85943503}, {\"run_id\": \"AutoML_d47dac20-ceff-4bc6-8635-4a0673dad3bc_5\", \"run_number\": 9, \"metric\": null, \"status\": \"Completed\", \"run_type\": \"azureml.scriptrun\", \"training_percent\": \"100\", \"start_time\": \"2021-02-04T00:26:27.185474Z\", \"end_time\": \"2021-02-04T00:27:15.417471Z\", \"created_time\": \"2021-02-04T00:26:11.420508Z\", \"created_time_dt\": \"2021-02-04T00:26:11.420508Z\", \"duration\": \"0:01:03\", \"iteration\": \"5\", \"goal\": \"accuracy_max\", \"run_name\": \"RobustScaler, KNN\", \"run_properties\": \"copy=True, quantile_range=[10, 90], with_centering=True,\\n             with_scaling=True\", \"primary_metric\": 0.70909605, \"best_metric\": 0.85943503}, {\"run_id\": \"AutoML_d47dac20-ceff-4bc6-8635-4a0673dad3bc_6\", \"run_number\": 10, \"metric\": null, \"status\": \"Completed\", \"run_type\": \"azureml.scriptrun\", \"training_percent\": \"100\", \"start_time\": \"2021-02-04T00:26:27.368425Z\", \"end_time\": \"2021-02-04T00:27:32.731906Z\", \"created_time\": \"2021-02-04T00:26:11.444052Z\", \"created_time_dt\": \"2021-02-04T00:26:11.444052Z\", \"duration\": \"0:01:21\", \"iteration\": \"6\", \"goal\": \"accuracy_max\", \"run_name\": \"StandardScalerWrapper, XGBoostClassifier\", \"run_properties\": \"<azureml.automl.runtime.shared.model_wrappers.StandardScalerWrapper object at 0x7f7496a5df28\", \"primary_metric\": 0.80282486, \"best_metric\": 0.85943503}, {\"run_id\": \"AutoML_d47dac20-ceff-4bc6-8635-4a0673dad3bc_7\", \"run_number\": 11, \"metric\": null, \"status\": \"Completed\", \"run_type\": \"azureml.scriptrun\", \"training_percent\": \"100\", \"start_time\": \"2021-02-04T00:26:27.159967Z\", \"end_time\": \"2021-02-04T00:27:16.907122Z\", \"created_time\": \"2021-02-04T00:26:11.476478Z\", \"created_time_dt\": \"2021-02-04T00:26:11.476478Z\", \"duration\": \"0:01:05\", \"iteration\": \"7\", \"goal\": \"accuracy_max\", \"run_name\": \"StandardScalerWrapper, LogisticRegression\", \"run_properties\": \"<azureml.automl.runtime.shared.model_wrappers.StandardScalerWrapper object at 0x7f64216d87b8\", \"primary_metric\": 0.8160452, \"best_metric\": 0.85943503}, {\"run_id\": \"AutoML_d47dac20-ceff-4bc6-8635-4a0673dad3bc_2\", \"run_number\": 12, \"metric\": null, \"status\": \"Completed\", \"run_type\": \"azureml.scriptrun\", \"training_percent\": \"100\", \"start_time\": \"2021-02-04T00:26:25.282582Z\", \"end_time\": \"2021-02-04T00:27:20.945348Z\", \"created_time\": \"2021-02-04T00:26:11.386333Z\", \"created_time_dt\": \"2021-02-04T00:26:11.386333Z\", \"duration\": \"0:01:09\", \"iteration\": \"2\", \"goal\": \"accuracy_max\", \"run_name\": \"MinMaxScaler, RandomForest\", \"run_properties\": \"copy=True, feature_range=(0, 1\", \"primary_metric\": 0.82259887, \"best_metric\": 0.8259322}, {\"run_id\": \"AutoML_d47dac20-ceff-4bc6-8635-4a0673dad3bc_8\", \"run_number\": 13, \"metric\": null, \"status\": \"Completed\", \"run_type\": \"azureml.scriptrun\", \"training_percent\": \"100\", \"start_time\": \"2021-02-04T00:27:19.997185Z\", \"end_time\": \"2021-02-04T00:28:30.907348Z\", \"created_time\": \"2021-02-04T00:26:11.427383Z\", \"created_time_dt\": \"2021-02-04T00:26:11.427383Z\", \"duration\": \"0:02:19\", \"iteration\": \"8\", \"goal\": \"accuracy_max\", \"run_name\": \"StandardScalerWrapper, XGBoostClassifier\", \"run_properties\": \"<azureml.automl.runtime.shared.model_wrappers.StandardScalerWrapper object at 0x7f9972a25dd8\", \"primary_metric\": 0.83265537, \"best_metric\": 0.85943503}, {\"run_id\": \"AutoML_d47dac20-ceff-4bc6-8635-4a0673dad3bc_3\", \"run_number\": 14, \"metric\": null, \"status\": \"Completed\", \"run_type\": \"azureml.scriptrun\", \"training_percent\": \"100\", \"start_time\": \"2021-02-04T00:27:19.936733Z\", \"end_time\": \"2021-02-04T00:28:29.986701Z\", \"created_time\": \"2021-02-04T00:26:11.424684Z\", \"created_time_dt\": \"2021-02-04T00:26:11.424684Z\", \"duration\": \"0:02:18\", \"iteration\": \"3\", \"goal\": \"accuracy_max\", \"run_name\": \"MinMaxScaler, RandomForest\", \"run_properties\": \"copy=True, feature_range=(0, 1\", \"primary_metric\": 0.85943503, \"best_metric\": 0.85943503}, {\"run_id\": \"AutoML_d47dac20-ceff-4bc6-8635-4a0673dad3bc_10\", \"run_number\": 15, \"metric\": null, \"status\": \"Completed\", \"run_type\": \"azureml.scriptrun\", \"training_percent\": \"100\", \"start_time\": \"2021-02-04T00:27:33.290793Z\", \"end_time\": \"2021-02-04T00:29:02.173884Z\", \"created_time\": \"2021-02-04T00:27:20.584618Z\", \"created_time_dt\": \"2021-02-04T00:27:20.584618Z\", \"duration\": \"0:01:41\", \"iteration\": \"10\", \"goal\": \"accuracy_max\", \"run_name\": \"SparseNormalizer, XGBoostClassifier\", \"run_properties\": \"<azureml.automl.runtime.shared.model_wrappers.SparseNormalizer object at 0x7f8b279f2940\", \"primary_metric\": 0.77920904, \"best_metric\": 0.85943503}, {\"run_id\": \"AutoML_d47dac20-ceff-4bc6-8635-4a0673dad3bc_14\", \"run_number\": 16, \"metric\": null, \"status\": \"Completed\", \"run_type\": \"azureml.scriptrun\", \"training_percent\": \"100\", \"start_time\": \"2021-02-04T00:27:38.870603Z\", \"end_time\": \"2021-02-04T00:28:24.158352Z\", \"created_time\": \"2021-02-04T00:27:25.634829Z\", \"created_time_dt\": \"2021-02-04T00:27:25.634829Z\", \"duration\": \"0:00:58\", \"iteration\": \"14\", \"goal\": \"accuracy_max\", \"run_name\": \"MinMaxScaler, SVM\", \"run_properties\": \"copy=True, feature_range=(0, 1\", \"primary_metric\": 0.71242938, \"best_metric\": 0.85943503}, {\"run_id\": \"AutoML_d47dac20-ceff-4bc6-8635-4a0673dad3bc_13\", \"run_number\": 17, \"metric\": null, \"status\": \"Completed\", \"run_type\": \"azureml.scriptrun\", \"training_percent\": \"100\", \"start_time\": \"2021-02-04T00:27:39.778232Z\", \"end_time\": \"2021-02-04T00:28:33.22102Z\", \"created_time\": \"2021-02-04T00:27:25.639952Z\", \"created_time_dt\": \"2021-02-04T00:27:25.639952Z\", \"duration\": \"0:01:07\", \"iteration\": \"13\", \"goal\": \"accuracy_max\", \"run_name\": \"SparseNormalizer, XGBoostClassifier\", \"run_properties\": \"<azureml.automl.runtime.shared.model_wrappers.SparseNormalizer object at 0x7f9dc00c5a90\", \"primary_metric\": 0.84627119, \"best_metric\": 0.85943503}, {\"run_id\": \"AutoML_d47dac20-ceff-4bc6-8635-4a0673dad3bc_11\", \"run_number\": 18, \"metric\": null, \"status\": \"Completed\", \"run_type\": \"azureml.scriptrun\", \"training_percent\": \"100\", \"start_time\": \"2021-02-04T00:27:37.992916Z\", \"end_time\": \"2021-02-04T00:28:28.586264Z\", \"created_time\": \"2021-02-04T00:27:25.644264Z\", \"created_time_dt\": \"2021-02-04T00:27:25.644264Z\", \"duration\": \"0:01:02\", \"iteration\": \"11\", \"goal\": \"accuracy_max\", \"run_name\": \"SparseNormalizer, XGBoostClassifier\", \"run_properties\": \"<azureml.automl.runtime.shared.model_wrappers.SparseNormalizer object at 0x7f3ab0260390\", \"primary_metric\": 0.82615819, \"best_metric\": 0.85943503}, {\"run_id\": \"AutoML_d47dac20-ceff-4bc6-8635-4a0673dad3bc_12\", \"run_number\": 19, \"metric\": null, \"status\": \"Completed\", \"run_type\": \"azureml.scriptrun\", \"training_percent\": \"100\", \"start_time\": \"2021-02-04T00:27:39.05745Z\", \"end_time\": \"2021-02-04T00:29:03.558137Z\", \"created_time\": \"2021-02-04T00:27:25.684948Z\", \"created_time_dt\": \"2021-02-04T00:27:25.684948Z\", \"duration\": \"0:01:37\", \"iteration\": \"12\", \"goal\": \"accuracy_max\", \"run_name\": \"RobustScaler, SVM\", \"run_properties\": \"copy=True, quantile_range=[10, 90], with_centering=True,\\n             with_scaling=True\", \"primary_metric\": 0.71576271, \"best_metric\": 0.85943503}, {\"run_id\": \"AutoML_d47dac20-ceff-4bc6-8635-4a0673dad3bc_15\", \"run_number\": 20, \"metric\": null, \"status\": \"Completed\", \"run_type\": \"azureml.scriptrun\", \"training_percent\": \"100\", \"start_time\": \"2021-02-04T00:27:39.330035Z\", \"end_time\": \"2021-02-04T00:28:22.429025Z\", \"created_time\": \"2021-02-04T00:27:25.698059Z\", \"created_time_dt\": \"2021-02-04T00:27:25.698059Z\", \"duration\": \"0:00:56\", \"iteration\": \"15\", \"goal\": \"accuracy_max\", \"run_name\": \"StandardScalerWrapper, XGBoostClassifier\", \"run_properties\": \"<azureml.automl.runtime.shared.model_wrappers.StandardScalerWrapper object at 0x7f70369f0ef0\", \"primary_metric\": 0.81254237, \"best_metric\": 0.85943503}, {\"run_id\": \"AutoML_d47dac20-ceff-4bc6-8635-4a0673dad3bc_16\", \"run_number\": 21, \"metric\": null, \"status\": \"Completed\", \"run_type\": \"azureml.scriptrun\", \"training_percent\": \"100\", \"start_time\": \"2021-02-04T00:28:23.864099Z\", \"end_time\": \"2021-02-04T00:29:12.930434Z\", \"created_time\": \"2021-02-04T00:27:32.014238Z\", \"created_time_dt\": \"2021-02-04T00:27:32.014238Z\", \"duration\": \"0:01:40\", \"iteration\": \"16\", \"goal\": \"accuracy_max\", \"run_name\": \"SparseNormalizer, XGBoostClassifier\", \"run_properties\": \"<azureml.automl.runtime.shared.model_wrappers.SparseNormalizer object at 0x7f6a8b894080\", \"primary_metric\": 0.80937853, \"best_metric\": 0.85943503}, {\"run_id\": \"AutoML_d47dac20-ceff-4bc6-8635-4a0673dad3bc_17\", \"run_number\": 22, \"metric\": null, \"status\": \"Completed\", \"run_type\": \"azureml.scriptrun\", \"training_percent\": \"100\", \"start_time\": \"2021-02-04T00:28:28.529849Z\", \"end_time\": \"2021-02-04T00:29:16.589287Z\", \"created_time\": \"2021-02-04T00:27:37.451835Z\", \"created_time_dt\": \"2021-02-04T00:27:37.451835Z\", \"duration\": \"0:01:39\", \"iteration\": \"17\", \"goal\": \"accuracy_max\", \"run_name\": \"SparseNormalizer, XGBoostClassifier\", \"run_properties\": \"<azureml.automl.runtime.shared.model_wrappers.SparseNormalizer object at 0x7f2114cc2ac8\", \"primary_metric\": 0.83627119, \"best_metric\": 0.85943503}, {\"run_id\": \"AutoML_d47dac20-ceff-4bc6-8635-4a0673dad3bc_18\", \"run_number\": 23, \"metric\": null, \"status\": \"Completed\", \"run_type\": \"azureml.scriptrun\", \"training_percent\": \"100\", \"start_time\": \"2021-02-04T00:28:35.777491Z\", \"end_time\": \"2021-02-04T00:29:20.433978Z\", \"created_time\": \"2021-02-04T00:28:24.999573Z\", \"created_time_dt\": \"2021-02-04T00:28:24.999573Z\", \"duration\": \"0:00:55\", \"iteration\": \"18\", \"goal\": \"accuracy_max\", \"run_name\": \"StandardScalerWrapper, ExtremeRandomTrees\", \"run_properties\": \"<azureml.automl.runtime.shared.model_wrappers.StandardScalerWrapper object at 0x7f2b28191b70\", \"primary_metric\": 0.84288136, \"best_metric\": 0.85943503}, {\"run_id\": \"AutoML_d47dac20-ceff-4bc6-8635-4a0673dad3bc_19\", \"run_number\": 24, \"metric\": null, \"status\": \"Completed\", \"run_type\": \"azureml.scriptrun\", \"training_percent\": \"100\", \"start_time\": \"2021-02-04T00:28:40.101545Z\", \"end_time\": \"2021-02-04T00:29:25.748891Z\", \"created_time\": \"2021-02-04T00:28:29.551513Z\", \"created_time_dt\": \"2021-02-04T00:28:29.551513Z\", \"duration\": \"0:00:56\", \"iteration\": \"19\", \"goal\": \"accuracy_max\", \"run_name\": \"MinMaxScaler, LightGBM\", \"run_properties\": \"copy=True, feature_range=(0, 1\", \"primary_metric\": 0.77932203, \"best_metric\": 0.85943503}, {\"run_id\": \"AutoML_d47dac20-ceff-4bc6-8635-4a0673dad3bc_20\", \"run_number\": 25, \"metric\": null, \"status\": \"Completed\", \"run_type\": \"azureml.scriptrun\", \"training_percent\": \"100\", \"start_time\": \"2021-02-04T00:28:44.841699Z\", \"end_time\": \"2021-02-04T00:29:29.094705Z\", \"created_time\": \"2021-02-04T00:28:33.871104Z\", \"created_time_dt\": \"2021-02-04T00:28:33.871104Z\", \"duration\": \"0:00:55\", \"iteration\": \"20\", \"goal\": \"accuracy_max\", \"run_name\": \"RobustScaler, LightGBM\", \"run_properties\": \"copy=True, quantile_range=[10, 90], with_centering=False,\\n             with_scaling=False\", \"primary_metric\": 0.78282486, \"best_metric\": 0.85943503}, {\"run_id\": \"AutoML_d47dac20-ceff-4bc6-8635-4a0673dad3bc_21\", \"run_number\": 26, \"metric\": null, \"status\": \"Completed\", \"run_type\": \"azureml.scriptrun\", \"training_percent\": \"100\", \"start_time\": \"2021-02-04T00:29:05.792038Z\", \"end_time\": \"2021-02-04T00:29:55.115098Z\", \"created_time\": \"2021-02-04T00:28:34.01897Z\", \"created_time_dt\": \"2021-02-04T00:28:34.01897Z\", \"duration\": \"0:01:21\", \"iteration\": \"21\", \"goal\": \"accuracy_max\", \"run_name\": \"MaxAbsScaler, ExtremeRandomTrees\", \"run_properties\": \"copy=True\", \"primary_metric\": 0.85288136, \"best_metric\": 0.85943503}, {\"run_id\": \"AutoML_d47dac20-ceff-4bc6-8635-4a0673dad3bc_22\", \"run_number\": 27, \"metric\": null, \"status\": \"Completed\", \"run_type\": \"azureml.scriptrun\", \"training_percent\": \"100\", \"start_time\": \"2021-02-04T00:28:45.508807Z\", \"end_time\": \"2021-02-04T00:29:34.694496Z\", \"created_time\": \"2021-02-04T00:28:34.039417Z\", \"created_time_dt\": \"2021-02-04T00:28:34.039417Z\", \"duration\": \"0:01:00\", \"iteration\": \"22\", \"goal\": \"accuracy_max\", \"run_name\": \"SparseNormalizer, XGBoostClassifier\", \"run_properties\": \"<azureml.automl.runtime.shared.model_wrappers.SparseNormalizer object at 0x7fc390330e48\", \"primary_metric\": 0.81949153, \"best_metric\": 0.85943503}, {\"run_id\": \"AutoML_d47dac20-ceff-4bc6-8635-4a0673dad3bc_23\", \"run_number\": 28, \"metric\": null, \"status\": \"Completed\", \"run_type\": \"azureml.scriptrun\", \"training_percent\": \"100\", \"start_time\": \"2021-02-04T00:29:04.83821Z\", \"end_time\": \"2021-02-04T00:29:58.754195Z\", \"created_time\": \"2021-02-04T00:28:38.433616Z\", \"created_time_dt\": \"2021-02-04T00:28:38.433616Z\", \"duration\": \"0:01:20\", \"iteration\": \"23\", \"goal\": \"accuracy_max\", \"run_name\": \"SparseNormalizer, XGBoostClassifier\", \"run_properties\": \"<azureml.automl.runtime.shared.model_wrappers.SparseNormalizer object at 0x7f37d01e7978\", \"primary_metric\": 0.82621469, \"best_metric\": 0.85943503}, {\"run_id\": \"AutoML_d47dac20-ceff-4bc6-8635-4a0673dad3bc_24\", \"run_number\": 29, \"metric\": null, \"status\": \"Completed\", \"run_type\": \"azureml.scriptrun\", \"training_percent\": \"100\", \"start_time\": \"2021-02-04T00:29:19.357126Z\", \"end_time\": \"2021-02-04T00:30:06.567072Z\", \"created_time\": \"2021-02-04T00:29:04.700346Z\", \"created_time_dt\": \"2021-02-04T00:29:04.700346Z\", \"duration\": \"0:01:01\", \"iteration\": \"24\", \"goal\": \"accuracy_max\", \"run_name\": \"StandardScalerWrapper, LightGBM\", \"run_properties\": \"<azureml.automl.runtime.shared.model_wrappers.StandardScalerWrapper object at 0x7f1876dd7320\", \"primary_metric\": 0.7859887, \"best_metric\": 0.85943503}, {\"run_id\": \"AutoML_d47dac20-ceff-4bc6-8635-4a0673dad3bc_25\", \"run_number\": 30, \"metric\": null, \"status\": \"Completed\", \"run_type\": \"azureml.scriptrun\", \"training_percent\": \"100\", \"start_time\": \"2021-02-04T00:29:22.381425Z\", \"end_time\": \"2021-02-04T00:30:16.785538Z\", \"created_time\": \"2021-02-04T00:29:10.626796Z\", \"created_time_dt\": \"2021-02-04T00:29:10.626796Z\", \"duration\": \"0:01:06\", \"iteration\": \"25\", \"goal\": \"accuracy_max\", \"run_name\": \"MinMaxScaler, RandomForest\", \"run_properties\": \"copy=True, feature_range=(0, 1\", \"primary_metric\": 0.77581921, \"best_metric\": 0.85943503}, {\"run_id\": \"AutoML_d47dac20-ceff-4bc6-8635-4a0673dad3bc_26\", \"run_number\": 31, \"metric\": null, \"status\": \"Completed\", \"run_type\": \"azureml.scriptrun\", \"training_percent\": \"100\", \"start_time\": \"2021-02-04T00:29:27.809483Z\", \"end_time\": \"2021-02-04T00:30:20.388496Z\", \"created_time\": \"2021-02-04T00:29:15.130169Z\", \"created_time_dt\": \"2021-02-04T00:29:15.130169Z\", \"duration\": \"0:01:05\", \"iteration\": \"26\", \"goal\": \"accuracy_max\", \"run_name\": \"SparseNormalizer, XGBoostClassifier\", \"run_properties\": \"<azureml.automl.runtime.shared.model_wrappers.SparseNormalizer object at 0x7f97fa798358\", \"primary_metric\": 0.85288136, \"best_metric\": 0.85943503}, {\"run_id\": \"AutoML_d47dac20-ceff-4bc6-8635-4a0673dad3bc_27\", \"run_number\": 32, \"metric\": null, \"status\": \"Completed\", \"run_type\": \"azureml.scriptrun\", \"training_percent\": \"100\", \"start_time\": \"2021-02-04T00:29:31.588664Z\", \"end_time\": \"2021-02-04T00:30:19.511456Z\", \"created_time\": \"2021-02-04T00:29:19.412394Z\", \"created_time_dt\": \"2021-02-04T00:29:19.412394Z\", \"duration\": \"0:01:00\", \"iteration\": \"27\", \"goal\": \"accuracy_max\", \"run_name\": \"StandardScalerWrapper, LightGBM\", \"run_properties\": \"<azureml.automl.runtime.shared.model_wrappers.StandardScalerWrapper object at 0x7f3a6abfbb00\", \"primary_metric\": 0.77259887, \"best_metric\": 0.85943503}, {\"run_id\": \"AutoML_d47dac20-ceff-4bc6-8635-4a0673dad3bc_28\", \"run_number\": 33, \"metric\": null, \"status\": \"Completed\", \"run_type\": \"azureml.scriptrun\", \"training_percent\": \"100\", \"start_time\": \"2021-02-04T00:29:37.633584Z\", \"end_time\": \"2021-02-04T00:30:24.772273Z\", \"created_time\": \"2021-02-04T00:29:24.498232Z\", \"created_time_dt\": \"2021-02-04T00:29:24.498232Z\", \"duration\": \"0:01:00\", \"iteration\": \"28\", \"goal\": \"accuracy_max\", \"run_name\": \"StandardScalerWrapper, XGBoostClassifier\", \"run_properties\": \"<azureml.automl.runtime.shared.model_wrappers.StandardScalerWrapper object at 0x7f5154172898\", \"primary_metric\": 0.84265537, \"best_metric\": 0.85943503}, {\"run_id\": \"AutoML_d47dac20-ceff-4bc6-8635-4a0673dad3bc_29\", \"run_number\": 34, \"metric\": null, \"status\": \"Completed\", \"run_type\": \"azureml.scriptrun\", \"training_percent\": \"100\", \"start_time\": \"2021-02-04T00:29:40.185754Z\", \"end_time\": \"2021-02-04T00:30:24.799908Z\", \"created_time\": \"2021-02-04T00:29:29.511487Z\", \"created_time_dt\": \"2021-02-04T00:29:29.511487Z\", \"duration\": \"0:00:55\", \"iteration\": \"29\", \"goal\": \"accuracy_max\", \"run_name\": \"StandardScalerWrapper, LightGBM\", \"run_properties\": \"<azureml.automl.runtime.shared.model_wrappers.StandardScalerWrapper object at 0x7f757c9ffbe0\", \"primary_metric\": 0.83259887, \"best_metric\": 0.85943503}, {\"run_id\": \"AutoML_d47dac20-ceff-4bc6-8635-4a0673dad3bc_30\", \"run_number\": 35, \"metric\": null, \"status\": \"Completed\", \"run_type\": \"azureml.scriptrun\", \"training_percent\": \"100\", \"start_time\": \"2021-02-04T00:30:00.857524Z\", \"end_time\": \"2021-02-04T00:30:53.713522Z\", \"created_time\": \"2021-02-04T00:29:34.87893Z\", \"created_time_dt\": \"2021-02-04T00:29:34.87893Z\", \"duration\": \"0:01:18\", \"iteration\": \"30\", \"goal\": \"accuracy_max\", \"run_name\": \"StandardScalerWrapper, RandomForest\", \"run_properties\": \"<azureml.automl.runtime.shared.model_wrappers.StandardScalerWrapper object at 0x7f83be2c7860\", \"primary_metric\": 0.48423729, \"best_metric\": 0.85943503}, {\"run_id\": \"AutoML_d47dac20-ceff-4bc6-8635-4a0673dad3bc_31\", \"run_number\": 36, \"metric\": null, \"status\": \"Completed\", \"run_type\": \"azureml.scriptrun\", \"training_percent\": \"100\", \"start_time\": \"2021-02-04T00:30:00.081145Z\", \"end_time\": \"2021-02-04T00:30:57.424038Z\", \"created_time\": \"2021-02-04T00:29:40.605367Z\", \"created_time_dt\": \"2021-02-04T00:29:40.605367Z\", \"duration\": \"0:01:16\", \"iteration\": \"31\", \"goal\": \"accuracy_max\", \"run_name\": \"StandardScalerWrapper, ExtremeRandomTrees\", \"run_properties\": \"<azureml.automl.runtime.shared.model_wrappers.StandardScalerWrapper object at 0x7f28b3492dd8\", \"primary_metric\": 0.83288136, \"best_metric\": 0.85943503}, {\"run_id\": \"AutoML_d47dac20-ceff-4bc6-8635-4a0673dad3bc_32\", \"run_number\": 37, \"metric\": null, \"status\": \"Completed\", \"run_type\": \"azureml.scriptrun\", \"training_percent\": \"100\", \"start_time\": \"2021-02-04T00:30:11.042918Z\", \"end_time\": \"2021-02-04T00:30:59.868397Z\", \"created_time\": \"2021-02-04T00:29:57.796595Z\", \"created_time_dt\": \"2021-02-04T00:29:57.796595Z\", \"duration\": \"0:01:02\", \"iteration\": \"32\", \"goal\": \"accuracy_max\", \"run_name\": \"MinMaxScaler, LightGBM\", \"run_properties\": \"copy=True, feature_range=(0, 1\", \"primary_metric\": 0.81615819, \"best_metric\": 0.85943503}, {\"run_id\": \"AutoML_d47dac20-ceff-4bc6-8635-4a0673dad3bc_33\", \"run_number\": 38, \"metric\": null, \"status\": \"Completed\", \"run_type\": \"azureml.scriptrun\", \"training_percent\": \"100\", \"start_time\": \"2021-02-04T00:30:20.255421Z\", \"end_time\": \"2021-02-04T00:31:11.041633Z\", \"created_time\": \"2021-02-04T00:30:02.043011Z\", \"created_time_dt\": \"2021-02-04T00:30:02.043011Z\", \"duration\": \"0:01:08\", \"iteration\": \"33\", \"goal\": \"accuracy_max\", \"run_name\": \"MinMaxScaler, LightGBM\", \"run_properties\": \"copy=True, feature_range=(0, 1\", \"primary_metric\": 0.83610169, \"best_metric\": 0.85943503}, {\"run_id\": \"AutoML_d47dac20-ceff-4bc6-8635-4a0673dad3bc_34\", \"run_number\": 39, \"metric\": null, \"status\": \"Completed\", \"run_type\": \"azureml.scriptrun\", \"training_percent\": \"100\", \"start_time\": \"2021-02-04T00:30:23.732897Z\", \"end_time\": \"2021-02-04T00:31:17.795586Z\", \"created_time\": \"2021-02-04T00:30:09.004118Z\", \"created_time_dt\": \"2021-02-04T00:30:09.004118Z\", \"duration\": \"0:01:08\", \"iteration\": \"34\", \"goal\": \"accuracy_max\", \"run_name\": \"MinMaxScaler, RandomForest\", \"run_properties\": \"copy=True, feature_range=(0, 1\", \"primary_metric\": 0.83610169, \"best_metric\": 0.85943503}, {\"run_id\": \"AutoML_d47dac20-ceff-4bc6-8635-4a0673dad3bc_35\", \"run_number\": 40, \"metric\": null, \"status\": \"Completed\", \"run_type\": \"azureml.scriptrun\", \"training_percent\": \"100\", \"start_time\": \"2021-02-04T00:30:33.035025Z\", \"end_time\": \"2021-02-04T00:31:24.939582Z\", \"created_time\": \"2021-02-04T00:30:20.250095Z\", \"created_time_dt\": \"2021-02-04T00:30:20.250095Z\", \"duration\": \"0:01:04\", \"iteration\": \"35\", \"goal\": \"accuracy_max\", \"run_name\": \"StandardScalerWrapper, RandomForest\", \"run_properties\": \"<azureml.automl.runtime.shared.model_wrappers.StandardScalerWrapper object at 0x7f56b947ac18\", \"primary_metric\": 0.67909605, \"best_metric\": 0.85943503}, {\"run_id\": \"AutoML_d47dac20-ceff-4bc6-8635-4a0673dad3bc_36\", \"run_number\": 41, \"metric\": null, \"status\": \"Completed\", \"run_type\": \"azureml.scriptrun\", \"training_percent\": \"100\", \"start_time\": \"2021-02-04T00:30:36.616448Z\", \"end_time\": \"2021-02-04T00:31:43.637183Z\", \"created_time\": \"2021-02-04T00:30:25.28319Z\", \"created_time_dt\": \"2021-02-04T00:30:25.28319Z\", \"duration\": \"0:01:18\", \"iteration\": \"36\", \"goal\": \"accuracy_max\", \"run_name\": \"SparseNormalizer, LightGBM\", \"run_properties\": \"<azureml.automl.runtime.shared.model_wrappers.SparseNormalizer object at 0x7f208b740ba8\", \"primary_metric\": 0.85621469, \"best_metric\": 0.85943503}, {\"run_id\": \"AutoML_d47dac20-ceff-4bc6-8635-4a0673dad3bc_37\", \"run_number\": 42, \"metric\": null, \"status\": \"Completed\", \"run_type\": \"azureml.scriptrun\", \"training_percent\": \"100\", \"start_time\": \"2021-02-04T00:30:37.668763Z\", \"end_time\": \"2021-02-04T00:31:26.626504Z\", \"created_time\": \"2021-02-04T00:30:25.400645Z\", \"created_time_dt\": \"2021-02-04T00:30:25.400645Z\", \"duration\": \"0:01:01\", \"iteration\": \"37\", \"goal\": \"accuracy_max\", \"run_name\": \"MaxAbsScaler, LightGBM\", \"run_properties\": \"copy=True\", \"primary_metric\": 0.82932203, \"best_metric\": 0.85943503}, {\"run_id\": \"AutoML_d47dac20-ceff-4bc6-8635-4a0673dad3bc_38\", \"run_number\": 43, \"metric\": null, \"status\": \"Completed\", \"run_type\": \"azureml.scriptrun\", \"training_percent\": \"100\", \"start_time\": \"2021-02-04T00:30:58.262589Z\", \"end_time\": \"2021-02-04T00:31:49.01474Z\", \"created_time\": \"2021-02-04T00:30:29.862012Z\", \"created_time_dt\": \"2021-02-04T00:30:29.862012Z\", \"duration\": \"0:01:19\", \"iteration\": \"38\", \"goal\": \"accuracy_max\", \"run_name\": \"SparseNormalizer, LightGBM\", \"run_properties\": \"<azureml.automl.runtime.shared.model_wrappers.SparseNormalizer object at 0x7fdd74028470\", \"primary_metric\": 0.80610169, \"best_metric\": 0.85943503}, {\"run_id\": \"AutoML_d47dac20-ceff-4bc6-8635-4a0673dad3bc_39\", \"run_number\": 44, \"metric\": null, \"status\": \"Completed\", \"run_type\": \"azureml.scriptrun\", \"training_percent\": \"100\", \"start_time\": \"2021-02-04T00:31:01.462216Z\", \"end_time\": \"2021-02-04T00:31:49.80636Z\", \"created_time\": \"2021-02-04T00:30:29.992863Z\", \"created_time_dt\": \"2021-02-04T00:30:29.992863Z\", \"duration\": \"0:01:19\", \"iteration\": \"39\", \"goal\": \"accuracy_max\", \"run_name\": \"SparseNormalizer, XGBoostClassifier\", \"run_properties\": \"<azureml.automl.runtime.shared.model_wrappers.SparseNormalizer object at 0x7f29528bb828\", \"primary_metric\": 0.84960452, \"best_metric\": 0.85943503}, {\"run_id\": \"AutoML_d47dac20-ceff-4bc6-8635-4a0673dad3bc_40\", \"run_number\": 45, \"metric\": null, \"status\": \"Canceled\", \"run_type\": \"azureml.scriptrun\", \"training_percent\": \"100\", \"start_time\": \"2021-02-04T00:31:12.153409Z\", \"end_time\": \"2021-02-04T00:31:58.194873Z\", \"created_time\": \"2021-02-04T00:30:57.082302Z\", \"created_time_dt\": \"2021-02-04T00:30:57.082302Z\", \"duration\": \"0:01:01\", \"iteration\": \"40\", \"goal\": \"accuracy_max\", \"run_name\": \"SparseNormalizer, RandomForest\", \"run_properties\": \"<azureml.automl.runtime.shared.model_wrappers.SparseNormalizer object at 0x7f99f6da74e0\", \"primary_metric\": 0.79282486, \"best_metric\": 0.85943503}, {\"run_id\": \"AutoML_d47dac20-ceff-4bc6-8635-4a0673dad3bc_41\", \"run_number\": 46, \"metric\": null, \"status\": \"Canceled\", \"run_type\": \"azureml.scriptrun\", \"training_percent\": \"100\", \"start_time\": \"2021-02-04T00:31:16.432181Z\", \"end_time\": \"2021-02-04T00:31:57.321368Z\", \"created_time\": \"2021-02-04T00:31:03.513257Z\", \"created_time_dt\": \"2021-02-04T00:31:03.513257Z\", \"duration\": \"0:00:53\", \"iteration\": \"41\", \"goal\": \"accuracy_max\", \"run_name\": \"StandardScalerWrapper, LightGBM\", \"run_properties\": \"<azureml.automl.runtime.shared.model_wrappers.StandardScalerWrapper object at 0x7fdc11c17390\", \"primary_metric\": 0.8360452, \"best_metric\": 0.85943503}, {\"run_id\": \"AutoML_d47dac20-ceff-4bc6-8635-4a0673dad3bc_42\", \"run_number\": 47, \"metric\": null, \"status\": \"Canceled\", \"run_type\": \"azureml.scriptrun\", \"training_percent\": \"100\", \"start_time\": \"2021-02-04T00:31:22.333296Z\", \"end_time\": \"2021-02-04T00:31:58.001271Z\", \"created_time\": \"2021-02-04T00:31:03.624789Z\", \"created_time_dt\": \"2021-02-04T00:31:03.624789Z\", \"duration\": \"0:00:54\", \"iteration\": \"42\", \"goal\": \"accuracy_max\", \"run_name\": \"StandardScalerWrapper, LightGBM\", \"run_properties\": \"<azureml.automl.runtime.shared.model_wrappers.StandardScalerWrapper object at 0x7f6d40a90438\", \"primary_metric\": 0.8359887, \"best_metric\": 0.85943503}, {\"run_id\": \"AutoML_d47dac20-ceff-4bc6-8635-4a0673dad3bc_43\", \"run_number\": 48, \"metric\": null, \"status\": \"Canceled\", \"run_type\": \"azureml.scriptrun\", \"training_percent\": \"100\", \"start_time\": \"2021-02-04T00:31:29.94289Z\", \"end_time\": \"2021-02-04T00:31:56.860094Z\", \"created_time\": \"2021-02-04T00:31:13.376722Z\", \"created_time_dt\": \"2021-02-04T00:31:13.376722Z\", \"duration\": \"0:00:43\", \"iteration\": \"43\", \"goal\": null, \"run_name\": \"SparseNormalizer, XGBoostClassifier\", \"run_properties\": null}, {\"run_id\": \"AutoML_d47dac20-ceff-4bc6-8635-4a0673dad3bc_44\", \"run_number\": 49, \"metric\": null, \"status\": \"Canceled\", \"run_type\": \"azureml.scriptrun\", \"training_percent\": \"100\", \"start_time\": \"2021-02-04T00:31:31.639856Z\", \"end_time\": \"2021-02-04T00:31:58.243706Z\", \"created_time\": \"2021-02-04T00:31:20.092482Z\", \"created_time_dt\": \"2021-02-04T00:31:20.092482Z\", \"duration\": \"0:00:38\", \"iteration\": \"44\", \"goal\": \"accuracy_max\", \"run_name\": \"MaxAbsScaler, LightGBM\", \"run_properties\": \"copy=True\", \"primary_metric\": 0.84271186, \"best_metric\": 0.85943503}, {\"run_id\": \"AutoML_d47dac20-ceff-4bc6-8635-4a0673dad3bc_45\", \"run_number\": 50, \"metric\": null, \"status\": \"Canceled\", \"run_type\": \"azureml.scriptrun\", \"training_percent\": \"100\", \"start_time\": \"2021-02-04T00:31:47.423133Z\", \"end_time\": \"2021-02-04T00:31:58.25428Z\", \"created_time\": \"2021-02-04T00:31:28.295836Z\", \"created_time_dt\": \"2021-02-04T00:31:28.295836Z\", \"duration\": \"0:00:29\", \"iteration\": \"45\", \"goal\": null, \"run_name\": \"Canceled\", \"run_properties\": null}, {\"run_id\": \"AutoML_d47dac20-ceff-4bc6-8635-4a0673dad3bc_46\", \"run_number\": 51, \"metric\": null, \"status\": \"Canceled\", \"run_type\": \"azureml.scriptrun\", \"training_percent\": \"100\", \"start_time\": \"2021-02-04T00:31:33.113838Z\", \"end_time\": \"2021-02-04T00:31:56.95026Z\", \"created_time\": \"2021-02-04T00:31:33.113838Z\", \"created_time_dt\": \"2021-02-04T00:31:33.113838Z\", \"duration\": \"0:00:23\", \"iteration\": \"46\", \"goal\": null, \"run_name\": \"Canceled\", \"run_properties\": null}, {\"run_id\": \"AutoML_d47dac20-ceff-4bc6-8635-4a0673dad3bc_47\", \"run_number\": 52, \"metric\": null, \"status\": \"Canceled\", \"run_type\": \"azureml.scriptrun\", \"training_percent\": \"100\", \"start_time\": \"2021-02-04T00:31:46.34311Z\", \"end_time\": \"2021-02-04T00:32:04.075191Z\", \"created_time\": \"2021-02-04T00:31:46.34311Z\", \"created_time_dt\": \"2021-02-04T00:31:46.34311Z\", \"duration\": \"0:00:17\", \"iteration\": \"47\", \"goal\": null, \"run_name\": \"Canceled\", \"run_properties\": null}, {\"run_id\": \"AutoML_d47dac20-ceff-4bc6-8635-4a0673dad3bc_48\", \"run_number\": 53, \"metric\": null, \"status\": \"Completed\", \"run_type\": \"azureml.scriptrun\", \"training_percent\": \"100\", \"start_time\": \"2021-02-04T00:32:19.03594Z\", \"end_time\": \"2021-02-04T00:34:01.73498Z\", \"created_time\": \"2021-02-04T00:32:05.847771Z\", \"created_time_dt\": \"2021-02-04T00:32:05.847771Z\", \"duration\": \"0:01:55\", \"iteration\": \"48\", \"goal\": \"accuracy_max\", \"run_name\": \"VotingEnsemble\", \"run_properties\": \"classification_labels=None,\\n                              estimators=[('3',\\n                                           Pipeline(memory=None,\\n                                                    steps=[('minmaxscaler',\\n                                                            MinMaxScaler(copy=True,\\n                                                                         feature_range=(0,\\n                                                                                        1\", \"primary_metric\": 0.88299435, \"best_metric\": 0.88299435}, {\"run_id\": \"AutoML_d47dac20-ceff-4bc6-8635-4a0673dad3bc_49\", \"run_number\": 54, \"metric\": null, \"status\": \"Completed\", \"run_type\": \"azureml.scriptrun\", \"training_percent\": \"100\", \"start_time\": \"2021-02-04T00:32:18.773782Z\", \"end_time\": \"2021-02-04T00:33:58.415793Z\", \"created_time\": \"2021-02-04T00:32:05.992325Z\", \"created_time_dt\": \"2021-02-04T00:32:05.992325Z\", \"duration\": \"0:01:52\", \"iteration\": \"49\", \"goal\": \"accuracy_max\", \"run_name\": \"StackEnsemble\", \"run_properties\": \"base_learners=[('3',\\n                                        Pipeline(memory=None,\\n                                                 steps=[('minmaxscaler',\\n                                                         MinMaxScaler(copy=True,\\n                                                                      feature_range=(0,\\n                                                                                     1\", \"primary_metric\": 0.86966102, \"best_metric\": 0.88299435}], \"children_metrics\": {\"categories\": [0], \"series\": {\"recall_score_macro\": [{\"categories\": [\"0\", \"1\", \"2\", \"3\", \"4\", \"5\", \"6\", \"7\", \"8\", \"9\", \"10\", \"11\", \"12\", \"13\", \"14\", \"15\", \"16\", \"17\", \"18\", \"19\", \"20\", \"21\", \"22\", \"23\", \"24\", \"25\", \"26\", \"27\", \"28\", \"29\", \"30\", \"31\", \"32\", \"33\", \"34\", \"35\", \"36\", \"37\", \"38\", \"39\", \"40\", \"41\", \"42\", \"44\", \"48\", \"49\"], \"mode\": \"markers\", \"name\": \"recall_score_macro\", \"stepped\": false, \"type\": \"scatter\", \"data\": [0.7760209025470652, 0.8060125968992248, 0.7964590254706534, 0.8166244462901441, 0.830076827242525, 0.5610631229235881, 0.7267261904761905, 0.7885548172757475, 0.8068500830564785, 0.8039334163898116, 0.7152214839424141, 0.7896387043189369, 0.6544179125138426, 0.8268369324473974, 0.6218327796234773, 0.7740566168327796, 0.7602512458471761, 0.7971940753045403, 0.7913988095238096, 0.7086184939091915, 0.6851785714285714, 0.8143708471760795, 0.7711863233665559, 0.7768410852713179, 0.7176065891472868, 0.7591036821705426, 0.8239202657807307, 0.6772577519379844, 0.8189929401993356, 0.8031000830564784, 0.5025000000000001, 0.7932994186046513, 0.7494601328903654, 0.8108464839424141, 0.7988226744186047, 0.5, 0.8235035991140641, 0.802266749723145, 0.7532101328903655, 0.8112458471760797, 0.708452380952381, 0.791501245847176, 0.8158381782945737, 0.8191756644518271, 0.8531547619047618, 0.8414285714285714]}, {\"categories\": [\"0\", \"1\", \"2\", \"3\", \"4\", \"5\", \"6\", \"7\", \"8\", \"9\", \"10\", \"11\", \"12\", \"13\", \"14\", \"15\", \"16\", \"17\", \"18\", \"19\", \"20\", \"21\", \"22\", \"23\", \"24\", \"25\", \"26\", \"27\", \"28\", \"29\", \"30\", \"31\", \"32\", \"33\", \"34\", \"35\", \"36\", \"37\", \"38\", \"39\", \"40\", \"41\", \"42\", \"44\", \"48\", \"49\"], \"mode\": \"lines\", \"name\": \"recall_score_macro_max\", \"stepped\": true, \"type\": \"scatter\", \"data\": [0.7760209025470652, 0.8060125968992248, 0.8060125968992248, 0.8166244462901441, 0.830076827242525, 0.830076827242525, 0.830076827242525, 0.830076827242525, 0.830076827242525, 0.830076827242525, 0.830076827242525, 0.830076827242525, 0.830076827242525, 0.830076827242525, 0.830076827242525, 0.830076827242525, 0.830076827242525, 0.830076827242525, 0.830076827242525, 0.830076827242525, 0.830076827242525, 0.830076827242525, 0.830076827242525, 0.830076827242525, 0.830076827242525, 0.830076827242525, 0.830076827242525, 0.830076827242525, 0.830076827242525, 0.830076827242525, 0.830076827242525, 0.830076827242525, 0.830076827242525, 0.830076827242525, 0.830076827242525, 0.830076827242525, 0.830076827242525, 0.830076827242525, 0.830076827242525, 0.830076827242525, 0.830076827242525, 0.830076827242525, 0.830076827242525, 0.830076827242525, 0.8531547619047618, 0.8531547619047618]}], \"f1_score_micro\": [{\"categories\": [\"0\", \"1\", \"2\", \"3\", \"4\", \"5\", \"6\", \"7\", \"8\", \"9\", \"10\", \"11\", \"12\", \"13\", \"14\", \"15\", \"16\", \"17\", \"18\", \"19\", \"20\", \"21\", \"22\", \"23\", \"24\", \"25\", \"26\", \"27\", \"28\", \"29\", \"30\", \"31\", \"32\", \"33\", \"34\", \"35\", \"36\", \"37\", \"38\", \"39\", \"40\", \"41\", \"42\", \"44\", \"48\", \"49\"], \"mode\": \"markers\", \"name\": \"f1_score_micro\", \"stepped\": false, \"type\": \"scatter\", \"data\": [0.8059887005649718, 0.8259322033898304, 0.8225988700564972, 0.8594350282485875, 0.8461581920903953, 0.7090960451977402, 0.8028248587570623, 0.8160451977401131, 0.8326553672316385, 0.8259322033898305, 0.7792090395480227, 0.8261581920903955, 0.7157627118644069, 0.846271186440678, 0.7124293785310734, 0.812542372881356, 0.8093785310734465, 0.836271186440678, 0.8428813559322034, 0.7793220338983051, 0.7828248587570622, 0.8528813559322034, 0.8194915254237287, 0.8262146892655368, 0.7859887005649718, 0.7758192090395479, 0.8528813559322034, 0.7725988700564972, 0.8426553672316384, 0.8325988700564972, 0.4842372881355933, 0.8328813559322035, 0.8161581920903955, 0.8361016949152542, 0.8361016949152542, 0.67909604519774, 0.8562146892655367, 0.8293220338983052, 0.8061016949152542, 0.8496045197740113, 0.7928248587570622, 0.836045197740113, 0.8359887005649718, 0.8427118644067797, 0.882994350282486, 0.8696610169491524]}, {\"categories\": [\"0\", \"1\", \"2\", \"3\", \"4\", \"5\", \"6\", \"7\", \"8\", \"9\", \"10\", \"11\", \"12\", \"13\", \"14\", \"15\", \"16\", \"17\", \"18\", \"19\", \"20\", \"21\", \"22\", \"23\", \"24\", \"25\", \"26\", \"27\", \"28\", \"29\", \"30\", \"31\", \"32\", \"33\", \"34\", \"35\", \"36\", \"37\", \"38\", \"39\", \"40\", \"41\", \"42\", \"44\", \"48\", \"49\"], \"mode\": \"lines\", \"name\": \"f1_score_micro_max\", \"stepped\": true, \"type\": \"scatter\", \"data\": [0.8059887005649718, 0.8259322033898304, 0.8259322033898304, 0.8594350282485875, 0.8594350282485875, 0.8594350282485875, 0.8594350282485875, 0.8594350282485875, 0.8594350282485875, 0.8594350282485875, 0.8594350282485875, 0.8594350282485875, 0.8594350282485875, 0.8594350282485875, 0.8594350282485875, 0.8594350282485875, 0.8594350282485875, 0.8594350282485875, 0.8594350282485875, 0.8594350282485875, 0.8594350282485875, 0.8594350282485875, 0.8594350282485875, 0.8594350282485875, 0.8594350282485875, 0.8594350282485875, 0.8594350282485875, 0.8594350282485875, 0.8594350282485875, 0.8594350282485875, 0.8594350282485875, 0.8594350282485875, 0.8594350282485875, 0.8594350282485875, 0.8594350282485875, 0.8594350282485875, 0.8594350282485875, 0.8594350282485875, 0.8594350282485875, 0.8594350282485875, 0.8594350282485875, 0.8594350282485875, 0.8594350282485875, 0.8594350282485875, 0.882994350282486, 0.882994350282486]}], \"average_precision_score_macro\": [{\"categories\": [\"0\", \"1\", \"2\", \"3\", \"4\", \"5\", \"6\", \"7\", \"8\", \"9\", \"10\", \"11\", \"12\", \"13\", \"14\", \"15\", \"16\", \"17\", \"18\", \"19\", \"20\", \"21\", \"22\", \"23\", \"24\", \"25\", \"26\", \"27\", \"28\", \"29\", \"30\", \"31\", \"32\", \"33\", \"34\", \"35\", \"36\", \"37\", \"38\", \"39\", \"40\", \"41\", \"42\", \"44\", \"48\", \"49\"], \"mode\": \"markers\", \"name\": \"average_precision_score_macro\", \"stepped\": false, \"type\": \"scatter\", \"data\": [0.8655792376041671, 0.8826936933050062, 0.8834643063481409, 0.9001029162099925, 0.9018010341721288, 0.7734076693514114, 0.8871523590627642, 0.8517807213547188, 0.8974477416470433, 0.8885246825255069, 0.8503468456359261, 0.873840304380457, 0.7536438636414362, 0.8817569707809666, 0.7184634262666745, 0.880677094714196, 0.8329476717741734, 0.8827732062499305, 0.8798652961060025, 0.8715286081654134, 0.8784589484531675, 0.8936309886603364, 0.8681415908355511, 0.8493808315323733, 0.8789888811005675, 0.8759539021175253, 0.8823706200416614, 0.857781803470081, 0.8825989994178831, 0.8954365403423559, 0.4982014574078404, 0.8850951687178213, 0.8878516927812372, 0.893099655069775, 0.891499792947801, 0.7881794386581445, 0.874415036120616, 0.8875713082219413, 0.8701390957908991, 0.8802531433544377, 0.8418025360567825, 0.875785154133357, 0.8845386911147678, 0.8983693646685253, 0.9038740695599777, 0.9035259041552155]}, {\"categories\": [\"0\", \"1\", \"2\", \"3\", \"4\", \"5\", \"6\", \"7\", \"8\", \"9\", \"10\", \"11\", \"12\", \"13\", \"14\", \"15\", \"16\", \"17\", \"18\", \"19\", \"20\", \"21\", \"22\", \"23\", \"24\", \"25\", \"26\", \"27\", \"28\", \"29\", \"30\", \"31\", \"32\", \"33\", \"34\", \"35\", \"36\", \"37\", \"38\", \"39\", \"40\", \"41\", \"42\", \"44\", \"48\", \"49\"], \"mode\": \"lines\", \"name\": \"average_precision_score_macro_max\", \"stepped\": true, \"type\": \"scatter\", \"data\": [0.8655792376041671, 0.8826936933050062, 0.8834643063481409, 0.9001029162099925, 0.9018010341721288, 0.9018010341721288, 0.9018010341721288, 0.9018010341721288, 0.9018010341721288, 0.9018010341721288, 0.9018010341721288, 0.9018010341721288, 0.9018010341721288, 0.9018010341721288, 0.9018010341721288, 0.9018010341721288, 0.9018010341721288, 0.9018010341721288, 0.9018010341721288, 0.9018010341721288, 0.9018010341721288, 0.9018010341721288, 0.9018010341721288, 0.9018010341721288, 0.9018010341721288, 0.9018010341721288, 0.9018010341721288, 0.9018010341721288, 0.9018010341721288, 0.9018010341721288, 0.9018010341721288, 0.9018010341721288, 0.9018010341721288, 0.9018010341721288, 0.9018010341721288, 0.9018010341721288, 0.9018010341721288, 0.9018010341721288, 0.9018010341721288, 0.9018010341721288, 0.9018010341721288, 0.9018010341721288, 0.9018010341721288, 0.9018010341721288, 0.9038740695599777, 0.9038740695599777]}], \"precision_score_weighted\": [{\"categories\": [\"0\", \"1\", \"2\", \"3\", \"4\", \"5\", \"6\", \"7\", \"8\", \"9\", \"10\", \"11\", \"12\", \"13\", \"14\", \"15\", \"16\", \"17\", \"18\", \"19\", \"20\", \"21\", \"22\", \"23\", \"24\", \"25\", \"26\", \"27\", \"28\", \"29\", \"30\", \"31\", \"32\", \"33\", \"34\", \"35\", \"36\", \"37\", \"38\", \"39\", \"40\", \"41\", \"42\", \"44\", \"48\", \"49\"], \"mode\": \"markers\", \"name\": \"precision_score_weighted\", \"stepped\": false, \"type\": \"scatter\", \"data\": [0.8237683758533973, 0.8403871377947292, 0.8337809036810118, 0.8655235952275506, 0.8597942043753619, 0.7609485174424115, 0.8337424083773606, 0.8407374045536857, 0.8464049899492803, 0.84276090587284, 0.791822967976728, 0.852412546738455, 0.730790571681531, 0.8646464804683163, 0.7188372911220925, 0.8213189368319103, 0.8196810460480322, 0.8522035627944705, 0.8603113969588323, 0.8032981762305621, 0.8195201764128317, 0.8648376304363777, 0.8387098774887232, 0.8345226856846685, 0.8100283809506728, 0.8031424371267537, 0.8669376420100641, 0.8071174089580326, 0.8540402263338889, 0.844985943552753, 0.33534333775643754, 0.8461067687055159, 0.8351820421085817, 0.8515111257296615, 0.8450706956634155, 0.4689005075169971, 0.8689659949912384, 0.8439891606523883, 0.8293711761369502, 0.8634172995690739, 0.8321451732270548, 0.8461817675487536, 0.8508375281506414, 0.8565319710477372, 0.8993850125842966, 0.8912502560594529]}, {\"categories\": [\"0\", \"1\", \"2\", \"3\", \"4\", \"5\", \"6\", \"7\", \"8\", \"9\", \"10\", \"11\", \"12\", \"13\", \"14\", \"15\", \"16\", \"17\", \"18\", \"19\", \"20\", \"21\", \"22\", \"23\", \"24\", \"25\", \"26\", \"27\", \"28\", \"29\", \"30\", \"31\", \"32\", \"33\", \"34\", \"35\", \"36\", \"37\", \"38\", \"39\", \"40\", \"41\", \"42\", \"44\", \"48\", \"49\"], \"mode\": \"lines\", \"name\": \"precision_score_weighted_max\", \"stepped\": true, \"type\": \"scatter\", \"data\": [0.8237683758533973, 0.8403871377947292, 0.8403871377947292, 0.8655235952275506, 0.8655235952275506, 0.8655235952275506, 0.8655235952275506, 0.8655235952275506, 0.8655235952275506, 0.8655235952275506, 0.8655235952275506, 0.8655235952275506, 0.8655235952275506, 0.8655235952275506, 0.8655235952275506, 0.8655235952275506, 0.8655235952275506, 0.8655235952275506, 0.8655235952275506, 0.8655235952275506, 0.8655235952275506, 0.8655235952275506, 0.8655235952275506, 0.8655235952275506, 0.8655235952275506, 0.8655235952275506, 0.8669376420100641, 0.8669376420100641, 0.8669376420100641, 0.8669376420100641, 0.8669376420100641, 0.8669376420100641, 0.8669376420100641, 0.8669376420100641, 0.8669376420100641, 0.8669376420100641, 0.8689659949912384, 0.8689659949912384, 0.8689659949912384, 0.8689659949912384, 0.8689659949912384, 0.8689659949912384, 0.8689659949912384, 0.8689659949912384, 0.8993850125842966, 0.8993850125842966]}], \"precision_score_macro\": [{\"categories\": [\"0\", \"1\", \"2\", \"3\", \"4\", \"5\", \"6\", \"7\", \"8\", \"9\", \"10\", \"11\", \"12\", \"13\", \"14\", \"15\", \"16\", \"17\", \"18\", \"19\", \"20\", \"21\", \"22\", \"23\", \"24\", \"25\", \"26\", \"27\", \"28\", \"29\", \"30\", \"31\", \"32\", \"33\", \"34\", \"35\", \"36\", \"37\", \"38\", \"39\", \"40\", \"41\", \"42\", \"44\", \"48\", \"49\"], \"mode\": \"markers\", \"name\": \"precision_score_macro\", \"stepped\": false, \"type\": \"scatter\", \"data\": [0.7889041743265773, 0.8086642059265495, 0.7994816728479159, 0.8530746020276675, 0.8215838018677426, 0.7532227512354555, 0.8396331385701133, 0.8057518640185325, 0.8162641988633705, 0.8049319654411189, 0.7649652770368605, 0.8342656144205393, 0.6849668430287187, 0.836190434874329, 0.6759033848098077, 0.7879821222358654, 0.7842618251313904, 0.8325196253792461, 0.8612560951885545, 0.7944648936869434, 0.8374109686609685, 0.8508632128740825, 0.8195682512574279, 0.8197763219622303, 0.7987952889038381, 0.7505020224139759, 0.8446932982733169, 0.8132297162168733, 0.8232658683581333, 0.815672348107326, 0.29607102502017757, 0.8289662209770906, 0.8309955634427684, 0.8218426726937367, 0.8225719532571265, 0.33954802259887, 0.8517088821344141, 0.8128822604201774, 0.8093888616052481, 0.848492463658258, 0.8415578883790532, 0.8283040329235982, 0.8156290197630467, 0.8272374860075089, 0.8902456058893078, 0.8779330289650165]}, {\"categories\": [\"0\", \"1\", \"2\", \"3\", \"4\", \"5\", \"6\", \"7\", \"8\", \"9\", \"10\", \"11\", \"12\", \"13\", \"14\", \"15\", \"16\", \"17\", \"18\", \"19\", \"20\", \"21\", \"22\", \"23\", \"24\", \"25\", \"26\", \"27\", \"28\", \"29\", \"30\", \"31\", \"32\", \"33\", \"34\", \"35\", \"36\", \"37\", \"38\", \"39\", \"40\", \"41\", \"42\", \"44\", \"48\", \"49\"], \"mode\": \"lines\", \"name\": \"precision_score_macro_max\", \"stepped\": true, \"type\": \"scatter\", \"data\": [0.7889041743265773, 0.8086642059265495, 0.8086642059265495, 0.8530746020276675, 0.8530746020276675, 0.8530746020276675, 0.8530746020276675, 0.8530746020276675, 0.8530746020276675, 0.8530746020276675, 0.8530746020276675, 0.8530746020276675, 0.8530746020276675, 0.8530746020276675, 0.8530746020276675, 0.8530746020276675, 0.8530746020276675, 0.8530746020276675, 0.8612560951885545, 0.8612560951885545, 0.8612560951885545, 0.8612560951885545, 0.8612560951885545, 0.8612560951885545, 0.8612560951885545, 0.8612560951885545, 0.8612560951885545, 0.8612560951885545, 0.8612560951885545, 0.8612560951885545, 0.8612560951885545, 0.8612560951885545, 0.8612560951885545, 0.8612560951885545, 0.8612560951885545, 0.8612560951885545, 0.8612560951885545, 0.8612560951885545, 0.8612560951885545, 0.8612560951885545, 0.8612560951885545, 0.8612560951885545, 0.8612560951885545, 0.8612560951885545, 0.8902456058893078, 0.8902456058893078]}], \"accuracy\": [{\"categories\": [\"0\", \"1\", \"2\", \"3\", \"4\", \"5\", \"6\", \"7\", \"8\", \"9\", \"10\", \"11\", \"12\", \"13\", \"14\", \"15\", \"16\", \"17\", \"18\", \"19\", \"20\", \"21\", \"22\", \"23\", \"24\", \"25\", \"26\", \"27\", \"28\", \"29\", \"30\", \"31\", \"32\", \"33\", \"34\", \"35\", \"36\", \"37\", \"38\", \"39\", \"40\", \"41\", \"42\", \"44\", \"48\", \"49\"], \"mode\": \"markers\", \"name\": \"accuracy\", \"stepped\": false, \"type\": \"scatter\", \"data\": [0.8059887005649717, 0.8259322033898304, 0.8225988700564972, 0.8594350282485875, 0.8461581920903953, 0.70909604519774, 0.8028248587570623, 0.8160451977401131, 0.8326553672316385, 0.8259322033898305, 0.7792090395480227, 0.8261581920903955, 0.7157627118644069, 0.846271186440678, 0.7124293785310734, 0.8125423728813559, 0.8093785310734465, 0.836271186440678, 0.8428813559322034, 0.7793220338983051, 0.7828248587570622, 0.8528813559322034, 0.8194915254237287, 0.8262146892655368, 0.7859887005649718, 0.7758192090395479, 0.8528813559322034, 0.7725988700564972, 0.8426553672316384, 0.8325988700564972, 0.4842372881355933, 0.8328813559322035, 0.8161581920903955, 0.8361016949152542, 0.8361016949152542, 0.67909604519774, 0.8562146892655367, 0.8293220338983052, 0.8061016949152542, 0.8496045197740113, 0.7928248587570621, 0.836045197740113, 0.8359887005649718, 0.8427118644067797, 0.882994350282486, 0.8696610169491524]}, {\"categories\": [\"0\", \"1\", \"2\", \"3\", \"4\", \"5\", \"6\", \"7\", \"8\", \"9\", \"10\", \"11\", \"12\", \"13\", \"14\", \"15\", \"16\", \"17\", \"18\", \"19\", \"20\", \"21\", \"22\", \"23\", \"24\", \"25\", \"26\", \"27\", \"28\", \"29\", \"30\", \"31\", \"32\", \"33\", \"34\", \"35\", \"36\", \"37\", \"38\", \"39\", \"40\", \"41\", \"42\", \"44\", \"48\", \"49\"], \"mode\": \"lines\", \"name\": \"accuracy_max\", \"stepped\": true, \"type\": \"scatter\", \"data\": [0.8059887005649717, 0.8259322033898304, 0.8259322033898304, 0.8594350282485875, 0.8594350282485875, 0.8594350282485875, 0.8594350282485875, 0.8594350282485875, 0.8594350282485875, 0.8594350282485875, 0.8594350282485875, 0.8594350282485875, 0.8594350282485875, 0.8594350282485875, 0.8594350282485875, 0.8594350282485875, 0.8594350282485875, 0.8594350282485875, 0.8594350282485875, 0.8594350282485875, 0.8594350282485875, 0.8594350282485875, 0.8594350282485875, 0.8594350282485875, 0.8594350282485875, 0.8594350282485875, 0.8594350282485875, 0.8594350282485875, 0.8594350282485875, 0.8594350282485875, 0.8594350282485875, 0.8594350282485875, 0.8594350282485875, 0.8594350282485875, 0.8594350282485875, 0.8594350282485875, 0.8594350282485875, 0.8594350282485875, 0.8594350282485875, 0.8594350282485875, 0.8594350282485875, 0.8594350282485875, 0.8594350282485875, 0.8594350282485875, 0.882994350282486, 0.882994350282486]}], \"norm_macro_recall\": [{\"categories\": [\"0\", \"1\", \"2\", \"3\", \"4\", \"5\", \"6\", \"7\", \"8\", \"9\", \"10\", \"11\", \"12\", \"13\", \"14\", \"15\", \"16\", \"17\", \"18\", \"19\", \"20\", \"21\", \"22\", \"23\", \"24\", \"25\", \"26\", \"27\", \"28\", \"29\", \"30\", \"31\", \"32\", \"33\", \"34\", \"35\", \"36\", \"37\", \"38\", \"39\", \"40\", \"41\", \"42\", \"44\", \"48\", \"49\"], \"mode\": \"markers\", \"name\": \"norm_macro_recall\", \"stepped\": false, \"type\": \"scatter\", \"data\": [0.5520418050941306, 0.6120251937984496, 0.5929180509413068, 0.6332488925802879, 0.6601536544850498, 0.12212624584717609, 0.453452380952381, 0.577109634551495, 0.6137001661129569, 0.6078668327796235, 0.43044296788482833, 0.5792774086378738, 0.3088358250276854, 0.6536738648947951, 0.2436655592469546, 0.5481132336655593, 0.5205024916943521, 0.5943881506090809, 0.5827976190476191, 0.41723698781838314, 0.37035714285714283, 0.6287416943521594, 0.5423726467331119, 0.5536821705426357, 0.4352131782945737, 0.5182073643410854, 0.6478405315614617, 0.354515503875969, 0.6379858803986711, 0.6062001661129568, 0.004999999999999982, 0.5865988372093024, 0.4989202657807309, 0.6216929678848284, 0.5976453488372092, 0.0, 0.6470071982281285, 0.6045334994462902, 0.5064202657807308, 0.6224916943521595, 0.41690476190476183, 0.5830024916943521, 0.6316763565891472, 0.6383513289036544, 0.7063095238095238, 0.6828571428571428]}, {\"categories\": [\"0\", \"1\", \"2\", \"3\", \"4\", \"5\", \"6\", \"7\", \"8\", \"9\", \"10\", \"11\", \"12\", \"13\", \"14\", \"15\", \"16\", \"17\", \"18\", \"19\", \"20\", \"21\", \"22\", \"23\", \"24\", \"25\", \"26\", \"27\", \"28\", \"29\", \"30\", \"31\", \"32\", \"33\", \"34\", \"35\", \"36\", \"37\", \"38\", \"39\", \"40\", \"41\", \"42\", \"44\", \"48\", \"49\"], \"mode\": \"lines\", \"name\": \"norm_macro_recall_max\", \"stepped\": true, \"type\": \"scatter\", \"data\": [0.5520418050941306, 0.6120251937984496, 0.6120251937984496, 0.6332488925802879, 0.6601536544850498, 0.6601536544850498, 0.6601536544850498, 0.6601536544850498, 0.6601536544850498, 0.6601536544850498, 0.6601536544850498, 0.6601536544850498, 0.6601536544850498, 0.6601536544850498, 0.6601536544850498, 0.6601536544850498, 0.6601536544850498, 0.6601536544850498, 0.6601536544850498, 0.6601536544850498, 0.6601536544850498, 0.6601536544850498, 0.6601536544850498, 0.6601536544850498, 0.6601536544850498, 0.6601536544850498, 0.6601536544850498, 0.6601536544850498, 0.6601536544850498, 0.6601536544850498, 0.6601536544850498, 0.6601536544850498, 0.6601536544850498, 0.6601536544850498, 0.6601536544850498, 0.6601536544850498, 0.6601536544850498, 0.6601536544850498, 0.6601536544850498, 0.6601536544850498, 0.6601536544850498, 0.6601536544850498, 0.6601536544850498, 0.6601536544850498, 0.7063095238095238, 0.7063095238095238]}], \"AUC_weighted\": [{\"categories\": [\"0\", \"1\", \"2\", \"3\", \"4\", \"5\", \"6\", \"7\", \"8\", \"9\", \"10\", \"11\", \"12\", \"13\", \"14\", \"15\", \"16\", \"17\", \"18\", \"19\", \"20\", \"21\", \"22\", \"23\", \"24\", \"25\", \"26\", \"27\", \"28\", \"29\", \"30\", \"31\", \"32\", \"33\", \"34\", \"35\", \"36\", \"37\", \"38\", \"39\", \"40\", \"41\", \"42\", \"44\", \"48\", \"49\"], \"mode\": \"markers\", \"name\": \"AUC_weighted\", \"stepped\": false, \"type\": \"scatter\", \"data\": [0.8811331210778885, 0.8929591177556293, 0.8948662900188324, 0.9018321566998893, 0.9135955380214101, 0.8019778516057586, 0.8940962070874863, 0.8677544296788483, 0.9081598606496863, 0.8992808231819861, 0.8720971414728682, 0.8907245985603544, 0.7886524547803617, 0.894921534699151, 0.7394446982281285, 0.888484819121447, 0.8592381875230715, 0.8967421557770393, 0.8884037006275378, 0.8830484496124029, 0.8896257613510521, 0.9063355827796234, 0.8760033453303802, 0.864905592469546, 0.8917597822074568, 0.8901845007382798, 0.8993865356220005, 0.8638174141749723, 0.8981953903654485, 0.9037506921373201, 0.4955, 0.8964554263565893, 0.8967023348098928, 0.9018664405684754, 0.9042927971576228, 0.8099347199150978, 0.8867949197120708, 0.8993076088962717, 0.8826056893687706, 0.8940481035437431, 0.8524676310446658, 0.8883471299372463, 0.8942957272056109, 0.9093958564045772, 0.9198838362864526, 0.9203688399778516]}, {\"categories\": [\"0\", \"1\", \"2\", \"3\", \"4\", \"5\", \"6\", \"7\", \"8\", \"9\", \"10\", \"11\", \"12\", \"13\", \"14\", \"15\", \"16\", \"17\", \"18\", \"19\", \"20\", \"21\", \"22\", \"23\", \"24\", \"25\", \"26\", \"27\", \"28\", \"29\", \"30\", \"31\", \"32\", \"33\", \"34\", \"35\", \"36\", \"37\", \"38\", \"39\", \"40\", \"41\", \"42\", \"44\", \"48\", \"49\"], \"mode\": \"lines\", \"name\": \"AUC_weighted_max\", \"stepped\": true, \"type\": \"scatter\", \"data\": [0.8811331210778885, 0.8929591177556293, 0.8948662900188324, 0.9018321566998893, 0.9135955380214101, 0.9135955380214101, 0.9135955380214101, 0.9135955380214101, 0.9135955380214101, 0.9135955380214101, 0.9135955380214101, 0.9135955380214101, 0.9135955380214101, 0.9135955380214101, 0.9135955380214101, 0.9135955380214101, 0.9135955380214101, 0.9135955380214101, 0.9135955380214101, 0.9135955380214101, 0.9135955380214101, 0.9135955380214101, 0.9135955380214101, 0.9135955380214101, 0.9135955380214101, 0.9135955380214101, 0.9135955380214101, 0.9135955380214101, 0.9135955380214101, 0.9135955380214101, 0.9135955380214101, 0.9135955380214101, 0.9135955380214101, 0.9135955380214101, 0.9135955380214101, 0.9135955380214101, 0.9135955380214101, 0.9135955380214101, 0.9135955380214101, 0.9135955380214101, 0.9135955380214101, 0.9135955380214101, 0.9135955380214101, 0.9135955380214101, 0.9198838362864526, 0.9203688399778516]}], \"AUC_micro\": [{\"categories\": [\"0\", \"1\", \"2\", \"3\", \"4\", \"5\", \"6\", \"7\", \"8\", \"9\", \"10\", \"11\", \"12\", \"13\", \"14\", \"15\", \"16\", \"17\", \"18\", \"19\", \"20\", \"21\", \"22\", \"23\", \"24\", \"25\", \"26\", \"27\", \"28\", \"29\", \"30\", \"31\", \"32\", \"33\", \"34\", \"35\", \"36\", \"37\", \"38\", \"39\", \"40\", \"41\", \"42\", \"44\", \"48\", \"49\"], \"mode\": \"markers\", \"name\": \"AUC_micro\", \"stepped\": false, \"type\": \"scatter\", \"data\": [0.8880105014523284, 0.8999905678444892, 0.8973317373679338, 0.911382776341409, 0.9207550352708352, 0.8107223179801462, 0.8873001532126784, 0.8782265632481087, 0.9089549458967732, 0.9054150627214401, 0.8827146892655368, 0.8961263525806761, 0.8049841760030642, 0.9035812346388331, 0.7857940247055444, 0.9026933192888379, 0.8762564716396948, 0.900126815410642, 0.8918248427974081, 0.8739193399087108, 0.8692911360081714, 0.9106852277442625, 0.887295397235788, 0.8887526572823902, 0.8807564716396948, 0.8796002745060487, 0.9069744007149925, 0.8616724281017587, 0.9028561875578538, 0.9092279836573143, 0.4741817325800377, 0.9018262632066136, 0.8947004372945194, 0.9070741325928052, 0.908924558715567, 0.8124744326343004, 0.8980285358613426, 0.9022199080723929, 0.8918694659899773, 0.9057792460659453, 0.8495043250662325, 0.8895361486162979, 0.9006909413003925, 0.9125817293881069, 0.9203936767850873, 0.9169302403523891]}, {\"categories\": [\"0\", \"1\", \"2\", \"3\", \"4\", \"5\", \"6\", \"7\", \"8\", \"9\", \"10\", \"11\", \"12\", \"13\", \"14\", \"15\", \"16\", \"17\", \"18\", \"19\", \"20\", \"21\", \"22\", \"23\", \"24\", \"25\", \"26\", \"27\", \"28\", \"29\", \"30\", \"31\", \"32\", \"33\", \"34\", \"35\", \"36\", \"37\", \"38\", \"39\", \"40\", \"41\", \"42\", \"44\", \"48\", \"49\"], \"mode\": \"lines\", \"name\": \"AUC_micro_max\", \"stepped\": true, \"type\": \"scatter\", \"data\": [0.8880105014523284, 0.8999905678444892, 0.8999905678444892, 0.911382776341409, 0.9207550352708352, 0.9207550352708352, 0.9207550352708352, 0.9207550352708352, 0.9207550352708352, 0.9207550352708352, 0.9207550352708352, 0.9207550352708352, 0.9207550352708352, 0.9207550352708352, 0.9207550352708352, 0.9207550352708352, 0.9207550352708352, 0.9207550352708352, 0.9207550352708352, 0.9207550352708352, 0.9207550352708352, 0.9207550352708352, 0.9207550352708352, 0.9207550352708352, 0.9207550352708352, 0.9207550352708352, 0.9207550352708352, 0.9207550352708352, 0.9207550352708352, 0.9207550352708352, 0.9207550352708352, 0.9207550352708352, 0.9207550352708352, 0.9207550352708352, 0.9207550352708352, 0.9207550352708352, 0.9207550352708352, 0.9207550352708352, 0.9207550352708352, 0.9207550352708352, 0.9207550352708352, 0.9207550352708352, 0.9207550352708352, 0.9207550352708352, 0.9207550352708352, 0.9207550352708352]}], \"recall_score_weighted\": [{\"categories\": [\"0\", \"1\", \"2\", \"3\", \"4\", \"5\", \"6\", \"7\", \"8\", \"9\", \"10\", \"11\", \"12\", \"13\", \"14\", \"15\", \"16\", \"17\", \"18\", \"19\", \"20\", \"21\", \"22\", \"23\", \"24\", \"25\", \"26\", \"27\", \"28\", \"29\", \"30\", \"31\", \"32\", \"33\", \"34\", \"35\", \"36\", \"37\", \"38\", \"39\", \"40\", \"41\", \"42\", \"44\", \"48\", \"49\"], \"mode\": \"markers\", \"name\": \"recall_score_weighted\", \"stepped\": false, \"type\": \"scatter\", \"data\": [0.8059887005649717, 0.8259322033898304, 0.8225988700564972, 0.8594350282485875, 0.8461581920903953, 0.70909604519774, 0.8028248587570623, 0.8160451977401131, 0.8326553672316385, 0.8259322033898305, 0.7792090395480227, 0.8261581920903955, 0.7157627118644069, 0.846271186440678, 0.7124293785310734, 0.8125423728813559, 0.8093785310734465, 0.836271186440678, 0.8428813559322034, 0.7793220338983051, 0.7828248587570622, 0.8528813559322034, 0.8194915254237287, 0.8262146892655368, 0.7859887005649718, 0.7758192090395479, 0.8528813559322034, 0.7725988700564972, 0.8426553672316384, 0.8325988700564972, 0.4842372881355933, 0.8328813559322035, 0.8161581920903955, 0.8361016949152542, 0.8361016949152542, 0.67909604519774, 0.8562146892655367, 0.8293220338983052, 0.8061016949152542, 0.8496045197740113, 0.7928248587570621, 0.836045197740113, 0.8359887005649718, 0.8427118644067797, 0.882994350282486, 0.8696610169491524]}, {\"categories\": [\"0\", \"1\", \"2\", \"3\", \"4\", \"5\", \"6\", \"7\", \"8\", \"9\", \"10\", \"11\", \"12\", \"13\", \"14\", \"15\", \"16\", \"17\", \"18\", \"19\", \"20\", \"21\", \"22\", \"23\", \"24\", \"25\", \"26\", \"27\", \"28\", \"29\", \"30\", \"31\", \"32\", \"33\", \"34\", \"35\", \"36\", \"37\", \"38\", \"39\", \"40\", \"41\", \"42\", \"44\", \"48\", \"49\"], \"mode\": \"lines\", \"name\": \"recall_score_weighted_max\", \"stepped\": true, \"type\": \"scatter\", \"data\": [0.8059887005649717, 0.8259322033898304, 0.8259322033898304, 0.8594350282485875, 0.8594350282485875, 0.8594350282485875, 0.8594350282485875, 0.8594350282485875, 0.8594350282485875, 0.8594350282485875, 0.8594350282485875, 0.8594350282485875, 0.8594350282485875, 0.8594350282485875, 0.8594350282485875, 0.8594350282485875, 0.8594350282485875, 0.8594350282485875, 0.8594350282485875, 0.8594350282485875, 0.8594350282485875, 0.8594350282485875, 0.8594350282485875, 0.8594350282485875, 0.8594350282485875, 0.8594350282485875, 0.8594350282485875, 0.8594350282485875, 0.8594350282485875, 0.8594350282485875, 0.8594350282485875, 0.8594350282485875, 0.8594350282485875, 0.8594350282485875, 0.8594350282485875, 0.8594350282485875, 0.8594350282485875, 0.8594350282485875, 0.8594350282485875, 0.8594350282485875, 0.8594350282485875, 0.8594350282485875, 0.8594350282485875, 0.8594350282485875, 0.882994350282486, 0.882994350282486]}], \"log_loss\": [{\"categories\": [\"0\", \"1\", \"2\", \"3\", \"4\", \"5\", \"6\", \"7\", \"8\", \"9\", \"10\", \"11\", \"12\", \"13\", \"14\", \"15\", \"16\", \"17\", \"18\", \"19\", \"20\", \"21\", \"22\", \"23\", \"24\", \"25\", \"26\", \"27\", \"28\", \"29\", \"30\", \"31\", \"32\", \"33\", \"34\", \"35\", \"36\", \"37\", \"38\", \"39\", \"40\", \"41\", \"42\", \"44\", \"48\", \"49\"], \"mode\": \"markers\", \"name\": \"log_loss\", \"stepped\": false, \"type\": \"scatter\", \"data\": [0.5282491261622873, 0.43217688137359717, 0.40351558548694627, 0.3937412876507018, 0.3763283718680923, 0.5320407064688715, 0.5253184963850602, 0.4485469973330094, 0.40415236970477686, 0.38468132707346114, 0.5090327497697456, 0.41609772050327454, 0.5421101166712797, 0.39668155380939407, 0.5834523498483459, 0.39173713781961084, 0.4899611430866921, 0.4883730044708267, 0.4430935297524483, 0.4660958250274154, 0.4849891849008321, 0.38199746806751866, 0.5076274594344932, 0.4752784894730529, 0.4758258022402936, 0.4749060248661701, 0.39271908000451317, 0.48873434813949784, 0.3977261425278143, 0.3979965288345781, 0.6922559613237158, 0.40497266320565617, 0.4331556229669603, 0.387660540559819, 0.3873680105318516, 0.6343578456558554, 0.4047363193152547, 0.4010425358870183, 0.42372478224211585, 0.38995629857272407, 0.5204312615663148, 0.44906332510651403, 0.39997659347850567, 0.38432875007442024, 0.36612847580299307, 0.3792813999161668]}, {\"categories\": [\"0\", \"1\", \"2\", \"3\", \"4\", \"5\", \"6\", \"7\", \"8\", \"9\", \"10\", \"11\", \"12\", \"13\", \"14\", \"15\", \"16\", \"17\", \"18\", \"19\", \"20\", \"21\", \"22\", \"23\", \"24\", \"25\", \"26\", \"27\", \"28\", \"29\", \"30\", \"31\", \"32\", \"33\", \"34\", \"35\", \"36\", \"37\", \"38\", \"39\", \"40\", \"41\", \"42\", \"44\", \"48\", \"49\"], \"mode\": \"lines\", \"name\": \"log_loss_min\", \"stepped\": true, \"type\": \"scatter\", \"data\": [0.5282491261622873, 0.43217688137359717, 0.40351558548694627, 0.3937412876507018, 0.3763283718680923, 0.3763283718680923, 0.3763283718680923, 0.3763283718680923, 0.3763283718680923, 0.3763283718680923, 0.3763283718680923, 0.3763283718680923, 0.3763283718680923, 0.3763283718680923, 0.3763283718680923, 0.3763283718680923, 0.3763283718680923, 0.3763283718680923, 0.3763283718680923, 0.3763283718680923, 0.3763283718680923, 0.3763283718680923, 0.3763283718680923, 0.3763283718680923, 0.3763283718680923, 0.3763283718680923, 0.3763283718680923, 0.3763283718680923, 0.3763283718680923, 0.3763283718680923, 0.3763283718680923, 0.3763283718680923, 0.3763283718680923, 0.3763283718680923, 0.3763283718680923, 0.3763283718680923, 0.3763283718680923, 0.3763283718680923, 0.3763283718680923, 0.3763283718680923, 0.3763283718680923, 0.3763283718680923, 0.3763283718680923, 0.3763283718680923, 0.36612847580299307, 0.36612847580299307]}], \"balanced_accuracy\": [{\"categories\": [\"0\", \"1\", \"2\", \"3\", \"4\", \"5\", \"6\", \"7\", \"8\", \"9\", \"10\", \"11\", \"12\", \"13\", \"14\", \"15\", \"16\", \"17\", \"18\", \"19\", \"20\", \"21\", \"22\", \"23\", \"24\", \"25\", \"26\", \"27\", \"28\", \"29\", \"30\", \"31\", \"32\", \"33\", \"34\", \"35\", \"36\", \"37\", \"38\", \"39\", \"40\", \"41\", \"42\", \"44\", \"48\", \"49\"], \"mode\": \"markers\", \"name\": \"balanced_accuracy\", \"stepped\": false, \"type\": \"scatter\", \"data\": [0.7760209025470652, 0.8060125968992248, 0.7964590254706534, 0.8166244462901441, 0.830076827242525, 0.5610631229235881, 0.7267261904761905, 0.7885548172757475, 0.8068500830564785, 0.8039334163898116, 0.7152214839424141, 0.7896387043189369, 0.6544179125138426, 0.8268369324473974, 0.6218327796234773, 0.7740566168327796, 0.7602512458471761, 0.7971940753045403, 0.7913988095238096, 0.7086184939091915, 0.6851785714285714, 0.8143708471760795, 0.7711863233665559, 0.7768410852713179, 0.7176065891472868, 0.7591036821705426, 0.8239202657807307, 0.6772577519379844, 0.8189929401993356, 0.8031000830564784, 0.5025000000000001, 0.7932994186046513, 0.7494601328903654, 0.8108464839424141, 0.7988226744186047, 0.5, 0.8235035991140641, 0.802266749723145, 0.7532101328903655, 0.8112458471760797, 0.708452380952381, 0.791501245847176, 0.8158381782945737, 0.8191756644518271, 0.8531547619047618, 0.8414285714285714]}, {\"categories\": [\"0\", \"1\", \"2\", \"3\", \"4\", \"5\", \"6\", \"7\", \"8\", \"9\", \"10\", \"11\", \"12\", \"13\", \"14\", \"15\", \"16\", \"17\", \"18\", \"19\", \"20\", \"21\", \"22\", \"23\", \"24\", \"25\", \"26\", \"27\", \"28\", \"29\", \"30\", \"31\", \"32\", \"33\", \"34\", \"35\", \"36\", \"37\", \"38\", \"39\", \"40\", \"41\", \"42\", \"44\", \"48\", \"49\"], \"mode\": \"lines\", \"name\": \"balanced_accuracy_max\", \"stepped\": true, \"type\": \"scatter\", \"data\": [0.7760209025470652, 0.8060125968992248, 0.8060125968992248, 0.8166244462901441, 0.830076827242525, 0.830076827242525, 0.830076827242525, 0.830076827242525, 0.830076827242525, 0.830076827242525, 0.830076827242525, 0.830076827242525, 0.830076827242525, 0.830076827242525, 0.830076827242525, 0.830076827242525, 0.830076827242525, 0.830076827242525, 0.830076827242525, 0.830076827242525, 0.830076827242525, 0.830076827242525, 0.830076827242525, 0.830076827242525, 0.830076827242525, 0.830076827242525, 0.830076827242525, 0.830076827242525, 0.830076827242525, 0.830076827242525, 0.830076827242525, 0.830076827242525, 0.830076827242525, 0.830076827242525, 0.830076827242525, 0.830076827242525, 0.830076827242525, 0.830076827242525, 0.830076827242525, 0.830076827242525, 0.830076827242525, 0.830076827242525, 0.830076827242525, 0.830076827242525, 0.8531547619047618, 0.8531547619047618]}], \"precision_score_micro\": [{\"categories\": [\"0\", \"1\", \"2\", \"3\", \"4\", \"5\", \"6\", \"7\", \"8\", \"9\", \"10\", \"11\", \"12\", \"13\", \"14\", \"15\", \"16\", \"17\", \"18\", \"19\", \"20\", \"21\", \"22\", \"23\", \"24\", \"25\", \"26\", \"27\", \"28\", \"29\", \"30\", \"31\", \"32\", \"33\", \"34\", \"35\", \"36\", \"37\", \"38\", \"39\", \"40\", \"41\", \"42\", \"44\", \"48\", \"49\"], \"mode\": \"markers\", \"name\": \"precision_score_micro\", \"stepped\": false, \"type\": \"scatter\", \"data\": [0.8059887005649717, 0.8259322033898304, 0.8225988700564972, 0.8594350282485875, 0.8461581920903953, 0.70909604519774, 0.8028248587570623, 0.8160451977401131, 0.8326553672316385, 0.8259322033898305, 0.7792090395480227, 0.8261581920903955, 0.7157627118644069, 0.846271186440678, 0.7124293785310734, 0.8125423728813559, 0.8093785310734465, 0.836271186440678, 0.8428813559322034, 0.7793220338983051, 0.7828248587570622, 0.8528813559322034, 0.8194915254237287, 0.8262146892655368, 0.7859887005649718, 0.7758192090395479, 0.8528813559322034, 0.7725988700564972, 0.8426553672316384, 0.8325988700564972, 0.4842372881355933, 0.8328813559322035, 0.8161581920903955, 0.8361016949152542, 0.8361016949152542, 0.67909604519774, 0.8562146892655367, 0.8293220338983052, 0.8061016949152542, 0.8496045197740113, 0.7928248587570621, 0.836045197740113, 0.8359887005649718, 0.8427118644067797, 0.882994350282486, 0.8696610169491524]}, {\"categories\": [\"0\", \"1\", \"2\", \"3\", \"4\", \"5\", \"6\", \"7\", \"8\", \"9\", \"10\", \"11\", \"12\", \"13\", \"14\", \"15\", \"16\", \"17\", \"18\", \"19\", \"20\", \"21\", \"22\", \"23\", \"24\", \"25\", \"26\", \"27\", \"28\", \"29\", \"30\", \"31\", \"32\", \"33\", \"34\", \"35\", \"36\", \"37\", \"38\", \"39\", \"40\", \"41\", \"42\", \"44\", \"48\", \"49\"], \"mode\": \"lines\", \"name\": \"precision_score_micro_max\", \"stepped\": true, \"type\": \"scatter\", \"data\": [0.8059887005649717, 0.8259322033898304, 0.8259322033898304, 0.8594350282485875, 0.8594350282485875, 0.8594350282485875, 0.8594350282485875, 0.8594350282485875, 0.8594350282485875, 0.8594350282485875, 0.8594350282485875, 0.8594350282485875, 0.8594350282485875, 0.8594350282485875, 0.8594350282485875, 0.8594350282485875, 0.8594350282485875, 0.8594350282485875, 0.8594350282485875, 0.8594350282485875, 0.8594350282485875, 0.8594350282485875, 0.8594350282485875, 0.8594350282485875, 0.8594350282485875, 0.8594350282485875, 0.8594350282485875, 0.8594350282485875, 0.8594350282485875, 0.8594350282485875, 0.8594350282485875, 0.8594350282485875, 0.8594350282485875, 0.8594350282485875, 0.8594350282485875, 0.8594350282485875, 0.8594350282485875, 0.8594350282485875, 0.8594350282485875, 0.8594350282485875, 0.8594350282485875, 0.8594350282485875, 0.8594350282485875, 0.8594350282485875, 0.882994350282486, 0.882994350282486]}], \"AUC_macro\": [{\"categories\": [\"0\", \"1\", \"2\", \"3\", \"4\", \"5\", \"6\", \"7\", \"8\", \"9\", \"10\", \"11\", \"12\", \"13\", \"14\", \"15\", \"16\", \"17\", \"18\", \"19\", \"20\", \"21\", \"22\", \"23\", \"24\", \"25\", \"26\", \"27\", \"28\", \"29\", \"30\", \"31\", \"32\", \"33\", \"34\", \"35\", \"36\", \"37\", \"38\", \"39\", \"40\", \"41\", \"42\", \"44\", \"48\", \"49\"], \"mode\": \"markers\", \"name\": \"AUC_macro\", \"stepped\": false, \"type\": \"scatter\", \"data\": [0.8811331210778885, 0.8929591177556295, 0.8948995478036176, 0.9018321566998893, 0.9135955380214101, 0.8019778516057586, 0.8940962070874863, 0.8677544296788483, 0.9081598606496861, 0.899280823181986, 0.8720971414728682, 0.8907245985603544, 0.7886524547803617, 0.894921534699151, 0.7394446982281285, 0.888484819121447, 0.8592381875230715, 0.8967421557770396, 0.8884037006275378, 0.8830484496124029, 0.8896257613510521, 0.9063355827796234, 0.8760033453303804, 0.864905592469546, 0.8917597822074568, 0.8901845007382798, 0.8993865356220005, 0.8638174141749723, 0.8981953903654485, 0.9037506921373201, 0.4955, 0.8964554263565893, 0.8967023348098928, 0.9018664405684754, 0.9042927971576228, 0.8099347199150978, 0.8867949197120708, 0.8993076088962717, 0.8826056893687708, 0.8940481035437431, 0.8524676310446658, 0.8883471299372463, 0.8942957272056109, 0.9093958564045772, 0.9198838362864524, 0.9203688399778518]}, {\"categories\": [\"0\", \"1\", \"2\", \"3\", \"4\", \"5\", \"6\", \"7\", \"8\", \"9\", \"10\", \"11\", \"12\", \"13\", \"14\", \"15\", \"16\", \"17\", \"18\", \"19\", \"20\", \"21\", \"22\", \"23\", \"24\", \"25\", \"26\", \"27\", \"28\", \"29\", \"30\", \"31\", \"32\", \"33\", \"34\", \"35\", \"36\", \"37\", \"38\", \"39\", \"40\", \"41\", \"42\", \"44\", \"48\", \"49\"], \"mode\": \"lines\", \"name\": \"AUC_macro_max\", \"stepped\": true, \"type\": \"scatter\", \"data\": [0.8811331210778885, 0.8929591177556295, 0.8948995478036176, 0.9018321566998893, 0.9135955380214101, 0.9135955380214101, 0.9135955380214101, 0.9135955380214101, 0.9135955380214101, 0.9135955380214101, 0.9135955380214101, 0.9135955380214101, 0.9135955380214101, 0.9135955380214101, 0.9135955380214101, 0.9135955380214101, 0.9135955380214101, 0.9135955380214101, 0.9135955380214101, 0.9135955380214101, 0.9135955380214101, 0.9135955380214101, 0.9135955380214101, 0.9135955380214101, 0.9135955380214101, 0.9135955380214101, 0.9135955380214101, 0.9135955380214101, 0.9135955380214101, 0.9135955380214101, 0.9135955380214101, 0.9135955380214101, 0.9135955380214101, 0.9135955380214101, 0.9135955380214101, 0.9135955380214101, 0.9135955380214101, 0.9135955380214101, 0.9135955380214101, 0.9135955380214101, 0.9135955380214101, 0.9135955380214101, 0.9135955380214101, 0.9135955380214101, 0.9198838362864524, 0.9203688399778518]}], \"f1_score_weighted\": [{\"categories\": [\"0\", \"1\", \"2\", \"3\", \"4\", \"5\", \"6\", \"7\", \"8\", \"9\", \"10\", \"11\", \"12\", \"13\", \"14\", \"15\", \"16\", \"17\", \"18\", \"19\", \"20\", \"21\", \"22\", \"23\", \"24\", \"25\", \"26\", \"27\", \"28\", \"29\", \"30\", \"31\", \"32\", \"33\", \"34\", \"35\", \"36\", \"37\", \"38\", \"39\", \"40\", \"41\", \"42\", \"44\", \"48\", \"49\"], \"mode\": \"markers\", \"name\": \"f1_score_weighted\", \"stepped\": false, \"type\": \"scatter\", \"data\": [0.8014398448329555, 0.8237396450256732, 0.8207176886121987, 0.8546927181286144, 0.8473002575939148, 0.6334173561049372, 0.7806452708208586, 0.8111375615251999, 0.8291301358043388, 0.8231270971466168, 0.7654556833494301, 0.8157297548639766, 0.6951485979455608, 0.8440887176790568, 0.6835120902855956, 0.8083899493819668, 0.8039757220257486, 0.8303299104097744, 0.8325949082085611, 0.7545881133766211, 0.7496145898483952, 0.8476670633554975, 0.8113854251575822, 0.8193695403108352, 0.7641460110043117, 0.7762911213594699, 0.8493870125759091, 0.7389417308301948, 0.8407083864469168, 0.8283958328521287, 0.37173419587863216, 0.8270125756280693, 0.8021759951947371, 0.8314276783325711, 0.8316207387117911, 0.5526564268547016, 0.8520329439986138, 0.8258570086555664, 0.7950503011155767, 0.8445786473037667, 0.7628049721787058, 0.8294192767119221, 0.8340012062748162, 0.8390716834970599, 0.8787729930147679, 0.8643830111906909]}, {\"categories\": [\"0\", \"1\", \"2\", \"3\", \"4\", \"5\", \"6\", \"7\", \"8\", \"9\", \"10\", \"11\", \"12\", \"13\", \"14\", \"15\", \"16\", \"17\", \"18\", \"19\", \"20\", \"21\", \"22\", \"23\", \"24\", \"25\", \"26\", \"27\", \"28\", \"29\", \"30\", \"31\", \"32\", \"33\", \"34\", \"35\", \"36\", \"37\", \"38\", \"39\", \"40\", \"41\", \"42\", \"44\", \"48\", \"49\"], \"mode\": \"lines\", \"name\": \"f1_score_weighted_max\", \"stepped\": true, \"type\": \"scatter\", \"data\": [0.8014398448329555, 0.8237396450256732, 0.8237396450256732, 0.8546927181286144, 0.8546927181286144, 0.8546927181286144, 0.8546927181286144, 0.8546927181286144, 0.8546927181286144, 0.8546927181286144, 0.8546927181286144, 0.8546927181286144, 0.8546927181286144, 0.8546927181286144, 0.8546927181286144, 0.8546927181286144, 0.8546927181286144, 0.8546927181286144, 0.8546927181286144, 0.8546927181286144, 0.8546927181286144, 0.8546927181286144, 0.8546927181286144, 0.8546927181286144, 0.8546927181286144, 0.8546927181286144, 0.8546927181286144, 0.8546927181286144, 0.8546927181286144, 0.8546927181286144, 0.8546927181286144, 0.8546927181286144, 0.8546927181286144, 0.8546927181286144, 0.8546927181286144, 0.8546927181286144, 0.8546927181286144, 0.8546927181286144, 0.8546927181286144, 0.8546927181286144, 0.8546927181286144, 0.8546927181286144, 0.8546927181286144, 0.8546927181286144, 0.8787729930147679, 0.8787729930147679]}], \"f1_score_macro\": [{\"categories\": [\"0\", \"1\", \"2\", \"3\", \"4\", \"5\", \"6\", \"7\", \"8\", \"9\", \"10\", \"11\", \"12\", \"13\", \"14\", \"15\", \"16\", \"17\", \"18\", \"19\", \"20\", \"21\", \"22\", \"23\", \"24\", \"25\", \"26\", \"27\", \"28\", \"29\", \"30\", \"31\", \"32\", \"33\", \"34\", \"35\", \"36\", \"37\", \"38\", \"39\", \"40\", \"41\", \"42\", \"44\", \"48\", \"49\"], \"mode\": \"markers\", \"name\": \"f1_score_macro\", \"stepped\": false, \"type\": \"scatter\", \"data\": [0.7682096405971308, 0.7972526241921125, 0.7895392329927435, 0.8261152642263028, 0.8184700213501429, 0.5248810968282309, 0.7369006079218272, 0.777731957024298, 0.8005442333866748, 0.7920088885105925, 0.7172961131906088, 0.784384931703028, 0.637991571664759, 0.8182329158586782, 0.6113400280208818, 0.7711308309372826, 0.7611013563473851, 0.7998732320652098, 0.802870074232839, 0.7105077299114545, 0.6954283489899218, 0.8190899490607363, 0.7743469371274937, 0.7850851466011787, 0.7202963266940601, 0.7392379283317426, 0.8226204811412172, 0.6812868106356605, 0.8130037508023327, 0.79836599279698, 0.34706482889091583, 0.7962751162376428, 0.7625919451180303, 0.8029338904553777, 0.8013127215162099, 0.40276783177038933, 0.8260084959068846, 0.7958790985185501, 0.7542112514696655, 0.8161275803155832, 0.7150630776998945, 0.7972965954614303, 0.8054915040413915, 0.8120004611589234, 0.8570511305705459, 0.8410053971814676]}, {\"categories\": [\"0\", \"1\", \"2\", \"3\", \"4\", \"5\", \"6\", \"7\", \"8\", \"9\", \"10\", \"11\", \"12\", \"13\", \"14\", \"15\", \"16\", \"17\", \"18\", \"19\", \"20\", \"21\", \"22\", \"23\", \"24\", \"25\", \"26\", \"27\", \"28\", \"29\", \"30\", \"31\", \"32\", \"33\", \"34\", \"35\", \"36\", \"37\", \"38\", \"39\", \"40\", \"41\", \"42\", \"44\", \"48\", \"49\"], \"mode\": \"lines\", \"name\": \"f1_score_macro_max\", \"stepped\": true, \"type\": \"scatter\", \"data\": [0.7682096405971308, 0.7972526241921125, 0.7972526241921125, 0.8261152642263028, 0.8261152642263028, 0.8261152642263028, 0.8261152642263028, 0.8261152642263028, 0.8261152642263028, 0.8261152642263028, 0.8261152642263028, 0.8261152642263028, 0.8261152642263028, 0.8261152642263028, 0.8261152642263028, 0.8261152642263028, 0.8261152642263028, 0.8261152642263028, 0.8261152642263028, 0.8261152642263028, 0.8261152642263028, 0.8261152642263028, 0.8261152642263028, 0.8261152642263028, 0.8261152642263028, 0.8261152642263028, 0.8261152642263028, 0.8261152642263028, 0.8261152642263028, 0.8261152642263028, 0.8261152642263028, 0.8261152642263028, 0.8261152642263028, 0.8261152642263028, 0.8261152642263028, 0.8261152642263028, 0.8261152642263028, 0.8261152642263028, 0.8261152642263028, 0.8261152642263028, 0.8261152642263028, 0.8261152642263028, 0.8261152642263028, 0.8261152642263028, 0.8570511305705459, 0.8570511305705459]}], \"weighted_accuracy\": [{\"categories\": [\"0\", \"1\", \"2\", \"3\", \"4\", \"5\", \"6\", \"7\", \"8\", \"9\", \"10\", \"11\", \"12\", \"13\", \"14\", \"15\", \"16\", \"17\", \"18\", \"19\", \"20\", \"21\", \"22\", \"23\", \"24\", \"25\", \"26\", \"27\", \"28\", \"29\", \"30\", \"31\", \"32\", \"33\", \"34\", \"35\", \"36\", \"37\", \"38\", \"39\", \"40\", \"41\", \"42\", \"44\", \"48\", \"49\"], \"mode\": \"markers\", \"name\": \"weighted_accuracy\", \"stepped\": false, \"type\": \"scatter\", \"data\": [0.8252063202764133, 0.8406325321291572, 0.8413665248412862, 0.887609859439961, 0.8568919790142951, 0.8074656311476728, 0.8566844185386092, 0.8360473402486086, 0.8507187369009361, 0.8413554096222813, 0.82427108390284, 0.853412521437642, 0.7593421041676715, 0.8614527378563306, 0.7746216361810105, 0.8396141442892926, 0.8396048623725025, 0.8631404005320202, 0.8789372131086056, 0.8290574197013217, 0.8482943439246929, 0.8798207905868505, 0.8527437725221466, 0.8602032302883946, 0.8342331962066142, 0.7885170274949995, 0.872795292930617, 0.8387848239836158, 0.858913427166423, 0.8531985468771832, 0.4578326707808805, 0.8607234454541072, 0.8613333959821501, 0.853870844518414, 0.86092827988194, 0.7971865900207855, 0.8787168615580679, 0.8487971682734852, 0.8431073236054558, 0.876880803619453, 0.8481780850317552, 0.8663107447254437, 0.8498945134062286, 0.8588042475897723, 0.9028878829357401, 0.8887716240428023]}, {\"categories\": [\"0\", \"1\", \"2\", \"3\", \"4\", \"5\", \"6\", \"7\", \"8\", \"9\", \"10\", \"11\", \"12\", \"13\", \"14\", \"15\", \"16\", \"17\", \"18\", \"19\", \"20\", \"21\", \"22\", \"23\", \"24\", \"25\", \"26\", \"27\", \"28\", \"29\", \"30\", \"31\", \"32\", \"33\", \"34\", \"35\", \"36\", \"37\", \"38\", \"39\", \"40\", \"41\", \"42\", \"44\", \"48\", \"49\"], \"mode\": \"lines\", \"name\": \"weighted_accuracy_max\", \"stepped\": true, \"type\": \"scatter\", \"data\": [0.8252063202764133, 0.8406325321291572, 0.8413665248412862, 0.887609859439961, 0.887609859439961, 0.887609859439961, 0.887609859439961, 0.887609859439961, 0.887609859439961, 0.887609859439961, 0.887609859439961, 0.887609859439961, 0.887609859439961, 0.887609859439961, 0.887609859439961, 0.887609859439961, 0.887609859439961, 0.887609859439961, 0.887609859439961, 0.887609859439961, 0.887609859439961, 0.887609859439961, 0.887609859439961, 0.887609859439961, 0.887609859439961, 0.887609859439961, 0.887609859439961, 0.887609859439961, 0.887609859439961, 0.887609859439961, 0.887609859439961, 0.887609859439961, 0.887609859439961, 0.887609859439961, 0.887609859439961, 0.887609859439961, 0.887609859439961, 0.887609859439961, 0.887609859439961, 0.887609859439961, 0.887609859439961, 0.887609859439961, 0.887609859439961, 0.887609859439961, 0.9028878829357401, 0.9028878829357401]}], \"average_precision_score_micro\": [{\"categories\": [\"0\", \"1\", \"2\", \"3\", \"4\", \"5\", \"6\", \"7\", \"8\", \"9\", \"10\", \"11\", \"12\", \"13\", \"14\", \"15\", \"16\", \"17\", \"18\", \"19\", \"20\", \"21\", \"22\", \"23\", \"24\", \"25\", \"26\", \"27\", \"28\", \"29\", \"30\", \"31\", \"32\", \"33\", \"34\", \"35\", \"36\", \"37\", \"38\", \"39\", \"40\", \"41\", \"42\", \"44\", \"48\", \"49\"], \"mode\": \"markers\", \"name\": \"average_precision_score_micro\", \"stepped\": false, \"type\": \"scatter\", \"data\": [0.887958292631032, 0.9018582931163117, 0.9019515629338096, 0.9141606046586771, 0.9231349184300001, 0.8183833936855182, 0.895206889934129, 0.8797772210407853, 0.9107758665746255, 0.9067599561489658, 0.8791969950625461, 0.8993760782921816, 0.8018346196969922, 0.9020916181204706, 0.764882720100994, 0.9017898176245029, 0.8723071880091318, 0.9022681622437723, 0.892439046369517, 0.8809383314434488, 0.873901049972404, 0.911727768240179, 0.8874280039880285, 0.8706135631419623, 0.8836967687404573, 0.8832075339351704, 0.9048042135369381, 0.8700657470473849, 0.9058644949914424, 0.9108408609301687, 0.5205177874656031, 0.9037378018898415, 0.9000157462971572, 0.9082969743226151, 0.910449621276024, 0.8209315362947711, 0.8983150177586333, 0.9034453690174296, 0.8936484034435688, 0.9026020432426062, 0.85058960213875, 0.8907150073369563, 0.8987338005085036, 0.9133628889450595, 0.9225894262484499, 0.9181576399076606]}, {\"categories\": [\"0\", \"1\", \"2\", \"3\", \"4\", \"5\", \"6\", \"7\", \"8\", \"9\", \"10\", \"11\", \"12\", \"13\", \"14\", \"15\", \"16\", \"17\", \"18\", \"19\", \"20\", \"21\", \"22\", \"23\", \"24\", \"25\", \"26\", \"27\", \"28\", \"29\", \"30\", \"31\", \"32\", \"33\", \"34\", \"35\", \"36\", \"37\", \"38\", \"39\", \"40\", \"41\", \"42\", \"44\", \"48\", \"49\"], \"mode\": \"lines\", \"name\": \"average_precision_score_micro_max\", \"stepped\": true, \"type\": \"scatter\", \"data\": [0.887958292631032, 0.9018582931163117, 0.9019515629338096, 0.9141606046586771, 0.9231349184300001, 0.9231349184300001, 0.9231349184300001, 0.9231349184300001, 0.9231349184300001, 0.9231349184300001, 0.9231349184300001, 0.9231349184300001, 0.9231349184300001, 0.9231349184300001, 0.9231349184300001, 0.9231349184300001, 0.9231349184300001, 0.9231349184300001, 0.9231349184300001, 0.9231349184300001, 0.9231349184300001, 0.9231349184300001, 0.9231349184300001, 0.9231349184300001, 0.9231349184300001, 0.9231349184300001, 0.9231349184300001, 0.9231349184300001, 0.9231349184300001, 0.9231349184300001, 0.9231349184300001, 0.9231349184300001, 0.9231349184300001, 0.9231349184300001, 0.9231349184300001, 0.9231349184300001, 0.9231349184300001, 0.9231349184300001, 0.9231349184300001, 0.9231349184300001, 0.9231349184300001, 0.9231349184300001, 0.9231349184300001, 0.9231349184300001, 0.9231349184300001, 0.9231349184300001]}], \"average_precision_score_weighted\": [{\"categories\": [\"0\", \"1\", \"2\", \"3\", \"4\", \"5\", \"6\", \"7\", \"8\", \"9\", \"10\", \"11\", \"12\", \"13\", \"14\", \"15\", \"16\", \"17\", \"18\", \"19\", \"20\", \"21\", \"22\", \"23\", \"24\", \"25\", \"26\", \"27\", \"28\", \"29\", \"30\", \"31\", \"32\", \"33\", \"34\", \"35\", \"36\", \"37\", \"38\", \"39\", \"40\", \"41\", \"42\", \"44\", \"48\", \"49\"], \"mode\": \"markers\", \"name\": \"average_precision_score_weighted\", \"stepped\": false, \"type\": \"scatter\", \"data\": [0.8955370396295249, 0.9103506263314479, 0.911684293672357, 0.9230813500074042, 0.9259839517775429, 0.8286910499329295, 0.9131158458663913, 0.8869727690851625, 0.9206635432680823, 0.9135384174930407, 0.88409829287515, 0.9046303292122181, 0.805170330210624, 0.907549263035289, 0.7675756738587173, 0.9053324943680703, 0.8720059756545379, 0.9096621001006209, 0.9032937805639574, 0.8996115810425597, 0.9027295052958386, 0.9181111310410943, 0.8938827711151603, 0.8721228363482758, 0.9047258258455759, 0.9056945171849329, 0.9082070832499015, 0.8877612754442857, 0.91099750597411, 0.9184433963037719, 0.5779507945888944, 0.9110528423856694, 0.9128183909604417, 0.9163782221692047, 0.9168177519735453, 0.8433492946758896, 0.9025319795167952, 0.9121579364067669, 0.9000904397106384, 0.9044364305652293, 0.8727167989771243, 0.9008889897603977, 0.9080048396271477, 0.9207092304670572, 0.9284451457108315, 0.9285623719556053]}, {\"categories\": [\"0\", \"1\", \"2\", \"3\", \"4\", \"5\", \"6\", \"7\", \"8\", \"9\", \"10\", \"11\", \"12\", \"13\", \"14\", \"15\", \"16\", \"17\", \"18\", \"19\", \"20\", \"21\", \"22\", \"23\", \"24\", \"25\", \"26\", \"27\", \"28\", \"29\", \"30\", \"31\", \"32\", \"33\", \"34\", \"35\", \"36\", \"37\", \"38\", \"39\", \"40\", \"41\", \"42\", \"44\", \"48\", \"49\"], \"mode\": \"lines\", \"name\": \"average_precision_score_weighted_max\", \"stepped\": true, \"type\": \"scatter\", \"data\": [0.8955370396295249, 0.9103506263314479, 0.911684293672357, 0.9230813500074042, 0.9259839517775429, 0.9259839517775429, 0.9259839517775429, 0.9259839517775429, 0.9259839517775429, 0.9259839517775429, 0.9259839517775429, 0.9259839517775429, 0.9259839517775429, 0.9259839517775429, 0.9259839517775429, 0.9259839517775429, 0.9259839517775429, 0.9259839517775429, 0.9259839517775429, 0.9259839517775429, 0.9259839517775429, 0.9259839517775429, 0.9259839517775429, 0.9259839517775429, 0.9259839517775429, 0.9259839517775429, 0.9259839517775429, 0.9259839517775429, 0.9259839517775429, 0.9259839517775429, 0.9259839517775429, 0.9259839517775429, 0.9259839517775429, 0.9259839517775429, 0.9259839517775429, 0.9259839517775429, 0.9259839517775429, 0.9259839517775429, 0.9259839517775429, 0.9259839517775429, 0.9259839517775429, 0.9259839517775429, 0.9259839517775429, 0.9259839517775429, 0.9284451457108315, 0.9285623719556053]}], \"matthews_correlation\": [{\"categories\": [\"0\", \"1\", \"2\", \"3\", \"4\", \"5\", \"6\", \"7\", \"8\", \"9\", \"10\", \"11\", \"12\", \"13\", \"14\", \"15\", \"16\", \"17\", \"18\", \"19\", \"20\", \"21\", \"22\", \"23\", \"24\", \"25\", \"26\", \"27\", \"28\", \"29\", \"30\", \"31\", \"32\", \"33\", \"34\", \"35\", \"36\", \"37\", \"38\", \"39\", \"40\", \"41\", \"42\", \"44\", \"48\", \"49\"], \"mode\": \"markers\", \"name\": \"matthews_correlation\", \"stepped\": false, \"type\": \"scatter\", \"data\": [0.5628617041183437, 0.6132552509330647, 0.5946733982275719, 0.6682987404220593, 0.6501970222242034, 0.24501572028029783, 0.5511720106801874, 0.5903431657959342, 0.621475417518661, 0.6067608163222095, 0.4752665892043478, 0.6162686798389891, 0.33157607760105906, 0.6604081807336983, 0.28855601859891594, 0.5603667203189979, 0.5428697166604373, 0.6270024461300338, 0.6458247338770258, 0.49057680543990106, 0.4971790607440004, 0.662057180297929, 0.5854109086153064, 0.5936306877352889, 0.5055706115419263, 0.5070470283079438, 0.666512259237383, 0.4666429933345001, 0.6412002670464352, 0.6171254620384838, 0.004780914437337575, 0.6188568685419138, 0.5731686693141919, 0.630378894663654, 0.6201786318092117, 0.0, 0.6732113789818335, 0.6132676485075687, 0.554960979415112, 0.6568903004948619, 0.5253330836018537, 0.6178231972574668, 0.6299139309053216, 0.6447397011260139, 0.7399054817037853, 0.7148505103895465]}, {\"categories\": [\"0\", \"1\", \"2\", \"3\", \"4\", \"5\", \"6\", \"7\", \"8\", \"9\", \"10\", \"11\", \"12\", \"13\", \"14\", \"15\", \"16\", \"17\", \"18\", \"19\", \"20\", \"21\", \"22\", \"23\", \"24\", \"25\", \"26\", \"27\", \"28\", \"29\", \"30\", \"31\", \"32\", \"33\", \"34\", \"35\", \"36\", \"37\", \"38\", \"39\", \"40\", \"41\", \"42\", \"44\", \"48\", \"49\"], \"mode\": \"lines\", \"name\": \"matthews_correlation_max\", \"stepped\": true, \"type\": \"scatter\", \"data\": [0.5628617041183437, 0.6132552509330647, 0.6132552509330647, 0.6682987404220593, 0.6682987404220593, 0.6682987404220593, 0.6682987404220593, 0.6682987404220593, 0.6682987404220593, 0.6682987404220593, 0.6682987404220593, 0.6682987404220593, 0.6682987404220593, 0.6682987404220593, 0.6682987404220593, 0.6682987404220593, 0.6682987404220593, 0.6682987404220593, 0.6682987404220593, 0.6682987404220593, 0.6682987404220593, 0.6682987404220593, 0.6682987404220593, 0.6682987404220593, 0.6682987404220593, 0.6682987404220593, 0.6682987404220593, 0.6682987404220593, 0.6682987404220593, 0.6682987404220593, 0.6682987404220593, 0.6682987404220593, 0.6682987404220593, 0.6682987404220593, 0.6682987404220593, 0.6682987404220593, 0.6732113789818335, 0.6732113789818335, 0.6732113789818335, 0.6732113789818335, 0.6732113789818335, 0.6732113789818335, 0.6732113789818335, 0.6732113789818335, 0.7399054817037853, 0.7399054817037853]}], \"recall_score_micro\": [{\"categories\": [\"0\", \"1\", \"2\", \"3\", \"4\", \"5\", \"6\", \"7\", \"8\", \"9\", \"10\", \"11\", \"12\", \"13\", \"14\", \"15\", \"16\", \"17\", \"18\", \"19\", \"20\", \"21\", \"22\", \"23\", \"24\", \"25\", \"26\", \"27\", \"28\", \"29\", \"30\", \"31\", \"32\", \"33\", \"34\", \"35\", \"36\", \"37\", \"38\", \"39\", \"40\", \"41\", \"42\", \"44\", \"48\", \"49\"], \"mode\": \"markers\", \"name\": \"recall_score_micro\", \"stepped\": false, \"type\": \"scatter\", \"data\": [0.8059887005649717, 0.8259322033898304, 0.8225988700564972, 0.8594350282485875, 0.8461581920903953, 0.70909604519774, 0.8028248587570623, 0.8160451977401131, 0.8326553672316385, 0.8259322033898305, 0.7792090395480227, 0.8261581920903955, 0.7157627118644069, 0.846271186440678, 0.7124293785310734, 0.8125423728813559, 0.8093785310734465, 0.836271186440678, 0.8428813559322034, 0.7793220338983051, 0.7828248587570622, 0.8528813559322034, 0.8194915254237287, 0.8262146892655368, 0.7859887005649718, 0.7758192090395479, 0.8528813559322034, 0.7725988700564972, 0.8426553672316384, 0.8325988700564972, 0.4842372881355933, 0.8328813559322035, 0.8161581920903955, 0.8361016949152542, 0.8361016949152542, 0.67909604519774, 0.8562146892655367, 0.8293220338983052, 0.8061016949152542, 0.8496045197740113, 0.7928248587570621, 0.836045197740113, 0.8359887005649718, 0.8427118644067797, 0.882994350282486, 0.8696610169491524]}, {\"categories\": [\"0\", \"1\", \"2\", \"3\", \"4\", \"5\", \"6\", \"7\", \"8\", \"9\", \"10\", \"11\", \"12\", \"13\", \"14\", \"15\", \"16\", \"17\", \"18\", \"19\", \"20\", \"21\", \"22\", \"23\", \"24\", \"25\", \"26\", \"27\", \"28\", \"29\", \"30\", \"31\", \"32\", \"33\", \"34\", \"35\", \"36\", \"37\", \"38\", \"39\", \"40\", \"41\", \"42\", \"44\", \"48\", \"49\"], \"mode\": \"lines\", \"name\": \"recall_score_micro_max\", \"stepped\": true, \"type\": \"scatter\", \"data\": [0.8059887005649717, 0.8259322033898304, 0.8259322033898304, 0.8594350282485875, 0.8594350282485875, 0.8594350282485875, 0.8594350282485875, 0.8594350282485875, 0.8594350282485875, 0.8594350282485875, 0.8594350282485875, 0.8594350282485875, 0.8594350282485875, 0.8594350282485875, 0.8594350282485875, 0.8594350282485875, 0.8594350282485875, 0.8594350282485875, 0.8594350282485875, 0.8594350282485875, 0.8594350282485875, 0.8594350282485875, 0.8594350282485875, 0.8594350282485875, 0.8594350282485875, 0.8594350282485875, 0.8594350282485875, 0.8594350282485875, 0.8594350282485875, 0.8594350282485875, 0.8594350282485875, 0.8594350282485875, 0.8594350282485875, 0.8594350282485875, 0.8594350282485875, 0.8594350282485875, 0.8594350282485875, 0.8594350282485875, 0.8594350282485875, 0.8594350282485875, 0.8594350282485875, 0.8594350282485875, 0.8594350282485875, 0.8594350282485875, 0.882994350282486, 0.882994350282486]}]}, \"metricName\": null, \"primaryMetricName\": \"accuracy\", \"showLegend\": false}, \"run_metrics\": [{\"name\": \"experiment_status\", \"run_id\": \"AutoML_d47dac20-ceff-4bc6-8635-4a0673dad3bc\", \"categories\": [0, 1, 2, 3, 4, 5, 6, 7, 8, 9, 10, 11, 12, 13], \"series\": [{\"data\": [\"DatasetEvaluation\", \"FeaturesGeneration\", \"DatasetFeaturization\", \"DatasetFeaturizationCompleted\", \"DatasetCrossValidationSplit\", \"ModelSelection\", \"BestRunExplainModel\", \"ModelExplanationDataSetSetup\", \"PickSurrogateModel\", \"EngineeredFeatureExplanations\", \"EngineeredFeatureExplanations\", \"RawFeaturesExplanations\", \"RawFeaturesExplanations\", \"BestRunExplainModel\"]}]}, {\"name\": \"experiment_status_description\", \"run_id\": \"AutoML_d47dac20-ceff-4bc6-8635-4a0673dad3bc\", \"categories\": [0, 1, 2, 3, 4, 5, 6, 7, 8, 9, 10, 11, 12, 13], \"series\": [{\"data\": [\"Gathering dataset statistics.\", \"Generating features for the dataset.\", \"Beginning to fit featurizers and featurize the dataset.\", \"Completed fit featurizers and featurizing the dataset.\", \"Generating individually featurized CV splits.\", \"Beginning model selection.\", \"Best run model explanations started\", \"Model explanations data setup completed\", \"Choosing LightGBM as the surrogate model for explanations\", \"Computation of engineered features started\", \"Computation of engineered features completed\", \"Computation of raw features started\", \"Computation of raw features completed\", \"Best run model explanations completed\"]}]}, {\"name\": \"AUC_micro\", \"run_id\": \"AutoML_d47dac20-ceff-4bc6-8635-4a0673dad3bc\", \"categories\": [0], \"series\": [{\"data\": [0.9203936767850873]}]}, {\"name\": \"recall_score_micro\", \"run_id\": \"AutoML_d47dac20-ceff-4bc6-8635-4a0673dad3bc\", \"categories\": [0], \"series\": [{\"data\": [0.882994350282486]}]}, {\"name\": \"recall_score_weighted\", \"run_id\": \"AutoML_d47dac20-ceff-4bc6-8635-4a0673dad3bc\", \"categories\": [0], \"series\": [{\"data\": [0.882994350282486]}]}, {\"name\": \"f1_score_micro\", \"run_id\": \"AutoML_d47dac20-ceff-4bc6-8635-4a0673dad3bc\", \"categories\": [0], \"series\": [{\"data\": [0.882994350282486]}]}, {\"name\": \"precision_score_weighted\", \"run_id\": \"AutoML_d47dac20-ceff-4bc6-8635-4a0673dad3bc\", \"categories\": [0], \"series\": [{\"data\": [0.8993850125842966]}]}, {\"name\": \"weighted_accuracy\", \"run_id\": \"AutoML_d47dac20-ceff-4bc6-8635-4a0673dad3bc\", \"categories\": [0], \"series\": [{\"data\": [0.9028878829357401]}]}, {\"name\": \"average_precision_score_macro\", \"run_id\": \"AutoML_d47dac20-ceff-4bc6-8635-4a0673dad3bc\", \"categories\": [0], \"series\": [{\"data\": [0.9038740695599777]}]}, {\"name\": \"average_precision_score_micro\", \"run_id\": \"AutoML_d47dac20-ceff-4bc6-8635-4a0673dad3bc\", \"categories\": [0], \"series\": [{\"data\": [0.9225894262484499]}]}, {\"name\": \"log_loss\", \"run_id\": \"AutoML_d47dac20-ceff-4bc6-8635-4a0673dad3bc\", \"categories\": [0], \"series\": [{\"data\": [0.36612847580299307]}]}, {\"name\": \"f1_score_weighted\", \"run_id\": \"AutoML_d47dac20-ceff-4bc6-8635-4a0673dad3bc\", \"categories\": [0], \"series\": [{\"data\": [0.8787729930147679]}]}, {\"name\": \"AUC_macro\", \"run_id\": \"AutoML_d47dac20-ceff-4bc6-8635-4a0673dad3bc\", \"categories\": [0], \"series\": [{\"data\": [0.9198838362864524]}]}, {\"name\": \"accuracy\", \"run_id\": \"AutoML_d47dac20-ceff-4bc6-8635-4a0673dad3bc\", \"categories\": [0], \"series\": [{\"data\": [0.882994350282486]}]}, {\"name\": \"norm_macro_recall\", \"run_id\": \"AutoML_d47dac20-ceff-4bc6-8635-4a0673dad3bc\", \"categories\": [0], \"series\": [{\"data\": [0.7063095238095238]}]}, {\"name\": \"recall_score_macro\", \"run_id\": \"AutoML_d47dac20-ceff-4bc6-8635-4a0673dad3bc\", \"categories\": [0], \"series\": [{\"data\": [0.8531547619047618]}]}, {\"name\": \"f1_score_macro\", \"run_id\": \"AutoML_d47dac20-ceff-4bc6-8635-4a0673dad3bc\", \"categories\": [0], \"series\": [{\"data\": [0.8570511305705459]}]}, {\"name\": \"AUC_weighted\", \"run_id\": \"AutoML_d47dac20-ceff-4bc6-8635-4a0673dad3bc\", \"categories\": [0], \"series\": [{\"data\": [0.9198838362864526]}]}, {\"name\": \"precision_score_micro\", \"run_id\": \"AutoML_d47dac20-ceff-4bc6-8635-4a0673dad3bc\", \"categories\": [0], \"series\": [{\"data\": [0.882994350282486]}]}, {\"name\": \"precision_score_macro\", \"run_id\": \"AutoML_d47dac20-ceff-4bc6-8635-4a0673dad3bc\", \"categories\": [0], \"series\": [{\"data\": [0.8902456058893078]}]}, {\"name\": \"matthews_correlation\", \"run_id\": \"AutoML_d47dac20-ceff-4bc6-8635-4a0673dad3bc\", \"categories\": [0], \"series\": [{\"data\": [0.7399054817037853]}]}, {\"name\": \"average_precision_score_weighted\", \"run_id\": \"AutoML_d47dac20-ceff-4bc6-8635-4a0673dad3bc\", \"categories\": [0], \"series\": [{\"data\": [0.9284451457108315]}]}, {\"name\": \"balanced_accuracy\", \"run_id\": \"AutoML_d47dac20-ceff-4bc6-8635-4a0673dad3bc\", \"categories\": [0], \"series\": [{\"data\": [0.8531547619047618]}]}], \"run_logs\": \"\\nRun is completed.\", \"graph\": {}, \"widget_settings\": {\"childWidgetDisplay\": \"popup\", \"send_telemetry\": false, \"log_level\": \"INFO\", \"sdk_version\": \"1.20.0\"}, \"loading\": false}"
          },
          "metadata": {}
        },
        {
          "output_type": "stream",
          "name": "stdout",
          "text": [
            "\n",
            "\n",
            "****************************************************************************************************\n",
            "DATA GUARDRAILS: \n",
            "\n",
            "TYPE:         Class balancing detection\n",
            "STATUS:       PASSED\n",
            "DESCRIPTION:  Your inputs were analyzed, and all classes are balanced in your training data.\n",
            "              Learn more about imbalanced data: https://aka.ms/AutomatedMLImbalancedData\n",
            "\n",
            "****************************************************************************************************\n",
            "\n",
            "TYPE:         Missing feature values imputation\n",
            "STATUS:       PASSED\n",
            "DESCRIPTION:  No feature missing values were detected in the training data.\n",
            "              Learn more about missing value imputation: https://aka.ms/AutomatedMLFeaturization\n",
            "\n",
            "****************************************************************************************************\n",
            "\n",
            "TYPE:         High cardinality feature detection\n",
            "STATUS:       PASSED\n",
            "DESCRIPTION:  Your inputs were analyzed, and no high cardinality features were detected.\n",
            "              Learn more about high cardinality feature handling: https://aka.ms/AutomatedMLFeaturization\n",
            "\n",
            "****************************************************************************************************\n",
            "\n",
            "****************************************************************************************************\n",
            "ITERATION: The iteration being evaluated.\n",
            "PIPELINE: A summary description of the pipeline being evaluated.\n",
            "DURATION: Time taken for the current iteration.\n",
            "METRIC: The result of computing score on the fitted pipeline.\n",
            "BEST: The best observed score thus far.\n",
            "****************************************************************************************************\n",
            "\n",
            " ITERATION   PIPELINE                                       DURATION      METRIC      BEST\n",
            "         0   MaxAbsScaler LightGBM                          0:00:52       0.8060    0.8060\n",
            "         1   MaxAbsScaler XGBoostClassifier                 0:00:52       0.8259    0.8259\n",
            "         2   MinMaxScaler RandomForest                      0:00:56       0.8226    0.8259\n",
            "         3   MinMaxScaler RandomForest                      0:01:10       0.8594    0.8594\n",
            "         4   MinMaxScaler RandomForest                      0:00:50       0.8462    0.8594\n",
            "         5   RobustScaler KNN                               0:00:48       0.7091    0.8594\n",
            "         6   StandardScalerWrapper XGBoostClassifier        0:01:05       0.8028    0.8594\n",
            "         7   StandardScalerWrapper LogisticRegression       0:00:50       0.8160    0.8594\n",
            "         8   StandardScalerWrapper XGBoostClassifier        0:01:11       0.8327    0.8594\n",
            "         9   StandardScalerWrapper LightGBM                 0:00:59       0.8259    0.8594\n",
            "        10   SparseNormalizer XGBoostClassifier             0:01:29       0.7792    0.8594\n",
            "        11   SparseNormalizer XGBoostClassifier             0:00:51       0.8262    0.8594\n",
            "        12   RobustScaler SVM                               0:01:25       0.7158    0.8594\n",
            "        13   SparseNormalizer XGBoostClassifier             0:00:53       0.8463    0.8594\n",
            "        14   MinMaxScaler SVM                               0:00:45       0.7124    0.8594\n",
            "        15   StandardScalerWrapper XGBoostClassifier        0:00:43       0.8125    0.8594\n",
            "        16   SparseNormalizer XGBoostClassifier             0:00:49       0.8094    0.8594\n",
            "        17   SparseNormalizer XGBoostClassifier             0:00:48       0.8363    0.8594\n",
            "        18   StandardScalerWrapper ExtremeRandomTrees       0:00:45       0.8429    0.8594\n",
            "        19   MinMaxScaler LightGBM                          0:00:46       0.7793    0.8594\n",
            "        20   RobustScaler LightGBM                          0:00:44       0.7828    0.8594\n",
            "        21   MaxAbsScaler ExtremeRandomTrees                0:00:49       0.8529    0.8594\n",
            "        22   SparseNormalizer XGBoostClassifier             0:00:49       0.8195    0.8594\n",
            "        23   SparseNormalizer XGBoostClassifier             0:00:54       0.8262    0.8594\n",
            "        24   StandardScalerWrapper LightGBM                 0:00:47       0.7860    0.8594\n",
            "        25   MinMaxScaler RandomForest                      0:00:54       0.7758    0.8594\n",
            "        26   SparseNormalizer XGBoostClassifier             0:00:53       0.8529    0.8594\n",
            "        27   StandardScalerWrapper LightGBM                 0:00:48       0.7726    0.8594\n",
            "        28   StandardScalerWrapper XGBoostClassifier        0:00:47       0.8427    0.8594\n",
            "        29   StandardScalerWrapper LightGBM                 0:00:45       0.8326    0.8594\n",
            "        30   StandardScalerWrapper RandomForest             0:00:53       0.4842    0.8594\n",
            "        31   StandardScalerWrapper ExtremeRandomTrees       0:00:57       0.8329    0.8594\n",
            "        32   MinMaxScaler LightGBM                          0:00:49       0.8162    0.8594\n",
            "        33   MinMaxScaler LightGBM                          0:00:51       0.8361    0.8594\n",
            "        34   MinMaxScaler RandomForest                      0:00:54       0.8361    0.8594\n",
            "        35   StandardScalerWrapper RandomForest             0:00:52       0.6791    0.8594\n",
            "        36   SparseNormalizer LightGBM                      0:01:07       0.8562    0.8594\n",
            "        37   MaxAbsScaler LightGBM                          0:00:49       0.8293    0.8594\n",
            "        38   SparseNormalizer LightGBM                      0:00:51       0.8061    0.8594\n",
            "        39   SparseNormalizer XGBoostClassifier             0:00:48       0.8496    0.8594\n",
            "        40   SparseNormalizer RandomForest                  0:00:46       0.7928    0.8594\n",
            "        41   StandardScalerWrapper LightGBM                 0:00:41       0.8360    0.8594\n",
            "        42   StandardScalerWrapper LightGBM                 0:00:36       0.8360    0.8594\n",
            "        43   SparseNormalizer XGBoostClassifier             0:00:27          nan    0.8594\n",
            "        44   MaxAbsScaler LightGBM                          0:00:27       0.8427    0.8594\n",
            "        45                                                  0:00:11          nan    0.8594\n",
            "        46                                                  0:00:24          nan    0.8594\n",
            "        47                                                  0:00:18          nan    0.8594\n",
            "        48    VotingEnsemble                                0:01:43       0.8830    0.8830\n",
            "        49    StackEnsemble                                 0:01:40       0.8697    0.8830\n"
          ]
        },
        {
          "output_type": "execute_result",
          "execution_count": 6,
          "data": {
            "text/plain": "{'runId': 'AutoML_d47dac20-ceff-4bc6-8635-4a0673dad3bc',\n 'target': 'aml',\n 'status': 'Completed',\n 'startTimeUtc': '2021-02-04T00:21:58.271044Z',\n 'endTimeUtc': '2021-02-04T00:34:11.227673Z',\n 'properties': {'num_iterations': '1000',\n  'training_type': 'TrainFull',\n  'acquisition_function': 'EI',\n  'primary_metric': 'accuracy',\n  'train_split': '0',\n  'acquisition_parameter': '0',\n  'num_cross_validation': '5',\n  'target': 'aml',\n  'AMLSettingsJsonString': '{\"path\":null,\"name\":\"automl_run\",\"subscription_id\":\"5a4ab2ba-6c51-4805-8155-58759ad589d8\",\"resource_group\":\"aml-quickstarts-137154\",\"workspace_name\":\"quick-starts-ws-137154\",\"region\":\"southcentralus\",\"compute_target\":\"aml\",\"spark_service\":null,\"azure_service\":\"remote\",\"many_models\":false,\"pipeline_fetch_max_batch_size\":1,\"iterations\":1000,\"primary_metric\":\"accuracy\",\"task_type\":\"classification\",\"data_script\":null,\"validation_size\":0.0,\"n_cross_validations\":5,\"y_min\":null,\"y_max\":null,\"num_classes\":null,\"featurization\":\"auto\",\"_ignore_package_version_incompatibilities\":false,\"is_timeseries\":false,\"max_cores_per_iteration\":1,\"max_concurrent_iterations\":10,\"iteration_timeout_minutes\":null,\"mem_in_mb\":null,\"enforce_time_on_windows\":false,\"experiment_timeout_minutes\":15,\"experiment_exit_score\":null,\"whitelist_models\":null,\"blacklist_algos\":[\"TensorFlowLinearClassifier\",\"TensorFlowDNN\"],\"supported_models\":[\"XGBoostClassifier\",\"AveragedPerceptronClassifier\",\"ExtremeRandomTrees\",\"DecisionTree\",\"SVM\",\"KNN\",\"MultinomialNaiveBayes\",\"LinearSVM\",\"BernoulliNaiveBayes\",\"TensorFlowDNN\",\"LogisticRegression\",\"LightGBM\",\"GradientBoosting\",\"RandomForest\",\"TensorFlowLinearClassifier\",\"SGD\"],\"auto_blacklist\":true,\"blacklist_samples_reached\":false,\"exclude_nan_labels\":true,\"verbosity\":20,\"_debug_log\":\"azureml_automl.log\",\"show_warnings\":false,\"model_explainability\":true,\"service_url\":null,\"sdk_url\":null,\"sdk_packages\":null,\"enable_onnx_compatible_models\":false,\"enable_split_onnx_featurizer_estimator_models\":false,\"vm_type\":\"STANDARD_DS3_V2\",\"telemetry_verbosity\":20,\"send_telemetry\":true,\"enable_dnn\":false,\"scenario\":\"SDK-1.13.0\",\"environment_label\":null,\"force_text_dnn\":false,\"enable_feature_sweeping\":true,\"enable_early_stopping\":true,\"early_stopping_n_iters\":10,\"metrics\":null,\"enable_ensembling\":true,\"enable_stack_ensembling\":true,\"ensemble_iterations\":15,\"enable_tf\":false,\"enable_subsampling\":null,\"subsample_seed\":null,\"enable_nimbusml\":false,\"enable_streaming\":false,\"force_streaming\":false,\"track_child_runs\":true,\"allowed_private_models\":[],\"label_column_name\":\"DEATH_EVENT\",\"weight_column_name\":null,\"cv_split_column_names\":null,\"enable_local_managed\":false,\"_local_managed_run_id\":null,\"cost_mode\":1,\"lag_length\":0,\"metric_operation\":\"maximize\",\"preprocess\":true}',\n  'DataPrepJsonString': '{\\\\\"training_data\\\\\": \\\\\"{\\\\\\\\\\\\\"blocks\\\\\\\\\\\\\": [{\\\\\\\\\\\\\"id\\\\\\\\\\\\\": \\\\\\\\\\\\\"072d7a44-28f1-439b-b6d9-a36b9747b6bf\\\\\\\\\\\\\", \\\\\\\\\\\\\"type\\\\\\\\\\\\\": \\\\\\\\\\\\\"Microsoft.DPrep.GetFilesBlock\\\\\\\\\\\\\", \\\\\\\\\\\\\"arguments\\\\\\\\\\\\\": {\\\\\\\\\\\\\"isArchive\\\\\\\\\\\\\": false, \\\\\\\\\\\\\"path\\\\\\\\\\\\\": {\\\\\\\\\\\\\"target\\\\\\\\\\\\\": 4, \\\\\\\\\\\\\"resourceDetails\\\\\\\\\\\\\": [{\\\\\\\\\\\\\"path\\\\\\\\\\\\\": \\\\\\\\\\\\\"https://raw.githubusercontent.com/shat700/nd00333-capstone/master/starter_file/heart_failure_clinical_records_dataset.csv\\\\\\\\\\\\\"}]}}, \\\\\\\\\\\\\"localData\\\\\\\\\\\\\": {}, \\\\\\\\\\\\\"isEnabled\\\\\\\\\\\\\": true, \\\\\\\\\\\\\"name\\\\\\\\\\\\\": null, \\\\\\\\\\\\\"annotation\\\\\\\\\\\\\": null}, {\\\\\\\\\\\\\"id\\\\\\\\\\\\\": \\\\\\\\\\\\\"ca84e7cc-9b9a-4c5b-b52c-c07c1fe76820\\\\\\\\\\\\\", \\\\\\\\\\\\\"type\\\\\\\\\\\\\": \\\\\\\\\\\\\"Microsoft.DPrep.ParseDelimitedBlock\\\\\\\\\\\\\", \\\\\\\\\\\\\"arguments\\\\\\\\\\\\\": {\\\\\\\\\\\\\"columnHeadersMode\\\\\\\\\\\\\": 3, \\\\\\\\\\\\\"fileEncoding\\\\\\\\\\\\\": 0, \\\\\\\\\\\\\"handleQuotedLineBreaks\\\\\\\\\\\\\": false, \\\\\\\\\\\\\"preview\\\\\\\\\\\\\": false, \\\\\\\\\\\\\"separator\\\\\\\\\\\\\": \\\\\\\\\\\\\",\\\\\\\\\\\\\", \\\\\\\\\\\\\"skipRows\\\\\\\\\\\\\": 0, \\\\\\\\\\\\\"skipRowsMode\\\\\\\\\\\\\": 0}, \\\\\\\\\\\\\"localData\\\\\\\\\\\\\": {}, \\\\\\\\\\\\\"isEnabled\\\\\\\\\\\\\": true, \\\\\\\\\\\\\"name\\\\\\\\\\\\\": null, \\\\\\\\\\\\\"annotation\\\\\\\\\\\\\": null}, {\\\\\\\\\\\\\"id\\\\\\\\\\\\\": \\\\\\\\\\\\\"63b2d4fd-6699-4e36-ae6f-fbab4a5f23b2\\\\\\\\\\\\\", \\\\\\\\\\\\\"type\\\\\\\\\\\\\": \\\\\\\\\\\\\"Microsoft.DPrep.DropColumnsBlock\\\\\\\\\\\\\", \\\\\\\\\\\\\"arguments\\\\\\\\\\\\\": {\\\\\\\\\\\\\"columns\\\\\\\\\\\\\": {\\\\\\\\\\\\\"type\\\\\\\\\\\\\": 0, \\\\\\\\\\\\\"details\\\\\\\\\\\\\": {\\\\\\\\\\\\\"selectedColumns\\\\\\\\\\\\\": [\\\\\\\\\\\\\"Path\\\\\\\\\\\\\"]}}}, \\\\\\\\\\\\\"localData\\\\\\\\\\\\\": {}, \\\\\\\\\\\\\"isEnabled\\\\\\\\\\\\\": true, \\\\\\\\\\\\\"name\\\\\\\\\\\\\": null, \\\\\\\\\\\\\"annotation\\\\\\\\\\\\\": null}, {\\\\\\\\\\\\\"id\\\\\\\\\\\\\": \\\\\\\\\\\\\"22420408-9360-4cff-ae6a-e63076284baf\\\\\\\\\\\\\", \\\\\\\\\\\\\"type\\\\\\\\\\\\\": \\\\\\\\\\\\\"Microsoft.DPrep.SetColumnTypesBlock\\\\\\\\\\\\\", \\\\\\\\\\\\\"arguments\\\\\\\\\\\\\": {\\\\\\\\\\\\\"columnConversion\\\\\\\\\\\\\": [{\\\\\\\\\\\\\"column\\\\\\\\\\\\\": {\\\\\\\\\\\\\"type\\\\\\\\\\\\\": 2, \\\\\\\\\\\\\"details\\\\\\\\\\\\\": {\\\\\\\\\\\\\"selectedColumn\\\\\\\\\\\\\": \\\\\\\\\\\\\"age\\\\\\\\\\\\\"}}, \\\\\\\\\\\\\"typeProperty\\\\\\\\\\\\\": 3}, {\\\\\\\\\\\\\"column\\\\\\\\\\\\\": {\\\\\\\\\\\\\"type\\\\\\\\\\\\\": 2, \\\\\\\\\\\\\"details\\\\\\\\\\\\\": {\\\\\\\\\\\\\"selectedColumn\\\\\\\\\\\\\": \\\\\\\\\\\\\"anaemia\\\\\\\\\\\\\"}}, \\\\\\\\\\\\\"typeProperty\\\\\\\\\\\\\": 2}, {\\\\\\\\\\\\\"column\\\\\\\\\\\\\": {\\\\\\\\\\\\\"type\\\\\\\\\\\\\": 2, \\\\\\\\\\\\\"details\\\\\\\\\\\\\": {\\\\\\\\\\\\\"selectedColumn\\\\\\\\\\\\\": \\\\\\\\\\\\\"creatinine_phosphokinase\\\\\\\\\\\\\"}}, \\\\\\\\\\\\\"typeProperty\\\\\\\\\\\\\": 2}, {\\\\\\\\\\\\\"column\\\\\\\\\\\\\": {\\\\\\\\\\\\\"type\\\\\\\\\\\\\": 2, \\\\\\\\\\\\\"details\\\\\\\\\\\\\": {\\\\\\\\\\\\\"selectedColumn\\\\\\\\\\\\\": \\\\\\\\\\\\\"diabetes\\\\\\\\\\\\\"}}, \\\\\\\\\\\\\"typeProperty\\\\\\\\\\\\\": 2}, {\\\\\\\\\\\\\"column\\\\\\\\\\\\\": {\\\\\\\\\\\\\"type\\\\\\\\\\\\\": 2, \\\\\\\\\\\\\"details\\\\\\\\\\\\\": {\\\\\\\\\\\\\"selectedColumn\\\\\\\\\\\\\": \\\\\\\\\\\\\"ejection_fraction\\\\\\\\\\\\\"}}, \\\\\\\\\\\\\"typeProperty\\\\\\\\\\\\\": 2}, {\\\\\\\\\\\\\"column\\\\\\\\\\\\\": {\\\\\\\\\\\\\"type\\\\\\\\\\\\\": 2, \\\\\\\\\\\\\"details\\\\\\\\\\\\\": {\\\\\\\\\\\\\"selectedColumn\\\\\\\\\\\\\": \\\\\\\\\\\\\"high_blood_pressure\\\\\\\\\\\\\"}}, \\\\\\\\\\\\\"typeProperty\\\\\\\\\\\\\": 2}, {\\\\\\\\\\\\\"column\\\\\\\\\\\\\": {\\\\\\\\\\\\\"type\\\\\\\\\\\\\": 2, \\\\\\\\\\\\\"details\\\\\\\\\\\\\": {\\\\\\\\\\\\\"selectedColumn\\\\\\\\\\\\\": \\\\\\\\\\\\\"platelets\\\\\\\\\\\\\"}}, \\\\\\\\\\\\\"typeProperty\\\\\\\\\\\\\": 3}, {\\\\\\\\\\\\\"column\\\\\\\\\\\\\": {\\\\\\\\\\\\\"type\\\\\\\\\\\\\": 2, \\\\\\\\\\\\\"details\\\\\\\\\\\\\": {\\\\\\\\\\\\\"selectedColumn\\\\\\\\\\\\\": \\\\\\\\\\\\\"serum_creatinine\\\\\\\\\\\\\"}}, \\\\\\\\\\\\\"typeProperty\\\\\\\\\\\\\": 3}, {\\\\\\\\\\\\\"column\\\\\\\\\\\\\": {\\\\\\\\\\\\\"type\\\\\\\\\\\\\": 2, \\\\\\\\\\\\\"details\\\\\\\\\\\\\": {\\\\\\\\\\\\\"selectedColumn\\\\\\\\\\\\\": \\\\\\\\\\\\\"serum_sodium\\\\\\\\\\\\\"}}, \\\\\\\\\\\\\"typeProperty\\\\\\\\\\\\\": 2}, {\\\\\\\\\\\\\"column\\\\\\\\\\\\\": {\\\\\\\\\\\\\"type\\\\\\\\\\\\\": 2, \\\\\\\\\\\\\"details\\\\\\\\\\\\\": {\\\\\\\\\\\\\"selectedColumn\\\\\\\\\\\\\": \\\\\\\\\\\\\"sex\\\\\\\\\\\\\"}}, \\\\\\\\\\\\\"typeProperty\\\\\\\\\\\\\": 2}, {\\\\\\\\\\\\\"column\\\\\\\\\\\\\": {\\\\\\\\\\\\\"type\\\\\\\\\\\\\": 2, \\\\\\\\\\\\\"details\\\\\\\\\\\\\": {\\\\\\\\\\\\\"selectedColumn\\\\\\\\\\\\\": \\\\\\\\\\\\\"smoking\\\\\\\\\\\\\"}}, \\\\\\\\\\\\\"typeProperty\\\\\\\\\\\\\": 2}, {\\\\\\\\\\\\\"column\\\\\\\\\\\\\": {\\\\\\\\\\\\\"type\\\\\\\\\\\\\": 2, \\\\\\\\\\\\\"details\\\\\\\\\\\\\": {\\\\\\\\\\\\\"selectedColumn\\\\\\\\\\\\\": \\\\\\\\\\\\\"time\\\\\\\\\\\\\"}}, \\\\\\\\\\\\\"typeProperty\\\\\\\\\\\\\": 2}, {\\\\\\\\\\\\\"column\\\\\\\\\\\\\": {\\\\\\\\\\\\\"type\\\\\\\\\\\\\": 2, \\\\\\\\\\\\\"details\\\\\\\\\\\\\": {\\\\\\\\\\\\\"selectedColumn\\\\\\\\\\\\\": \\\\\\\\\\\\\"DEATH_EVENT\\\\\\\\\\\\\"}}, \\\\\\\\\\\\\"typeProperty\\\\\\\\\\\\\": 2}]}, \\\\\\\\\\\\\"localData\\\\\\\\\\\\\": {}, \\\\\\\\\\\\\"isEnabled\\\\\\\\\\\\\": true, \\\\\\\\\\\\\"name\\\\\\\\\\\\\": null, \\\\\\\\\\\\\"annotation\\\\\\\\\\\\\": null}], \\\\\\\\\\\\\"inspectors\\\\\\\\\\\\\": [], \\\\\\\\\\\\\"meta\\\\\\\\\\\\\": {\\\\\\\\\\\\\"savedDatasetId\\\\\\\\\\\\\": \\\\\\\\\\\\\"c5f83e25-002e-412b-a193-34fbda3e86fe\\\\\\\\\\\\\", \\\\\\\\\\\\\"datasetType\\\\\\\\\\\\\": \\\\\\\\\\\\\"tabular\\\\\\\\\\\\\", \\\\\\\\\\\\\"subscriptionId\\\\\\\\\\\\\": \\\\\\\\\\\\\"5a4ab2ba-6c51-4805-8155-58759ad589d8\\\\\\\\\\\\\", \\\\\\\\\\\\\"workspaceId\\\\\\\\\\\\\": \\\\\\\\\\\\\"4bbd21a9-5275-4d6a-802c-4a80881fa22e\\\\\\\\\\\\\", \\\\\\\\\\\\\"workspaceLocation\\\\\\\\\\\\\": \\\\\\\\\\\\\"southcentralus\\\\\\\\\\\\\"}}\\\\\", \\\\\"activities\\\\\": 0}',\n  'EnableSubsampling': None,\n  'runTemplate': 'AutoML',\n  'azureml.runsource': 'automl',\n  'display_task_type': 'classification',\n  'dependencies_versions': '{\"azureml-widgets\": \"1.20.0\", \"azureml-train\": \"1.20.0\", \"azureml-train-restclients-hyperdrive\": \"1.20.0\", \"azureml-train-core\": \"1.20.0\", \"azureml-train-automl\": \"1.20.0\", \"azureml-train-automl-runtime\": \"1.20.0\", \"azureml-train-automl-client\": \"1.20.0\", \"azureml-tensorboard\": \"1.20.0\", \"azureml-telemetry\": \"1.20.0\", \"azureml-sdk\": \"1.20.0\", \"azureml-samples\": \"0+unknown\", \"azureml-pipeline\": \"1.20.0\", \"azureml-pipeline-steps\": \"1.20.0\", \"azureml-pipeline-core\": \"1.20.0\", \"azureml-opendatasets\": \"1.20.0\", \"azureml-model-management-sdk\": \"1.0.1b6.post1\", \"azureml-mlflow\": \"1.20.0.post1\", \"azureml-interpret\": \"1.20.0\", \"azureml-explain-model\": \"1.20.0\", \"azureml-defaults\": \"1.20.0\", \"azureml-dataset-runtime\": \"1.20.0\", \"azureml-dataprep\": \"2.7.3\", \"azureml-dataprep-rslex\": \"1.5.0\", \"azureml-dataprep-native\": \"27.0.0\", \"azureml-datadrift\": \"1.20.0\", \"azureml-core\": \"1.20.0\", \"azureml-contrib-services\": \"1.20.0\", \"azureml-contrib-server\": \"1.20.0\", \"azureml-contrib-reinforcementlearning\": \"1.20.0\", \"azureml-contrib-pipeline-steps\": \"1.20.0\", \"azureml-contrib-notebook\": \"1.20.0\", \"azureml-contrib-interpret\": \"1.20.0\", \"azureml-contrib-gbdt\": \"1.20.0\", \"azureml-contrib-fairness\": \"1.20.0\", \"azureml-contrib-dataset\": \"1.20.0\", \"azureml-cli-common\": \"1.20.0\", \"azureml-automl-runtime\": \"1.20.0\", \"azureml-automl-core\": \"1.20.0\", \"azureml-accel-models\": \"1.20.0\"}',\n  '_aml_system_scenario_identification': 'Remote.Parent',\n  'ClientType': 'SDK',\n  'environment_cpu_name': 'AzureML-AutoML',\n  'environment_cpu_label': 'prod',\n  'environment_gpu_name': 'AzureML-AutoML-GPU',\n  'environment_gpu_label': 'prod',\n  'root_attribution': 'automl',\n  'attribution': 'AutoML',\n  'Orchestrator': 'AutoML',\n  'CancelUri': 'https://southcentralus.experiments.azureml.net/jasmine/v1.0/subscriptions/5a4ab2ba-6c51-4805-8155-58759ad589d8/resourceGroups/aml-quickstarts-137154/providers/Microsoft.MachineLearningServices/workspaces/quick-starts-ws-137154/experimentids/c0f3796a-7f38-4a4d-b20f-c8f5c311f0c8/cancel/AutoML_d47dac20-ceff-4bc6-8635-4a0673dad3bc',\n  'ClientSdkVersion': '1.21.0',\n  'snapshotId': '00000000-0000-0000-0000-000000000000',\n  'SetupRunId': 'AutoML_d47dac20-ceff-4bc6-8635-4a0673dad3bc_setup',\n  'SetupRunContainerId': 'dcid.AutoML_d47dac20-ceff-4bc6-8635-4a0673dad3bc_setup',\n  'FeaturizationRunJsonPath': 'featurizer_container.json',\n  'FeaturizationRunId': 'AutoML_d47dac20-ceff-4bc6-8635-4a0673dad3bc_featurize',\n  'ProblemInfoJsonString': '{\"dataset_num_categorical\": 0, \"is_sparse\": false, \"subsampling\": false, \"dataset_classes\": 2, \"dataset_features\": 12, \"dataset_samples\": 299, \"single_frequency_class_detected\": false}',\n  'ModelExplainRunId': 'AutoML_d47dac20-ceff-4bc6-8635-4a0673dad3bc_ModelExplain'},\n 'inputDatasets': [{'dataset': {'id': 'c5f83e25-002e-412b-a193-34fbda3e86fe'}, 'consumptionDetails': {'type': 'RunInput', 'inputName': 'training_data', 'mechanism': 'Direct'}}],\n 'outputDatasets': [],\n 'logFiles': {},\n 'submittedBy': 'ODL_User 137154'}"
          },
          "metadata": {}
        }
      ],
      "execution_count": 6,
      "metadata": {
        "gather": {
          "logged": 1612399136872
        },
        "jupyter": {
          "outputs_hidden": false,
          "source_hidden": false
        },
        "nteract": {
          "transient": {
            "deleting": false
          }
        }
      }
    },
    {
      "cell_type": "markdown",
      "source": [
        "## Best Model\n",
        "\n",
        "TODO: In the cell below, get the best model from the automl experiments and display all the properties of the model.\n",
        "\n"
      ],
      "metadata": {}
    },
    {
      "cell_type": "code",
      "source": [
        "# Retrieve and save your best automl model.\r\n",
        "best_remote_run,best_automl_model=remote_run.get_output()\r\n",
        "best_run_metrics=remote_run.get_metrics()\r\n",
        "for primary_metric in best_run_metrics:\r\n",
        "    metric=best_run_metrics[primary_metric]\r\n",
        "    print(primary_metric,metric)\r\n"
      ],
      "outputs": [
        {
          "output_type": "stream",
          "name": "stderr",
          "text": [
            "WARNING:root:The version of the SDK does not match the version the model was trained on.\n",
            "WARNING:root:The consistency in the result may not be guaranteed.\n",
            "WARNING:root:Package:azureml-automl-core, training version:1.21.0, current version:1.20.0\n",
            "Package:azureml-automl-runtime, training version:1.21.0, current version:1.20.0\n",
            "Package:azureml-core, training version:1.21.0.post1, current version:1.20.0\n",
            "Package:azureml-dataprep, training version:2.8.2, current version:2.7.3\n",
            "Package:azureml-dataprep-native, training version:28.0.0, current version:27.0.0\n",
            "Package:azureml-dataprep-rslex, training version:1.6.0, current version:1.5.0\n",
            "Package:azureml-dataset-runtime, training version:1.21.0, current version:1.20.0\n",
            "Package:azureml-defaults, training version:1.21.0, current version:1.20.0\n",
            "Package:azureml-interpret, training version:1.21.0, current version:1.20.0\n",
            "Package:azureml-pipeline-core, training version:1.21.0, current version:1.20.0\n",
            "Package:azureml-telemetry, training version:1.21.0, current version:1.20.0\n",
            "Package:azureml-train-automl-client, training version:1.21.0, current version:1.20.0\n",
            "Package:azureml-train-automl-runtime, training version:1.21.0, current version:1.20.0\n",
            "WARNING:root:Please ensure the version of your local conda dependencies match the version on which your model was trained in order to properly retrieve your model.\n"
          ]
        },
        {
          "output_type": "stream",
          "name": "stdout",
          "text": [
            "experiment_status ['DatasetEvaluation', 'FeaturesGeneration', 'DatasetFeaturization', 'DatasetFeaturizationCompleted', 'DatasetCrossValidationSplit', 'ModelSelection']\n",
            "experiment_status_description ['Gathering dataset statistics.', 'Generating features for the dataset.', 'Beginning to fit featurizers and featurize the dataset.', 'Completed fit featurizers and featurizing the dataset.', 'Generating individually featurized CV splits.', 'Beginning model selection.']\n",
            "AUC_micro 0.9203936767850873\n",
            "recall_score_micro 0.882994350282486\n",
            "recall_score_weighted 0.882994350282486\n",
            "f1_score_micro 0.882994350282486\n",
            "precision_score_weighted 0.8993850125842966\n",
            "weighted_accuracy 0.9028878829357401\n",
            "average_precision_score_macro 0.9038740695599777\n",
            "average_precision_score_micro 0.9225894262484499\n",
            "log_loss 0.36612847580299307\n",
            "f1_score_weighted 0.8787729930147679\n",
            "AUC_macro 0.9198838362864524\n",
            "accuracy 0.882994350282486\n",
            "norm_macro_recall 0.7063095238095238\n",
            "recall_score_macro 0.8531547619047618\n",
            "f1_score_macro 0.8570511305705459\n",
            "AUC_weighted 0.9198838362864526\n",
            "precision_score_micro 0.882994350282486\n",
            "precision_score_macro 0.8902456058893078\n",
            "matthews_correlation 0.7399054817037853\n",
            "average_precision_score_weighted 0.9284451457108315\n",
            "balanced_accuracy 0.8531547619047618\n"
          ]
        }
      ],
      "execution_count": 7,
      "metadata": {
        "gather": {
          "logged": 1612399216123
        },
        "jupyter": {
          "outputs_hidden": false,
          "source_hidden": false
        },
        "nteract": {
          "transient": {
            "deleting": false
          }
        }
      }
    },
    {
      "cell_type": "code",
      "source": [
        "print(best_remote_run)\r\n",
        "best_remote_run"
      ],
      "outputs": [
        {
          "output_type": "stream",
          "name": "stdout",
          "text": [
            "Run(Experiment: automl_run,\n",
            "Id: AutoML_d47dac20-ceff-4bc6-8635-4a0673dad3bc_48,\n",
            "Type: azureml.scriptrun,\n",
            "Status: Completed)\n"
          ]
        },
        {
          "output_type": "execute_result",
          "execution_count": 8,
          "data": {
            "text/plain": "Run(Experiment: automl_run,\nId: AutoML_d47dac20-ceff-4bc6-8635-4a0673dad3bc_48,\nType: azureml.scriptrun,\nStatus: Completed)",
            "text/html": "<table style=\"width:100%\"><tr><th>Experiment</th><th>Id</th><th>Type</th><th>Status</th><th>Details Page</th><th>Docs Page</th></tr><tr><td>automl_run</td><td>AutoML_d47dac20-ceff-4bc6-8635-4a0673dad3bc_48</td><td>azureml.scriptrun</td><td>Completed</td><td><a href=\"https://ml.azure.com/experiments/automl_run/runs/AutoML_d47dac20-ceff-4bc6-8635-4a0673dad3bc_48?wsid=/subscriptions/5a4ab2ba-6c51-4805-8155-58759ad589d8/resourcegroups/aml-quickstarts-137154/workspaces/quick-starts-ws-137154\" target=\"_blank\" rel=\"noopener\">Link to Azure Machine Learning studio</a></td><td><a href=\"https://docs.microsoft.com/en-us/python/api/azureml-core/azureml.core.run.Run?view=azure-ml-py\" target=\"_blank\" rel=\"noopener\">Link to Documentation</a></td></tr></table>"
          },
          "metadata": {}
        }
      ],
      "execution_count": 8,
      "metadata": {
        "collapsed": true,
        "jupyter": {
          "source_hidden": false,
          "outputs_hidden": false
        },
        "nteract": {
          "transient": {
            "deleting": false
          }
        },
        "gather": {
          "logged": 1612399276496
        }
      }
    },
    {
      "cell_type": "code",
      "source": [
        "#TODO: Save the best model\r\n",
        "import pickle\r\n",
        "best_remote_run,best_automl_model=remote_run.get_output()\r\n",
        "#joblib.dump(value=best_automl_model,filename='automl_model.joblib')\r\n",
        "pkl_filename = \"automl_model.pkl\"\r\n",
        "with open(pkl_filename,'wb') as f:\r\n",
        "    pickle.dump(best_automl_model,f)"
      ],
      "outputs": [
        {
          "output_type": "stream",
          "name": "stderr",
          "text": [
            "WARNING:root:The version of the SDK does not match the version the model was trained on.\n",
            "WARNING:root:The consistency in the result may not be guaranteed.\n",
            "WARNING:root:Package:azureml-automl-core, training version:1.21.0, current version:1.20.0\n",
            "Package:azureml-automl-runtime, training version:1.21.0, current version:1.20.0\n",
            "Package:azureml-core, training version:1.21.0.post1, current version:1.20.0\n",
            "Package:azureml-dataprep, training version:2.8.2, current version:2.7.3\n",
            "Package:azureml-dataprep-native, training version:28.0.0, current version:27.0.0\n",
            "Package:azureml-dataprep-rslex, training version:1.6.0, current version:1.5.0\n",
            "Package:azureml-dataset-runtime, training version:1.21.0, current version:1.20.0\n",
            "Package:azureml-defaults, training version:1.21.0, current version:1.20.0\n",
            "Package:azureml-interpret, training version:1.21.0, current version:1.20.0\n",
            "Package:azureml-pipeline-core, training version:1.21.0, current version:1.20.0\n",
            "Package:azureml-telemetry, training version:1.21.0, current version:1.20.0\n",
            "Package:azureml-train-automl-client, training version:1.21.0, current version:1.20.0\n",
            "Package:azureml-train-automl-runtime, training version:1.21.0, current version:1.20.0\n",
            "WARNING:root:Please ensure the version of your local conda dependencies match the version on which your model was trained in order to properly retrieve your model.\n"
          ]
        }
      ],
      "execution_count": 9,
      "metadata": {
        "gather": {
          "logged": 1612399281816
        },
        "jupyter": {
          "outputs_hidden": false,
          "source_hidden": false
        },
        "nteract": {
          "transient": {
            "deleting": false
          }
        }
      }
    },
    {
      "cell_type": "markdown",
      "source": [
        "## Model Deployment\n",
        "\n",
        "Remember you have to deploy only one of the two models you trained.. Perform the steps in the rest of this notebook only if you wish to deploy this model.\n",
        "\n",
        "TODO: In the cell below, register the model, create an inference config and deploy the model as a web service."
      ],
      "metadata": {}
    },
    {
      "cell_type": "code",
      "source": [
        "from azureml.core.model import Model\r\n",
        "# Register model\r\n",
        "model = Model.register(workspace = ws,\r\n",
        "                        model_name = \"Heart_failure_prediction\",\r\n",
        "                        model_path = \"./automl_model.pkl\",\r\n",
        "                        description = \"Best AutoML Model\",)\r\n",
        "\r\n"
      ],
      "outputs": [
        {
          "output_type": "stream",
          "name": "stdout",
          "text": [
            "Registering model Heart_failure_prediction\n"
          ]
        }
      ],
      "execution_count": 10,
      "metadata": {
        "gather": {
          "logged": 1612399289094
        },
        "jupyter": {
          "outputs_hidden": false,
          "source_hidden": false
        },
        "nteract": {
          "transient": {
            "deleting": false
          }
        }
      }
    },
    {
      "cell_type": "code",
      "source": [
        "from azureml.core.model import InferenceConfig\r\n",
        "from azureml.core.webservice import AciWebservice\r\n",
        "from azureml.core.environment import Environment\r\n",
        "from azureml.core.conda_dependencies import CondaDependencies\r\n",
        "\r\n",
        "\r\n",
        "#defining an inference configuration\r\n",
        "service_name = 'heart-failure-automl'\r\n",
        "\r\n",
        "#setting up a curated environment\r\n",
        "from azureml.automl.core.shared import constants\r\n",
        "best_remote_run.download_file(constants.CONDA_ENV_FILE_PATH, 'AzureML-AutoML.yml')\r\n",
        "env = Environment.get(ws, name=\"AzureML-AutoML\")\r\n",
        "\r\n",
        "#combining scoring script and environment in inference configuration\r\n",
        "inference_config = InferenceConfig(entry_script='scoring.py', environment=env)\r\n",
        "\r\n",
        "#deploy the model as a webservice\r\n",
        "from azureml.core.webservice import LocalWebservice, Webservice\r\n",
        "\r\n",
        "#set deployment configuration\r\n",
        "local_deployment_config = LocalWebservice.deploy_configuration(port=8000)\r\n",
        "service = Model.deploy(ws, \"heart-failure-automl\", [model], inference_config, local_deployment_config)\r\n",
        "\r\n",
        "print(service.state)\r\n",
        "\r\n",
        "aci_config = AciWebservice.deploy_configuration(cpu_cores=1, memory_gb=1, enable_app_insights=True, auth_enabled=True) #service.update\r\n",
        "\r\n",
        "service = Model.deploy(workspace=ws,\r\n",
        "                        name='heart-failure-automl',\r\n",
        "                        models=[model],\r\n",
        "                        inference_config=inference_config,\r\n",
        "                        deployment_config=aci_config,\r\n",
        "                        overwrite=True)\r\n",
        "service.wait_for_deployment(show_output=True)"
      ],
      "outputs": [
        {
          "output_type": "stream",
          "name": "stdout",
          "text": [
            "Downloading model Heart_failure_prediction:1 to /tmp/azureml_9htinrdu/Heart_failure_prediction/1\n",
            "Generating Docker build context.\n",
            "Package creation Succeeded\n",
            "Logging into Docker registry viennaglobal.azurecr.io\n",
            "Logging into Docker registry viennaglobal.azurecr.io\n",
            "Building Docker image from Dockerfile...\n",
            "Step 1/5 : FROM viennaglobal.azurecr.io/azureml/azureml_1eed3e6a679bbc599bfa3e074a25301a\n",
            " ---> 59311b131e1a\n",
            "Step 2/5 : COPY azureml-app /var/azureml-app\n",
            " ---> 987147278179\n",
            "Step 3/5 : RUN mkdir -p '/var/azureml-app' && echo eyJhY2NvdW50Q29udGV4dCI6eyJzdWJzY3JpcHRpb25JZCI6IjVhNGFiMmJhLTZjNTEtNDgwNS04MTU1LTU4NzU5YWQ1ODlkOCIsInJlc291cmNlR3JvdXBOYW1lIjoiYW1sLXF1aWNrc3RhcnRzLTEzNzE1NCIsImFjY291bnROYW1lIjoicXVpY2stc3RhcnRzLXdzLTEzNzE1NCIsIndvcmtzcGFjZUlkIjoiNGJiZDIxYTktNTI3NS00ZDZhLTgwMmMtNGE4MDg4MWZhMjJlIn0sIm1vZGVscyI6e30sIm1vZGVsc0luZm8iOnt9fQ== | base64 --decode > /var/azureml-app/model_config_map.json\n",
            " ---> Running in 1e2681c28e88\n",
            " ---> 9c9cb2489545\n",
            "Step 4/5 : RUN mv '/var/azureml-app/tmp9j0unxrc.py' /var/azureml-app/main.py\n",
            " ---> Running in 0532461388ef\n",
            " ---> 3792951b9aad\n",
            "Step 5/5 : CMD [\"runsvdir\",\"/var/runit\"]\n",
            " ---> Running in baa7b44103af\n",
            " ---> 456ecc49e83e\n",
            "Successfully built 456ecc49e83e\n",
            "Successfully tagged heart-failure-automl:latest\n",
            "Container has been successfully cleaned up.\n",
            "Image sha256:e5cfd264375105f1809dd60264bb3ba7364009b5dfd08b847a93e7e788f10f55 successfully removed.\n",
            "Starting Docker container...\n",
            "Docker container running.\n",
            "deploying\n",
            "Tips: You can try get_logs(): https://aka.ms/debugimage#dockerlog or local deployment: https://aka.ms/debugimage#debug-locally to debug if deployment takes longer than 10 minutes.\n",
            "Running...................................................................................\n",
            "Succeeded\n",
            "ACI service creation operation finished, operation \"Succeeded\"\n"
          ]
        }
      ],
      "execution_count": 13,
      "metadata": {
        "collapsed": true,
        "jupyter": {
          "source_hidden": false,
          "outputs_hidden": false
        },
        "nteract": {
          "transient": {
            "deleting": false
          }
        },
        "gather": {
          "logged": 1612400457852
        }
      }
    },
    {
      "cell_type": "code",
      "source": [
        "#retrieve deployed model uri\r\n",
        "print(service.scoring_uri)\r\n",
        "print(service.swagger_uri)"
      ],
      "outputs": [
        {
          "output_type": "stream",
          "name": "stdout",
          "text": [
            "http://d055feb8-5c29-4fe8-acee-961ead8fd279.southcentralus.azurecontainer.io/score\n",
            "http://d055feb8-5c29-4fe8-acee-961ead8fd279.southcentralus.azurecontainer.io/swagger.json\n"
          ]
        }
      ],
      "execution_count": 45,
      "metadata": {
        "collapsed": true,
        "jupyter": {
          "source_hidden": false,
          "outputs_hidden": false
        },
        "nteract": {
          "transient": {
            "deleting": false
          }
        },
        "gather": {
          "logged": 1612217652378
        }
      }
    },
    {
      "cell_type": "code",
      "source": [
        "#retrive primary key\r\n",
        "primary, secondary= service.get_keys()\r\n",
        "print(primary)"
      ],
      "outputs": [
        {
          "output_type": "stream",
          "name": "stdout",
          "text": [
            "MUJAeBBGnn5ur078rydX7OGdjpMgOFOH\n"
          ]
        }
      ],
      "execution_count": 46,
      "metadata": {
        "collapsed": true,
        "jupyter": {
          "source_hidden": false,
          "outputs_hidden": false
        },
        "nteract": {
          "transient": {
            "deleting": false
          }
        },
        "gather": {
          "logged": 1612217658800
        }
      }
    },
    {
      "cell_type": "markdown",
      "source": [
        "TODO: In the cell below, send a request to the web service you deployed to test it."
      ],
      "metadata": {
        "collapsed": true,
        "gather": {
          "logged": 1598431657736
        },
        "jupyter": {
          "outputs_hidden": false,
          "source_hidden": false
        },
        "nteract": {
          "transient": {
            "deleting": false
          }
        }
      }
    },
    {
      "cell_type": "code",
      "source": [
        "#Testing of the deployed webservice\r\n",
        "import requests\r\n",
        "import json\r\n",
        "import pandas as pd\r\n",
        "import numpy as np\r\n",
        "\r\n",
        "# URL for the web service\r\n",
        "scoring_uri = service.scoring_uri\r\n",
        "# If the service is authenticated, set the key or token\r\n",
        "key = primary\r\n",
        "\r\n",
        "# Two sets of data to score, so we get two results back\r\n",
        "data = {\"data\":\r\n",
        "        [\r\n",
        "            {\r\n",
        "               \"age\":55,\r\n",
        "               \"anaemia\":0,\r\n",
        "               \"creatinine_phosphokinase\":7861,\r\n",
        "               \"diabetes\":0,\r\n",
        "               \"ejection_fraction\":38,\r\n",
        "               \"high_blood_pressure\":0,\r\n",
        "               \"platelets\":263358.03,\r\n",
        "               \"serum_creatinine\":1.1,\r\n",
        "               \"serum_sodium\":136,\r\n",
        "               \"sex\":1,\r\n",
        "               \"smoking\":0,\r\n",
        "               \"time\":6\r\n",
        "               },\r\n",
        "            {\r\n",
        "               \"age\":60,\r\n",
        "               \"anaemia\":0,\r\n",
        "               \"creatinine_phosphokinase\":68,\r\n",
        "               \"diabetes\":0,\r\n",
        "               \"ejection_fraction\":20,\r\n",
        "               \"high_blood_pressure\":0,\r\n",
        "               \"platelets\":119000,\r\n",
        "               \"serum_creatinine\":2.9,\r\n",
        "               \"serum_sodium\":127,\r\n",
        "               \"sex\":1,\r\n",
        "               \"smoking\":1,\r\n",
        "               \"time\":64\r\n",
        "                }\r\n",
        "        ]\r\n",
        "        }\r\n",
        "# data = {\"data\":\r\n",
        "#         [\r\n",
        "#             [55, 0, 7861, 0, 38, 0, 263358.03, 1.1, 136, 1, 0, 6],\r\n",
        "#             [60, 0, 68, 0, 20, 0, 119000, 2.9, 127, 1, 1, 64]\r\n",
        "               \r\n",
        "#         ]\r\n",
        "#         }\r\n",
        "\r\n",
        "#d=pd.DataFrame(data)\r\n",
        "#d=d.to_dict()\r\n",
        "# Convert to JSON string\r\n",
        "input_data = json.dumps(data)\r\n",
        "\r\n",
        "# Set the content type\r\n",
        "headers = {'Content-Type': 'application/json'}\r\n",
        "# If authentication is enabled, set the authorization header\r\n",
        "headers['Authorization'] = f'Bearer {primary}'\r\n",
        "\r\n",
        "# Make the request and display the response\r\n",
        "resp = requests.post(scoring_uri, input_data, headers=headers)\r\n",
        "print(resp.text)"
      ],
      "outputs": [
        {
          "output_type": "stream",
          "name": "stdout",
          "text": [
            "\"{\\\"result\\\": [1, 1]}\"\n"
          ]
        }
      ],
      "execution_count": 47,
      "metadata": {
        "gather": {
          "logged": 1612217664750
        },
        "jupyter": {
          "outputs_hidden": false,
          "source_hidden": false
        },
        "nteract": {
          "transient": {
            "deleting": false
          }
        }
      }
    },
    {
      "cell_type": "markdown",
      "source": [
        "TODO: In the cell below, print the logs of the web service and delete the service"
      ],
      "metadata": {
        "collapsed": true,
        "gather": {
          "logged": 1598432765711
        },
        "jupyter": {
          "outputs_hidden": false,
          "source_hidden": false
        },
        "nteract": {
          "transient": {
            "deleting": false
          }
        }
      }
    },
    {
      "cell_type": "code",
      "source": [
        "#logs of the webservice\r\n",
        "logs=service.get_logs()\r\n",
        "print(logs)"
      ],
      "outputs": [
        {
          "output_type": "stream",
          "name": "stdout",
          "text": [
            "2021-02-01T22:13:52,290050747+00:00 - iot-server/run \n",
            "2021-02-01T22:13:52,316068390+00:00 - rsyslog/run \n",
            "2021-02-01T22:13:52,316201992+00:00 - gunicorn/run \n",
            "2021-02-01T22:13:52,317407703+00:00 - nginx/run \n",
            "/usr/sbin/nginx: /azureml-envs/azureml_7ade26eb614f97df8030bc480da59236/lib/libcrypto.so.1.0.0: no version information available (required by /usr/sbin/nginx)\n",
            "/usr/sbin/nginx: /azureml-envs/azureml_7ade26eb614f97df8030bc480da59236/lib/libcrypto.so.1.0.0: no version information available (required by /usr/sbin/nginx)\n",
            "/usr/sbin/nginx: /azureml-envs/azureml_7ade26eb614f97df8030bc480da59236/lib/libssl.so.1.0.0: no version information available (required by /usr/sbin/nginx)\n",
            "/usr/sbin/nginx: /azureml-envs/azureml_7ade26eb614f97df8030bc480da59236/lib/libssl.so.1.0.0: no version information available (required by /usr/sbin/nginx)\n",
            "/usr/sbin/nginx: /azureml-envs/azureml_7ade26eb614f97df8030bc480da59236/lib/libssl.so.1.0.0: no version information available (required by /usr/sbin/nginx)\n",
            "rsyslogd: /azureml-envs/azureml_7ade26eb614f97df8030bc480da59236/lib/libuuid.so.1: no version information available (required by rsyslogd)\n",
            "EdgeHubConnectionString and IOTEDGE_IOTHUBHOSTNAME are not set. Exiting...\n",
            "2021-02-01T22:13:52,460080239+00:00 - iot-server/finish 1 0\n",
            "2021-02-01T22:13:52,461731855+00:00 - Exit code 1 is normal. Not restarting iot-server.\n",
            "Starting gunicorn 19.9.0\n",
            "Listening at: http://127.0.0.1:31311 (15)\n",
            "Using worker: sync\n",
            "worker timeout is set to 300\n",
            "Booting worker with pid: 42\n",
            "SPARK_HOME not set. Skipping PySpark Initialization.\n",
            "Generating new fontManager, this may take some time...\n",
            "Initializing logger\n",
            "2021-02-01 22:13:54,046 | root | INFO | Starting up app insights client\n",
            "2021-02-01 22:13:54,047 | root | INFO | Starting up request id generator\n",
            "2021-02-01 22:13:54,047 | root | INFO | Starting up app insight hooks\n",
            "2021-02-01 22:13:54,047 | root | INFO | Invoking user's init function\n",
            "2021-02-01 22:13:57,300 | root | INFO | Users's init has completed successfully\n",
            "2021-02-01 22:13:57,357 | root | INFO | Skipping middleware: dbg_model_info as it's not enabled.\n",
            "2021-02-01 22:13:57,358 | root | INFO | Skipping middleware: dbg_resource_usage as it's not enabled.\n",
            "2021-02-01 22:13:57,359 | root | INFO | Scoring timeout is found from os.environ: 60000 ms\n",
            "2021-02-01 22:14:04,197 | root | INFO | Swagger file not present\n",
            "2021-02-01 22:14:04,197 | root | INFO | 404\n",
            "127.0.0.1 - - [01/Feb/2021:22:14:04 +0000] \"GET /swagger.json HTTP/1.0\" 404 19 \"-\" \"Go-http-client/1.1\"\n",
            "2021-02-01 22:14:07,920 | root | INFO | Swagger file not present\n",
            "2021-02-01 22:14:07,920 | root | INFO | 404\n",
            "127.0.0.1 - - [01/Feb/2021:22:14:07 +0000] \"GET /swagger.json HTTP/1.0\" 404 19 \"-\" \"Go-http-client/1.1\"\n",
            "2021-02-01 22:14:24,513 | root | INFO | Validation Request Content-Type\n",
            "2021-02-01 22:14:24,514 | root | INFO | Scoring Timer is set to 60.0 seconds\n",
            "2021-02-01 22:14:24,586 | root | INFO | 200\n",
            "127.0.0.1 - - [01/Feb/2021:22:14:24 +0000] \"POST /score HTTP/1.0\" 200 22 \"-\" \"python-requests/2.25.1\"\n",
            "\n"
          ]
        }
      ],
      "execution_count": 48,
      "metadata": {
        "jupyter": {
          "outputs_hidden": false,
          "source_hidden": false
        },
        "nteract": {
          "transient": {
            "deleting": false
          }
        },
        "gather": {
          "logged": 1612217673725
        }
      }
    },
    {
      "cell_type": "code",
      "source": [
        "#delete the deployed webservice\r\n",
        "service.delete()"
      ],
      "outputs": [],
      "execution_count": 49,
      "metadata": {
        "collapsed": true,
        "jupyter": {
          "source_hidden": false,
          "outputs_hidden": false
        },
        "nteract": {
          "transient": {
            "deleting": false
          }
        },
        "gather": {
          "logged": 1612217689104
        }
      }
    }
  ],
  "metadata": {
    "kernel_info": {
      "name": "python3"
    },
    "kernelspec": {
      "name": "python3",
      "language": "python",
      "display_name": "Python 3"
    },
    "language_info": {
      "name": "python",
      "version": "3.6.9",
      "mimetype": "text/x-python",
      "codemirror_mode": {
        "name": "ipython",
        "version": 3
      },
      "pygments_lexer": "ipython3",
      "nbconvert_exporter": "python",
      "file_extension": ".py"
    },
    "nteract": {
      "version": "nteract-front-end@1.0.0"
    }
  },
  "nbformat": 4,
  "nbformat_minor": 2
}