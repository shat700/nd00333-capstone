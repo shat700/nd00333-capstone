{
  "cells": [
    {
      "cell_type": "markdown",
      "source": [
        "# Automated ML\n",
        "\n",
        "TODO: Import Dependencies. In the cell below, import all the dependencies that you will need to complete the project."
      ],
      "metadata": {}
    },
    {
      "cell_type": "code",
      "source": [
        "import os\r\n",
        "import joblib\r\n",
        "from azureml.core import Workspace, Experiment\r\n",
        "from azureml.data.dataset_factory import TabularDatasetFactory\r\n",
        "from azureml.core.compute import ComputeTarget, AmlCompute\r\n",
        "from azureml.train.automl import AutoMLConfig\r\n",
        "\r\n",
        "from matplotlib import pyplot as plt\r\n",
        "import numpy as np\r\n",
        "import pandas as pd\r\n",
        "\r\n",
        "ws = Workspace.from_config()\r\n",
        "print(ws.name, ws.resource_group, ws.location, ws.subscription_id, sep = '\\n')"
      ],
      "outputs": [
        {
          "output_type": "stream",
          "name": "stdout",
          "text": [
            "quick-starts-ws-136763\n",
            "aml-quickstarts-136763\n",
            "southcentralus\n",
            "61c5c3f0-6dc7-4ed9-a7f3-c704b20e3b30\n"
          ]
        }
      ],
      "execution_count": 1,
      "metadata": {
        "gather": {
          "logged": 1612125289155
        },
        "jupyter": {
          "outputs_hidden": false,
          "source_hidden": false
        },
        "nteract": {
          "transient": {
            "deleting": false
          }
        }
      }
    },
    {
      "cell_type": "markdown",
      "source": [
        "## Dataset\n",
        "\n",
        "### Overview\n",
        "TODO: In this markdown cell, give an overview of the dataset you are using. Also mention the task you will be performing.\n",
        "\n",
        "\n",
        "TODO: Get data. In the cell below, write code to access the data you will be using in this project. Remember that the dataset needs to be external."
      ],
      "metadata": {}
    },
    {
      "cell_type": "code",
      "source": [
        "#create compute cluster\r\n",
        "amlcompute_cluster_name=\"aml\"\r\n",
        "\r\n",
        "#verify that cluster does not already exist\r\n",
        "try:\r\n",
        "    aml_compute=ComputeTarget(workspace=ws, name=amlcompute_cluster_name)\r\n",
        "    print('Found existing cluster, use it.')\r\n",
        "except ComputeTargetException:\r\n",
        "    compute_config=AmlCompute.provisioning_configuration(vm_size=\"Standard_D3_V2\",max_nodes=4)\r\n",
        "    aml_compute=ComputeTarget.create(ws,amlcompute_cluster_name,compute_config)\r\n",
        "\r\n",
        "aml_compute.wait_for_completion(show_output=True)"
      ],
      "outputs": [
        {
          "output_type": "stream",
          "name": "stdout",
          "text": [
            "Found existing cluster, use it.\n",
            "\n",
            "Running\n"
          ]
        }
      ],
      "execution_count": 2,
      "metadata": {
        "collapsed": true,
        "jupyter": {
          "source_hidden": false,
          "outputs_hidden": false
        },
        "nteract": {
          "transient": {
            "deleting": false
          }
        },
        "gather": {
          "logged": 1612116286616
        }
      }
    },
    {
      "cell_type": "code",
      "source": [
        "# Create TabularDataset using TabularDatasetFactory\n",
        "# Data is available at: \n",
        "auto_ds_path=\"https://raw.githubusercontent.com/shat700/nd00333-capstone/master/starter_file/heart_failure_clinical_records_dataset.csv\"\n",
        "ds=TabularDatasetFactory.from_delimited_files(path=auto_ds_path)\n",
        "\n",
        "#preview data\n",
        "df = ds.to_pandas_dataframe()\n",
        "df.describe()\n",
        "\n"
      ],
      "outputs": [
        {
          "output_type": "execute_result",
          "execution_count": 3,
          "data": {
            "text/plain": "              age     anaemia  creatinine_phosphokinase    diabetes  \\\ncount  299.000000  299.000000                299.000000  299.000000   \nmean    60.833893    0.431438                581.839465    0.418060   \nstd     11.894809    0.496107                970.287881    0.494067   \nmin     40.000000    0.000000                 23.000000    0.000000   \n25%     51.000000    0.000000                116.500000    0.000000   \n50%     60.000000    0.000000                250.000000    0.000000   \n75%     70.000000    1.000000                582.000000    1.000000   \nmax     95.000000    1.000000               7861.000000    1.000000   \n\n       ejection_fraction  high_blood_pressure      platelets  \\\ncount         299.000000           299.000000     299.000000   \nmean           38.083612             0.351171  263358.029264   \nstd            11.834841             0.478136   97804.236869   \nmin            14.000000             0.000000   25100.000000   \n25%            30.000000             0.000000  212500.000000   \n50%            38.000000             0.000000  262000.000000   \n75%            45.000000             1.000000  303500.000000   \nmax            80.000000             1.000000  850000.000000   \n\n       serum_creatinine  serum_sodium         sex    smoking        time  \\\ncount         299.00000    299.000000  299.000000  299.00000  299.000000   \nmean            1.39388    136.625418    0.648829    0.32107  130.260870   \nstd             1.03451      4.412477    0.478136    0.46767   77.614208   \nmin             0.50000    113.000000    0.000000    0.00000    4.000000   \n25%             0.90000    134.000000    0.000000    0.00000   73.000000   \n50%             1.10000    137.000000    1.000000    0.00000  115.000000   \n75%             1.40000    140.000000    1.000000    1.00000  203.000000   \nmax             9.40000    148.000000    1.000000    1.00000  285.000000   \n\n       DEATH_EVENT  \ncount    299.00000  \nmean       0.32107  \nstd        0.46767  \nmin        0.00000  \n25%        0.00000  \n50%        0.00000  \n75%        1.00000  \nmax        1.00000  ",
            "text/html": "<div>\n<style scoped>\n    .dataframe tbody tr th:only-of-type {\n        vertical-align: middle;\n    }\n\n    .dataframe tbody tr th {\n        vertical-align: top;\n    }\n\n    .dataframe thead th {\n        text-align: right;\n    }\n</style>\n<table border=\"1\" class=\"dataframe\">\n  <thead>\n    <tr style=\"text-align: right;\">\n      <th></th>\n      <th>age</th>\n      <th>anaemia</th>\n      <th>creatinine_phosphokinase</th>\n      <th>diabetes</th>\n      <th>ejection_fraction</th>\n      <th>high_blood_pressure</th>\n      <th>platelets</th>\n      <th>serum_creatinine</th>\n      <th>serum_sodium</th>\n      <th>sex</th>\n      <th>smoking</th>\n      <th>time</th>\n      <th>DEATH_EVENT</th>\n    </tr>\n  </thead>\n  <tbody>\n    <tr>\n      <th>count</th>\n      <td>299.000000</td>\n      <td>299.000000</td>\n      <td>299.000000</td>\n      <td>299.000000</td>\n      <td>299.000000</td>\n      <td>299.000000</td>\n      <td>299.000000</td>\n      <td>299.00000</td>\n      <td>299.000000</td>\n      <td>299.000000</td>\n      <td>299.00000</td>\n      <td>299.000000</td>\n      <td>299.00000</td>\n    </tr>\n    <tr>\n      <th>mean</th>\n      <td>60.833893</td>\n      <td>0.431438</td>\n      <td>581.839465</td>\n      <td>0.418060</td>\n      <td>38.083612</td>\n      <td>0.351171</td>\n      <td>263358.029264</td>\n      <td>1.39388</td>\n      <td>136.625418</td>\n      <td>0.648829</td>\n      <td>0.32107</td>\n      <td>130.260870</td>\n      <td>0.32107</td>\n    </tr>\n    <tr>\n      <th>std</th>\n      <td>11.894809</td>\n      <td>0.496107</td>\n      <td>970.287881</td>\n      <td>0.494067</td>\n      <td>11.834841</td>\n      <td>0.478136</td>\n      <td>97804.236869</td>\n      <td>1.03451</td>\n      <td>4.412477</td>\n      <td>0.478136</td>\n      <td>0.46767</td>\n      <td>77.614208</td>\n      <td>0.46767</td>\n    </tr>\n    <tr>\n      <th>min</th>\n      <td>40.000000</td>\n      <td>0.000000</td>\n      <td>23.000000</td>\n      <td>0.000000</td>\n      <td>14.000000</td>\n      <td>0.000000</td>\n      <td>25100.000000</td>\n      <td>0.50000</td>\n      <td>113.000000</td>\n      <td>0.000000</td>\n      <td>0.00000</td>\n      <td>4.000000</td>\n      <td>0.00000</td>\n    </tr>\n    <tr>\n      <th>25%</th>\n      <td>51.000000</td>\n      <td>0.000000</td>\n      <td>116.500000</td>\n      <td>0.000000</td>\n      <td>30.000000</td>\n      <td>0.000000</td>\n      <td>212500.000000</td>\n      <td>0.90000</td>\n      <td>134.000000</td>\n      <td>0.000000</td>\n      <td>0.00000</td>\n      <td>73.000000</td>\n      <td>0.00000</td>\n    </tr>\n    <tr>\n      <th>50%</th>\n      <td>60.000000</td>\n      <td>0.000000</td>\n      <td>250.000000</td>\n      <td>0.000000</td>\n      <td>38.000000</td>\n      <td>0.000000</td>\n      <td>262000.000000</td>\n      <td>1.10000</td>\n      <td>137.000000</td>\n      <td>1.000000</td>\n      <td>0.00000</td>\n      <td>115.000000</td>\n      <td>0.00000</td>\n    </tr>\n    <tr>\n      <th>75%</th>\n      <td>70.000000</td>\n      <td>1.000000</td>\n      <td>582.000000</td>\n      <td>1.000000</td>\n      <td>45.000000</td>\n      <td>1.000000</td>\n      <td>303500.000000</td>\n      <td>1.40000</td>\n      <td>140.000000</td>\n      <td>1.000000</td>\n      <td>1.00000</td>\n      <td>203.000000</td>\n      <td>1.00000</td>\n    </tr>\n    <tr>\n      <th>max</th>\n      <td>95.000000</td>\n      <td>1.000000</td>\n      <td>7861.000000</td>\n      <td>1.000000</td>\n      <td>80.000000</td>\n      <td>1.000000</td>\n      <td>850000.000000</td>\n      <td>9.40000</td>\n      <td>148.000000</td>\n      <td>1.000000</td>\n      <td>1.00000</td>\n      <td>285.000000</td>\n      <td>1.00000</td>\n    </tr>\n  </tbody>\n</table>\n</div>"
          },
          "metadata": {}
        }
      ],
      "execution_count": 3,
      "metadata": {
        "gather": {
          "logged": 1612116304595
        },
        "jupyter": {
          "outputs_hidden": false,
          "source_hidden": false
        },
        "nteract": {
          "transient": {
            "deleting": false
          }
        }
      }
    },
    {
      "cell_type": "markdown",
      "source": [
        "## AutoML Configuration\n",
        "\n",
        "TODO: Explain why you chose the automl settings and cofiguration you used below."
      ],
      "metadata": {}
    },
    {
      "cell_type": "code",
      "source": [
        "import logging\n",
        "import time\n",
        "\n",
        "# TODO: Put your automl settings here\n",
        "automl_settings = {\n",
        "    \"n_cross_validations\":5,\n",
        "    \"primary_metric\":'accuracy',\n",
        "    \"enable_early_stopping\":True,\n",
        "    \"experiment_timeout_minutes\":15,\n",
        "    \"max_concurrent_iterations\":10,\n",
        "   }\n",
        "\n",
        "# TODO: Put your automl config here\n",
        "automl_config = AutoMLConfig(\n",
        "    task='classification',\n",
        "    compute_target='aml',\n",
        "    training_data=ds,\n",
        "    label_column_name='DEATH_EVENT',\n",
        "    **automl_settings\n",
        "    )"
      ],
      "outputs": [],
      "execution_count": 4,
      "metadata": {
        "gather": {
          "logged": 1612116310545
        },
        "jupyter": {
          "outputs_hidden": false,
          "source_hidden": false
        },
        "nteract": {
          "transient": {
            "deleting": false
          }
        }
      }
    },
    {
      "cell_type": "code",
      "source": [
        "from azureml.core.experiment import Experiment\n",
        "# choose a name for experiment\n",
        "experiment_name = 'automl_run'\n",
        "experiment=Experiment(ws, experiment_name)\n",
        "\n",
        "# TODO: Submit your experiment\n",
        "remote_run = experiment.submit(automl_config, show_output=True)"
      ],
      "outputs": [
        {
          "output_type": "stream",
          "name": "stdout",
          "text": [
            "Running on remote.\n",
            "No run_configuration provided, running on aml with default configuration\n",
            "Running on remote compute: aml\n",
            "Parent Run ID: AutoML_2390dc8f-b818-486e-94de-b3e3bf41227d\n",
            "\n",
            "Current status: FeaturesGeneration. Generating features for the dataset.\n",
            "Current status: DatasetCrossValidationSplit. Generating individually featurized CV splits.\n",
            "Current status: ModelSelection. Beginning model selection.\n",
            "\n",
            "****************************************************************************************************\n",
            "DATA GUARDRAILS: \n",
            "\n",
            "TYPE:         Class balancing detection\n",
            "STATUS:       PASSED\n",
            "DESCRIPTION:  Your inputs were analyzed, and all classes are balanced in your training data.\n",
            "              Learn more about imbalanced data: https://aka.ms/AutomatedMLImbalancedData\n",
            "\n",
            "****************************************************************************************************\n",
            "\n",
            "TYPE:         Missing feature values imputation\n",
            "STATUS:       PASSED\n",
            "DESCRIPTION:  No feature missing values were detected in the training data.\n",
            "              Learn more about missing value imputation: https://aka.ms/AutomatedMLFeaturization\n",
            "\n",
            "****************************************************************************************************\n",
            "\n",
            "TYPE:         High cardinality feature detection\n",
            "STATUS:       PASSED\n",
            "DESCRIPTION:  Your inputs were analyzed, and no high cardinality features were detected.\n",
            "              Learn more about high cardinality feature handling: https://aka.ms/AutomatedMLFeaturization\n",
            "\n",
            "****************************************************************************************************\n",
            "\n",
            "****************************************************************************************************\n",
            "ITERATION: The iteration being evaluated.\n",
            "PIPELINE: A summary description of the pipeline being evaluated.\n",
            "DURATION: Time taken for the current iteration.\n",
            "METRIC: The result of computing score on the fitted pipeline.\n",
            "BEST: The best observed score thus far.\n",
            "****************************************************************************************************\n",
            "\n",
            " ITERATION   PIPELINE                                       DURATION      METRIC      BEST\n",
            "         7                                                  0:00:02          nan       nan\n",
            "ERROR: {\n",
            "    \"additional_properties\": {},\n",
            "    \"error\": {\n",
            "        \"additional_properties\": {\n",
            "            \"debugInfo\": null\n",
            "        },\n",
            "        \"code\": \"UserError\",\n",
            "        \"severity\": null,\n",
            "        \"message\": \"Unable to find snapshot with id: 9aae6bda-44f4-4d5d-a280-19607b4e24be\",\n",
            "        \"message_format\": null,\n",
            "        \"message_parameters\": null,\n",
            "        \"reference_code\": null,\n",
            "        \"details_uri\": null,\n",
            "        \"target\": null,\n",
            "        \"details\": [],\n",
            "        \"inner_error\": {\n",
            "            \"additional_properties\": {},\n",
            "            \"code\": \"NotFoundError\",\n",
            "            \"inner_error\": null\n",
            "        }\n",
            "    },\n",
            "    \"correlation\": {\n",
            "        \"operation\": \"f038b5d6d1d942479918e81c32e3621d\",\n",
            "        \"request\": \"b56383aa4b8e9744\"\n",
            "    },\n",
            "    \"environment\": \"southcentralus\",\n",
            "    \"location\": \"southcentralus\",\n",
            "    \"time\": {},\n",
            "    \"component_name\": \"project\"\n",
            "}\n",
            "         0   MaxAbsScaler LightGBM                          0:00:58       0.8060    0.8060\n",
            "         3   MinMaxScaler RandomForest                      0:00:58       0.8160    0.8160\n",
            "         4   MinMaxScaler RandomForest                      0:00:53       0.8058    0.8160\n",
            "         6   TruncatedSVDWrapper XGBoostClassifier          0:00:54       0.7691    0.8160\n",
            "         8   MaxAbsScaler LightGBM                          0:00:58       0.8394    0.8394\n",
            "         9   SparseNormalizer XGBoostClassifier             0:00:59       0.8563    0.8563\n",
            "         2   MinMaxScaler RandomForest                      0:01:02       0.8394    0.8563\n",
            "         5   StandardScalerWrapper XGBoostClassifier        0:01:03       0.8361    0.8563\n",
            "        10   SparseNormalizer GradientBoosting              0:00:54       0.8463    0.8563\n",
            "        12   SparseNormalizer XGBoostClassifier             0:00:45       0.8529    0.8563\n",
            "         1   MaxAbsScaler XGBoostClassifier                 0:00:56       0.8259    0.8563\n",
            "        11   MaxAbsScaler LogisticRegression                0:00:48       0.8194    0.8563\n",
            "        14   MinMaxScaler LogisticRegression                0:00:51       0.8160    0.8563\n",
            "        15   StandardScalerWrapper LogisticRegression       0:00:48       0.8160    0.8563\n",
            "        13   StandardScalerWrapper LogisticRegression       0:01:11       0.8160    0.8563\n",
            "        16   SparseNormalizer XGBoostClassifier             0:01:16       0.8394    0.8563\n",
            "        17   SparseNormalizer XGBoostClassifier             0:00:53       0.8428    0.8563\n",
            "        18   StandardScalerWrapper LogisticRegression       0:00:56       0.8160    0.8563\n",
            "        19   SparseNormalizer XGBoostClassifier             0:00:46       0.8497    0.8563\n",
            "        21   MaxAbsScaler LightGBM                          0:00:52       0.8193    0.8563\n",
            "        22   MaxAbsScaler ExtremeRandomTrees                0:00:55       0.8428    0.8563\n",
            "        20   MinMaxScaler LightGBM                          0:01:20       0.8162    0.8563\n",
            "        23   StandardScalerWrapper LightGBM                 0:00:57       0.8059    0.8563\n",
            "        24   RobustScaler LightGBM                          0:00:58       0.8259    0.8563\n",
            "        25   PCA XGBoostClassifier                          0:00:53       0.6791    0.8563\n",
            "        26   StandardScalerWrapper RandomForest             0:00:56       0.8427    0.8563\n",
            "        27   StandardScalerWrapper LightGBM                 0:00:49       0.7928    0.8563\n",
            "        30   SparseNormalizer XGBoostClassifier             0:00:53       0.6791    0.8563\n",
            "        28   StandardScalerWrapper LightGBM                 0:01:23       0.8326    0.8563\n",
            "        29   StandardScalerWrapper LightGBM                 0:01:18       0.7928    0.8563\n",
            "        31   MinMaxScaler RandomForest                      0:01:02       0.7559    0.8563\n",
            "        32   SparseNormalizer XGBoostClassifier             0:00:48       0.8193    0.8563\n",
            "        33   StandardScalerWrapper XGBoostClassifier        0:00:51       0.8394    0.8563\n",
            "        34   StandardScalerWrapper ExtremeRandomTrees       0:00:57       0.8061    0.8563\n",
            "        35   SparseNormalizer XGBoostClassifier             0:00:51       0.8429    0.8563\n",
            "        36   MaxAbsScaler ExtremeRandomTrees                0:01:01       0.8562    0.8563\n",
            "        37   SparseNormalizer LightGBM                      0:01:08       0.8262    0.8563\n",
            "        38   SparseNormalizer LightGBM                      0:00:58       0.8394    0.8563\n",
            "        39   SparseNormalizer XGBoostClassifier             0:00:54       0.6791    0.8563\n",
            "        40   RobustScaler LightGBM                          0:00:57       0.8294    0.8563\n",
            "        43   MaxAbsScaler LightGBM                          0:00:49       0.8427    0.8563\n",
            "        41   MaxAbsScaler LightGBM                          0:00:58       0.8394    0.8563\n",
            "        42   MaxAbsScaler LightGBM                          0:00:52       0.8260    0.8563\n",
            "        44                                                  0:00:11          nan    0.8563\n",
            "        45                                                  0:00:53          nan    0.8563\n",
            "        46                                                  0:00:16          nan    0.8563\n",
            "        47    VotingEnsemble                                0:01:36       0.8797    0.8797\n",
            "        48    StackEnsemble                                 0:01:42       0.8597    0.8797\n"
          ]
        }
      ],
      "execution_count": 5,
      "metadata": {
        "gather": {
          "logged": 1612117114754
        },
        "jupyter": {
          "outputs_hidden": false,
          "source_hidden": false
        },
        "nteract": {
          "transient": {
            "deleting": false
          }
        }
      }
    },
    {
      "cell_type": "markdown",
      "source": [
        "## Run Details\n",
        "\n",
        "OPTIONAL: Write about the different models trained and their performance. Why do you think some models did better than others?\n",
        "\n",
        "TODO: In the cell below, use the `RunDetails` widget to show the different experiments."
      ],
      "metadata": {}
    },
    {
      "cell_type": "code",
      "source": [
        "from azureml.widgets import RunDetails\r\n",
        "RunDetails(remote_run).show()"
      ],
      "outputs": [
        {
          "output_type": "display_data",
          "data": {
            "text/plain": "_AutoMLWidget(widget_settings={'childWidgetDisplay': 'popup', 'send_telemetry': False, 'log_level': 'INFO', 's…",
            "application/vnd.jupyter.widget-view+json": {
              "version_major": 2,
              "version_minor": 0,
              "model_id": "0d363428a3bc47b7bf06a5b7387c7cf9"
            }
          },
          "metadata": {}
        },
        {
          "output_type": "display_data",
          "data": {
            "application/aml.mini.widget.v1": "{\"status\": \"Completed\", \"workbench_run_details_uri\": \"https://ml.azure.com/experiments/automl_run/runs/AutoML_2390dc8f-b818-486e-94de-b3e3bf41227d?wsid=/subscriptions/61c5c3f0-6dc7-4ed9-a7f3-c704b20e3b30/resourcegroups/aml-quickstarts-136763/workspaces/quick-starts-ws-136763\", \"run_id\": \"AutoML_2390dc8f-b818-486e-94de-b3e3bf41227d\", \"run_properties\": {\"run_id\": \"AutoML_2390dc8f-b818-486e-94de-b3e3bf41227d\", \"created_utc\": \"2021-01-31T18:05:20.424706Z\", \"properties\": {\"num_iterations\": \"1000\", \"training_type\": \"TrainFull\", \"acquisition_function\": \"EI\", \"primary_metric\": \"accuracy\", \"train_split\": \"0\", \"acquisition_parameter\": \"0\", \"num_cross_validation\": \"5\", \"target\": \"aml\", \"AMLSettingsJsonString\": \"{\\\"path\\\":null,\\\"name\\\":\\\"automl_run\\\",\\\"subscription_id\\\":\\\"61c5c3f0-6dc7-4ed9-a7f3-c704b20e3b30\\\",\\\"resource_group\\\":\\\"aml-quickstarts-136763\\\",\\\"workspace_name\\\":\\\"quick-starts-ws-136763\\\",\\\"region\\\":\\\"southcentralus\\\",\\\"compute_target\\\":\\\"aml\\\",\\\"spark_service\\\":null,\\\"azure_service\\\":\\\"remote\\\",\\\"many_models\\\":false,\\\"pipeline_fetch_max_batch_size\\\":1,\\\"iterations\\\":1000,\\\"primary_metric\\\":\\\"accuracy\\\",\\\"task_type\\\":\\\"classification\\\",\\\"data_script\\\":null,\\\"validation_size\\\":0.0,\\\"n_cross_validations\\\":5,\\\"y_min\\\":null,\\\"y_max\\\":null,\\\"num_classes\\\":null,\\\"featurization\\\":\\\"auto\\\",\\\"_ignore_package_version_incompatibilities\\\":false,\\\"is_timeseries\\\":false,\\\"max_cores_per_iteration\\\":1,\\\"max_concurrent_iterations\\\":10,\\\"iteration_timeout_minutes\\\":null,\\\"mem_in_mb\\\":null,\\\"enforce_time_on_windows\\\":false,\\\"experiment_timeout_minutes\\\":15,\\\"experiment_exit_score\\\":null,\\\"whitelist_models\\\":null,\\\"blacklist_algos\\\":[\\\"TensorFlowLinearClassifier\\\",\\\"TensorFlowDNN\\\"],\\\"supported_models\\\":[\\\"KNN\\\",\\\"MultinomialNaiveBayes\\\",\\\"ExtremeRandomTrees\\\",\\\"SVM\\\",\\\"AveragedPerceptronClassifier\\\",\\\"DecisionTree\\\",\\\"TensorFlowLinearClassifier\\\",\\\"LightGBM\\\",\\\"RandomForest\\\",\\\"BernoulliNaiveBayes\\\",\\\"SGD\\\",\\\"GradientBoosting\\\",\\\"LogisticRegression\\\",\\\"TensorFlowDNN\\\",\\\"XGBoostClassifier\\\",\\\"LinearSVM\\\"],\\\"auto_blacklist\\\":true,\\\"blacklist_samples_reached\\\":false,\\\"exclude_nan_labels\\\":true,\\\"verbosity\\\":20,\\\"_debug_log\\\":\\\"azureml_automl.log\\\",\\\"show_warnings\\\":false,\\\"model_explainability\\\":true,\\\"service_url\\\":null,\\\"sdk_url\\\":null,\\\"sdk_packages\\\":null,\\\"enable_onnx_compatible_models\\\":false,\\\"enable_split_onnx_featurizer_estimator_models\\\":false,\\\"vm_type\\\":\\\"STANDARD_DS3_V2\\\",\\\"telemetry_verbosity\\\":20,\\\"send_telemetry\\\":true,\\\"enable_dnn\\\":false,\\\"scenario\\\":\\\"SDK-1.13.0\\\",\\\"environment_label\\\":null,\\\"force_text_dnn\\\":false,\\\"enable_feature_sweeping\\\":true,\\\"enable_early_stopping\\\":true,\\\"early_stopping_n_iters\\\":10,\\\"metrics\\\":null,\\\"enable_ensembling\\\":true,\\\"enable_stack_ensembling\\\":true,\\\"ensemble_iterations\\\":15,\\\"enable_tf\\\":false,\\\"enable_subsampling\\\":null,\\\"subsample_seed\\\":null,\\\"enable_nimbusml\\\":false,\\\"enable_streaming\\\":false,\\\"force_streaming\\\":false,\\\"track_child_runs\\\":true,\\\"allowed_private_models\\\":[],\\\"label_column_name\\\":\\\"DEATH_EVENT\\\",\\\"weight_column_name\\\":null,\\\"cv_split_column_names\\\":null,\\\"enable_local_managed\\\":false,\\\"_local_managed_run_id\\\":null,\\\"cost_mode\\\":1,\\\"lag_length\\\":0,\\\"metric_operation\\\":\\\"maximize\\\",\\\"preprocess\\\":true}\", \"DataPrepJsonString\": \"{\\\\\\\"training_data\\\\\\\": \\\\\\\"{\\\\\\\\\\\\\\\"blocks\\\\\\\\\\\\\\\": [{\\\\\\\\\\\\\\\"id\\\\\\\\\\\\\\\": \\\\\\\\\\\\\\\"cdc5d978-cf8d-498a-bb24-33d8b1c07e49\\\\\\\\\\\\\\\", \\\\\\\\\\\\\\\"type\\\\\\\\\\\\\\\": \\\\\\\\\\\\\\\"Microsoft.DPrep.GetFilesBlock\\\\\\\\\\\\\\\", \\\\\\\\\\\\\\\"arguments\\\\\\\\\\\\\\\": {\\\\\\\\\\\\\\\"isArchive\\\\\\\\\\\\\\\": false, \\\\\\\\\\\\\\\"path\\\\\\\\\\\\\\\": {\\\\\\\\\\\\\\\"target\\\\\\\\\\\\\\\": 4, \\\\\\\\\\\\\\\"resourceDetails\\\\\\\\\\\\\\\": [{\\\\\\\\\\\\\\\"path\\\\\\\\\\\\\\\": \\\\\\\\\\\\\\\"https://raw.githubusercontent.com/shat700/nd00333-capstone/master/starter_file/heart_failure_clinical_records_dataset.csv\\\\\\\\\\\\\\\"}]}}, \\\\\\\\\\\\\\\"localData\\\\\\\\\\\\\\\": {}, \\\\\\\\\\\\\\\"isEnabled\\\\\\\\\\\\\\\": true, \\\\\\\\\\\\\\\"name\\\\\\\\\\\\\\\": null, \\\\\\\\\\\\\\\"annotation\\\\\\\\\\\\\\\": null}, {\\\\\\\\\\\\\\\"id\\\\\\\\\\\\\\\": \\\\\\\\\\\\\\\"d51d6abf-2553-46ad-aeaf-75b2ece5f579\\\\\\\\\\\\\\\", \\\\\\\\\\\\\\\"type\\\\\\\\\\\\\\\": \\\\\\\\\\\\\\\"Microsoft.DPrep.ParseDelimitedBlock\\\\\\\\\\\\\\\", \\\\\\\\\\\\\\\"arguments\\\\\\\\\\\\\\\": {\\\\\\\\\\\\\\\"columnHeadersMode\\\\\\\\\\\\\\\": 3, \\\\\\\\\\\\\\\"fileEncoding\\\\\\\\\\\\\\\": 0, \\\\\\\\\\\\\\\"handleQuotedLineBreaks\\\\\\\\\\\\\\\": false, \\\\\\\\\\\\\\\"preview\\\\\\\\\\\\\\\": false, \\\\\\\\\\\\\\\"separator\\\\\\\\\\\\\\\": \\\\\\\\\\\\\\\",\\\\\\\\\\\\\\\", \\\\\\\\\\\\\\\"skipRows\\\\\\\\\\\\\\\": 0, \\\\\\\\\\\\\\\"skipRowsMode\\\\\\\\\\\\\\\": 0}, \\\\\\\\\\\\\\\"localData\\\\\\\\\\\\\\\": {}, \\\\\\\\\\\\\\\"isEnabled\\\\\\\\\\\\\\\": true, \\\\\\\\\\\\\\\"name\\\\\\\\\\\\\\\": null, \\\\\\\\\\\\\\\"annotation\\\\\\\\\\\\\\\": null}, {\\\\\\\\\\\\\\\"id\\\\\\\\\\\\\\\": \\\\\\\\\\\\\\\"eff07230-fd15-402e-859b-3a028449dedd\\\\\\\\\\\\\\\", \\\\\\\\\\\\\\\"type\\\\\\\\\\\\\\\": \\\\\\\\\\\\\\\"Microsoft.DPrep.DropColumnsBlock\\\\\\\\\\\\\\\", \\\\\\\\\\\\\\\"arguments\\\\\\\\\\\\\\\": {\\\\\\\\\\\\\\\"columns\\\\\\\\\\\\\\\": {\\\\\\\\\\\\\\\"type\\\\\\\\\\\\\\\": 0, \\\\\\\\\\\\\\\"details\\\\\\\\\\\\\\\": {\\\\\\\\\\\\\\\"selectedColumns\\\\\\\\\\\\\\\": [\\\\\\\\\\\\\\\"Path\\\\\\\\\\\\\\\"]}}}, \\\\\\\\\\\\\\\"localData\\\\\\\\\\\\\\\": {}, \\\\\\\\\\\\\\\"isEnabled\\\\\\\\\\\\\\\": true, \\\\\\\\\\\\\\\"name\\\\\\\\\\\\\\\": null, \\\\\\\\\\\\\\\"annotation\\\\\\\\\\\\\\\": null}, {\\\\\\\\\\\\\\\"id\\\\\\\\\\\\\\\": \\\\\\\\\\\\\\\"1113a09e-e90d-4160-b323-bb62f6a9fb81\\\\\\\\\\\\\\\", \\\\\\\\\\\\\\\"type\\\\\\\\\\\\\\\": \\\\\\\\\\\\\\\"Microsoft.DPrep.SetColumnTypesBlock\\\\\\\\\\\\\\\", \\\\\\\\\\\\\\\"arguments\\\\\\\\\\\\\\\": {\\\\\\\\\\\\\\\"columnConversion\\\\\\\\\\\\\\\": [{\\\\\\\\\\\\\\\"column\\\\\\\\\\\\\\\": {\\\\\\\\\\\\\\\"type\\\\\\\\\\\\\\\": 2, \\\\\\\\\\\\\\\"details\\\\\\\\\\\\\\\": {\\\\\\\\\\\\\\\"selectedColumn\\\\\\\\\\\\\\\": \\\\\\\\\\\\\\\"age\\\\\\\\\\\\\\\"}}, \\\\\\\\\\\\\\\"typeProperty\\\\\\\\\\\\\\\": 3}, {\\\\\\\\\\\\\\\"column\\\\\\\\\\\\\\\": {\\\\\\\\\\\\\\\"type\\\\\\\\\\\\\\\": 2, \\\\\\\\\\\\\\\"details\\\\\\\\\\\\\\\": {\\\\\\\\\\\\\\\"selectedColumn\\\\\\\\\\\\\\\": \\\\\\\\\\\\\\\"anaemia\\\\\\\\\\\\\\\"}}, \\\\\\\\\\\\\\\"typeProperty\\\\\\\\\\\\\\\": 2}, {\\\\\\\\\\\\\\\"column\\\\\\\\\\\\\\\": {\\\\\\\\\\\\\\\"type\\\\\\\\\\\\\\\": 2, \\\\\\\\\\\\\\\"details\\\\\\\\\\\\\\\": {\\\\\\\\\\\\\\\"selectedColumn\\\\\\\\\\\\\\\": \\\\\\\\\\\\\\\"creatinine_phosphokinase\\\\\\\\\\\\\\\"}}, \\\\\\\\\\\\\\\"typeProperty\\\\\\\\\\\\\\\": 2}, {\\\\\\\\\\\\\\\"column\\\\\\\\\\\\\\\": {\\\\\\\\\\\\\\\"type\\\\\\\\\\\\\\\": 2, \\\\\\\\\\\\\\\"details\\\\\\\\\\\\\\\": {\\\\\\\\\\\\\\\"selectedColumn\\\\\\\\\\\\\\\": \\\\\\\\\\\\\\\"diabetes\\\\\\\\\\\\\\\"}}, \\\\\\\\\\\\\\\"typeProperty\\\\\\\\\\\\\\\": 2}, {\\\\\\\\\\\\\\\"column\\\\\\\\\\\\\\\": {\\\\\\\\\\\\\\\"type\\\\\\\\\\\\\\\": 2, \\\\\\\\\\\\\\\"details\\\\\\\\\\\\\\\": {\\\\\\\\\\\\\\\"selectedColumn\\\\\\\\\\\\\\\": \\\\\\\\\\\\\\\"ejection_fraction\\\\\\\\\\\\\\\"}}, \\\\\\\\\\\\\\\"typeProperty\\\\\\\\\\\\\\\": 2}, {\\\\\\\\\\\\\\\"column\\\\\\\\\\\\\\\": {\\\\\\\\\\\\\\\"type\\\\\\\\\\\\\\\": 2, \\\\\\\\\\\\\\\"details\\\\\\\\\\\\\\\": {\\\\\\\\\\\\\\\"selectedColumn\\\\\\\\\\\\\\\": \\\\\\\\\\\\\\\"high_blood_pressure\\\\\\\\\\\\\\\"}}, \\\\\\\\\\\\\\\"typeProperty\\\\\\\\\\\\\\\": 2}, {\\\\\\\\\\\\\\\"column\\\\\\\\\\\\\\\": {\\\\\\\\\\\\\\\"type\\\\\\\\\\\\\\\": 2, \\\\\\\\\\\\\\\"details\\\\\\\\\\\\\\\": {\\\\\\\\\\\\\\\"selectedColumn\\\\\\\\\\\\\\\": \\\\\\\\\\\\\\\"platelets\\\\\\\\\\\\\\\"}}, \\\\\\\\\\\\\\\"typeProperty\\\\\\\\\\\\\\\": 3}, {\\\\\\\\\\\\\\\"column\\\\\\\\\\\\\\\": {\\\\\\\\\\\\\\\"type\\\\\\\\\\\\\\\": 2, \\\\\\\\\\\\\\\"details\\\\\\\\\\\\\\\": {\\\\\\\\\\\\\\\"selectedColumn\\\\\\\\\\\\\\\": \\\\\\\\\\\\\\\"serum_creatinine\\\\\\\\\\\\\\\"}}, \\\\\\\\\\\\\\\"typeProperty\\\\\\\\\\\\\\\": 3}, {\\\\\\\\\\\\\\\"column\\\\\\\\\\\\\\\": {\\\\\\\\\\\\\\\"type\\\\\\\\\\\\\\\": 2, \\\\\\\\\\\\\\\"details\\\\\\\\\\\\\\\": {\\\\\\\\\\\\\\\"selectedColumn\\\\\\\\\\\\\\\": \\\\\\\\\\\\\\\"serum_sodium\\\\\\\\\\\\\\\"}}, \\\\\\\\\\\\\\\"typeProperty\\\\\\\\\\\\\\\": 2}, {\\\\\\\\\\\\\\\"column\\\\\\\\\\\\\\\": {\\\\\\\\\\\\\\\"type\\\\\\\\\\\\\\\": 2, \\\\\\\\\\\\\\\"details\\\\\\\\\\\\\\\": {\\\\\\\\\\\\\\\"selectedColumn\\\\\\\\\\\\\\\": \\\\\\\\\\\\\\\"sex\\\\\\\\\\\\\\\"}}, \\\\\\\\\\\\\\\"typeProperty\\\\\\\\\\\\\\\": 2}, {\\\\\\\\\\\\\\\"column\\\\\\\\\\\\\\\": {\\\\\\\\\\\\\\\"type\\\\\\\\\\\\\\\": 2, \\\\\\\\\\\\\\\"details\\\\\\\\\\\\\\\": {\\\\\\\\\\\\\\\"selectedColumn\\\\\\\\\\\\\\\": \\\\\\\\\\\\\\\"smoking\\\\\\\\\\\\\\\"}}, \\\\\\\\\\\\\\\"typeProperty\\\\\\\\\\\\\\\": 2}, {\\\\\\\\\\\\\\\"column\\\\\\\\\\\\\\\": {\\\\\\\\\\\\\\\"type\\\\\\\\\\\\\\\": 2, \\\\\\\\\\\\\\\"details\\\\\\\\\\\\\\\": {\\\\\\\\\\\\\\\"selectedColumn\\\\\\\\\\\\\\\": \\\\\\\\\\\\\\\"time\\\\\\\\\\\\\\\"}}, \\\\\\\\\\\\\\\"typeProperty\\\\\\\\\\\\\\\": 2}, {\\\\\\\\\\\\\\\"column\\\\\\\\\\\\\\\": {\\\\\\\\\\\\\\\"type\\\\\\\\\\\\\\\": 2, \\\\\\\\\\\\\\\"details\\\\\\\\\\\\\\\": {\\\\\\\\\\\\\\\"selectedColumn\\\\\\\\\\\\\\\": \\\\\\\\\\\\\\\"DEATH_EVENT\\\\\\\\\\\\\\\"}}, \\\\\\\\\\\\\\\"typeProperty\\\\\\\\\\\\\\\": 2}]}, \\\\\\\\\\\\\\\"localData\\\\\\\\\\\\\\\": {}, \\\\\\\\\\\\\\\"isEnabled\\\\\\\\\\\\\\\": true, \\\\\\\\\\\\\\\"name\\\\\\\\\\\\\\\": null, \\\\\\\\\\\\\\\"annotation\\\\\\\\\\\\\\\": null}], \\\\\\\\\\\\\\\"inspectors\\\\\\\\\\\\\\\": [], \\\\\\\\\\\\\\\"meta\\\\\\\\\\\\\\\": {\\\\\\\\\\\\\\\"savedDatasetId\\\\\\\\\\\\\\\": \\\\\\\\\\\\\\\"6114fff6-a7fb-4606-83f0-a8adeb553301\\\\\\\\\\\\\\\", \\\\\\\\\\\\\\\"datasetType\\\\\\\\\\\\\\\": \\\\\\\\\\\\\\\"tabular\\\\\\\\\\\\\\\", \\\\\\\\\\\\\\\"subscriptionId\\\\\\\\\\\\\\\": \\\\\\\\\\\\\\\"61c5c3f0-6dc7-4ed9-a7f3-c704b20e3b30\\\\\\\\\\\\\\\", \\\\\\\\\\\\\\\"workspaceId\\\\\\\\\\\\\\\": \\\\\\\\\\\\\\\"7fb0069e-8ecc-4f5b-b279-b964933d836f\\\\\\\\\\\\\\\", \\\\\\\\\\\\\\\"workspaceLocation\\\\\\\\\\\\\\\": \\\\\\\\\\\\\\\"southcentralus\\\\\\\\\\\\\\\"}}\\\\\\\", \\\\\\\"activities\\\\\\\": 0}\", \"EnableSubsampling\": null, \"runTemplate\": \"AutoML\", \"azureml.runsource\": \"automl\", \"display_task_type\": \"classification\", \"dependencies_versions\": \"{\\\"azureml-widgets\\\": \\\"1.20.0\\\", \\\"azureml-train\\\": \\\"1.20.0\\\", \\\"azureml-train-restclients-hyperdrive\\\": \\\"1.20.0\\\", \\\"azureml-train-core\\\": \\\"1.20.0\\\", \\\"azureml-train-automl\\\": \\\"1.20.0\\\", \\\"azureml-train-automl-runtime\\\": \\\"1.20.0\\\", \\\"azureml-train-automl-client\\\": \\\"1.20.0\\\", \\\"azureml-tensorboard\\\": \\\"1.20.0\\\", \\\"azureml-telemetry\\\": \\\"1.20.0\\\", \\\"azureml-sdk\\\": \\\"1.20.0\\\", \\\"azureml-samples\\\": \\\"0+unknown\\\", \\\"azureml-pipeline\\\": \\\"1.20.0\\\", \\\"azureml-pipeline-steps\\\": \\\"1.20.0\\\", \\\"azureml-pipeline-core\\\": \\\"1.20.0\\\", \\\"azureml-opendatasets\\\": \\\"1.20.0\\\", \\\"azureml-model-management-sdk\\\": \\\"1.0.1b6.post1\\\", \\\"azureml-mlflow\\\": \\\"1.20.0.post1\\\", \\\"azureml-interpret\\\": \\\"1.20.0\\\", \\\"azureml-explain-model\\\": \\\"1.20.0\\\", \\\"azureml-defaults\\\": \\\"1.20.0\\\", \\\"azureml-dataset-runtime\\\": \\\"1.20.0\\\", \\\"azureml-dataprep\\\": \\\"2.7.3\\\", \\\"azureml-dataprep-rslex\\\": \\\"1.5.0\\\", \\\"azureml-dataprep-native\\\": \\\"27.0.0\\\", \\\"azureml-datadrift\\\": \\\"1.20.0\\\", \\\"azureml-core\\\": \\\"1.20.0\\\", \\\"azureml-contrib-services\\\": \\\"1.20.0\\\", \\\"azureml-contrib-server\\\": \\\"1.20.0\\\", \\\"azureml-contrib-reinforcementlearning\\\": \\\"1.20.0\\\", \\\"azureml-contrib-pipeline-steps\\\": \\\"1.20.0\\\", \\\"azureml-contrib-notebook\\\": \\\"1.20.0\\\", \\\"azureml-contrib-interpret\\\": \\\"1.20.0\\\", \\\"azureml-contrib-gbdt\\\": \\\"1.20.0\\\", \\\"azureml-contrib-fairness\\\": \\\"1.20.0\\\", \\\"azureml-contrib-dataset\\\": \\\"1.20.0\\\", \\\"azureml-cli-common\\\": \\\"1.20.0\\\", \\\"azureml-automl-runtime\\\": \\\"1.20.0\\\", \\\"azureml-automl-core\\\": \\\"1.20.0\\\", \\\"azureml-accel-models\\\": \\\"1.20.0\\\"}\", \"_aml_system_scenario_identification\": \"Remote.Parent\", \"ClientType\": \"SDK\", \"environment_cpu_name\": \"AzureML-AutoML\", \"environment_cpu_label\": \"prod\", \"environment_gpu_name\": \"AzureML-AutoML-GPU\", \"environment_gpu_label\": \"prod\", \"root_attribution\": \"automl\", \"attribution\": \"AutoML\", \"Orchestrator\": \"AutoML\", \"CancelUri\": \"https://southcentralus.experiments.azureml.net/jasmine/v1.0/subscriptions/61c5c3f0-6dc7-4ed9-a7f3-c704b20e3b30/resourceGroups/aml-quickstarts-136763/providers/Microsoft.MachineLearningServices/workspaces/quick-starts-ws-136763/experimentids/598fb99d-5a0b-4cac-88c2-90e750ad8aaa/cancel/AutoML_2390dc8f-b818-486e-94de-b3e3bf41227d\", \"ClientSdkVersion\": \"1.20.0.post1\", \"snapshotId\": \"00000000-0000-0000-0000-000000000000\", \"SetupRunId\": \"AutoML_2390dc8f-b818-486e-94de-b3e3bf41227d_setup\", \"SetupRunContainerId\": \"dcid.AutoML_2390dc8f-b818-486e-94de-b3e3bf41227d_setup\", \"FeaturizationRunJsonPath\": \"featurizer_container.json\", \"FeaturizationRunId\": \"AutoML_2390dc8f-b818-486e-94de-b3e3bf41227d_featurize\", \"ProblemInfoJsonString\": \"{\\\"dataset_num_categorical\\\": 0, \\\"is_sparse\\\": false, \\\"subsampling\\\": false, \\\"dataset_classes\\\": 2, \\\"dataset_features\\\": 12, \\\"dataset_samples\\\": 299, \\\"single_frequency_class_detected\\\": false}\", \"ModelExplainRunId\": \"AutoML_2390dc8f-b818-486e-94de-b3e3bf41227d_ModelExplain\"}, \"tags\": {\"model_explain_run\": \"best_run\", \"_aml_system_azureml.automlComponent\": \"AutoML\", \"pipeline_id\": \"\", \"score\": \"\", \"predicted_cost\": \"\", \"fit_time\": \"\", \"training_percent\": \"\", \"iteration\": \"\", \"run_preprocessor\": \"\", \"run_algorithm\": \"\", \"dynamic_whitelisting_iterations\": \"<25>;<30>;<35>;<39>;<45>;\", \"automl_best_child_run_id\": \"AutoML_2390dc8f-b818-486e-94de-b3e3bf41227d_47\", \"model_explain_best_run_child_id\": \"AutoML_2390dc8f-b818-486e-94de-b3e3bf41227d_47\"}, \"end_time_utc\": \"2021-01-31T18:18:28.361429Z\", \"status\": \"Completed\", \"log_files\": {}, \"log_groups\": [], \"run_duration\": \"0:13:07\"}, \"child_runs\": [{\"run_id\": \"AutoML_2390dc8f-b818-486e-94de-b3e3bf41227d_0\", \"run_number\": 5, \"metric\": null, \"status\": \"Completed\", \"run_type\": \"azureml.scriptrun\", \"training_percent\": \"100\", \"start_time\": \"2021-01-31T18:10:27.443646Z\", \"end_time\": \"2021-01-31T18:11:25.300971Z\", \"created_time\": \"2021-01-31T18:10:15.530242Z\", \"created_time_dt\": \"2021-01-31T18:10:15.530242Z\", \"duration\": \"0:01:09\", \"iteration\": \"0\", \"goal\": \"accuracy_max\", \"run_name\": \"MaxAbsScaler, LightGBM\", \"run_properties\": \"copy=True\", \"primary_metric\": 0.8059887, \"best_metric\": 0.8059887}, {\"run_id\": \"AutoML_2390dc8f-b818-486e-94de-b3e3bf41227d_9\", \"run_number\": 6, \"metric\": null, \"status\": \"Completed\", \"run_type\": \"azureml.scriptrun\", \"training_percent\": \"100\", \"start_time\": \"2021-01-31T18:10:28.790849Z\", \"end_time\": \"2021-01-31T18:11:27.313467Z\", \"created_time\": \"2021-01-31T18:10:15.668401Z\", \"created_time_dt\": \"2021-01-31T18:10:15.668401Z\", \"duration\": \"0:01:11\", \"iteration\": \"9\", \"goal\": \"accuracy_max\", \"run_name\": \"SparseNormalizer, XGBoostClassifier\", \"run_properties\": \"<azureml.automl.runtime.shared.model_wrappers.SparseNormalizer object at 0x7f136e87f4e0\", \"primary_metric\": 0.85632768, \"best_metric\": 0.85632768}, {\"run_id\": \"AutoML_2390dc8f-b818-486e-94de-b3e3bf41227d_1\", \"run_number\": 7, \"metric\": null, \"status\": \"Completed\", \"run_type\": \"azureml.scriptrun\", \"training_percent\": \"100\", \"start_time\": \"2021-01-31T18:11:27.183807Z\", \"end_time\": \"2021-01-31T18:12:23.451071Z\", \"created_time\": \"2021-01-31T18:10:15.681519Z\", \"created_time_dt\": \"2021-01-31T18:10:15.681519Z\", \"duration\": \"0:02:07\", \"iteration\": \"1\", \"goal\": \"accuracy_max\", \"run_name\": \"MaxAbsScaler, XGBoostClassifier\", \"run_properties\": \"copy=True\", \"primary_metric\": 0.8259322, \"best_metric\": 0.8259322}, {\"run_id\": \"AutoML_2390dc8f-b818-486e-94de-b3e3bf41227d_2\", \"run_number\": 8, \"metric\": null, \"status\": \"Completed\", \"run_type\": \"azureml.scriptrun\", \"training_percent\": \"100\", \"start_time\": \"2021-01-31T18:10:27.786705Z\", \"end_time\": \"2021-01-31T18:11:29.49497Z\", \"created_time\": \"2021-01-31T18:10:15.688331Z\", \"created_time_dt\": \"2021-01-31T18:10:15.688331Z\", \"duration\": \"0:01:13\", \"iteration\": \"2\", \"goal\": \"accuracy_max\", \"run_name\": \"MinMaxScaler, RandomForest\", \"run_properties\": \"copy=True, feature_range=(0, 1\", \"primary_metric\": 0.83937853, \"best_metric\": 0.83937853}, {\"run_id\": \"AutoML_2390dc8f-b818-486e-94de-b3e3bf41227d_3\", \"run_number\": 9, \"metric\": null, \"status\": \"Completed\", \"run_type\": \"azureml.scriptrun\", \"training_percent\": \"100\", \"start_time\": \"2021-01-31T18:10:27.504323Z\", \"end_time\": \"2021-01-31T18:11:25.536783Z\", \"created_time\": \"2021-01-31T18:10:15.69331Z\", \"created_time_dt\": \"2021-01-31T18:10:15.69331Z\", \"duration\": \"0:01:09\", \"iteration\": \"3\", \"goal\": \"accuracy_max\", \"run_name\": \"MinMaxScaler, RandomForest\", \"run_properties\": \"copy=True, feature_range=(0, 1\", \"primary_metric\": 0.8160452, \"best_metric\": 0.83937853}, {\"run_id\": \"AutoML_2390dc8f-b818-486e-94de-b3e3bf41227d_8\", \"run_number\": 10, \"metric\": null, \"status\": \"Completed\", \"run_type\": \"azureml.scriptrun\", \"training_percent\": \"100\", \"start_time\": \"2021-01-31T18:10:28.768531Z\", \"end_time\": \"2021-01-31T18:11:26.583009Z\", \"created_time\": \"2021-01-31T18:10:15.707974Z\", \"created_time_dt\": \"2021-01-31T18:10:15.707974Z\", \"duration\": \"0:01:10\", \"iteration\": \"8\", \"goal\": \"accuracy_max\", \"run_name\": \"MaxAbsScaler, LightGBM\", \"run_properties\": \"copy=True\", \"primary_metric\": 0.83943503, \"best_metric\": 0.83943503}, {\"run_id\": \"AutoML_2390dc8f-b818-486e-94de-b3e3bf41227d_4\", \"run_number\": 11, \"metric\": null, \"status\": \"Completed\", \"run_type\": \"azureml.scriptrun\", \"training_percent\": \"100\", \"start_time\": \"2021-01-31T18:10:29.69267Z\", \"end_time\": \"2021-01-31T18:11:22.300206Z\", \"created_time\": \"2021-01-31T18:10:15.657963Z\", \"created_time_dt\": \"2021-01-31T18:10:15.657963Z\", \"duration\": \"0:01:06\", \"iteration\": \"4\", \"goal\": \"accuracy_max\", \"run_name\": \"MinMaxScaler, RandomForest\", \"run_properties\": \"copy=True, feature_range=(0, 1\", \"primary_metric\": 0.80581921, \"best_metric\": 0.83937853}, {\"run_id\": \"AutoML_2390dc8f-b818-486e-94de-b3e3bf41227d_7\", \"run_number\": 12, \"metric\": null, \"status\": \"Failed\", \"run_type\": null, \"training_percent\": \"100\", \"start_time\": \"2021-01-31T18:10:15.670244Z\", \"end_time\": \"2021-01-31T18:10:17.604595Z\", \"created_time\": \"2021-01-31T18:10:15.670244Z\", \"created_time_dt\": \"2021-01-31T18:10:15.670244Z\", \"duration\": \"0:00:01\", \"iteration\": \"7\", \"goal\": null, \"run_name\": \"Failed\", \"run_properties\": null}, {\"run_id\": \"AutoML_2390dc8f-b818-486e-94de-b3e3bf41227d_6\", \"run_number\": 13, \"metric\": null, \"status\": \"Completed\", \"run_type\": \"azureml.scriptrun\", \"training_percent\": \"100\", \"start_time\": \"2021-01-31T18:10:28.675557Z\", \"end_time\": \"2021-01-31T18:11:22.940304Z\", \"created_time\": \"2021-01-31T18:10:15.673147Z\", \"created_time_dt\": \"2021-01-31T18:10:15.673147Z\", \"duration\": \"0:01:07\", \"iteration\": \"6\", \"goal\": \"accuracy_max\", \"run_name\": \"TruncatedSVDWrapper, XGBoostClassifier\", \"run_properties\": \"n_components=0.8510526315789474, random_state=None\", \"primary_metric\": 0.76909605, \"best_metric\": 0.83937853}, {\"run_id\": \"AutoML_2390dc8f-b818-486e-94de-b3e3bf41227d_5\", \"run_number\": 14, \"metric\": null, \"status\": \"Completed\", \"run_type\": \"azureml.scriptrun\", \"training_percent\": \"100\", \"start_time\": \"2021-01-31T18:10:27.913874Z\", \"end_time\": \"2021-01-31T18:11:30.928443Z\", \"created_time\": \"2021-01-31T18:10:15.668657Z\", \"created_time_dt\": \"2021-01-31T18:10:15.668657Z\", \"duration\": \"0:01:15\", \"iteration\": \"5\", \"goal\": \"accuracy_max\", \"run_name\": \"StandardScalerWrapper, XGBoostClassifier\", \"run_properties\": \"<azureml.automl.runtime.shared.model_wrappers.StandardScalerWrapper object at 0x7fe93c920b38\", \"primary_metric\": 0.83610169, \"best_metric\": 0.83937853}, {\"run_id\": \"AutoML_2390dc8f-b818-486e-94de-b3e3bf41227d_10\", \"run_number\": 15, \"metric\": null, \"status\": \"Completed\", \"run_type\": \"azureml.scriptrun\", \"training_percent\": \"100\", \"start_time\": \"2021-01-31T18:11:27.045361Z\", \"end_time\": \"2021-01-31T18:12:20.943026Z\", \"created_time\": \"2021-01-31T18:10:24.630857Z\", \"created_time_dt\": \"2021-01-31T18:10:24.630857Z\", \"duration\": \"0:01:56\", \"iteration\": \"10\", \"goal\": \"accuracy_max\", \"run_name\": \"SparseNormalizer, GradientBoosting\", \"run_properties\": \"<azureml.automl.runtime.shared.model_wrappers.SparseNormalizer object at 0x7f0904126a90\", \"primary_metric\": 0.84632768, \"best_metric\": 0.85632768}, {\"run_id\": \"AutoML_2390dc8f-b818-486e-94de-b3e3bf41227d_11\", \"run_number\": 16, \"metric\": null, \"status\": \"Completed\", \"run_type\": \"azureml.scriptrun\", \"training_percent\": \"100\", \"start_time\": \"2021-01-31T18:11:38.99175Z\", \"end_time\": \"2021-01-31T18:12:27.047869Z\", \"created_time\": \"2021-01-31T18:11:25.810978Z\", \"created_time_dt\": \"2021-01-31T18:11:25.810978Z\", \"duration\": \"0:01:01\", \"iteration\": \"11\", \"goal\": \"accuracy_max\", \"run_name\": \"MaxAbsScaler, LogisticRegression\", \"run_properties\": \"copy=True\", \"primary_metric\": 0.81937853, \"best_metric\": 0.85632768}, {\"run_id\": \"AutoML_2390dc8f-b818-486e-94de-b3e3bf41227d_12\", \"run_number\": 17, \"metric\": null, \"status\": \"Completed\", \"run_type\": \"azureml.scriptrun\", \"training_percent\": \"100\", \"start_time\": \"2021-01-31T18:11:37.25062Z\", \"end_time\": \"2021-01-31T18:12:21.991381Z\", \"created_time\": \"2021-01-31T18:11:25.866023Z\", \"created_time_dt\": \"2021-01-31T18:11:25.866023Z\", \"duration\": \"0:00:56\", \"iteration\": \"12\", \"goal\": \"accuracy_max\", \"run_name\": \"SparseNormalizer, XGBoostClassifier\", \"run_properties\": \"<azureml.automl.runtime.shared.model_wrappers.SparseNormalizer object at 0x7f5250c19518\", \"primary_metric\": 0.85288136, \"best_metric\": 0.85632768}, {\"run_id\": \"AutoML_2390dc8f-b818-486e-94de-b3e3bf41227d_14\", \"run_number\": 18, \"metric\": null, \"status\": \"Completed\", \"run_type\": \"azureml.scriptrun\", \"training_percent\": \"100\", \"start_time\": \"2021-01-31T18:11:42.959069Z\", \"end_time\": \"2021-01-31T18:12:33.976653Z\", \"created_time\": \"2021-01-31T18:11:31.445838Z\", \"created_time_dt\": \"2021-01-31T18:11:31.445838Z\", \"duration\": \"0:01:02\", \"iteration\": \"14\", \"goal\": \"accuracy_max\", \"run_name\": \"MinMaxScaler, LogisticRegression\", \"run_properties\": \"copy=True, feature_range=(0, 1\", \"primary_metric\": 0.8160452, \"best_metric\": 0.85632768}, {\"run_id\": \"AutoML_2390dc8f-b818-486e-94de-b3e3bf41227d_13\", \"run_number\": 19, \"metric\": null, \"status\": \"Completed\", \"run_type\": \"azureml.scriptrun\", \"training_percent\": \"100\", \"start_time\": \"2021-01-31T18:11:47.568842Z\", \"end_time\": \"2021-01-31T18:12:58.33907Z\", \"created_time\": \"2021-01-31T18:11:31.454684Z\", \"created_time_dt\": \"2021-01-31T18:11:31.454684Z\", \"duration\": \"0:01:26\", \"iteration\": \"13\", \"goal\": \"accuracy_max\", \"run_name\": \"StandardScalerWrapper, LogisticRegression\", \"run_properties\": \"<azureml.automl.runtime.shared.model_wrappers.StandardScalerWrapper object at 0x7fb4ced62b00\", \"primary_metric\": 0.8160452, \"best_metric\": 0.85632768}, {\"run_id\": \"AutoML_2390dc8f-b818-486e-94de-b3e3bf41227d_16\", \"run_number\": 20, \"metric\": null, \"status\": \"Completed\", \"run_type\": \"azureml.scriptrun\", \"training_percent\": \"100\", \"start_time\": \"2021-01-31T18:11:42.489534Z\", \"end_time\": \"2021-01-31T18:12:58.658987Z\", \"created_time\": \"2021-01-31T18:11:31.48998Z\", \"created_time_dt\": \"2021-01-31T18:11:31.48998Z\", \"duration\": \"0:01:27\", \"iteration\": \"16\", \"goal\": \"accuracy_max\", \"run_name\": \"SparseNormalizer, XGBoostClassifier\", \"run_properties\": \"<azureml.automl.runtime.shared.model_wrappers.SparseNormalizer object at 0x7fbac00dc518\", \"primary_metric\": 0.83943503, \"best_metric\": 0.85632768}, {\"run_id\": \"AutoML_2390dc8f-b818-486e-94de-b3e3bf41227d_15\", \"run_number\": 21, \"metric\": null, \"status\": \"Completed\", \"run_type\": \"azureml.scriptrun\", \"training_percent\": \"100\", \"start_time\": \"2021-01-31T18:11:44.505954Z\", \"end_time\": \"2021-01-31T18:12:32.174008Z\", \"created_time\": \"2021-01-31T18:11:31.450498Z\", \"created_time_dt\": \"2021-01-31T18:11:31.450498Z\", \"duration\": \"0:01:00\", \"iteration\": \"15\", \"goal\": \"accuracy_max\", \"run_name\": \"StandardScalerWrapper, LogisticRegression\", \"run_properties\": \"<azureml.automl.runtime.shared.model_wrappers.StandardScalerWrapper object at 0x7ff5e62279e8\", \"primary_metric\": 0.8160452, \"best_metric\": 0.85632768}, {\"run_id\": \"AutoML_2390dc8f-b818-486e-94de-b3e3bf41227d_18\", \"run_number\": 22, \"metric\": null, \"status\": \"Completed\", \"run_type\": \"azureml.scriptrun\", \"training_percent\": \"100\", \"start_time\": \"2021-01-31T18:12:24.995017Z\", \"end_time\": \"2021-01-31T18:13:21.288671Z\", \"created_time\": \"2021-01-31T18:11:38.445029Z\", \"created_time_dt\": \"2021-01-31T18:11:38.445029Z\", \"duration\": \"0:01:42\", \"iteration\": \"18\", \"goal\": \"accuracy_max\", \"run_name\": \"StandardScalerWrapper, LogisticRegression\", \"run_properties\": \"<azureml.automl.runtime.shared.model_wrappers.StandardScalerWrapper object at 0x7f9d2cb0a828\", \"primary_metric\": 0.8160452, \"best_metric\": 0.85632768}, {\"run_id\": \"AutoML_2390dc8f-b818-486e-94de-b3e3bf41227d_17\", \"run_number\": 23, \"metric\": null, \"status\": \"Completed\", \"run_type\": \"azureml.scriptrun\", \"training_percent\": \"100\", \"start_time\": \"2021-01-31T18:12:23.752056Z\", \"end_time\": \"2021-01-31T18:13:17.125547Z\", \"created_time\": \"2021-01-31T18:11:38.486027Z\", \"created_time_dt\": \"2021-01-31T18:11:38.486027Z\", \"duration\": \"0:01:38\", \"iteration\": \"17\", \"goal\": \"accuracy_max\", \"run_name\": \"SparseNormalizer, XGBoostClassifier\", \"run_properties\": \"<azureml.automl.runtime.shared.model_wrappers.SparseNormalizer object at 0x7f61ac444828\", \"primary_metric\": 0.84282486, \"best_metric\": 0.85632768}, {\"run_id\": \"AutoML_2390dc8f-b818-486e-94de-b3e3bf41227d_19\", \"run_number\": 24, \"metric\": null, \"status\": \"Completed\", \"run_type\": \"azureml.scriptrun\", \"training_percent\": \"100\", \"start_time\": \"2021-01-31T18:12:37.024232Z\", \"end_time\": \"2021-01-31T18:13:23.510891Z\", \"created_time\": \"2021-01-31T18:12:23.396286Z\", \"created_time_dt\": \"2021-01-31T18:12:23.396286Z\", \"duration\": \"0:01:00\", \"iteration\": \"19\", \"goal\": \"accuracy_max\", \"run_name\": \"SparseNormalizer, XGBoostClassifier\", \"run_properties\": \"<azureml.automl.runtime.shared.model_wrappers.SparseNormalizer object at 0x7f5c81bf1358\", \"primary_metric\": 0.84966102, \"best_metric\": 0.85632768}, {\"run_id\": \"AutoML_2390dc8f-b818-486e-94de-b3e3bf41227d_20\", \"run_number\": 25, \"metric\": null, \"status\": \"Completed\", \"run_type\": \"azureml.scriptrun\", \"training_percent\": \"100\", \"start_time\": \"2021-01-31T18:12:40.903366Z\", \"end_time\": \"2021-01-31T18:14:00.732273Z\", \"created_time\": \"2021-01-31T18:12:27.894738Z\", \"created_time_dt\": \"2021-01-31T18:12:27.894738Z\", \"duration\": \"0:01:32\", \"iteration\": \"20\", \"goal\": \"accuracy_max\", \"run_name\": \"MinMaxScaler, LightGBM\", \"run_properties\": \"copy=True, feature_range=(0, 1\", \"primary_metric\": 0.81615819, \"best_metric\": 0.85632768}, {\"run_id\": \"AutoML_2390dc8f-b818-486e-94de-b3e3bf41227d_21\", \"run_number\": 26, \"metric\": null, \"status\": \"Completed\", \"run_type\": \"azureml.scriptrun\", \"training_percent\": \"100\", \"start_time\": \"2021-01-31T18:12:40.202695Z\", \"end_time\": \"2021-01-31T18:13:32.060256Z\", \"created_time\": \"2021-01-31T18:12:28.027794Z\", \"created_time_dt\": \"2021-01-31T18:12:28.027794Z\", \"duration\": \"0:01:04\", \"iteration\": \"21\", \"goal\": \"accuracy_max\", \"run_name\": \"MaxAbsScaler, LightGBM\", \"run_properties\": \"copy=True\", \"primary_metric\": 0.81926554, \"best_metric\": 0.85632768}, {\"run_id\": \"AutoML_2390dc8f-b818-486e-94de-b3e3bf41227d_22\", \"run_number\": 27, \"metric\": null, \"status\": \"Completed\", \"run_type\": \"azureml.scriptrun\", \"training_percent\": \"100\", \"start_time\": \"2021-01-31T18:12:44.827816Z\", \"end_time\": \"2021-01-31T18:13:39.737734Z\", \"created_time\": \"2021-01-31T18:12:32.798371Z\", \"created_time_dt\": \"2021-01-31T18:12:32.798371Z\", \"duration\": \"0:01:06\", \"iteration\": \"22\", \"goal\": \"accuracy_max\", \"run_name\": \"MaxAbsScaler, ExtremeRandomTrees\", \"run_properties\": \"copy=True\", \"primary_metric\": 0.84276836, \"best_metric\": 0.85632768}, {\"run_id\": \"AutoML_2390dc8f-b818-486e-94de-b3e3bf41227d_24\", \"run_number\": 28, \"metric\": null, \"status\": \"Completed\", \"run_type\": \"azureml.scriptrun\", \"training_percent\": \"100\", \"start_time\": \"2021-01-31T18:13:04.330412Z\", \"end_time\": \"2021-01-31T18:14:02.162901Z\", \"created_time\": \"2021-01-31T18:12:38.259472Z\", \"created_time_dt\": \"2021-01-31T18:12:38.259472Z\", \"duration\": \"0:01:23\", \"iteration\": \"24\", \"goal\": \"accuracy_max\", \"run_name\": \"RobustScaler, LightGBM\", \"run_properties\": \"copy=True, quantile_range=[10, 90], with_centering=False,\\n             with_scaling=False\", \"primary_metric\": 0.82587571, \"best_metric\": 0.85632768}, {\"run_id\": \"AutoML_2390dc8f-b818-486e-94de-b3e3bf41227d_23\", \"run_number\": 29, \"metric\": null, \"status\": \"Completed\", \"run_type\": \"azureml.scriptrun\", \"training_percent\": \"100\", \"start_time\": \"2021-01-31T18:13:03.815076Z\", \"end_time\": \"2021-01-31T18:14:00.602457Z\", \"created_time\": \"2021-01-31T18:12:38.275055Z\", \"created_time_dt\": \"2021-01-31T18:12:38.275055Z\", \"duration\": \"0:01:22\", \"iteration\": \"23\", \"goal\": \"accuracy_max\", \"run_name\": \"StandardScalerWrapper, LightGBM\", \"run_properties\": \"<azureml.automl.runtime.shared.model_wrappers.StandardScalerWrapper object at 0x7f908e19f5c0\", \"primary_metric\": 0.8059322, \"best_metric\": 0.85632768}, {\"run_id\": \"AutoML_2390dc8f-b818-486e-94de-b3e3bf41227d_25\", \"run_number\": 30, \"metric\": null, \"status\": \"Completed\", \"run_type\": \"azureml.scriptrun\", \"training_percent\": \"100\", \"start_time\": \"2021-01-31T18:13:19.318424Z\", \"end_time\": \"2021-01-31T18:14:12.284513Z\", \"created_time\": \"2021-01-31T18:13:02.055422Z\", \"created_time_dt\": \"2021-01-31T18:13:02.055422Z\", \"duration\": \"0:01:10\", \"iteration\": \"25\", \"goal\": \"accuracy_max\", \"run_name\": \"PCA, XGBoostClassifier\", \"run_properties\": \"copy=True, iterated_power='auto', n_components=0.10894736842105263,\\n    random_state=None, svd_solver='auto', tol=0.0, whiten=True\", \"primary_metric\": 0.67909605, \"best_metric\": 0.85632768}, {\"run_id\": \"AutoML_2390dc8f-b818-486e-94de-b3e3bf41227d_26\", \"run_number\": 31, \"metric\": null, \"status\": \"Completed\", \"run_type\": \"azureml.scriptrun\", \"training_percent\": \"100\", \"start_time\": \"2021-01-31T18:13:25.446249Z\", \"end_time\": \"2021-01-31T18:14:21.433313Z\", \"created_time\": \"2021-01-31T18:13:02.171077Z\", \"created_time_dt\": \"2021-01-31T18:13:02.171077Z\", \"duration\": \"0:01:19\", \"iteration\": \"26\", \"goal\": \"accuracy_max\", \"run_name\": \"StandardScalerWrapper, RandomForest\", \"run_properties\": \"<azureml.automl.runtime.shared.model_wrappers.StandardScalerWrapper object at 0x7f0c616d5f28\", \"primary_metric\": 0.84271186, \"best_metric\": 0.85632768}, {\"run_id\": \"AutoML_2390dc8f-b818-486e-94de-b3e3bf41227d_27\", \"run_number\": 32, \"metric\": null, \"status\": \"Completed\", \"run_type\": \"azureml.scriptrun\", \"training_percent\": \"100\", \"start_time\": \"2021-01-31T18:13:32.250942Z\", \"end_time\": \"2021-01-31T18:14:21.018486Z\", \"created_time\": \"2021-01-31T18:13:20.05933Z\", \"created_time_dt\": \"2021-01-31T18:13:20.05933Z\", \"duration\": \"0:01:00\", \"iteration\": \"27\", \"goal\": \"accuracy_max\", \"run_name\": \"StandardScalerWrapper, LightGBM\", \"run_properties\": \"<azureml.automl.runtime.shared.model_wrappers.StandardScalerWrapper object at 0x7ff43409fdd8\", \"primary_metric\": 0.79276836, \"best_metric\": 0.85632768}, {\"run_id\": \"AutoML_2390dc8f-b818-486e-94de-b3e3bf41227d_28\", \"run_number\": 33, \"metric\": null, \"status\": \"Completed\", \"run_type\": \"azureml.scriptrun\", \"training_percent\": \"100\", \"start_time\": \"2021-01-31T18:13:37.559419Z\", \"end_time\": \"2021-01-31T18:15:00.075423Z\", \"created_time\": \"2021-01-31T18:13:24.592749Z\", \"created_time_dt\": \"2021-01-31T18:13:24.592749Z\", \"duration\": \"0:01:35\", \"iteration\": \"28\", \"goal\": \"accuracy_max\", \"run_name\": \"StandardScalerWrapper, LightGBM\", \"run_properties\": \"<azureml.automl.runtime.shared.model_wrappers.StandardScalerWrapper object at 0x7fcbbd7acfd0\", \"primary_metric\": 0.83259887, \"best_metric\": 0.85632768}, {\"run_id\": \"AutoML_2390dc8f-b818-486e-94de-b3e3bf41227d_29\", \"run_number\": 34, \"metric\": null, \"status\": \"Completed\", \"run_type\": \"azureml.scriptrun\", \"training_percent\": \"100\", \"start_time\": \"2021-01-31T18:13:42.606659Z\", \"end_time\": \"2021-01-31T18:15:01.081553Z\", \"created_time\": \"2021-01-31T18:13:28.405099Z\", \"created_time_dt\": \"2021-01-31T18:13:28.405099Z\", \"duration\": \"0:01:32\", \"iteration\": \"29\", \"goal\": \"accuracy_max\", \"run_name\": \"StandardScalerWrapper, LightGBM\", \"run_properties\": \"<azureml.automl.runtime.shared.model_wrappers.StandardScalerWrapper object at 0x7ff2083985f8\", \"primary_metric\": 0.79276836, \"best_metric\": 0.85632768}, {\"run_id\": \"AutoML_2390dc8f-b818-486e-94de-b3e3bf41227d_30\", \"run_number\": 35, \"metric\": null, \"status\": \"Completed\", \"run_type\": \"azureml.scriptrun\", \"training_percent\": \"100\", \"start_time\": \"2021-01-31T18:14:03.287665Z\", \"end_time\": \"2021-01-31T18:14:56.418666Z\", \"created_time\": \"2021-01-31T18:13:35.345867Z\", \"created_time_dt\": \"2021-01-31T18:13:35.345867Z\", \"duration\": \"0:01:21\", \"iteration\": \"30\", \"goal\": \"accuracy_max\", \"run_name\": \"SparseNormalizer, XGBoostClassifier\", \"run_properties\": \"<azureml.automl.runtime.shared.model_wrappers.SparseNormalizer object at 0x7f297ea57b70\", \"primary_metric\": 0.67909605, \"best_metric\": 0.85632768}, {\"run_id\": \"AutoML_2390dc8f-b818-486e-94de-b3e3bf41227d_31\", \"run_number\": 36, \"metric\": null, \"status\": \"Completed\", \"run_type\": \"azureml.scriptrun\", \"training_percent\": \"100\", \"start_time\": \"2021-01-31T18:14:07.041139Z\", \"end_time\": \"2021-01-31T18:15:08.987764Z\", \"created_time\": \"2021-01-31T18:13:42.310666Z\", \"created_time_dt\": \"2021-01-31T18:13:42.310666Z\", \"duration\": \"0:01:26\", \"iteration\": \"31\", \"goal\": \"accuracy_max\", \"run_name\": \"MinMaxScaler, RandomForest\", \"run_properties\": \"copy=True, feature_range=(0, 1\", \"primary_metric\": 0.75587571, \"best_metric\": 0.85632768}, {\"run_id\": \"AutoML_2390dc8f-b818-486e-94de-b3e3bf41227d_32\", \"run_number\": 37, \"metric\": null, \"status\": \"Completed\", \"run_type\": \"azureml.scriptrun\", \"training_percent\": \"100\", \"start_time\": \"2021-01-31T18:14:15.457483Z\", \"end_time\": \"2021-01-31T18:15:03.449026Z\", \"created_time\": \"2021-01-31T18:14:03.588047Z\", \"created_time_dt\": \"2021-01-31T18:14:03.588047Z\", \"duration\": \"0:00:59\", \"iteration\": \"32\", \"goal\": \"accuracy_max\", \"run_name\": \"SparseNormalizer, XGBoostClassifier\", \"run_properties\": \"<azureml.automl.runtime.shared.model_wrappers.SparseNormalizer object at 0x7f6f5b1c7358\", \"primary_metric\": 0.81932203, \"best_metric\": 0.85632768}, {\"run_id\": \"AutoML_2390dc8f-b818-486e-94de-b3e3bf41227d_33\", \"run_number\": 38, \"metric\": null, \"status\": \"Completed\", \"run_type\": \"azureml.scriptrun\", \"training_percent\": \"100\", \"start_time\": \"2021-01-31T18:14:16.987328Z\", \"end_time\": \"2021-01-31T18:15:08.030728Z\", \"created_time\": \"2021-01-31T18:14:03.806428Z\", \"created_time_dt\": \"2021-01-31T18:14:03.806428Z\", \"duration\": \"0:01:04\", \"iteration\": \"33\", \"goal\": \"accuracy_max\", \"run_name\": \"StandardScalerWrapper, XGBoostClassifier\", \"run_properties\": \"<azureml.automl.runtime.shared.model_wrappers.StandardScalerWrapper object at 0x7f63f51733c8\", \"primary_metric\": 0.83937853, \"best_metric\": 0.85632768}, {\"run_id\": \"AutoML_2390dc8f-b818-486e-94de-b3e3bf41227d_34\", \"run_number\": 39, \"metric\": null, \"status\": \"Completed\", \"run_type\": \"azureml.scriptrun\", \"training_percent\": \"100\", \"start_time\": \"2021-01-31T18:14:25.742443Z\", \"end_time\": \"2021-01-31T18:15:22.498073Z\", \"created_time\": \"2021-01-31T18:14:08.994635Z\", \"created_time_dt\": \"2021-01-31T18:14:08.994635Z\", \"duration\": \"0:01:13\", \"iteration\": \"34\", \"goal\": \"accuracy_max\", \"run_name\": \"StandardScalerWrapper, ExtremeRandomTrees\", \"run_properties\": \"<azureml.automl.runtime.shared.model_wrappers.StandardScalerWrapper object at 0x7fa421932d30\", \"primary_metric\": 0.80610169, \"best_metric\": 0.85632768}, {\"run_id\": \"AutoML_2390dc8f-b818-486e-94de-b3e3bf41227d_35\", \"run_number\": 40, \"metric\": null, \"status\": \"Completed\", \"run_type\": \"azureml.scriptrun\", \"training_percent\": \"100\", \"start_time\": \"2021-01-31T18:14:28.264949Z\", \"end_time\": \"2021-01-31T18:15:19.398837Z\", \"created_time\": \"2021-01-31T18:14:15.743835Z\", \"created_time_dt\": \"2021-01-31T18:14:15.743835Z\", \"duration\": \"0:01:03\", \"iteration\": \"35\", \"goal\": \"accuracy_max\", \"run_name\": \"SparseNormalizer, XGBoostClassifier\", \"run_properties\": \"<azureml.automl.runtime.shared.model_wrappers.SparseNormalizer object at 0x7f643d1d7f98\", \"primary_metric\": 0.84288136, \"best_metric\": 0.85632768}, {\"run_id\": \"AutoML_2390dc8f-b818-486e-94de-b3e3bf41227d_36\", \"run_number\": 41, \"metric\": null, \"status\": \"Completed\", \"run_type\": \"azureml.scriptrun\", \"training_percent\": \"100\", \"start_time\": \"2021-01-31T18:15:00.17896Z\", \"end_time\": \"2021-01-31T18:16:01.013225Z\", \"created_time\": \"2021-01-31T18:14:23.948004Z\", \"created_time_dt\": \"2021-01-31T18:14:23.948004Z\", \"duration\": \"0:01:37\", \"iteration\": \"36\", \"goal\": \"accuracy_max\", \"run_name\": \"MaxAbsScaler, ExtremeRandomTrees\", \"run_properties\": \"copy=True\", \"primary_metric\": 0.85621469, \"best_metric\": 0.85632768}, {\"run_id\": \"AutoML_2390dc8f-b818-486e-94de-b3e3bf41227d_37\", \"run_number\": 42, \"metric\": null, \"status\": \"Canceled\", \"run_type\": \"azureml.scriptrun\", \"training_percent\": \"100\", \"start_time\": \"2021-01-31T18:15:04.813777Z\", \"end_time\": \"2021-01-31T18:16:13.087458Z\", \"created_time\": \"2021-01-31T18:14:24.130986Z\", \"created_time_dt\": \"2021-01-31T18:14:24.130986Z\", \"duration\": \"0:01:48\", \"iteration\": \"37\", \"goal\": \"accuracy_max\", \"run_name\": \"SparseNormalizer, LightGBM\", \"run_properties\": \"<azureml.automl.runtime.shared.model_wrappers.SparseNormalizer object at 0x7f4b45aa0f98\", \"primary_metric\": 0.82615819, \"best_metric\": 0.85632768}, {\"run_id\": \"AutoML_2390dc8f-b818-486e-94de-b3e3bf41227d_38\", \"run_number\": 43, \"metric\": null, \"status\": \"Completed\", \"run_type\": \"azureml.scriptrun\", \"training_percent\": \"100\", \"start_time\": \"2021-01-31T18:15:12.020587Z\", \"end_time\": \"2021-01-31T18:16:10.32046Z\", \"created_time\": \"2021-01-31T18:14:59.707427Z\", \"created_time_dt\": \"2021-01-31T18:14:59.707427Z\", \"duration\": \"0:01:10\", \"iteration\": \"38\", \"goal\": \"accuracy_max\", \"run_name\": \"SparseNormalizer, LightGBM\", \"run_properties\": \"<azureml.automl.runtime.shared.model_wrappers.SparseNormalizer object at 0x7f1619d8acc0\", \"primary_metric\": 0.83943503, \"best_metric\": 0.85632768}, {\"run_id\": \"AutoML_2390dc8f-b818-486e-94de-b3e3bf41227d_39\", \"run_number\": 44, \"metric\": null, \"status\": \"Completed\", \"run_type\": \"azureml.scriptrun\", \"training_percent\": \"100\", \"start_time\": \"2021-01-31T18:15:17.287923Z\", \"end_time\": \"2021-01-31T18:16:11.015917Z\", \"created_time\": \"2021-01-31T18:15:05.523817Z\", \"created_time_dt\": \"2021-01-31T18:15:05.523817Z\", \"duration\": \"0:01:05\", \"iteration\": \"39\", \"goal\": \"accuracy_max\", \"run_name\": \"SparseNormalizer, XGBoostClassifier\", \"run_properties\": \"<azureml.automl.runtime.shared.model_wrappers.SparseNormalizer object at 0x7f2bfa3aa710\", \"primary_metric\": 0.67909605, \"best_metric\": 0.85632768}, {\"run_id\": \"AutoML_2390dc8f-b818-486e-94de-b3e3bf41227d_40\", \"run_number\": 45, \"metric\": null, \"status\": \"Canceled\", \"run_type\": \"azureml.scriptrun\", \"training_percent\": \"100\", \"start_time\": \"2021-01-31T18:15:16.480146Z\", \"end_time\": \"2021-01-31T18:16:13.009307Z\", \"created_time\": \"2021-01-31T18:15:05.649346Z\", \"created_time_dt\": \"2021-01-31T18:15:05.649346Z\", \"duration\": \"0:01:07\", \"iteration\": \"40\", \"goal\": \"accuracy_max\", \"run_name\": \"RobustScaler, LightGBM\", \"run_properties\": \"copy=True, quantile_range=[10, 90], with_centering=True,\\n             with_scaling=False\", \"primary_metric\": 0.82937853, \"best_metric\": 0.85632768}, {\"run_id\": \"AutoML_2390dc8f-b818-486e-94de-b3e3bf41227d_41\", \"run_number\": 46, \"metric\": null, \"status\": \"Canceled\", \"run_type\": \"azureml.scriptrun\", \"training_percent\": \"100\", \"start_time\": \"2021-01-31T18:15:21.332034Z\", \"end_time\": \"2021-01-31T18:16:19.706788Z\", \"created_time\": \"2021-01-31T18:15:11.329896Z\", \"created_time_dt\": \"2021-01-31T18:15:11.329896Z\", \"duration\": \"0:01:08\", \"iteration\": \"41\", \"goal\": \"accuracy_max\", \"run_name\": \"MaxAbsScaler, LightGBM\", \"run_properties\": \"copy=True\", \"primary_metric\": 0.83937853, \"best_metric\": 0.85632768}, {\"run_id\": \"AutoML_2390dc8f-b818-486e-94de-b3e3bf41227d_42\", \"run_number\": 47, \"metric\": null, \"status\": \"Canceled\", \"run_type\": \"azureml.scriptrun\", \"training_percent\": \"100\", \"start_time\": \"2021-01-31T18:15:26.150201Z\", \"end_time\": \"2021-01-31T18:16:18.510364Z\", \"created_time\": \"2021-01-31T18:15:11.456565Z\", \"created_time_dt\": \"2021-01-31T18:15:11.456565Z\", \"duration\": \"0:01:07\", \"iteration\": \"42\", \"goal\": \"accuracy_max\", \"run_name\": \"MaxAbsScaler, LightGBM\", \"run_properties\": \"copy=True\", \"primary_metric\": 0.8259887, \"best_metric\": 0.85632768}, {\"run_id\": \"AutoML_2390dc8f-b818-486e-94de-b3e3bf41227d_43\", \"run_number\": 48, \"metric\": null, \"status\": \"Canceled\", \"run_type\": \"azureml.scriptrun\", \"training_percent\": \"100\", \"start_time\": \"2021-01-31T18:15:29.107889Z\", \"end_time\": \"2021-01-31T18:16:17.610369Z\", \"created_time\": \"2021-01-31T18:15:16.38956Z\", \"created_time_dt\": \"2021-01-31T18:15:16.38956Z\", \"duration\": \"0:01:01\", \"iteration\": \"43\", \"goal\": \"accuracy_max\", \"run_name\": \"MaxAbsScaler, LightGBM\", \"run_properties\": \"copy=True\", \"primary_metric\": 0.84271186, \"best_metric\": 0.85632768}, {\"run_id\": \"AutoML_2390dc8f-b818-486e-94de-b3e3bf41227d_44\", \"run_number\": 49, \"metric\": null, \"status\": \"Canceled\", \"run_type\": \"azureml.scriptrun\", \"training_percent\": \"100\", \"start_time\": \"2021-01-31T18:16:07.412052Z\", \"end_time\": \"2021-01-31T18:16:18.005476Z\", \"created_time\": \"2021-01-31T18:15:21.470414Z\", \"created_time_dt\": \"2021-01-31T18:15:21.470414Z\", \"duration\": \"0:00:56\", \"iteration\": \"44\", \"goal\": null, \"run_name\": \"Canceled\", \"run_properties\": null}, {\"run_id\": \"AutoML_2390dc8f-b818-486e-94de-b3e3bf41227d_45\", \"run_number\": 50, \"metric\": null, \"status\": \"Canceled\", \"run_type\": \"azureml.scriptrun\", \"training_percent\": \"100\", \"start_time\": \"2021-01-31T18:15:26.597901Z\", \"end_time\": \"2021-01-31T18:16:19.313255Z\", \"created_time\": \"2021-01-31T18:15:26.597901Z\", \"created_time_dt\": \"2021-01-31T18:15:26.597901Z\", \"duration\": \"0:00:52\", \"iteration\": \"45\", \"goal\": null, \"run_name\": \"Canceled\", \"run_properties\": null}, {\"run_id\": \"AutoML_2390dc8f-b818-486e-94de-b3e3bf41227d_46\", \"run_number\": 51, \"metric\": null, \"status\": \"Canceled\", \"run_type\": \"azureml.scriptrun\", \"training_percent\": \"100\", \"start_time\": \"2021-01-31T18:16:03.644566Z\", \"end_time\": \"2021-01-31T18:16:19.891357Z\", \"created_time\": \"2021-01-31T18:16:03.644566Z\", \"created_time_dt\": \"2021-01-31T18:16:03.644566Z\", \"duration\": \"0:00:16\", \"iteration\": \"46\", \"goal\": null, \"run_name\": \"Canceled\", \"run_properties\": null}, {\"run_id\": \"AutoML_2390dc8f-b818-486e-94de-b3e3bf41227d_47\", \"run_number\": 52, \"metric\": null, \"status\": \"Completed\", \"run_type\": \"azureml.scriptrun\", \"training_percent\": \"100\", \"start_time\": \"2021-01-31T18:16:34.465337Z\", \"end_time\": \"2021-01-31T18:18:10.745077Z\", \"created_time\": \"2021-01-31T18:16:21.89559Z\", \"created_time_dt\": \"2021-01-31T18:16:21.89559Z\", \"duration\": \"0:01:48\", \"iteration\": \"47\", \"goal\": \"accuracy_max\", \"run_name\": \"VotingEnsemble\", \"run_properties\": \"classification_labels=None,\\n                              estimators=[('9',\\n                                           Pipeline(memory=None,\\n                                                    steps=[('sparsenormalizer',\\n                                                            <azureml.automl.runtime.shared.model_wrappers.SparseNormalizer object at 0x7f85f832dc18>\", \"primary_metric\": 0.87966102, \"best_metric\": 0.87966102}, {\"run_id\": \"AutoML_2390dc8f-b818-486e-94de-b3e3bf41227d_48\", \"run_number\": 53, \"metric\": null, \"status\": \"Completed\", \"run_type\": \"azureml.scriptrun\", \"training_percent\": \"100\", \"start_time\": \"2021-01-31T18:16:31.983721Z\", \"end_time\": \"2021-01-31T18:18:14.053204Z\", \"created_time\": \"2021-01-31T18:16:22.056956Z\", \"created_time_dt\": \"2021-01-31T18:16:22.056956Z\", \"duration\": \"0:01:51\", \"iteration\": \"48\", \"goal\": \"accuracy_max\", \"run_name\": \"StackEnsemble\", \"run_properties\": \"base_learners=[('9',\\n                                        Pipeline(memory=None,\\n                                                 steps=[('sparsenormalizer',\\n                                                         <azureml.automl.runtime.shared.model_wrappers.SparseNormalizer object at 0x7f1e874a3908>\", \"primary_metric\": 0.85966102, \"best_metric\": 0.87966102}], \"children_metrics\": {\"categories\": [0], \"series\": {\"average_precision_score_weighted\": [{\"categories\": [\"0\", \"1\", \"2\", \"3\", \"4\", \"5\", \"6\", \"8\", \"9\", \"10\", \"11\", \"12\", \"13\", \"14\", \"15\", \"16\", \"17\", \"18\", \"19\", \"20\", \"21\", \"22\", \"23\", \"24\", \"25\", \"26\", \"27\", \"28\", \"29\", \"30\", \"31\", \"32\", \"33\", \"34\", \"35\", \"36\", \"37\", \"38\", \"39\", \"40\", \"41\", \"42\", \"43\", \"47\", \"48\"], \"mode\": \"markers\", \"name\": \"average_precision_score_weighted\", \"stepped\": false, \"type\": \"scatter\", \"data\": [0.8955370396295249, 0.9103506263314479, 0.9134925981957588, 0.905179365121012, 0.9066373646894933, 0.9124535909067684, 0.8586709046967871, 0.9146094461946989, 0.9036111314605682, 0.906293793305543, 0.8912604569061224, 0.9068036560809185, 0.8871719977740937, 0.8871327202451138, 0.8869727690851625, 0.9106531741744286, 0.9065973036793696, 0.8869727690851625, 0.9075742460923237, 0.9128183909604417, 0.9087749240176949, 0.9029923982332955, 0.9076066227041656, 0.9171872615193962, 0.5796089246385138, 0.9151924814888451, 0.915705334422172, 0.9136652054307082, 0.904887003452345, 0.5796089246385138, 0.9161826920686831, 0.8956649265787506, 0.9211515225326667, 0.897636283172709, 0.9096524967150585, 0.9118677583383178, 0.8983972134877487, 0.9058150218504284, 0.5796089246385138, 0.9147096850035357, 0.920306633790233, 0.9131170249563063, 0.9207092304670572, 0.9255677665608125, 0.9262338303802385]}, {\"categories\": [\"0\", \"1\", \"2\", \"3\", \"4\", \"5\", \"6\", \"8\", \"9\", \"10\", \"11\", \"12\", \"13\", \"14\", \"15\", \"16\", \"17\", \"18\", \"19\", \"20\", \"21\", \"22\", \"23\", \"24\", \"25\", \"26\", \"27\", \"28\", \"29\", \"30\", \"31\", \"32\", \"33\", \"34\", \"35\", \"36\", \"37\", \"38\", \"39\", \"40\", \"41\", \"42\", \"43\", \"47\", \"48\"], \"mode\": \"lines\", \"name\": \"average_precision_score_weighted_max\", \"stepped\": true, \"type\": \"scatter\", \"data\": [0.8955370396295249, 0.9103506263314479, 0.9134925981957588, 0.9134925981957588, 0.9134925981957588, 0.9134925981957588, 0.9134925981957588, 0.9146094461946989, 0.9146094461946989, 0.9146094461946989, 0.9146094461946989, 0.9146094461946989, 0.9146094461946989, 0.9146094461946989, 0.9146094461946989, 0.9146094461946989, 0.9146094461946989, 0.9146094461946989, 0.9146094461946989, 0.9146094461946989, 0.9146094461946989, 0.9146094461946989, 0.9146094461946989, 0.9171872615193962, 0.9171872615193962, 0.9171872615193962, 0.9171872615193962, 0.9171872615193962, 0.9171872615193962, 0.9171872615193962, 0.9171872615193962, 0.9171872615193962, 0.9211515225326667, 0.9211515225326667, 0.9211515225326667, 0.9211515225326667, 0.9211515225326667, 0.9211515225326667, 0.9211515225326667, 0.9211515225326667, 0.9211515225326667, 0.9211515225326667, 0.9211515225326667, 0.9255677665608125, 0.9262338303802385]}], \"norm_macro_recall\": [{\"categories\": [\"0\", \"1\", \"2\", \"3\", \"4\", \"5\", \"6\", \"8\", \"9\", \"10\", \"11\", \"12\", \"13\", \"14\", \"15\", \"16\", \"17\", \"18\", \"19\", \"20\", \"21\", \"22\", \"23\", \"24\", \"25\", \"26\", \"27\", \"28\", \"29\", \"30\", \"31\", \"32\", \"33\", \"34\", \"35\", \"36\", \"37\", \"38\", \"39\", \"40\", \"41\", \"42\", \"43\", \"47\", \"48\"], \"mode\": \"markers\", \"name\": \"norm_macro_recall\", \"stepped\": false, \"type\": \"scatter\", \"data\": [0.5520418050941306, 0.6120251937984496, 0.6211060354374307, 0.5421096345514951, 0.567858527131783, 0.6130024916943522, 0.4453073089700997, 0.6128405315614618, 0.639515503875969, 0.6358333333333333, 0.5863953488372092, 0.6486738648947952, 0.577109634551495, 0.577109634551495, 0.577109634551495, 0.5993881506090808, 0.6406215393133998, 0.577109634551495, 0.6328571428571429, 0.4989202657807309, 0.5828668327796235, 0.5906381506090809, 0.5162763012181616, 0.5986918604651164, 0.0, 0.6393037098560355, 0.4249916943521594, 0.6240490033222592, 0.4125, 0.0, 0.2830869324473976, 0.5281976744186047, 0.6312084717607973, 0.4581464562569213, 0.623546511627907, 0.6219559800664453, 0.51125, 0.6065227021040974, 0.0, 0.5916846622369878, 0.5981298449612403, 0.6045418050941308, 0.6383513289036544, 0.6933333333333334, 0.6585714285714286]}, {\"categories\": [\"0\", \"1\", \"2\", \"3\", \"4\", \"5\", \"6\", \"8\", \"9\", \"10\", \"11\", \"12\", \"13\", \"14\", \"15\", \"16\", \"17\", \"18\", \"19\", \"20\", \"21\", \"22\", \"23\", \"24\", \"25\", \"26\", \"27\", \"28\", \"29\", \"30\", \"31\", \"32\", \"33\", \"34\", \"35\", \"36\", \"37\", \"38\", \"39\", \"40\", \"41\", \"42\", \"43\", \"47\", \"48\"], \"mode\": \"lines\", \"name\": \"norm_macro_recall_max\", \"stepped\": true, \"type\": \"scatter\", \"data\": [0.5520418050941306, 0.6120251937984496, 0.6211060354374307, 0.6211060354374307, 0.6211060354374307, 0.6211060354374307, 0.6211060354374307, 0.6211060354374307, 0.639515503875969, 0.639515503875969, 0.639515503875969, 0.6486738648947952, 0.6486738648947952, 0.6486738648947952, 0.6486738648947952, 0.6486738648947952, 0.6486738648947952, 0.6486738648947952, 0.6486738648947952, 0.6486738648947952, 0.6486738648947952, 0.6486738648947952, 0.6486738648947952, 0.6486738648947952, 0.6486738648947952, 0.6486738648947952, 0.6486738648947952, 0.6486738648947952, 0.6486738648947952, 0.6486738648947952, 0.6486738648947952, 0.6486738648947952, 0.6486738648947952, 0.6486738648947952, 0.6486738648947952, 0.6486738648947952, 0.6486738648947952, 0.6486738648947952, 0.6486738648947952, 0.6486738648947952, 0.6486738648947952, 0.6486738648947952, 0.6486738648947952, 0.6933333333333334, 0.6933333333333334]}], \"f1_score_weighted\": [{\"categories\": [\"0\", \"1\", \"2\", \"3\", \"4\", \"5\", \"6\", \"8\", \"9\", \"10\", \"11\", \"12\", \"13\", \"14\", \"15\", \"16\", \"17\", \"18\", \"19\", \"20\", \"21\", \"22\", \"23\", \"24\", \"25\", \"26\", \"27\", \"28\", \"29\", \"30\", \"31\", \"32\", \"33\", \"34\", \"35\", \"36\", \"37\", \"38\", \"39\", \"40\", \"41\", \"42\", \"43\", \"47\", \"48\"], \"mode\": \"markers\", \"name\": \"f1_score_weighted\", \"stepped\": false, \"type\": \"scatter\", \"data\": [0.8014398448329555, 0.8237396450256732, 0.8353339066621632, 0.8083761038433321, 0.8042698020245712, 0.8316557477566413, 0.7604670178170214, 0.8355055622139416, 0.8518740064442076, 0.8424128425411592, 0.8163913408842424, 0.8495953875970652, 0.8111375615251999, 0.8111375615251999, 0.8111375615251999, 0.8323964087898601, 0.8409246292610295, 0.8111375615251999, 0.8441241469444714, 0.8021759951947371, 0.8158754042889413, 0.8342227787629831, 0.7978517246163198, 0.8232316842330027, 0.5526564268547016, 0.8409521295606128, 0.7683995315746243, 0.8298911561344232, 0.7663684364806786, 0.5526564268547016, 0.7037428960736556, 0.8097214931873967, 0.8348548074431971, 0.7888951175564876, 0.8394079307315705, 0.8484783975652755, 0.8136794626952268, 0.8349473496311205, 0.5526564268547016, 0.8250332745085949, 0.8329260025778625, 0.8216149439496357, 0.8390716834970599, 0.8744137742963474, 0.8523122241774672]}, {\"categories\": [\"0\", \"1\", \"2\", \"3\", \"4\", \"5\", \"6\", \"8\", \"9\", \"10\", \"11\", \"12\", \"13\", \"14\", \"15\", \"16\", \"17\", \"18\", \"19\", \"20\", \"21\", \"22\", \"23\", \"24\", \"25\", \"26\", \"27\", \"28\", \"29\", \"30\", \"31\", \"32\", \"33\", \"34\", \"35\", \"36\", \"37\", \"38\", \"39\", \"40\", \"41\", \"42\", \"43\", \"47\", \"48\"], \"mode\": \"lines\", \"name\": \"f1_score_weighted_max\", \"stepped\": true, \"type\": \"scatter\", \"data\": [0.8014398448329555, 0.8237396450256732, 0.8353339066621632, 0.8353339066621632, 0.8353339066621632, 0.8353339066621632, 0.8353339066621632, 0.8355055622139416, 0.8518740064442076, 0.8518740064442076, 0.8518740064442076, 0.8518740064442076, 0.8518740064442076, 0.8518740064442076, 0.8518740064442076, 0.8518740064442076, 0.8518740064442076, 0.8518740064442076, 0.8518740064442076, 0.8518740064442076, 0.8518740064442076, 0.8518740064442076, 0.8518740064442076, 0.8518740064442076, 0.8518740064442076, 0.8518740064442076, 0.8518740064442076, 0.8518740064442076, 0.8518740064442076, 0.8518740064442076, 0.8518740064442076, 0.8518740064442076, 0.8518740064442076, 0.8518740064442076, 0.8518740064442076, 0.8518740064442076, 0.8518740064442076, 0.8518740064442076, 0.8518740064442076, 0.8518740064442076, 0.8518740064442076, 0.8518740064442076, 0.8518740064442076, 0.8744137742963474, 0.8744137742963474]}], \"f1_score_micro\": [{\"categories\": [\"0\", \"1\", \"2\", \"3\", \"4\", \"5\", \"6\", \"8\", \"9\", \"10\", \"11\", \"12\", \"13\", \"14\", \"15\", \"16\", \"17\", \"18\", \"19\", \"20\", \"21\", \"22\", \"23\", \"24\", \"25\", \"26\", \"27\", \"28\", \"29\", \"30\", \"31\", \"32\", \"33\", \"34\", \"35\", \"36\", \"37\", \"38\", \"39\", \"40\", \"41\", \"42\", \"43\", \"47\", \"48\"], \"mode\": \"markers\", \"name\": \"f1_score_micro\", \"stepped\": false, \"type\": \"scatter\", \"data\": [0.8059887005649718, 0.8259322033898304, 0.8393785310734463, 0.8160451977401131, 0.805819209039548, 0.8361016949152542, 0.76909604519774, 0.8394350282485876, 0.8563276836158191, 0.8463276836158192, 0.8193785310734464, 0.8528813559322034, 0.8160451977401131, 0.8160451977401131, 0.8160451977401131, 0.8394350282485876, 0.8428248587570621, 0.8160451977401131, 0.8496610169491525, 0.8161581920903955, 0.8192655367231639, 0.8427683615819209, 0.8059322033898304, 0.8258757062146893, 0.67909604519774, 0.8427118644067797, 0.7927683615819208, 0.8325988700564972, 0.7927683615819209, 0.67909604519774, 0.7558757062146892, 0.8193220338983049, 0.8393785310734463, 0.8061016949152544, 0.8428813559322034, 0.8562146892655367, 0.8261581920903955, 0.8394350282485876, 0.67909604519774, 0.8293785310734464, 0.8393785310734463, 0.8259887005649718, 0.8427118644067797, 0.8796610169491526, 0.8596610169491525]}, {\"categories\": [\"0\", \"1\", \"2\", \"3\", \"4\", \"5\", \"6\", \"8\", \"9\", \"10\", \"11\", \"12\", \"13\", \"14\", \"15\", \"16\", \"17\", \"18\", \"19\", \"20\", \"21\", \"22\", \"23\", \"24\", \"25\", \"26\", \"27\", \"28\", \"29\", \"30\", \"31\", \"32\", \"33\", \"34\", \"35\", \"36\", \"37\", \"38\", \"39\", \"40\", \"41\", \"42\", \"43\", \"47\", \"48\"], \"mode\": \"lines\", \"name\": \"f1_score_micro_max\", \"stepped\": true, \"type\": \"scatter\", \"data\": [0.8059887005649718, 0.8259322033898304, 0.8393785310734463, 0.8393785310734463, 0.8393785310734463, 0.8393785310734463, 0.8393785310734463, 0.8394350282485876, 0.8563276836158191, 0.8563276836158191, 0.8563276836158191, 0.8563276836158191, 0.8563276836158191, 0.8563276836158191, 0.8563276836158191, 0.8563276836158191, 0.8563276836158191, 0.8563276836158191, 0.8563276836158191, 0.8563276836158191, 0.8563276836158191, 0.8563276836158191, 0.8563276836158191, 0.8563276836158191, 0.8563276836158191, 0.8563276836158191, 0.8563276836158191, 0.8563276836158191, 0.8563276836158191, 0.8563276836158191, 0.8563276836158191, 0.8563276836158191, 0.8563276836158191, 0.8563276836158191, 0.8563276836158191, 0.8563276836158191, 0.8563276836158191, 0.8563276836158191, 0.8563276836158191, 0.8563276836158191, 0.8563276836158191, 0.8563276836158191, 0.8563276836158191, 0.8796610169491526, 0.8796610169491526]}], \"precision_score_macro\": [{\"categories\": [\"0\", \"1\", \"2\", \"3\", \"4\", \"5\", \"6\", \"8\", \"9\", \"10\", \"11\", \"12\", \"13\", \"14\", \"15\", \"16\", \"17\", \"18\", \"19\", \"20\", \"21\", \"22\", \"23\", \"24\", \"25\", \"26\", \"27\", \"28\", \"29\", \"30\", \"31\", \"32\", \"33\", \"34\", \"35\", \"36\", \"37\", \"38\", \"39\", \"40\", \"41\", \"42\", \"43\", \"47\", \"48\"], \"mode\": \"markers\", \"name\": \"precision_score_macro\", \"stepped\": false, \"type\": \"scatter\", \"data\": [0.7889041743265773, 0.8086642059265495, 0.8279933986501667, 0.8084776636407071, 0.7806909201909201, 0.8223788593966358, 0.7453547638873689, 0.8268738946934435, 0.8521869927790373, 0.8487947881241761, 0.8055789861717418, 0.844289203908738, 0.8057518640185325, 0.8057518640185325, 0.8057518640185325, 0.8368379408500989, 0.8243305305805306, 0.8057518640185325, 0.8565504821317804, 0.8309955634427684, 0.7992483305052375, 0.8456282657990734, 0.7911373847590151, 0.8050339710564686, 0.33954802259887, 0.822903895954281, 0.8211454328594504, 0.8145050713633296, 0.8359545075222444, 0.33954802259887, 0.825453320264641, 0.8134547089582986, 0.8252541779187428, 0.8231820877138238, 0.8313509316770185, 0.8680823989674922, 0.8442437224611137, 0.8283603512326916, 0.33954802259887, 0.8128787872124701, 0.8309010866774205, 0.8079735009298279, 0.8272374860075089, 0.8919036703986553, 0.8716765713018274]}, {\"categories\": [\"0\", \"1\", \"2\", \"3\", \"4\", \"5\", \"6\", \"8\", \"9\", \"10\", \"11\", \"12\", \"13\", \"14\", \"15\", \"16\", \"17\", \"18\", \"19\", \"20\", \"21\", \"22\", \"23\", \"24\", \"25\", \"26\", \"27\", \"28\", \"29\", \"30\", \"31\", \"32\", \"33\", \"34\", \"35\", \"36\", \"37\", \"38\", \"39\", \"40\", \"41\", \"42\", \"43\", \"47\", \"48\"], \"mode\": \"lines\", \"name\": \"precision_score_macro_max\", \"stepped\": true, \"type\": \"scatter\", \"data\": [0.7889041743265773, 0.8086642059265495, 0.8279933986501667, 0.8279933986501667, 0.8279933986501667, 0.8279933986501667, 0.8279933986501667, 0.8279933986501667, 0.8521869927790373, 0.8521869927790373, 0.8521869927790373, 0.8521869927790373, 0.8521869927790373, 0.8521869927790373, 0.8521869927790373, 0.8521869927790373, 0.8521869927790373, 0.8521869927790373, 0.8565504821317804, 0.8565504821317804, 0.8565504821317804, 0.8565504821317804, 0.8565504821317804, 0.8565504821317804, 0.8565504821317804, 0.8565504821317804, 0.8565504821317804, 0.8565504821317804, 0.8565504821317804, 0.8565504821317804, 0.8565504821317804, 0.8565504821317804, 0.8565504821317804, 0.8565504821317804, 0.8565504821317804, 0.8680823989674922, 0.8680823989674922, 0.8680823989674922, 0.8680823989674922, 0.8680823989674922, 0.8680823989674922, 0.8680823989674922, 0.8680823989674922, 0.8919036703986553, 0.8919036703986553]}], \"precision_score_weighted\": [{\"categories\": [\"0\", \"1\", \"2\", \"3\", \"4\", \"5\", \"6\", \"8\", \"9\", \"10\", \"11\", \"12\", \"13\", \"14\", \"15\", \"16\", \"17\", \"18\", \"19\", \"20\", \"21\", \"22\", \"23\", \"24\", \"25\", \"26\", \"27\", \"28\", \"29\", \"30\", \"31\", \"32\", \"33\", \"34\", \"35\", \"36\", \"37\", \"38\", \"39\", \"40\", \"41\", \"42\", \"43\", \"47\", \"48\"], \"mode\": \"markers\", \"name\": \"precision_score_weighted\", \"stepped\": false, \"type\": \"scatter\", \"data\": [0.8237683758533973, 0.8403871377947292, 0.8536889861245653, 0.8309715912516207, 0.8241966852983802, 0.848366455978543, 0.7867312976532881, 0.8565174052356415, 0.8712216301096654, 0.8683924862327981, 0.84162284278695, 0.8680105115292136, 0.8407374045536857, 0.8407374045536857, 0.8407374045536857, 0.8568992969949129, 0.85496495312597, 0.8407374045536857, 0.87052282542523, 0.8351820421085817, 0.8345257805645442, 0.8539581832896918, 0.8214516583998863, 0.8384617160180904, 0.4689005075169971, 0.8559336895719373, 0.8210817983825089, 0.8483767320251003, 0.826301740479787, 0.4689005075169971, 0.806353433369743, 0.8312097696888106, 0.8544897024929803, 0.8251467592727157, 0.8591889984520786, 0.8686374968915237, 0.8414795447953886, 0.8526255177953699, 0.4689005075169971, 0.841112519903698, 0.8478269624539652, 0.8426636900847237, 0.8565319710477372, 0.8966259388449416, 0.8843081364192606]}, {\"categories\": [\"0\", \"1\", \"2\", \"3\", \"4\", \"5\", \"6\", \"8\", \"9\", \"10\", \"11\", \"12\", \"13\", \"14\", \"15\", \"16\", \"17\", \"18\", \"19\", \"20\", \"21\", \"22\", \"23\", \"24\", \"25\", \"26\", \"27\", \"28\", \"29\", \"30\", \"31\", \"32\", \"33\", \"34\", \"35\", \"36\", \"37\", \"38\", \"39\", \"40\", \"41\", \"42\", \"43\", \"47\", \"48\"], \"mode\": \"lines\", \"name\": \"precision_score_weighted_max\", \"stepped\": true, \"type\": \"scatter\", \"data\": [0.8237683758533973, 0.8403871377947292, 0.8536889861245653, 0.8536889861245653, 0.8536889861245653, 0.8536889861245653, 0.8536889861245653, 0.8565174052356415, 0.8712216301096654, 0.8712216301096654, 0.8712216301096654, 0.8712216301096654, 0.8712216301096654, 0.8712216301096654, 0.8712216301096654, 0.8712216301096654, 0.8712216301096654, 0.8712216301096654, 0.8712216301096654, 0.8712216301096654, 0.8712216301096654, 0.8712216301096654, 0.8712216301096654, 0.8712216301096654, 0.8712216301096654, 0.8712216301096654, 0.8712216301096654, 0.8712216301096654, 0.8712216301096654, 0.8712216301096654, 0.8712216301096654, 0.8712216301096654, 0.8712216301096654, 0.8712216301096654, 0.8712216301096654, 0.8712216301096654, 0.8712216301096654, 0.8712216301096654, 0.8712216301096654, 0.8712216301096654, 0.8712216301096654, 0.8712216301096654, 0.8712216301096654, 0.8966259388449416, 0.8966259388449416]}], \"AUC_micro\": [{\"categories\": [\"0\", \"1\", \"2\", \"3\", \"4\", \"5\", \"6\", \"8\", \"9\", \"10\", \"11\", \"12\", \"13\", \"14\", \"15\", \"16\", \"17\", \"18\", \"19\", \"20\", \"21\", \"22\", \"23\", \"24\", \"25\", \"26\", \"27\", \"28\", \"29\", \"30\", \"31\", \"32\", \"33\", \"34\", \"35\", \"36\", \"37\", \"38\", \"39\", \"40\", \"41\", \"42\", \"43\", \"47\", \"48\"], \"mode\": \"markers\", \"name\": \"AUC_micro\", \"stepped\": false, \"type\": \"scatter\", \"data\": [0.8880105014523284, 0.8999905678444892, 0.9068409939672509, 0.8933680615404258, 0.9088376743592198, 0.9087294040665197, 0.8540276102014108, 0.9039981486801366, 0.9015133422707396, 0.9024501899198825, 0.8826344441252514, 0.9036372689840084, 0.8783376743592198, 0.8784487854703309, 0.8782265632481087, 0.9001282517795015, 0.9045807718088671, 0.8782265632481087, 0.9043291040250248, 0.8947004372945194, 0.9019402310957899, 0.8970698554055347, 0.8991396629321077, 0.9091529573238851, 0.6790960451977401, 0.9085855277857575, 0.8807161096747421, 0.9041016789556002, 0.8742146892655367, 0.6790960451977401, 0.8662474544351879, 0.8844273995339782, 0.913771186440678, 0.8779563663059784, 0.9035703182355007, 0.9011154361773436, 0.8859744166746465, 0.9036092597912477, 0.6790960451977401, 0.9030883845638226, 0.9123381371891858, 0.9053134476044559, 0.9125817293881069, 0.9163153308436275, 0.9072611956972771]}, {\"categories\": [\"0\", \"1\", \"2\", \"3\", \"4\", \"5\", \"6\", \"8\", \"9\", \"10\", \"11\", \"12\", \"13\", \"14\", \"15\", \"16\", \"17\", \"18\", \"19\", \"20\", \"21\", \"22\", \"23\", \"24\", \"25\", \"26\", \"27\", \"28\", \"29\", \"30\", \"31\", \"32\", \"33\", \"34\", \"35\", \"36\", \"37\", \"38\", \"39\", \"40\", \"41\", \"42\", \"43\", \"47\", \"48\"], \"mode\": \"lines\", \"name\": \"AUC_micro_max\", \"stepped\": true, \"type\": \"scatter\", \"data\": [0.8880105014523284, 0.8999905678444892, 0.9068409939672509, 0.9068409939672509, 0.9088376743592198, 0.9088376743592198, 0.9088376743592198, 0.9088376743592198, 0.9088376743592198, 0.9088376743592198, 0.9088376743592198, 0.9088376743592198, 0.9088376743592198, 0.9088376743592198, 0.9088376743592198, 0.9088376743592198, 0.9088376743592198, 0.9088376743592198, 0.9088376743592198, 0.9088376743592198, 0.9088376743592198, 0.9088376743592198, 0.9088376743592198, 0.9091529573238851, 0.9091529573238851, 0.9091529573238851, 0.9091529573238851, 0.9091529573238851, 0.9091529573238851, 0.9091529573238851, 0.9091529573238851, 0.9091529573238851, 0.913771186440678, 0.913771186440678, 0.913771186440678, 0.913771186440678, 0.913771186440678, 0.913771186440678, 0.913771186440678, 0.913771186440678, 0.913771186440678, 0.913771186440678, 0.913771186440678, 0.9163153308436275, 0.9163153308436275]}], \"weighted_accuracy\": [{\"categories\": [\"0\", \"1\", \"2\", \"3\", \"4\", \"5\", \"6\", \"8\", \"9\", \"10\", \"11\", \"12\", \"13\", \"14\", \"15\", \"16\", \"17\", \"18\", \"19\", \"20\", \"21\", \"22\", \"23\", \"24\", \"25\", \"26\", \"27\", \"28\", \"29\", \"30\", \"31\", \"32\", \"33\", \"34\", \"35\", \"36\", \"37\", \"38\", \"39\", \"40\", \"41\", \"42\", \"43\", \"47\", \"48\"], \"mode\": \"markers\", \"name\": \"weighted_accuracy\", \"stepped\": false, \"type\": \"scatter\", \"data\": [0.8252063202764133, 0.8406325321291572, 0.8580511478128763, 0.84675322260155, 0.8208470540424356, 0.8568897582786084, 0.8033157487996776, 0.8609313834713463, 0.879342864196737, 0.8659474005480947, 0.8382420305140954, 0.8728737243031659, 0.8360473402486086, 0.8360473402486086, 0.8360473402486086, 0.8676386539901733, 0.8586830699403972, 0.8360473402486086, 0.8727716240428023, 0.8613333959821501, 0.8393554096222813, 0.8758635368636767, 0.8368108817697303, 0.8442103813210906, 0.7971865900207855, 0.859155800600357, 0.8485211705601671, 0.8466332262121001, 0.8509303225630951, 0.7971865900207855, 0.8349137750322209, 0.85655836417345, 0.855706902457029, 0.8594491594548399, 0.8643090977210257, 0.8873908062037167, 0.8736509290366138, 0.865268023590577, 0.7971865900207855, 0.8518238554329095, 0.8668753713075839, 0.8422651438058251, 0.8588042475897723, 0.9017121064304477, 0.8805769337773157]}, {\"categories\": [\"0\", \"1\", \"2\", \"3\", \"4\", \"5\", \"6\", \"8\", \"9\", \"10\", \"11\", \"12\", \"13\", \"14\", \"15\", \"16\", \"17\", \"18\", \"19\", \"20\", \"21\", \"22\", \"23\", \"24\", \"25\", \"26\", \"27\", \"28\", \"29\", \"30\", \"31\", \"32\", \"33\", \"34\", \"35\", \"36\", \"37\", \"38\", \"39\", \"40\", \"41\", \"42\", \"43\", \"47\", \"48\"], \"mode\": \"lines\", \"name\": \"weighted_accuracy_max\", \"stepped\": true, \"type\": \"scatter\", \"data\": [0.8252063202764133, 0.8406325321291572, 0.8580511478128763, 0.8580511478128763, 0.8580511478128763, 0.8580511478128763, 0.8580511478128763, 0.8609313834713463, 0.879342864196737, 0.879342864196737, 0.879342864196737, 0.879342864196737, 0.879342864196737, 0.879342864196737, 0.879342864196737, 0.879342864196737, 0.879342864196737, 0.879342864196737, 0.879342864196737, 0.879342864196737, 0.879342864196737, 0.879342864196737, 0.879342864196737, 0.879342864196737, 0.879342864196737, 0.879342864196737, 0.879342864196737, 0.879342864196737, 0.879342864196737, 0.879342864196737, 0.879342864196737, 0.879342864196737, 0.879342864196737, 0.879342864196737, 0.879342864196737, 0.8873908062037167, 0.8873908062037167, 0.8873908062037167, 0.8873908062037167, 0.8873908062037167, 0.8873908062037167, 0.8873908062037167, 0.8873908062037167, 0.9017121064304477, 0.9017121064304477]}], \"log_loss\": [{\"categories\": [\"0\", \"1\", \"2\", \"3\", \"4\", \"5\", \"6\", \"8\", \"9\", \"10\", \"11\", \"12\", \"13\", \"14\", \"15\", \"16\", \"17\", \"18\", \"19\", \"20\", \"21\", \"22\", \"23\", \"24\", \"25\", \"26\", \"27\", \"28\", \"29\", \"30\", \"31\", \"32\", \"33\", \"34\", \"35\", \"36\", \"37\", \"38\", \"39\", \"40\", \"41\", \"42\", \"43\", \"47\", \"48\"], \"mode\": \"markers\", \"name\": \"log_loss\", \"stepped\": false, \"type\": \"scatter\", \"data\": [0.5282491261622873, 0.43217688137359717, 0.389866651850129, 0.40863760272567984, 0.3903106892769132, 0.3980973949014798, 0.47786685428288644, 0.40985049752748726, 0.40885418464062073, 0.3931133002991617, 0.43873764958612405, 0.40155230342146125, 0.44789317149111, 0.44820490900135673, 0.44836787777671416, 0.4301771731069213, 0.40814244815430384, 0.44851586449263287, 0.3898522810198184, 0.4331556229669603, 0.40033086000823576, 0.4168058373498857, 0.40340435698971167, 0.3839100926386173, 0.637618363565353, 0.3813673587731459, 0.4784525251705423, 0.38975957786467397, 0.4753921805802154, 0.6375638603279691, 0.4945161126275822, 0.4432169019824209, 0.3886999026495851, 0.46645319519143236, 0.3940256243324728, 0.4167471672445995, 0.45008188693100537, 0.395443491758772, 0.6376933456946645, 0.40518950187854186, 0.39867902780426595, 0.3889096598786984, 0.38432875007442024, 0.3719978729441224, 0.3912806030846057]}, {\"categories\": [\"0\", \"1\", \"2\", \"3\", \"4\", \"5\", \"6\", \"8\", \"9\", \"10\", \"11\", \"12\", \"13\", \"14\", \"15\", \"16\", \"17\", \"18\", \"19\", \"20\", \"21\", \"22\", \"23\", \"24\", \"25\", \"26\", \"27\", \"28\", \"29\", \"30\", \"31\", \"32\", \"33\", \"34\", \"35\", \"36\", \"37\", \"38\", \"39\", \"40\", \"41\", \"42\", \"43\", \"47\", \"48\"], \"mode\": \"lines\", \"name\": \"log_loss_min\", \"stepped\": true, \"type\": \"scatter\", \"data\": [0.5282491261622873, 0.43217688137359717, 0.389866651850129, 0.389866651850129, 0.389866651850129, 0.389866651850129, 0.389866651850129, 0.389866651850129, 0.389866651850129, 0.389866651850129, 0.389866651850129, 0.389866651850129, 0.389866651850129, 0.389866651850129, 0.389866651850129, 0.389866651850129, 0.389866651850129, 0.389866651850129, 0.3898522810198184, 0.3898522810198184, 0.3898522810198184, 0.3898522810198184, 0.3898522810198184, 0.3839100926386173, 0.3839100926386173, 0.3813673587731459, 0.3813673587731459, 0.3813673587731459, 0.3813673587731459, 0.3813673587731459, 0.3813673587731459, 0.3813673587731459, 0.3813673587731459, 0.3813673587731459, 0.3813673587731459, 0.3813673587731459, 0.3813673587731459, 0.3813673587731459, 0.3813673587731459, 0.3813673587731459, 0.3813673587731459, 0.3813673587731459, 0.3813673587731459, 0.3719978729441224, 0.3719978729441224]}], \"balanced_accuracy\": [{\"categories\": [\"0\", \"1\", \"2\", \"3\", \"4\", \"5\", \"6\", \"8\", \"9\", \"10\", \"11\", \"12\", \"13\", \"14\", \"15\", \"16\", \"17\", \"18\", \"19\", \"20\", \"21\", \"22\", \"23\", \"24\", \"25\", \"26\", \"27\", \"28\", \"29\", \"30\", \"31\", \"32\", \"33\", \"34\", \"35\", \"36\", \"37\", \"38\", \"39\", \"40\", \"41\", \"42\", \"43\", \"47\", \"48\"], \"mode\": \"markers\", \"name\": \"balanced_accuracy\", \"stepped\": false, \"type\": \"scatter\", \"data\": [0.7760209025470652, 0.8060125968992248, 0.8105530177187154, 0.7710548172757475, 0.7839292635658914, 0.8065012458471761, 0.7226536544850498, 0.8064202657807309, 0.8197577519379845, 0.8179166666666667, 0.7931976744186047, 0.8243369324473975, 0.7885548172757475, 0.7885548172757475, 0.7885548172757475, 0.7996940753045404, 0.8203107696566999, 0.7885548172757475, 0.8164285714285715, 0.7494601328903654, 0.7914334163898118, 0.7953190753045404, 0.7581381506090807, 0.7993459302325581, 0.5, 0.8196518549280178, 0.7124958471760797, 0.8120245016611296, 0.70625, 0.5, 0.6415434662236988, 0.7640988372093023, 0.8156042358803987, 0.7290732281284606, 0.8117732558139534, 0.8109779900332225, 0.755625, 0.8032613510520488, 0.5, 0.7958423311184939, 0.7990649224806201, 0.8022709025470653, 0.8191756644518271, 0.8466666666666667, 0.8292857142857143]}, {\"categories\": [\"0\", \"1\", \"2\", \"3\", \"4\", \"5\", \"6\", \"8\", \"9\", \"10\", \"11\", \"12\", \"13\", \"14\", \"15\", \"16\", \"17\", \"18\", \"19\", \"20\", \"21\", \"22\", \"23\", \"24\", \"25\", \"26\", \"27\", \"28\", \"29\", \"30\", \"31\", \"32\", \"33\", \"34\", \"35\", \"36\", \"37\", \"38\", \"39\", \"40\", \"41\", \"42\", \"43\", \"47\", \"48\"], \"mode\": \"lines\", \"name\": \"balanced_accuracy_max\", \"stepped\": true, \"type\": \"scatter\", \"data\": [0.7760209025470652, 0.8060125968992248, 0.8105530177187154, 0.8105530177187154, 0.8105530177187154, 0.8105530177187154, 0.8105530177187154, 0.8105530177187154, 0.8197577519379845, 0.8197577519379845, 0.8197577519379845, 0.8243369324473975, 0.8243369324473975, 0.8243369324473975, 0.8243369324473975, 0.8243369324473975, 0.8243369324473975, 0.8243369324473975, 0.8243369324473975, 0.8243369324473975, 0.8243369324473975, 0.8243369324473975, 0.8243369324473975, 0.8243369324473975, 0.8243369324473975, 0.8243369324473975, 0.8243369324473975, 0.8243369324473975, 0.8243369324473975, 0.8243369324473975, 0.8243369324473975, 0.8243369324473975, 0.8243369324473975, 0.8243369324473975, 0.8243369324473975, 0.8243369324473975, 0.8243369324473975, 0.8243369324473975, 0.8243369324473975, 0.8243369324473975, 0.8243369324473975, 0.8243369324473975, 0.8243369324473975, 0.8466666666666667, 0.8466666666666667]}], \"recall_score_micro\": [{\"categories\": [\"0\", \"1\", \"2\", \"3\", \"4\", \"5\", \"6\", \"8\", \"9\", \"10\", \"11\", \"12\", \"13\", \"14\", \"15\", \"16\", \"17\", \"18\", \"19\", \"20\", \"21\", \"22\", \"23\", \"24\", \"25\", \"26\", \"27\", \"28\", \"29\", \"30\", \"31\", \"32\", \"33\", \"34\", \"35\", \"36\", \"37\", \"38\", \"39\", \"40\", \"41\", \"42\", \"43\", \"47\", \"48\"], \"mode\": \"markers\", \"name\": \"recall_score_micro\", \"stepped\": false, \"type\": \"scatter\", \"data\": [0.8059887005649717, 0.8259322033898304, 0.8393785310734462, 0.8160451977401131, 0.805819209039548, 0.8361016949152542, 0.76909604519774, 0.8394350282485876, 0.8563276836158191, 0.8463276836158192, 0.8193785310734463, 0.8528813559322034, 0.8160451977401131, 0.8160451977401131, 0.8160451977401131, 0.8394350282485876, 0.8428248587570621, 0.8160451977401131, 0.8496610169491525, 0.8161581920903955, 0.8192655367231639, 0.8427683615819209, 0.8059322033898304, 0.8258757062146893, 0.67909604519774, 0.8427118644067797, 0.7927683615819208, 0.8325988700564972, 0.7927683615819209, 0.67909604519774, 0.7558757062146892, 0.8193220338983049, 0.8393785310734463, 0.8061016949152542, 0.8428813559322034, 0.8562146892655367, 0.8261581920903955, 0.8394350282485876, 0.67909604519774, 0.8293785310734464, 0.8393785310734462, 0.8259887005649718, 0.8427118644067797, 0.8796610169491526, 0.8596610169491525]}, {\"categories\": [\"0\", \"1\", \"2\", \"3\", \"4\", \"5\", \"6\", \"8\", \"9\", \"10\", \"11\", \"12\", \"13\", \"14\", \"15\", \"16\", \"17\", \"18\", \"19\", \"20\", \"21\", \"22\", \"23\", \"24\", \"25\", \"26\", \"27\", \"28\", \"29\", \"30\", \"31\", \"32\", \"33\", \"34\", \"35\", \"36\", \"37\", \"38\", \"39\", \"40\", \"41\", \"42\", \"43\", \"47\", \"48\"], \"mode\": \"lines\", \"name\": \"recall_score_micro_max\", \"stepped\": true, \"type\": \"scatter\", \"data\": [0.8059887005649717, 0.8259322033898304, 0.8393785310734462, 0.8393785310734462, 0.8393785310734462, 0.8393785310734462, 0.8393785310734462, 0.8394350282485876, 0.8563276836158191, 0.8563276836158191, 0.8563276836158191, 0.8563276836158191, 0.8563276836158191, 0.8563276836158191, 0.8563276836158191, 0.8563276836158191, 0.8563276836158191, 0.8563276836158191, 0.8563276836158191, 0.8563276836158191, 0.8563276836158191, 0.8563276836158191, 0.8563276836158191, 0.8563276836158191, 0.8563276836158191, 0.8563276836158191, 0.8563276836158191, 0.8563276836158191, 0.8563276836158191, 0.8563276836158191, 0.8563276836158191, 0.8563276836158191, 0.8563276836158191, 0.8563276836158191, 0.8563276836158191, 0.8563276836158191, 0.8563276836158191, 0.8563276836158191, 0.8563276836158191, 0.8563276836158191, 0.8563276836158191, 0.8563276836158191, 0.8563276836158191, 0.8796610169491526, 0.8796610169491526]}], \"average_precision_score_macro\": [{\"categories\": [\"0\", \"1\", \"2\", \"3\", \"4\", \"5\", \"6\", \"8\", \"9\", \"10\", \"11\", \"12\", \"13\", \"14\", \"15\", \"16\", \"17\", \"18\", \"19\", \"20\", \"21\", \"22\", \"23\", \"24\", \"25\", \"26\", \"27\", \"28\", \"29\", \"30\", \"31\", \"32\", \"33\", \"34\", \"35\", \"36\", \"37\", \"38\", \"39\", \"40\", \"41\", \"42\", \"43\", \"47\", \"48\"], \"mode\": \"markers\", \"name\": \"average_precision_score_macro\", \"stepped\": false, \"type\": \"scatter\", \"data\": [0.8655792376041671, 0.8826936933050062, 0.8816553407573157, 0.8783513639569905, 0.8735402468848765, 0.8897655880078664, 0.8133530694813927, 0.8898150653985024, 0.8692754262869832, 0.8822500999889795, 0.8572151190497423, 0.8793581316230903, 0.8519851436486722, 0.8519402146392121, 0.8517807213547188, 0.8861407031651769, 0.8769719789256565, 0.8517807213547188, 0.8852952976166542, 0.8878516927812372, 0.881289231738949, 0.8788948206813233, 0.8819006551069156, 0.8936531400779893, 0.5, 0.8917375719518846, 0.8928424077582349, 0.8902517168063472, 0.8784936734581343, 0.5, 0.8904574576632329, 0.8655534494142232, 0.8961709844735475, 0.870672381941826, 0.8853944651354162, 0.8884671046374105, 0.8704367795734698, 0.8747927228074376, 0.5, 0.8928862934808753, 0.898268126135551, 0.8882172825421302, 0.8983693646685253, 0.9009548184338492, 0.9016345699399478]}, {\"categories\": [\"0\", \"1\", \"2\", \"3\", \"4\", \"5\", \"6\", \"8\", \"9\", \"10\", \"11\", \"12\", \"13\", \"14\", \"15\", \"16\", \"17\", \"18\", \"19\", \"20\", \"21\", \"22\", \"23\", \"24\", \"25\", \"26\", \"27\", \"28\", \"29\", \"30\", \"31\", \"32\", \"33\", \"34\", \"35\", \"36\", \"37\", \"38\", \"39\", \"40\", \"41\", \"42\", \"43\", \"47\", \"48\"], \"mode\": \"lines\", \"name\": \"average_precision_score_macro_max\", \"stepped\": true, \"type\": \"scatter\", \"data\": [0.8655792376041671, 0.8826936933050062, 0.8826936933050062, 0.8826936933050062, 0.8826936933050062, 0.8897655880078664, 0.8897655880078664, 0.8898150653985024, 0.8898150653985024, 0.8898150653985024, 0.8898150653985024, 0.8898150653985024, 0.8898150653985024, 0.8898150653985024, 0.8898150653985024, 0.8898150653985024, 0.8898150653985024, 0.8898150653985024, 0.8898150653985024, 0.8898150653985024, 0.8898150653985024, 0.8898150653985024, 0.8898150653985024, 0.8936531400779893, 0.8936531400779893, 0.8936531400779893, 0.8936531400779893, 0.8936531400779893, 0.8936531400779893, 0.8936531400779893, 0.8936531400779893, 0.8936531400779893, 0.8961709844735475, 0.8961709844735475, 0.8961709844735475, 0.8961709844735475, 0.8961709844735475, 0.8961709844735475, 0.8961709844735475, 0.8961709844735475, 0.898268126135551, 0.898268126135551, 0.8983693646685253, 0.9009548184338492, 0.9016345699399478]}], \"recall_score_weighted\": [{\"categories\": [\"0\", \"1\", \"2\", \"3\", \"4\", \"5\", \"6\", \"8\", \"9\", \"10\", \"11\", \"12\", \"13\", \"14\", \"15\", \"16\", \"17\", \"18\", \"19\", \"20\", \"21\", \"22\", \"23\", \"24\", \"25\", \"26\", \"27\", \"28\", \"29\", \"30\", \"31\", \"32\", \"33\", \"34\", \"35\", \"36\", \"37\", \"38\", \"39\", \"40\", \"41\", \"42\", \"43\", \"47\", \"48\"], \"mode\": \"markers\", \"name\": \"recall_score_weighted\", \"stepped\": false, \"type\": \"scatter\", \"data\": [0.8059887005649717, 0.8259322033898304, 0.8393785310734462, 0.8160451977401131, 0.805819209039548, 0.8361016949152542, 0.76909604519774, 0.8394350282485876, 0.8563276836158191, 0.8463276836158192, 0.8193785310734463, 0.8528813559322034, 0.8160451977401131, 0.8160451977401131, 0.8160451977401131, 0.8394350282485876, 0.8428248587570621, 0.8160451977401131, 0.8496610169491525, 0.8161581920903955, 0.8192655367231639, 0.8427683615819209, 0.8059322033898304, 0.8258757062146893, 0.67909604519774, 0.8427118644067797, 0.7927683615819208, 0.8325988700564972, 0.7927683615819209, 0.67909604519774, 0.7558757062146892, 0.8193220338983049, 0.8393785310734463, 0.8061016949152542, 0.8428813559322034, 0.8562146892655367, 0.8261581920903955, 0.8394350282485876, 0.67909604519774, 0.8293785310734464, 0.8393785310734462, 0.8259887005649718, 0.8427118644067797, 0.8796610169491526, 0.8596610169491525]}, {\"categories\": [\"0\", \"1\", \"2\", \"3\", \"4\", \"5\", \"6\", \"8\", \"9\", \"10\", \"11\", \"12\", \"13\", \"14\", \"15\", \"16\", \"17\", \"18\", \"19\", \"20\", \"21\", \"22\", \"23\", \"24\", \"25\", \"26\", \"27\", \"28\", \"29\", \"30\", \"31\", \"32\", \"33\", \"34\", \"35\", \"36\", \"37\", \"38\", \"39\", \"40\", \"41\", \"42\", \"43\", \"47\", \"48\"], \"mode\": \"lines\", \"name\": \"recall_score_weighted_max\", \"stepped\": true, \"type\": \"scatter\", \"data\": [0.8059887005649717, 0.8259322033898304, 0.8393785310734462, 0.8393785310734462, 0.8393785310734462, 0.8393785310734462, 0.8393785310734462, 0.8394350282485876, 0.8563276836158191, 0.8563276836158191, 0.8563276836158191, 0.8563276836158191, 0.8563276836158191, 0.8563276836158191, 0.8563276836158191, 0.8563276836158191, 0.8563276836158191, 0.8563276836158191, 0.8563276836158191, 0.8563276836158191, 0.8563276836158191, 0.8563276836158191, 0.8563276836158191, 0.8563276836158191, 0.8563276836158191, 0.8563276836158191, 0.8563276836158191, 0.8563276836158191, 0.8563276836158191, 0.8563276836158191, 0.8563276836158191, 0.8563276836158191, 0.8563276836158191, 0.8563276836158191, 0.8563276836158191, 0.8563276836158191, 0.8563276836158191, 0.8563276836158191, 0.8563276836158191, 0.8563276836158191, 0.8563276836158191, 0.8563276836158191, 0.8563276836158191, 0.8796610169491526, 0.8796610169491526]}], \"average_precision_score_micro\": [{\"categories\": [\"0\", \"1\", \"2\", \"3\", \"4\", \"5\", \"6\", \"8\", \"9\", \"10\", \"11\", \"12\", \"13\", \"14\", \"15\", \"16\", \"17\", \"18\", \"19\", \"20\", \"21\", \"22\", \"23\", \"24\", \"25\", \"26\", \"27\", \"28\", \"29\", \"30\", \"31\", \"32\", \"33\", \"34\", \"35\", \"36\", \"37\", \"38\", \"39\", \"40\", \"41\", \"42\", \"43\", \"47\", \"48\"], \"mode\": \"markers\", \"name\": \"average_precision_score_micro\", \"stepped\": false, \"type\": \"scatter\", \"data\": [0.887958292631032, 0.9018582931163117, 0.9102191173998561, 0.896423763827042, 0.9069390139191725, 0.9081460027382097, 0.8598975843879716, 0.9066562631418492, 0.9012920868987633, 0.9008584361686827, 0.8835363092343336, 0.9006887603450086, 0.8798670399994295, 0.8799901075077005, 0.8797772210407853, 0.897013902197482, 0.9022976553417721, 0.8797772210407853, 0.9034783322596744, 0.9000157462971572, 0.9025340867076576, 0.8961419469626039, 0.9005616771240886, 0.9102821769637444, 0.6293524849181271, 0.9106843294825241, 0.8872655738087397, 0.9039962003383257, 0.8813598293417865, 0.6293524849181271, 0.8761025203157823, 0.8874482734452906, 0.9143526330161376, 0.8816888206587379, 0.9022408119804368, 0.9026323380437704, 0.8876829538284907, 0.9047689421894807, 0.6293524849181271, 0.9037826901171137, 0.9138501358745584, 0.9057325504448576, 0.9133628889450595, 0.9193313787841468, 0.9045069516207411]}, {\"categories\": [\"0\", \"1\", \"2\", \"3\", \"4\", \"5\", \"6\", \"8\", \"9\", \"10\", \"11\", \"12\", \"13\", \"14\", \"15\", \"16\", \"17\", \"18\", \"19\", \"20\", \"21\", \"22\", \"23\", \"24\", \"25\", \"26\", \"27\", \"28\", \"29\", \"30\", \"31\", \"32\", \"33\", \"34\", \"35\", \"36\", \"37\", \"38\", \"39\", \"40\", \"41\", \"42\", \"43\", \"47\", \"48\"], \"mode\": \"lines\", \"name\": \"average_precision_score_micro_max\", \"stepped\": true, \"type\": \"scatter\", \"data\": [0.887958292631032, 0.9018582931163117, 0.9102191173998561, 0.9102191173998561, 0.9102191173998561, 0.9102191173998561, 0.9102191173998561, 0.9102191173998561, 0.9102191173998561, 0.9102191173998561, 0.9102191173998561, 0.9102191173998561, 0.9102191173998561, 0.9102191173998561, 0.9102191173998561, 0.9102191173998561, 0.9102191173998561, 0.9102191173998561, 0.9102191173998561, 0.9102191173998561, 0.9102191173998561, 0.9102191173998561, 0.9102191173998561, 0.9102821769637444, 0.9102821769637444, 0.9106843294825241, 0.9106843294825241, 0.9106843294825241, 0.9106843294825241, 0.9106843294825241, 0.9106843294825241, 0.9106843294825241, 0.9143526330161376, 0.9143526330161376, 0.9143526330161376, 0.9143526330161376, 0.9143526330161376, 0.9143526330161376, 0.9143526330161376, 0.9143526330161376, 0.9143526330161376, 0.9143526330161376, 0.9143526330161376, 0.9193313787841468, 0.9193313787841468]}], \"accuracy\": [{\"categories\": [\"0\", \"1\", \"2\", \"3\", \"4\", \"5\", \"6\", \"8\", \"9\", \"10\", \"11\", \"12\", \"13\", \"14\", \"15\", \"16\", \"17\", \"18\", \"19\", \"20\", \"21\", \"22\", \"23\", \"24\", \"25\", \"26\", \"27\", \"28\", \"29\", \"30\", \"31\", \"32\", \"33\", \"34\", \"35\", \"36\", \"37\", \"38\", \"39\", \"40\", \"41\", \"42\", \"43\", \"47\", \"48\"], \"mode\": \"markers\", \"name\": \"accuracy\", \"stepped\": false, \"type\": \"scatter\", \"data\": [0.8059887005649717, 0.8259322033898304, 0.8393785310734462, 0.8160451977401131, 0.805819209039548, 0.8361016949152542, 0.76909604519774, 0.8394350282485876, 0.8563276836158191, 0.8463276836158192, 0.8193785310734463, 0.8528813559322034, 0.8160451977401131, 0.8160451977401131, 0.8160451977401131, 0.8394350282485876, 0.8428248587570621, 0.8160451977401131, 0.8496610169491525, 0.8161581920903955, 0.8192655367231639, 0.8427683615819209, 0.8059322033898304, 0.8258757062146893, 0.67909604519774, 0.8427118644067797, 0.7927683615819208, 0.8325988700564972, 0.7927683615819209, 0.67909604519774, 0.7558757062146892, 0.8193220338983049, 0.8393785310734463, 0.8061016949152542, 0.8428813559322034, 0.8562146892655367, 0.8261581920903955, 0.8394350282485876, 0.67909604519774, 0.8293785310734464, 0.8393785310734462, 0.8259887005649718, 0.8427118644067797, 0.8796610169491526, 0.8596610169491525]}, {\"categories\": [\"0\", \"1\", \"2\", \"3\", \"4\", \"5\", \"6\", \"8\", \"9\", \"10\", \"11\", \"12\", \"13\", \"14\", \"15\", \"16\", \"17\", \"18\", \"19\", \"20\", \"21\", \"22\", \"23\", \"24\", \"25\", \"26\", \"27\", \"28\", \"29\", \"30\", \"31\", \"32\", \"33\", \"34\", \"35\", \"36\", \"37\", \"38\", \"39\", \"40\", \"41\", \"42\", \"43\", \"47\", \"48\"], \"mode\": \"lines\", \"name\": \"accuracy_max\", \"stepped\": true, \"type\": \"scatter\", \"data\": [0.8059887005649717, 0.8259322033898304, 0.8393785310734462, 0.8393785310734462, 0.8393785310734462, 0.8393785310734462, 0.8393785310734462, 0.8394350282485876, 0.8563276836158191, 0.8563276836158191, 0.8563276836158191, 0.8563276836158191, 0.8563276836158191, 0.8563276836158191, 0.8563276836158191, 0.8563276836158191, 0.8563276836158191, 0.8563276836158191, 0.8563276836158191, 0.8563276836158191, 0.8563276836158191, 0.8563276836158191, 0.8563276836158191, 0.8563276836158191, 0.8563276836158191, 0.8563276836158191, 0.8563276836158191, 0.8563276836158191, 0.8563276836158191, 0.8563276836158191, 0.8563276836158191, 0.8563276836158191, 0.8563276836158191, 0.8563276836158191, 0.8563276836158191, 0.8563276836158191, 0.8563276836158191, 0.8563276836158191, 0.8563276836158191, 0.8563276836158191, 0.8563276836158191, 0.8563276836158191, 0.8563276836158191, 0.8796610169491526, 0.8796610169491526]}], \"AUC_weighted\": [{\"categories\": [\"0\", \"1\", \"2\", \"3\", \"4\", \"5\", \"6\", \"8\", \"9\", \"10\", \"11\", \"12\", \"13\", \"14\", \"15\", \"16\", \"17\", \"18\", \"19\", \"20\", \"21\", \"22\", \"23\", \"24\", \"25\", \"26\", \"27\", \"28\", \"29\", \"30\", \"31\", \"32\", \"33\", \"34\", \"35\", \"36\", \"37\", \"38\", \"39\", \"40\", \"41\", \"42\", \"43\", \"47\", \"48\"], \"mode\": \"markers\", \"name\": \"AUC_weighted\", \"stepped\": false, \"type\": \"scatter\", \"data\": [0.8811331210778885, 0.8929591177556293, 0.8997553294573646, 0.8864132059800663, 0.9007218992248063, 0.901451804171281, 0.8337673726467332, 0.8983030869324475, 0.896922088409007, 0.8953594269102989, 0.871687984496124, 0.8974926633444076, 0.8679776439645626, 0.8681016519010705, 0.8677544296788483, 0.8970044527500922, 0.8967295358065707, 0.8677544296788483, 0.8932226144333703, 0.8967023348098928, 0.8965892857142859, 0.8873809523809524, 0.8895452657807308, 0.9030296696197858, 0.5, 0.9035258397932816, 0.9016149870801033, 0.8993667404946475, 0.8865343992248063, 0.5, 0.9032657576596529, 0.8792713639719454, 0.9104146825396825, 0.8780014534883721, 0.8936931293835364, 0.8978156607604284, 0.8834135981912145, 0.8942602205610927, 0.5, 0.9016718576965671, 0.9065922388335179, 0.8988611111111112, 0.9093958564045772, 0.9168311415651532, 0.9176021133259505]}, {\"categories\": [\"0\", \"1\", \"2\", \"3\", \"4\", \"5\", \"6\", \"8\", \"9\", \"10\", \"11\", \"12\", \"13\", \"14\", \"15\", \"16\", \"17\", \"18\", \"19\", \"20\", \"21\", \"22\", \"23\", \"24\", \"25\", \"26\", \"27\", \"28\", \"29\", \"30\", \"31\", \"32\", \"33\", \"34\", \"35\", \"36\", \"37\", \"38\", \"39\", \"40\", \"41\", \"42\", \"43\", \"47\", \"48\"], \"mode\": \"lines\", \"name\": \"AUC_weighted_max\", \"stepped\": true, \"type\": \"scatter\", \"data\": [0.8811331210778885, 0.8929591177556293, 0.8997553294573646, 0.8997553294573646, 0.9007218992248063, 0.901451804171281, 0.901451804171281, 0.901451804171281, 0.901451804171281, 0.901451804171281, 0.901451804171281, 0.901451804171281, 0.901451804171281, 0.901451804171281, 0.901451804171281, 0.901451804171281, 0.901451804171281, 0.901451804171281, 0.901451804171281, 0.901451804171281, 0.901451804171281, 0.901451804171281, 0.901451804171281, 0.9030296696197858, 0.9030296696197858, 0.9035258397932816, 0.9035258397932816, 0.9035258397932816, 0.9035258397932816, 0.9035258397932816, 0.9035258397932816, 0.9035258397932816, 0.9104146825396825, 0.9104146825396825, 0.9104146825396825, 0.9104146825396825, 0.9104146825396825, 0.9104146825396825, 0.9104146825396825, 0.9104146825396825, 0.9104146825396825, 0.9104146825396825, 0.9104146825396825, 0.9168311415651532, 0.9176021133259505]}], \"precision_score_micro\": [{\"categories\": [\"0\", \"1\", \"2\", \"3\", \"4\", \"5\", \"6\", \"8\", \"9\", \"10\", \"11\", \"12\", \"13\", \"14\", \"15\", \"16\", \"17\", \"18\", \"19\", \"20\", \"21\", \"22\", \"23\", \"24\", \"25\", \"26\", \"27\", \"28\", \"29\", \"30\", \"31\", \"32\", \"33\", \"34\", \"35\", \"36\", \"37\", \"38\", \"39\", \"40\", \"41\", \"42\", \"43\", \"47\", \"48\"], \"mode\": \"markers\", \"name\": \"precision_score_micro\", \"stepped\": false, \"type\": \"scatter\", \"data\": [0.8059887005649717, 0.8259322033898304, 0.8393785310734462, 0.8160451977401131, 0.805819209039548, 0.8361016949152542, 0.76909604519774, 0.8394350282485876, 0.8563276836158191, 0.8463276836158192, 0.8193785310734463, 0.8528813559322034, 0.8160451977401131, 0.8160451977401131, 0.8160451977401131, 0.8394350282485876, 0.8428248587570621, 0.8160451977401131, 0.8496610169491525, 0.8161581920903955, 0.8192655367231639, 0.8427683615819209, 0.8059322033898304, 0.8258757062146893, 0.67909604519774, 0.8427118644067797, 0.7927683615819208, 0.8325988700564972, 0.7927683615819209, 0.67909604519774, 0.7558757062146892, 0.8193220338983049, 0.8393785310734463, 0.8061016949152542, 0.8428813559322034, 0.8562146892655367, 0.8261581920903955, 0.8394350282485876, 0.67909604519774, 0.8293785310734464, 0.8393785310734462, 0.8259887005649718, 0.8427118644067797, 0.8796610169491526, 0.8596610169491525]}, {\"categories\": [\"0\", \"1\", \"2\", \"3\", \"4\", \"5\", \"6\", \"8\", \"9\", \"10\", \"11\", \"12\", \"13\", \"14\", \"15\", \"16\", \"17\", \"18\", \"19\", \"20\", \"21\", \"22\", \"23\", \"24\", \"25\", \"26\", \"27\", \"28\", \"29\", \"30\", \"31\", \"32\", \"33\", \"34\", \"35\", \"36\", \"37\", \"38\", \"39\", \"40\", \"41\", \"42\", \"43\", \"47\", \"48\"], \"mode\": \"lines\", \"name\": \"precision_score_micro_max\", \"stepped\": true, \"type\": \"scatter\", \"data\": [0.8059887005649717, 0.8259322033898304, 0.8393785310734462, 0.8393785310734462, 0.8393785310734462, 0.8393785310734462, 0.8393785310734462, 0.8394350282485876, 0.8563276836158191, 0.8563276836158191, 0.8563276836158191, 0.8563276836158191, 0.8563276836158191, 0.8563276836158191, 0.8563276836158191, 0.8563276836158191, 0.8563276836158191, 0.8563276836158191, 0.8563276836158191, 0.8563276836158191, 0.8563276836158191, 0.8563276836158191, 0.8563276836158191, 0.8563276836158191, 0.8563276836158191, 0.8563276836158191, 0.8563276836158191, 0.8563276836158191, 0.8563276836158191, 0.8563276836158191, 0.8563276836158191, 0.8563276836158191, 0.8563276836158191, 0.8563276836158191, 0.8563276836158191, 0.8563276836158191, 0.8563276836158191, 0.8563276836158191, 0.8563276836158191, 0.8563276836158191, 0.8563276836158191, 0.8563276836158191, 0.8563276836158191, 0.8796610169491526, 0.8796610169491526]}], \"recall_score_macro\": [{\"categories\": [\"0\", \"1\", \"2\", \"3\", \"4\", \"5\", \"6\", \"8\", \"9\", \"10\", \"11\", \"12\", \"13\", \"14\", \"15\", \"16\", \"17\", \"18\", \"19\", \"20\", \"21\", \"22\", \"23\", \"24\", \"25\", \"26\", \"27\", \"28\", \"29\", \"30\", \"31\", \"32\", \"33\", \"34\", \"35\", \"36\", \"37\", \"38\", \"39\", \"40\", \"41\", \"42\", \"43\", \"47\", \"48\"], \"mode\": \"markers\", \"name\": \"recall_score_macro\", \"stepped\": false, \"type\": \"scatter\", \"data\": [0.7760209025470652, 0.8060125968992248, 0.8105530177187154, 0.7710548172757475, 0.7839292635658914, 0.8065012458471761, 0.7226536544850498, 0.8064202657807309, 0.8197577519379845, 0.8179166666666667, 0.7931976744186047, 0.8243369324473975, 0.7885548172757475, 0.7885548172757475, 0.7885548172757475, 0.7996940753045404, 0.8203107696566999, 0.7885548172757475, 0.8164285714285715, 0.7494601328903654, 0.7914334163898118, 0.7953190753045404, 0.7581381506090807, 0.7993459302325581, 0.5, 0.8196518549280178, 0.7124958471760797, 0.8120245016611296, 0.70625, 0.5, 0.6415434662236988, 0.7640988372093023, 0.8156042358803987, 0.7290732281284606, 0.8117732558139534, 0.8109779900332225, 0.755625, 0.8032613510520488, 0.5, 0.7958423311184939, 0.7990649224806201, 0.8022709025470653, 0.8191756644518271, 0.8466666666666667, 0.8292857142857143]}, {\"categories\": [\"0\", \"1\", \"2\", \"3\", \"4\", \"5\", \"6\", \"8\", \"9\", \"10\", \"11\", \"12\", \"13\", \"14\", \"15\", \"16\", \"17\", \"18\", \"19\", \"20\", \"21\", \"22\", \"23\", \"24\", \"25\", \"26\", \"27\", \"28\", \"29\", \"30\", \"31\", \"32\", \"33\", \"34\", \"35\", \"36\", \"37\", \"38\", \"39\", \"40\", \"41\", \"42\", \"43\", \"47\", \"48\"], \"mode\": \"lines\", \"name\": \"recall_score_macro_max\", \"stepped\": true, \"type\": \"scatter\", \"data\": [0.7760209025470652, 0.8060125968992248, 0.8105530177187154, 0.8105530177187154, 0.8105530177187154, 0.8105530177187154, 0.8105530177187154, 0.8105530177187154, 0.8197577519379845, 0.8197577519379845, 0.8197577519379845, 0.8243369324473975, 0.8243369324473975, 0.8243369324473975, 0.8243369324473975, 0.8243369324473975, 0.8243369324473975, 0.8243369324473975, 0.8243369324473975, 0.8243369324473975, 0.8243369324473975, 0.8243369324473975, 0.8243369324473975, 0.8243369324473975, 0.8243369324473975, 0.8243369324473975, 0.8243369324473975, 0.8243369324473975, 0.8243369324473975, 0.8243369324473975, 0.8243369324473975, 0.8243369324473975, 0.8243369324473975, 0.8243369324473975, 0.8243369324473975, 0.8243369324473975, 0.8243369324473975, 0.8243369324473975, 0.8243369324473975, 0.8243369324473975, 0.8243369324473975, 0.8243369324473975, 0.8243369324473975, 0.8466666666666667, 0.8466666666666667]}], \"f1_score_macro\": [{\"categories\": [\"0\", \"1\", \"2\", \"3\", \"4\", \"5\", \"6\", \"8\", \"9\", \"10\", \"11\", \"12\", \"13\", \"14\", \"15\", \"16\", \"17\", \"18\", \"19\", \"20\", \"21\", \"22\", \"23\", \"24\", \"25\", \"26\", \"27\", \"28\", \"29\", \"30\", \"31\", \"32\", \"33\", \"34\", \"35\", \"36\", \"37\", \"38\", \"39\", \"40\", \"41\", \"42\", \"43\", \"47\", \"48\"], \"mode\": \"markers\", \"name\": \"f1_score_macro\", \"stepped\": false, \"type\": \"scatter\", \"data\": [0.7682096405971308, 0.7972526241921125, 0.8066055130996558, 0.7737354098206554, 0.7702854670727707, 0.8031443766372843, 0.7142678547005794, 0.8019344100021879, 0.8230221137306657, 0.815593277212086, 0.7832239620952504, 0.8220368820378285, 0.777731957024298, 0.777731957024298, 0.777731957024298, 0.8000259227690577, 0.813587247677674, 0.777731957024298, 0.8179299625965448, 0.7625919451180303, 0.78315615478264, 0.804116254231352, 0.7574840591507258, 0.7927128577961005, 0.40276783177038933, 0.811841512193498, 0.7207501139347906, 0.8020060230212085, 0.717142204484757, 0.40276783177038933, 0.6341538943044599, 0.7701515774034572, 0.8076261177910634, 0.7425916590613209, 0.8089387088472971, 0.8232360357968187, 0.7733491866420155, 0.8032864799407686, 0.40276783177038933, 0.7937079370226142, 0.803057101423961, 0.7913203681333033, 0.8120004611589234, 0.8533586706251939, 0.8280666564508685]}, {\"categories\": [\"0\", \"1\", \"2\", \"3\", \"4\", \"5\", \"6\", \"8\", \"9\", \"10\", \"11\", \"12\", \"13\", \"14\", \"15\", \"16\", \"17\", \"18\", \"19\", \"20\", \"21\", \"22\", \"23\", \"24\", \"25\", \"26\", \"27\", \"28\", \"29\", \"30\", \"31\", \"32\", \"33\", \"34\", \"35\", \"36\", \"37\", \"38\", \"39\", \"40\", \"41\", \"42\", \"43\", \"47\", \"48\"], \"mode\": \"lines\", \"name\": \"f1_score_macro_max\", \"stepped\": true, \"type\": \"scatter\", \"data\": [0.7682096405971308, 0.7972526241921125, 0.8066055130996558, 0.8066055130996558, 0.8066055130996558, 0.8066055130996558, 0.8066055130996558, 0.8066055130996558, 0.8230221137306657, 0.8230221137306657, 0.8230221137306657, 0.8230221137306657, 0.8230221137306657, 0.8230221137306657, 0.8230221137306657, 0.8230221137306657, 0.8230221137306657, 0.8230221137306657, 0.8230221137306657, 0.8230221137306657, 0.8230221137306657, 0.8230221137306657, 0.8230221137306657, 0.8230221137306657, 0.8230221137306657, 0.8230221137306657, 0.8230221137306657, 0.8230221137306657, 0.8230221137306657, 0.8230221137306657, 0.8230221137306657, 0.8230221137306657, 0.8230221137306657, 0.8230221137306657, 0.8230221137306657, 0.8232360357968187, 0.8232360357968187, 0.8232360357968187, 0.8232360357968187, 0.8232360357968187, 0.8232360357968187, 0.8232360357968187, 0.8232360357968187, 0.8533586706251939, 0.8533586706251939]}], \"AUC_macro\": [{\"categories\": [\"0\", \"1\", \"2\", \"3\", \"4\", \"5\", \"6\", \"8\", \"9\", \"10\", \"11\", \"12\", \"13\", \"14\", \"15\", \"16\", \"17\", \"18\", \"19\", \"20\", \"21\", \"22\", \"23\", \"24\", \"25\", \"26\", \"27\", \"28\", \"29\", \"30\", \"31\", \"32\", \"33\", \"34\", \"35\", \"36\", \"37\", \"38\", \"39\", \"40\", \"41\", \"42\", \"43\", \"47\", \"48\"], \"mode\": \"markers\", \"name\": \"AUC_macro\", \"stepped\": false, \"type\": \"scatter\", \"data\": [0.8811331210778885, 0.8929591177556295, 0.8997553294573641, 0.8864132059800663, 0.9007218992248063, 0.901451804171281, 0.8337673726467332, 0.8983030869324475, 0.896922088409007, 0.8953594269102989, 0.871687984496124, 0.8974926633444076, 0.8679776439645626, 0.8681016519010705, 0.8677544296788483, 0.8970044527500922, 0.8967295358065707, 0.8677544296788483, 0.8932226144333703, 0.8967023348098928, 0.8965892857142859, 0.8873809523809524, 0.8895452657807308, 0.9030296696197858, 0.5, 0.9035258397932816, 0.9016149870801033, 0.8993667404946475, 0.8865343992248063, 0.5, 0.9032657576596529, 0.8792713639719454, 0.9104146825396825, 0.8780014534883722, 0.8936931293835363, 0.8978156607604282, 0.8834135981912145, 0.8942602205610928, 0.5, 0.9016718576965669, 0.9065922388335179, 0.8988611111111112, 0.9093958564045772, 0.9168311415651532, 0.9176021133259505]}, {\"categories\": [\"0\", \"1\", \"2\", \"3\", \"4\", \"5\", \"6\", \"8\", \"9\", \"10\", \"11\", \"12\", \"13\", \"14\", \"15\", \"16\", \"17\", \"18\", \"19\", \"20\", \"21\", \"22\", \"23\", \"24\", \"25\", \"26\", \"27\", \"28\", \"29\", \"30\", \"31\", \"32\", \"33\", \"34\", \"35\", \"36\", \"37\", \"38\", \"39\", \"40\", \"41\", \"42\", \"43\", \"47\", \"48\"], \"mode\": \"lines\", \"name\": \"AUC_macro_max\", \"stepped\": true, \"type\": \"scatter\", \"data\": [0.8811331210778885, 0.8929591177556295, 0.8997553294573641, 0.8997553294573641, 0.9007218992248063, 0.901451804171281, 0.901451804171281, 0.901451804171281, 0.901451804171281, 0.901451804171281, 0.901451804171281, 0.901451804171281, 0.901451804171281, 0.901451804171281, 0.901451804171281, 0.901451804171281, 0.901451804171281, 0.901451804171281, 0.901451804171281, 0.901451804171281, 0.901451804171281, 0.901451804171281, 0.901451804171281, 0.9030296696197858, 0.9030296696197858, 0.9035258397932816, 0.9035258397932816, 0.9035258397932816, 0.9035258397932816, 0.9035258397932816, 0.9035258397932816, 0.9035258397932816, 0.9104146825396825, 0.9104146825396825, 0.9104146825396825, 0.9104146825396825, 0.9104146825396825, 0.9104146825396825, 0.9104146825396825, 0.9104146825396825, 0.9104146825396825, 0.9104146825396825, 0.9104146825396825, 0.9168311415651532, 0.9176021133259505]}], \"matthews_correlation\": [{\"categories\": [\"0\", \"1\", \"2\", \"3\", \"4\", \"5\", \"6\", \"8\", \"9\", \"10\", \"11\", \"12\", \"13\", \"14\", \"15\", \"16\", \"17\", \"18\", \"19\", \"20\", \"21\", \"22\", \"23\", \"24\", \"25\", \"26\", \"27\", \"28\", \"29\", \"30\", \"31\", \"32\", \"33\", \"34\", \"35\", \"36\", \"37\", \"38\", \"39\", \"40\", \"41\", \"42\", \"43\", \"47\", \"48\"], \"mode\": \"markers\", \"name\": \"matthews_correlation\", \"stepped\": false, \"type\": \"scatter\", \"data\": [0.5628617041183437, 0.6132552509330647, 0.6365927295879691, 0.5765730258897948, 0.5627409048630322, 0.6271426162917635, 0.4639609026915242, 0.6300712643856827, 0.669597901253389, 0.6624304704444677, 0.5957921987579933, 0.6663088805873182, 0.5903431657959342, 0.5903431657959342, 0.5903431657959342, 0.6323795685384368, 0.6433536089283469, 0.5903431657959342, 0.6684677015020462, 0.5731686693141919, 0.5886087481191394, 0.6374732712386656, 0.5459253601870147, 0.6030639418938389, 0.0, 0.6410360890997305, 0.5192492929286268, 0.6248527228526572, 0.5221881722749151, 0.0, 0.4230892493911706, 0.5728717164211214, 0.6388123581398703, 0.5423088802345859, 0.6409746787502696, 0.6753889329299786, 0.5909565998026802, 0.6293152896769043, 0.0, 0.6072349284240193, 0.6278924099938763, 0.6078930234064159, 0.6447397011260139, 0.7347964692477312, 0.6952666756488276]}, {\"categories\": [\"0\", \"1\", \"2\", \"3\", \"4\", \"5\", \"6\", \"8\", \"9\", \"10\", \"11\", \"12\", \"13\", \"14\", \"15\", \"16\", \"17\", \"18\", \"19\", \"20\", \"21\", \"22\", \"23\", \"24\", \"25\", \"26\", \"27\", \"28\", \"29\", \"30\", \"31\", \"32\", \"33\", \"34\", \"35\", \"36\", \"37\", \"38\", \"39\", \"40\", \"41\", \"42\", \"43\", \"47\", \"48\"], \"mode\": \"lines\", \"name\": \"matthews_correlation_max\", \"stepped\": true, \"type\": \"scatter\", \"data\": [0.5628617041183437, 0.6132552509330647, 0.6365927295879691, 0.6365927295879691, 0.6365927295879691, 0.6365927295879691, 0.6365927295879691, 0.6365927295879691, 0.669597901253389, 0.669597901253389, 0.669597901253389, 0.669597901253389, 0.669597901253389, 0.669597901253389, 0.669597901253389, 0.669597901253389, 0.669597901253389, 0.669597901253389, 0.669597901253389, 0.669597901253389, 0.669597901253389, 0.669597901253389, 0.669597901253389, 0.669597901253389, 0.669597901253389, 0.669597901253389, 0.669597901253389, 0.669597901253389, 0.669597901253389, 0.669597901253389, 0.669597901253389, 0.669597901253389, 0.669597901253389, 0.669597901253389, 0.669597901253389, 0.6753889329299786, 0.6753889329299786, 0.6753889329299786, 0.6753889329299786, 0.6753889329299786, 0.6753889329299786, 0.6753889329299786, 0.6753889329299786, 0.7347964692477312, 0.7347964692477312]}]}, \"metricName\": null, \"primaryMetricName\": \"accuracy\", \"showLegend\": false}, \"run_metrics\": [{\"name\": \"experiment_status\", \"run_id\": \"AutoML_2390dc8f-b818-486e-94de-b3e3bf41227d\", \"categories\": [0, 1, 2, 3, 4, 5, 6, 7, 8, 9, 10, 11, 12, 13], \"series\": [{\"data\": [\"DatasetEvaluation\", \"FeaturesGeneration\", \"DatasetFeaturization\", \"DatasetFeaturizationCompleted\", \"DatasetCrossValidationSplit\", \"ModelSelection\", \"BestRunExplainModel\", \"ModelExplanationDataSetSetup\", \"PickSurrogateModel\", \"EngineeredFeatureExplanations\", \"EngineeredFeatureExplanations\", \"RawFeaturesExplanations\", \"RawFeaturesExplanations\", \"BestRunExplainModel\"]}]}, {\"name\": \"experiment_status_description\", \"run_id\": \"AutoML_2390dc8f-b818-486e-94de-b3e3bf41227d\", \"categories\": [0, 1, 2, 3, 4, 5, 6, 7, 8, 9, 10, 11, 12, 13], \"series\": [{\"data\": [\"Gathering dataset statistics.\", \"Generating features for the dataset.\", \"Beginning to fit featurizers and featurize the dataset.\", \"Completed fit featurizers and featurizing the dataset.\", \"Generating individually featurized CV splits.\", \"Beginning model selection.\", \"Best run model explanations started\", \"Model explanations data setup completed\", \"Choosing LightGBM as the surrogate model for explanations\", \"Computation of engineered features started\", \"Computation of engineered features completed\", \"Computation of raw features started\", \"Computation of raw features completed\", \"Best run model explanations completed\"]}]}, {\"name\": \"f1_score_micro\", \"run_id\": \"AutoML_2390dc8f-b818-486e-94de-b3e3bf41227d\", \"categories\": [0], \"series\": [{\"data\": [0.8796610169491526]}]}, {\"name\": \"precision_score_macro\", \"run_id\": \"AutoML_2390dc8f-b818-486e-94de-b3e3bf41227d\", \"categories\": [0], \"series\": [{\"data\": [0.8919036703986553]}]}, {\"name\": \"norm_macro_recall\", \"run_id\": \"AutoML_2390dc8f-b818-486e-94de-b3e3bf41227d\", \"categories\": [0], \"series\": [{\"data\": [0.6933333333333334]}]}, {\"name\": \"precision_score_weighted\", \"run_id\": \"AutoML_2390dc8f-b818-486e-94de-b3e3bf41227d\", \"categories\": [0], \"series\": [{\"data\": [0.8966259388449416]}]}, {\"name\": \"AUC_weighted\", \"run_id\": \"AutoML_2390dc8f-b818-486e-94de-b3e3bf41227d\", \"categories\": [0], \"series\": [{\"data\": [0.9168311415651532]}]}, {\"name\": \"balanced_accuracy\", \"run_id\": \"AutoML_2390dc8f-b818-486e-94de-b3e3bf41227d\", \"categories\": [0], \"series\": [{\"data\": [0.8466666666666667]}]}, {\"name\": \"f1_score_weighted\", \"run_id\": \"AutoML_2390dc8f-b818-486e-94de-b3e3bf41227d\", \"categories\": [0], \"series\": [{\"data\": [0.8744137742963474]}]}, {\"name\": \"f1_score_macro\", \"run_id\": \"AutoML_2390dc8f-b818-486e-94de-b3e3bf41227d\", \"categories\": [0], \"series\": [{\"data\": [0.8533586706251939]}]}, {\"name\": \"accuracy\", \"run_id\": \"AutoML_2390dc8f-b818-486e-94de-b3e3bf41227d\", \"categories\": [0], \"series\": [{\"data\": [0.8796610169491526]}]}, {\"name\": \"recall_score_macro\", \"run_id\": \"AutoML_2390dc8f-b818-486e-94de-b3e3bf41227d\", \"categories\": [0], \"series\": [{\"data\": [0.8466666666666667]}]}, {\"name\": \"log_loss\", \"run_id\": \"AutoML_2390dc8f-b818-486e-94de-b3e3bf41227d\", \"categories\": [0], \"series\": [{\"data\": [0.3719978729441224]}]}, {\"name\": \"weighted_accuracy\", \"run_id\": \"AutoML_2390dc8f-b818-486e-94de-b3e3bf41227d\", \"categories\": [0], \"series\": [{\"data\": [0.9017121064304477]}]}, {\"name\": \"AUC_macro\", \"run_id\": \"AutoML_2390dc8f-b818-486e-94de-b3e3bf41227d\", \"categories\": [0], \"series\": [{\"data\": [0.9168311415651532]}]}, {\"name\": \"AUC_micro\", \"run_id\": \"AutoML_2390dc8f-b818-486e-94de-b3e3bf41227d\", \"categories\": [0], \"series\": [{\"data\": [0.9163153308436275]}]}, {\"name\": \"average_precision_score_weighted\", \"run_id\": \"AutoML_2390dc8f-b818-486e-94de-b3e3bf41227d\", \"categories\": [0], \"series\": [{\"data\": [0.9255677665608125]}]}, {\"name\": \"recall_score_micro\", \"run_id\": \"AutoML_2390dc8f-b818-486e-94de-b3e3bf41227d\", \"categories\": [0], \"series\": [{\"data\": [0.8796610169491526]}]}, {\"name\": \"matthews_correlation\", \"run_id\": \"AutoML_2390dc8f-b818-486e-94de-b3e3bf41227d\", \"categories\": [0], \"series\": [{\"data\": [0.7347964692477312]}]}, {\"name\": \"average_precision_score_micro\", \"run_id\": \"AutoML_2390dc8f-b818-486e-94de-b3e3bf41227d\", \"categories\": [0], \"series\": [{\"data\": [0.9193313787841468]}]}, {\"name\": \"average_precision_score_macro\", \"run_id\": \"AutoML_2390dc8f-b818-486e-94de-b3e3bf41227d\", \"categories\": [0], \"series\": [{\"data\": [0.9009548184338492]}]}, {\"name\": \"recall_score_weighted\", \"run_id\": \"AutoML_2390dc8f-b818-486e-94de-b3e3bf41227d\", \"categories\": [0], \"series\": [{\"data\": [0.8796610169491526]}]}, {\"name\": \"precision_score_micro\", \"run_id\": \"AutoML_2390dc8f-b818-486e-94de-b3e3bf41227d\", \"categories\": [0], \"series\": [{\"data\": [0.8796610169491526]}]}], \"run_logs\": \"\\nRun is completed.\", \"graph\": {}, \"widget_settings\": {\"childWidgetDisplay\": \"popup\", \"send_telemetry\": false, \"log_level\": \"INFO\", \"sdk_version\": \"1.20.0\"}, \"loading\": false}"
          },
          "metadata": {}
        }
      ],
      "execution_count": 6,
      "metadata": {
        "gather": {
          "logged": 1612117132690
        },
        "jupyter": {
          "outputs_hidden": false,
          "source_hidden": false
        },
        "nteract": {
          "transient": {
            "deleting": false
          }
        }
      }
    },
    {
      "cell_type": "markdown",
      "source": [
        "## Best Model\n",
        "\n",
        "TODO: In the cell below, get the best model from the automl experiments and display all the properties of the model.\n",
        "\n"
      ],
      "metadata": {}
    },
    {
      "cell_type": "code",
      "source": [
        "# Retrieve and save your best automl model.\r\n",
        "best_remote_run,best_automl_model=remote_run.get_output()\r\n",
        "best_run_metrics=remote_run.get_metrics()\r\n",
        "for primary_metric in best_run_metrics:\r\n",
        "    metric=best_run_metrics[primary_metric]\r\n",
        "    print(primary_metric,metric)\r\n"
      ],
      "outputs": [
        {
          "output_type": "stream",
          "name": "stdout",
          "text": [
            "experiment_status ['DatasetEvaluation', 'FeaturesGeneration', 'DatasetFeaturization', 'DatasetFeaturizationCompleted', 'DatasetCrossValidationSplit', 'ModelSelection']\n",
            "experiment_status_description ['Gathering dataset statistics.', 'Generating features for the dataset.', 'Beginning to fit featurizers and featurize the dataset.', 'Completed fit featurizers and featurizing the dataset.', 'Generating individually featurized CV splits.', 'Beginning model selection.']\n",
            "f1_score_micro 0.8796610169491526\n",
            "precision_score_macro 0.8919036703986553\n",
            "norm_macro_recall 0.6933333333333334\n",
            "precision_score_weighted 0.8966259388449416\n",
            "AUC_weighted 0.9168311415651532\n",
            "balanced_accuracy 0.8466666666666667\n",
            "f1_score_weighted 0.8744137742963474\n",
            "f1_score_macro 0.8533586706251939\n",
            "accuracy 0.8796610169491526\n",
            "recall_score_macro 0.8466666666666667\n",
            "log_loss 0.3719978729441224\n",
            "weighted_accuracy 0.9017121064304477\n",
            "AUC_macro 0.9168311415651532\n",
            "AUC_micro 0.9163153308436275\n",
            "average_precision_score_weighted 0.9255677665608125\n",
            "recall_score_micro 0.8796610169491526\n",
            "matthews_correlation 0.7347964692477312\n",
            "average_precision_score_micro 0.9193313787841468\n",
            "average_precision_score_macro 0.9009548184338492\n",
            "recall_score_weighted 0.8796610169491526\n",
            "precision_score_micro 0.8796610169491526\n"
          ]
        }
      ],
      "execution_count": 10,
      "metadata": {
        "gather": {
          "logged": 1612117386464
        },
        "jupyter": {
          "outputs_hidden": false,
          "source_hidden": false
        },
        "nteract": {
          "transient": {
            "deleting": false
          }
        }
      }
    },
    {
      "cell_type": "code",
      "source": [
        "print(best_remote_run)\r\n",
        "best_remote_run"
      ],
      "outputs": [
        {
          "output_type": "stream",
          "name": "stdout",
          "text": [
            "Run(Experiment: automl_run,\n",
            "Id: AutoML_2390dc8f-b818-486e-94de-b3e3bf41227d_47,\n",
            "Type: azureml.scriptrun,\n",
            "Status: Completed)\n"
          ]
        },
        {
          "output_type": "execute_result",
          "execution_count": 11,
          "data": {
            "text/plain": "Run(Experiment: automl_run,\nId: AutoML_2390dc8f-b818-486e-94de-b3e3bf41227d_47,\nType: azureml.scriptrun,\nStatus: Completed)",
            "text/html": "<table style=\"width:100%\"><tr><th>Experiment</th><th>Id</th><th>Type</th><th>Status</th><th>Details Page</th><th>Docs Page</th></tr><tr><td>automl_run</td><td>AutoML_2390dc8f-b818-486e-94de-b3e3bf41227d_47</td><td>azureml.scriptrun</td><td>Completed</td><td><a href=\"https://ml.azure.com/experiments/automl_run/runs/AutoML_2390dc8f-b818-486e-94de-b3e3bf41227d_47?wsid=/subscriptions/61c5c3f0-6dc7-4ed9-a7f3-c704b20e3b30/resourcegroups/aml-quickstarts-136763/workspaces/quick-starts-ws-136763\" target=\"_blank\" rel=\"noopener\">Link to Azure Machine Learning studio</a></td><td><a href=\"https://docs.microsoft.com/en-us/python/api/azureml-core/azureml.core.run.Run?view=azure-ml-py\" target=\"_blank\" rel=\"noopener\">Link to Documentation</a></td></tr></table>"
          },
          "metadata": {}
        }
      ],
      "execution_count": 11,
      "metadata": {
        "collapsed": true,
        "jupyter": {
          "source_hidden": false,
          "outputs_hidden": false
        },
        "nteract": {
          "transient": {
            "deleting": false
          }
        },
        "gather": {
          "logged": 1612117438864
        }
      }
    },
    {
      "cell_type": "code",
      "source": [
        "#TODO: Save the best model\r\n",
        "import pickle\r\n",
        "best_remote_run,best_automl_model=remote_run.get_output()\r\n",
        "#joblib.dump(value=best_automl_model,filename='automl_model.joblib')\r\n",
        "pkl_filename = \"automl_model.pkl\"\r\n",
        "with open(pkl_filename,'wb') as f:\r\n",
        "    pickle.dump(best_automl_model,f)"
      ],
      "outputs": [],
      "execution_count": 23,
      "metadata": {
        "gather": {
          "logged": 1612119584698
        },
        "jupyter": {
          "outputs_hidden": false,
          "source_hidden": false
        },
        "nteract": {
          "transient": {
            "deleting": false
          }
        }
      }
    },
    {
      "cell_type": "markdown",
      "source": [
        "## Model Deployment\n",
        "\n",
        "Remember you have to deploy only one of the two models you trained.. Perform the steps in the rest of this notebook only if you wish to deploy this model.\n",
        "\n",
        "TODO: In the cell below, register the model, create an inference config and deploy the model as a web service."
      ],
      "metadata": {}
    },
    {
      "cell_type": "code",
      "source": [
        "from azureml.core.model import Model\r\n",
        "# Register model\r\n",
        "model = Model.register(workspace = ws,\r\n",
        "                        model_name = \"Heart_failure_prediction\",\r\n",
        "                        model_path = \"./automl_model.pkl\",\r\n",
        "                        description = \"Best AutoML Model\",)\r\n",
        "\r\n"
      ],
      "outputs": [
        {
          "output_type": "stream",
          "name": "stdout",
          "text": [
            "Registering model Heart_failure_prediction\n"
          ]
        }
      ],
      "execution_count": 2,
      "metadata": {
        "gather": {
          "logged": 1612125314037
        },
        "jupyter": {
          "outputs_hidden": false,
          "source_hidden": false
        },
        "nteract": {
          "transient": {
            "deleting": false
          }
        }
      }
    },
    {
      "cell_type": "code",
      "source": [
        "from azureml.core.model import InferenceConfig\r\n",
        "from azureml.core.webservice import AciWebservice\r\n",
        "from azureml.core.environment import Environment\r\n",
        "from azureml.core.conda_dependencies import CondaDependencies\r\n",
        "\r\n",
        "\r\n",
        "#defining an inference configuration\r\n",
        "service_name = 'heart-failure-automl'\r\n",
        "\r\n",
        "#setting up a curated environment\r\n",
        "env = Environment.get(ws, name=\"AzureML-AutoML\")\r\n",
        "\r\n",
        "#combining scoring script and environment in inference configuration\r\n",
        "inference_config = InferenceConfig(entry_script='scoring.py', environment=env)\r\n",
        "\r\n",
        "#deploy the model as a webservice\r\n",
        "from azureml.core.webservice import LocalWebservice, Webservice\r\n",
        "\r\n",
        "#set deployment configuration\r\n",
        "local_deployment_config = LocalWebservice.deploy_configuration(port=8000)\r\n",
        "service = Model.deploy(ws, \"heart-failure-automl\", [model], inference_config, local_deployment_config)\r\n",
        "\r\n",
        "print(service.state)\r\n",
        "\r\n",
        "aci_config = AciWebservice.deploy_configuration(cpu_cores=1, memory_gb=1, enable_app_insights=True, auth_enabled=True) #service.update\r\n",
        "\r\n",
        "service = Model.deploy(workspace=ws,\r\n",
        "                        name='heart-failure-automl',\r\n",
        "                        models=[model],\r\n",
        "                        inference_config=inference_config,\r\n",
        "                        deployment_config=aci_config,\r\n",
        "                        overwrite=True)\r\n",
        "service.wait_for_deployment(show_output=True)"
      ],
      "outputs": [
        {
          "output_type": "stream",
          "name": "stdout",
          "text": [
            "Downloading model Heart_failure_prediction:4 to /tmp/azureml_bqtvmmbd/Heart_failure_prediction/4\n",
            "Generating Docker build context.\n",
            "Package creation Succeeded\n",
            "Logging into Docker registry viennaglobal.azurecr.io\n",
            "Logging into Docker registry viennaglobal.azurecr.io\n",
            "Building Docker image from Dockerfile...\n",
            "Step 1/5 : FROM viennaglobal.azurecr.io/azureml/azureml_1eed3e6a679bbc599bfa3e074a25301a\n",
            " ---> 59311b131e1a\n",
            "Step 2/5 : COPY azureml-app /var/azureml-app\n",
            " ---> 0c0ba4332988\n",
            "Step 3/5 : RUN mkdir -p '/var/azureml-app' && echo eyJhY2NvdW50Q29udGV4dCI6eyJzdWJzY3JpcHRpb25JZCI6IjYxYzVjM2YwLTZkYzctNGVkOS1hN2YzLWM3MDRiMjBlM2IzMCIsInJlc291cmNlR3JvdXBOYW1lIjoiYW1sLXF1aWNrc3RhcnRzLTEzNjc2MyIsImFjY291bnROYW1lIjoicXVpY2stc3RhcnRzLXdzLTEzNjc2MyIsIndvcmtzcGFjZUlkIjoiN2ZiMDA2OWUtOGVjYy00ZjViLWIyNzktYjk2NDkzM2Q4MzZmIn0sIm1vZGVscyI6e30sIm1vZGVsc0luZm8iOnt9fQ== | base64 --decode > /var/azureml-app/model_config_map.json\n",
            " ---> Running in 0f406ad86942\n",
            " ---> 789bd08c3bd7\n",
            "Step 4/5 : RUN mv '/var/azureml-app/tmphwhntrjv.py' /var/azureml-app/main.py\n",
            " ---> Running in ad95a096ee22\n",
            " ---> 3d090bac59c7\n",
            "Step 5/5 : CMD [\"runsvdir\",\"/var/runit\"]\n",
            " ---> Running in b18066822965\n",
            " ---> 5a729417d9aa\n",
            "Successfully built 5a729417d9aa\n",
            "Successfully tagged heart-failure-automl:latest\n",
            "Container (name:funny_black, id:1131abce010b0e8a66147ee03ccf87f16db3826e4fc0908baf4f7dc02c6e9de6) cannot be killed.\n",
            "Container has been successfully cleaned up.\n",
            "Image sha256:459f320dc1189c234f494111ae8f39b2427b03e7c459fe10f2273b8f2f1f5ea8 successfully removed.\n",
            "Starting Docker container...\n",
            "Docker container running.\n",
            "deploying\n",
            "Tips: You can try get_logs(): https://aka.ms/debugimage#dockerlog or local deployment: https://aka.ms/debugimage#debug-locally to debug if deployment takes longer than 10 minutes.\n",
            "Running....\n",
            "Succeeded\n",
            "ACI service creation operation finished, operation \"Succeeded\"\n"
          ]
        }
      ],
      "execution_count": 8,
      "metadata": {
        "collapsed": true,
        "jupyter": {
          "source_hidden": false,
          "outputs_hidden": false
        },
        "nteract": {
          "transient": {
            "deleting": false
          }
        },
        "gather": {
          "logged": 1612127395877
        }
      }
    },
    {
      "cell_type": "code",
      "source": [
        "#retrieve deployed model uri\r\n",
        "print(service.scoring_uri)\r\n",
        "print(service.swagger_uri)"
      ],
      "outputs": [
        {
          "output_type": "stream",
          "name": "stdout",
          "text": [
            "http://b7300633-2535-49d8-8fa2-b7f6e10f0fb2.southcentralus.azurecontainer.io/score\n",
            "http://b7300633-2535-49d8-8fa2-b7f6e10f0fb2.southcentralus.azurecontainer.io/swagger.json\n"
          ]
        }
      ],
      "execution_count": 9,
      "metadata": {
        "collapsed": true,
        "jupyter": {
          "source_hidden": false,
          "outputs_hidden": false
        },
        "nteract": {
          "transient": {
            "deleting": false
          }
        },
        "gather": {
          "logged": 1612127536092
        }
      }
    },
    {
      "cell_type": "code",
      "source": [
        "#retrive primary key\r\n",
        "primary, secondary= service.get_keys()\r\n",
        "print(primary)"
      ],
      "outputs": [
        {
          "output_type": "stream",
          "name": "stdout",
          "text": [
            "8kbuKEuxxegpkAGZWtwaTKxVw7DzfGCc\n"
          ]
        }
      ],
      "execution_count": 10,
      "metadata": {
        "collapsed": true,
        "jupyter": {
          "source_hidden": false,
          "outputs_hidden": false
        },
        "nteract": {
          "transient": {
            "deleting": false
          }
        },
        "gather": {
          "logged": 1612127605206
        }
      }
    },
    {
      "cell_type": "markdown",
      "source": [
        "TODO: In the cell below, send a request to the web service you deployed to test it."
      ],
      "metadata": {
        "collapsed": true,
        "gather": {
          "logged": 1598431657736
        },
        "jupyter": {
          "outputs_hidden": false,
          "source_hidden": false
        },
        "nteract": {
          "transient": {
            "deleting": false
          }
        }
      }
    },
    {
      "cell_type": "code",
      "source": [
        "#Testing of the deployed webservice\r\n",
        "import requests\r\n",
        "import json\r\n",
        "\r\n",
        "# URL for the web service\r\n",
        "scoring_uri = 'http://b7300633-2535-49d8-8fa2-b7f6e10f0fb2.southcentralus.azurecontainer.io/score'\r\n",
        "# If the service is authenticated, set the key or token\r\n",
        "key = '8kbuKEuxxegpkAGZWtwaTKxVw7DzfGCc'\r\n",
        "\r\n",
        "# Two sets of data to score, so we get two results back\r\n",
        "data = {\"data\":\r\n",
        "        [\r\n",
        "            [\r\n",
        "               55,0,7861,0,38,0,263358.03,1.1,136,1,0,6],\r\n",
        "            [\r\n",
        "                60,0,68,0,20,0,119000,2.9,127,1,1,64]\r\n",
        "        ]\r\n",
        "        }\r\n",
        "# Convert to JSON string\r\n",
        "input_data = json.dumps(data)\r\n",
        "\r\n",
        "# Set the content type\r\n",
        "headers = {'Content-Type': 'application/json'}\r\n",
        "# If authentication is enabled, set the authorization header\r\n",
        "headers['Authorization'] = f'Bearer {primary}'\r\n",
        "\r\n",
        "# Make the request and display the response\r\n",
        "resp = requests.post(scoring_uri, input_data, headers=headers)\r\n",
        "print(resp.text)"
      ],
      "outputs": [
        {
          "output_type": "stream",
          "name": "stdout",
          "text": [
            "{}\n"
          ]
        }
      ],
      "execution_count": 17,
      "metadata": {
        "gather": {
          "logged": 1612128412555
        },
        "jupyter": {
          "outputs_hidden": false,
          "source_hidden": false
        },
        "nteract": {
          "transient": {
            "deleting": false
          }
        }
      }
    },
    {
      "cell_type": "markdown",
      "source": [
        "TODO: In the cell below, print the logs of the web service and delete the service"
      ],
      "metadata": {
        "collapsed": true,
        "gather": {
          "logged": 1598432765711
        },
        "jupyter": {
          "outputs_hidden": false,
          "source_hidden": false
        },
        "nteract": {
          "transient": {
            "deleting": false
          }
        }
      }
    },
    {
      "cell_type": "code",
      "source": [
        "#logs of the webservice\r\n",
        "logs=service.get_logs()\r\n",
        "print(logs)"
      ],
      "outputs": [],
      "execution_count": null,
      "metadata": {
        "jupyter": {
          "outputs_hidden": false,
          "source_hidden": false
        },
        "nteract": {
          "transient": {
            "deleting": false
          }
        }
      }
    },
    {
      "cell_type": "code",
      "source": [
        "#delete the deployed webservice\r\n",
        "service.delete()"
      ],
      "outputs": [],
      "execution_count": null,
      "metadata": {
        "collapsed": true,
        "jupyter": {
          "source_hidden": false,
          "outputs_hidden": false
        },
        "nteract": {
          "transient": {
            "deleting": false
          }
        }
      }
    }
  ],
  "metadata": {
    "kernel_info": {
      "name": "python3"
    },
    "kernelspec": {
      "name": "python3",
      "language": "python",
      "display_name": "Python 3"
    },
    "language_info": {
      "name": "python",
      "version": "3.6.9",
      "mimetype": "text/x-python",
      "codemirror_mode": {
        "name": "ipython",
        "version": 3
      },
      "pygments_lexer": "ipython3",
      "nbconvert_exporter": "python",
      "file_extension": ".py"
    },
    "nteract": {
      "version": "nteract-front-end@1.0.0"
    }
  },
  "nbformat": 4,
  "nbformat_minor": 2
}
